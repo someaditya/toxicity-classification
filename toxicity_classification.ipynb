{
  "nbformat": 4,
  "nbformat_minor": 0,
  "metadata": {
    "colab": {
      "name": "toxicity-classification.ipynb",
      "provenance": [],
      "collapsed_sections": [],
      "machine_shape": "hm",
      "authorship_tag": "ABX9TyPkMdZf58d54zu/etJLnNgk",
      "include_colab_link": true
    },
    "kernelspec": {
      "name": "python3",
      "display_name": "Python 3"
    },
    "widgets": {
      "application/vnd.jupyter.widget-state+json": {
        "b7570a8bab0747dbab156b87c9408b1c": {
          "model_module": "@jupyter-widgets/controls",
          "model_name": "HBoxModel",
          "state": {
            "_view_name": "HBoxView",
            "_dom_classes": [],
            "_model_name": "HBoxModel",
            "_view_module": "@jupyter-widgets/controls",
            "_model_module_version": "1.5.0",
            "_view_count": null,
            "_view_module_version": "1.5.0",
            "box_style": "",
            "layout": "IPY_MODEL_bccaa1c94ac64fa4900e8db67413a22a",
            "_model_module": "@jupyter-widgets/controls",
            "children": [
              "IPY_MODEL_23429c355f9942b1aed1a6732793b2d0",
              "IPY_MODEL_686c28c073db4b1a9063ed46885b7537"
            ]
          }
        },
        "bccaa1c94ac64fa4900e8db67413a22a": {
          "model_module": "@jupyter-widgets/base",
          "model_name": "LayoutModel",
          "state": {
            "_view_name": "LayoutView",
            "grid_template_rows": null,
            "right": null,
            "justify_content": null,
            "_view_module": "@jupyter-widgets/base",
            "overflow": null,
            "_model_module_version": "1.2.0",
            "_view_count": null,
            "flex_flow": null,
            "width": null,
            "min_width": null,
            "border": null,
            "align_items": null,
            "bottom": null,
            "_model_module": "@jupyter-widgets/base",
            "top": null,
            "grid_column": null,
            "overflow_y": null,
            "overflow_x": null,
            "grid_auto_flow": null,
            "grid_area": null,
            "grid_template_columns": null,
            "flex": null,
            "_model_name": "LayoutModel",
            "justify_items": null,
            "grid_row": null,
            "max_height": null,
            "align_content": null,
            "visibility": null,
            "align_self": null,
            "height": null,
            "min_height": null,
            "padding": null,
            "grid_auto_rows": null,
            "grid_gap": null,
            "max_width": null,
            "order": null,
            "_view_module_version": "1.2.0",
            "grid_template_areas": null,
            "object_position": null,
            "object_fit": null,
            "grid_auto_columns": null,
            "margin": null,
            "display": null,
            "left": null
          }
        },
        "23429c355f9942b1aed1a6732793b2d0": {
          "model_module": "@jupyter-widgets/controls",
          "model_name": "IntProgressModel",
          "state": {
            "_view_name": "ProgressView",
            "style": "IPY_MODEL_92e5eb874cf34234a0c6d21553b4f615",
            "_dom_classes": [],
            "description": "100%",
            "_model_name": "IntProgressModel",
            "bar_style": "success",
            "max": 159571,
            "_view_module": "@jupyter-widgets/controls",
            "_model_module_version": "1.5.0",
            "value": 159571,
            "_view_count": null,
            "_view_module_version": "1.5.0",
            "orientation": "horizontal",
            "min": 0,
            "description_tooltip": null,
            "_model_module": "@jupyter-widgets/controls",
            "layout": "IPY_MODEL_db6c4053352540e4800c0326580eb0da"
          }
        },
        "686c28c073db4b1a9063ed46885b7537": {
          "model_module": "@jupyter-widgets/controls",
          "model_name": "HTMLModel",
          "state": {
            "_view_name": "HTMLView",
            "style": "IPY_MODEL_48d7d9cb17df44529fe5232f23510f26",
            "_dom_classes": [],
            "description": "",
            "_model_name": "HTMLModel",
            "placeholder": "​",
            "_view_module": "@jupyter-widgets/controls",
            "_model_module_version": "1.5.0",
            "value": " 159571/159571 [02:16&lt;00:00, 1172.14it/s]",
            "_view_count": null,
            "_view_module_version": "1.5.0",
            "description_tooltip": null,
            "_model_module": "@jupyter-widgets/controls",
            "layout": "IPY_MODEL_37921883234e4c53abebb75d6426bbde"
          }
        },
        "92e5eb874cf34234a0c6d21553b4f615": {
          "model_module": "@jupyter-widgets/controls",
          "model_name": "ProgressStyleModel",
          "state": {
            "_view_name": "StyleView",
            "_model_name": "ProgressStyleModel",
            "description_width": "initial",
            "_view_module": "@jupyter-widgets/base",
            "_model_module_version": "1.5.0",
            "_view_count": null,
            "_view_module_version": "1.2.0",
            "bar_color": null,
            "_model_module": "@jupyter-widgets/controls"
          }
        },
        "db6c4053352540e4800c0326580eb0da": {
          "model_module": "@jupyter-widgets/base",
          "model_name": "LayoutModel",
          "state": {
            "_view_name": "LayoutView",
            "grid_template_rows": null,
            "right": null,
            "justify_content": null,
            "_view_module": "@jupyter-widgets/base",
            "overflow": null,
            "_model_module_version": "1.2.0",
            "_view_count": null,
            "flex_flow": null,
            "width": null,
            "min_width": null,
            "border": null,
            "align_items": null,
            "bottom": null,
            "_model_module": "@jupyter-widgets/base",
            "top": null,
            "grid_column": null,
            "overflow_y": null,
            "overflow_x": null,
            "grid_auto_flow": null,
            "grid_area": null,
            "grid_template_columns": null,
            "flex": null,
            "_model_name": "LayoutModel",
            "justify_items": null,
            "grid_row": null,
            "max_height": null,
            "align_content": null,
            "visibility": null,
            "align_self": null,
            "height": null,
            "min_height": null,
            "padding": null,
            "grid_auto_rows": null,
            "grid_gap": null,
            "max_width": null,
            "order": null,
            "_view_module_version": "1.2.0",
            "grid_template_areas": null,
            "object_position": null,
            "object_fit": null,
            "grid_auto_columns": null,
            "margin": null,
            "display": null,
            "left": null
          }
        },
        "48d7d9cb17df44529fe5232f23510f26": {
          "model_module": "@jupyter-widgets/controls",
          "model_name": "DescriptionStyleModel",
          "state": {
            "_view_name": "StyleView",
            "_model_name": "DescriptionStyleModel",
            "description_width": "",
            "_view_module": "@jupyter-widgets/base",
            "_model_module_version": "1.5.0",
            "_view_count": null,
            "_view_module_version": "1.2.0",
            "_model_module": "@jupyter-widgets/controls"
          }
        },
        "37921883234e4c53abebb75d6426bbde": {
          "model_module": "@jupyter-widgets/base",
          "model_name": "LayoutModel",
          "state": {
            "_view_name": "LayoutView",
            "grid_template_rows": null,
            "right": null,
            "justify_content": null,
            "_view_module": "@jupyter-widgets/base",
            "overflow": null,
            "_model_module_version": "1.2.0",
            "_view_count": null,
            "flex_flow": null,
            "width": null,
            "min_width": null,
            "border": null,
            "align_items": null,
            "bottom": null,
            "_model_module": "@jupyter-widgets/base",
            "top": null,
            "grid_column": null,
            "overflow_y": null,
            "overflow_x": null,
            "grid_auto_flow": null,
            "grid_area": null,
            "grid_template_columns": null,
            "flex": null,
            "_model_name": "LayoutModel",
            "justify_items": null,
            "grid_row": null,
            "max_height": null,
            "align_content": null,
            "visibility": null,
            "align_self": null,
            "height": null,
            "min_height": null,
            "padding": null,
            "grid_auto_rows": null,
            "grid_gap": null,
            "max_width": null,
            "order": null,
            "_view_module_version": "1.2.0",
            "grid_template_areas": null,
            "object_position": null,
            "object_fit": null,
            "grid_auto_columns": null,
            "margin": null,
            "display": null,
            "left": null
          }
        },
        "a325182fbf1a4b2aaa63dd1280305c1c": {
          "model_module": "@jupyter-widgets/controls",
          "model_name": "HBoxModel",
          "state": {
            "_view_name": "HBoxView",
            "_dom_classes": [],
            "_model_name": "HBoxModel",
            "_view_module": "@jupyter-widgets/controls",
            "_model_module_version": "1.5.0",
            "_view_count": null,
            "_view_module_version": "1.5.0",
            "box_style": "",
            "layout": "IPY_MODEL_a0f38d06189a47c6933fb28f102d3e91",
            "_model_module": "@jupyter-widgets/controls",
            "children": [
              "IPY_MODEL_6ea7622993e24c22bff5758699ee7e7f",
              "IPY_MODEL_bdf33437c22a4902972aa6e252dc036d"
            ]
          }
        },
        "a0f38d06189a47c6933fb28f102d3e91": {
          "model_module": "@jupyter-widgets/base",
          "model_name": "LayoutModel",
          "state": {
            "_view_name": "LayoutView",
            "grid_template_rows": null,
            "right": null,
            "justify_content": null,
            "_view_module": "@jupyter-widgets/base",
            "overflow": null,
            "_model_module_version": "1.2.0",
            "_view_count": null,
            "flex_flow": null,
            "width": null,
            "min_width": null,
            "border": null,
            "align_items": null,
            "bottom": null,
            "_model_module": "@jupyter-widgets/base",
            "top": null,
            "grid_column": null,
            "overflow_y": null,
            "overflow_x": null,
            "grid_auto_flow": null,
            "grid_area": null,
            "grid_template_columns": null,
            "flex": null,
            "_model_name": "LayoutModel",
            "justify_items": null,
            "grid_row": null,
            "max_height": null,
            "align_content": null,
            "visibility": null,
            "align_self": null,
            "height": null,
            "min_height": null,
            "padding": null,
            "grid_auto_rows": null,
            "grid_gap": null,
            "max_width": null,
            "order": null,
            "_view_module_version": "1.2.0",
            "grid_template_areas": null,
            "object_position": null,
            "object_fit": null,
            "grid_auto_columns": null,
            "margin": null,
            "display": null,
            "left": null
          }
        },
        "6ea7622993e24c22bff5758699ee7e7f": {
          "model_module": "@jupyter-widgets/controls",
          "model_name": "IntProgressModel",
          "state": {
            "_view_name": "ProgressView",
            "style": "IPY_MODEL_ffbcf3c9feb04dc0b390d0fa26057f57",
            "_dom_classes": [],
            "description": "100%",
            "_model_name": "IntProgressModel",
            "bar_style": "success",
            "max": 159571,
            "_view_module": "@jupyter-widgets/controls",
            "_model_module_version": "1.5.0",
            "value": 159571,
            "_view_count": null,
            "_view_module_version": "1.5.0",
            "orientation": "horizontal",
            "min": 0,
            "description_tooltip": null,
            "_model_module": "@jupyter-widgets/controls",
            "layout": "IPY_MODEL_3c061f1f9c1645f0bc679971817041ef"
          }
        },
        "bdf33437c22a4902972aa6e252dc036d": {
          "model_module": "@jupyter-widgets/controls",
          "model_name": "HTMLModel",
          "state": {
            "_view_name": "HTMLView",
            "style": "IPY_MODEL_7b776accb7f64bd2a5137860535d5af4",
            "_dom_classes": [],
            "description": "",
            "_model_name": "HTMLModel",
            "placeholder": "​",
            "_view_module": "@jupyter-widgets/controls",
            "_model_module_version": "1.5.0",
            "value": " 159571/159571 [00:03&lt;00:00, 49403.85it/s]",
            "_view_count": null,
            "_view_module_version": "1.5.0",
            "description_tooltip": null,
            "_model_module": "@jupyter-widgets/controls",
            "layout": "IPY_MODEL_a08791d60e824be48be656e39b67d09b"
          }
        },
        "ffbcf3c9feb04dc0b390d0fa26057f57": {
          "model_module": "@jupyter-widgets/controls",
          "model_name": "ProgressStyleModel",
          "state": {
            "_view_name": "StyleView",
            "_model_name": "ProgressStyleModel",
            "description_width": "initial",
            "_view_module": "@jupyter-widgets/base",
            "_model_module_version": "1.5.0",
            "_view_count": null,
            "_view_module_version": "1.2.0",
            "bar_color": null,
            "_model_module": "@jupyter-widgets/controls"
          }
        },
        "3c061f1f9c1645f0bc679971817041ef": {
          "model_module": "@jupyter-widgets/base",
          "model_name": "LayoutModel",
          "state": {
            "_view_name": "LayoutView",
            "grid_template_rows": null,
            "right": null,
            "justify_content": null,
            "_view_module": "@jupyter-widgets/base",
            "overflow": null,
            "_model_module_version": "1.2.0",
            "_view_count": null,
            "flex_flow": null,
            "width": null,
            "min_width": null,
            "border": null,
            "align_items": null,
            "bottom": null,
            "_model_module": "@jupyter-widgets/base",
            "top": null,
            "grid_column": null,
            "overflow_y": null,
            "overflow_x": null,
            "grid_auto_flow": null,
            "grid_area": null,
            "grid_template_columns": null,
            "flex": null,
            "_model_name": "LayoutModel",
            "justify_items": null,
            "grid_row": null,
            "max_height": null,
            "align_content": null,
            "visibility": null,
            "align_self": null,
            "height": null,
            "min_height": null,
            "padding": null,
            "grid_auto_rows": null,
            "grid_gap": null,
            "max_width": null,
            "order": null,
            "_view_module_version": "1.2.0",
            "grid_template_areas": null,
            "object_position": null,
            "object_fit": null,
            "grid_auto_columns": null,
            "margin": null,
            "display": null,
            "left": null
          }
        },
        "7b776accb7f64bd2a5137860535d5af4": {
          "model_module": "@jupyter-widgets/controls",
          "model_name": "DescriptionStyleModel",
          "state": {
            "_view_name": "StyleView",
            "_model_name": "DescriptionStyleModel",
            "description_width": "",
            "_view_module": "@jupyter-widgets/base",
            "_model_module_version": "1.5.0",
            "_view_count": null,
            "_view_module_version": "1.2.0",
            "_model_module": "@jupyter-widgets/controls"
          }
        },
        "a08791d60e824be48be656e39b67d09b": {
          "model_module": "@jupyter-widgets/base",
          "model_name": "LayoutModel",
          "state": {
            "_view_name": "LayoutView",
            "grid_template_rows": null,
            "right": null,
            "justify_content": null,
            "_view_module": "@jupyter-widgets/base",
            "overflow": null,
            "_model_module_version": "1.2.0",
            "_view_count": null,
            "flex_flow": null,
            "width": null,
            "min_width": null,
            "border": null,
            "align_items": null,
            "bottom": null,
            "_model_module": "@jupyter-widgets/base",
            "top": null,
            "grid_column": null,
            "overflow_y": null,
            "overflow_x": null,
            "grid_auto_flow": null,
            "grid_area": null,
            "grid_template_columns": null,
            "flex": null,
            "_model_name": "LayoutModel",
            "justify_items": null,
            "grid_row": null,
            "max_height": null,
            "align_content": null,
            "visibility": null,
            "align_self": null,
            "height": null,
            "min_height": null,
            "padding": null,
            "grid_auto_rows": null,
            "grid_gap": null,
            "max_width": null,
            "order": null,
            "_view_module_version": "1.2.0",
            "grid_template_areas": null,
            "object_position": null,
            "object_fit": null,
            "grid_auto_columns": null,
            "margin": null,
            "display": null,
            "left": null
          }
        },
        "a6abeeb8cc274c69b7c8e4ddf5e42825": {
          "model_module": "@jupyter-widgets/controls",
          "model_name": "HBoxModel",
          "state": {
            "_view_name": "HBoxView",
            "_dom_classes": [],
            "_model_name": "HBoxModel",
            "_view_module": "@jupyter-widgets/controls",
            "_model_module_version": "1.5.0",
            "_view_count": null,
            "_view_module_version": "1.5.0",
            "box_style": "",
            "layout": "IPY_MODEL_61a2ea74956b4825917beefbcea30dc5",
            "_model_module": "@jupyter-widgets/controls",
            "children": [
              "IPY_MODEL_57396b694c5e42afaf9c4d6793876f44",
              "IPY_MODEL_127acae0d13d4a54949bba065c799a95"
            ]
          }
        },
        "61a2ea74956b4825917beefbcea30dc5": {
          "model_module": "@jupyter-widgets/base",
          "model_name": "LayoutModel",
          "state": {
            "_view_name": "LayoutView",
            "grid_template_rows": null,
            "right": null,
            "justify_content": null,
            "_view_module": "@jupyter-widgets/base",
            "overflow": null,
            "_model_module_version": "1.2.0",
            "_view_count": null,
            "flex_flow": null,
            "width": null,
            "min_width": null,
            "border": null,
            "align_items": null,
            "bottom": null,
            "_model_module": "@jupyter-widgets/base",
            "top": null,
            "grid_column": null,
            "overflow_y": null,
            "overflow_x": null,
            "grid_auto_flow": null,
            "grid_area": null,
            "grid_template_columns": null,
            "flex": null,
            "_model_name": "LayoutModel",
            "justify_items": null,
            "grid_row": null,
            "max_height": null,
            "align_content": null,
            "visibility": null,
            "align_self": null,
            "height": null,
            "min_height": null,
            "padding": null,
            "grid_auto_rows": null,
            "grid_gap": null,
            "max_width": null,
            "order": null,
            "_view_module_version": "1.2.0",
            "grid_template_areas": null,
            "object_position": null,
            "object_fit": null,
            "grid_auto_columns": null,
            "margin": null,
            "display": null,
            "left": null
          }
        },
        "57396b694c5e42afaf9c4d6793876f44": {
          "model_module": "@jupyter-widgets/controls",
          "model_name": "IntProgressModel",
          "state": {
            "_view_name": "ProgressView",
            "style": "IPY_MODEL_139c2c3f86ee4732ac5c1bffe12f61c0",
            "_dom_classes": [],
            "description": "100%",
            "_model_name": "IntProgressModel",
            "bar_style": "success",
            "max": 532299,
            "_view_module": "@jupyter-widgets/controls",
            "_model_module_version": "1.5.0",
            "value": 532299,
            "_view_count": null,
            "_view_module_version": "1.5.0",
            "orientation": "horizontal",
            "min": 0,
            "description_tooltip": null,
            "_model_module": "@jupyter-widgets/controls",
            "layout": "IPY_MODEL_f6bb789c74ac49bfa765f793aceb7db2"
          }
        },
        "127acae0d13d4a54949bba065c799a95": {
          "model_module": "@jupyter-widgets/controls",
          "model_name": "HTMLModel",
          "state": {
            "_view_name": "HTMLView",
            "style": "IPY_MODEL_4b659522b255400ba147c1dc2b954a74",
            "_dom_classes": [],
            "description": "",
            "_model_name": "HTMLModel",
            "placeholder": "​",
            "_view_module": "@jupyter-widgets/controls",
            "_model_module_version": "1.5.0",
            "value": " 532299/532299 [00:00&lt;00:00, 647568.87it/s]",
            "_view_count": null,
            "_view_module_version": "1.5.0",
            "description_tooltip": null,
            "_model_module": "@jupyter-widgets/controls",
            "layout": "IPY_MODEL_61cc5ef461534d50b92752502dea96f2"
          }
        },
        "139c2c3f86ee4732ac5c1bffe12f61c0": {
          "model_module": "@jupyter-widgets/controls",
          "model_name": "ProgressStyleModel",
          "state": {
            "_view_name": "StyleView",
            "_model_name": "ProgressStyleModel",
            "description_width": "initial",
            "_view_module": "@jupyter-widgets/base",
            "_model_module_version": "1.5.0",
            "_view_count": null,
            "_view_module_version": "1.2.0",
            "bar_color": null,
            "_model_module": "@jupyter-widgets/controls"
          }
        },
        "f6bb789c74ac49bfa765f793aceb7db2": {
          "model_module": "@jupyter-widgets/base",
          "model_name": "LayoutModel",
          "state": {
            "_view_name": "LayoutView",
            "grid_template_rows": null,
            "right": null,
            "justify_content": null,
            "_view_module": "@jupyter-widgets/base",
            "overflow": null,
            "_model_module_version": "1.2.0",
            "_view_count": null,
            "flex_flow": null,
            "width": null,
            "min_width": null,
            "border": null,
            "align_items": null,
            "bottom": null,
            "_model_module": "@jupyter-widgets/base",
            "top": null,
            "grid_column": null,
            "overflow_y": null,
            "overflow_x": null,
            "grid_auto_flow": null,
            "grid_area": null,
            "grid_template_columns": null,
            "flex": null,
            "_model_name": "LayoutModel",
            "justify_items": null,
            "grid_row": null,
            "max_height": null,
            "align_content": null,
            "visibility": null,
            "align_self": null,
            "height": null,
            "min_height": null,
            "padding": null,
            "grid_auto_rows": null,
            "grid_gap": null,
            "max_width": null,
            "order": null,
            "_view_module_version": "1.2.0",
            "grid_template_areas": null,
            "object_position": null,
            "object_fit": null,
            "grid_auto_columns": null,
            "margin": null,
            "display": null,
            "left": null
          }
        },
        "4b659522b255400ba147c1dc2b954a74": {
          "model_module": "@jupyter-widgets/controls",
          "model_name": "DescriptionStyleModel",
          "state": {
            "_view_name": "StyleView",
            "_model_name": "DescriptionStyleModel",
            "description_width": "",
            "_view_module": "@jupyter-widgets/base",
            "_model_module_version": "1.5.0",
            "_view_count": null,
            "_view_module_version": "1.2.0",
            "_model_module": "@jupyter-widgets/controls"
          }
        },
        "61cc5ef461534d50b92752502dea96f2": {
          "model_module": "@jupyter-widgets/base",
          "model_name": "LayoutModel",
          "state": {
            "_view_name": "LayoutView",
            "grid_template_rows": null,
            "right": null,
            "justify_content": null,
            "_view_module": "@jupyter-widgets/base",
            "overflow": null,
            "_model_module_version": "1.2.0",
            "_view_count": null,
            "flex_flow": null,
            "width": null,
            "min_width": null,
            "border": null,
            "align_items": null,
            "bottom": null,
            "_model_module": "@jupyter-widgets/base",
            "top": null,
            "grid_column": null,
            "overflow_y": null,
            "overflow_x": null,
            "grid_auto_flow": null,
            "grid_area": null,
            "grid_template_columns": null,
            "flex": null,
            "_model_name": "LayoutModel",
            "justify_items": null,
            "grid_row": null,
            "max_height": null,
            "align_content": null,
            "visibility": null,
            "align_self": null,
            "height": null,
            "min_height": null,
            "padding": null,
            "grid_auto_rows": null,
            "grid_gap": null,
            "max_width": null,
            "order": null,
            "_view_module_version": "1.2.0",
            "grid_template_areas": null,
            "object_position": null,
            "object_fit": null,
            "grid_auto_columns": null,
            "margin": null,
            "display": null,
            "left": null
          }
        },
        "140c2af255b34442ae0cf363453e94df": {
          "model_module": "@jupyter-widgets/controls",
          "model_name": "HBoxModel",
          "state": {
            "_view_name": "HBoxView",
            "_dom_classes": [],
            "_model_name": "HBoxModel",
            "_view_module": "@jupyter-widgets/controls",
            "_model_module_version": "1.5.0",
            "_view_count": null,
            "_view_module_version": "1.5.0",
            "box_style": "",
            "layout": "IPY_MODEL_68f9c8891a194b378565e73206219627",
            "_model_module": "@jupyter-widgets/controls",
            "children": [
              "IPY_MODEL_f591cd875ef94b94a26adf399f74fc4a",
              "IPY_MODEL_1b9bd3973f344d6e85ae5b47a8b19226"
            ]
          }
        },
        "68f9c8891a194b378565e73206219627": {
          "model_module": "@jupyter-widgets/base",
          "model_name": "LayoutModel",
          "state": {
            "_view_name": "LayoutView",
            "grid_template_rows": null,
            "right": null,
            "justify_content": null,
            "_view_module": "@jupyter-widgets/base",
            "overflow": null,
            "_model_module_version": "1.2.0",
            "_view_count": null,
            "flex_flow": null,
            "width": null,
            "min_width": null,
            "border": null,
            "align_items": null,
            "bottom": null,
            "_model_module": "@jupyter-widgets/base",
            "top": null,
            "grid_column": null,
            "overflow_y": null,
            "overflow_x": null,
            "grid_auto_flow": null,
            "grid_area": null,
            "grid_template_columns": null,
            "flex": null,
            "_model_name": "LayoutModel",
            "justify_items": null,
            "grid_row": null,
            "max_height": null,
            "align_content": null,
            "visibility": null,
            "align_self": null,
            "height": null,
            "min_height": null,
            "padding": null,
            "grid_auto_rows": null,
            "grid_gap": null,
            "max_width": null,
            "order": null,
            "_view_module_version": "1.2.0",
            "grid_template_areas": null,
            "object_position": null,
            "object_fit": null,
            "grid_auto_columns": null,
            "margin": null,
            "display": null,
            "left": null
          }
        },
        "f591cd875ef94b94a26adf399f74fc4a": {
          "model_module": "@jupyter-widgets/controls",
          "model_name": "FloatProgressModel",
          "state": {
            "_view_name": "ProgressView",
            "style": "IPY_MODEL_8f80d596bb6740fda701c7b24422edd7",
            "_dom_classes": [],
            "description": "100%",
            "_model_name": "FloatProgressModel",
            "bar_style": "success",
            "max": 159571,
            "_view_module": "@jupyter-widgets/controls",
            "_model_module_version": "1.5.0",
            "value": 159571,
            "_view_count": null,
            "_view_module_version": "1.5.0",
            "orientation": "horizontal",
            "min": 0,
            "description_tooltip": null,
            "_model_module": "@jupyter-widgets/controls",
            "layout": "IPY_MODEL_e00800dc8fed43c196e94a23c27a2fdd"
          }
        },
        "1b9bd3973f344d6e85ae5b47a8b19226": {
          "model_module": "@jupyter-widgets/controls",
          "model_name": "HTMLModel",
          "state": {
            "_view_name": "HTMLView",
            "style": "IPY_MODEL_e106e6e7dc434196ba12d955c5399c5b",
            "_dom_classes": [],
            "description": "",
            "_model_name": "HTMLModel",
            "placeholder": "​",
            "_view_module": "@jupyter-widgets/controls",
            "_model_module_version": "1.5.0",
            "value": " 159571/159571 [00:00&lt;00:00, 194768.23it/s]",
            "_view_count": null,
            "_view_module_version": "1.5.0",
            "description_tooltip": null,
            "_model_module": "@jupyter-widgets/controls",
            "layout": "IPY_MODEL_e5fa7c278cdd49bab286ca68426c75fe"
          }
        },
        "8f80d596bb6740fda701c7b24422edd7": {
          "model_module": "@jupyter-widgets/controls",
          "model_name": "ProgressStyleModel",
          "state": {
            "_view_name": "StyleView",
            "_model_name": "ProgressStyleModel",
            "description_width": "initial",
            "_view_module": "@jupyter-widgets/base",
            "_model_module_version": "1.5.0",
            "_view_count": null,
            "_view_module_version": "1.2.0",
            "bar_color": null,
            "_model_module": "@jupyter-widgets/controls"
          }
        },
        "e00800dc8fed43c196e94a23c27a2fdd": {
          "model_module": "@jupyter-widgets/base",
          "model_name": "LayoutModel",
          "state": {
            "_view_name": "LayoutView",
            "grid_template_rows": null,
            "right": null,
            "justify_content": null,
            "_view_module": "@jupyter-widgets/base",
            "overflow": null,
            "_model_module_version": "1.2.0",
            "_view_count": null,
            "flex_flow": null,
            "width": null,
            "min_width": null,
            "border": null,
            "align_items": null,
            "bottom": null,
            "_model_module": "@jupyter-widgets/base",
            "top": null,
            "grid_column": null,
            "overflow_y": null,
            "overflow_x": null,
            "grid_auto_flow": null,
            "grid_area": null,
            "grid_template_columns": null,
            "flex": null,
            "_model_name": "LayoutModel",
            "justify_items": null,
            "grid_row": null,
            "max_height": null,
            "align_content": null,
            "visibility": null,
            "align_self": null,
            "height": null,
            "min_height": null,
            "padding": null,
            "grid_auto_rows": null,
            "grid_gap": null,
            "max_width": null,
            "order": null,
            "_view_module_version": "1.2.0",
            "grid_template_areas": null,
            "object_position": null,
            "object_fit": null,
            "grid_auto_columns": null,
            "margin": null,
            "display": null,
            "left": null
          }
        },
        "e106e6e7dc434196ba12d955c5399c5b": {
          "model_module": "@jupyter-widgets/controls",
          "model_name": "DescriptionStyleModel",
          "state": {
            "_view_name": "StyleView",
            "_model_name": "DescriptionStyleModel",
            "description_width": "",
            "_view_module": "@jupyter-widgets/base",
            "_model_module_version": "1.5.0",
            "_view_count": null,
            "_view_module_version": "1.2.0",
            "_model_module": "@jupyter-widgets/controls"
          }
        },
        "e5fa7c278cdd49bab286ca68426c75fe": {
          "model_module": "@jupyter-widgets/base",
          "model_name": "LayoutModel",
          "state": {
            "_view_name": "LayoutView",
            "grid_template_rows": null,
            "right": null,
            "justify_content": null,
            "_view_module": "@jupyter-widgets/base",
            "overflow": null,
            "_model_module_version": "1.2.0",
            "_view_count": null,
            "flex_flow": null,
            "width": null,
            "min_width": null,
            "border": null,
            "align_items": null,
            "bottom": null,
            "_model_module": "@jupyter-widgets/base",
            "top": null,
            "grid_column": null,
            "overflow_y": null,
            "overflow_x": null,
            "grid_auto_flow": null,
            "grid_area": null,
            "grid_template_columns": null,
            "flex": null,
            "_model_name": "LayoutModel",
            "justify_items": null,
            "grid_row": null,
            "max_height": null,
            "align_content": null,
            "visibility": null,
            "align_self": null,
            "height": null,
            "min_height": null,
            "padding": null,
            "grid_auto_rows": null,
            "grid_gap": null,
            "max_width": null,
            "order": null,
            "_view_module_version": "1.2.0",
            "grid_template_areas": null,
            "object_position": null,
            "object_fit": null,
            "grid_auto_columns": null,
            "margin": null,
            "display": null,
            "left": null
          }
        },
        "1e740572e4e743eca069df78cfc95f6c": {
          "model_module": "@jupyter-widgets/controls",
          "model_name": "HBoxModel",
          "state": {
            "_view_name": "HBoxView",
            "_dom_classes": [],
            "_model_name": "HBoxModel",
            "_view_module": "@jupyter-widgets/controls",
            "_model_module_version": "1.5.0",
            "_view_count": null,
            "_view_module_version": "1.5.0",
            "box_style": "",
            "layout": "IPY_MODEL_82ec634d86ce4aefb5d25145768ebb10",
            "_model_module": "@jupyter-widgets/controls",
            "children": [
              "IPY_MODEL_0e46ff15d5564c29ae2f3e94d422fa42",
              "IPY_MODEL_c7c8694d6f3a4411aa31915d50d930fb"
            ]
          }
        },
        "82ec634d86ce4aefb5d25145768ebb10": {
          "model_module": "@jupyter-widgets/base",
          "model_name": "LayoutModel",
          "state": {
            "_view_name": "LayoutView",
            "grid_template_rows": null,
            "right": null,
            "justify_content": null,
            "_view_module": "@jupyter-widgets/base",
            "overflow": null,
            "_model_module_version": "1.2.0",
            "_view_count": null,
            "flex_flow": null,
            "width": null,
            "min_width": null,
            "border": null,
            "align_items": null,
            "bottom": null,
            "_model_module": "@jupyter-widgets/base",
            "top": null,
            "grid_column": null,
            "overflow_y": null,
            "overflow_x": null,
            "grid_auto_flow": null,
            "grid_area": null,
            "grid_template_columns": null,
            "flex": null,
            "_model_name": "LayoutModel",
            "justify_items": null,
            "grid_row": null,
            "max_height": null,
            "align_content": null,
            "visibility": null,
            "align_self": null,
            "height": null,
            "min_height": null,
            "padding": null,
            "grid_auto_rows": null,
            "grid_gap": null,
            "max_width": null,
            "order": null,
            "_view_module_version": "1.2.0",
            "grid_template_areas": null,
            "object_position": null,
            "object_fit": null,
            "grid_auto_columns": null,
            "margin": null,
            "display": null,
            "left": null
          }
        },
        "0e46ff15d5564c29ae2f3e94d422fa42": {
          "model_module": "@jupyter-widgets/controls",
          "model_name": "FloatProgressModel",
          "state": {
            "_view_name": "ProgressView",
            "style": "IPY_MODEL_8482016188734f6c9ffda7bee466af71",
            "_dom_classes": [],
            "description": "100%",
            "_model_name": "FloatProgressModel",
            "bar_style": "success",
            "max": 153164,
            "_view_module": "@jupyter-widgets/controls",
            "_model_module_version": "1.5.0",
            "value": 153164,
            "_view_count": null,
            "_view_module_version": "1.5.0",
            "orientation": "horizontal",
            "min": 0,
            "description_tooltip": null,
            "_model_module": "@jupyter-widgets/controls",
            "layout": "IPY_MODEL_b035e270fa284c739e6a2877e5b02032"
          }
        },
        "c7c8694d6f3a4411aa31915d50d930fb": {
          "model_module": "@jupyter-widgets/controls",
          "model_name": "HTMLModel",
          "state": {
            "_view_name": "HTMLView",
            "style": "IPY_MODEL_4896ad9146814a089c9345097b6b1cb7",
            "_dom_classes": [],
            "description": "",
            "_model_name": "HTMLModel",
            "placeholder": "​",
            "_view_module": "@jupyter-widgets/controls",
            "_model_module_version": "1.5.0",
            "value": " 153164/153164 [00:00&lt;00:00, 390339.22it/s]",
            "_view_count": null,
            "_view_module_version": "1.5.0",
            "description_tooltip": null,
            "_model_module": "@jupyter-widgets/controls",
            "layout": "IPY_MODEL_7d3e0fe7ad914c06a19219fdd712caac"
          }
        },
        "8482016188734f6c9ffda7bee466af71": {
          "model_module": "@jupyter-widgets/controls",
          "model_name": "ProgressStyleModel",
          "state": {
            "_view_name": "StyleView",
            "_model_name": "ProgressStyleModel",
            "description_width": "initial",
            "_view_module": "@jupyter-widgets/base",
            "_model_module_version": "1.5.0",
            "_view_count": null,
            "_view_module_version": "1.2.0",
            "bar_color": null,
            "_model_module": "@jupyter-widgets/controls"
          }
        },
        "b035e270fa284c739e6a2877e5b02032": {
          "model_module": "@jupyter-widgets/base",
          "model_name": "LayoutModel",
          "state": {
            "_view_name": "LayoutView",
            "grid_template_rows": null,
            "right": null,
            "justify_content": null,
            "_view_module": "@jupyter-widgets/base",
            "overflow": null,
            "_model_module_version": "1.2.0",
            "_view_count": null,
            "flex_flow": null,
            "width": null,
            "min_width": null,
            "border": null,
            "align_items": null,
            "bottom": null,
            "_model_module": "@jupyter-widgets/base",
            "top": null,
            "grid_column": null,
            "overflow_y": null,
            "overflow_x": null,
            "grid_auto_flow": null,
            "grid_area": null,
            "grid_template_columns": null,
            "flex": null,
            "_model_name": "LayoutModel",
            "justify_items": null,
            "grid_row": null,
            "max_height": null,
            "align_content": null,
            "visibility": null,
            "align_self": null,
            "height": null,
            "min_height": null,
            "padding": null,
            "grid_auto_rows": null,
            "grid_gap": null,
            "max_width": null,
            "order": null,
            "_view_module_version": "1.2.0",
            "grid_template_areas": null,
            "object_position": null,
            "object_fit": null,
            "grid_auto_columns": null,
            "margin": null,
            "display": null,
            "left": null
          }
        },
        "4896ad9146814a089c9345097b6b1cb7": {
          "model_module": "@jupyter-widgets/controls",
          "model_name": "DescriptionStyleModel",
          "state": {
            "_view_name": "StyleView",
            "_model_name": "DescriptionStyleModel",
            "description_width": "",
            "_view_module": "@jupyter-widgets/base",
            "_model_module_version": "1.5.0",
            "_view_count": null,
            "_view_module_version": "1.2.0",
            "_model_module": "@jupyter-widgets/controls"
          }
        },
        "7d3e0fe7ad914c06a19219fdd712caac": {
          "model_module": "@jupyter-widgets/base",
          "model_name": "LayoutModel",
          "state": {
            "_view_name": "LayoutView",
            "grid_template_rows": null,
            "right": null,
            "justify_content": null,
            "_view_module": "@jupyter-widgets/base",
            "overflow": null,
            "_model_module_version": "1.2.0",
            "_view_count": null,
            "flex_flow": null,
            "width": null,
            "min_width": null,
            "border": null,
            "align_items": null,
            "bottom": null,
            "_model_module": "@jupyter-widgets/base",
            "top": null,
            "grid_column": null,
            "overflow_y": null,
            "overflow_x": null,
            "grid_auto_flow": null,
            "grid_area": null,
            "grid_template_columns": null,
            "flex": null,
            "_model_name": "LayoutModel",
            "justify_items": null,
            "grid_row": null,
            "max_height": null,
            "align_content": null,
            "visibility": null,
            "align_self": null,
            "height": null,
            "min_height": null,
            "padding": null,
            "grid_auto_rows": null,
            "grid_gap": null,
            "max_width": null,
            "order": null,
            "_view_module_version": "1.2.0",
            "grid_template_areas": null,
            "object_position": null,
            "object_fit": null,
            "grid_auto_columns": null,
            "margin": null,
            "display": null,
            "left": null
          }
        },
        "6b56df2e0fe0418fa1c22a1ebd8f279a": {
          "model_module": "@jupyter-widgets/controls",
          "model_name": "HBoxModel",
          "state": {
            "_view_name": "HBoxView",
            "_dom_classes": [],
            "_model_name": "HBoxModel",
            "_view_module": "@jupyter-widgets/controls",
            "_model_module_version": "1.5.0",
            "_view_count": null,
            "_view_module_version": "1.5.0",
            "box_style": "",
            "layout": "IPY_MODEL_e4aee3d5648143909fce22ced09938ab",
            "_model_module": "@jupyter-widgets/controls",
            "children": [
              "IPY_MODEL_cebdc38dab39474dabc9d2ecbd178f0b",
              "IPY_MODEL_fdbcdc1d1490495d90cebeb2d7781ae7"
            ]
          }
        },
        "e4aee3d5648143909fce22ced09938ab": {
          "model_module": "@jupyter-widgets/base",
          "model_name": "LayoutModel",
          "state": {
            "_view_name": "LayoutView",
            "grid_template_rows": null,
            "right": null,
            "justify_content": null,
            "_view_module": "@jupyter-widgets/base",
            "overflow": null,
            "_model_module_version": "1.2.0",
            "_view_count": null,
            "flex_flow": null,
            "width": null,
            "min_width": null,
            "border": null,
            "align_items": null,
            "bottom": null,
            "_model_module": "@jupyter-widgets/base",
            "top": null,
            "grid_column": null,
            "overflow_y": null,
            "overflow_x": null,
            "grid_auto_flow": null,
            "grid_area": null,
            "grid_template_columns": null,
            "flex": null,
            "_model_name": "LayoutModel",
            "justify_items": null,
            "grid_row": null,
            "max_height": null,
            "align_content": null,
            "visibility": null,
            "align_self": null,
            "height": null,
            "min_height": null,
            "padding": null,
            "grid_auto_rows": null,
            "grid_gap": null,
            "max_width": null,
            "order": null,
            "_view_module_version": "1.2.0",
            "grid_template_areas": null,
            "object_position": null,
            "object_fit": null,
            "grid_auto_columns": null,
            "margin": null,
            "display": null,
            "left": null
          }
        },
        "cebdc38dab39474dabc9d2ecbd178f0b": {
          "model_module": "@jupyter-widgets/controls",
          "model_name": "FloatProgressModel",
          "state": {
            "_view_name": "ProgressView",
            "style": "IPY_MODEL_27a580ce576c4fceb2c06751d19aa09e",
            "_dom_classes": [],
            "description": "100%",
            "_model_name": "FloatProgressModel",
            "bar_style": "success",
            "max": 159571,
            "_view_module": "@jupyter-widgets/controls",
            "_model_module_version": "1.5.0",
            "value": 159571,
            "_view_count": null,
            "_view_module_version": "1.5.0",
            "orientation": "horizontal",
            "min": 0,
            "description_tooltip": null,
            "_model_module": "@jupyter-widgets/controls",
            "layout": "IPY_MODEL_02540d69323b43b1a955a791b158475b"
          }
        },
        "fdbcdc1d1490495d90cebeb2d7781ae7": {
          "model_module": "@jupyter-widgets/controls",
          "model_name": "HTMLModel",
          "state": {
            "_view_name": "HTMLView",
            "style": "IPY_MODEL_cc62d61d9c0f46c991adf6abcc09b0ad",
            "_dom_classes": [],
            "description": "",
            "_model_name": "HTMLModel",
            "placeholder": "​",
            "_view_module": "@jupyter-widgets/controls",
            "_model_module_version": "1.5.0",
            "value": " 159571/159571 [01:17&lt;00:00, 2051.18it/s]",
            "_view_count": null,
            "_view_module_version": "1.5.0",
            "description_tooltip": null,
            "_model_module": "@jupyter-widgets/controls",
            "layout": "IPY_MODEL_756f3cafd0234150bc8b854cb3d3e198"
          }
        },
        "27a580ce576c4fceb2c06751d19aa09e": {
          "model_module": "@jupyter-widgets/controls",
          "model_name": "ProgressStyleModel",
          "state": {
            "_view_name": "StyleView",
            "_model_name": "ProgressStyleModel",
            "description_width": "initial",
            "_view_module": "@jupyter-widgets/base",
            "_model_module_version": "1.5.0",
            "_view_count": null,
            "_view_module_version": "1.2.0",
            "bar_color": null,
            "_model_module": "@jupyter-widgets/controls"
          }
        },
        "02540d69323b43b1a955a791b158475b": {
          "model_module": "@jupyter-widgets/base",
          "model_name": "LayoutModel",
          "state": {
            "_view_name": "LayoutView",
            "grid_template_rows": null,
            "right": null,
            "justify_content": null,
            "_view_module": "@jupyter-widgets/base",
            "overflow": null,
            "_model_module_version": "1.2.0",
            "_view_count": null,
            "flex_flow": null,
            "width": null,
            "min_width": null,
            "border": null,
            "align_items": null,
            "bottom": null,
            "_model_module": "@jupyter-widgets/base",
            "top": null,
            "grid_column": null,
            "overflow_y": null,
            "overflow_x": null,
            "grid_auto_flow": null,
            "grid_area": null,
            "grid_template_columns": null,
            "flex": null,
            "_model_name": "LayoutModel",
            "justify_items": null,
            "grid_row": null,
            "max_height": null,
            "align_content": null,
            "visibility": null,
            "align_self": null,
            "height": null,
            "min_height": null,
            "padding": null,
            "grid_auto_rows": null,
            "grid_gap": null,
            "max_width": null,
            "order": null,
            "_view_module_version": "1.2.0",
            "grid_template_areas": null,
            "object_position": null,
            "object_fit": null,
            "grid_auto_columns": null,
            "margin": null,
            "display": null,
            "left": null
          }
        },
        "cc62d61d9c0f46c991adf6abcc09b0ad": {
          "model_module": "@jupyter-widgets/controls",
          "model_name": "DescriptionStyleModel",
          "state": {
            "_view_name": "StyleView",
            "_model_name": "DescriptionStyleModel",
            "description_width": "",
            "_view_module": "@jupyter-widgets/base",
            "_model_module_version": "1.5.0",
            "_view_count": null,
            "_view_module_version": "1.2.0",
            "_model_module": "@jupyter-widgets/controls"
          }
        },
        "756f3cafd0234150bc8b854cb3d3e198": {
          "model_module": "@jupyter-widgets/base",
          "model_name": "LayoutModel",
          "state": {
            "_view_name": "LayoutView",
            "grid_template_rows": null,
            "right": null,
            "justify_content": null,
            "_view_module": "@jupyter-widgets/base",
            "overflow": null,
            "_model_module_version": "1.2.0",
            "_view_count": null,
            "flex_flow": null,
            "width": null,
            "min_width": null,
            "border": null,
            "align_items": null,
            "bottom": null,
            "_model_module": "@jupyter-widgets/base",
            "top": null,
            "grid_column": null,
            "overflow_y": null,
            "overflow_x": null,
            "grid_auto_flow": null,
            "grid_area": null,
            "grid_template_columns": null,
            "flex": null,
            "_model_name": "LayoutModel",
            "justify_items": null,
            "grid_row": null,
            "max_height": null,
            "align_content": null,
            "visibility": null,
            "align_self": null,
            "height": null,
            "min_height": null,
            "padding": null,
            "grid_auto_rows": null,
            "grid_gap": null,
            "max_width": null,
            "order": null,
            "_view_module_version": "1.2.0",
            "grid_template_areas": null,
            "object_position": null,
            "object_fit": null,
            "grid_auto_columns": null,
            "margin": null,
            "display": null,
            "left": null
          }
        },
        "a780d43a594f4e7a923df86ad8a8fbd3": {
          "model_module": "@jupyter-widgets/controls",
          "model_name": "HBoxModel",
          "state": {
            "_view_name": "HBoxView",
            "_dom_classes": [],
            "_model_name": "HBoxModel",
            "_view_module": "@jupyter-widgets/controls",
            "_model_module_version": "1.5.0",
            "_view_count": null,
            "_view_module_version": "1.5.0",
            "box_style": "",
            "layout": "IPY_MODEL_76596b73e1ff475a8f22ce77497d4b6d",
            "_model_module": "@jupyter-widgets/controls",
            "children": [
              "IPY_MODEL_c867c1401e5344258ba4d6da3175e6db",
              "IPY_MODEL_32375515330743579718f75ab3eb9395"
            ]
          }
        },
        "76596b73e1ff475a8f22ce77497d4b6d": {
          "model_module": "@jupyter-widgets/base",
          "model_name": "LayoutModel",
          "state": {
            "_view_name": "LayoutView",
            "grid_template_rows": null,
            "right": null,
            "justify_content": null,
            "_view_module": "@jupyter-widgets/base",
            "overflow": null,
            "_model_module_version": "1.2.0",
            "_view_count": null,
            "flex_flow": null,
            "width": null,
            "min_width": null,
            "border": null,
            "align_items": null,
            "bottom": null,
            "_model_module": "@jupyter-widgets/base",
            "top": null,
            "grid_column": null,
            "overflow_y": null,
            "overflow_x": null,
            "grid_auto_flow": null,
            "grid_area": null,
            "grid_template_columns": null,
            "flex": null,
            "_model_name": "LayoutModel",
            "justify_items": null,
            "grid_row": null,
            "max_height": null,
            "align_content": null,
            "visibility": null,
            "align_self": null,
            "height": null,
            "min_height": null,
            "padding": null,
            "grid_auto_rows": null,
            "grid_gap": null,
            "max_width": null,
            "order": null,
            "_view_module_version": "1.2.0",
            "grid_template_areas": null,
            "object_position": null,
            "object_fit": null,
            "grid_auto_columns": null,
            "margin": null,
            "display": null,
            "left": null
          }
        },
        "c867c1401e5344258ba4d6da3175e6db": {
          "model_module": "@jupyter-widgets/controls",
          "model_name": "FloatProgressModel",
          "state": {
            "_view_name": "ProgressView",
            "style": "IPY_MODEL_b7e762e2d1fb43518b09001908c6b248",
            "_dom_classes": [],
            "description": "100%",
            "_model_name": "FloatProgressModel",
            "bar_style": "success",
            "max": 153164,
            "_view_module": "@jupyter-widgets/controls",
            "_model_module_version": "1.5.0",
            "value": 153164,
            "_view_count": null,
            "_view_module_version": "1.5.0",
            "orientation": "horizontal",
            "min": 0,
            "description_tooltip": null,
            "_model_module": "@jupyter-widgets/controls",
            "layout": "IPY_MODEL_c19b2978bf754b18b59b8abbc7dd9009"
          }
        },
        "32375515330743579718f75ab3eb9395": {
          "model_module": "@jupyter-widgets/controls",
          "model_name": "HTMLModel",
          "state": {
            "_view_name": "HTMLView",
            "style": "IPY_MODEL_8fa8511f3e1342d885ec8d4853fabbe0",
            "_dom_classes": [],
            "description": "",
            "_model_name": "HTMLModel",
            "placeholder": "​",
            "_view_module": "@jupyter-widgets/controls",
            "_model_module_version": "1.5.0",
            "value": " 153164/153164 [00:44&lt;00:00, 3422.01it/s]",
            "_view_count": null,
            "_view_module_version": "1.5.0",
            "description_tooltip": null,
            "_model_module": "@jupyter-widgets/controls",
            "layout": "IPY_MODEL_3fe2aed1802345778b843ccc825356d1"
          }
        },
        "b7e762e2d1fb43518b09001908c6b248": {
          "model_module": "@jupyter-widgets/controls",
          "model_name": "ProgressStyleModel",
          "state": {
            "_view_name": "StyleView",
            "_model_name": "ProgressStyleModel",
            "description_width": "initial",
            "_view_module": "@jupyter-widgets/base",
            "_model_module_version": "1.5.0",
            "_view_count": null,
            "_view_module_version": "1.2.0",
            "bar_color": null,
            "_model_module": "@jupyter-widgets/controls"
          }
        },
        "c19b2978bf754b18b59b8abbc7dd9009": {
          "model_module": "@jupyter-widgets/base",
          "model_name": "LayoutModel",
          "state": {
            "_view_name": "LayoutView",
            "grid_template_rows": null,
            "right": null,
            "justify_content": null,
            "_view_module": "@jupyter-widgets/base",
            "overflow": null,
            "_model_module_version": "1.2.0",
            "_view_count": null,
            "flex_flow": null,
            "width": null,
            "min_width": null,
            "border": null,
            "align_items": null,
            "bottom": null,
            "_model_module": "@jupyter-widgets/base",
            "top": null,
            "grid_column": null,
            "overflow_y": null,
            "overflow_x": null,
            "grid_auto_flow": null,
            "grid_area": null,
            "grid_template_columns": null,
            "flex": null,
            "_model_name": "LayoutModel",
            "justify_items": null,
            "grid_row": null,
            "max_height": null,
            "align_content": null,
            "visibility": null,
            "align_self": null,
            "height": null,
            "min_height": null,
            "padding": null,
            "grid_auto_rows": null,
            "grid_gap": null,
            "max_width": null,
            "order": null,
            "_view_module_version": "1.2.0",
            "grid_template_areas": null,
            "object_position": null,
            "object_fit": null,
            "grid_auto_columns": null,
            "margin": null,
            "display": null,
            "left": null
          }
        },
        "8fa8511f3e1342d885ec8d4853fabbe0": {
          "model_module": "@jupyter-widgets/controls",
          "model_name": "DescriptionStyleModel",
          "state": {
            "_view_name": "StyleView",
            "_model_name": "DescriptionStyleModel",
            "description_width": "",
            "_view_module": "@jupyter-widgets/base",
            "_model_module_version": "1.5.0",
            "_view_count": null,
            "_view_module_version": "1.2.0",
            "_model_module": "@jupyter-widgets/controls"
          }
        },
        "3fe2aed1802345778b843ccc825356d1": {
          "model_module": "@jupyter-widgets/base",
          "model_name": "LayoutModel",
          "state": {
            "_view_name": "LayoutView",
            "grid_template_rows": null,
            "right": null,
            "justify_content": null,
            "_view_module": "@jupyter-widgets/base",
            "overflow": null,
            "_model_module_version": "1.2.0",
            "_view_count": null,
            "flex_flow": null,
            "width": null,
            "min_width": null,
            "border": null,
            "align_items": null,
            "bottom": null,
            "_model_module": "@jupyter-widgets/base",
            "top": null,
            "grid_column": null,
            "overflow_y": null,
            "overflow_x": null,
            "grid_auto_flow": null,
            "grid_area": null,
            "grid_template_columns": null,
            "flex": null,
            "_model_name": "LayoutModel",
            "justify_items": null,
            "grid_row": null,
            "max_height": null,
            "align_content": null,
            "visibility": null,
            "align_self": null,
            "height": null,
            "min_height": null,
            "padding": null,
            "grid_auto_rows": null,
            "grid_gap": null,
            "max_width": null,
            "order": null,
            "_view_module_version": "1.2.0",
            "grid_template_areas": null,
            "object_position": null,
            "object_fit": null,
            "grid_auto_columns": null,
            "margin": null,
            "display": null,
            "left": null
          }
        },
        "11de70ade63645619bd520d23cc5352d": {
          "model_module": "@jupyter-widgets/controls",
          "model_name": "HBoxModel",
          "state": {
            "_view_name": "HBoxView",
            "_dom_classes": [],
            "_model_name": "HBoxModel",
            "_view_module": "@jupyter-widgets/controls",
            "_model_module_version": "1.5.0",
            "_view_count": null,
            "_view_module_version": "1.5.0",
            "box_style": "",
            "layout": "IPY_MODEL_396fe2f77ac24a4a9f94c1c392758d9f",
            "_model_module": "@jupyter-widgets/controls",
            "children": [
              "IPY_MODEL_16681fd3bdf448ab8b6d828541ddeac3",
              "IPY_MODEL_45efcac59c924e4792daa538a894d453"
            ]
          }
        },
        "396fe2f77ac24a4a9f94c1c392758d9f": {
          "model_module": "@jupyter-widgets/base",
          "model_name": "LayoutModel",
          "state": {
            "_view_name": "LayoutView",
            "grid_template_rows": null,
            "right": null,
            "justify_content": null,
            "_view_module": "@jupyter-widgets/base",
            "overflow": null,
            "_model_module_version": "1.2.0",
            "_view_count": null,
            "flex_flow": null,
            "width": null,
            "min_width": null,
            "border": null,
            "align_items": null,
            "bottom": null,
            "_model_module": "@jupyter-widgets/base",
            "top": null,
            "grid_column": null,
            "overflow_y": null,
            "overflow_x": null,
            "grid_auto_flow": null,
            "grid_area": null,
            "grid_template_columns": null,
            "flex": null,
            "_model_name": "LayoutModel",
            "justify_items": null,
            "grid_row": null,
            "max_height": null,
            "align_content": null,
            "visibility": null,
            "align_self": null,
            "height": null,
            "min_height": null,
            "padding": null,
            "grid_auto_rows": null,
            "grid_gap": null,
            "max_width": null,
            "order": null,
            "_view_module_version": "1.2.0",
            "grid_template_areas": null,
            "object_position": null,
            "object_fit": null,
            "grid_auto_columns": null,
            "margin": null,
            "display": null,
            "left": null
          }
        },
        "16681fd3bdf448ab8b6d828541ddeac3": {
          "model_module": "@jupyter-widgets/controls",
          "model_name": "FloatProgressModel",
          "state": {
            "_view_name": "ProgressView",
            "style": "IPY_MODEL_de4a21c953c943c183e25548d6e8ce2a",
            "_dom_classes": [],
            "description": "100%",
            "_model_name": "FloatProgressModel",
            "bar_style": "success",
            "max": 159571,
            "_view_module": "@jupyter-widgets/controls",
            "_model_module_version": "1.5.0",
            "value": 159571,
            "_view_count": null,
            "_view_module_version": "1.5.0",
            "orientation": "horizontal",
            "min": 0,
            "description_tooltip": null,
            "_model_module": "@jupyter-widgets/controls",
            "layout": "IPY_MODEL_5a67279662844c9589b8d76556033b3e"
          }
        },
        "45efcac59c924e4792daa538a894d453": {
          "model_module": "@jupyter-widgets/controls",
          "model_name": "HTMLModel",
          "state": {
            "_view_name": "HTMLView",
            "style": "IPY_MODEL_e7e100b8c0124b22b8cb08c221eaa92a",
            "_dom_classes": [],
            "description": "",
            "_model_name": "HTMLModel",
            "placeholder": "​",
            "_view_module": "@jupyter-widgets/controls",
            "_model_module_version": "1.5.0",
            "value": " 159571/159571 [00:41&lt;00:00, 3859.81it/s]",
            "_view_count": null,
            "_view_module_version": "1.5.0",
            "description_tooltip": null,
            "_model_module": "@jupyter-widgets/controls",
            "layout": "IPY_MODEL_20fc5bc52bb94cd6bb9d4dd13d7c6acc"
          }
        },
        "de4a21c953c943c183e25548d6e8ce2a": {
          "model_module": "@jupyter-widgets/controls",
          "model_name": "ProgressStyleModel",
          "state": {
            "_view_name": "StyleView",
            "_model_name": "ProgressStyleModel",
            "description_width": "initial",
            "_view_module": "@jupyter-widgets/base",
            "_model_module_version": "1.5.0",
            "_view_count": null,
            "_view_module_version": "1.2.0",
            "bar_color": null,
            "_model_module": "@jupyter-widgets/controls"
          }
        },
        "5a67279662844c9589b8d76556033b3e": {
          "model_module": "@jupyter-widgets/base",
          "model_name": "LayoutModel",
          "state": {
            "_view_name": "LayoutView",
            "grid_template_rows": null,
            "right": null,
            "justify_content": null,
            "_view_module": "@jupyter-widgets/base",
            "overflow": null,
            "_model_module_version": "1.2.0",
            "_view_count": null,
            "flex_flow": null,
            "width": null,
            "min_width": null,
            "border": null,
            "align_items": null,
            "bottom": null,
            "_model_module": "@jupyter-widgets/base",
            "top": null,
            "grid_column": null,
            "overflow_y": null,
            "overflow_x": null,
            "grid_auto_flow": null,
            "grid_area": null,
            "grid_template_columns": null,
            "flex": null,
            "_model_name": "LayoutModel",
            "justify_items": null,
            "grid_row": null,
            "max_height": null,
            "align_content": null,
            "visibility": null,
            "align_self": null,
            "height": null,
            "min_height": null,
            "padding": null,
            "grid_auto_rows": null,
            "grid_gap": null,
            "max_width": null,
            "order": null,
            "_view_module_version": "1.2.0",
            "grid_template_areas": null,
            "object_position": null,
            "object_fit": null,
            "grid_auto_columns": null,
            "margin": null,
            "display": null,
            "left": null
          }
        },
        "e7e100b8c0124b22b8cb08c221eaa92a": {
          "model_module": "@jupyter-widgets/controls",
          "model_name": "DescriptionStyleModel",
          "state": {
            "_view_name": "StyleView",
            "_model_name": "DescriptionStyleModel",
            "description_width": "",
            "_view_module": "@jupyter-widgets/base",
            "_model_module_version": "1.5.0",
            "_view_count": null,
            "_view_module_version": "1.2.0",
            "_model_module": "@jupyter-widgets/controls"
          }
        },
        "20fc5bc52bb94cd6bb9d4dd13d7c6acc": {
          "model_module": "@jupyter-widgets/base",
          "model_name": "LayoutModel",
          "state": {
            "_view_name": "LayoutView",
            "grid_template_rows": null,
            "right": null,
            "justify_content": null,
            "_view_module": "@jupyter-widgets/base",
            "overflow": null,
            "_model_module_version": "1.2.0",
            "_view_count": null,
            "flex_flow": null,
            "width": null,
            "min_width": null,
            "border": null,
            "align_items": null,
            "bottom": null,
            "_model_module": "@jupyter-widgets/base",
            "top": null,
            "grid_column": null,
            "overflow_y": null,
            "overflow_x": null,
            "grid_auto_flow": null,
            "grid_area": null,
            "grid_template_columns": null,
            "flex": null,
            "_model_name": "LayoutModel",
            "justify_items": null,
            "grid_row": null,
            "max_height": null,
            "align_content": null,
            "visibility": null,
            "align_self": null,
            "height": null,
            "min_height": null,
            "padding": null,
            "grid_auto_rows": null,
            "grid_gap": null,
            "max_width": null,
            "order": null,
            "_view_module_version": "1.2.0",
            "grid_template_areas": null,
            "object_position": null,
            "object_fit": null,
            "grid_auto_columns": null,
            "margin": null,
            "display": null,
            "left": null
          }
        },
        "e4f18c40350f412aace3d57163196fe3": {
          "model_module": "@jupyter-widgets/controls",
          "model_name": "HBoxModel",
          "state": {
            "_view_name": "HBoxView",
            "_dom_classes": [],
            "_model_name": "HBoxModel",
            "_view_module": "@jupyter-widgets/controls",
            "_model_module_version": "1.5.0",
            "_view_count": null,
            "_view_module_version": "1.5.0",
            "box_style": "",
            "layout": "IPY_MODEL_e673c2d3335a45f491d4cb6637072326",
            "_model_module": "@jupyter-widgets/controls",
            "children": [
              "IPY_MODEL_9074515fb96e4150af1b1f1c90062fe7",
              "IPY_MODEL_f0b2625575074ea799e697c589be0156"
            ]
          }
        },
        "e673c2d3335a45f491d4cb6637072326": {
          "model_module": "@jupyter-widgets/base",
          "model_name": "LayoutModel",
          "state": {
            "_view_name": "LayoutView",
            "grid_template_rows": null,
            "right": null,
            "justify_content": null,
            "_view_module": "@jupyter-widgets/base",
            "overflow": null,
            "_model_module_version": "1.2.0",
            "_view_count": null,
            "flex_flow": null,
            "width": null,
            "min_width": null,
            "border": null,
            "align_items": null,
            "bottom": null,
            "_model_module": "@jupyter-widgets/base",
            "top": null,
            "grid_column": null,
            "overflow_y": null,
            "overflow_x": null,
            "grid_auto_flow": null,
            "grid_area": null,
            "grid_template_columns": null,
            "flex": null,
            "_model_name": "LayoutModel",
            "justify_items": null,
            "grid_row": null,
            "max_height": null,
            "align_content": null,
            "visibility": null,
            "align_self": null,
            "height": null,
            "min_height": null,
            "padding": null,
            "grid_auto_rows": null,
            "grid_gap": null,
            "max_width": null,
            "order": null,
            "_view_module_version": "1.2.0",
            "grid_template_areas": null,
            "object_position": null,
            "object_fit": null,
            "grid_auto_columns": null,
            "margin": null,
            "display": null,
            "left": null
          }
        },
        "9074515fb96e4150af1b1f1c90062fe7": {
          "model_module": "@jupyter-widgets/controls",
          "model_name": "FloatProgressModel",
          "state": {
            "_view_name": "ProgressView",
            "style": "IPY_MODEL_fb9eaf8f035e46f19bdc59a78496dd15",
            "_dom_classes": [],
            "description": "100%",
            "_model_name": "FloatProgressModel",
            "bar_style": "success",
            "max": 153164,
            "_view_module": "@jupyter-widgets/controls",
            "_model_module_version": "1.5.0",
            "value": 153164,
            "_view_count": null,
            "_view_module_version": "1.5.0",
            "orientation": "horizontal",
            "min": 0,
            "description_tooltip": null,
            "_model_module": "@jupyter-widgets/controls",
            "layout": "IPY_MODEL_f4e6b1151bf944fd866e52d7865f906a"
          }
        },
        "f0b2625575074ea799e697c589be0156": {
          "model_module": "@jupyter-widgets/controls",
          "model_name": "HTMLModel",
          "state": {
            "_view_name": "HTMLView",
            "style": "IPY_MODEL_eccbe7d673a74449a2becc8e74599b90",
            "_dom_classes": [],
            "description": "",
            "_model_name": "HTMLModel",
            "placeholder": "​",
            "_view_module": "@jupyter-widgets/controls",
            "_model_module_version": "1.5.0",
            "value": " 153164/153164 [00:19&lt;00:00, 7999.57it/s]",
            "_view_count": null,
            "_view_module_version": "1.5.0",
            "description_tooltip": null,
            "_model_module": "@jupyter-widgets/controls",
            "layout": "IPY_MODEL_3b0270cfed904cf3a1e4a77a21951d7a"
          }
        },
        "fb9eaf8f035e46f19bdc59a78496dd15": {
          "model_module": "@jupyter-widgets/controls",
          "model_name": "ProgressStyleModel",
          "state": {
            "_view_name": "StyleView",
            "_model_name": "ProgressStyleModel",
            "description_width": "initial",
            "_view_module": "@jupyter-widgets/base",
            "_model_module_version": "1.5.0",
            "_view_count": null,
            "_view_module_version": "1.2.0",
            "bar_color": null,
            "_model_module": "@jupyter-widgets/controls"
          }
        },
        "f4e6b1151bf944fd866e52d7865f906a": {
          "model_module": "@jupyter-widgets/base",
          "model_name": "LayoutModel",
          "state": {
            "_view_name": "LayoutView",
            "grid_template_rows": null,
            "right": null,
            "justify_content": null,
            "_view_module": "@jupyter-widgets/base",
            "overflow": null,
            "_model_module_version": "1.2.0",
            "_view_count": null,
            "flex_flow": null,
            "width": null,
            "min_width": null,
            "border": null,
            "align_items": null,
            "bottom": null,
            "_model_module": "@jupyter-widgets/base",
            "top": null,
            "grid_column": null,
            "overflow_y": null,
            "overflow_x": null,
            "grid_auto_flow": null,
            "grid_area": null,
            "grid_template_columns": null,
            "flex": null,
            "_model_name": "LayoutModel",
            "justify_items": null,
            "grid_row": null,
            "max_height": null,
            "align_content": null,
            "visibility": null,
            "align_self": null,
            "height": null,
            "min_height": null,
            "padding": null,
            "grid_auto_rows": null,
            "grid_gap": null,
            "max_width": null,
            "order": null,
            "_view_module_version": "1.2.0",
            "grid_template_areas": null,
            "object_position": null,
            "object_fit": null,
            "grid_auto_columns": null,
            "margin": null,
            "display": null,
            "left": null
          }
        },
        "eccbe7d673a74449a2becc8e74599b90": {
          "model_module": "@jupyter-widgets/controls",
          "model_name": "DescriptionStyleModel",
          "state": {
            "_view_name": "StyleView",
            "_model_name": "DescriptionStyleModel",
            "description_width": "",
            "_view_module": "@jupyter-widgets/base",
            "_model_module_version": "1.5.0",
            "_view_count": null,
            "_view_module_version": "1.2.0",
            "_model_module": "@jupyter-widgets/controls"
          }
        },
        "3b0270cfed904cf3a1e4a77a21951d7a": {
          "model_module": "@jupyter-widgets/base",
          "model_name": "LayoutModel",
          "state": {
            "_view_name": "LayoutView",
            "grid_template_rows": null,
            "right": null,
            "justify_content": null,
            "_view_module": "@jupyter-widgets/base",
            "overflow": null,
            "_model_module_version": "1.2.0",
            "_view_count": null,
            "flex_flow": null,
            "width": null,
            "min_width": null,
            "border": null,
            "align_items": null,
            "bottom": null,
            "_model_module": "@jupyter-widgets/base",
            "top": null,
            "grid_column": null,
            "overflow_y": null,
            "overflow_x": null,
            "grid_auto_flow": null,
            "grid_area": null,
            "grid_template_columns": null,
            "flex": null,
            "_model_name": "LayoutModel",
            "justify_items": null,
            "grid_row": null,
            "max_height": null,
            "align_content": null,
            "visibility": null,
            "align_self": null,
            "height": null,
            "min_height": null,
            "padding": null,
            "grid_auto_rows": null,
            "grid_gap": null,
            "max_width": null,
            "order": null,
            "_view_module_version": "1.2.0",
            "grid_template_areas": null,
            "object_position": null,
            "object_fit": null,
            "grid_auto_columns": null,
            "margin": null,
            "display": null,
            "left": null
          }
        },
        "a4f74b83a46d4a3084c2611a18271505": {
          "model_module": "@jupyter-widgets/controls",
          "model_name": "HBoxModel",
          "state": {
            "_view_name": "HBoxView",
            "_dom_classes": [],
            "_model_name": "HBoxModel",
            "_view_module": "@jupyter-widgets/controls",
            "_model_module_version": "1.5.0",
            "_view_count": null,
            "_view_module_version": "1.5.0",
            "box_style": "",
            "layout": "IPY_MODEL_4ffbc017b972444982e3920a985a8a78",
            "_model_module": "@jupyter-widgets/controls",
            "children": [
              "IPY_MODEL_155188e4aff5494b9e498cef92b93d11",
              "IPY_MODEL_ea915e3e0beb429db0db4b92c8ebc510"
            ]
          }
        },
        "4ffbc017b972444982e3920a985a8a78": {
          "model_module": "@jupyter-widgets/base",
          "model_name": "LayoutModel",
          "state": {
            "_view_name": "LayoutView",
            "grid_template_rows": null,
            "right": null,
            "justify_content": null,
            "_view_module": "@jupyter-widgets/base",
            "overflow": null,
            "_model_module_version": "1.2.0",
            "_view_count": null,
            "flex_flow": null,
            "width": null,
            "min_width": null,
            "border": null,
            "align_items": null,
            "bottom": null,
            "_model_module": "@jupyter-widgets/base",
            "top": null,
            "grid_column": null,
            "overflow_y": null,
            "overflow_x": null,
            "grid_auto_flow": null,
            "grid_area": null,
            "grid_template_columns": null,
            "flex": null,
            "_model_name": "LayoutModel",
            "justify_items": null,
            "grid_row": null,
            "max_height": null,
            "align_content": null,
            "visibility": null,
            "align_self": null,
            "height": null,
            "min_height": null,
            "padding": null,
            "grid_auto_rows": null,
            "grid_gap": null,
            "max_width": null,
            "order": null,
            "_view_module_version": "1.2.0",
            "grid_template_areas": null,
            "object_position": null,
            "object_fit": null,
            "grid_auto_columns": null,
            "margin": null,
            "display": null,
            "left": null
          }
        },
        "155188e4aff5494b9e498cef92b93d11": {
          "model_module": "@jupyter-widgets/controls",
          "model_name": "FloatProgressModel",
          "state": {
            "_view_name": "ProgressView",
            "style": "IPY_MODEL_a47e556143f74bbc841fbcfdaa6f049d",
            "_dom_classes": [],
            "description": "100%",
            "_model_name": "FloatProgressModel",
            "bar_style": "success",
            "max": 159571,
            "_view_module": "@jupyter-widgets/controls",
            "_model_module_version": "1.5.0",
            "value": 159571,
            "_view_count": null,
            "_view_module_version": "1.5.0",
            "orientation": "horizontal",
            "min": 0,
            "description_tooltip": null,
            "_model_module": "@jupyter-widgets/controls",
            "layout": "IPY_MODEL_2a215564ef054d8e874a59c47441d9e7"
          }
        },
        "ea915e3e0beb429db0db4b92c8ebc510": {
          "model_module": "@jupyter-widgets/controls",
          "model_name": "HTMLModel",
          "state": {
            "_view_name": "HTMLView",
            "style": "IPY_MODEL_4041b239e89b48b29c0489f575ec159a",
            "_dom_classes": [],
            "description": "",
            "_model_name": "HTMLModel",
            "placeholder": "​",
            "_view_module": "@jupyter-widgets/controls",
            "_model_module_version": "1.5.0",
            "value": " 159571/159571 [00:29&lt;00:00, 5472.01it/s]",
            "_view_count": null,
            "_view_module_version": "1.5.0",
            "description_tooltip": null,
            "_model_module": "@jupyter-widgets/controls",
            "layout": "IPY_MODEL_f79f02d9ea0e47feb621b8b51b30982e"
          }
        },
        "a47e556143f74bbc841fbcfdaa6f049d": {
          "model_module": "@jupyter-widgets/controls",
          "model_name": "ProgressStyleModel",
          "state": {
            "_view_name": "StyleView",
            "_model_name": "ProgressStyleModel",
            "description_width": "initial",
            "_view_module": "@jupyter-widgets/base",
            "_model_module_version": "1.5.0",
            "_view_count": null,
            "_view_module_version": "1.2.0",
            "bar_color": null,
            "_model_module": "@jupyter-widgets/controls"
          }
        },
        "2a215564ef054d8e874a59c47441d9e7": {
          "model_module": "@jupyter-widgets/base",
          "model_name": "LayoutModel",
          "state": {
            "_view_name": "LayoutView",
            "grid_template_rows": null,
            "right": null,
            "justify_content": null,
            "_view_module": "@jupyter-widgets/base",
            "overflow": null,
            "_model_module_version": "1.2.0",
            "_view_count": null,
            "flex_flow": null,
            "width": null,
            "min_width": null,
            "border": null,
            "align_items": null,
            "bottom": null,
            "_model_module": "@jupyter-widgets/base",
            "top": null,
            "grid_column": null,
            "overflow_y": null,
            "overflow_x": null,
            "grid_auto_flow": null,
            "grid_area": null,
            "grid_template_columns": null,
            "flex": null,
            "_model_name": "LayoutModel",
            "justify_items": null,
            "grid_row": null,
            "max_height": null,
            "align_content": null,
            "visibility": null,
            "align_self": null,
            "height": null,
            "min_height": null,
            "padding": null,
            "grid_auto_rows": null,
            "grid_gap": null,
            "max_width": null,
            "order": null,
            "_view_module_version": "1.2.0",
            "grid_template_areas": null,
            "object_position": null,
            "object_fit": null,
            "grid_auto_columns": null,
            "margin": null,
            "display": null,
            "left": null
          }
        },
        "4041b239e89b48b29c0489f575ec159a": {
          "model_module": "@jupyter-widgets/controls",
          "model_name": "DescriptionStyleModel",
          "state": {
            "_view_name": "StyleView",
            "_model_name": "DescriptionStyleModel",
            "description_width": "",
            "_view_module": "@jupyter-widgets/base",
            "_model_module_version": "1.5.0",
            "_view_count": null,
            "_view_module_version": "1.2.0",
            "_model_module": "@jupyter-widgets/controls"
          }
        },
        "f79f02d9ea0e47feb621b8b51b30982e": {
          "model_module": "@jupyter-widgets/base",
          "model_name": "LayoutModel",
          "state": {
            "_view_name": "LayoutView",
            "grid_template_rows": null,
            "right": null,
            "justify_content": null,
            "_view_module": "@jupyter-widgets/base",
            "overflow": null,
            "_model_module_version": "1.2.0",
            "_view_count": null,
            "flex_flow": null,
            "width": null,
            "min_width": null,
            "border": null,
            "align_items": null,
            "bottom": null,
            "_model_module": "@jupyter-widgets/base",
            "top": null,
            "grid_column": null,
            "overflow_y": null,
            "overflow_x": null,
            "grid_auto_flow": null,
            "grid_area": null,
            "grid_template_columns": null,
            "flex": null,
            "_model_name": "LayoutModel",
            "justify_items": null,
            "grid_row": null,
            "max_height": null,
            "align_content": null,
            "visibility": null,
            "align_self": null,
            "height": null,
            "min_height": null,
            "padding": null,
            "grid_auto_rows": null,
            "grid_gap": null,
            "max_width": null,
            "order": null,
            "_view_module_version": "1.2.0",
            "grid_template_areas": null,
            "object_position": null,
            "object_fit": null,
            "grid_auto_columns": null,
            "margin": null,
            "display": null,
            "left": null
          }
        },
        "0be32323325242e6b6ab54abe7eaf588": {
          "model_module": "@jupyter-widgets/controls",
          "model_name": "HBoxModel",
          "state": {
            "_view_name": "HBoxView",
            "_dom_classes": [],
            "_model_name": "HBoxModel",
            "_view_module": "@jupyter-widgets/controls",
            "_model_module_version": "1.5.0",
            "_view_count": null,
            "_view_module_version": "1.5.0",
            "box_style": "",
            "layout": "IPY_MODEL_35378ba9c5eb472289e98b3953bc2779",
            "_model_module": "@jupyter-widgets/controls",
            "children": [
              "IPY_MODEL_4e698b3788ea425c8d9d9fb9232587f5",
              "IPY_MODEL_be2a5acdf0784db3b960c751b15c08df"
            ]
          }
        },
        "35378ba9c5eb472289e98b3953bc2779": {
          "model_module": "@jupyter-widgets/base",
          "model_name": "LayoutModel",
          "state": {
            "_view_name": "LayoutView",
            "grid_template_rows": null,
            "right": null,
            "justify_content": null,
            "_view_module": "@jupyter-widgets/base",
            "overflow": null,
            "_model_module_version": "1.2.0",
            "_view_count": null,
            "flex_flow": null,
            "width": null,
            "min_width": null,
            "border": null,
            "align_items": null,
            "bottom": null,
            "_model_module": "@jupyter-widgets/base",
            "top": null,
            "grid_column": null,
            "overflow_y": null,
            "overflow_x": null,
            "grid_auto_flow": null,
            "grid_area": null,
            "grid_template_columns": null,
            "flex": null,
            "_model_name": "LayoutModel",
            "justify_items": null,
            "grid_row": null,
            "max_height": null,
            "align_content": null,
            "visibility": null,
            "align_self": null,
            "height": null,
            "min_height": null,
            "padding": null,
            "grid_auto_rows": null,
            "grid_gap": null,
            "max_width": null,
            "order": null,
            "_view_module_version": "1.2.0",
            "grid_template_areas": null,
            "object_position": null,
            "object_fit": null,
            "grid_auto_columns": null,
            "margin": null,
            "display": null,
            "left": null
          }
        },
        "4e698b3788ea425c8d9d9fb9232587f5": {
          "model_module": "@jupyter-widgets/controls",
          "model_name": "FloatProgressModel",
          "state": {
            "_view_name": "ProgressView",
            "style": "IPY_MODEL_53fd8349c0a54df4893bd7f4a602eca7",
            "_dom_classes": [],
            "description": "100%",
            "_model_name": "FloatProgressModel",
            "bar_style": "success",
            "max": 153164,
            "_view_module": "@jupyter-widgets/controls",
            "_model_module_version": "1.5.0",
            "value": 153164,
            "_view_count": null,
            "_view_module_version": "1.5.0",
            "orientation": "horizontal",
            "min": 0,
            "description_tooltip": null,
            "_model_module": "@jupyter-widgets/controls",
            "layout": "IPY_MODEL_6d8c997a8ab1481abf06ecf891dbb242"
          }
        },
        "be2a5acdf0784db3b960c751b15c08df": {
          "model_module": "@jupyter-widgets/controls",
          "model_name": "HTMLModel",
          "state": {
            "_view_name": "HTMLView",
            "style": "IPY_MODEL_acea4025d0ba4b0591ff5fea7b35ce96",
            "_dom_classes": [],
            "description": "",
            "_model_name": "HTMLModel",
            "placeholder": "​",
            "_view_module": "@jupyter-widgets/controls",
            "_model_module_version": "1.5.0",
            "value": " 153164/153164 [00:11&lt;00:00, 12958.58it/s]",
            "_view_count": null,
            "_view_module_version": "1.5.0",
            "description_tooltip": null,
            "_model_module": "@jupyter-widgets/controls",
            "layout": "IPY_MODEL_7142e335bb324f8ebc0a985f72edab1c"
          }
        },
        "53fd8349c0a54df4893bd7f4a602eca7": {
          "model_module": "@jupyter-widgets/controls",
          "model_name": "ProgressStyleModel",
          "state": {
            "_view_name": "StyleView",
            "_model_name": "ProgressStyleModel",
            "description_width": "initial",
            "_view_module": "@jupyter-widgets/base",
            "_model_module_version": "1.5.0",
            "_view_count": null,
            "_view_module_version": "1.2.0",
            "bar_color": null,
            "_model_module": "@jupyter-widgets/controls"
          }
        },
        "6d8c997a8ab1481abf06ecf891dbb242": {
          "model_module": "@jupyter-widgets/base",
          "model_name": "LayoutModel",
          "state": {
            "_view_name": "LayoutView",
            "grid_template_rows": null,
            "right": null,
            "justify_content": null,
            "_view_module": "@jupyter-widgets/base",
            "overflow": null,
            "_model_module_version": "1.2.0",
            "_view_count": null,
            "flex_flow": null,
            "width": null,
            "min_width": null,
            "border": null,
            "align_items": null,
            "bottom": null,
            "_model_module": "@jupyter-widgets/base",
            "top": null,
            "grid_column": null,
            "overflow_y": null,
            "overflow_x": null,
            "grid_auto_flow": null,
            "grid_area": null,
            "grid_template_columns": null,
            "flex": null,
            "_model_name": "LayoutModel",
            "justify_items": null,
            "grid_row": null,
            "max_height": null,
            "align_content": null,
            "visibility": null,
            "align_self": null,
            "height": null,
            "min_height": null,
            "padding": null,
            "grid_auto_rows": null,
            "grid_gap": null,
            "max_width": null,
            "order": null,
            "_view_module_version": "1.2.0",
            "grid_template_areas": null,
            "object_position": null,
            "object_fit": null,
            "grid_auto_columns": null,
            "margin": null,
            "display": null,
            "left": null
          }
        },
        "acea4025d0ba4b0591ff5fea7b35ce96": {
          "model_module": "@jupyter-widgets/controls",
          "model_name": "DescriptionStyleModel",
          "state": {
            "_view_name": "StyleView",
            "_model_name": "DescriptionStyleModel",
            "description_width": "",
            "_view_module": "@jupyter-widgets/base",
            "_model_module_version": "1.5.0",
            "_view_count": null,
            "_view_module_version": "1.2.0",
            "_model_module": "@jupyter-widgets/controls"
          }
        },
        "7142e335bb324f8ebc0a985f72edab1c": {
          "model_module": "@jupyter-widgets/base",
          "model_name": "LayoutModel",
          "state": {
            "_view_name": "LayoutView",
            "grid_template_rows": null,
            "right": null,
            "justify_content": null,
            "_view_module": "@jupyter-widgets/base",
            "overflow": null,
            "_model_module_version": "1.2.0",
            "_view_count": null,
            "flex_flow": null,
            "width": null,
            "min_width": null,
            "border": null,
            "align_items": null,
            "bottom": null,
            "_model_module": "@jupyter-widgets/base",
            "top": null,
            "grid_column": null,
            "overflow_y": null,
            "overflow_x": null,
            "grid_auto_flow": null,
            "grid_area": null,
            "grid_template_columns": null,
            "flex": null,
            "_model_name": "LayoutModel",
            "justify_items": null,
            "grid_row": null,
            "max_height": null,
            "align_content": null,
            "visibility": null,
            "align_self": null,
            "height": null,
            "min_height": null,
            "padding": null,
            "grid_auto_rows": null,
            "grid_gap": null,
            "max_width": null,
            "order": null,
            "_view_module_version": "1.2.0",
            "grid_template_areas": null,
            "object_position": null,
            "object_fit": null,
            "grid_auto_columns": null,
            "margin": null,
            "display": null,
            "left": null
          }
        },
        "fc88ee9e92234b9f979b3e2f6da97f47": {
          "model_module": "@jupyter-widgets/controls",
          "model_name": "HBoxModel",
          "state": {
            "_view_name": "HBoxView",
            "_dom_classes": [],
            "_model_name": "HBoxModel",
            "_view_module": "@jupyter-widgets/controls",
            "_model_module_version": "1.5.0",
            "_view_count": null,
            "_view_module_version": "1.5.0",
            "box_style": "",
            "layout": "IPY_MODEL_7beef3efc265480c821b2c41ee563762",
            "_model_module": "@jupyter-widgets/controls",
            "children": [
              "IPY_MODEL_b4b091164d9e43b7afd78ceac21bdd45",
              "IPY_MODEL_29562266187f44ec9a1a5639e6301026"
            ]
          }
        },
        "7beef3efc265480c821b2c41ee563762": {
          "model_module": "@jupyter-widgets/base",
          "model_name": "LayoutModel",
          "state": {
            "_view_name": "LayoutView",
            "grid_template_rows": null,
            "right": null,
            "justify_content": null,
            "_view_module": "@jupyter-widgets/base",
            "overflow": null,
            "_model_module_version": "1.2.0",
            "_view_count": null,
            "flex_flow": null,
            "width": null,
            "min_width": null,
            "border": null,
            "align_items": null,
            "bottom": null,
            "_model_module": "@jupyter-widgets/base",
            "top": null,
            "grid_column": null,
            "overflow_y": null,
            "overflow_x": null,
            "grid_auto_flow": null,
            "grid_area": null,
            "grid_template_columns": null,
            "flex": null,
            "_model_name": "LayoutModel",
            "justify_items": null,
            "grid_row": null,
            "max_height": null,
            "align_content": null,
            "visibility": null,
            "align_self": null,
            "height": null,
            "min_height": null,
            "padding": null,
            "grid_auto_rows": null,
            "grid_gap": null,
            "max_width": null,
            "order": null,
            "_view_module_version": "1.2.0",
            "grid_template_areas": null,
            "object_position": null,
            "object_fit": null,
            "grid_auto_columns": null,
            "margin": null,
            "display": null,
            "left": null
          }
        },
        "b4b091164d9e43b7afd78ceac21bdd45": {
          "model_module": "@jupyter-widgets/controls",
          "model_name": "FloatProgressModel",
          "state": {
            "_view_name": "ProgressView",
            "style": "IPY_MODEL_936fa6dfe04f4007b476943ebfb2f822",
            "_dom_classes": [],
            "description": "100%",
            "_model_name": "FloatProgressModel",
            "bar_style": "success",
            "max": 159571,
            "_view_module": "@jupyter-widgets/controls",
            "_model_module_version": "1.5.0",
            "value": 159571,
            "_view_count": null,
            "_view_module_version": "1.5.0",
            "orientation": "horizontal",
            "min": 0,
            "description_tooltip": null,
            "_model_module": "@jupyter-widgets/controls",
            "layout": "IPY_MODEL_1251b3f6a425429493605de70f9d4b5f"
          }
        },
        "29562266187f44ec9a1a5639e6301026": {
          "model_module": "@jupyter-widgets/controls",
          "model_name": "HTMLModel",
          "state": {
            "_view_name": "HTMLView",
            "style": "IPY_MODEL_86c33f6feee743bdb45d1dfead3340ee",
            "_dom_classes": [],
            "description": "",
            "_model_name": "HTMLModel",
            "placeholder": "​",
            "_view_module": "@jupyter-widgets/controls",
            "_model_module_version": "1.5.0",
            "value": " 159571/159571 [00:02&lt;00:00, 75803.59it/s]",
            "_view_count": null,
            "_view_module_version": "1.5.0",
            "description_tooltip": null,
            "_model_module": "@jupyter-widgets/controls",
            "layout": "IPY_MODEL_97fd3a3968814d269a480d724b638f51"
          }
        },
        "936fa6dfe04f4007b476943ebfb2f822": {
          "model_module": "@jupyter-widgets/controls",
          "model_name": "ProgressStyleModel",
          "state": {
            "_view_name": "StyleView",
            "_model_name": "ProgressStyleModel",
            "description_width": "initial",
            "_view_module": "@jupyter-widgets/base",
            "_model_module_version": "1.5.0",
            "_view_count": null,
            "_view_module_version": "1.2.0",
            "bar_color": null,
            "_model_module": "@jupyter-widgets/controls"
          }
        },
        "1251b3f6a425429493605de70f9d4b5f": {
          "model_module": "@jupyter-widgets/base",
          "model_name": "LayoutModel",
          "state": {
            "_view_name": "LayoutView",
            "grid_template_rows": null,
            "right": null,
            "justify_content": null,
            "_view_module": "@jupyter-widgets/base",
            "overflow": null,
            "_model_module_version": "1.2.0",
            "_view_count": null,
            "flex_flow": null,
            "width": null,
            "min_width": null,
            "border": null,
            "align_items": null,
            "bottom": null,
            "_model_module": "@jupyter-widgets/base",
            "top": null,
            "grid_column": null,
            "overflow_y": null,
            "overflow_x": null,
            "grid_auto_flow": null,
            "grid_area": null,
            "grid_template_columns": null,
            "flex": null,
            "_model_name": "LayoutModel",
            "justify_items": null,
            "grid_row": null,
            "max_height": null,
            "align_content": null,
            "visibility": null,
            "align_self": null,
            "height": null,
            "min_height": null,
            "padding": null,
            "grid_auto_rows": null,
            "grid_gap": null,
            "max_width": null,
            "order": null,
            "_view_module_version": "1.2.0",
            "grid_template_areas": null,
            "object_position": null,
            "object_fit": null,
            "grid_auto_columns": null,
            "margin": null,
            "display": null,
            "left": null
          }
        },
        "86c33f6feee743bdb45d1dfead3340ee": {
          "model_module": "@jupyter-widgets/controls",
          "model_name": "DescriptionStyleModel",
          "state": {
            "_view_name": "StyleView",
            "_model_name": "DescriptionStyleModel",
            "description_width": "",
            "_view_module": "@jupyter-widgets/base",
            "_model_module_version": "1.5.0",
            "_view_count": null,
            "_view_module_version": "1.2.0",
            "_model_module": "@jupyter-widgets/controls"
          }
        },
        "97fd3a3968814d269a480d724b638f51": {
          "model_module": "@jupyter-widgets/base",
          "model_name": "LayoutModel",
          "state": {
            "_view_name": "LayoutView",
            "grid_template_rows": null,
            "right": null,
            "justify_content": null,
            "_view_module": "@jupyter-widgets/base",
            "overflow": null,
            "_model_module_version": "1.2.0",
            "_view_count": null,
            "flex_flow": null,
            "width": null,
            "min_width": null,
            "border": null,
            "align_items": null,
            "bottom": null,
            "_model_module": "@jupyter-widgets/base",
            "top": null,
            "grid_column": null,
            "overflow_y": null,
            "overflow_x": null,
            "grid_auto_flow": null,
            "grid_area": null,
            "grid_template_columns": null,
            "flex": null,
            "_model_name": "LayoutModel",
            "justify_items": null,
            "grid_row": null,
            "max_height": null,
            "align_content": null,
            "visibility": null,
            "align_self": null,
            "height": null,
            "min_height": null,
            "padding": null,
            "grid_auto_rows": null,
            "grid_gap": null,
            "max_width": null,
            "order": null,
            "_view_module_version": "1.2.0",
            "grid_template_areas": null,
            "object_position": null,
            "object_fit": null,
            "grid_auto_columns": null,
            "margin": null,
            "display": null,
            "left": null
          }
        },
        "6adc367c9e6248c8b86cd940ad94b4cb": {
          "model_module": "@jupyter-widgets/controls",
          "model_name": "HBoxModel",
          "state": {
            "_view_name": "HBoxView",
            "_dom_classes": [],
            "_model_name": "HBoxModel",
            "_view_module": "@jupyter-widgets/controls",
            "_model_module_version": "1.5.0",
            "_view_count": null,
            "_view_module_version": "1.5.0",
            "box_style": "",
            "layout": "IPY_MODEL_5865b4cf61174cd5ad17e376fa5ed7cb",
            "_model_module": "@jupyter-widgets/controls",
            "children": [
              "IPY_MODEL_72adee3b0e0547eca8953d46fafd412d",
              "IPY_MODEL_a148196dd4de425fbb0974c8ce361eb0"
            ]
          }
        },
        "5865b4cf61174cd5ad17e376fa5ed7cb": {
          "model_module": "@jupyter-widgets/base",
          "model_name": "LayoutModel",
          "state": {
            "_view_name": "LayoutView",
            "grid_template_rows": null,
            "right": null,
            "justify_content": null,
            "_view_module": "@jupyter-widgets/base",
            "overflow": null,
            "_model_module_version": "1.2.0",
            "_view_count": null,
            "flex_flow": null,
            "width": null,
            "min_width": null,
            "border": null,
            "align_items": null,
            "bottom": null,
            "_model_module": "@jupyter-widgets/base",
            "top": null,
            "grid_column": null,
            "overflow_y": null,
            "overflow_x": null,
            "grid_auto_flow": null,
            "grid_area": null,
            "grid_template_columns": null,
            "flex": null,
            "_model_name": "LayoutModel",
            "justify_items": null,
            "grid_row": null,
            "max_height": null,
            "align_content": null,
            "visibility": null,
            "align_self": null,
            "height": null,
            "min_height": null,
            "padding": null,
            "grid_auto_rows": null,
            "grid_gap": null,
            "max_width": null,
            "order": null,
            "_view_module_version": "1.2.0",
            "grid_template_areas": null,
            "object_position": null,
            "object_fit": null,
            "grid_auto_columns": null,
            "margin": null,
            "display": null,
            "left": null
          }
        },
        "72adee3b0e0547eca8953d46fafd412d": {
          "model_module": "@jupyter-widgets/controls",
          "model_name": "FloatProgressModel",
          "state": {
            "_view_name": "ProgressView",
            "style": "IPY_MODEL_bb339bd8a043466f8d81c529e51e6132",
            "_dom_classes": [],
            "description": "100%",
            "_model_name": "FloatProgressModel",
            "bar_style": "success",
            "max": 153164,
            "_view_module": "@jupyter-widgets/controls",
            "_model_module_version": "1.5.0",
            "value": 153164,
            "_view_count": null,
            "_view_module_version": "1.5.0",
            "orientation": "horizontal",
            "min": 0,
            "description_tooltip": null,
            "_model_module": "@jupyter-widgets/controls",
            "layout": "IPY_MODEL_4c02528c8d294090a105aa777cc10969"
          }
        },
        "a148196dd4de425fbb0974c8ce361eb0": {
          "model_module": "@jupyter-widgets/controls",
          "model_name": "HTMLModel",
          "state": {
            "_view_name": "HTMLView",
            "style": "IPY_MODEL_13552b3ea5ab455f9a7c08372f7c790b",
            "_dom_classes": [],
            "description": "",
            "_model_name": "HTMLModel",
            "placeholder": "​",
            "_view_module": "@jupyter-widgets/controls",
            "_model_module_version": "1.5.0",
            "value": " 153164/153164 [00:06&lt;00:00, 23282.43it/s]",
            "_view_count": null,
            "_view_module_version": "1.5.0",
            "description_tooltip": null,
            "_model_module": "@jupyter-widgets/controls",
            "layout": "IPY_MODEL_da1f83eb3f56437aa441a6ede704fbb4"
          }
        },
        "bb339bd8a043466f8d81c529e51e6132": {
          "model_module": "@jupyter-widgets/controls",
          "model_name": "ProgressStyleModel",
          "state": {
            "_view_name": "StyleView",
            "_model_name": "ProgressStyleModel",
            "description_width": "initial",
            "_view_module": "@jupyter-widgets/base",
            "_model_module_version": "1.5.0",
            "_view_count": null,
            "_view_module_version": "1.2.0",
            "bar_color": null,
            "_model_module": "@jupyter-widgets/controls"
          }
        },
        "4c02528c8d294090a105aa777cc10969": {
          "model_module": "@jupyter-widgets/base",
          "model_name": "LayoutModel",
          "state": {
            "_view_name": "LayoutView",
            "grid_template_rows": null,
            "right": null,
            "justify_content": null,
            "_view_module": "@jupyter-widgets/base",
            "overflow": null,
            "_model_module_version": "1.2.0",
            "_view_count": null,
            "flex_flow": null,
            "width": null,
            "min_width": null,
            "border": null,
            "align_items": null,
            "bottom": null,
            "_model_module": "@jupyter-widgets/base",
            "top": null,
            "grid_column": null,
            "overflow_y": null,
            "overflow_x": null,
            "grid_auto_flow": null,
            "grid_area": null,
            "grid_template_columns": null,
            "flex": null,
            "_model_name": "LayoutModel",
            "justify_items": null,
            "grid_row": null,
            "max_height": null,
            "align_content": null,
            "visibility": null,
            "align_self": null,
            "height": null,
            "min_height": null,
            "padding": null,
            "grid_auto_rows": null,
            "grid_gap": null,
            "max_width": null,
            "order": null,
            "_view_module_version": "1.2.0",
            "grid_template_areas": null,
            "object_position": null,
            "object_fit": null,
            "grid_auto_columns": null,
            "margin": null,
            "display": null,
            "left": null
          }
        },
        "13552b3ea5ab455f9a7c08372f7c790b": {
          "model_module": "@jupyter-widgets/controls",
          "model_name": "DescriptionStyleModel",
          "state": {
            "_view_name": "StyleView",
            "_model_name": "DescriptionStyleModel",
            "description_width": "",
            "_view_module": "@jupyter-widgets/base",
            "_model_module_version": "1.5.0",
            "_view_count": null,
            "_view_module_version": "1.2.0",
            "_model_module": "@jupyter-widgets/controls"
          }
        },
        "da1f83eb3f56437aa441a6ede704fbb4": {
          "model_module": "@jupyter-widgets/base",
          "model_name": "LayoutModel",
          "state": {
            "_view_name": "LayoutView",
            "grid_template_rows": null,
            "right": null,
            "justify_content": null,
            "_view_module": "@jupyter-widgets/base",
            "overflow": null,
            "_model_module_version": "1.2.0",
            "_view_count": null,
            "flex_flow": null,
            "width": null,
            "min_width": null,
            "border": null,
            "align_items": null,
            "bottom": null,
            "_model_module": "@jupyter-widgets/base",
            "top": null,
            "grid_column": null,
            "overflow_y": null,
            "overflow_x": null,
            "grid_auto_flow": null,
            "grid_area": null,
            "grid_template_columns": null,
            "flex": null,
            "_model_name": "LayoutModel",
            "justify_items": null,
            "grid_row": null,
            "max_height": null,
            "align_content": null,
            "visibility": null,
            "align_self": null,
            "height": null,
            "min_height": null,
            "padding": null,
            "grid_auto_rows": null,
            "grid_gap": null,
            "max_width": null,
            "order": null,
            "_view_module_version": "1.2.0",
            "grid_template_areas": null,
            "object_position": null,
            "object_fit": null,
            "grid_auto_columns": null,
            "margin": null,
            "display": null,
            "left": null
          }
        },
        "216bfb08161741c0944a20ebef545320": {
          "model_module": "@jupyter-widgets/controls",
          "model_name": "HBoxModel",
          "state": {
            "_view_name": "HBoxView",
            "_dom_classes": [],
            "_model_name": "HBoxModel",
            "_view_module": "@jupyter-widgets/controls",
            "_model_module_version": "1.5.0",
            "_view_count": null,
            "_view_module_version": "1.5.0",
            "box_style": "",
            "layout": "IPY_MODEL_d8ffbe178f674431800fa51ea60bb217",
            "_model_module": "@jupyter-widgets/controls",
            "children": [
              "IPY_MODEL_f220ff3ce9f54269a4419f50be292cc8",
              "IPY_MODEL_7f7e35f3185c4f3cbee0c9325d9c8e1f"
            ]
          }
        },
        "d8ffbe178f674431800fa51ea60bb217": {
          "model_module": "@jupyter-widgets/base",
          "model_name": "LayoutModel",
          "state": {
            "_view_name": "LayoutView",
            "grid_template_rows": null,
            "right": null,
            "justify_content": null,
            "_view_module": "@jupyter-widgets/base",
            "overflow": null,
            "_model_module_version": "1.2.0",
            "_view_count": null,
            "flex_flow": null,
            "width": null,
            "min_width": null,
            "border": null,
            "align_items": null,
            "bottom": null,
            "_model_module": "@jupyter-widgets/base",
            "top": null,
            "grid_column": null,
            "overflow_y": null,
            "overflow_x": null,
            "grid_auto_flow": null,
            "grid_area": null,
            "grid_template_columns": null,
            "flex": null,
            "_model_name": "LayoutModel",
            "justify_items": null,
            "grid_row": null,
            "max_height": null,
            "align_content": null,
            "visibility": null,
            "align_self": null,
            "height": null,
            "min_height": null,
            "padding": null,
            "grid_auto_rows": null,
            "grid_gap": null,
            "max_width": null,
            "order": null,
            "_view_module_version": "1.2.0",
            "grid_template_areas": null,
            "object_position": null,
            "object_fit": null,
            "grid_auto_columns": null,
            "margin": null,
            "display": null,
            "left": null
          }
        },
        "f220ff3ce9f54269a4419f50be292cc8": {
          "model_module": "@jupyter-widgets/controls",
          "model_name": "FloatProgressModel",
          "state": {
            "_view_name": "ProgressView",
            "style": "IPY_MODEL_240fd54e7d7f4ef2b7ff9a80c866f9a1",
            "_dom_classes": [],
            "description": "100%",
            "_model_name": "FloatProgressModel",
            "bar_style": "success",
            "max": 159571,
            "_view_module": "@jupyter-widgets/controls",
            "_model_module_version": "1.5.0",
            "value": 159571,
            "_view_count": null,
            "_view_module_version": "1.5.0",
            "orientation": "horizontal",
            "min": 0,
            "description_tooltip": null,
            "_model_module": "@jupyter-widgets/controls",
            "layout": "IPY_MODEL_176ddbf1b70f45e0b36382fdd3f5a87e"
          }
        },
        "7f7e35f3185c4f3cbee0c9325d9c8e1f": {
          "model_module": "@jupyter-widgets/controls",
          "model_name": "HTMLModel",
          "state": {
            "_view_name": "HTMLView",
            "style": "IPY_MODEL_9ac984c05dd64d7e82f9794c6bb576d9",
            "_dom_classes": [],
            "description": "",
            "_model_name": "HTMLModel",
            "placeholder": "​",
            "_view_module": "@jupyter-widgets/controls",
            "_model_module_version": "1.5.0",
            "value": " 159571/159571 [00:04&lt;00:00, 34515.17it/s]",
            "_view_count": null,
            "_view_module_version": "1.5.0",
            "description_tooltip": null,
            "_model_module": "@jupyter-widgets/controls",
            "layout": "IPY_MODEL_67ac7bdd82fd4b65bd541a1fe8ddd012"
          }
        },
        "240fd54e7d7f4ef2b7ff9a80c866f9a1": {
          "model_module": "@jupyter-widgets/controls",
          "model_name": "ProgressStyleModel",
          "state": {
            "_view_name": "StyleView",
            "_model_name": "ProgressStyleModel",
            "description_width": "initial",
            "_view_module": "@jupyter-widgets/base",
            "_model_module_version": "1.5.0",
            "_view_count": null,
            "_view_module_version": "1.2.0",
            "bar_color": null,
            "_model_module": "@jupyter-widgets/controls"
          }
        },
        "176ddbf1b70f45e0b36382fdd3f5a87e": {
          "model_module": "@jupyter-widgets/base",
          "model_name": "LayoutModel",
          "state": {
            "_view_name": "LayoutView",
            "grid_template_rows": null,
            "right": null,
            "justify_content": null,
            "_view_module": "@jupyter-widgets/base",
            "overflow": null,
            "_model_module_version": "1.2.0",
            "_view_count": null,
            "flex_flow": null,
            "width": null,
            "min_width": null,
            "border": null,
            "align_items": null,
            "bottom": null,
            "_model_module": "@jupyter-widgets/base",
            "top": null,
            "grid_column": null,
            "overflow_y": null,
            "overflow_x": null,
            "grid_auto_flow": null,
            "grid_area": null,
            "grid_template_columns": null,
            "flex": null,
            "_model_name": "LayoutModel",
            "justify_items": null,
            "grid_row": null,
            "max_height": null,
            "align_content": null,
            "visibility": null,
            "align_self": null,
            "height": null,
            "min_height": null,
            "padding": null,
            "grid_auto_rows": null,
            "grid_gap": null,
            "max_width": null,
            "order": null,
            "_view_module_version": "1.2.0",
            "grid_template_areas": null,
            "object_position": null,
            "object_fit": null,
            "grid_auto_columns": null,
            "margin": null,
            "display": null,
            "left": null
          }
        },
        "9ac984c05dd64d7e82f9794c6bb576d9": {
          "model_module": "@jupyter-widgets/controls",
          "model_name": "DescriptionStyleModel",
          "state": {
            "_view_name": "StyleView",
            "_model_name": "DescriptionStyleModel",
            "description_width": "",
            "_view_module": "@jupyter-widgets/base",
            "_model_module_version": "1.5.0",
            "_view_count": null,
            "_view_module_version": "1.2.0",
            "_model_module": "@jupyter-widgets/controls"
          }
        },
        "67ac7bdd82fd4b65bd541a1fe8ddd012": {
          "model_module": "@jupyter-widgets/base",
          "model_name": "LayoutModel",
          "state": {
            "_view_name": "LayoutView",
            "grid_template_rows": null,
            "right": null,
            "justify_content": null,
            "_view_module": "@jupyter-widgets/base",
            "overflow": null,
            "_model_module_version": "1.2.0",
            "_view_count": null,
            "flex_flow": null,
            "width": null,
            "min_width": null,
            "border": null,
            "align_items": null,
            "bottom": null,
            "_model_module": "@jupyter-widgets/base",
            "top": null,
            "grid_column": null,
            "overflow_y": null,
            "overflow_x": null,
            "grid_auto_flow": null,
            "grid_area": null,
            "grid_template_columns": null,
            "flex": null,
            "_model_name": "LayoutModel",
            "justify_items": null,
            "grid_row": null,
            "max_height": null,
            "align_content": null,
            "visibility": null,
            "align_self": null,
            "height": null,
            "min_height": null,
            "padding": null,
            "grid_auto_rows": null,
            "grid_gap": null,
            "max_width": null,
            "order": null,
            "_view_module_version": "1.2.0",
            "grid_template_areas": null,
            "object_position": null,
            "object_fit": null,
            "grid_auto_columns": null,
            "margin": null,
            "display": null,
            "left": null
          }
        },
        "7abd80ef39ba4000802752a09168cb57": {
          "model_module": "@jupyter-widgets/controls",
          "model_name": "HBoxModel",
          "state": {
            "_view_name": "HBoxView",
            "_dom_classes": [],
            "_model_name": "HBoxModel",
            "_view_module": "@jupyter-widgets/controls",
            "_model_module_version": "1.5.0",
            "_view_count": null,
            "_view_module_version": "1.5.0",
            "box_style": "",
            "layout": "IPY_MODEL_eb1f818c8791467a8282451c9cfc8f86",
            "_model_module": "@jupyter-widgets/controls",
            "children": [
              "IPY_MODEL_158aa78450d3486185a377f4a1233e17",
              "IPY_MODEL_27b90df4cee54f2394e915af24f75a88"
            ]
          }
        },
        "eb1f818c8791467a8282451c9cfc8f86": {
          "model_module": "@jupyter-widgets/base",
          "model_name": "LayoutModel",
          "state": {
            "_view_name": "LayoutView",
            "grid_template_rows": null,
            "right": null,
            "justify_content": null,
            "_view_module": "@jupyter-widgets/base",
            "overflow": null,
            "_model_module_version": "1.2.0",
            "_view_count": null,
            "flex_flow": null,
            "width": null,
            "min_width": null,
            "border": null,
            "align_items": null,
            "bottom": null,
            "_model_module": "@jupyter-widgets/base",
            "top": null,
            "grid_column": null,
            "overflow_y": null,
            "overflow_x": null,
            "grid_auto_flow": null,
            "grid_area": null,
            "grid_template_columns": null,
            "flex": null,
            "_model_name": "LayoutModel",
            "justify_items": null,
            "grid_row": null,
            "max_height": null,
            "align_content": null,
            "visibility": null,
            "align_self": null,
            "height": null,
            "min_height": null,
            "padding": null,
            "grid_auto_rows": null,
            "grid_gap": null,
            "max_width": null,
            "order": null,
            "_view_module_version": "1.2.0",
            "grid_template_areas": null,
            "object_position": null,
            "object_fit": null,
            "grid_auto_columns": null,
            "margin": null,
            "display": null,
            "left": null
          }
        },
        "158aa78450d3486185a377f4a1233e17": {
          "model_module": "@jupyter-widgets/controls",
          "model_name": "FloatProgressModel",
          "state": {
            "_view_name": "ProgressView",
            "style": "IPY_MODEL_367b7185c4ec424e9068be5496b02ebd",
            "_dom_classes": [],
            "description": "100%",
            "_model_name": "FloatProgressModel",
            "bar_style": "success",
            "max": 153164,
            "_view_module": "@jupyter-widgets/controls",
            "_model_module_version": "1.5.0",
            "value": 153164,
            "_view_count": null,
            "_view_module_version": "1.5.0",
            "orientation": "horizontal",
            "min": 0,
            "description_tooltip": null,
            "_model_module": "@jupyter-widgets/controls",
            "layout": "IPY_MODEL_7d2e580c4ac04c1e835e31880aae5ec3"
          }
        },
        "27b90df4cee54f2394e915af24f75a88": {
          "model_module": "@jupyter-widgets/controls",
          "model_name": "HTMLModel",
          "state": {
            "_view_name": "HTMLView",
            "style": "IPY_MODEL_45f3755586944c918253534d4e7015eb",
            "_dom_classes": [],
            "description": "",
            "_model_name": "HTMLModel",
            "placeholder": "​",
            "_view_module": "@jupyter-widgets/controls",
            "_model_module_version": "1.5.0",
            "value": " 153164/153164 [00:02&lt;00:00, 67954.36it/s]",
            "_view_count": null,
            "_view_module_version": "1.5.0",
            "description_tooltip": null,
            "_model_module": "@jupyter-widgets/controls",
            "layout": "IPY_MODEL_111096d78dd34c37b9723697a56e265d"
          }
        },
        "367b7185c4ec424e9068be5496b02ebd": {
          "model_module": "@jupyter-widgets/controls",
          "model_name": "ProgressStyleModel",
          "state": {
            "_view_name": "StyleView",
            "_model_name": "ProgressStyleModel",
            "description_width": "initial",
            "_view_module": "@jupyter-widgets/base",
            "_model_module_version": "1.5.0",
            "_view_count": null,
            "_view_module_version": "1.2.0",
            "bar_color": null,
            "_model_module": "@jupyter-widgets/controls"
          }
        },
        "7d2e580c4ac04c1e835e31880aae5ec3": {
          "model_module": "@jupyter-widgets/base",
          "model_name": "LayoutModel",
          "state": {
            "_view_name": "LayoutView",
            "grid_template_rows": null,
            "right": null,
            "justify_content": null,
            "_view_module": "@jupyter-widgets/base",
            "overflow": null,
            "_model_module_version": "1.2.0",
            "_view_count": null,
            "flex_flow": null,
            "width": null,
            "min_width": null,
            "border": null,
            "align_items": null,
            "bottom": null,
            "_model_module": "@jupyter-widgets/base",
            "top": null,
            "grid_column": null,
            "overflow_y": null,
            "overflow_x": null,
            "grid_auto_flow": null,
            "grid_area": null,
            "grid_template_columns": null,
            "flex": null,
            "_model_name": "LayoutModel",
            "justify_items": null,
            "grid_row": null,
            "max_height": null,
            "align_content": null,
            "visibility": null,
            "align_self": null,
            "height": null,
            "min_height": null,
            "padding": null,
            "grid_auto_rows": null,
            "grid_gap": null,
            "max_width": null,
            "order": null,
            "_view_module_version": "1.2.0",
            "grid_template_areas": null,
            "object_position": null,
            "object_fit": null,
            "grid_auto_columns": null,
            "margin": null,
            "display": null,
            "left": null
          }
        },
        "45f3755586944c918253534d4e7015eb": {
          "model_module": "@jupyter-widgets/controls",
          "model_name": "DescriptionStyleModel",
          "state": {
            "_view_name": "StyleView",
            "_model_name": "DescriptionStyleModel",
            "description_width": "",
            "_view_module": "@jupyter-widgets/base",
            "_model_module_version": "1.5.0",
            "_view_count": null,
            "_view_module_version": "1.2.0",
            "_model_module": "@jupyter-widgets/controls"
          }
        },
        "111096d78dd34c37b9723697a56e265d": {
          "model_module": "@jupyter-widgets/base",
          "model_name": "LayoutModel",
          "state": {
            "_view_name": "LayoutView",
            "grid_template_rows": null,
            "right": null,
            "justify_content": null,
            "_view_module": "@jupyter-widgets/base",
            "overflow": null,
            "_model_module_version": "1.2.0",
            "_view_count": null,
            "flex_flow": null,
            "width": null,
            "min_width": null,
            "border": null,
            "align_items": null,
            "bottom": null,
            "_model_module": "@jupyter-widgets/base",
            "top": null,
            "grid_column": null,
            "overflow_y": null,
            "overflow_x": null,
            "grid_auto_flow": null,
            "grid_area": null,
            "grid_template_columns": null,
            "flex": null,
            "_model_name": "LayoutModel",
            "justify_items": null,
            "grid_row": null,
            "max_height": null,
            "align_content": null,
            "visibility": null,
            "align_self": null,
            "height": null,
            "min_height": null,
            "padding": null,
            "grid_auto_rows": null,
            "grid_gap": null,
            "max_width": null,
            "order": null,
            "_view_module_version": "1.2.0",
            "grid_template_areas": null,
            "object_position": null,
            "object_fit": null,
            "grid_auto_columns": null,
            "margin": null,
            "display": null,
            "left": null
          }
        },
        "d6fff2e0549f486ca95cccd0d096d10f": {
          "model_module": "@jupyter-widgets/controls",
          "model_name": "HBoxModel",
          "state": {
            "_view_name": "HBoxView",
            "_dom_classes": [],
            "_model_name": "HBoxModel",
            "_view_module": "@jupyter-widgets/controls",
            "_model_module_version": "1.5.0",
            "_view_count": null,
            "_view_module_version": "1.5.0",
            "box_style": "",
            "layout": "IPY_MODEL_6898e573443d4b21baa608fa33a188d3",
            "_model_module": "@jupyter-widgets/controls",
            "children": [
              "IPY_MODEL_81e40751da7c4f67a1c14a8027a300c9",
              "IPY_MODEL_9ec296194dfd4fb7984a086f4037056e"
            ]
          }
        },
        "6898e573443d4b21baa608fa33a188d3": {
          "model_module": "@jupyter-widgets/base",
          "model_name": "LayoutModel",
          "state": {
            "_view_name": "LayoutView",
            "grid_template_rows": null,
            "right": null,
            "justify_content": null,
            "_view_module": "@jupyter-widgets/base",
            "overflow": null,
            "_model_module_version": "1.2.0",
            "_view_count": null,
            "flex_flow": null,
            "width": null,
            "min_width": null,
            "border": null,
            "align_items": null,
            "bottom": null,
            "_model_module": "@jupyter-widgets/base",
            "top": null,
            "grid_column": null,
            "overflow_y": null,
            "overflow_x": null,
            "grid_auto_flow": null,
            "grid_area": null,
            "grid_template_columns": null,
            "flex": null,
            "_model_name": "LayoutModel",
            "justify_items": null,
            "grid_row": null,
            "max_height": null,
            "align_content": null,
            "visibility": null,
            "align_self": null,
            "height": null,
            "min_height": null,
            "padding": null,
            "grid_auto_rows": null,
            "grid_gap": null,
            "max_width": null,
            "order": null,
            "_view_module_version": "1.2.0",
            "grid_template_areas": null,
            "object_position": null,
            "object_fit": null,
            "grid_auto_columns": null,
            "margin": null,
            "display": null,
            "left": null
          }
        },
        "81e40751da7c4f67a1c14a8027a300c9": {
          "model_module": "@jupyter-widgets/controls",
          "model_name": "FloatProgressModel",
          "state": {
            "_view_name": "ProgressView",
            "style": "IPY_MODEL_a83957bdf3b041ecb36a1422ae84c54d",
            "_dom_classes": [],
            "description": "100%",
            "_model_name": "FloatProgressModel",
            "bar_style": "success",
            "max": 159571,
            "_view_module": "@jupyter-widgets/controls",
            "_model_module_version": "1.5.0",
            "value": 159571,
            "_view_count": null,
            "_view_module_version": "1.5.0",
            "orientation": "horizontal",
            "min": 0,
            "description_tooltip": null,
            "_model_module": "@jupyter-widgets/controls",
            "layout": "IPY_MODEL_f07436ef9c9d4bb98d6a5d022ed8e2d0"
          }
        },
        "9ec296194dfd4fb7984a086f4037056e": {
          "model_module": "@jupyter-widgets/controls",
          "model_name": "HTMLModel",
          "state": {
            "_view_name": "HTMLView",
            "style": "IPY_MODEL_b8eaf684becc4c0a93d04704b9f7e45c",
            "_dom_classes": [],
            "description": "",
            "_model_name": "HTMLModel",
            "placeholder": "​",
            "_view_module": "@jupyter-widgets/controls",
            "_model_module_version": "1.5.0",
            "value": " 159571/159571 [00:41&lt;00:00, 3882.66it/s]",
            "_view_count": null,
            "_view_module_version": "1.5.0",
            "description_tooltip": null,
            "_model_module": "@jupyter-widgets/controls",
            "layout": "IPY_MODEL_e0d58e6568cc4814805629dcf93caaee"
          }
        },
        "a83957bdf3b041ecb36a1422ae84c54d": {
          "model_module": "@jupyter-widgets/controls",
          "model_name": "ProgressStyleModel",
          "state": {
            "_view_name": "StyleView",
            "_model_name": "ProgressStyleModel",
            "description_width": "initial",
            "_view_module": "@jupyter-widgets/base",
            "_model_module_version": "1.5.0",
            "_view_count": null,
            "_view_module_version": "1.2.0",
            "bar_color": null,
            "_model_module": "@jupyter-widgets/controls"
          }
        },
        "f07436ef9c9d4bb98d6a5d022ed8e2d0": {
          "model_module": "@jupyter-widgets/base",
          "model_name": "LayoutModel",
          "state": {
            "_view_name": "LayoutView",
            "grid_template_rows": null,
            "right": null,
            "justify_content": null,
            "_view_module": "@jupyter-widgets/base",
            "overflow": null,
            "_model_module_version": "1.2.0",
            "_view_count": null,
            "flex_flow": null,
            "width": null,
            "min_width": null,
            "border": null,
            "align_items": null,
            "bottom": null,
            "_model_module": "@jupyter-widgets/base",
            "top": null,
            "grid_column": null,
            "overflow_y": null,
            "overflow_x": null,
            "grid_auto_flow": null,
            "grid_area": null,
            "grid_template_columns": null,
            "flex": null,
            "_model_name": "LayoutModel",
            "justify_items": null,
            "grid_row": null,
            "max_height": null,
            "align_content": null,
            "visibility": null,
            "align_self": null,
            "height": null,
            "min_height": null,
            "padding": null,
            "grid_auto_rows": null,
            "grid_gap": null,
            "max_width": null,
            "order": null,
            "_view_module_version": "1.2.0",
            "grid_template_areas": null,
            "object_position": null,
            "object_fit": null,
            "grid_auto_columns": null,
            "margin": null,
            "display": null,
            "left": null
          }
        },
        "b8eaf684becc4c0a93d04704b9f7e45c": {
          "model_module": "@jupyter-widgets/controls",
          "model_name": "DescriptionStyleModel",
          "state": {
            "_view_name": "StyleView",
            "_model_name": "DescriptionStyleModel",
            "description_width": "",
            "_view_module": "@jupyter-widgets/base",
            "_model_module_version": "1.5.0",
            "_view_count": null,
            "_view_module_version": "1.2.0",
            "_model_module": "@jupyter-widgets/controls"
          }
        },
        "e0d58e6568cc4814805629dcf93caaee": {
          "model_module": "@jupyter-widgets/base",
          "model_name": "LayoutModel",
          "state": {
            "_view_name": "LayoutView",
            "grid_template_rows": null,
            "right": null,
            "justify_content": null,
            "_view_module": "@jupyter-widgets/base",
            "overflow": null,
            "_model_module_version": "1.2.0",
            "_view_count": null,
            "flex_flow": null,
            "width": null,
            "min_width": null,
            "border": null,
            "align_items": null,
            "bottom": null,
            "_model_module": "@jupyter-widgets/base",
            "top": null,
            "grid_column": null,
            "overflow_y": null,
            "overflow_x": null,
            "grid_auto_flow": null,
            "grid_area": null,
            "grid_template_columns": null,
            "flex": null,
            "_model_name": "LayoutModel",
            "justify_items": null,
            "grid_row": null,
            "max_height": null,
            "align_content": null,
            "visibility": null,
            "align_self": null,
            "height": null,
            "min_height": null,
            "padding": null,
            "grid_auto_rows": null,
            "grid_gap": null,
            "max_width": null,
            "order": null,
            "_view_module_version": "1.2.0",
            "grid_template_areas": null,
            "object_position": null,
            "object_fit": null,
            "grid_auto_columns": null,
            "margin": null,
            "display": null,
            "left": null
          }
        },
        "5975485e8c0949a9ac2d7c2446f1cbd9": {
          "model_module": "@jupyter-widgets/controls",
          "model_name": "HBoxModel",
          "state": {
            "_view_name": "HBoxView",
            "_dom_classes": [],
            "_model_name": "HBoxModel",
            "_view_module": "@jupyter-widgets/controls",
            "_model_module_version": "1.5.0",
            "_view_count": null,
            "_view_module_version": "1.5.0",
            "box_style": "",
            "layout": "IPY_MODEL_67e5166a12ed4556915cf3a5f64dd2d8",
            "_model_module": "@jupyter-widgets/controls",
            "children": [
              "IPY_MODEL_02f086aac4e24ecb99ae6d9b8b9288e6",
              "IPY_MODEL_fd0a4646fbbc4d6db1cbe8387b47548a"
            ]
          }
        },
        "67e5166a12ed4556915cf3a5f64dd2d8": {
          "model_module": "@jupyter-widgets/base",
          "model_name": "LayoutModel",
          "state": {
            "_view_name": "LayoutView",
            "grid_template_rows": null,
            "right": null,
            "justify_content": null,
            "_view_module": "@jupyter-widgets/base",
            "overflow": null,
            "_model_module_version": "1.2.0",
            "_view_count": null,
            "flex_flow": null,
            "width": null,
            "min_width": null,
            "border": null,
            "align_items": null,
            "bottom": null,
            "_model_module": "@jupyter-widgets/base",
            "top": null,
            "grid_column": null,
            "overflow_y": null,
            "overflow_x": null,
            "grid_auto_flow": null,
            "grid_area": null,
            "grid_template_columns": null,
            "flex": null,
            "_model_name": "LayoutModel",
            "justify_items": null,
            "grid_row": null,
            "max_height": null,
            "align_content": null,
            "visibility": null,
            "align_self": null,
            "height": null,
            "min_height": null,
            "padding": null,
            "grid_auto_rows": null,
            "grid_gap": null,
            "max_width": null,
            "order": null,
            "_view_module_version": "1.2.0",
            "grid_template_areas": null,
            "object_position": null,
            "object_fit": null,
            "grid_auto_columns": null,
            "margin": null,
            "display": null,
            "left": null
          }
        },
        "02f086aac4e24ecb99ae6d9b8b9288e6": {
          "model_module": "@jupyter-widgets/controls",
          "model_name": "FloatProgressModel",
          "state": {
            "_view_name": "ProgressView",
            "style": "IPY_MODEL_7da637a12ec64133b032fe1ab785b902",
            "_dom_classes": [],
            "description": "100%",
            "_model_name": "FloatProgressModel",
            "bar_style": "success",
            "max": 153164,
            "_view_module": "@jupyter-widgets/controls",
            "_model_module_version": "1.5.0",
            "value": 153164,
            "_view_count": null,
            "_view_module_version": "1.5.0",
            "orientation": "horizontal",
            "min": 0,
            "description_tooltip": null,
            "_model_module": "@jupyter-widgets/controls",
            "layout": "IPY_MODEL_5c5841c55b78440da5441dfc4f8f9e79"
          }
        },
        "fd0a4646fbbc4d6db1cbe8387b47548a": {
          "model_module": "@jupyter-widgets/controls",
          "model_name": "HTMLModel",
          "state": {
            "_view_name": "HTMLView",
            "style": "IPY_MODEL_701284d355b94bb5819434735738c110",
            "_dom_classes": [],
            "description": "",
            "_model_name": "HTMLModel",
            "placeholder": "​",
            "_view_module": "@jupyter-widgets/controls",
            "_model_module_version": "1.5.0",
            "value": " 153164/153164 [00:11&lt;00:00, 13214.52it/s]",
            "_view_count": null,
            "_view_module_version": "1.5.0",
            "description_tooltip": null,
            "_model_module": "@jupyter-widgets/controls",
            "layout": "IPY_MODEL_718254b172204741980275ed1ce545f4"
          }
        },
        "7da637a12ec64133b032fe1ab785b902": {
          "model_module": "@jupyter-widgets/controls",
          "model_name": "ProgressStyleModel",
          "state": {
            "_view_name": "StyleView",
            "_model_name": "ProgressStyleModel",
            "description_width": "initial",
            "_view_module": "@jupyter-widgets/base",
            "_model_module_version": "1.5.0",
            "_view_count": null,
            "_view_module_version": "1.2.0",
            "bar_color": null,
            "_model_module": "@jupyter-widgets/controls"
          }
        },
        "5c5841c55b78440da5441dfc4f8f9e79": {
          "model_module": "@jupyter-widgets/base",
          "model_name": "LayoutModel",
          "state": {
            "_view_name": "LayoutView",
            "grid_template_rows": null,
            "right": null,
            "justify_content": null,
            "_view_module": "@jupyter-widgets/base",
            "overflow": null,
            "_model_module_version": "1.2.0",
            "_view_count": null,
            "flex_flow": null,
            "width": null,
            "min_width": null,
            "border": null,
            "align_items": null,
            "bottom": null,
            "_model_module": "@jupyter-widgets/base",
            "top": null,
            "grid_column": null,
            "overflow_y": null,
            "overflow_x": null,
            "grid_auto_flow": null,
            "grid_area": null,
            "grid_template_columns": null,
            "flex": null,
            "_model_name": "LayoutModel",
            "justify_items": null,
            "grid_row": null,
            "max_height": null,
            "align_content": null,
            "visibility": null,
            "align_self": null,
            "height": null,
            "min_height": null,
            "padding": null,
            "grid_auto_rows": null,
            "grid_gap": null,
            "max_width": null,
            "order": null,
            "_view_module_version": "1.2.0",
            "grid_template_areas": null,
            "object_position": null,
            "object_fit": null,
            "grid_auto_columns": null,
            "margin": null,
            "display": null,
            "left": null
          }
        },
        "701284d355b94bb5819434735738c110": {
          "model_module": "@jupyter-widgets/controls",
          "model_name": "DescriptionStyleModel",
          "state": {
            "_view_name": "StyleView",
            "_model_name": "DescriptionStyleModel",
            "description_width": "",
            "_view_module": "@jupyter-widgets/base",
            "_model_module_version": "1.5.0",
            "_view_count": null,
            "_view_module_version": "1.2.0",
            "_model_module": "@jupyter-widgets/controls"
          }
        },
        "718254b172204741980275ed1ce545f4": {
          "model_module": "@jupyter-widgets/base",
          "model_name": "LayoutModel",
          "state": {
            "_view_name": "LayoutView",
            "grid_template_rows": null,
            "right": null,
            "justify_content": null,
            "_view_module": "@jupyter-widgets/base",
            "overflow": null,
            "_model_module_version": "1.2.0",
            "_view_count": null,
            "flex_flow": null,
            "width": null,
            "min_width": null,
            "border": null,
            "align_items": null,
            "bottom": null,
            "_model_module": "@jupyter-widgets/base",
            "top": null,
            "grid_column": null,
            "overflow_y": null,
            "overflow_x": null,
            "grid_auto_flow": null,
            "grid_area": null,
            "grid_template_columns": null,
            "flex": null,
            "_model_name": "LayoutModel",
            "justify_items": null,
            "grid_row": null,
            "max_height": null,
            "align_content": null,
            "visibility": null,
            "align_self": null,
            "height": null,
            "min_height": null,
            "padding": null,
            "grid_auto_rows": null,
            "grid_gap": null,
            "max_width": null,
            "order": null,
            "_view_module_version": "1.2.0",
            "grid_template_areas": null,
            "object_position": null,
            "object_fit": null,
            "grid_auto_columns": null,
            "margin": null,
            "display": null,
            "left": null
          }
        },
        "93be9433253c49469065bc0e0291c101": {
          "model_module": "@jupyter-widgets/controls",
          "model_name": "HBoxModel",
          "state": {
            "_view_name": "HBoxView",
            "_dom_classes": [],
            "_model_name": "HBoxModel",
            "_view_module": "@jupyter-widgets/controls",
            "_model_module_version": "1.5.0",
            "_view_count": null,
            "_view_module_version": "1.5.0",
            "box_style": "",
            "layout": "IPY_MODEL_c7cdc6f905cc445888b2766d7eca0e77",
            "_model_module": "@jupyter-widgets/controls",
            "children": [
              "IPY_MODEL_1a36eed82a814ddaafe44850d44a7136",
              "IPY_MODEL_d3bb8cd4e98d4d8583d3ea87bada52c6"
            ]
          }
        },
        "c7cdc6f905cc445888b2766d7eca0e77": {
          "model_module": "@jupyter-widgets/base",
          "model_name": "LayoutModel",
          "state": {
            "_view_name": "LayoutView",
            "grid_template_rows": null,
            "right": null,
            "justify_content": null,
            "_view_module": "@jupyter-widgets/base",
            "overflow": null,
            "_model_module_version": "1.2.0",
            "_view_count": null,
            "flex_flow": null,
            "width": null,
            "min_width": null,
            "border": null,
            "align_items": null,
            "bottom": null,
            "_model_module": "@jupyter-widgets/base",
            "top": null,
            "grid_column": null,
            "overflow_y": null,
            "overflow_x": null,
            "grid_auto_flow": null,
            "grid_area": null,
            "grid_template_columns": null,
            "flex": null,
            "_model_name": "LayoutModel",
            "justify_items": null,
            "grid_row": null,
            "max_height": null,
            "align_content": null,
            "visibility": null,
            "align_self": null,
            "height": null,
            "min_height": null,
            "padding": null,
            "grid_auto_rows": null,
            "grid_gap": null,
            "max_width": null,
            "order": null,
            "_view_module_version": "1.2.0",
            "grid_template_areas": null,
            "object_position": null,
            "object_fit": null,
            "grid_auto_columns": null,
            "margin": null,
            "display": null,
            "left": null
          }
        },
        "1a36eed82a814ddaafe44850d44a7136": {
          "model_module": "@jupyter-widgets/controls",
          "model_name": "FloatProgressModel",
          "state": {
            "_view_name": "ProgressView",
            "style": "IPY_MODEL_7fc50042c27a417f92be610c5f97e2c8",
            "_dom_classes": [],
            "description": "100%",
            "_model_name": "FloatProgressModel",
            "bar_style": "success",
            "max": 159571,
            "_view_module": "@jupyter-widgets/controls",
            "_model_module_version": "1.5.0",
            "value": 159571,
            "_view_count": null,
            "_view_module_version": "1.5.0",
            "orientation": "horizontal",
            "min": 0,
            "description_tooltip": null,
            "_model_module": "@jupyter-widgets/controls",
            "layout": "IPY_MODEL_f818e5f5b4f2423684e3bd9c331495b3"
          }
        },
        "d3bb8cd4e98d4d8583d3ea87bada52c6": {
          "model_module": "@jupyter-widgets/controls",
          "model_name": "HTMLModel",
          "state": {
            "_view_name": "HTMLView",
            "style": "IPY_MODEL_578da83e506846c09aecb0bea2c0e2c2",
            "_dom_classes": [],
            "description": "",
            "_model_name": "HTMLModel",
            "placeholder": "​",
            "_view_module": "@jupyter-widgets/controls",
            "_model_module_version": "1.5.0",
            "value": " 159571/159571 [00:07&lt;00:00, 20858.40it/s]",
            "_view_count": null,
            "_view_module_version": "1.5.0",
            "description_tooltip": null,
            "_model_module": "@jupyter-widgets/controls",
            "layout": "IPY_MODEL_ccf8f2f3ffa54be99b606a7e2f390c68"
          }
        },
        "7fc50042c27a417f92be610c5f97e2c8": {
          "model_module": "@jupyter-widgets/controls",
          "model_name": "ProgressStyleModel",
          "state": {
            "_view_name": "StyleView",
            "_model_name": "ProgressStyleModel",
            "description_width": "initial",
            "_view_module": "@jupyter-widgets/base",
            "_model_module_version": "1.5.0",
            "_view_count": null,
            "_view_module_version": "1.2.0",
            "bar_color": null,
            "_model_module": "@jupyter-widgets/controls"
          }
        },
        "f818e5f5b4f2423684e3bd9c331495b3": {
          "model_module": "@jupyter-widgets/base",
          "model_name": "LayoutModel",
          "state": {
            "_view_name": "LayoutView",
            "grid_template_rows": null,
            "right": null,
            "justify_content": null,
            "_view_module": "@jupyter-widgets/base",
            "overflow": null,
            "_model_module_version": "1.2.0",
            "_view_count": null,
            "flex_flow": null,
            "width": null,
            "min_width": null,
            "border": null,
            "align_items": null,
            "bottom": null,
            "_model_module": "@jupyter-widgets/base",
            "top": null,
            "grid_column": null,
            "overflow_y": null,
            "overflow_x": null,
            "grid_auto_flow": null,
            "grid_area": null,
            "grid_template_columns": null,
            "flex": null,
            "_model_name": "LayoutModel",
            "justify_items": null,
            "grid_row": null,
            "max_height": null,
            "align_content": null,
            "visibility": null,
            "align_self": null,
            "height": null,
            "min_height": null,
            "padding": null,
            "grid_auto_rows": null,
            "grid_gap": null,
            "max_width": null,
            "order": null,
            "_view_module_version": "1.2.0",
            "grid_template_areas": null,
            "object_position": null,
            "object_fit": null,
            "grid_auto_columns": null,
            "margin": null,
            "display": null,
            "left": null
          }
        },
        "578da83e506846c09aecb0bea2c0e2c2": {
          "model_module": "@jupyter-widgets/controls",
          "model_name": "DescriptionStyleModel",
          "state": {
            "_view_name": "StyleView",
            "_model_name": "DescriptionStyleModel",
            "description_width": "",
            "_view_module": "@jupyter-widgets/base",
            "_model_module_version": "1.5.0",
            "_view_count": null,
            "_view_module_version": "1.2.0",
            "_model_module": "@jupyter-widgets/controls"
          }
        },
        "ccf8f2f3ffa54be99b606a7e2f390c68": {
          "model_module": "@jupyter-widgets/base",
          "model_name": "LayoutModel",
          "state": {
            "_view_name": "LayoutView",
            "grid_template_rows": null,
            "right": null,
            "justify_content": null,
            "_view_module": "@jupyter-widgets/base",
            "overflow": null,
            "_model_module_version": "1.2.0",
            "_view_count": null,
            "flex_flow": null,
            "width": null,
            "min_width": null,
            "border": null,
            "align_items": null,
            "bottom": null,
            "_model_module": "@jupyter-widgets/base",
            "top": null,
            "grid_column": null,
            "overflow_y": null,
            "overflow_x": null,
            "grid_auto_flow": null,
            "grid_area": null,
            "grid_template_columns": null,
            "flex": null,
            "_model_name": "LayoutModel",
            "justify_items": null,
            "grid_row": null,
            "max_height": null,
            "align_content": null,
            "visibility": null,
            "align_self": null,
            "height": null,
            "min_height": null,
            "padding": null,
            "grid_auto_rows": null,
            "grid_gap": null,
            "max_width": null,
            "order": null,
            "_view_module_version": "1.2.0",
            "grid_template_areas": null,
            "object_position": null,
            "object_fit": null,
            "grid_auto_columns": null,
            "margin": null,
            "display": null,
            "left": null
          }
        },
        "d9d92e62cc6148d3bfbc78b088855d55": {
          "model_module": "@jupyter-widgets/controls",
          "model_name": "HBoxModel",
          "state": {
            "_view_name": "HBoxView",
            "_dom_classes": [],
            "_model_name": "HBoxModel",
            "_view_module": "@jupyter-widgets/controls",
            "_model_module_version": "1.5.0",
            "_view_count": null,
            "_view_module_version": "1.5.0",
            "box_style": "",
            "layout": "IPY_MODEL_5ff399eafaa046209213fe00ffe16cdb",
            "_model_module": "@jupyter-widgets/controls",
            "children": [
              "IPY_MODEL_2a393b5dd6fa4207a0d641e31616ff06",
              "IPY_MODEL_92eb49aaed7842dda9d58dc235b1b609"
            ]
          }
        },
        "5ff399eafaa046209213fe00ffe16cdb": {
          "model_module": "@jupyter-widgets/base",
          "model_name": "LayoutModel",
          "state": {
            "_view_name": "LayoutView",
            "grid_template_rows": null,
            "right": null,
            "justify_content": null,
            "_view_module": "@jupyter-widgets/base",
            "overflow": null,
            "_model_module_version": "1.2.0",
            "_view_count": null,
            "flex_flow": null,
            "width": null,
            "min_width": null,
            "border": null,
            "align_items": null,
            "bottom": null,
            "_model_module": "@jupyter-widgets/base",
            "top": null,
            "grid_column": null,
            "overflow_y": null,
            "overflow_x": null,
            "grid_auto_flow": null,
            "grid_area": null,
            "grid_template_columns": null,
            "flex": null,
            "_model_name": "LayoutModel",
            "justify_items": null,
            "grid_row": null,
            "max_height": null,
            "align_content": null,
            "visibility": null,
            "align_self": null,
            "height": null,
            "min_height": null,
            "padding": null,
            "grid_auto_rows": null,
            "grid_gap": null,
            "max_width": null,
            "order": null,
            "_view_module_version": "1.2.0",
            "grid_template_areas": null,
            "object_position": null,
            "object_fit": null,
            "grid_auto_columns": null,
            "margin": null,
            "display": null,
            "left": null
          }
        },
        "2a393b5dd6fa4207a0d641e31616ff06": {
          "model_module": "@jupyter-widgets/controls",
          "model_name": "FloatProgressModel",
          "state": {
            "_view_name": "ProgressView",
            "style": "IPY_MODEL_8f6038ab26724eedbd05ec98bd7ea053",
            "_dom_classes": [],
            "description": "100%",
            "_model_name": "FloatProgressModel",
            "bar_style": "success",
            "max": 153164,
            "_view_module": "@jupyter-widgets/controls",
            "_model_module_version": "1.5.0",
            "value": 153164,
            "_view_count": null,
            "_view_module_version": "1.5.0",
            "orientation": "horizontal",
            "min": 0,
            "description_tooltip": null,
            "_model_module": "@jupyter-widgets/controls",
            "layout": "IPY_MODEL_ca50de46a51e42daa0cb00c6c556b6f0"
          }
        },
        "92eb49aaed7842dda9d58dc235b1b609": {
          "model_module": "@jupyter-widgets/controls",
          "model_name": "HTMLModel",
          "state": {
            "_view_name": "HTMLView",
            "style": "IPY_MODEL_aa63eb544f6a439fb78b81767ca5fc27",
            "_dom_classes": [],
            "description": "",
            "_model_name": "HTMLModel",
            "placeholder": "​",
            "_view_module": "@jupyter-widgets/controls",
            "_model_module_version": "1.5.0",
            "value": " 153164/153164 [00:23&lt;00:00, 6450.66it/s]",
            "_view_count": null,
            "_view_module_version": "1.5.0",
            "description_tooltip": null,
            "_model_module": "@jupyter-widgets/controls",
            "layout": "IPY_MODEL_fb81022a1f4d4605a4d00125fa89af66"
          }
        },
        "8f6038ab26724eedbd05ec98bd7ea053": {
          "model_module": "@jupyter-widgets/controls",
          "model_name": "ProgressStyleModel",
          "state": {
            "_view_name": "StyleView",
            "_model_name": "ProgressStyleModel",
            "description_width": "initial",
            "_view_module": "@jupyter-widgets/base",
            "_model_module_version": "1.5.0",
            "_view_count": null,
            "_view_module_version": "1.2.0",
            "bar_color": null,
            "_model_module": "@jupyter-widgets/controls"
          }
        },
        "ca50de46a51e42daa0cb00c6c556b6f0": {
          "model_module": "@jupyter-widgets/base",
          "model_name": "LayoutModel",
          "state": {
            "_view_name": "LayoutView",
            "grid_template_rows": null,
            "right": null,
            "justify_content": null,
            "_view_module": "@jupyter-widgets/base",
            "overflow": null,
            "_model_module_version": "1.2.0",
            "_view_count": null,
            "flex_flow": null,
            "width": null,
            "min_width": null,
            "border": null,
            "align_items": null,
            "bottom": null,
            "_model_module": "@jupyter-widgets/base",
            "top": null,
            "grid_column": null,
            "overflow_y": null,
            "overflow_x": null,
            "grid_auto_flow": null,
            "grid_area": null,
            "grid_template_columns": null,
            "flex": null,
            "_model_name": "LayoutModel",
            "justify_items": null,
            "grid_row": null,
            "max_height": null,
            "align_content": null,
            "visibility": null,
            "align_self": null,
            "height": null,
            "min_height": null,
            "padding": null,
            "grid_auto_rows": null,
            "grid_gap": null,
            "max_width": null,
            "order": null,
            "_view_module_version": "1.2.0",
            "grid_template_areas": null,
            "object_position": null,
            "object_fit": null,
            "grid_auto_columns": null,
            "margin": null,
            "display": null,
            "left": null
          }
        },
        "aa63eb544f6a439fb78b81767ca5fc27": {
          "model_module": "@jupyter-widgets/controls",
          "model_name": "DescriptionStyleModel",
          "state": {
            "_view_name": "StyleView",
            "_model_name": "DescriptionStyleModel",
            "description_width": "",
            "_view_module": "@jupyter-widgets/base",
            "_model_module_version": "1.5.0",
            "_view_count": null,
            "_view_module_version": "1.2.0",
            "_model_module": "@jupyter-widgets/controls"
          }
        },
        "fb81022a1f4d4605a4d00125fa89af66": {
          "model_module": "@jupyter-widgets/base",
          "model_name": "LayoutModel",
          "state": {
            "_view_name": "LayoutView",
            "grid_template_rows": null,
            "right": null,
            "justify_content": null,
            "_view_module": "@jupyter-widgets/base",
            "overflow": null,
            "_model_module_version": "1.2.0",
            "_view_count": null,
            "flex_flow": null,
            "width": null,
            "min_width": null,
            "border": null,
            "align_items": null,
            "bottom": null,
            "_model_module": "@jupyter-widgets/base",
            "top": null,
            "grid_column": null,
            "overflow_y": null,
            "overflow_x": null,
            "grid_auto_flow": null,
            "grid_area": null,
            "grid_template_columns": null,
            "flex": null,
            "_model_name": "LayoutModel",
            "justify_items": null,
            "grid_row": null,
            "max_height": null,
            "align_content": null,
            "visibility": null,
            "align_self": null,
            "height": null,
            "min_height": null,
            "padding": null,
            "grid_auto_rows": null,
            "grid_gap": null,
            "max_width": null,
            "order": null,
            "_view_module_version": "1.2.0",
            "grid_template_areas": null,
            "object_position": null,
            "object_fit": null,
            "grid_auto_columns": null,
            "margin": null,
            "display": null,
            "left": null
          }
        },
        "7f0e09706d84426ca858e3d3dd45cc50": {
          "model_module": "@jupyter-widgets/controls",
          "model_name": "HBoxModel",
          "state": {
            "_view_name": "HBoxView",
            "_dom_classes": [],
            "_model_name": "HBoxModel",
            "_view_module": "@jupyter-widgets/controls",
            "_model_module_version": "1.5.0",
            "_view_count": null,
            "_view_module_version": "1.5.0",
            "box_style": "",
            "layout": "IPY_MODEL_eb85786a1e5045f68b296e1759865e5a",
            "_model_module": "@jupyter-widgets/controls",
            "children": [
              "IPY_MODEL_65466e0c0e70405fba8a60e6cf6fff55",
              "IPY_MODEL_63f92503a6b449359bc733a52addd81a"
            ]
          }
        },
        "eb85786a1e5045f68b296e1759865e5a": {
          "model_module": "@jupyter-widgets/base",
          "model_name": "LayoutModel",
          "state": {
            "_view_name": "LayoutView",
            "grid_template_rows": null,
            "right": null,
            "justify_content": null,
            "_view_module": "@jupyter-widgets/base",
            "overflow": null,
            "_model_module_version": "1.2.0",
            "_view_count": null,
            "flex_flow": null,
            "width": null,
            "min_width": null,
            "border": null,
            "align_items": null,
            "bottom": null,
            "_model_module": "@jupyter-widgets/base",
            "top": null,
            "grid_column": null,
            "overflow_y": null,
            "overflow_x": null,
            "grid_auto_flow": null,
            "grid_area": null,
            "grid_template_columns": null,
            "flex": null,
            "_model_name": "LayoutModel",
            "justify_items": null,
            "grid_row": null,
            "max_height": null,
            "align_content": null,
            "visibility": null,
            "align_self": null,
            "height": null,
            "min_height": null,
            "padding": null,
            "grid_auto_rows": null,
            "grid_gap": null,
            "max_width": null,
            "order": null,
            "_view_module_version": "1.2.0",
            "grid_template_areas": null,
            "object_position": null,
            "object_fit": null,
            "grid_auto_columns": null,
            "margin": null,
            "display": null,
            "left": null
          }
        },
        "65466e0c0e70405fba8a60e6cf6fff55": {
          "model_module": "@jupyter-widgets/controls",
          "model_name": "IntProgressModel",
          "state": {
            "_view_name": "ProgressView",
            "style": "IPY_MODEL_61ac466ae3334124aeb8da244c9fd899",
            "_dom_classes": [],
            "description": "100%",
            "_model_name": "IntProgressModel",
            "bar_style": "success",
            "max": 159571,
            "_view_module": "@jupyter-widgets/controls",
            "_model_module_version": "1.5.0",
            "value": 159571,
            "_view_count": null,
            "_view_module_version": "1.5.0",
            "orientation": "horizontal",
            "min": 0,
            "description_tooltip": null,
            "_model_module": "@jupyter-widgets/controls",
            "layout": "IPY_MODEL_82be254a423442ecaea947e49ba9cf21"
          }
        },
        "63f92503a6b449359bc733a52addd81a": {
          "model_module": "@jupyter-widgets/controls",
          "model_name": "HTMLModel",
          "state": {
            "_view_name": "HTMLView",
            "style": "IPY_MODEL_0f5a598825cb4a13a1ba2e1dd46b4c90",
            "_dom_classes": [],
            "description": "",
            "_model_name": "HTMLModel",
            "placeholder": "​",
            "_view_module": "@jupyter-widgets/controls",
            "_model_module_version": "1.5.0",
            "value": " 159571/159571 [05:17&lt;00:00, 502.60it/s]",
            "_view_count": null,
            "_view_module_version": "1.5.0",
            "description_tooltip": null,
            "_model_module": "@jupyter-widgets/controls",
            "layout": "IPY_MODEL_9fad9a25fe34480292feef1c22ed0258"
          }
        },
        "61ac466ae3334124aeb8da244c9fd899": {
          "model_module": "@jupyter-widgets/controls",
          "model_name": "ProgressStyleModel",
          "state": {
            "_view_name": "StyleView",
            "_model_name": "ProgressStyleModel",
            "description_width": "initial",
            "_view_module": "@jupyter-widgets/base",
            "_model_module_version": "1.5.0",
            "_view_count": null,
            "_view_module_version": "1.2.0",
            "bar_color": null,
            "_model_module": "@jupyter-widgets/controls"
          }
        },
        "82be254a423442ecaea947e49ba9cf21": {
          "model_module": "@jupyter-widgets/base",
          "model_name": "LayoutModel",
          "state": {
            "_view_name": "LayoutView",
            "grid_template_rows": null,
            "right": null,
            "justify_content": null,
            "_view_module": "@jupyter-widgets/base",
            "overflow": null,
            "_model_module_version": "1.2.0",
            "_view_count": null,
            "flex_flow": null,
            "width": null,
            "min_width": null,
            "border": null,
            "align_items": null,
            "bottom": null,
            "_model_module": "@jupyter-widgets/base",
            "top": null,
            "grid_column": null,
            "overflow_y": null,
            "overflow_x": null,
            "grid_auto_flow": null,
            "grid_area": null,
            "grid_template_columns": null,
            "flex": null,
            "_model_name": "LayoutModel",
            "justify_items": null,
            "grid_row": null,
            "max_height": null,
            "align_content": null,
            "visibility": null,
            "align_self": null,
            "height": null,
            "min_height": null,
            "padding": null,
            "grid_auto_rows": null,
            "grid_gap": null,
            "max_width": null,
            "order": null,
            "_view_module_version": "1.2.0",
            "grid_template_areas": null,
            "object_position": null,
            "object_fit": null,
            "grid_auto_columns": null,
            "margin": null,
            "display": null,
            "left": null
          }
        },
        "0f5a598825cb4a13a1ba2e1dd46b4c90": {
          "model_module": "@jupyter-widgets/controls",
          "model_name": "DescriptionStyleModel",
          "state": {
            "_view_name": "StyleView",
            "_model_name": "DescriptionStyleModel",
            "description_width": "",
            "_view_module": "@jupyter-widgets/base",
            "_model_module_version": "1.5.0",
            "_view_count": null,
            "_view_module_version": "1.2.0",
            "_model_module": "@jupyter-widgets/controls"
          }
        },
        "9fad9a25fe34480292feef1c22ed0258": {
          "model_module": "@jupyter-widgets/base",
          "model_name": "LayoutModel",
          "state": {
            "_view_name": "LayoutView",
            "grid_template_rows": null,
            "right": null,
            "justify_content": null,
            "_view_module": "@jupyter-widgets/base",
            "overflow": null,
            "_model_module_version": "1.2.0",
            "_view_count": null,
            "flex_flow": null,
            "width": null,
            "min_width": null,
            "border": null,
            "align_items": null,
            "bottom": null,
            "_model_module": "@jupyter-widgets/base",
            "top": null,
            "grid_column": null,
            "overflow_y": null,
            "overflow_x": null,
            "grid_auto_flow": null,
            "grid_area": null,
            "grid_template_columns": null,
            "flex": null,
            "_model_name": "LayoutModel",
            "justify_items": null,
            "grid_row": null,
            "max_height": null,
            "align_content": null,
            "visibility": null,
            "align_self": null,
            "height": null,
            "min_height": null,
            "padding": null,
            "grid_auto_rows": null,
            "grid_gap": null,
            "max_width": null,
            "order": null,
            "_view_module_version": "1.2.0",
            "grid_template_areas": null,
            "object_position": null,
            "object_fit": null,
            "grid_auto_columns": null,
            "margin": null,
            "display": null,
            "left": null
          }
        },
        "ba617f2937ba467db4a375a9ef21c0ff": {
          "model_module": "@jupyter-widgets/controls",
          "model_name": "HBoxModel",
          "state": {
            "_view_name": "HBoxView",
            "_dom_classes": [],
            "_model_name": "HBoxModel",
            "_view_module": "@jupyter-widgets/controls",
            "_model_module_version": "1.5.0",
            "_view_count": null,
            "_view_module_version": "1.5.0",
            "box_style": "",
            "layout": "IPY_MODEL_616ad884100a47c1b20690cf4e4b5a63",
            "_model_module": "@jupyter-widgets/controls",
            "children": [
              "IPY_MODEL_4c3e4cf8c3884243a186351c339466b7",
              "IPY_MODEL_1df35884326d46caba445965c204ceda"
            ]
          }
        },
        "616ad884100a47c1b20690cf4e4b5a63": {
          "model_module": "@jupyter-widgets/base",
          "model_name": "LayoutModel",
          "state": {
            "_view_name": "LayoutView",
            "grid_template_rows": null,
            "right": null,
            "justify_content": null,
            "_view_module": "@jupyter-widgets/base",
            "overflow": null,
            "_model_module_version": "1.2.0",
            "_view_count": null,
            "flex_flow": null,
            "width": null,
            "min_width": null,
            "border": null,
            "align_items": null,
            "bottom": null,
            "_model_module": "@jupyter-widgets/base",
            "top": null,
            "grid_column": null,
            "overflow_y": null,
            "overflow_x": null,
            "grid_auto_flow": null,
            "grid_area": null,
            "grid_template_columns": null,
            "flex": null,
            "_model_name": "LayoutModel",
            "justify_items": null,
            "grid_row": null,
            "max_height": null,
            "align_content": null,
            "visibility": null,
            "align_self": null,
            "height": null,
            "min_height": null,
            "padding": null,
            "grid_auto_rows": null,
            "grid_gap": null,
            "max_width": null,
            "order": null,
            "_view_module_version": "1.2.0",
            "grid_template_areas": null,
            "object_position": null,
            "object_fit": null,
            "grid_auto_columns": null,
            "margin": null,
            "display": null,
            "left": null
          }
        },
        "4c3e4cf8c3884243a186351c339466b7": {
          "model_module": "@jupyter-widgets/controls",
          "model_name": "IntProgressModel",
          "state": {
            "_view_name": "ProgressView",
            "style": "IPY_MODEL_14668dee86e345eeba2bc5195b3db232",
            "_dom_classes": [],
            "description": "100%",
            "_model_name": "IntProgressModel",
            "bar_style": "success",
            "max": 159571,
            "_view_module": "@jupyter-widgets/controls",
            "_model_module_version": "1.5.0",
            "value": 159571,
            "_view_count": null,
            "_view_module_version": "1.5.0",
            "orientation": "horizontal",
            "min": 0,
            "description_tooltip": null,
            "_model_module": "@jupyter-widgets/controls",
            "layout": "IPY_MODEL_1e31be191ef6401089e476c2336b4370"
          }
        },
        "1df35884326d46caba445965c204ceda": {
          "model_module": "@jupyter-widgets/controls",
          "model_name": "HTMLModel",
          "state": {
            "_view_name": "HTMLView",
            "style": "IPY_MODEL_19a602ce34d2433299c60bd5c57a50a4",
            "_dom_classes": [],
            "description": "",
            "_model_name": "HTMLModel",
            "placeholder": "​",
            "_view_module": "@jupyter-widgets/controls",
            "_model_module_version": "1.5.0",
            "value": " 159571/159571 [00:02&lt;00:00, 57111.93it/s]",
            "_view_count": null,
            "_view_module_version": "1.5.0",
            "description_tooltip": null,
            "_model_module": "@jupyter-widgets/controls",
            "layout": "IPY_MODEL_fde894323b1840ee83e89a8a70a75a84"
          }
        },
        "14668dee86e345eeba2bc5195b3db232": {
          "model_module": "@jupyter-widgets/controls",
          "model_name": "ProgressStyleModel",
          "state": {
            "_view_name": "StyleView",
            "_model_name": "ProgressStyleModel",
            "description_width": "initial",
            "_view_module": "@jupyter-widgets/base",
            "_model_module_version": "1.5.0",
            "_view_count": null,
            "_view_module_version": "1.2.0",
            "bar_color": null,
            "_model_module": "@jupyter-widgets/controls"
          }
        },
        "1e31be191ef6401089e476c2336b4370": {
          "model_module": "@jupyter-widgets/base",
          "model_name": "LayoutModel",
          "state": {
            "_view_name": "LayoutView",
            "grid_template_rows": null,
            "right": null,
            "justify_content": null,
            "_view_module": "@jupyter-widgets/base",
            "overflow": null,
            "_model_module_version": "1.2.0",
            "_view_count": null,
            "flex_flow": null,
            "width": null,
            "min_width": null,
            "border": null,
            "align_items": null,
            "bottom": null,
            "_model_module": "@jupyter-widgets/base",
            "top": null,
            "grid_column": null,
            "overflow_y": null,
            "overflow_x": null,
            "grid_auto_flow": null,
            "grid_area": null,
            "grid_template_columns": null,
            "flex": null,
            "_model_name": "LayoutModel",
            "justify_items": null,
            "grid_row": null,
            "max_height": null,
            "align_content": null,
            "visibility": null,
            "align_self": null,
            "height": null,
            "min_height": null,
            "padding": null,
            "grid_auto_rows": null,
            "grid_gap": null,
            "max_width": null,
            "order": null,
            "_view_module_version": "1.2.0",
            "grid_template_areas": null,
            "object_position": null,
            "object_fit": null,
            "grid_auto_columns": null,
            "margin": null,
            "display": null,
            "left": null
          }
        },
        "19a602ce34d2433299c60bd5c57a50a4": {
          "model_module": "@jupyter-widgets/controls",
          "model_name": "DescriptionStyleModel",
          "state": {
            "_view_name": "StyleView",
            "_model_name": "DescriptionStyleModel",
            "description_width": "",
            "_view_module": "@jupyter-widgets/base",
            "_model_module_version": "1.5.0",
            "_view_count": null,
            "_view_module_version": "1.2.0",
            "_model_module": "@jupyter-widgets/controls"
          }
        },
        "fde894323b1840ee83e89a8a70a75a84": {
          "model_module": "@jupyter-widgets/base",
          "model_name": "LayoutModel",
          "state": {
            "_view_name": "LayoutView",
            "grid_template_rows": null,
            "right": null,
            "justify_content": null,
            "_view_module": "@jupyter-widgets/base",
            "overflow": null,
            "_model_module_version": "1.2.0",
            "_view_count": null,
            "flex_flow": null,
            "width": null,
            "min_width": null,
            "border": null,
            "align_items": null,
            "bottom": null,
            "_model_module": "@jupyter-widgets/base",
            "top": null,
            "grid_column": null,
            "overflow_y": null,
            "overflow_x": null,
            "grid_auto_flow": null,
            "grid_area": null,
            "grid_template_columns": null,
            "flex": null,
            "_model_name": "LayoutModel",
            "justify_items": null,
            "grid_row": null,
            "max_height": null,
            "align_content": null,
            "visibility": null,
            "align_self": null,
            "height": null,
            "min_height": null,
            "padding": null,
            "grid_auto_rows": null,
            "grid_gap": null,
            "max_width": null,
            "order": null,
            "_view_module_version": "1.2.0",
            "grid_template_areas": null,
            "object_position": null,
            "object_fit": null,
            "grid_auto_columns": null,
            "margin": null,
            "display": null,
            "left": null
          }
        },
        "4ae244704a1a4bf5a9c23c17fde2511c": {
          "model_module": "@jupyter-widgets/controls",
          "model_name": "HBoxModel",
          "state": {
            "_view_name": "HBoxView",
            "_dom_classes": [],
            "_model_name": "HBoxModel",
            "_view_module": "@jupyter-widgets/controls",
            "_model_module_version": "1.5.0",
            "_view_count": null,
            "_view_module_version": "1.5.0",
            "box_style": "",
            "layout": "IPY_MODEL_5b91653f641a468d9d3bd615cdf44309",
            "_model_module": "@jupyter-widgets/controls",
            "children": [
              "IPY_MODEL_734cd59872df4fdd81813f6242c8e5d4",
              "IPY_MODEL_9f4365a4ad2945b8a0e041bdd1e9f927"
            ]
          }
        },
        "5b91653f641a468d9d3bd615cdf44309": {
          "model_module": "@jupyter-widgets/base",
          "model_name": "LayoutModel",
          "state": {
            "_view_name": "LayoutView",
            "grid_template_rows": null,
            "right": null,
            "justify_content": null,
            "_view_module": "@jupyter-widgets/base",
            "overflow": null,
            "_model_module_version": "1.2.0",
            "_view_count": null,
            "flex_flow": null,
            "width": null,
            "min_width": null,
            "border": null,
            "align_items": null,
            "bottom": null,
            "_model_module": "@jupyter-widgets/base",
            "top": null,
            "grid_column": null,
            "overflow_y": null,
            "overflow_x": null,
            "grid_auto_flow": null,
            "grid_area": null,
            "grid_template_columns": null,
            "flex": null,
            "_model_name": "LayoutModel",
            "justify_items": null,
            "grid_row": null,
            "max_height": null,
            "align_content": null,
            "visibility": null,
            "align_self": null,
            "height": null,
            "min_height": null,
            "padding": null,
            "grid_auto_rows": null,
            "grid_gap": null,
            "max_width": null,
            "order": null,
            "_view_module_version": "1.2.0",
            "grid_template_areas": null,
            "object_position": null,
            "object_fit": null,
            "grid_auto_columns": null,
            "margin": null,
            "display": null,
            "left": null
          }
        },
        "734cd59872df4fdd81813f6242c8e5d4": {
          "model_module": "@jupyter-widgets/controls",
          "model_name": "IntProgressModel",
          "state": {
            "_view_name": "ProgressView",
            "style": "IPY_MODEL_21e768194d2d4d7484e2c55885ac4d9c",
            "_dom_classes": [],
            "description": "100%",
            "_model_name": "IntProgressModel",
            "bar_style": "success",
            "max": 167393,
            "_view_module": "@jupyter-widgets/controls",
            "_model_module_version": "1.5.0",
            "value": 167393,
            "_view_count": null,
            "_view_module_version": "1.5.0",
            "orientation": "horizontal",
            "min": 0,
            "description_tooltip": null,
            "_model_module": "@jupyter-widgets/controls",
            "layout": "IPY_MODEL_66e3727fad744d029618d3bd7553f3b8"
          }
        },
        "9f4365a4ad2945b8a0e041bdd1e9f927": {
          "model_module": "@jupyter-widgets/controls",
          "model_name": "HTMLModel",
          "state": {
            "_view_name": "HTMLView",
            "style": "IPY_MODEL_784d2b8fc5644479b230e1aa121c7871",
            "_dom_classes": [],
            "description": "",
            "_model_name": "HTMLModel",
            "placeholder": "​",
            "_view_module": "@jupyter-widgets/controls",
            "_model_module_version": "1.5.0",
            "value": " 167393/167393 [00:00&lt;00:00, 570319.18it/s]",
            "_view_count": null,
            "_view_module_version": "1.5.0",
            "description_tooltip": null,
            "_model_module": "@jupyter-widgets/controls",
            "layout": "IPY_MODEL_35ebabb8f809425eae237c14e36cc396"
          }
        },
        "21e768194d2d4d7484e2c55885ac4d9c": {
          "model_module": "@jupyter-widgets/controls",
          "model_name": "ProgressStyleModel",
          "state": {
            "_view_name": "StyleView",
            "_model_name": "ProgressStyleModel",
            "description_width": "initial",
            "_view_module": "@jupyter-widgets/base",
            "_model_module_version": "1.5.0",
            "_view_count": null,
            "_view_module_version": "1.2.0",
            "bar_color": null,
            "_model_module": "@jupyter-widgets/controls"
          }
        },
        "66e3727fad744d029618d3bd7553f3b8": {
          "model_module": "@jupyter-widgets/base",
          "model_name": "LayoutModel",
          "state": {
            "_view_name": "LayoutView",
            "grid_template_rows": null,
            "right": null,
            "justify_content": null,
            "_view_module": "@jupyter-widgets/base",
            "overflow": null,
            "_model_module_version": "1.2.0",
            "_view_count": null,
            "flex_flow": null,
            "width": null,
            "min_width": null,
            "border": null,
            "align_items": null,
            "bottom": null,
            "_model_module": "@jupyter-widgets/base",
            "top": null,
            "grid_column": null,
            "overflow_y": null,
            "overflow_x": null,
            "grid_auto_flow": null,
            "grid_area": null,
            "grid_template_columns": null,
            "flex": null,
            "_model_name": "LayoutModel",
            "justify_items": null,
            "grid_row": null,
            "max_height": null,
            "align_content": null,
            "visibility": null,
            "align_self": null,
            "height": null,
            "min_height": null,
            "padding": null,
            "grid_auto_rows": null,
            "grid_gap": null,
            "max_width": null,
            "order": null,
            "_view_module_version": "1.2.0",
            "grid_template_areas": null,
            "object_position": null,
            "object_fit": null,
            "grid_auto_columns": null,
            "margin": null,
            "display": null,
            "left": null
          }
        },
        "784d2b8fc5644479b230e1aa121c7871": {
          "model_module": "@jupyter-widgets/controls",
          "model_name": "DescriptionStyleModel",
          "state": {
            "_view_name": "StyleView",
            "_model_name": "DescriptionStyleModel",
            "description_width": "",
            "_view_module": "@jupyter-widgets/base",
            "_model_module_version": "1.5.0",
            "_view_count": null,
            "_view_module_version": "1.2.0",
            "_model_module": "@jupyter-widgets/controls"
          }
        },
        "35ebabb8f809425eae237c14e36cc396": {
          "model_module": "@jupyter-widgets/base",
          "model_name": "LayoutModel",
          "state": {
            "_view_name": "LayoutView",
            "grid_template_rows": null,
            "right": null,
            "justify_content": null,
            "_view_module": "@jupyter-widgets/base",
            "overflow": null,
            "_model_module_version": "1.2.0",
            "_view_count": null,
            "flex_flow": null,
            "width": null,
            "min_width": null,
            "border": null,
            "align_items": null,
            "bottom": null,
            "_model_module": "@jupyter-widgets/base",
            "top": null,
            "grid_column": null,
            "overflow_y": null,
            "overflow_x": null,
            "grid_auto_flow": null,
            "grid_area": null,
            "grid_template_columns": null,
            "flex": null,
            "_model_name": "LayoutModel",
            "justify_items": null,
            "grid_row": null,
            "max_height": null,
            "align_content": null,
            "visibility": null,
            "align_self": null,
            "height": null,
            "min_height": null,
            "padding": null,
            "grid_auto_rows": null,
            "grid_gap": null,
            "max_width": null,
            "order": null,
            "_view_module_version": "1.2.0",
            "grid_template_areas": null,
            "object_position": null,
            "object_fit": null,
            "grid_auto_columns": null,
            "margin": null,
            "display": null,
            "left": null
          }
        }
      }
    },
    "accelerator": "GPU"
  },
  "cells": [
    {
      "cell_type": "markdown",
      "metadata": {
        "id": "view-in-github",
        "colab_type": "text"
      },
      "source": [
        "<a href=\"https://colab.research.google.com/github/someaditya/toxicity-classification/blob/master/toxicity_classification.ipynb\" target=\"_parent\"><img src=\"https://colab.research.google.com/assets/colab-badge.svg\" alt=\"Open In Colab\"/></a>"
      ]
    },
    {
      "cell_type": "markdown",
      "metadata": {
        "id": "nCaMcXxfA8Yr",
        "colab_type": "text"
      },
      "source": [
        "# **Machine Learning Engineer Nanodegree Capstone Project**\n",
        "## **Identification and Classification of Toxic Comments**\n",
        "\n",
        "### By Some Aditya Mandal\n",
        "\n",
        "\n",
        "\n",
        "As of the first quarter of 2020, there are over 4.5 billion internet users all over the world while social media users have passed the 3.8 billion mark. Nearly 60 percent of the world’s population is already online, and the latest trends suggest that more than half of the world’s total population will use social media by the middle of this year.\n",
        "\n",
        "The idea of social media, online forums and discussion sections is to provide a platform for meaningful discussion for internet users. But a major problem faced by most of these platforms is toxic comments. In this context, toxicity can be defined as 'anything that is rude, disrespectful, or otherwise likely to make someone leave a discussion'. The threat of abuse and harassment online means that many people stop to express themselves and give up on seeking different opinions. Platforms across struggle to effectively facilitate conversations, leading many communities to moderate and limit or completely shut down user comments.\n",
        "\n",
        "The emergence of massive social networking websites like Facebook, Twitter and Reddit lead to millions of people posting content and commenting on them. People\n",
        "including children interact in the internet and there is a need to control the content and encourage a healthy environment and facilitate conversations, and ensure that\n",
        "they don’t give up on stop expressing themselves. Many news websites now have started disabling comments sections.Most of these websites have human moderators behind them monitoring them constantly which is very inefficient.\n",
        "\n",
        "\n",
        "In 2017, around 2 million comments were released by the Civil Comments Platform when it shut down in an effort to help researchers improve civility in online conversations. Jigsaw, an Alphabet company, adopted this goal and further annotated the data set for research purposes. \n",
        "\n",
        "This capstone project will focus on the Identification and Classification of Toxic Comments , which\n",
        "aims to detect toxicity across a diverse range of conversations.\n",
        " \n",
        "\n",
        "\n",
        "## **Problem Statement**\n",
        "\n",
        "The problem comes under Natural Language Processing, a sentiment analysis problem. The aim of this capstone project is to build a machine learning model that can\n",
        "classify toxicity of a given text using machine learning methods. \n",
        "\n",
        "Several researches has been performed using different machine learning models to classify toxic interactions in the past and the efficiency of neural networks in classification of toxic comments were proven.\n",
        "\n",
        "### **Project Setup**\n",
        "\n",
        "Here we will import the initially required libraries.\n"
      ]
    },
    {
      "cell_type": "code",
      "metadata": {
        "id": "Udgdysvb1jCO",
        "colab_type": "code",
        "outputId": "72d372b5-9163-4126-8deb-2b11509a2b5f",
        "colab": {
          "base_uri": "https://localhost:8080/",
          "height": 50
        }
      },
      "source": [
        "import numpy as np\n",
        "import pandas as pd\n",
        "import matplotlib.pyplot as plt\n",
        "from IPython.display import display, HTML\n",
        "import seaborn as sb\n",
        "import tensorflow as tf\n",
        "%matplotlib inline"
      ],
      "execution_count": 1,
      "outputs": [
        {
          "output_type": "stream",
          "text": [
            "/usr/local/lib/python3.6/dist-packages/statsmodels/tools/_testing.py:19: FutureWarning: pandas.util.testing is deprecated. Use the functions in the public API at pandas.testing instead.\n",
            "  import pandas.util.testing as tm\n"
          ],
          "name": "stderr"
        }
      ]
    },
    {
      "cell_type": "markdown",
      "metadata": {
        "id": "ngGbNHl-BkNW",
        "colab_type": "text"
      },
      "source": [
        "Checking Colab allocation of GPU"
      ]
    },
    {
      "cell_type": "code",
      "metadata": {
        "id": "LTcGr4c4WeIn",
        "colab_type": "code",
        "outputId": "25688371-a1be-4ca5-f8a7-554305f2395e",
        "colab": {
          "base_uri": "https://localhost:8080/",
          "height": 33
        }
      },
      "source": [
        "device_name = tf.test.gpu_device_name()\n",
        "if device_name != '/device:GPU:0':\n",
        "  raise SystemError('GPU device not found')\n",
        "print('Found GPU at: {}'.format(device_name))"
      ],
      "execution_count": 2,
      "outputs": [
        {
          "output_type": "stream",
          "text": [
            "Found GPU at: /device:GPU:0\n"
          ],
          "name": "stdout"
        }
      ]
    },
    {
      "cell_type": "code",
      "metadata": {
        "id": "0PKb86Ao8hAT",
        "colab_type": "code",
        "outputId": "7cb75baa-2fee-4590-a444-06f06fe86f0a",
        "colab": {
          "base_uri": "https://localhost:8080/",
          "height": 277
        }
      },
      "source": [
        "gpu_info = !nvidia-smi\n",
        "gpu_info = '\\n'.join(gpu_info)\n",
        "if gpu_info.find('failed') >= 0:\n",
        "  print('Select the Runtime → \"Change runtime type\" menu to enable a GPU accelerator, ')\n",
        "  print('and then re-execute this cell.')\n",
        "else:\n",
        "  print(gpu_info)"
      ],
      "execution_count": 3,
      "outputs": [
        {
          "output_type": "stream",
          "text": [
            "Mon May 11 07:32:25 2020       \n",
            "+-----------------------------------------------------------------------------+\n",
            "| NVIDIA-SMI 440.82       Driver Version: 418.67       CUDA Version: 10.1     |\n",
            "|-------------------------------+----------------------+----------------------+\n",
            "| GPU  Name        Persistence-M| Bus-Id        Disp.A | Volatile Uncorr. ECC |\n",
            "| Fan  Temp  Perf  Pwr:Usage/Cap|         Memory-Usage | GPU-Util  Compute M. |\n",
            "|===============================+======================+======================|\n",
            "|   0  Tesla P100-PCIE...  Off  | 00000000:00:04.0 Off |                    0 |\n",
            "| N/A   33C    P0    31W / 250W |    353MiB / 16280MiB |      0%      Default |\n",
            "+-------------------------------+----------------------+----------------------+\n",
            "                                                                               \n",
            "+-----------------------------------------------------------------------------+\n",
            "| Processes:                                                       GPU Memory |\n",
            "|  GPU       PID   Type   Process name                             Usage      |\n",
            "|=============================================================================|\n",
            "+-----------------------------------------------------------------------------+\n"
          ],
          "name": "stdout"
        }
      ]
    },
    {
      "cell_type": "markdown",
      "metadata": {
        "id": "zoPR4bTbBxMt",
        "colab_type": "text"
      },
      "source": [
        "\n",
        "This kernel is hosted in [Google Colab](https://https://colab.research.google.com/). This step mounts [Google Drive](https://drive.google.com) in to the Colab workspace. Google Drive is utilised to store the [Kaggle Dataset](https://www.kaggle.com/c/jigsaw-toxic-comment-classification-challenge/data) and [FastText English Word Vectors](https://fasttext.cc/docs/en/english-vectors.html).\n",
        "\n",
        "To read more about other ways to use External data in Google Colab , please read this [Colab Notebook](https://colab.research.google.com/notebooks/io.ipynb). "
      ]
    },
    {
      "cell_type": "code",
      "metadata": {
        "id": "A0WyAB-l2Toy",
        "colab_type": "code",
        "outputId": "e5899e98-f13e-4b1c-d3f3-7fc80a304b65",
        "colab": {
          "base_uri": "https://localhost:8080/",
          "height": 118
        }
      },
      "source": [
        "from google.colab import drive\n",
        "drive.mount('/content/drive')"
      ],
      "execution_count": 4,
      "outputs": [
        {
          "output_type": "stream",
          "text": [
            "Go to this URL in a browser: https://accounts.google.com/o/oauth2/auth?client_id=947318989803-6bn6qk8qdgf4n4g3pfee6491hc0brc4i.apps.googleusercontent.com&redirect_uri=urn%3aietf%3awg%3aoauth%3a2.0%3aoob&response_type=code&scope=email%20https%3a%2f%2fwww.googleapis.com%2fauth%2fdocs.test%20https%3a%2f%2fwww.googleapis.com%2fauth%2fdrive%20https%3a%2f%2fwww.googleapis.com%2fauth%2fdrive.photos.readonly%20https%3a%2f%2fwww.googleapis.com%2fauth%2fpeopleapi.readonly\n",
            "\n",
            "Enter your authorization code:\n",
            "··········\n",
            "Mounted at /content/drive\n"
          ],
          "name": "stdout"
        }
      ]
    },
    {
      "cell_type": "markdown",
      "metadata": {
        "id": "2y1w6BGZDP8P",
        "colab_type": "text"
      },
      "source": [
        "Checking if the datasets are correctly mounted in the workspace."
      ]
    },
    {
      "cell_type": "code",
      "metadata": {
        "id": "ssUuinIWMx9I",
        "colab_type": "code",
        "outputId": "2edba62b-8e36-471e-ee7a-b11e3c7322b0",
        "colab": {
          "base_uri": "https://localhost:8080/",
          "height": 33
        }
      },
      "source": [
        "!ls \"/content/drive/My Drive/toxicity-classification/data\""
      ],
      "execution_count": 5,
      "outputs": [
        {
          "output_type": "stream",
          "text": [
            "sample_submission.csv  test.csv  test_labels.csv  train.csv\n"
          ],
          "name": "stdout"
        }
      ]
    },
    {
      "cell_type": "markdown",
      "metadata": {
        "id": "rx7iPf_DDXD_",
        "colab_type": "text"
      },
      "source": [
        "Importing the dataset in the notebook."
      ]
    },
    {
      "cell_type": "code",
      "metadata": {
        "id": "Z3tuktFh10jw",
        "colab_type": "code",
        "colab": {}
      },
      "source": [
        "train_data = pd.read_csv('/content/drive/My Drive/toxicity-classification/data/train.csv')\n",
        "test_data = pd.read_csv('/content/drive/My Drive/toxicity-classification/data/test.csv')\n",
        "test_labels = pd.read_csv('/content/drive/My Drive/toxicity-classification/data/test_labels.csv')\n",
        "# merge test labels with the original test dataset\n",
        "test_data_final = pd.merge(test_data, test_labels, on='id')\n",
        "# remove test data not used in scoring - these have labels of -1 for all toxicity subtypes\n",
        "test_data_final.drop(test_data_final.loc[test_data_final['toxic']==-1].index, inplace=True)"
      ],
      "execution_count": 0,
      "outputs": []
    },
    {
      "cell_type": "markdown",
      "metadata": {
        "id": "P0Ab8ff8Dj44",
        "colab_type": "text"
      },
      "source": [
        "### **Dataset Analysis**\n",
        "Here we take a high level view of the datasets we will be working with.\n",
        "\n",
        "\n",
        "The dataset is a large number of Wikipedia comments which have been labeled by human raters for toxic behavior and this dataset was made public on Kaggle by Jigsaw and Google ( Both Alphabet Company) as part of their competetion [\"Toxic Comment Classification Challenge](https://www.kaggle.com/c/jigsaw-toxic-comment-classification-challenge/overview)\".\n",
        "\n",
        "The training and test datasets are publicly available on Kaggle and the training dataset has following column names:\n",
        "\n",
        "* id\n",
        "* comment_text\n",
        "* toxic\n",
        "* severe_toxic\n",
        "* obscene\n",
        "* threat\n",
        "* insult\n",
        "* identity_hate\n",
        "\n",
        "Checking examples of the training and test data."
      ]
    },
    {
      "cell_type": "code",
      "metadata": {
        "id": "YBm3Y3TW5q0j",
        "colab_type": "code",
        "outputId": "a0f3e3f2-f216-4bba-a328-b7a35e57e0b5",
        "colab": {
          "base_uri": "https://localhost:8080/",
          "height": 335
        }
      },
      "source": [
        "train_data.head(10)"
      ],
      "execution_count": 0,
      "outputs": [
        {
          "output_type": "execute_result",
          "data": {
            "text/html": [
              "<div>\n",
              "<style scoped>\n",
              "    .dataframe tbody tr th:only-of-type {\n",
              "        vertical-align: middle;\n",
              "    }\n",
              "\n",
              "    .dataframe tbody tr th {\n",
              "        vertical-align: top;\n",
              "    }\n",
              "\n",
              "    .dataframe thead th {\n",
              "        text-align: right;\n",
              "    }\n",
              "</style>\n",
              "<table border=\"1\" class=\"dataframe\">\n",
              "  <thead>\n",
              "    <tr style=\"text-align: right;\">\n",
              "      <th></th>\n",
              "      <th>id</th>\n",
              "      <th>comment_text</th>\n",
              "      <th>toxic</th>\n",
              "      <th>severe_toxic</th>\n",
              "      <th>obscene</th>\n",
              "      <th>threat</th>\n",
              "      <th>insult</th>\n",
              "      <th>identity_hate</th>\n",
              "    </tr>\n",
              "  </thead>\n",
              "  <tbody>\n",
              "    <tr>\n",
              "      <th>0</th>\n",
              "      <td>0000997932d777bf</td>\n",
              "      <td>Explanation\\nWhy the edits made under my usern...</td>\n",
              "      <td>0</td>\n",
              "      <td>0</td>\n",
              "      <td>0</td>\n",
              "      <td>0</td>\n",
              "      <td>0</td>\n",
              "      <td>0</td>\n",
              "    </tr>\n",
              "    <tr>\n",
              "      <th>1</th>\n",
              "      <td>000103f0d9cfb60f</td>\n",
              "      <td>D'aww! He matches this background colour I'm s...</td>\n",
              "      <td>0</td>\n",
              "      <td>0</td>\n",
              "      <td>0</td>\n",
              "      <td>0</td>\n",
              "      <td>0</td>\n",
              "      <td>0</td>\n",
              "    </tr>\n",
              "    <tr>\n",
              "      <th>2</th>\n",
              "      <td>000113f07ec002fd</td>\n",
              "      <td>Hey man, I'm really not trying to edit war. It...</td>\n",
              "      <td>0</td>\n",
              "      <td>0</td>\n",
              "      <td>0</td>\n",
              "      <td>0</td>\n",
              "      <td>0</td>\n",
              "      <td>0</td>\n",
              "    </tr>\n",
              "    <tr>\n",
              "      <th>3</th>\n",
              "      <td>0001b41b1c6bb37e</td>\n",
              "      <td>\"\\nMore\\nI can't make any real suggestions on ...</td>\n",
              "      <td>0</td>\n",
              "      <td>0</td>\n",
              "      <td>0</td>\n",
              "      <td>0</td>\n",
              "      <td>0</td>\n",
              "      <td>0</td>\n",
              "    </tr>\n",
              "    <tr>\n",
              "      <th>4</th>\n",
              "      <td>0001d958c54c6e35</td>\n",
              "      <td>You, sir, are my hero. Any chance you remember...</td>\n",
              "      <td>0</td>\n",
              "      <td>0</td>\n",
              "      <td>0</td>\n",
              "      <td>0</td>\n",
              "      <td>0</td>\n",
              "      <td>0</td>\n",
              "    </tr>\n",
              "    <tr>\n",
              "      <th>5</th>\n",
              "      <td>00025465d4725e87</td>\n",
              "      <td>\"\\n\\nCongratulations from me as well, use the ...</td>\n",
              "      <td>0</td>\n",
              "      <td>0</td>\n",
              "      <td>0</td>\n",
              "      <td>0</td>\n",
              "      <td>0</td>\n",
              "      <td>0</td>\n",
              "    </tr>\n",
              "    <tr>\n",
              "      <th>6</th>\n",
              "      <td>0002bcb3da6cb337</td>\n",
              "      <td>COCKSUCKER BEFORE YOU PISS AROUND ON MY WORK</td>\n",
              "      <td>1</td>\n",
              "      <td>1</td>\n",
              "      <td>1</td>\n",
              "      <td>0</td>\n",
              "      <td>1</td>\n",
              "      <td>0</td>\n",
              "    </tr>\n",
              "    <tr>\n",
              "      <th>7</th>\n",
              "      <td>00031b1e95af7921</td>\n",
              "      <td>Your vandalism to the Matt Shirvington article...</td>\n",
              "      <td>0</td>\n",
              "      <td>0</td>\n",
              "      <td>0</td>\n",
              "      <td>0</td>\n",
              "      <td>0</td>\n",
              "      <td>0</td>\n",
              "    </tr>\n",
              "    <tr>\n",
              "      <th>8</th>\n",
              "      <td>00037261f536c51d</td>\n",
              "      <td>Sorry if the word 'nonsense' was offensive to ...</td>\n",
              "      <td>0</td>\n",
              "      <td>0</td>\n",
              "      <td>0</td>\n",
              "      <td>0</td>\n",
              "      <td>0</td>\n",
              "      <td>0</td>\n",
              "    </tr>\n",
              "    <tr>\n",
              "      <th>9</th>\n",
              "      <td>00040093b2687caa</td>\n",
              "      <td>alignment on this subject and which are contra...</td>\n",
              "      <td>0</td>\n",
              "      <td>0</td>\n",
              "      <td>0</td>\n",
              "      <td>0</td>\n",
              "      <td>0</td>\n",
              "      <td>0</td>\n",
              "    </tr>\n",
              "  </tbody>\n",
              "</table>\n",
              "</div>"
            ],
            "text/plain": [
              "                 id  ... identity_hate\n",
              "0  0000997932d777bf  ...             0\n",
              "1  000103f0d9cfb60f  ...             0\n",
              "2  000113f07ec002fd  ...             0\n",
              "3  0001b41b1c6bb37e  ...             0\n",
              "4  0001d958c54c6e35  ...             0\n",
              "5  00025465d4725e87  ...             0\n",
              "6  0002bcb3da6cb337  ...             0\n",
              "7  00031b1e95af7921  ...             0\n",
              "8  00037261f536c51d  ...             0\n",
              "9  00040093b2687caa  ...             0\n",
              "\n",
              "[10 rows x 8 columns]"
            ]
          },
          "metadata": {
            "tags": []
          },
          "execution_count": 7
        }
      ]
    },
    {
      "cell_type": "code",
      "metadata": {
        "id": "4W4xO_lb-_Ey",
        "colab_type": "code",
        "outputId": "dc803273-9ca4-48fc-9d0a-b40ee53cc19a",
        "colab": {
          "base_uri": "https://localhost:8080/",
          "height": 335
        }
      },
      "source": [
        "test_data_final.head(10)"
      ],
      "execution_count": 0,
      "outputs": [
        {
          "output_type": "execute_result",
          "data": {
            "text/html": [
              "<div>\n",
              "<style scoped>\n",
              "    .dataframe tbody tr th:only-of-type {\n",
              "        vertical-align: middle;\n",
              "    }\n",
              "\n",
              "    .dataframe tbody tr th {\n",
              "        vertical-align: top;\n",
              "    }\n",
              "\n",
              "    .dataframe thead th {\n",
              "        text-align: right;\n",
              "    }\n",
              "</style>\n",
              "<table border=\"1\" class=\"dataframe\">\n",
              "  <thead>\n",
              "    <tr style=\"text-align: right;\">\n",
              "      <th></th>\n",
              "      <th>id</th>\n",
              "      <th>comment_text</th>\n",
              "      <th>toxic</th>\n",
              "      <th>severe_toxic</th>\n",
              "      <th>obscene</th>\n",
              "      <th>threat</th>\n",
              "      <th>insult</th>\n",
              "      <th>identity_hate</th>\n",
              "    </tr>\n",
              "  </thead>\n",
              "  <tbody>\n",
              "    <tr>\n",
              "      <th>5</th>\n",
              "      <td>0001ea8717f6de06</td>\n",
              "      <td>Thank you for understanding. I think very high...</td>\n",
              "      <td>0</td>\n",
              "      <td>0</td>\n",
              "      <td>0</td>\n",
              "      <td>0</td>\n",
              "      <td>0</td>\n",
              "      <td>0</td>\n",
              "    </tr>\n",
              "    <tr>\n",
              "      <th>7</th>\n",
              "      <td>000247e83dcc1211</td>\n",
              "      <td>:Dear god this site is horrible.</td>\n",
              "      <td>0</td>\n",
              "      <td>0</td>\n",
              "      <td>0</td>\n",
              "      <td>0</td>\n",
              "      <td>0</td>\n",
              "      <td>0</td>\n",
              "    </tr>\n",
              "    <tr>\n",
              "      <th>11</th>\n",
              "      <td>0002f87b16116a7f</td>\n",
              "      <td>\"::: Somebody will invariably try to add Relig...</td>\n",
              "      <td>0</td>\n",
              "      <td>0</td>\n",
              "      <td>0</td>\n",
              "      <td>0</td>\n",
              "      <td>0</td>\n",
              "      <td>0</td>\n",
              "    </tr>\n",
              "    <tr>\n",
              "      <th>13</th>\n",
              "      <td>0003e1cccfd5a40a</td>\n",
              "      <td>\" \\n\\n It says it right there that it IS a typ...</td>\n",
              "      <td>0</td>\n",
              "      <td>0</td>\n",
              "      <td>0</td>\n",
              "      <td>0</td>\n",
              "      <td>0</td>\n",
              "      <td>0</td>\n",
              "    </tr>\n",
              "    <tr>\n",
              "      <th>14</th>\n",
              "      <td>00059ace3e3e9a53</td>\n",
              "      <td>\" \\n\\n == Before adding a new product to the l...</td>\n",
              "      <td>0</td>\n",
              "      <td>0</td>\n",
              "      <td>0</td>\n",
              "      <td>0</td>\n",
              "      <td>0</td>\n",
              "      <td>0</td>\n",
              "    </tr>\n",
              "    <tr>\n",
              "      <th>16</th>\n",
              "      <td>000663aff0fffc80</td>\n",
              "      <td>this other one from 1897</td>\n",
              "      <td>0</td>\n",
              "      <td>0</td>\n",
              "      <td>0</td>\n",
              "      <td>0</td>\n",
              "      <td>0</td>\n",
              "      <td>0</td>\n",
              "    </tr>\n",
              "    <tr>\n",
              "      <th>17</th>\n",
              "      <td>000689dd34e20979</td>\n",
              "      <td>== Reason for banning throwing == \\n\\n This ar...</td>\n",
              "      <td>0</td>\n",
              "      <td>0</td>\n",
              "      <td>0</td>\n",
              "      <td>0</td>\n",
              "      <td>0</td>\n",
              "      <td>0</td>\n",
              "    </tr>\n",
              "    <tr>\n",
              "      <th>19</th>\n",
              "      <td>000844b52dee5f3f</td>\n",
              "      <td>|blocked]] from editing Wikipedia.   |</td>\n",
              "      <td>0</td>\n",
              "      <td>0</td>\n",
              "      <td>0</td>\n",
              "      <td>0</td>\n",
              "      <td>0</td>\n",
              "      <td>0</td>\n",
              "    </tr>\n",
              "    <tr>\n",
              "      <th>21</th>\n",
              "      <td>00091c35fa9d0465</td>\n",
              "      <td>== Arabs are committing genocide in Iraq, but ...</td>\n",
              "      <td>1</td>\n",
              "      <td>0</td>\n",
              "      <td>0</td>\n",
              "      <td>0</td>\n",
              "      <td>0</td>\n",
              "      <td>0</td>\n",
              "    </tr>\n",
              "    <tr>\n",
              "      <th>22</th>\n",
              "      <td>000968ce11f5ee34</td>\n",
              "      <td>Please stop. If you continue to vandalize Wiki...</td>\n",
              "      <td>0</td>\n",
              "      <td>0</td>\n",
              "      <td>0</td>\n",
              "      <td>0</td>\n",
              "      <td>0</td>\n",
              "      <td>0</td>\n",
              "    </tr>\n",
              "  </tbody>\n",
              "</table>\n",
              "</div>"
            ],
            "text/plain": [
              "                  id  ... identity_hate\n",
              "5   0001ea8717f6de06  ...             0\n",
              "7   000247e83dcc1211  ...             0\n",
              "11  0002f87b16116a7f  ...             0\n",
              "13  0003e1cccfd5a40a  ...             0\n",
              "14  00059ace3e3e9a53  ...             0\n",
              "16  000663aff0fffc80  ...             0\n",
              "17  000689dd34e20979  ...             0\n",
              "19  000844b52dee5f3f  ...             0\n",
              "21  00091c35fa9d0465  ...             0\n",
              "22  000968ce11f5ee34  ...             0\n",
              "\n",
              "[10 rows x 8 columns]"
            ]
          },
          "metadata": {
            "tags": []
          },
          "execution_count": 8
        }
      ]
    },
    {
      "cell_type": "markdown",
      "metadata": {
        "id": "rPmBo6zDFGxu",
        "colab_type": "text"
      },
      "source": [
        "Check for repeated values, null values and overall statistics of the dataset."
      ]
    },
    {
      "cell_type": "code",
      "metadata": {
        "id": "iaUo3mLJFAJK",
        "colab_type": "code",
        "outputId": "6f51f1a9-d0bd-4024-cdaf-d2a3a2044a9b",
        "colab": {
          "base_uri": "https://localhost:8080/",
          "height": 310
        }
      },
      "source": [
        "print(any(train_data['id'].duplicated())) # see if id values are repeated\n",
        "print(train_data.isnull().values.any()) # check for any n/a values\n",
        "display(train_data.describe()) # check statistics of each classification"
      ],
      "execution_count": 0,
      "outputs": [
        {
          "output_type": "stream",
          "text": [
            "False\n",
            "False\n"
          ],
          "name": "stdout"
        },
        {
          "output_type": "display_data",
          "data": {
            "text/html": [
              "<div>\n",
              "<style scoped>\n",
              "    .dataframe tbody tr th:only-of-type {\n",
              "        vertical-align: middle;\n",
              "    }\n",
              "\n",
              "    .dataframe tbody tr th {\n",
              "        vertical-align: top;\n",
              "    }\n",
              "\n",
              "    .dataframe thead th {\n",
              "        text-align: right;\n",
              "    }\n",
              "</style>\n",
              "<table border=\"1\" class=\"dataframe\">\n",
              "  <thead>\n",
              "    <tr style=\"text-align: right;\">\n",
              "      <th></th>\n",
              "      <th>toxic</th>\n",
              "      <th>severe_toxic</th>\n",
              "      <th>obscene</th>\n",
              "      <th>threat</th>\n",
              "      <th>insult</th>\n",
              "      <th>identity_hate</th>\n",
              "    </tr>\n",
              "  </thead>\n",
              "  <tbody>\n",
              "    <tr>\n",
              "      <th>count</th>\n",
              "      <td>159571.000000</td>\n",
              "      <td>159571.000000</td>\n",
              "      <td>159571.000000</td>\n",
              "      <td>159571.000000</td>\n",
              "      <td>159571.000000</td>\n",
              "      <td>159571.000000</td>\n",
              "    </tr>\n",
              "    <tr>\n",
              "      <th>mean</th>\n",
              "      <td>0.095844</td>\n",
              "      <td>0.009996</td>\n",
              "      <td>0.052948</td>\n",
              "      <td>0.002996</td>\n",
              "      <td>0.049364</td>\n",
              "      <td>0.008805</td>\n",
              "    </tr>\n",
              "    <tr>\n",
              "      <th>std</th>\n",
              "      <td>0.294379</td>\n",
              "      <td>0.099477</td>\n",
              "      <td>0.223931</td>\n",
              "      <td>0.054650</td>\n",
              "      <td>0.216627</td>\n",
              "      <td>0.093420</td>\n",
              "    </tr>\n",
              "    <tr>\n",
              "      <th>min</th>\n",
              "      <td>0.000000</td>\n",
              "      <td>0.000000</td>\n",
              "      <td>0.000000</td>\n",
              "      <td>0.000000</td>\n",
              "      <td>0.000000</td>\n",
              "      <td>0.000000</td>\n",
              "    </tr>\n",
              "    <tr>\n",
              "      <th>25%</th>\n",
              "      <td>0.000000</td>\n",
              "      <td>0.000000</td>\n",
              "      <td>0.000000</td>\n",
              "      <td>0.000000</td>\n",
              "      <td>0.000000</td>\n",
              "      <td>0.000000</td>\n",
              "    </tr>\n",
              "    <tr>\n",
              "      <th>50%</th>\n",
              "      <td>0.000000</td>\n",
              "      <td>0.000000</td>\n",
              "      <td>0.000000</td>\n",
              "      <td>0.000000</td>\n",
              "      <td>0.000000</td>\n",
              "      <td>0.000000</td>\n",
              "    </tr>\n",
              "    <tr>\n",
              "      <th>75%</th>\n",
              "      <td>0.000000</td>\n",
              "      <td>0.000000</td>\n",
              "      <td>0.000000</td>\n",
              "      <td>0.000000</td>\n",
              "      <td>0.000000</td>\n",
              "      <td>0.000000</td>\n",
              "    </tr>\n",
              "    <tr>\n",
              "      <th>max</th>\n",
              "      <td>1.000000</td>\n",
              "      <td>1.000000</td>\n",
              "      <td>1.000000</td>\n",
              "      <td>1.000000</td>\n",
              "      <td>1.000000</td>\n",
              "      <td>1.000000</td>\n",
              "    </tr>\n",
              "  </tbody>\n",
              "</table>\n",
              "</div>"
            ],
            "text/plain": [
              "               toxic   severe_toxic  ...         insult  identity_hate\n",
              "count  159571.000000  159571.000000  ...  159571.000000  159571.000000\n",
              "mean        0.095844       0.009996  ...       0.049364       0.008805\n",
              "std         0.294379       0.099477  ...       0.216627       0.093420\n",
              "min         0.000000       0.000000  ...       0.000000       0.000000\n",
              "25%         0.000000       0.000000  ...       0.000000       0.000000\n",
              "50%         0.000000       0.000000  ...       0.000000       0.000000\n",
              "75%         0.000000       0.000000  ...       0.000000       0.000000\n",
              "max         1.000000       1.000000  ...       1.000000       1.000000\n",
              "\n",
              "[8 rows x 6 columns]"
            ]
          },
          "metadata": {
            "tags": []
          }
        }
      ]
    },
    {
      "cell_type": "markdown",
      "metadata": {
        "id": "FRB9JMTFFON_",
        "colab_type": "text"
      },
      "source": [
        "Checking details of training and test datasets.\n"
      ]
    },
    {
      "cell_type": "code",
      "metadata": {
        "id": "gQrgP03R_CiU",
        "colab_type": "code",
        "outputId": "8821b28c-1b78-4f14-a3ab-d23e38af0b69",
        "colab": {
          "base_uri": "https://localhost:8080/",
          "height": 66
        }
      },
      "source": [
        "train_size = train_data.shape[0]\n",
        "test_size = test_data_final.shape[0]\n",
        "total_count = train_size + test_size\n",
        "print(f\"Number of training examples {train_size}\")\n",
        "print(f\"Number of test examples {test_size}\")\n",
        "print(f\"Train/Test Ratio: {round(train_size/total_count * 100, 2)}% / {round(test_size/total_count * 100, 2)}%\")"
      ],
      "execution_count": 75,
      "outputs": [
        {
          "output_type": "stream",
          "text": [
            "Number of training examples 159571\n",
            "Number of test examples 63978\n",
            "Train/Test Ratio: 71.38% / 28.62%\n"
          ],
          "name": "stdout"
        }
      ]
    },
    {
      "cell_type": "markdown",
      "metadata": {
        "id": "d2ieyWDOGOU3",
        "colab_type": "text"
      },
      "source": [
        "The training dataset contains 160,000 rows (with the above 8 columns) while the initial test set contains 63,000\n",
        "rows, with just 2 columns (the id and comment_text ). \n",
        "\n",
        "\n",
        "Checking the training dataset based on toxicity."
      ]
    },
    {
      "cell_type": "code",
      "metadata": {
        "id": "PCTh4KKo_L8p",
        "colab_type": "code",
        "outputId": "18d9773b-1843-491f-84be-74d059139b96",
        "colab": {
          "base_uri": "https://localhost:8080/",
          "height": 50
        }
      },
      "source": [
        "# add a new column 'none' to indicate no toxicity\n",
        "train_data_new = train_data.copy()\n",
        "comment_category_totals=train_data.iloc[:,2:].sum(axis=1)\n",
        "train_data_new['none']=(comment_category_totals==0)\n",
        "print(f\"Comments with no toxicity: {train_data_new['none'].sum()}\")\n",
        "print(f\"% of total training dataset marked as not toxic: {train_data_new['none'].sum()/len(train_data_new)}\")"
      ],
      "execution_count": 8,
      "outputs": [
        {
          "output_type": "stream",
          "text": [
            "Comments with no toxicity: 143346\n",
            "% of total training dataset marked as not toxic: 0.8983211235124177\n"
          ],
          "name": "stdout"
        }
      ]
    },
    {
      "cell_type": "code",
      "metadata": {
        "id": "ZYqc4CkM_O1V",
        "colab_type": "code",
        "outputId": "743af070-c487-422e-950a-adce9733f1e5",
        "colab": {
          "base_uri": "https://localhost:8080/",
          "height": 147
        }
      },
      "source": [
        "print(train_data_new[['toxic', 'severe_toxic', 'obscene', 'threat', 'insult', 'identity_hate', 'none']].sum())"
      ],
      "execution_count": 9,
      "outputs": [
        {
          "output_type": "stream",
          "text": [
            "toxic             15294.0\n",
            "severe_toxic       1595.0\n",
            "obscene            8449.0\n",
            "threat              478.0\n",
            "insult             7877.0\n",
            "identity_hate      1405.0\n",
            "none             143346.0\n",
            "dtype: float64\n"
          ],
          "name": "stdout"
        }
      ]
    },
    {
      "cell_type": "code",
      "metadata": {
        "id": "wTHxjlwi_UMf",
        "colab_type": "code",
        "outputId": "70e3e9a6-6e48-4416-b40a-2b530dddc8c5",
        "colab": {
          "base_uri": "https://localhost:8080/",
          "height": 353
        }
      },
      "source": [
        "x_vals=train_data_new.iloc[:,2:].sum()\n",
        "plt.figure(figsize=(10,5))\n",
        "axes = sb.barplot(x_vals.index, x_vals.values, alpha=0.7)\n",
        "plt.title(\"Toxicity Label Distribution in Training Dataset\")\n",
        "plt.ylabel('# Occurrences', fontsize=12)\n",
        "plt.xlabel('Toxcity Type', fontsize=12)\n",
        "rectangles = axes.patches\n",
        "labels = x_vals.values\n",
        "for rectangle, label in zip(rectangles, labels):\n",
        "    height = rectangle.get_height()\n",
        "    axes.text(rectangle.get_x() + rectangle.get_width()/2, height + 5, label, va='bottom', ha='center')\n",
        "plt.show()"
      ],
      "execution_count": 0,
      "outputs": [
        {
          "output_type": "display_data",
          "data": {
            "image/png": "[encoded data removed]",
            "text/plain": [
              "<Figure size 720x360 with 1 Axes>"
            ]
          },
          "metadata": {
            "tags": [],
            "needs_background": "light"
          }
        }
      ]
    },
    {
      "cell_type": "code",
      "metadata": {
        "id": "hYTqfXx3_dfR",
        "colab_type": "code",
        "outputId": "f1be016d-984f-4623-b274-6da0cade24dd",
        "colab": {
          "base_uri": "https://localhost:8080/",
          "height": 263
        }
      },
      "source": [
        "labels = ['toxic', 'severe_toxic', 'obscene', 'threat', 'insult', 'identity_hate']\n",
        "plt.title('Ratio of Positive Toxicity Labels in Training Dataset')\n",
        "plt.pie(train_data_new[labels].sum(), labels=labels, autopct='%1.1f%%')\n",
        "plt.show()"
      ],
      "execution_count": 0,
      "outputs": [
        {
          "output_type": "display_data",
          "data": {
            "image/png": "[encoded data removed]",
            "text/plain": [
              "<Figure size 432x288 with 1 Axes>"
            ]
          },
          "metadata": {
            "tags": []
          }
        }
      ]
    },
    {
      "cell_type": "markdown",
      "metadata": {
        "id": "djUKPA68HGmn",
        "colab_type": "text"
      },
      "source": [
        "In the above analysis, we notice a few things - first, the training dataset is highly imbalanced with regards to comment classification labels. We see that almost 90% of the comments has no toxicity label. Brief investigation of the training set reveals that most of the comments do not have a toxicity classification, and the percentages of toxic classifications are not even - 'toxic' ratings are much more prevalent (15,000 examples) with 'obscene' and 'insult' (around 8,000 each) at nearly half that amount and the rest at or below 1,500 examples each. While not as bad as say the perennial spam dataset example where 1% of the data is classied as spam and the rest is not spam. We also note that the training data is 70% of the total data, which seems typical."
      ]
    },
    {
      "cell_type": "code",
      "metadata": {
        "id": "6hkYIZHQJoG3",
        "colab_type": "code",
        "colab": {}
      },
      "source": [
        "# Word count in each comment:\n",
        "train_data_new['count_word'] = train_data_new[\"comment_text\"].apply(lambda x: len(str(x).split()))\n",
        "\n",
        "# Unique word count\n",
        "train_data_new['count_unique_word'] = train_data_new[\"comment_text\"].apply(lambda x: len(set(str(x).split())))\n",
        "\n",
        "# percentage of unique words\n",
        "train_data_new['word_unique_percent'] = train_data_new['count_unique_word']*100/train_data_new['count_word']\n",
        "\n",
        "# marking comments without any tags as \"clean\".\n",
        "rowsums = train_data_new.iloc[:,2:7].sum(axis=1)\n",
        "train_data_new['clean'] = np.logical_not(rowsums).astype('int')"
      ],
      "execution_count": 0,
      "outputs": []
    },
    {
      "cell_type": "code",
      "metadata": {
        "id": "f4bVsCliJ3yQ",
        "colab_type": "code",
        "outputId": "d5bbce71-8efb-4599-bdc6-ddfcf5383e07",
        "colab": {
          "base_uri": "https://localhost:8080/",
          "height": 318
        }
      },
      "source": [
        "import seaborn as sns\n",
        "# word count\n",
        "axes = sns.violinplot(y='count_word', x='clean', data=train_data_new,split=True, inner=\"quart\")\n",
        "axes.set_xlabel('Type of comment', fontsize=12)\n",
        "axes.set_ylabel('# of words', fontsize=12)\n",
        "axes.set_ylim([0, 250])\n",
        "axes.set_xticklabels(['Toxic', 'Clean'], rotation='vertical', fontsize=10)\n",
        "plt.title(\"Number of words in each comment\", fontsize=15)\n",
        "\n",
        "plt.show()"
      ],
      "execution_count": 0,
      "outputs": [
        {
          "output_type": "display_data",
          "data": {
            "image/png": "[encoded data removed]",
            "text/plain": [
              "<Figure size 432x288 with 1 Axes>"
            ]
          },
          "metadata": {
            "tags": [],
            "needs_background": "light"
          }
        }
      ]
    },
    {
      "cell_type": "markdown",
      "metadata": {
        "id": "B5F_WqPxKLnN",
        "colab_type": "text"
      },
      "source": [
        "The above plot indicates that the number of words in each comment in both clean and toxic comments is mostly between 10 to 50. And toxic comments are much more likely to have fewer words indicated by the bulk near ~20 range."
      ]
    },
    {
      "cell_type": "code",
      "metadata": {
        "id": "Szb6QS-6J-Di",
        "colab_type": "code",
        "outputId": "40f5632c-a764-4c8f-8d64-93818e7091e2",
        "colab": {
          "base_uri": "https://localhost:8080/",
          "height": 618
        }
      },
      "source": [
        "\n",
        "# unique word count\n",
        "plt.title(\"Number of unique words in each comment\", fontsize=15)\n",
        "axes = sns.violinplot(y='count_unique_word', x='clean', data=train_data_new,split=True, inner=\"quart\")\n",
        "axes.set_xlabel('Type of comment', fontsize=12)\n",
        "axes.set_ylabel('# of words', fontsize=12)\n",
        "axes.set_ylim([0, 200])\n",
        "axes.set_xticklabels(['Toxic', 'Clean'], rotation='vertical', fontsize=10)\n",
        "plt.show()\n",
        "\n",
        "# percentage of unique words\n",
        "plt.title(\"Percentage of unique words of total words in comment\")\n",
        "axes = sns.violinplot(y='word_unique_percent', x='clean', data=train_data_new,split=True, inner=\"quart\")\n",
        "axes.set_xlabel('Type of comment', fontsize=12)\n",
        "axes.set_ylabel('% of words', fontsize=12)\n",
        "axes.set_xticklabels(['Toxic', 'Clean'], rotation='vertical', fontsize=10)\n",
        "plt.show()"
      ],
      "execution_count": 0,
      "outputs": [
        {
          "output_type": "display_data",
          "data": {
            "image/png": "[encoded data removed]",
            "text/plain": [
              "<Figure size 432x288 with 1 Axes>"
            ]
          },
          "metadata": {
            "tags": [],
            "needs_background": "light"
          }
        },
        {
          "output_type": "display_data",
          "data": {
            "image/png": "[encoded data removed]",
            "text/plain": [
              "<Figure size 432x288 with 1 Axes>"
            ]
          },
          "metadata": {
            "tags": [],
            "needs_background": "light"
          }
        }
      ]
    },
    {
      "cell_type": "markdown",
      "metadata": {
        "id": "R-L3GPL3KM2j",
        "colab_type": "text"
      },
      "source": [
        "The above graphs show that number of words and number of unique words in both clean and toxic comments are similar and the percentage of unique words indicate that the bulk of the words are unique only. Also, there is a very small bump in the percentage of unique words in toxic comments indicating that they are spam."
      ]
    },
    {
      "cell_type": "code",
      "metadata": {
        "id": "R_rA6vtq_hAl",
        "colab_type": "code",
        "outputId": "8f6d1cac-54e3-4359-ee38-35ff73bce003",
        "colab": {
          "base_uri": "https://localhost:8080/",
          "height": 245
        }
      },
      "source": [
        "# check for nulls\n",
        "train_data_new.isnull().any()"
      ],
      "execution_count": 0,
      "outputs": [
        {
          "output_type": "execute_result",
          "data": {
            "text/plain": [
              "id                     False\n",
              "comment_text           False\n",
              "toxic                  False\n",
              "severe_toxic           False\n",
              "obscene                False\n",
              "threat                 False\n",
              "insult                 False\n",
              "identity_hate          False\n",
              "none                   False\n",
              "count_word             False\n",
              "count_unique_word      False\n",
              "word_unique_percent    False\n",
              "clean                  False\n",
              "dtype: bool"
            ]
          },
          "metadata": {
            "tags": []
          },
          "execution_count": 18
        }
      ]
    },
    {
      "cell_type": "markdown",
      "metadata": {
        "id": "B7AV4Ev1H8GC",
        "colab_type": "text"
      },
      "source": [
        "### **Preprocessing data**\n",
        "The input data that will be used to engineer and extract features is in the form of comment text. This input generally cannot be fed directly into machine learning models, and must first be converted into a large, sparse vector of numbers using tokenizing and vectorization. We will use Scikit Learn's [TfidVectorizer](https://scikit-learn.org/stable/modules/generated/sklearn.feature_extraction.text.TfidfVectorizer.html) function to transform the dataset documents (i.e. comments) into a matrix of TF-IDF features after splitting by both words and characters. Here we will use the combined training and test sets to make the overall word feature vector as this is not actively doing any model training, but merely generating features which will be used to train our models - there are varying opinions on this mixing of datasets, but it is allowed to take this approach in Kaggle competitions and so we will do so here for ease of processing. Default English language stopwords will be used, accents will be stripped from characters, and we will start with 1-grams and the top 10,000 words for the **benchmark model**. Based on **Logistic Regression** with words and char n-grams.\n",
        "\n",
        "### **Logistic Regression - Benchmark Model**"
      ]
    },
    {
      "cell_type": "code",
      "metadata": {
        "id": "3LGfl4FQ_n5r",
        "colab_type": "code",
        "outputId": "b047877a-355d-45d3-91c2-16ace1e5f39c",
        "colab": {
          "base_uri": "https://localhost:8080/",
          "height": 50
        }
      },
      "source": [
        "from sklearn.feature_extraction.text import TfidfVectorizer\n",
        "from scipy.sparse import hstack\n",
        "\n",
        "# combine training and test comments so we have the entire corpus of words and characters for vectorization\n",
        "combined_comments = pd.concat([train_data['comment_text'], test_data_final['comment_text']])\n",
        "word_vec = TfidfVectorizer(stop_words='english', analyzer='word', strip_accents='unicode', sublinear_tf=True,\n",
        "                           token_pattern=r'\\w{1,}', max_features=10000, ngram_range=(1,1))\n",
        "word_vec.fit(combined_comments)\n",
        "train_word_features = word_vec.transform(train_data['comment_text'])\n",
        "test_word_features = word_vec.transform(test_data_final['comment_text'])\n",
        "\n",
        "character_vec = TfidfVectorizer(analyzer='char', stop_words='english', strip_accents='unicode', sublinear_tf=True,\n",
        "                               max_features=50000, ngram_range=(2,6))\n",
        "character_vec.fit(combined_comments)\n",
        "train_char_features = character_vec.transform(train_data['comment_text'])\n",
        "test_char_features = character_vec.transform(test_data_final['comment_text'])\n",
        "\n",
        "train_data_features = hstack([train_char_features, train_word_features])\n",
        "test_data_features = hstack([test_char_features, test_word_features])"
      ],
      "execution_count": 0,
      "outputs": [
        {
          "output_type": "stream",
          "text": [
            "/usr/local/lib/python3.6/dist-packages/sklearn/feature_extraction/text.py:520: UserWarning: The parameter 'stop_words' will not be used since 'analyzer' != 'word'\n",
            "  warnings.warn(\"The parameter 'stop_words' will not be used\"\n"
          ],
          "name": "stderr"
        }
      ]
    },
    {
      "cell_type": "code",
      "metadata": {
        "id": "fXZmmeKvE8ED",
        "colab_type": "code",
        "colab": {}
      },
      "source": [
        "class_names = ['toxic', 'severe_toxic', 'obscene', 'threat', 'insult', 'identity_hate']"
      ],
      "execution_count": 0,
      "outputs": []
    },
    {
      "cell_type": "code",
      "metadata": {
        "id": "Eqc5ZhC8H_3D",
        "colab_type": "code",
        "outputId": "ec6512e9-db8d-46d4-fd58-7c5d7d3dbe69",
        "colab": {
          "base_uri": "https://localhost:8080/",
          "height": 163
        }
      },
      "source": [
        "%%time\n",
        "from sklearn.linear_model import LogisticRegression\n",
        "from sklearn.model_selection import cross_val_score\n",
        "\n",
        "scores = []\n",
        "predictions = pd.DataFrame.from_dict({'id': test_data_final['id']})\n",
        "for class_name in class_names:\n",
        "    train_target = train_data[class_name]\n",
        "    classifier = LogisticRegression(C=0.1, solver='sag')\n",
        "\n",
        "    cv_score = np.mean(cross_val_score(classifier, train_data_features, train_target, cv=3, scoring='roc_auc'))\n",
        "    scores.append(cv_score)\n",
        "    print('CV score for class {} is {}'.format(class_name, cv_score))\n",
        "\n",
        "    classifier.fit(train_data_features, train_target)\n",
        "    predictions[class_name] = classifier.predict_proba(test_data_features)[:, 1]\n",
        "\n",
        "print('Total CV score is {}'.format(np.mean(scores)))"
      ],
      "execution_count": 0,
      "outputs": [
        {
          "output_type": "stream",
          "text": [
            "CV score for class toxic is 0.9697971471178022\n",
            "CV score for class severe_toxic is 0.9877308078502258\n",
            "CV score for class obscene is 0.9846538095631149\n",
            "CV score for class threat is 0.9831761158241489\n",
            "CV score for class insult is 0.9778953768193314\n",
            "CV score for class identity_hate is 0.9743634241727803\n",
            "Total CV score is 0.9796027802245671\n",
            "CPU times: user 12min 33s, sys: 910 ms, total: 12min 34s\n",
            "Wall time: 12min 34s\n"
          ],
          "name": "stdout"
        }
      ]
    },
    {
      "cell_type": "markdown",
      "metadata": {
        "id": "hyPmuT-ZNLs9",
        "colab_type": "text"
      },
      "source": [
        "A custom function to calcualte the **Roc-Auc score** using test set labels provided by Kaggle."
      ]
    },
    {
      "cell_type": "code",
      "metadata": {
        "id": "PebE51b5ID7E",
        "colab_type": "code",
        "colab": {}
      },
      "source": [
        "from sklearn.metrics import roc_auc_score\n",
        "def test_score(predicted_vals):\n",
        "    '''Actual Kaggle competion score using test set labels provided after competition close'''\n",
        "    actuals = test_labels.copy()\n",
        "    actuals.drop(actuals.loc[actuals['toxic']==-1].index, inplace=True)\n",
        "    scores_test = []\n",
        "    for class_name in class_names:\n",
        "        score = roc_auc_score(actuals[class_name], predicted_vals[class_name])\n",
        "        scores_test.append(score)\n",
        "    print('Test set score is {}'.format(np.mean(scores_test)))"
      ],
      "execution_count": 0,
      "outputs": []
    },
    {
      "cell_type": "code",
      "metadata": {
        "id": "gfpfJGJLIKmm",
        "colab_type": "code",
        "outputId": "7cd1a1fa-8ef3-42b2-9166-14fc183787a3",
        "colab": {
          "base_uri": "https://localhost:8080/",
          "height": 33
        }
      },
      "source": [
        "test_score(predictions)"
      ],
      "execution_count": 0,
      "outputs": [
        {
          "output_type": "stream",
          "text": [
            "Test set score is 0.9764889193089585\n"
          ],
          "name": "stdout"
        }
      ]
    },
    {
      "cell_type": "markdown",
      "metadata": {
        "id": "25t1R-aLINtU",
        "colab_type": "text"
      },
      "source": [
        "### **Support Vector Machine**\n",
        "\n",
        "Here, we experiment with another popular machine learning algorithm for classification."
      ]
    },
    {
      "cell_type": "code",
      "metadata": {
        "id": "NwtrTAnXIRnk",
        "colab_type": "code",
        "outputId": "71fc3a0d-89b7-45e0-a478-a46bbbb8b918",
        "colab": {
          "base_uri": "https://localhost:8080/",
          "height": 163
        }
      },
      "source": [
        "%%time\n",
        "from sklearn.svm import LinearSVC\n",
        "from sklearn.calibration import CalibratedClassifierCV\n",
        "\n",
        "scores = []\n",
        "predictions = pd.DataFrame.from_dict({'id': test_data_final['id']})\n",
        "for class_name in class_names:\n",
        "    train_target = train_data[class_name]\n",
        "    classifier = CalibratedClassifierCV(LinearSVC(), method='sigmoid',cv=4)\n",
        "\n",
        "    cv_score = np.mean(cross_val_score(classifier, train_data_features, train_target, cv=3, scoring='roc_auc'))\n",
        "    scores.append(cv_score)\n",
        "    print('CV score for class {} is {}'.format(class_name, cv_score))\n",
        "\n",
        "    classifier.fit(train_data_features, train_target)\n",
        "    predictions[class_name] = classifier.predict_proba(test_data_features)[:, 1]\n",
        "\n",
        "print('Total CV score is {}'.format(np.mean(scores)))"
      ],
      "execution_count": 0,
      "outputs": [
        {
          "output_type": "stream",
          "text": [
            "CV score for class toxic is 0.9732447425993068\n",
            "CV score for class severe_toxic is 0.9783027682430007\n",
            "CV score for class obscene is 0.9853299412668495\n",
            "CV score for class threat is 0.9831191802067671\n",
            "CV score for class insult is 0.9744918361814271\n",
            "CV score for class identity_hate is 0.9711174434792672\n",
            "Total CV score is 0.9776009853294364\n",
            "CPU times: user 15min 3s, sys: 1min 9s, total: 16min 13s\n",
            "Wall time: 14min 56s\n"
          ],
          "name": "stdout"
        }
      ]
    },
    {
      "cell_type": "code",
      "metadata": {
        "id": "iAMZyDXmJsmk",
        "colab_type": "code",
        "outputId": "7e7ff1f1-7ce4-45b4-d133-4d5e13fc45ab",
        "colab": {
          "base_uri": "https://localhost:8080/",
          "height": 33
        }
      },
      "source": [
        "test_score(predictions)"
      ],
      "execution_count": 0,
      "outputs": [
        {
          "output_type": "stream",
          "text": [
            "Test set score is 0.9728010697881672\n"
          ],
          "name": "stdout"
        }
      ]
    },
    {
      "cell_type": "markdown",
      "metadata": {
        "id": "-s7UX_Q5OBk8",
        "colab_type": "text"
      },
      "source": [
        "Well, it fails to beat the score of our **Logistic Regression Model (Benchmark model)** ."
      ]
    },
    {
      "cell_type": "markdown",
      "metadata": {
        "id": "5j7siKaoDbPU",
        "colab_type": "text"
      },
      "source": [
        "## **Capstone Experiment**\n",
        "\n",
        "Here we will import pre-trained word embeddings, pre-process data,develop and experiment with multiple neural network architectures to try and achieve better performance that the logistic regression benchmark model and the support vector machine model utilized above. \n",
        "\n",
        "###**Environment Setup**\n",
        "\n",
        "Here we import all the essential libraries from [Keras](https://keras.io/) to succesfully run our neural network models.\n",
        "\n",
        "Keras is a high-level neural networks API, written in Python and capable of running on top of TensorFlow, CNTK, or Theano. It was developed with a focus on enabling fast experimentation. Being able to go from idea to result with the least possible delay is key to doing good research.\n",
        "\n",
        "\n",
        "* Allows for easy and fast prototyping (through user friendliness, modularity, and extensibility).\n",
        "* Supports both convolutional networks and recurrent networks, as well as combinations of the two.\n",
        "* Runs seamlessly on CPU and GPU.\n",
        "\n",
        "Thus, we will use Keras here for the Capstone project."
      ]
    },
    {
      "cell_type": "code",
      "metadata": {
        "id": "prDHDC3Wxm77",
        "colab_type": "code",
        "outputId": "086969b7-51fc-4947-8e8c-7a273b8552c6",
        "colab": {
          "base_uri": "https://localhost:8080/",
          "height": 98
        }
      },
      "source": [
        "!pip install scikit-multilearn"
      ],
      "execution_count": 7,
      "outputs": [
        {
          "output_type": "stream",
          "text": [
            "Collecting scikit-multilearn\n",
            "\u001b[?25l  Downloading https://files.pythonhosted.org/packages/bb/1f/e6ff649c72a1cdf2c7a1d31eb21705110ce1c5d3e7e26b2cc300e1637272/scikit_multilearn-0.2.0-py3-none-any.whl (89kB)\n",
            "\r\u001b[K     |███▊                            | 10kB 18.2MB/s eta 0:00:01\r\u001b[K     |███████▍                        | 20kB 1.6MB/s eta 0:00:01\r\u001b[K     |███████████                     | 30kB 1.9MB/s eta 0:00:01\r\u001b[K     |██████████████▊                 | 40kB 2.2MB/s eta 0:00:01\r\u001b[K     |██████████████████▍             | 51kB 2.0MB/s eta 0:00:01\r\u001b[K     |██████████████████████          | 61kB 2.2MB/s eta 0:00:01\r\u001b[K     |█████████████████████████▊      | 71kB 2.4MB/s eta 0:00:01\r\u001b[K     |█████████████████████████████▍  | 81kB 2.6MB/s eta 0:00:01\r\u001b[K     |████████████████████████████████| 92kB 2.3MB/s \n",
            "\u001b[?25hInstalling collected packages: scikit-multilearn\n",
            "Successfully installed scikit-multilearn-0.2.0\n"
          ],
          "name": "stdout"
        }
      ]
    },
    {
      "cell_type": "code",
      "metadata": {
        "id": "BPuLGRmAci6R",
        "colab_type": "code",
        "outputId": "ece17faa-7fe9-4ff9-84a9-4842ce68e1f2",
        "colab": {
          "base_uri": "https://localhost:8080/",
          "height": 33
        }
      },
      "source": [
        "import os\n",
        "from keras.layers import Dense, Input, Bidirectional, Activation, Conv1D, GRU\n",
        "from keras.callbacks import Callback\n",
        "from keras.layers import Dropout,Embedding,GlobalMaxPooling1D, MaxPooling1D, Add, Flatten\n",
        "from keras.preprocessing import text, sequence\n",
        "from keras.layers import GlobalAveragePooling1D, GlobalMaxPooling1D, concatenate, SpatialDropout1D\n",
        "from keras import initializers, regularizers, constraints, optimizers, layers, callbacks\n",
        "from keras.callbacks import EarlyStopping,ModelCheckpoint\n",
        "from keras.models import Model\n",
        "from keras.optimizers import Adam\n",
        "from sklearn.model_selection import train_test_split\n",
        "from sklearn.metrics import accuracy_score\n",
        "from sklearn.metrics import roc_auc_score\n",
        "from skmultilearn.model_selection import iterative_train_test_split"
      ],
      "execution_count": 8,
      "outputs": [
        {
          "output_type": "stream",
          "text": [
            "Using TensorFlow backend.\n"
          ],
          "name": "stderr"
        }
      ]
    },
    {
      "cell_type": "code",
      "metadata": {
        "id": "KKpIXpaGc3mM",
        "colab_type": "code",
        "colab": {}
      },
      "source": [
        "EMBEDDING_FILE = '/content/drive/My Drive/toxicity-classification/embedding/crawl-300d-2M.vec'\n",
        "train = pd.read_csv('/content/drive/My Drive/toxicity-classification/data/train.csv')\n",
        "test = pd.read_csv('/content/drive/My Drive/toxicity-classification/data/test.csv')"
      ],
      "execution_count": 0,
      "outputs": []
    },
    {
      "cell_type": "code",
      "metadata": {
        "id": "cywixJC_dTFv",
        "colab_type": "code",
        "colab": {}
      },
      "source": [
        "max_features=100000\n",
        "maxlen=200\n",
        "embed_size=300"
      ],
      "execution_count": 0,
      "outputs": []
    },
    {
      "cell_type": "code",
      "metadata": {
        "id": "STNXTcYcGix_",
        "colab_type": "code",
        "outputId": "6122681b-d9bb-4ab1-86a7-d28026875460",
        "colab": {
          "base_uri": "https://localhost:8080/",
          "height": 33
        }
      },
      "source": [
        "!ls \"/content/drive/My Drive/toxicity-classification/embedding/\""
      ],
      "execution_count": 11,
      "outputs": [
        {
          "output_type": "stream",
          "text": [
            "crawl-300d-2M.vec  glove.twitter.27B.200d.txt\n"
          ],
          "name": "stdout"
        }
      ]
    },
    {
      "cell_type": "code",
      "metadata": {
        "id": "ciNgF8J3BDQg",
        "colab_type": "code",
        "outputId": "00ec9913-748a-4c9a-ba79-c69723eafef1",
        "colab": {
          "base_uri": "https://localhost:8080/",
          "height": 50
        }
      },
      "source": [
        "%%time\n",
        "embeddings_index = {}\n",
        "with open(EMBEDDING_FILE, encoding='utf8') as f:\n",
        "    for line in f:\n",
        "        values = line.rstrip().rsplit(' ')\n",
        "        word = values[0]\n",
        "        coefs = np.asarray(values[1:], dtype='float32')\n",
        "        embeddings_index[word] = coefs"
      ],
      "execution_count": 12,
      "outputs": [
        {
          "output_type": "stream",
          "text": [
            "CPU times: user 2min 9s, sys: 3.85 s, total: 2min 12s\n",
            "Wall time: 2min 24s\n"
          ],
          "name": "stdout"
        }
      ]
    },
    {
      "cell_type": "markdown",
      "metadata": {
        "id": "sVxMPO9qEDWi",
        "colab_type": "text"
      },
      "source": [
        "Here, we make a vocabulary from our training data. The intention is to check the coverage."
      ]
    },
    {
      "cell_type": "code",
      "metadata": {
        "id": "RS22-AWnBGYa",
        "colab_type": "code",
        "colab": {}
      },
      "source": [
        "from tqdm.notebook import tqdm\n",
        "tqdm.pandas()\n",
        "\n",
        "def build_vocab(sentences, verbose =  True):\n",
        "    \"\"\"\n",
        "    :param sentences: list of list of words\n",
        "    :return: dictionary of words and their count\n",
        "    \"\"\"\n",
        "    vocab = {}\n",
        "    for sentence in tqdm(sentences, disable = (not verbose)):\n",
        "        for word in sentence:\n",
        "            try:\n",
        "                vocab[word] += 1\n",
        "            except KeyError:\n",
        "                vocab[word] = 1\n",
        "    return vocab"
      ],
      "execution_count": 0,
      "outputs": []
    },
    {
      "cell_type": "code",
      "metadata": {
        "id": "wJsUUEHABLMR",
        "colab_type": "code",
        "outputId": "80fe6fb3-3a16-4b5b-8760-b2a44deb3fc4",
        "colab": {
          "base_uri": "https://localhost:8080/",
          "height": 130,
          "referenced_widgets": [
            "b7570a8bab0747dbab156b87c9408b1c",
            "bccaa1c94ac64fa4900e8db67413a22a",
            "23429c355f9942b1aed1a6732793b2d0",
            "686c28c073db4b1a9063ed46885b7537",
            "92e5eb874cf34234a0c6d21553b4f615",
            "db6c4053352540e4800c0326580eb0da",
            "48d7d9cb17df44529fe5232f23510f26",
            "37921883234e4c53abebb75d6426bbde",
            "a325182fbf1a4b2aaa63dd1280305c1c",
            "a0f38d06189a47c6933fb28f102d3e91",
            "6ea7622993e24c22bff5758699ee7e7f",
            "bdf33437c22a4902972aa6e252dc036d",
            "ffbcf3c9feb04dc0b390d0fa26057f57",
            "3c061f1f9c1645f0bc679971817041ef",
            "7b776accb7f64bd2a5137860535d5af4",
            "a08791d60e824be48be656e39b67d09b"
          ]
        }
      },
      "source": [
        "sentences = train[\"comment_text\"].progress_apply(lambda x: x.split()).values\n",
        "vocab = build_vocab(sentences)\n",
        "print({k: vocab[k] for k in list(vocab)[:5]})"
      ],
      "execution_count": 0,
      "outputs": [
        {
          "output_type": "display_data",
          "data": {
            "application/vnd.jupyter.widget-view+json": {
              "model_id": "b7570a8bab0747dbab156b87c9408b1c",
              "version_minor": 0,
              "version_major": 2
            },
            "text/plain": [
              "HBox(children=(IntProgress(value=0, max=159571), HTML(value='')))"
            ]
          },
          "metadata": {
            "tags": []
          }
        },
        {
          "output_type": "stream",
          "text": [
            "\n"
          ],
          "name": "stdout"
        },
        {
          "output_type": "display_data",
          "data": {
            "application/vnd.jupyter.widget-view+json": {
              "model_id": "a325182fbf1a4b2aaa63dd1280305c1c",
              "version_minor": 0,
              "version_major": 2
            },
            "text/plain": [
              "HBox(children=(IntProgress(value=0, max=159571), HTML(value='')))"
            ]
          },
          "metadata": {
            "tags": []
          }
        },
        {
          "output_type": "stream",
          "text": [
            "\n",
            "{'Explanation': 23, 'Why': 4305, 'the': 445987, 'edits': 6809, 'made': 8738}\n"
          ],
          "name": "stdout"
        }
      ]
    },
    {
      "cell_type": "markdown",
      "metadata": {
        "id": "MwWkpWiDEmeW",
        "colab_type": "text"
      },
      "source": [
        "Next, define a function that checks the intersection between our vocabulary and the embeddings. It will output a list of out of vocabulary (oov) words that we can use to improve our preprocessing"
      ]
    },
    {
      "cell_type": "code",
      "metadata": {
        "id": "fkmAtr1ABSRe",
        "colab_type": "code",
        "colab": {}
      },
      "source": [
        "import operator \n",
        "\n",
        "def check_coverage(vocab,embeddings_index):\n",
        "    a = {}\n",
        "    oov = {}\n",
        "    k = 0\n",
        "    i = 0\n",
        "    for word in tqdm(vocab):\n",
        "        try:\n",
        "            a[word] = embeddings_index[word]\n",
        "            k += vocab[word]\n",
        "        except:\n",
        "\n",
        "            oov[word] = vocab[word]\n",
        "            i += vocab[word]\n",
        "            pass\n",
        "\n",
        "    print('Found embeddings for {:.2%} of vocab'.format(len(a) / len(vocab)))\n",
        "    print('Found embeddings for  {:.2%} of all text'.format(k / (k + i)))\n",
        "    sorted_x = sorted(oov.items(), key=operator.itemgetter(1))[::-1]\n",
        "\n",
        "    return sorted_x"
      ],
      "execution_count": 0,
      "outputs": []
    },
    {
      "cell_type": "code",
      "metadata": {
        "id": "wxsyxOlwBYc7",
        "colab_type": "code",
        "outputId": "9dc26020-8eed-4dce-9522-da1842cb9a1f",
        "colab": {
          "base_uri": "https://localhost:8080/",
          "height": 97,
          "referenced_widgets": [
            "a6abeeb8cc274c69b7c8e4ddf5e42825",
            "61a2ea74956b4825917beefbcea30dc5",
            "57396b694c5e42afaf9c4d6793876f44",
            "127acae0d13d4a54949bba065c799a95",
            "139c2c3f86ee4732ac5c1bffe12f61c0",
            "f6bb789c74ac49bfa765f793aceb7db2",
            "4b659522b255400ba147c1dc2b954a74",
            "61cc5ef461534d50b92752502dea96f2"
          ]
        }
      },
      "source": [
        "oov = check_coverage(vocab,embeddings_index)"
      ],
      "execution_count": 0,
      "outputs": [
        {
          "output_type": "display_data",
          "data": {
            "application/vnd.jupyter.widget-view+json": {
              "model_id": "a6abeeb8cc274c69b7c8e4ddf5e42825",
              "version_minor": 0,
              "version_major": 2
            },
            "text/plain": [
              "HBox(children=(IntProgress(value=0, max=532299), HTML(value='')))"
            ]
          },
          "metadata": {
            "tags": []
          }
        },
        {
          "output_type": "stream",
          "text": [
            "\n",
            "Found embeddings for 29.68% of vocab\n",
            "Found embeddings for  89.36% of all text\n"
          ],
          "name": "stdout"
        }
      ]
    },
    {
      "cell_type": "markdown",
      "metadata": {
        "id": "3Gs9ID8uE0eF",
        "colab_type": "text"
      },
      "source": [
        "Only 30% of our vocabulary will have embeddings, making 11% of our data more or less useless. So lets have a look and start improving. For this we can easily have a look at the top oov words."
      ]
    },
    {
      "cell_type": "code",
      "metadata": {
        "id": "omBFezuPB02D",
        "colab_type": "code",
        "outputId": "cbc6f5c3-6efe-4553-f2ed-0cba0ef53ca3",
        "colab": {
          "base_uri": "https://localhost:8080/",
          "height": 180
        }
      },
      "source": [
        "oov[:10]"
      ],
      "execution_count": 0,
      "outputs": [
        {
          "output_type": "execute_result",
          "data": {
            "text/plain": [
              "[('(UTC)', 5778),\n",
              " ('article,', 5556),\n",
              " ('page,', 5257),\n",
              " ('(talk)', 3217),\n",
              " ('Also,', 3061),\n",
              " ('Wikipedia,', 2607),\n",
              " (\"Wikipedia's\", 2464),\n",
              " ('so,', 1948),\n",
              " (\"wasn't\", 1914),\n",
              " (\"You're\", 1883)]"
            ]
          },
          "metadata": {
            "tags": []
          },
          "execution_count": 38
        }
      ]
    },
    {
      "cell_type": "markdown",
      "metadata": {
        "id": "WD0yvbagE_3v",
        "colab_type": "text"
      },
      "source": [
        "Well, we can see it's special characters which is messing up the coverage so, we need step-by-step preprocessing to increase the word coverage."
      ]
    },
    {
      "cell_type": "code",
      "metadata": {
        "id": "rRIKZixvhW1W",
        "colab_type": "code",
        "outputId": "8122c0f3-2d1f-4f21-acca-441d7c8d10e9",
        "colab": {
          "base_uri": "https://localhost:8080/",
          "height": 66
        }
      },
      "source": [
        "import nltk\n",
        "nltk.download('wordnet')"
      ],
      "execution_count": 14,
      "outputs": [
        {
          "output_type": "stream",
          "text": [
            "[nltk_data] Downloading package wordnet to /root/nltk_data...\n",
            "[nltk_data]   Unzipping corpora/wordnet.zip.\n"
          ],
          "name": "stdout"
        },
        {
          "output_type": "execute_result",
          "data": {
            "text/plain": [
              "True"
            ]
          },
          "metadata": {
            "tags": []
          },
          "execution_count": 14
        }
      ]
    },
    {
      "cell_type": "code",
      "metadata": {
        "id": "BqJUyD3Wtfer",
        "colab_type": "code",
        "outputId": "6eae4fee-1314-4008-c5e8-2977b2169bce",
        "colab": {
          "base_uri": "https://localhost:8080/",
          "height": 86
        }
      },
      "source": [
        "nltk.download('stopwords')\n",
        "from nltk.corpus import stopwords\n",
        "\", \".join(stopwords.words('english'))"
      ],
      "execution_count": 15,
      "outputs": [
        {
          "output_type": "stream",
          "text": [
            "[nltk_data] Downloading package stopwords to /root/nltk_data...\n",
            "[nltk_data]   Unzipping corpora/stopwords.zip.\n"
          ],
          "name": "stdout"
        },
        {
          "output_type": "execute_result",
          "data": {
            "text/plain": [
              "\"i, me, my, myself, we, our, ours, ourselves, you, you're, you've, you'll, you'd, your, yours, yourself, yourselves, he, him, his, himself, she, she's, her, hers, herself, it, it's, its, itself, they, them, their, theirs, themselves, what, which, who, whom, this, that, that'll, these, those, am, is, are, was, were, be, been, being, have, has, had, having, do, does, did, doing, a, an, the, and, but, if, or, because, as, until, while, of, at, by, for, with, about, against, between, into, through, during, before, after, above, below, to, from, up, down, in, out, on, off, over, under, again, further, then, once, here, there, when, where, why, how, all, any, both, each, few, more, most, other, some, such, no, nor, not, only, own, same, so, than, too, very, s, t, can, will, just, don, don't, should, should've, now, d, ll, m, o, re, ve, y, ain, aren, aren't, couldn, couldn't, didn, didn't, doesn, doesn't, hadn, hadn't, hasn, hasn't, haven, haven't, isn, isn't, ma, mightn, mightn't, mustn, mustn't, needn, needn't, shan, shan't, shouldn, shouldn't, wasn, wasn't, weren, weren't, won, won't, wouldn, wouldn't\""
            ]
          },
          "metadata": {
            "tags": []
          },
          "execution_count": 15
        }
      ]
    },
    {
      "cell_type": "code",
      "metadata": {
        "id": "0aGLJy90nOOH",
        "colab_type": "code",
        "outputId": "eb67050a-5ef8-42a1-bc46-992a7b4e9197",
        "colab": {
          "base_uri": "https://localhost:8080/",
          "height": 98
        }
      },
      "source": [
        "!pip install unidecode"
      ],
      "execution_count": 16,
      "outputs": [
        {
          "output_type": "stream",
          "text": [
            "Collecting unidecode\n",
            "\u001b[?25l  Downloading https://files.pythonhosted.org/packages/d0/42/d9edfed04228bacea2d824904cae367ee9efd05e6cce7ceaaedd0b0ad964/Unidecode-1.1.1-py2.py3-none-any.whl (238kB)\n",
            "\r\u001b[K     |█▍                              | 10kB 19.7MB/s eta 0:00:01\r\u001b[K     |██▊                             | 20kB 1.5MB/s eta 0:00:01\r\u001b[K     |████▏                           | 30kB 2.0MB/s eta 0:00:01\r\u001b[K     |█████▌                          | 40kB 1.5MB/s eta 0:00:01\r\u001b[K     |██████▉                         | 51kB 1.8MB/s eta 0:00:01\r\u001b[K     |████████▎                       | 61kB 2.0MB/s eta 0:00:01\r\u001b[K     |█████████▋                      | 71kB 2.2MB/s eta 0:00:01\r\u001b[K     |███████████                     | 81kB 2.5MB/s eta 0:00:01\r\u001b[K     |████████████▍                   | 92kB 2.8MB/s eta 0:00:01\r\u001b[K     |█████████████▊                  | 102kB 2.5MB/s eta 0:00:01\r\u001b[K     |███████████████▏                | 112kB 2.5MB/s eta 0:00:01\r\u001b[K     |████████████████▌               | 122kB 2.5MB/s eta 0:00:01\r\u001b[K     |█████████████████▉              | 133kB 2.5MB/s eta 0:00:01\r\u001b[K     |███████████████████▎            | 143kB 2.5MB/s eta 0:00:01\r\u001b[K     |████████████████████▋           | 153kB 2.5MB/s eta 0:00:01\r\u001b[K     |██████████████████████          | 163kB 2.5MB/s eta 0:00:01\r\u001b[K     |███████████████████████▍        | 174kB 2.5MB/s eta 0:00:01\r\u001b[K     |████████████████████████▊       | 184kB 2.5MB/s eta 0:00:01\r\u001b[K     |██████████████████████████▏     | 194kB 2.5MB/s eta 0:00:01\r\u001b[K     |███████████████████████████▌    | 204kB 2.5MB/s eta 0:00:01\r\u001b[K     |████████████████████████████▉   | 215kB 2.5MB/s eta 0:00:01\r\u001b[K     |██████████████████████████████▎ | 225kB 2.5MB/s eta 0:00:01\r\u001b[K     |███████████████████████████████▋| 235kB 2.5MB/s eta 0:00:01\r\u001b[K     |████████████████████████████████| 245kB 2.5MB/s \n",
            "\u001b[?25hInstalling collected packages: unidecode\n",
            "Successfully installed unidecode-1.1.1\n"
          ],
          "name": "stdout"
        }
      ]
    },
    {
      "cell_type": "markdown",
      "metadata": {
        "id": "T0zYv70EFQer",
        "colab_type": "text"
      },
      "source": [
        "### **Text Preprocessing for Natural Language Processing**\n",
        "\n",
        "In this section, we will perform text processing on the \"comment_text\" which is quentessential for any natural language processing task.\n",
        "\n",
        "The pre-processing tasks performed are:\n",
        "* Conversion of text to **Lower Case**\n",
        "* Cleaning of **special characters**\n",
        "* Masking of **long numbers**\n",
        "* Replacement of **wrongly-spelt words**\n",
        "* Removal of **emojis**\n",
        "\n",
        "\n",
        "\n",
        "\n",
        "> *In Natural Language Processing tasks while using pre-trained word embeddings it's **not necessary** to perform **stopword removal** or **stemming** or **lemmatizing**.So here, we will not perform any of them.* \n",
        "\n",
        ">*In computing, **stopwords** are words which are filtered out before or after processing of natural language data (text).Though \"stop words\" usually refers to the most common words in a language, there is no single universal list of stop words used by all natural language processing tools, and indeed not all tools even use such a list. Some tools specifically avoid removing these stop words to support phrase search.*\n",
        "\n",
        "\n",
        "\n",
        "> *In linguistic morphology and information retrieval, **stemming** is the process of reducing inflected (or sometimes derived) words to their word stem, base or root form—generally a written word form. The stem need not be identical to the morphological root of the word; it is usually sufficient that related words map to the same stem, even if this stem is not in itself a valid root.*\n",
        "\n"
      ]
    },
    {
      "cell_type": "code",
      "metadata": {
        "id": "drmG0Iuddpje",
        "colab_type": "code",
        "colab": {}
      },
      "source": [
        "# clean data\n",
        "import re\n",
        "import gc\n",
        "import nltk\n",
        "from nltk import word_tokenize\n",
        "from unidecode import unidecode\n",
        "\n",
        "special_character_removal = re.compile(r'[^A-Za-z\\.\\-\\?\\!\\,\\#\\@\\% ]',re.IGNORECASE)\n",
        "def clean_text(x):\n",
        "    x_ascii = unidecode(x)\n",
        "    x_clean = special_character_removal.sub(' ',x_ascii)\n",
        "    return x_clean\n",
        "\n",
        "replace_numbers=re.compile(r'\\d+',re.IGNORECASE)\n",
        "def clean_numbers(x):\n",
        "      return replace_numbers.sub(' ',x)\n",
        "\n",
        "def clean_tags(text):\n",
        "    text = re.sub(r\"https?:\\/\\/(www\\.)?[-a-zA-Z0-9@:%._\\+~#=]{2,256}\\.[a-z]{2,6}\\b([-a-zA-Z0-9@:%_\\+.~#?&//=]*)\", \"\", text)\n",
        "    text = re.sub(r\"(25[0-5]|2[0-4][0-9]|[01]?[0-9][0-9]?)(\\.(25[0-5]|2[0-4][0-9]|[01]?[0-9][0-9]?)){3}\", \"\", text)\n",
        "    return text\n",
        "\n",
        "mispell_dict = {\"ain't\": \"is not\", \"aren't\": \"are not\",\"can't\": \"cannot\", \"'cause\": \"because\", \"could've\": \"could have\", \"couldn't\": \"could not\", \"didn't\": \"did not\",  \"doesn't\": \"does not\", \"don't\": \"do not\", \"hadn't\": \"had not\", \"hasn't\": \"has not\", \"haven't\": \"have not\", \"he'd\": \"he would\",\"he'll\": \"he will\", \"he's\": \"he is\", \"how'd\": \"how did\", \"how'd'y\": \"how do you\", \"how'll\": \"how will\", \"how's\": \"how is\",  \"I'd\": \"I would\", \"I'd've\": \"I would have\", \"I'll\": \"I will\", \"I'll've\": \"I will have\",\"I'm\": \"I am\", \"I've\": \"I have\", \"i'd\": \"i would\", \"i'd've\": \"i would have\", \"i'll\": \"i will\",  \"i'll've\": \"i will have\",\"i'm\": \"i am\", \"i've\": \"i have\", \"isn't\": \"is not\", \"it'd\": \"it would\", \"it'd've\": \"it would have\", \"it'll\": \"it will\", \"it'll've\": \"it will have\",\"it's\": \"it is\", \"let's\": \"let us\", \"ma'am\": \"madam\", \"mayn't\": \"may not\", \"might've\": \"might have\",\"mightn't\": \"might not\",\"mightn't've\": \"might not have\", \"must've\": \"must have\", \"mustn't\": \"must not\", \"mustn't've\": \"must not have\", \"needn't\": \"need not\", \"needn't've\": \"need not have\",\"o'clock\": \"of the clock\", \"oughtn't\": \"ought not\", \"oughtn't've\": \"ought not have\", \"shan't\": \"shall not\", \"sha'n't\": \"shall not\", \"shan't've\": \"shall not have\", \"she'd\": \"she would\", \"she'd've\": \"she would have\", \"she'll\": \"she will\", \"she'll've\": \"she will have\", \"she's\": \"she is\", \"should've\": \"should have\", \"shouldn't\": \"should not\", \"shouldn't've\": \"should not have\", \"so've\": \"so have\",\"so's\": \"so as\", \"this's\": \"this is\",\"that'd\": \"that would\", \"that'd've\": \"that would have\", \"that's\": \"that is\", \"there'd\": \"there would\", \"there'd've\": \"there would have\", \"there's\": \"there is\", \"here's\": \"here is\",\"they'd\": \"they would\", \"they'd've\": \"they would have\", \"they'll\": \"they will\", \"they'll've\": \"they will have\", \"they're\": \"they are\", \"they've\": \"they have\", \"to've\": \"to have\", \"wasn't\": \"was not\", \"we'd\": \"we would\", \"we'd've\": \"we would have\", \"we'll\": \"we will\", \"we'll've\": \"we will have\", \"we're\": \"we are\", \"we've\": \"we have\", \"weren't\": \"were not\", \"what'll\": \"what will\", \"what'll've\": \"what will have\", \"what're\": \"what are\",  \"what's\": \"what is\", \"what've\": \"what have\", \"when's\": \"when is\", \"when've\": \"when have\", \"where'd\": \"where did\", \"where's\": \"where is\", \"where've\": \"where have\", \"who'll\": \"who will\", \"who'll've\": \"who will have\", \"who's\": \"who is\", \"who've\": \"who have\", \"why's\": \"why is\", \"why've\": \"why have\", \"will've\": \"will have\", \"won't\": \"will not\", \"won't've\": \"will not have\", \"would've\": \"would have\", \"wouldn't\": \"would not\", \"wouldn't've\": \"would not have\", \"y'all\": \"you all\", \"y'all'd\": \"you all would\",\"y'all'd've\": \"you all would have\",\"y'all're\": \"you all are\",\"y'all've\": \"you all have\",\"you'd\": \"you would\", \"you'd've\": \"you would have\", \"you'll\": \"you will\", \"you'll've\": \"you will have\", \"you're\": \"you are\", \"you've\": \"you have\", 'colour': 'color', 'centre': 'center', 'favourite': 'favorite', 'travelling': 'traveling', 'counselling': 'counseling', 'theatre': 'theater', 'cancelled': 'canceled', 'labour': 'labor', 'organisation': 'organization', 'wwii': 'world war 2', 'citicise': 'criticize', 'youtu ': 'youtube ', 'Qoura': 'Quora', 'sallary': 'salary', 'Whta': 'What', 'narcisist': 'narcissist', 'howdo': 'how do', 'whatare': 'what are', 'howcan': 'how can', 'howmuch': 'how much', 'howmany': 'how many', 'whydo': 'why do', 'doI': 'do I', 'theBest': 'the best', 'howdoes': 'how does', 'mastrubation': 'masturbation', 'mastrubate': 'masturbate', \"mastrubating\": 'masturbating', 'pennis': 'penis', 'Etherium': 'Ethereum', 'narcissit': 'narcissist', 'bigdata': 'big data', '2k17': '2017', '2k18': '2018', 'qouta': 'quota', 'exboyfriend': 'ex boyfriend', 'airhostess': 'air hostess', \"whst\": 'what', 'watsapp': 'whatsapp', 'demonitisation': 'demonetization', 'demonitization': 'demonetization', 'demonetisation': 'demonetization'}\n",
        "\n",
        "def _get_mispell(mispell_dict):\n",
        "    mispell_re = re.compile('(%s)' % '|'.join(mispell_dict.keys()))\n",
        "    return mispell_dict, mispell_re\n",
        "\n",
        "mispellings, mispellings_re = _get_mispell(mispell_dict)\n",
        "def replace_typical_misspell(text):\n",
        "    def replace(match):\n",
        "        return mispellings[match.group(0)]\n",
        "    return mispellings_re.sub(replace, text)\n",
        "\n",
        "def remove_emoji(x):\n",
        "    emoji_pattern = re.compile(\"[\"\n",
        "                           u\"\\U0001F600-\\U0001F64F\"  # emoticons\n",
        "                           u\"\\U0001F300-\\U0001F5FF\"  # symbols & pictographs\n",
        "                           u\"\\U0001F680-\\U0001F6FF\"  # transport & map symbols\n",
        "                           u\"\\U0001F1E0-\\U0001F1FF\"  # flags (iOS)\n",
        "                           u\"\\U00002702-\\U000027B0\"\n",
        "                           u\"\\U000024C2-\\U0001F251\"\n",
        "                           \"]+\", flags=re.UNICODE)\n",
        "    return emoji_pattern.sub(r'', x)\n",
        "\n",
        "def clean_punctuations(text):\n",
        "    text = re.sub(r\",\", \" \", text)\n",
        "    text = re.sub(r\"\\.\", \" \", text)\n",
        "    text = re.sub(r\"!\", \" ! \", text)\n",
        "    text = re.sub(r\"\\/\", \" \", text)\n",
        "    text = re.sub(r\"\\?\", \" ? \", text)\n",
        "    text = re.sub(r\"\\!\", \" ! \", text)\n",
        "    text = re.sub(r\"\\\"\", \" \", text)\n",
        "    text = re.sub(r\"\\^\", \" ^ \", text)\n",
        "    text = re.sub(r\"\\+\", \" + \", text)\n",
        "    text = re.sub(r\"\\-\", \" - \", text)\n",
        "    text = re.sub(r\"\\=\", \" = \", text)\n",
        "    text = re.sub(r\"'\", \" \", text)\n",
        "    text = re.sub(r\"\\--\", \" - \", text)\n",
        "    text = re.sub(r\"(\\d+)(k)\", r\"\\g<1>000\", text)\n",
        "    text = re.sub(r\":\", \" : \", text)\n",
        "    text = re.sub(r\" e g \", \" eg \", text)\n",
        "    text = re.sub(r\" b g \", \" bg \", text)\n",
        "    text = re.sub(r\" u s \", \" american \", text)\n",
        "    text = re.sub(r\"\\0s\", \"0\", text)\n",
        "    text = re.sub(r\" 9 11 \", \"911\", text)\n",
        "    text = re.sub(r\"e - mail\", \"email\", text)\n",
        "    text = re.sub(r\"j k\", \"jk\", text)\n",
        "    text = re.sub(r\"\\s{2,}\", \" \", text)\n",
        "    return text\n",
        "\n",
        "def clean_html(text):\n",
        "    # Drop the image\n",
        "    text = re.sub(r\"image:[a-zA-Z0-9]*\\.jpg\", \" \", text)\n",
        "    text = re.sub(r\"image:[a-zA-Z0-9]*\\.png\", \" \", text)\n",
        "    text = re.sub(r\"image:[a-zA-Z0-9]*\\.gif\", \" \", text)\n",
        "    text = re.sub(r\"image:[a-zA-Z0-9]*\\.bmp\", \" \", text)\n",
        "\n",
        "    # Drop css\n",
        "    text = re.sub(r\"#([A-Fa-f0-9]{6}|[A-Fa-f0-9]{3})\", \" \",text)\n",
        "    text = re.sub(r\"\\{\\|[^\\}]*\\|\\}\", \" \", text)\n",
        "        \n",
        "    # Clean templates\n",
        "    text = re.sub(r\"\\[?\\[user:.*\\]\", \" \", text)\n",
        "    text = re.sub(r\"\\[?\\[user:.*\\|\", \" \", text)        \n",
        "    text = re.sub(r\"\\[?\\[wikipedia:.*\\]\", \" \", text)\n",
        "    text = re.sub(r\"\\[?\\[wikipedia:.*\\|\", \" \", text)\n",
        "    text = re.sub(r\"\\[?\\[special:.*\\]\", \" \", text)\n",
        "    text = re.sub(r\"\\[?\\[special:.*\\|\", \" \", text)\n",
        "    text = re.sub(r\"\\[?\\[category:.*\\]\", \" \", text)\n",
        "    text = re.sub(r\"\\[?\\[category:.*\\|\", \" \", text)\n",
        "    return text\n",
        "\n",
        "stopwords_list = set(stopwords.words('english'))\n",
        "\n",
        "def remove_stopwords(text):\n",
        "    return \" \".join([word for word in str(text).split() if word not in stopwords_list])\n",
        "\n",
        "def stem_text(text):    \n",
        "    lemma = nltk.wordnet.WordNetLemmatizer()\n",
        "    class FasterStemmer(object):\n",
        "        def __init__(self):\n",
        "            self.words = {}\n",
        "\n",
        "        def stem(self, x):\n",
        "            if x in self.words:\n",
        "                return self.words[x]\n",
        "            t = lemma.lemmatize(x)\n",
        "            self.words[x] = t\n",
        "            return t\n",
        "    faster_stemmer = FasterStemmer()\n",
        "    text = text.split()\n",
        "    stemmed_words = [faster_stemmer.stem(word) for word in text]\n",
        "    text = \" \".join(stemmed_words)\n",
        "    del faster_stemmer\n",
        "    gc.collect\n",
        "    return text"
      ],
      "execution_count": 0,
      "outputs": []
    },
    {
      "cell_type": "markdown",
      "metadata": {
        "id": "MunxIeKBJS1B",
        "colab_type": "text"
      },
      "source": [
        "Here, we apply the functions for text processing."
      ]
    },
    {
      "cell_type": "code",
      "metadata": {
        "id": "IlAa4hSpeIrX",
        "colab_type": "code",
        "outputId": "301698a8-5447-475c-fbda-5b9b6b95733a",
        "colab": {
          "base_uri": "https://localhost:8080/",
          "height": 983,
          "referenced_widgets": [
            "140c2af255b34442ae0cf363453e94df",
            "68f9c8891a194b378565e73206219627",
            "f591cd875ef94b94a26adf399f74fc4a",
            "1b9bd3973f344d6e85ae5b47a8b19226",
            "8f80d596bb6740fda701c7b24422edd7",
            "e00800dc8fed43c196e94a23c27a2fdd",
            "e106e6e7dc434196ba12d955c5399c5b",
            "e5fa7c278cdd49bab286ca68426c75fe",
            "1e740572e4e743eca069df78cfc95f6c",
            "82ec634d86ce4aefb5d25145768ebb10",
            "0e46ff15d5564c29ae2f3e94d422fa42",
            "c7c8694d6f3a4411aa31915d50d930fb",
            "8482016188734f6c9ffda7bee466af71",
            "b035e270fa284c739e6a2877e5b02032",
            "4896ad9146814a089c9345097b6b1cb7",
            "7d3e0fe7ad914c06a19219fdd712caac",
            "6b56df2e0fe0418fa1c22a1ebd8f279a",
            "e4aee3d5648143909fce22ced09938ab",
            "cebdc38dab39474dabc9d2ecbd178f0b",
            "fdbcdc1d1490495d90cebeb2d7781ae7",
            "27a580ce576c4fceb2c06751d19aa09e",
            "02540d69323b43b1a955a791b158475b",
            "cc62d61d9c0f46c991adf6abcc09b0ad",
            "756f3cafd0234150bc8b854cb3d3e198",
            "a780d43a594f4e7a923df86ad8a8fbd3",
            "76596b73e1ff475a8f22ce77497d4b6d",
            "c867c1401e5344258ba4d6da3175e6db",
            "32375515330743579718f75ab3eb9395",
            "b7e762e2d1fb43518b09001908c6b248",
            "c19b2978bf754b18b59b8abbc7dd9009",
            "8fa8511f3e1342d885ec8d4853fabbe0",
            "3fe2aed1802345778b843ccc825356d1",
            "11de70ade63645619bd520d23cc5352d",
            "396fe2f77ac24a4a9f94c1c392758d9f",
            "16681fd3bdf448ab8b6d828541ddeac3",
            "45efcac59c924e4792daa538a894d453",
            "de4a21c953c943c183e25548d6e8ce2a",
            "5a67279662844c9589b8d76556033b3e",
            "e7e100b8c0124b22b8cb08c221eaa92a",
            "20fc5bc52bb94cd6bb9d4dd13d7c6acc",
            "e4f18c40350f412aace3d57163196fe3",
            "e673c2d3335a45f491d4cb6637072326",
            "9074515fb96e4150af1b1f1c90062fe7",
            "f0b2625575074ea799e697c589be0156",
            "fb9eaf8f035e46f19bdc59a78496dd15",
            "f4e6b1151bf944fd866e52d7865f906a",
            "eccbe7d673a74449a2becc8e74599b90",
            "3b0270cfed904cf3a1e4a77a21951d7a",
            "a4f74b83a46d4a3084c2611a18271505",
            "4ffbc017b972444982e3920a985a8a78",
            "155188e4aff5494b9e498cef92b93d11",
            "ea915e3e0beb429db0db4b92c8ebc510",
            "a47e556143f74bbc841fbcfdaa6f049d",
            "2a215564ef054d8e874a59c47441d9e7",
            "4041b239e89b48b29c0489f575ec159a",
            "f79f02d9ea0e47feb621b8b51b30982e",
            "0be32323325242e6b6ab54abe7eaf588",
            "35378ba9c5eb472289e98b3953bc2779",
            "4e698b3788ea425c8d9d9fb9232587f5",
            "be2a5acdf0784db3b960c751b15c08df",
            "53fd8349c0a54df4893bd7f4a602eca7",
            "6d8c997a8ab1481abf06ecf891dbb242",
            "acea4025d0ba4b0591ff5fea7b35ce96",
            "7142e335bb324f8ebc0a985f72edab1c",
            "fc88ee9e92234b9f979b3e2f6da97f47",
            "7beef3efc265480c821b2c41ee563762",
            "b4b091164d9e43b7afd78ceac21bdd45",
            "29562266187f44ec9a1a5639e6301026",
            "936fa6dfe04f4007b476943ebfb2f822",
            "1251b3f6a425429493605de70f9d4b5f",
            "86c33f6feee743bdb45d1dfead3340ee",
            "97fd3a3968814d269a480d724b638f51",
            "6adc367c9e6248c8b86cd940ad94b4cb",
            "5865b4cf61174cd5ad17e376fa5ed7cb",
            "72adee3b0e0547eca8953d46fafd412d",
            "a148196dd4de425fbb0974c8ce361eb0",
            "bb339bd8a043466f8d81c529e51e6132",
            "4c02528c8d294090a105aa777cc10969",
            "13552b3ea5ab455f9a7c08372f7c790b",
            "da1f83eb3f56437aa441a6ede704fbb4",
            "216bfb08161741c0944a20ebef545320",
            "d8ffbe178f674431800fa51ea60bb217",
            "f220ff3ce9f54269a4419f50be292cc8",
            "7f7e35f3185c4f3cbee0c9325d9c8e1f",
            "240fd54e7d7f4ef2b7ff9a80c866f9a1",
            "176ddbf1b70f45e0b36382fdd3f5a87e",
            "9ac984c05dd64d7e82f9794c6bb576d9",
            "67ac7bdd82fd4b65bd541a1fe8ddd012",
            "7abd80ef39ba4000802752a09168cb57",
            "eb1f818c8791467a8282451c9cfc8f86",
            "158aa78450d3486185a377f4a1233e17",
            "27b90df4cee54f2394e915af24f75a88",
            "367b7185c4ec424e9068be5496b02ebd",
            "7d2e580c4ac04c1e835e31880aae5ec3",
            "45f3755586944c918253534d4e7015eb",
            "111096d78dd34c37b9723697a56e265d",
            "d6fff2e0549f486ca95cccd0d096d10f",
            "6898e573443d4b21baa608fa33a188d3",
            "81e40751da7c4f67a1c14a8027a300c9",
            "9ec296194dfd4fb7984a086f4037056e",
            "a83957bdf3b041ecb36a1422ae84c54d",
            "f07436ef9c9d4bb98d6a5d022ed8e2d0",
            "b8eaf684becc4c0a93d04704b9f7e45c",
            "e0d58e6568cc4814805629dcf93caaee",
            "5975485e8c0949a9ac2d7c2446f1cbd9",
            "67e5166a12ed4556915cf3a5f64dd2d8",
            "02f086aac4e24ecb99ae6d9b8b9288e6",
            "fd0a4646fbbc4d6db1cbe8387b47548a",
            "7da637a12ec64133b032fe1ab785b902",
            "5c5841c55b78440da5441dfc4f8f9e79",
            "701284d355b94bb5819434735738c110",
            "718254b172204741980275ed1ce545f4",
            "93be9433253c49469065bc0e0291c101",
            "c7cdc6f905cc445888b2766d7eca0e77",
            "1a36eed82a814ddaafe44850d44a7136",
            "d3bb8cd4e98d4d8583d3ea87bada52c6",
            "7fc50042c27a417f92be610c5f97e2c8",
            "f818e5f5b4f2423684e3bd9c331495b3",
            "578da83e506846c09aecb0bea2c0e2c2",
            "ccf8f2f3ffa54be99b606a7e2f390c68",
            "d9d92e62cc6148d3bfbc78b088855d55",
            "5ff399eafaa046209213fe00ffe16cdb",
            "2a393b5dd6fa4207a0d641e31616ff06",
            "92eb49aaed7842dda9d58dc235b1b609",
            "8f6038ab26724eedbd05ec98bd7ea053",
            "ca50de46a51e42daa0cb00c6c556b6f0",
            "aa63eb544f6a439fb78b81767ca5fc27",
            "fb81022a1f4d4605a4d00125fa89af66"
          ]
        }
      },
      "source": [
        "# lower\n",
        "train[\"comment_text\"] = train[\"comment_text\"].progress_apply(lambda x: x.lower())\n",
        "test[\"comment_text\"] = test[\"comment_text\"].progress_apply(lambda x: x.lower())\n",
        "\n",
        "# Clean website tags\n",
        "train[\"comment_text\"] = train[\"comment_text\"].progress_apply(lambda x: clean_tags(x))\n",
        "test[\"comment_text\"] = test[\"comment_text\"].progress_apply(lambda x: clean_tags(x))\n",
        "\n",
        "# Clean spellings\n",
        "train[\"comment_text\"] = train[\"comment_text\"].progress_apply(lambda x: replace_typical_misspell(x))\n",
        "test[\"comment_text\"] = test[\"comment_text\"].progress_apply(lambda x: replace_typical_misspell(x))\n",
        "\n",
        "# Clean html and css\n",
        "train[\"comment_text\"] = train[\"comment_text\"].progress_apply(lambda x: clean_html(x))\n",
        "test[\"comment_text\"] = test[\"comment_text\"].progress_apply(lambda x: clean_html(x))\n",
        "\n",
        "\n",
        "# Remove Emojis\n",
        "train[\"comment_text\"] = train[\"comment_text\"].progress_apply(lambda x: remove_emoji(x))\n",
        "test[\"comment_text\"] = test[\"comment_text\"].progress_apply(lambda x: remove_emoji(x))\n",
        "\n",
        "# Clean numbers\n",
        "train[\"comment_text\"] = train[\"comment_text\"].progress_apply(lambda x: clean_numbers(x))\n",
        "test[\"comment_text\"] = test[\"comment_text\"].progress_apply(lambda x: clean_numbers(x))\n",
        "\n",
        "# Remove special characters\n",
        "train[\"comment_text\"] = train[\"comment_text\"].progress_apply(lambda x: clean_text(str(x)))\n",
        "test[\"comment_text\"] = test[\"comment_text\"].progress_apply(lambda x: clean_text(str(x)))\n",
        "\n",
        "# Clean punctuations\n",
        "train[\"comment_text\"] = train[\"comment_text\"].progress_apply(lambda x: clean_punctuations(x))\n",
        "test[\"comment_text\"] = test[\"comment_text\"].progress_apply(lambda x: clean_punctuations(x))\n",
        "\n",
        "# Remove stopwords\n",
        "#train[\"comment_text_x\"] = train[\"comment_text\"].progress_apply(lambda text: remove_stopwords(text))\n",
        "#test[\"comment_text_x\"] = test[\"comment_text\"].progress_apply(lambda text: remove_stopwords(text))\n",
        "\n",
        "#Stemmming  \n",
        "#train[\"comment_text\"] = train[\"comment_text\"].progress_apply(lambda x: stem_text(x))\n",
        "#test[\"comment_text\"] = test[\"comment_text\"].progress_apply(lambda x: stem_text(x))\n",
        "\n",
        "#fill na\n",
        "train[\"comment_text\"].fillna(\"fillna\")\n",
        "test[\"comment_text\"].fillna(\"fillna\")\n"
      ],
      "execution_count": 18,
      "outputs": [
        {
          "output_type": "display_data",
          "data": {
            "application/vnd.jupyter.widget-view+json": {
              "model_id": "140c2af255b34442ae0cf363453e94df",
              "version_minor": 0,
              "version_major": 2
            },
            "text/plain": [
              "HBox(children=(FloatProgress(value=0.0, max=159571.0), HTML(value='')))"
            ]
          },
          "metadata": {
            "tags": []
          }
        },
        {
          "output_type": "stream",
          "text": [
            "\n"
          ],
          "name": "stdout"
        },
        {
          "output_type": "display_data",
          "data": {
            "application/vnd.jupyter.widget-view+json": {
              "model_id": "1e740572e4e743eca069df78cfc95f6c",
              "version_minor": 0,
              "version_major": 2
            },
            "text/plain": [
              "HBox(children=(FloatProgress(value=0.0, max=153164.0), HTML(value='')))"
            ]
          },
          "metadata": {
            "tags": []
          }
        },
        {
          "output_type": "stream",
          "text": [
            "\n"
          ],
          "name": "stdout"
        },
        {
          "output_type": "display_data",
          "data": {
            "application/vnd.jupyter.widget-view+json": {
              "model_id": "6b56df2e0fe0418fa1c22a1ebd8f279a",
              "version_minor": 0,
              "version_major": 2
            },
            "text/plain": [
              "HBox(children=(FloatProgress(value=0.0, max=159571.0), HTML(value='')))"
            ]
          },
          "metadata": {
            "tags": []
          }
        },
        {
          "output_type": "stream",
          "text": [
            "\n"
          ],
          "name": "stdout"
        },
        {
          "output_type": "display_data",
          "data": {
            "application/vnd.jupyter.widget-view+json": {
              "model_id": "a780d43a594f4e7a923df86ad8a8fbd3",
              "version_minor": 0,
              "version_major": 2
            },
            "text/plain": [
              "HBox(children=(FloatProgress(value=0.0, max=153164.0), HTML(value='')))"
            ]
          },
          "metadata": {
            "tags": []
          }
        },
        {
          "output_type": "stream",
          "text": [
            "\n"
          ],
          "name": "stdout"
        },
        {
          "output_type": "display_data",
          "data": {
            "application/vnd.jupyter.widget-view+json": {
              "model_id": "11de70ade63645619bd520d23cc5352d",
              "version_minor": 0,
              "version_major": 2
            },
            "text/plain": [
              "HBox(children=(FloatProgress(value=0.0, max=159571.0), HTML(value='')))"
            ]
          },
          "metadata": {
            "tags": []
          }
        },
        {
          "output_type": "stream",
          "text": [
            "\n"
          ],
          "name": "stdout"
        },
        {
          "output_type": "display_data",
          "data": {
            "application/vnd.jupyter.widget-view+json": {
              "model_id": "e4f18c40350f412aace3d57163196fe3",
              "version_minor": 0,
              "version_major": 2
            },
            "text/plain": [
              "HBox(children=(FloatProgress(value=0.0, max=153164.0), HTML(value='')))"
            ]
          },
          "metadata": {
            "tags": []
          }
        },
        {
          "output_type": "stream",
          "text": [
            "\n"
          ],
          "name": "stdout"
        },
        {
          "output_type": "display_data",
          "data": {
            "application/vnd.jupyter.widget-view+json": {
              "model_id": "a4f74b83a46d4a3084c2611a18271505",
              "version_minor": 0,
              "version_major": 2
            },
            "text/plain": [
              "HBox(children=(FloatProgress(value=0.0, max=159571.0), HTML(value='')))"
            ]
          },
          "metadata": {
            "tags": []
          }
        },
        {
          "output_type": "stream",
          "text": [
            "\n"
          ],
          "name": "stdout"
        },
        {
          "output_type": "display_data",
          "data": {
            "application/vnd.jupyter.widget-view+json": {
              "model_id": "0be32323325242e6b6ab54abe7eaf588",
              "version_minor": 0,
              "version_major": 2
            },
            "text/plain": [
              "HBox(children=(FloatProgress(value=0.0, max=153164.0), HTML(value='')))"
            ]
          },
          "metadata": {
            "tags": []
          }
        },
        {
          "output_type": "stream",
          "text": [
            "\n"
          ],
          "name": "stdout"
        },
        {
          "output_type": "display_data",
          "data": {
            "application/vnd.jupyter.widget-view+json": {
              "model_id": "fc88ee9e92234b9f979b3e2f6da97f47",
              "version_minor": 0,
              "version_major": 2
            },
            "text/plain": [
              "HBox(children=(FloatProgress(value=0.0, max=159571.0), HTML(value='')))"
            ]
          },
          "metadata": {
            "tags": []
          }
        },
        {
          "output_type": "stream",
          "text": [
            "\n"
          ],
          "name": "stdout"
        },
        {
          "output_type": "display_data",
          "data": {
            "application/vnd.jupyter.widget-view+json": {
              "model_id": "6adc367c9e6248c8b86cd940ad94b4cb",
              "version_minor": 0,
              "version_major": 2
            },
            "text/plain": [
              "HBox(children=(FloatProgress(value=0.0, max=153164.0), HTML(value='')))"
            ]
          },
          "metadata": {
            "tags": []
          }
        },
        {
          "output_type": "stream",
          "text": [
            "\n"
          ],
          "name": "stdout"
        },
        {
          "output_type": "display_data",
          "data": {
            "application/vnd.jupyter.widget-view+json": {
              "model_id": "216bfb08161741c0944a20ebef545320",
              "version_minor": 0,
              "version_major": 2
            },
            "text/plain": [
              "HBox(children=(FloatProgress(value=0.0, max=159571.0), HTML(value='')))"
            ]
          },
          "metadata": {
            "tags": []
          }
        },
        {
          "output_type": "stream",
          "text": [
            "\n"
          ],
          "name": "stdout"
        },
        {
          "output_type": "display_data",
          "data": {
            "application/vnd.jupyter.widget-view+json": {
              "model_id": "7abd80ef39ba4000802752a09168cb57",
              "version_minor": 0,
              "version_major": 2
            },
            "text/plain": [
              "HBox(children=(FloatProgress(value=0.0, max=153164.0), HTML(value='')))"
            ]
          },
          "metadata": {
            "tags": []
          }
        },
        {
          "output_type": "stream",
          "text": [
            "\n"
          ],
          "name": "stdout"
        },
        {
          "output_type": "display_data",
          "data": {
            "application/vnd.jupyter.widget-view+json": {
              "model_id": "d6fff2e0549f486ca95cccd0d096d10f",
              "version_minor": 0,
              "version_major": 2
            },
            "text/plain": [
              "HBox(children=(FloatProgress(value=0.0, max=159571.0), HTML(value='')))"
            ]
          },
          "metadata": {
            "tags": []
          }
        },
        {
          "output_type": "stream",
          "text": [
            "\n"
          ],
          "name": "stdout"
        },
        {
          "output_type": "display_data",
          "data": {
            "application/vnd.jupyter.widget-view+json": {
              "model_id": "5975485e8c0949a9ac2d7c2446f1cbd9",
              "version_minor": 0,
              "version_major": 2
            },
            "text/plain": [
              "HBox(children=(FloatProgress(value=0.0, max=153164.0), HTML(value='')))"
            ]
          },
          "metadata": {
            "tags": []
          }
        },
        {
          "output_type": "stream",
          "text": [
            "\n"
          ],
          "name": "stdout"
        },
        {
          "output_type": "display_data",
          "data": {
            "application/vnd.jupyter.widget-view+json": {
              "model_id": "93be9433253c49469065bc0e0291c101",
              "version_minor": 0,
              "version_major": 2
            },
            "text/plain": [
              "HBox(children=(FloatProgress(value=0.0, max=159571.0), HTML(value='')))"
            ]
          },
          "metadata": {
            "tags": []
          }
        },
        {
          "output_type": "stream",
          "text": [
            "\n"
          ],
          "name": "stdout"
        },
        {
          "output_type": "display_data",
          "data": {
            "application/vnd.jupyter.widget-view+json": {
              "model_id": "d9d92e62cc6148d3bfbc78b088855d55",
              "version_minor": 0,
              "version_major": 2
            },
            "text/plain": [
              "HBox(children=(FloatProgress(value=0.0, max=153164.0), HTML(value='')))"
            ]
          },
          "metadata": {
            "tags": []
          }
        },
        {
          "output_type": "stream",
          "text": [
            "\n"
          ],
          "name": "stdout"
        },
        {
          "output_type": "execute_result",
          "data": {
            "text/plain": [
              "0         yo bitch ja rule is more succesful then you wi...\n",
              "1                  from rfc the title is fine as it is imo \n",
              "2                       sources zawe ashton on lapland - - \n",
              "3          if you have a look back at the source the inf...\n",
              "4                i do not anonymously edit articles at all \n",
              "                                ...                        \n",
              "153159     i totally agree this stuff is nothing but too...\n",
              "153160     throw from out field to home plate does it ge...\n",
              "153161     okinotorishima categories i see your changes ...\n",
              "153162     one of the founding nations of the eu - germa...\n",
              "153163     stop already your bullshit is not welcome her...\n",
              "Name: comment_text, Length: 153164, dtype: object"
            ]
          },
          "metadata": {
            "tags": []
          },
          "execution_count": 18
        }
      ]
    },
    {
      "cell_type": "markdown",
      "metadata": {
        "id": "hdDIclOTJaAO",
        "colab_type": "text"
      },
      "source": [
        "From, the above example we can see the text is now cleaned. Now we will test for coverage."
      ]
    },
    {
      "cell_type": "code",
      "metadata": {
        "id": "0T11rS0kEre9",
        "colab_type": "code",
        "outputId": "779c44a8-4dab-4830-b76a-02f6a8bfc5ab",
        "colab": {
          "base_uri": "https://localhost:8080/",
          "height": 113,
          "referenced_widgets": [
            "7f0e09706d84426ca858e3d3dd45cc50",
            "eb85786a1e5045f68b296e1759865e5a",
            "65466e0c0e70405fba8a60e6cf6fff55",
            "63f92503a6b449359bc733a52addd81a",
            "61ac466ae3334124aeb8da244c9fd899",
            "82be254a423442ecaea947e49ba9cf21",
            "0f5a598825cb4a13a1ba2e1dd46b4c90",
            "9fad9a25fe34480292feef1c22ed0258",
            "ba617f2937ba467db4a375a9ef21c0ff",
            "616ad884100a47c1b20690cf4e4b5a63",
            "4c3e4cf8c3884243a186351c339466b7",
            "1df35884326d46caba445965c204ceda",
            "14668dee86e345eeba2bc5195b3db232",
            "1e31be191ef6401089e476c2336b4370",
            "19a602ce34d2433299c60bd5c57a50a4",
            "fde894323b1840ee83e89a8a70a75a84"
          ]
        }
      },
      "source": [
        "sentences = train[\"comment_text\"].progress_apply(lambda x: x.split())\n",
        "vocab = build_vocab(sentences)"
      ],
      "execution_count": 91,
      "outputs": [
        {
          "output_type": "display_data",
          "data": {
            "application/vnd.jupyter.widget-view+json": {
              "model_id": "7f0e09706d84426ca858e3d3dd45cc50",
              "version_minor": 0,
              "version_major": 2
            },
            "text/plain": [
              "HBox(children=(IntProgress(value=0, max=159571), HTML(value='')))"
            ]
          },
          "metadata": {
            "tags": []
          }
        },
        {
          "output_type": "stream",
          "text": [
            "\n"
          ],
          "name": "stdout"
        },
        {
          "output_type": "display_data",
          "data": {
            "application/vnd.jupyter.widget-view+json": {
              "model_id": "ba617f2937ba467db4a375a9ef21c0ff",
              "version_minor": 0,
              "version_major": 2
            },
            "text/plain": [
              "HBox(children=(IntProgress(value=0, max=159571), HTML(value='')))"
            ]
          },
          "metadata": {
            "tags": []
          }
        },
        {
          "output_type": "stream",
          "text": [
            "\n"
          ],
          "name": "stdout"
        }
      ]
    },
    {
      "cell_type": "code",
      "metadata": {
        "id": "_4nyNIruB6yw",
        "colab_type": "code",
        "outputId": "52067114-9276-48e5-a6c1-909e01b80a84",
        "colab": {
          "base_uri": "https://localhost:8080/",
          "height": 97,
          "referenced_widgets": [
            "4ae244704a1a4bf5a9c23c17fde2511c",
            "5b91653f641a468d9d3bd615cdf44309",
            "734cd59872df4fdd81813f6242c8e5d4",
            "9f4365a4ad2945b8a0e041bdd1e9f927",
            "21e768194d2d4d7484e2c55885ac4d9c",
            "66e3727fad744d029618d3bd7553f3b8",
            "784d2b8fc5644479b230e1aa121c7871",
            "35ebabb8f809425eae237c14e36cc396"
          ]
        }
      },
      "source": [
        "oov = check_coverage(vocab,embeddings_index)"
      ],
      "execution_count": 0,
      "outputs": [
        {
          "output_type": "display_data",
          "data": {
            "application/vnd.jupyter.widget-view+json": {
              "model_id": "4ae244704a1a4bf5a9c23c17fde2511c",
              "version_minor": 0,
              "version_major": 2
            },
            "text/plain": [
              "HBox(children=(IntProgress(value=0, max=167393), HTML(value='')))"
            ]
          },
          "metadata": {
            "tags": []
          }
        },
        {
          "output_type": "stream",
          "text": [
            "\n",
            "Found embeddings for 57.29% of vocab\n",
            "Found embeddings for  98.64% of all text\n"
          ],
          "name": "stdout"
        }
      ]
    },
    {
      "cell_type": "markdown",
      "metadata": {
        "id": "z9qvteDjJj0D",
        "colab_type": "text"
      },
      "source": [
        "Nice! We were able to increase our **embeddings ratio** from 30% to **57%**. The coverage for overall text increased to **99%**."
      ]
    },
    {
      "cell_type": "code",
      "metadata": {
        "id": "rno28Lh-B7px",
        "colab_type": "code",
        "outputId": "397bcf0c-cdb0-4415-c21c-15b1ff02460b",
        "colab": {
          "base_uri": "https://localhost:8080/",
          "height": 342
        }
      },
      "source": [
        "oov[:20]"
      ],
      "execution_count": 0,
      "outputs": [
        {
          "output_type": "execute_result",
          "data": {
            "text/plain": [
              "[('npov', 1862),\n",
              " ('fucksex', 624),\n",
              " ('yourselfgo', 621),\n",
              " ('mothjer', 489),\n",
              " ('fggt', 477),\n",
              " ('gfdl', 457),\n",
              " ('philippineslong', 420),\n",
              " ('hanibal', 370),\n",
              " ('offfuck', 360),\n",
              " ('deneid', 331),\n",
              " ('pagedelete', 312),\n",
              " ('notrhbysouthbanof', 308),\n",
              " ('mainpagebg', 301),\n",
              " ('criminalwar', 279),\n",
              " ('bunksteve', 278),\n",
              " ('marcolfuck', 260),\n",
              " ('boymamas', 258),\n",
              " ('securityfuck', 227),\n",
              " ('youbollocks', 217),\n",
              " ('veggietales', 213)]"
            ]
          },
          "metadata": {
            "tags": []
          },
          "execution_count": 46
        }
      ]
    },
    {
      "cell_type": "markdown",
      "metadata": {
        "id": "qmylTZ22Kv63",
        "colab_type": "text"
      },
      "source": [
        "What we see most of our out of vocabulary words are either swear words or wrongly spelt words. While our comment_text are now cleaner for training."
      ]
    },
    {
      "cell_type": "code",
      "metadata": {
        "id": "yaToMGuFg3N9",
        "colab_type": "code",
        "outputId": "0ab79d76-98ef-491c-d144-cc01b862463e",
        "colab": {
          "base_uri": "https://localhost:8080/",
          "height": 196
        }
      },
      "source": [
        "train[\"comment_text\"].head(10)"
      ],
      "execution_count": 0,
      "outputs": [
        {
          "output_type": "execute_result",
          "data": {
            "text/plain": [
              "0    explanation why the edits made under my userna...\n",
              "1    d aww ! he matches this background color i am ...\n",
              "2    hey man i am really not trying to edit war it ...\n",
              "3     more i cannot make any real suggestions on im...\n",
              "4    you sir are my hero any chance you remember wh...\n",
              "5     congratulations from me as well use the tools...\n",
              "6         cocksucker before you piss around on my work\n",
              "7    your vandalism to the matt shirvington article...\n",
              "8    sorry if the word nonsense was offensive to yo...\n",
              "9    alignment on this subject and which are contra...\n",
              "Name: comment_text, dtype: object"
            ]
          },
          "metadata": {
            "tags": []
          },
          "execution_count": 47
        }
      ]
    },
    {
      "cell_type": "markdown",
      "metadata": {
        "id": "-i7Ancvvco7a",
        "colab_type": "text"
      },
      "source": [
        "Creating **X_train**, **y_train** and **X_test**."
      ]
    },
    {
      "cell_type": "code",
      "metadata": {
        "id": "iCbQr3DAjt_l",
        "colab_type": "code",
        "colab": {}
      },
      "source": [
        "X_train = train[\"comment_text\"]\n",
        "y_train = train[[\"toxic\", \"severe_toxic\", \"obscene\", \"threat\", \"insult\", \"identity_hate\"]].values\n",
        "\n",
        "X_test = test[\"comment_text\"]"
      ],
      "execution_count": 0,
      "outputs": []
    },
    {
      "cell_type": "code",
      "metadata": {
        "id": "Z47lBiRZOCWw",
        "colab_type": "code",
        "colab": {}
      },
      "source": [
        "X_train_copy = X_train\n",
        "y_train_copy = y_train\n",
        "\n",
        "X_test_copy = X_test"
      ],
      "execution_count": 0,
      "outputs": []
    },
    {
      "cell_type": "markdown",
      "metadata": {
        "id": "nvQ6OAKPdBMy",
        "colab_type": "text"
      },
      "source": [
        "The following evaluation is based on Kaggle's [evaluation](https://https://www.kaggle.com/c/jigsaw-toxic-comment-classification-challenge/overview/evaluation) criteria. The evaluation function is utilised while training different neural networks to select the best fit model.\n",
        "\n",
        "You can read more about ROC Curve in this [paper](https://www.biostat.wisc.edu/~page/rocpr.pdf).\n"
      ]
    },
    {
      "cell_type": "code",
      "metadata": {
        "id": "_ziBEIWfsGGp",
        "colab_type": "code",
        "colab": {}
      },
      "source": [
        "# Evaluation function based on Kaggle competition metric for optimization\n",
        "class RocAucEvaluation(Callback):\n",
        "    def __init__(self, validation_data=(), interval=1):\n",
        "        super(Callback, self).__init__()\n",
        "        self.interval = interval\n",
        "        self.X_val, self.y_val = validation_data\n",
        "\n",
        "    def on_epoch_end(self, epoch, logs={}):\n",
        "        if epoch % self.interval == 0:\n",
        "            y_pred = self.model.predict(self.X_val, verbose=0)\n",
        "            score = roc_auc_score(self.y_val, y_pred)\n",
        "            print(\"\\n ROC-AUC - epoch: {:d} - score: {:.6f}\".format(epoch+1, score))"
      ],
      "execution_count": 0,
      "outputs": []
    },
    {
      "cell_type": "markdown",
      "metadata": {
        "id": "-4onJac3enxu",
        "colab_type": "text"
      },
      "source": [
        "The following function will generate plots to visualize the training and validation parameters. This will be utilised multiple times while experimenting with different architechtures."
      ]
    },
    {
      "cell_type": "code",
      "metadata": {
        "id": "4ns_o00-upeZ",
        "colab_type": "code",
        "colab": {}
      },
      "source": [
        "#Visualization function for Validation and Training Parameters\n",
        "def get_plots(history):\n",
        "    # Get training and test loss histories\n",
        "    training_accuracy = history.history['accuracy']\n",
        "    validation_accuracy = history.history['val_accuracy']\n",
        "\n",
        "    # Create count of the number of epochs\n",
        "    epoch_count_1 = range(1, len(training_accuracy) + 1)\n",
        "\n",
        "    # Visualize loss history\n",
        "    plt.subplot(1, 2, 1)\n",
        "    plt.plot(epoch_count_1, training_accuracy, 'r--')\n",
        "    plt.plot(epoch_count_1, validation_accuracy, 'b-')\n",
        "    plt.legend(['Training Accuracy', 'Validation Accuracy'])\n",
        "    plt.xlabel('Epoch')\n",
        "    plt.ylabel('Accuracy')\n",
        "\n",
        "\n",
        "    # Get training and test loss histories\n",
        "    training_loss = history.history['loss']\n",
        "    validation_loss = history.history['val_loss']\n",
        "\n",
        "    # Create count of the number of epochs\n",
        "    epoch_count_2 = range(1, len(training_loss) + 1)\n",
        "\n",
        "    # Visualize loss history\n",
        "    plt.subplot(1, 2, 2)\n",
        "    plt.plot(epoch_count_2, training_loss, 'r--')\n",
        "    plt.plot(epoch_count_2, validation_loss, 'b-')\n",
        "    plt.legend(['Training Loss', 'Validation Loss'])\n",
        "    plt.xlabel('Epoch')\n",
        "    plt.ylabel('Loss')\n",
        "\n",
        "    plt.tight_layout()\n",
        "\n",
        "    plt.show();"
      ],
      "execution_count": 0,
      "outputs": []
    },
    {
      "cell_type": "markdown",
      "metadata": {
        "id": "s_ZZNGt_e5Cq",
        "colab_type": "text"
      },
      "source": [
        "The following function will generate ROC scores for each model predictions. The function predict_scores() utilises the function test_score() which calculates ROC using SkLearn's [Receiver Operating Characteristic Curve (ROC AUC)](https://scikit-learn.org/stable/modules/generated/sklearn.metrics.roc_auc_score.html)."
      ]
    },
    {
      "cell_type": "code",
      "metadata": {
        "id": "jZ7xdW0-vY9e",
        "colab_type": "code",
        "colab": {}
      },
      "source": [
        "#Function to calculate the ROC score on predictions\n",
        "def predict_scores(y_pred):\n",
        "  test_predictions = pd.read_csv('/content/drive/My Drive/toxicity-classification/data/sample_submission.csv')\n",
        "  test_predictions[[\"toxic\", \"severe_toxic\", \"obscene\", \"threat\", \"insult\", \"identity_hate\"]] = y_pred \n",
        "  return test_score(test_predictions.drop(test_predictions.loc[pd.merge(test_data, test_labels, on='id')['toxic']==-1].index))"
      ],
      "execution_count": 0,
      "outputs": []
    },
    {
      "cell_type": "code",
      "metadata": {
        "id": "Ien9FRvOsKnK",
        "colab_type": "code",
        "outputId": "827fbe2e-48bd-459f-bef2-30fdf960fb80",
        "colab": {
          "base_uri": "https://localhost:8080/",
          "height": 50
        }
      },
      "source": [
        "%%time\n",
        "# Tokenize comments and pad to max length so all inputs are the same size\n",
        "token=text.Tokenizer(num_words=max_features,lower=True)\n",
        "token.fit_on_texts(list(X_train)+list(X_test))\n",
        "X_train=token.texts_to_sequences(X_train)\n",
        "X_test=token.texts_to_sequences(X_test)\n",
        "x_train=sequence.pad_sequences(X_train,maxlen=maxlen)\n",
        "x_test=sequence.pad_sequences(X_test,maxlen=maxlen)"
      ],
      "execution_count": 24,
      "outputs": [
        {
          "output_type": "stream",
          "text": [
            "CPU times: user 28.2 s, sys: 229 ms, total: 28.4 s\n",
            "Wall time: 28.4 s\n"
          ],
          "name": "stdout"
        }
      ]
    },
    {
      "cell_type": "markdown",
      "metadata": {
        "id": "GFrMiDH036V8",
        "colab_type": "text"
      },
      "source": [
        "Creating the embedding matrix using the FastText Word Embeddings"
      ]
    },
    {
      "cell_type": "code",
      "metadata": {
        "id": "IEHWx_xZ6h0O",
        "colab_type": "code",
        "outputId": "87ddcecb-ac5a-4663-ebc2-372433584867",
        "colab": {
          "base_uri": "https://localhost:8080/",
          "height": 50
        }
      },
      "source": [
        "%%time\n",
        "# create the embedding matrix from the Facebook crawl dataset\n",
        "word_index = token.word_index\n",
        "num_words = min(max_features, len(word_index) + 1)\n",
        "embedding_matrix = np.zeros((num_words, embed_size)) # set not found words to vector of zeros in embedding\n",
        "for word, i in word_index.items():\n",
        "    if i >= max_features:\n",
        "        continue\n",
        "    embedding_vector = embeddings_index.get(word)\n",
        "    if embedding_vector is not None:\n",
        "        embedding_matrix[i] = embedding_vector"
      ],
      "execution_count": 25,
      "outputs": [
        {
          "output_type": "stream",
          "text": [
            "CPU times: user 236 ms, sys: 108 ms, total: 344 ms\n",
            "Wall time: 344 ms\n"
          ],
          "name": "stdout"
        }
      ]
    },
    {
      "cell_type": "markdown",
      "metadata": {
        "id": "yAAHF11Go6AN",
        "colab_type": "text"
      },
      "source": [
        "### **Bi-Directional LSTM**\n",
        "\n",
        "Here we will develop a neural network architecture to try and achieve better performance that the logistic regression benchmark model utilized above. The goal is to implement a simple **Bi-directional LSTM** with a pretrained word embedding, this work is referenced from [LSTM Recurrent Neural Networks for Short Text and Sentiment Classification](https://link.springer.com/chapter/10.1007/978-3-319-59060-8_50). The framework for this was referenced from multple researches with tweaks made to the embedding, test/train split, and parameters used to achieve higher ROC AUC."
      ]
    },
    {
      "cell_type": "code",
      "metadata": {
        "id": "j3eYsgUU7JG0",
        "colab_type": "code",
        "colab": {}
      },
      "source": [
        "#Simple Bidirectional LSTM\n",
        "from keras.layers import Dense, Input, LSTM, Embedding, Dropout, Activation, Conv1D, GlobalMaxPool1D\n",
        "\n",
        "def get_bilstm_model():\n",
        "\n",
        "    model_input = Input(shape=(maxlen,))\n",
        "\n",
        "    x = Embedding(max_features, embed_size, weights=[embedding_matrix])(model_input)\n",
        "\n",
        "    x = Bidirectional(LSTM(300, return_sequences=True, dropout=0.1, recurrent_dropout=0.1))(x)\n",
        "\n",
        "    x = GlobalMaxPool1D()(x)\n",
        "\n",
        "    x = Dense(50, activation=\"relu\")(x)\n",
        "\n",
        "    x = Dropout(0.1)(x)\n",
        "\n",
        "    x = Dense(6, activation=\"sigmoid\")(x)\n",
        "\n",
        "    model = Model(inputs=model_input, outputs=x)\n",
        "    model.compile(loss='binary_crossentropy', optimizer='adam', metrics=['accuracy'])\n",
        "\n",
        "    return model"
      ],
      "execution_count": 0,
      "outputs": []
    },
    {
      "cell_type": "code",
      "metadata": {
        "id": "_kQv61Rs836k",
        "colab_type": "code",
        "colab": {}
      },
      "source": [
        "batch_size = 256\n",
        "epochs = 10\n",
        "\n",
        "model = get_bilstm_model()\n",
        "\n",
        "# utilize stratified sampling to improve model training and accuracy\n",
        "X_tra, y_tra, X_val, y_val = iterative_train_test_split(x_train, y_train, test_size=0.05)"
      ],
      "execution_count": 0,
      "outputs": []
    },
    {
      "cell_type": "code",
      "metadata": {
        "id": "1VriKv3smhcD",
        "colab_type": "code",
        "colab": {}
      },
      "source": [
        "checkpoint = ModelCheckpoint(\"lstm_model.hdf5\", monitor='val_accuracy', verbose=1, save_best_only=True, mode='max')\n",
        "early = EarlyStopping(monitor=\"val_accuracy\", mode=\"max\", patience=3)\n",
        "RocAuc = RocAucEvaluation(validation_data=(X_val, y_val), interval = 1)\n",
        "callbacks_list = [RocAuc,checkpoint, early]"
      ],
      "execution_count": 0,
      "outputs": []
    },
    {
      "cell_type": "code",
      "metadata": {
        "id": "fbvKEJicm0PT",
        "colab_type": "code",
        "outputId": "dd1ac15b-060b-4f67-8265-ae39694bda05",
        "colab": {
          "base_uri": "https://localhost:8080/",
          "height": 375
        }
      },
      "source": [
        "model.summary()"
      ],
      "execution_count": 29,
      "outputs": [
        {
          "output_type": "stream",
          "text": [
            "Model: \"model_1\"\n",
            "_________________________________________________________________\n",
            "Layer (type)                 Output Shape              Param #   \n",
            "=================================================================\n",
            "input_1 (InputLayer)         (None, 200)               0         \n",
            "_________________________________________________________________\n",
            "embedding_1 (Embedding)      (None, 200, 300)          30000000  \n",
            "_________________________________________________________________\n",
            "bidirectional_1 (Bidirection (None, 200, 600)          1442400   \n",
            "_________________________________________________________________\n",
            "global_max_pooling1d_1 (Glob (None, 600)               0         \n",
            "_________________________________________________________________\n",
            "dense_1 (Dense)              (None, 50)                30050     \n",
            "_________________________________________________________________\n",
            "dropout_1 (Dropout)          (None, 50)                0         \n",
            "_________________________________________________________________\n",
            "dense_2 (Dense)              (None, 6)                 306       \n",
            "=================================================================\n",
            "Total params: 31,472,756\n",
            "Trainable params: 31,472,756\n",
            "Non-trainable params: 0\n",
            "_________________________________________________________________\n"
          ],
          "name": "stdout"
        }
      ]
    },
    {
      "cell_type": "code",
      "metadata": {
        "id": "lcEAjDtO876l",
        "colab_type": "code",
        "outputId": "8664b977-b274-4d18-f1f5-bc6f9d5bc8d1",
        "colab": {
          "base_uri": "https://localhost:8080/",
          "height": 606
        }
      },
      "source": [
        "%%time\n",
        "history = model.fit(X_tra, y_tra, batch_size=batch_size, epochs=epochs, validation_data=(X_val, y_val),\n",
        "                 callbacks=callbacks_list, verbose=1)"
      ],
      "execution_count": 30,
      "outputs": [
        {
          "output_type": "stream",
          "text": [
            "/usr/local/lib/python3.6/dist-packages/tensorflow/python/framework/indexed_slices.py:434: UserWarning: Converting sparse IndexedSlices to a dense Tensor of unknown shape. This may consume a large amount of memory.\n",
            "  \"Converting sparse IndexedSlices to a dense Tensor of unknown shape. \"\n"
          ],
          "name": "stderr"
        },
        {
          "output_type": "stream",
          "text": [
            "Train on 151592 samples, validate on 7979 samples\n",
            "Epoch 1/10\n",
            "151592/151592 [==============================] - 381s 3ms/step - loss: 0.0661 - accuracy: 0.9773 - val_loss: 0.0412 - val_accuracy: 0.9839\n",
            "\n",
            " ROC-AUC - epoch: 1 - score: 0.985960\n",
            "\n",
            "Epoch 00001: val_accuracy improved from -inf to 0.98392, saving model to lstm_model.hdf5\n",
            "Epoch 2/10\n",
            "151592/151592 [==============================] - 359s 2ms/step - loss: 0.0405 - accuracy: 0.9842 - val_loss: 0.0396 - val_accuracy: 0.9845\n",
            "\n",
            " ROC-AUC - epoch: 2 - score: 0.988032\n",
            "\n",
            "Epoch 00002: val_accuracy improved from 0.98392 to 0.98454, saving model to lstm_model.hdf5\n",
            "Epoch 3/10\n",
            "151592/151592 [==============================] - 365s 2ms/step - loss: 0.0346 - accuracy: 0.9863 - val_loss: 0.0398 - val_accuracy: 0.9837\n",
            "\n",
            " ROC-AUC - epoch: 3 - score: 0.988068\n",
            "\n",
            "Epoch 00003: val_accuracy did not improve from 0.98454\n",
            "Epoch 4/10\n",
            "151592/151592 [==============================] - 364s 2ms/step - loss: 0.0294 - accuracy: 0.9881 - val_loss: 0.0408 - val_accuracy: 0.9841\n",
            "\n",
            " ROC-AUC - epoch: 4 - score: 0.987697\n",
            "\n",
            "Epoch 00004: val_accuracy did not improve from 0.98454\n",
            "Epoch 5/10\n",
            "151592/151592 [==============================] - 366s 2ms/step - loss: 0.0247 - accuracy: 0.9901 - val_loss: 0.0461 - val_accuracy: 0.9839\n",
            "\n",
            " ROC-AUC - epoch: 5 - score: 0.986643\n",
            "\n",
            "Epoch 00005: val_accuracy did not improve from 0.98454\n",
            "CPU times: user 1h 11min 35s, sys: 11min 59s, total: 1h 23min 35s\n",
            "Wall time: 31min 44s\n"
          ],
          "name": "stdout"
        }
      ]
    },
    {
      "cell_type": "code",
      "metadata": {
        "id": "BNvUQ-vXt2-l",
        "colab_type": "code",
        "outputId": "f4cef209-5170-4a4a-e028-20fa84f2112c",
        "colab": {
          "base_uri": "https://localhost:8080/",
          "height": 297
        }
      },
      "source": [
        "get_plots(history)"
      ],
      "execution_count": 31,
      "outputs": [
        {
          "output_type": "display_data",
          "data": {
            "image/png": "[encoded data removed]",
            "text/plain": [
              "<Figure size 432x288 with 2 Axes>"
            ]
          },
          "metadata": {
            "tags": [],
            "needs_background": "light"
          }
        }
      ]
    },
    {
      "cell_type": "code",
      "metadata": {
        "id": "7BIJsKTf9Gjg",
        "colab_type": "code",
        "outputId": "5c84fcb4-01bd-4acb-d757-c77fdb5a0084",
        "colab": {
          "base_uri": "https://localhost:8080/",
          "height": 33
        }
      },
      "source": [
        "model.load_weights(\"lstm_model.hdf5\")\n",
        "y_pred = model.predict(x_test, batch_size=1024, verbose=1)"
      ],
      "execution_count": 32,
      "outputs": [
        {
          "output_type": "stream",
          "text": [
            "153164/153164 [==============================] - 28s 180us/step\n"
          ],
          "name": "stdout"
        }
      ]
    },
    {
      "cell_type": "code",
      "metadata": {
        "id": "eT75O5k-8_iQ",
        "colab_type": "code",
        "outputId": "c7bc3638-f6b0-4b8d-b8c1-37a484f17225",
        "colab": {
          "base_uri": "https://localhost:8080/",
          "height": 33
        }
      },
      "source": [
        "predict_scores(y_pred)"
      ],
      "execution_count": 35,
      "outputs": [
        {
          "output_type": "stream",
          "text": [
            "Test set score is 0.9819734577087718\n"
          ],
          "name": "stdout"
        }
      ]
    },
    {
      "cell_type": "markdown",
      "metadata": {
        "id": "hgobqB7i6IIk",
        "colab_type": "text"
      },
      "source": [
        "We see fairly good results here, a great improve from **Benchmark model**. We will explore some more architectures and based on our experiment we chose the final model."
      ]
    },
    {
      "cell_type": "code",
      "metadata": {
        "id": "o1xeQo0GWlZD",
        "colab_type": "code",
        "colab": {}
      },
      "source": [
        "gc.collect()"
      ],
      "execution_count": 0,
      "outputs": []
    },
    {
      "cell_type": "markdown",
      "metadata": {
        "id": "QKDnQwR4VWBV",
        "colab_type": "text"
      },
      "source": [
        "### **Pooled GRU**\n",
        "\n",
        "**Gated recurrent units (GRUs)** are a gating mechanism in recurrent neural networks, introduced in 2014 by [Kyunghyun Cho et al.](https://arxiv.org/abs/1406.1078). The GRU is like a long short-term memory (LSTM) with forget gate but has fewer parameters than LSTM, as it lacks an output gate. This implementation is partially based on this paper [Empirical Evaluation of RNN Architectures on Sentence Classification Task](https://arxiv.org/abs/1609.09171).\n",
        "\n"
      ]
    },
    {
      "cell_type": "code",
      "metadata": {
        "id": "KR9AtyOvotXl",
        "colab_type": "code",
        "colab": {}
      },
      "source": [
        "def get_pooled_gru():\n",
        "\n",
        "  model_input = Input(shape=(maxlen, ))\n",
        "\n",
        "  x = Embedding(max_features, embed_size, weights=[embedding_matrix])(model_input)\n",
        "\n",
        "  x = SpatialDropout1D(0.2)(x)\n",
        "\n",
        "  x = Bidirectional(GRU(128, return_sequences=True))(x)\n",
        "\n",
        "  avg_pool = GlobalAveragePooling1D()(x)\n",
        "  max_pool = GlobalMaxPooling1D()(x)\n",
        "  conc = concatenate([avg_pool, max_pool])\n",
        "\n",
        "  outp = Dense(6, activation=\"sigmoid\")(conc)\n",
        "      \n",
        "  model = Model(inputs=model_input, outputs=outp)\n",
        "  model.compile(loss='binary_crossentropy',\n",
        "                    optimizer='adam',\n",
        "                    metrics=['accuracy'])\n",
        "  return model"
      ],
      "execution_count": 0,
      "outputs": []
    },
    {
      "cell_type": "code",
      "metadata": {
        "id": "d0mCfRSPVDFk",
        "colab_type": "code",
        "colab": {}
      },
      "source": [
        "batch_size = 128\n",
        "epochs = 10\n",
        "\n",
        "model = get_pooled_gru()\n",
        "\n",
        "# Use stratified sampling again\n",
        "X_tra, y_tra, X_val, y_val = iterative_train_test_split(x_train, y_train, test_size=0.1)"
      ],
      "execution_count": 0,
      "outputs": []
    },
    {
      "cell_type": "code",
      "metadata": {
        "id": "SHu7FZjMVQK0",
        "colab_type": "code",
        "colab": {}
      },
      "source": [
        "checkpoint = ModelCheckpoint(\"pooled_gru_model.hdf5\", monitor='val_accuracy', verbose=1, save_best_only=True, mode='max')\n",
        "early = EarlyStopping(monitor=\"val_accuracy\", mode=\"max\", patience=3)\n",
        "ra_val = RocAucEvaluation(validation_data=(X_val, y_val), interval = 1)\n",
        "callbacks_list = [ra_val,checkpoint, early]"
      ],
      "execution_count": 0,
      "outputs": []
    },
    {
      "cell_type": "code",
      "metadata": {
        "id": "M4vJ5VbjVkWB",
        "colab_type": "code",
        "outputId": "6e628263-27ad-4ee2-e5cf-71d413638c34",
        "colab": {
          "base_uri": "https://localhost:8080/",
          "height": 423
        }
      },
      "source": [
        "model.summary()"
      ],
      "execution_count": 0,
      "outputs": [
        {
          "output_type": "stream",
          "text": [
            "Model: \"model_2\"\n",
            "__________________________________________________________________________________________________\n",
            "Layer (type)                    Output Shape         Param #     Connected to                     \n",
            "==================================================================================================\n",
            "input_2 (InputLayer)            (None, 200)          0                                            \n",
            "__________________________________________________________________________________________________\n",
            "embedding_2 (Embedding)         (None, 200, 300)     30000000    input_2[0][0]                    \n",
            "__________________________________________________________________________________________________\n",
            "spatial_dropout1d_1 (SpatialDro (None, 200, 300)     0           embedding_2[0][0]                \n",
            "__________________________________________________________________________________________________\n",
            "bidirectional_2 (Bidirectional) (None, 200, 256)     329472      spatial_dropout1d_1[0][0]        \n",
            "__________________________________________________________________________________________________\n",
            "global_average_pooling1d_1 (Glo (None, 256)          0           bidirectional_2[0][0]            \n",
            "__________________________________________________________________________________________________\n",
            "global_max_pooling1d_2 (GlobalM (None, 256)          0           bidirectional_2[0][0]            \n",
            "__________________________________________________________________________________________________\n",
            "concatenate_1 (Concatenate)     (None, 512)          0           global_average_pooling1d_1[0][0] \n",
            "                                                                 global_max_pooling1d_2[0][0]     \n",
            "__________________________________________________________________________________________________\n",
            "dense_3 (Dense)                 (None, 6)            3078        concatenate_1[0][0]              \n",
            "==================================================================================================\n",
            "Total params: 30,332,550\n",
            "Trainable params: 30,332,550\n",
            "Non-trainable params: 0\n",
            "__________________________________________________________________________________________________\n"
          ],
          "name": "stdout"
        }
      ]
    },
    {
      "cell_type": "code",
      "metadata": {
        "id": "3367YP0QVvPy",
        "colab_type": "code",
        "outputId": "6c4d19dc-f088-431d-9eb4-b9c6e9e36be0",
        "colab": {
          "base_uri": "https://localhost:8080/",
          "height": 606
        }
      },
      "source": [
        "%%time\n",
        "history = model.fit(X_tra, y_tra, batch_size=batch_size, epochs=epochs, validation_data=(X_val, y_val),callbacks = callbacks_list,verbose=1)"
      ],
      "execution_count": 0,
      "outputs": [
        {
          "output_type": "stream",
          "text": [
            "/usr/local/lib/python3.6/dist-packages/tensorflow/python/framework/indexed_slices.py:434: UserWarning: Converting sparse IndexedSlices to a dense Tensor of unknown shape. This may consume a large amount of memory.\n",
            "  \"Converting sparse IndexedSlices to a dense Tensor of unknown shape. \"\n"
          ],
          "name": "stderr"
        },
        {
          "output_type": "stream",
          "text": [
            "Train on 143613 samples, validate on 15958 samples\n",
            "Epoch 1/10\n",
            "143613/143613 [==============================] - 1122s 8ms/step - loss: 0.0583 - accuracy: 0.9792 - val_loss: 0.0423 - val_accuracy: 0.9833\n",
            "\n",
            " ROC-AUC - epoch: 1 - score: 0.984095\n",
            "\n",
            "Epoch 00001: val_accuracy improved from -inf to 0.98333, saving model to pooled_gru_model.hdf5\n",
            "Epoch 2/10\n",
            "143613/143613 [==============================] - 1127s 8ms/step - loss: 0.0380 - accuracy: 0.9851 - val_loss: 0.0409 - val_accuracy: 0.9834\n",
            "\n",
            " ROC-AUC - epoch: 2 - score: 0.987921\n",
            "\n",
            "Epoch 00002: val_accuracy improved from 0.98333 to 0.98341, saving model to pooled_gru_model.hdf5\n",
            "Epoch 3/10\n",
            "143613/143613 [==============================] - 1128s 8ms/step - loss: 0.0316 - accuracy: 0.9873 - val_loss: 0.0416 - val_accuracy: 0.9833\n",
            "\n",
            " ROC-AUC - epoch: 3 - score: 0.988449\n",
            "\n",
            "Epoch 00003: val_accuracy did not improve from 0.98341\n",
            "Epoch 4/10\n",
            "143613/143613 [==============================] - 1133s 8ms/step - loss: 0.0258 - accuracy: 0.9897 - val_loss: 0.0446 - val_accuracy: 0.9828\n",
            "\n",
            " ROC-AUC - epoch: 4 - score: 0.987348\n",
            "\n",
            "Epoch 00004: val_accuracy did not improve from 0.98341\n",
            "Epoch 5/10\n",
            "143613/143613 [==============================] - 1117s 8ms/step - loss: 0.0203 - accuracy: 0.9921 - val_loss: 0.0487 - val_accuracy: 0.9831\n",
            "\n",
            " ROC-AUC - epoch: 5 - score: 0.986306\n",
            "\n",
            "Epoch 00005: val_accuracy did not improve from 0.98341\n",
            "CPU times: user 3h 30min 34s, sys: 33min 25s, total: 4h 3min 59s\n",
            "Wall time: 1h 37min 14s\n"
          ],
          "name": "stdout"
        }
      ]
    },
    {
      "cell_type": "code",
      "metadata": {
        "id": "2cv0V7uLVv-H",
        "colab_type": "code",
        "outputId": "5f780d9f-37a5-41e1-f793-91f314541774",
        "colab": {
          "base_uri": "https://localhost:8080/",
          "height": 297
        }
      },
      "source": [
        "get_plots(history)"
      ],
      "execution_count": 0,
      "outputs": [
        {
          "output_type": "display_data",
          "data": {
            "image/png": "[encoded data removed]",
            "text/plain": [
              "<Figure size 432x288 with 2 Axes>"
            ]
          },
          "metadata": {
            "tags": [],
            "needs_background": "light"
          }
        }
      ]
    },
    {
      "cell_type": "code",
      "metadata": {
        "id": "EjTdqrnUV1c_",
        "colab_type": "code",
        "outputId": "d0e4d5b6-ea02-4d28-845c-9c391b0d7025",
        "colab": {
          "base_uri": "https://localhost:8080/",
          "height": 33
        }
      },
      "source": [
        "model.load_weights(\"pooled_gru_model.hdf5\")\n",
        "y_pred = model.predict(x_test,batch_size=1024,verbose=1)"
      ],
      "execution_count": 0,
      "outputs": [
        {
          "output_type": "stream",
          "text": [
            "153164/153164 [==============================] - 14s 89us/step\n"
          ],
          "name": "stdout"
        }
      ]
    },
    {
      "cell_type": "code",
      "metadata": {
        "id": "NVNawHBBWFYz",
        "colab_type": "code",
        "outputId": "2c54c200-4389-4373-8d93-f16d4156e2f6",
        "colab": {
          "base_uri": "https://localhost:8080/",
          "height": 33
        }
      },
      "source": [
        "predict_scores(y_pred)"
      ],
      "execution_count": 0,
      "outputs": [
        {
          "output_type": "stream",
          "text": [
            "Test set score is 0.9832283687757924\n"
          ],
          "name": "stdout"
        }
      ]
    },
    {
      "cell_type": "code",
      "metadata": {
        "id": "Y4Yx46fJWJ1y",
        "colab_type": "code",
        "outputId": "1efe247c-2bee-4162-da04-f05a25f58f3c",
        "colab": {
          "base_uri": "https://localhost:8080/",
          "height": 33
        }
      },
      "source": [
        "gc.collect()"
      ],
      "execution_count": 0,
      "outputs": [
        {
          "output_type": "execute_result",
          "data": {
            "text/plain": [
              "5468"
            ]
          },
          "metadata": {
            "tags": []
          },
          "execution_count": 71
        }
      ]
    },
    {
      "cell_type": "markdown",
      "metadata": {
        "id": "sRsz0J7jYE_h",
        "colab_type": "text"
      },
      "source": [
        "### **Pooled GRU + CNN**\n",
        "\n",
        "This implementation is based on the paper [Combination of Convolutional and Recurrent Neural Network for\n",
        "Sentiment Analysis of Short Texts](https://www.aclweb.org/anthology/C16-1229.pdf) and [A C-LSTM Neural Network for Text Classification](https://arxiv.org/abs/1511.08630). This architechture uses a combination of **Bi-directional Gated Recurrent Network(GRU)** and **Convolutional Neural Network (ConvNet/CNN)** with pooling."
      ]
    },
    {
      "cell_type": "code",
      "metadata": {
        "id": "uU0OBPgzX97x",
        "colab_type": "code",
        "colab": {}
      },
      "source": [
        "def get_gru_cnn():\n",
        "    model_input = Input(shape=(maxlen, ))\n",
        "    x = Embedding(max_features, embed_size, weights=[embedding_matrix],trainable = False)(model_input)\n",
        "    x1 = SpatialDropout1D(0.2)(x)\n",
        "   \n",
        "    x = Bidirectional(GRU(128, return_sequences = True))(x1)\n",
        "    x = Conv1D(64, kernel_size = 2, padding = \"valid\", kernel_initializer = \"he_uniform\")(x)\n",
        "\n",
        "    y = Bidirectional(LSTM(128, return_sequences = True))(x1)\n",
        "    y = Conv1D(64, kernel_size = 2, padding = \"valid\", kernel_initializer = \"he_uniform\")(y)\n",
        "\n",
        "    avg_pool1 = GlobalAveragePooling1D()(x)\n",
        "    max_pool1 = GlobalMaxPooling1D()(x)\n",
        "\n",
        "    avg_pool2 = GlobalAveragePooling1D()(y)\n",
        "    max_pool2 = GlobalMaxPooling1D()(y)\n",
        "\n",
        "    x = concatenate([avg_pool1, max_pool1, avg_pool2, max_pool2])\n",
        "    \n",
        "    preds = Dense(6, activation=\"sigmoid\")(x)\n",
        "    model = Model(model_input, preds)\n",
        "    model.compile(loss='binary_crossentropy',optimizer=Adam(lr=1e-3,decay = 0),metrics=['accuracy'])\n",
        "    return model"
      ],
      "execution_count": 0,
      "outputs": []
    },
    {
      "cell_type": "code",
      "metadata": {
        "id": "xgfzSTlWYH9w",
        "colab_type": "code",
        "colab": {}
      },
      "source": [
        "batch_size = 128\n",
        "epochs = 10\n",
        "\n",
        "model = get_gru_cnn()\n",
        "\n",
        "# Use stratified sampling again\n",
        "X_tra, y_tra, X_val, y_val = iterative_train_test_split(x_train, y_train, test_size=0.1)"
      ],
      "execution_count": 0,
      "outputs": []
    },
    {
      "cell_type": "code",
      "metadata": {
        "id": "kzt1ig01YPUx",
        "colab_type": "code",
        "colab": {}
      },
      "source": [
        "checkpoint = ModelCheckpoint(\"gru_cnn_model.hdf5\", monitor='val_accuracy', verbose=1, save_best_only=True, mode='max')\n",
        "early = EarlyStopping(monitor=\"val_accuracy\", mode=\"max\", patience=3)\n",
        "ra_val = RocAucEvaluation(validation_data=(X_val, y_val), interval = 1)\n",
        "callbacks_list = [ra_val,checkpoint, early]"
      ],
      "execution_count": 0,
      "outputs": []
    },
    {
      "cell_type": "code",
      "metadata": {
        "id": "4fy-wqQyYUlC",
        "colab_type": "code",
        "outputId": "984c2a2f-01ca-4c3e-eb52-4abdda921c97",
        "colab": {
          "base_uri": "https://localhost:8080/",
          "height": 618
        }
      },
      "source": [
        "model.summary()"
      ],
      "execution_count": 0,
      "outputs": [
        {
          "output_type": "stream",
          "text": [
            "Model: \"model_3\"\n",
            "__________________________________________________________________________________________________\n",
            "Layer (type)                    Output Shape         Param #     Connected to                     \n",
            "==================================================================================================\n",
            "input_3 (InputLayer)            (None, 200)          0                                            \n",
            "__________________________________________________________________________________________________\n",
            "embedding_3 (Embedding)         (None, 200, 300)     30000000    input_3[0][0]                    \n",
            "__________________________________________________________________________________________________\n",
            "spatial_dropout1d_2 (SpatialDro (None, 200, 300)     0           embedding_3[0][0]                \n",
            "__________________________________________________________________________________________________\n",
            "bidirectional_3 (Bidirectional) (None, 200, 256)     329472      spatial_dropout1d_2[0][0]        \n",
            "__________________________________________________________________________________________________\n",
            "bidirectional_4 (Bidirectional) (None, 200, 256)     439296      spatial_dropout1d_2[0][0]        \n",
            "__________________________________________________________________________________________________\n",
            "conv1d_1 (Conv1D)               (None, 199, 64)      32832       bidirectional_3[0][0]            \n",
            "__________________________________________________________________________________________________\n",
            "conv1d_2 (Conv1D)               (None, 199, 64)      32832       bidirectional_4[0][0]            \n",
            "__________________________________________________________________________________________________\n",
            "global_average_pooling1d_2 (Glo (None, 64)           0           conv1d_1[0][0]                   \n",
            "__________________________________________________________________________________________________\n",
            "global_max_pooling1d_3 (GlobalM (None, 64)           0           conv1d_1[0][0]                   \n",
            "__________________________________________________________________________________________________\n",
            "global_average_pooling1d_3 (Glo (None, 64)           0           conv1d_2[0][0]                   \n",
            "__________________________________________________________________________________________________\n",
            "global_max_pooling1d_4 (GlobalM (None, 64)           0           conv1d_2[0][0]                   \n",
            "__________________________________________________________________________________________________\n",
            "concatenate_2 (Concatenate)     (None, 256)          0           global_average_pooling1d_2[0][0] \n",
            "                                                                 global_max_pooling1d_3[0][0]     \n",
            "                                                                 global_average_pooling1d_3[0][0] \n",
            "                                                                 global_max_pooling1d_4[0][0]     \n",
            "__________________________________________________________________________________________________\n",
            "dense_4 (Dense)                 (None, 6)            1542        concatenate_2[0][0]              \n",
            "==================================================================================================\n",
            "Total params: 30,835,974\n",
            "Trainable params: 835,974\n",
            "Non-trainable params: 30,000,000\n",
            "__________________________________________________________________________________________________\n"
          ],
          "name": "stdout"
        }
      ]
    },
    {
      "cell_type": "code",
      "metadata": {
        "id": "RSWiwNlFYgSR",
        "colab_type": "code",
        "outputId": "bf068ef9-a819-41cb-f5eb-499f74a899d7",
        "colab": {
          "base_uri": "https://localhost:8080/",
          "height": 651
        }
      },
      "source": [
        "%%time\n",
        "history = model.fit(X_tra, y_tra, batch_size=batch_size, epochs=epochs, validation_data=(X_val, y_val),callbacks = callbacks_list,verbose=1)"
      ],
      "execution_count": 0,
      "outputs": [
        {
          "output_type": "stream",
          "text": [
            "Train on 143613 samples, validate on 15958 samples\n",
            "Epoch 1/10\n",
            "143613/143613 [==============================] - 1892s 13ms/step - loss: 0.0541 - accuracy: 0.9806 - val_loss: 0.0413 - val_accuracy: 0.9840\n",
            "\n",
            " ROC-AUC - epoch: 1 - score: 0.988381\n",
            "\n",
            "Epoch 00001: val_accuracy improved from -inf to 0.98399, saving model to gru_cnn_model.hdf5\n",
            "Epoch 2/10\n",
            "143613/143613 [==============================] - 1882s 13ms/step - loss: 0.0418 - accuracy: 0.9837 - val_loss: 0.0394 - val_accuracy: 0.9843\n",
            "\n",
            " ROC-AUC - epoch: 2 - score: 0.989925\n",
            "\n",
            "Epoch 00002: val_accuracy improved from 0.98399 to 0.98433, saving model to gru_cnn_model.hdf5\n",
            "Epoch 3/10\n",
            "143613/143613 [==============================] - 1881s 13ms/step - loss: 0.0391 - accuracy: 0.9847 - val_loss: 0.0395 - val_accuracy: 0.9847\n",
            "\n",
            " ROC-AUC - epoch: 3 - score: 0.989818\n",
            "\n",
            "Epoch 00003: val_accuracy improved from 0.98433 to 0.98470, saving model to gru_cnn_model.hdf5\n",
            "Epoch 4/10\n",
            "143613/143613 [==============================] - 1871s 13ms/step - loss: 0.0368 - accuracy: 0.9855 - val_loss: 0.0396 - val_accuracy: 0.9842\n",
            "\n",
            " ROC-AUC - epoch: 4 - score: 0.989964\n",
            "\n",
            "Epoch 00004: val_accuracy did not improve from 0.98470\n",
            "Epoch 5/10\n",
            "143613/143613 [==============================] - 1877s 13ms/step - loss: 0.0343 - accuracy: 0.9865 - val_loss: 0.0397 - val_accuracy: 0.9844\n",
            "\n",
            " ROC-AUC - epoch: 5 - score: 0.990138\n",
            "\n",
            "Epoch 00005: val_accuracy did not improve from 0.98470\n",
            "Epoch 6/10\n",
            "143613/143613 [==============================] - 1877s 13ms/step - loss: 0.0316 - accuracy: 0.9874 - val_loss: 0.0421 - val_accuracy: 0.9838\n",
            "\n",
            " ROC-AUC - epoch: 6 - score: 0.989508\n",
            "\n",
            "Epoch 00006: val_accuracy did not improve from 0.98470\n",
            "CPU times: user 7h 17min 24s, sys: 1h 9min 45s, total: 8h 27min 10s\n",
            "Wall time: 3h 15min 27s\n"
          ],
          "name": "stdout"
        }
      ]
    },
    {
      "cell_type": "code",
      "metadata": {
        "id": "9j0EG056YhEX",
        "colab_type": "code",
        "outputId": "dc9146d7-69f8-4fa8-a270-7900edaf2a97",
        "colab": {
          "base_uri": "https://localhost:8080/",
          "height": 297
        }
      },
      "source": [
        "get_plots(history)"
      ],
      "execution_count": 0,
      "outputs": [
        {
          "output_type": "display_data",
          "data": {
            "image/png": "[encoded data removed]",
            "text/plain": [
              "<Figure size 432x288 with 2 Axes>"
            ]
          },
          "metadata": {
            "tags": [],
            "needs_background": "light"
          }
        }
      ]
    },
    {
      "cell_type": "code",
      "metadata": {
        "id": "YrIV4GXRYmlG",
        "colab_type": "code",
        "outputId": "c0e648ce-e61d-445c-a7a0-fde7e209cf6c",
        "colab": {
          "base_uri": "https://localhost:8080/",
          "height": 33
        }
      },
      "source": [
        "model.load_weights(\"gru_cnn_model.hdf5\")\n",
        "y_pred = model.predict(x_test,batch_size=1024,verbose=1)"
      ],
      "execution_count": 0,
      "outputs": [
        {
          "output_type": "stream",
          "text": [
            "153164/153164 [==============================] - 27s 177us/step\n"
          ],
          "name": "stdout"
        }
      ]
    },
    {
      "cell_type": "code",
      "metadata": {
        "id": "ZzvO-5LwYurN",
        "colab_type": "code",
        "outputId": "f569c7ad-a2ac-49ae-f679-92f44b1c8bf1",
        "colab": {
          "base_uri": "https://localhost:8080/",
          "height": 33
        }
      },
      "source": [
        "predict_scores(y_pred)"
      ],
      "execution_count": 0,
      "outputs": [
        {
          "output_type": "stream",
          "text": [
            "Test set score is 0.9837260259934076\n"
          ],
          "name": "stdout"
        }
      ]
    },
    {
      "cell_type": "markdown",
      "metadata": {
        "id": "o58_WV7zVqWv",
        "colab_type": "text"
      },
      "source": [
        "### **Pooled CNN Complex Model**\n",
        "\n",
        "This is a deep neural architechture with multiple Convolutional Neural Network (ConvNet/CNN) layers. This implementation is based on [Very Deep Convolutional Networks for Text Classification](https://arxiv.org/abs/1606.01781), [Combining Knowledge with Deep Convolutional Neural Networks\n",
        "for Short Text Classification](http://yellowstone.cs.ucla.edu/~jinwang/jinwang_files/ijcai2017.pdf) and [Attention pooling-based convolutional neural network for sentence modelling](https://www.sciencedirect.com/science/article/pii/S0020025516306673).\n"
      ]
    },
    {
      "cell_type": "code",
      "metadata": {
        "id": "ONdnhu6YpXKV",
        "colab_type": "code",
        "colab": {}
      },
      "source": [
        "#Custom Attention Layer\n",
        "from keras.engine import InputSpec, Layer\n",
        "from keras import backend as K\n",
        "\n",
        "class AttentionWeightedAverage(Layer):\n",
        "    \"\"\"\n",
        "    Computes a weighted average of the different channels across timesteps.\n",
        "    Uses 1 parameter pr. channel to compute the attention value for a single timestep.\n",
        "    \"\"\"\n",
        "\n",
        "    def __init__(self, return_attention=False, **kwargs):\n",
        "        self.init = initializers.get('uniform')\n",
        "        self.supports_masking = True\n",
        "        self.return_attention = return_attention\n",
        "        super(AttentionWeightedAverage, self).__init__(** kwargs)\n",
        "\n",
        "    def build(self, input_shape):\n",
        "        self.input_spec = [InputSpec(ndim=3)]\n",
        "        assert len(input_shape) == 3\n",
        "\n",
        "        self.W = self.add_weight(shape=(input_shape[2], 1),\n",
        "                                 name='{}_W'.format(self.name),\n",
        "                                 initializer=self.init)\n",
        "        self.trainable_weights = [self.W]\n",
        "        super(AttentionWeightedAverage, self).build(input_shape)\n",
        "\n",
        "    def call(self, x, mask=None):\n",
        "        # computes a probability distribution over the timesteps\n",
        "        # uses 'max trick' for numerical stability\n",
        "        # reshape is done to avoid issue with Tensorflow\n",
        "        # and 1-dimensional weights\n",
        "        logits = K.dot(x, self.W)\n",
        "        x_shape = K.shape(x)\n",
        "        logits = K.reshape(logits, (x_shape[0], x_shape[1]))\n",
        "        ai = K.exp(logits - K.max(logits, axis=-1, keepdims=True))\n",
        "\n",
        "        # masked timesteps have zero weight\n",
        "        if mask is not None:\n",
        "            mask = K.cast(mask, K.floatx())\n",
        "            ai = ai * mask\n",
        "        att_weights = ai / (K.sum(ai, axis=1, keepdims=True) + K.epsilon())\n",
        "        weighted_input = x * K.expand_dims(att_weights)\n",
        "        result = K.sum(weighted_input, axis=1)\n",
        "        if self.return_attention:\n",
        "            return [result, att_weights]\n",
        "        return result\n",
        "\n",
        "    def get_output_shape_for(self, input_shape):\n",
        "        return self.compute_output_shape(input_shape)\n",
        "\n",
        "    def compute_output_shape(self, input_shape):\n",
        "        output_len = input_shape[2]\n",
        "        if self.return_attention:\n",
        "            return [(input_shape[0], output_len), (input_shape[0], input_shape[1])]\n",
        "        return (input_shape[0], output_len)\n",
        "\n",
        "    def compute_mask(self, input, input_mask=None):\n",
        "        if isinstance(input_mask, list):\n",
        "            return [None] * len(input_mask)\n",
        "        else:\n",
        "            return None\n"
      ],
      "execution_count": 0,
      "outputs": []
    },
    {
      "cell_type": "code",
      "metadata": {
        "id": "Hfrrd3xFTp0y",
        "colab_type": "code",
        "colab": {}
      },
      "source": [
        " def get_avcnn_model():   \n",
        "    filter_nums = 300\n",
        "    model_input = Input(shape=(maxlen,), dtype='int32')\n",
        "\n",
        "    embedding_layer = Embedding(num_words,\n",
        "                                    embed_size,\n",
        "                                    weights=[embedding_matrix],\n",
        "                                    input_length=maxlen,\n",
        "                                    trainable=False)\n",
        "    embedded_sequences = embedding_layer(model_input)\n",
        "    embedded_sequences = SpatialDropout1D(0.25)(embedded_sequences)\n",
        "\n",
        "    conv_0 = Conv1D(filter_nums, 1, kernel_initializer=\"normal\", padding=\"valid\", activation=\"relu\")(embedded_sequences)\n",
        "    conv_1 = Conv1D(filter_nums, 2, kernel_initializer=\"normal\", padding=\"valid\", activation=\"relu\")(embedded_sequences)\n",
        "    conv_2 = Conv1D(filter_nums, 3, kernel_initializer=\"normal\", padding=\"valid\", activation=\"relu\")(embedded_sequences)\n",
        "    conv_3 = Conv1D(filter_nums, 4, kernel_initializer=\"normal\", padding=\"valid\", activation=\"relu\")(embedded_sequences)\n",
        "\n",
        "    attn_0 = AttentionWeightedAverage()(conv_0)\n",
        "    avg_0 = GlobalAveragePooling1D()(conv_0)\n",
        "    maxpool_0 = GlobalMaxPooling1D()(conv_0)\n",
        "\n",
        "    maxpool_1 = GlobalMaxPooling1D()(conv_1)\n",
        "    attn_1 = AttentionWeightedAverage()(conv_1)\n",
        "    avg_1 = GlobalAveragePooling1D()(conv_1)\n",
        "\n",
        "    maxpool_2 = GlobalMaxPooling1D()(conv_2)\n",
        "    attn_2 = AttentionWeightedAverage()(conv_2)\n",
        "    avg_2 = GlobalAveragePooling1D()(conv_2)\n",
        "\n",
        "    maxpool_3 = GlobalMaxPooling1D()(conv_3)\n",
        "    attn_3 = AttentionWeightedAverage()(conv_3)\n",
        "    avg_3 = GlobalAveragePooling1D()(conv_3)\n",
        "\n",
        "    v0_col = concatenate([maxpool_0, maxpool_1, maxpool_2, maxpool_3], axis=1)\n",
        "    v1_col = concatenate([attn_0, attn_1, attn_2, attn_3], axis=1)\n",
        "    v2_col = concatenate([avg_1, avg_2, avg_0, avg_3], axis=1)\n",
        "    merged_tensor = concatenate([v0_col, v1_col, v2_col], axis=1)\n",
        "    output = Dropout(0.7)(merged_tensor)\n",
        "    output = Dense(units=144)(output)\n",
        "    output = Activation('relu')(output)\n",
        "    output = Dense(units=6, activation='sigmoid')(output)\n",
        "\n",
        "    model = Model(inputs=model_input, outputs=output)\n",
        "    adam_optimizer = optimizers.Adam(lr=1e-3, decay=1e-6)\n",
        "    model.compile(loss='binary_crossentropy', optimizer=adam_optimizer, metrics=['accuracy'])\n",
        "\n",
        "    return model"
      ],
      "execution_count": 0,
      "outputs": []
    },
    {
      "cell_type": "code",
      "metadata": {
        "id": "7-hgrjesy8SN",
        "colab_type": "code",
        "colab": {}
      },
      "source": [
        "batch_size = 128\n",
        "epochs = 10\n",
        "\n",
        "model = get_avcnn_model()\n",
        "\n",
        "# Use stratified sampling again\n",
        "X_tra, y_tra, X_val, y_val = iterative_train_test_split(x_train, y_train, test_size=0.1)"
      ],
      "execution_count": 0,
      "outputs": []
    },
    {
      "cell_type": "code",
      "metadata": {
        "id": "L-EottXNzD1g",
        "colab_type": "code",
        "colab": {}
      },
      "source": [
        "checkpoint = ModelCheckpoint(\"avcnn_model.hdf5\", monitor='val_accuracy', verbose=1, save_best_only=True, mode='max')\n",
        "early = EarlyStopping(monitor=\"val_accuracy\", mode=\"max\", patience=5)\n",
        "ra_val = RocAucEvaluation(validation_data=(X_val, y_val), interval = 1)\n",
        "callbacks_list = [ra_val,checkpoint, early]"
      ],
      "execution_count": 0,
      "outputs": []
    },
    {
      "cell_type": "code",
      "metadata": {
        "id": "lLbwca2T0gpC",
        "colab_type": "code",
        "outputId": "291c91b7-f6ed-42fc-eebd-b3b459614556",
        "colab": {
          "base_uri": "https://localhost:8080/",
          "height": 1000
        }
      },
      "source": [
        "model.summary()"
      ],
      "execution_count": 0,
      "outputs": [
        {
          "output_type": "stream",
          "text": [
            "Model: \"model_7\"\n",
            "__________________________________________________________________________________________________\n",
            "Layer (type)                    Output Shape         Param #     Connected to                     \n",
            "==================================================================================================\n",
            "input_8 (InputLayer)            (None, 200)          0                                            \n",
            "__________________________________________________________________________________________________\n",
            "embedding_8 (Embedding)         (None, 200, 300)     30000000    input_8[0][0]                    \n",
            "__________________________________________________________________________________________________\n",
            "spatial_dropout1d_6 (SpatialDro (None, 200, 300)     0           embedding_8[0][0]                \n",
            "__________________________________________________________________________________________________\n",
            "conv1d_21 (Conv1D)              (None, 200, 300)     90300       spatial_dropout1d_6[0][0]        \n",
            "__________________________________________________________________________________________________\n",
            "conv1d_22 (Conv1D)              (None, 199, 300)     180300      spatial_dropout1d_6[0][0]        \n",
            "__________________________________________________________________________________________________\n",
            "conv1d_23 (Conv1D)              (None, 198, 300)     270300      spatial_dropout1d_6[0][0]        \n",
            "__________________________________________________________________________________________________\n",
            "conv1d_24 (Conv1D)              (None, 197, 300)     360300      spatial_dropout1d_6[0][0]        \n",
            "__________________________________________________________________________________________________\n",
            "global_max_pooling1d_19 (Global (None, 300)          0           conv1d_21[0][0]                  \n",
            "__________________________________________________________________________________________________\n",
            "global_max_pooling1d_20 (Global (None, 300)          0           conv1d_22[0][0]                  \n",
            "__________________________________________________________________________________________________\n",
            "global_max_pooling1d_21 (Global (None, 300)          0           conv1d_23[0][0]                  \n",
            "__________________________________________________________________________________________________\n",
            "global_max_pooling1d_22 (Global (None, 300)          0           conv1d_24[0][0]                  \n",
            "__________________________________________________________________________________________________\n",
            "attention_weighted_average_17 ( (None, 300)          300         conv1d_21[0][0]                  \n",
            "__________________________________________________________________________________________________\n",
            "attention_weighted_average_18 ( (None, 300)          300         conv1d_22[0][0]                  \n",
            "__________________________________________________________________________________________________\n",
            "attention_weighted_average_19 ( (None, 300)          300         conv1d_23[0][0]                  \n",
            "__________________________________________________________________________________________________\n",
            "attention_weighted_average_20 ( (None, 300)          300         conv1d_24[0][0]                  \n",
            "__________________________________________________________________________________________________\n",
            "global_average_pooling1d_18 (Gl (None, 300)          0           conv1d_22[0][0]                  \n",
            "__________________________________________________________________________________________________\n",
            "global_average_pooling1d_19 (Gl (None, 300)          0           conv1d_23[0][0]                  \n",
            "__________________________________________________________________________________________________\n",
            "global_average_pooling1d_17 (Gl (None, 300)          0           conv1d_21[0][0]                  \n",
            "__________________________________________________________________________________________________\n",
            "global_average_pooling1d_20 (Gl (None, 300)          0           conv1d_24[0][0]                  \n",
            "__________________________________________________________________________________________________\n",
            "concatenate_17 (Concatenate)    (None, 1200)         0           global_max_pooling1d_19[0][0]    \n",
            "                                                                 global_max_pooling1d_20[0][0]    \n",
            "                                                                 global_max_pooling1d_21[0][0]    \n",
            "                                                                 global_max_pooling1d_22[0][0]    \n",
            "__________________________________________________________________________________________________\n",
            "concatenate_18 (Concatenate)    (None, 1200)         0           attention_weighted_average_17[0][\n",
            "                                                                 attention_weighted_average_18[0][\n",
            "                                                                 attention_weighted_average_19[0][\n",
            "                                                                 attention_weighted_average_20[0][\n",
            "__________________________________________________________________________________________________\n",
            "concatenate_19 (Concatenate)    (None, 1200)         0           global_average_pooling1d_18[0][0]\n",
            "                                                                 global_average_pooling1d_19[0][0]\n",
            "                                                                 global_average_pooling1d_17[0][0]\n",
            "                                                                 global_average_pooling1d_20[0][0]\n",
            "__________________________________________________________________________________________________\n",
            "concatenate_20 (Concatenate)    (None, 3600)         0           concatenate_17[0][0]             \n",
            "                                                                 concatenate_18[0][0]             \n",
            "                                                                 concatenate_19[0][0]             \n",
            "__________________________________________________________________________________________________\n",
            "dropout_7 (Dropout)             (None, 3600)         0           concatenate_20[0][0]             \n",
            "__________________________________________________________________________________________________\n",
            "dense_13 (Dense)                (None, 144)          518544      dropout_7[0][0]                  \n",
            "__________________________________________________________________________________________________\n",
            "activation_5 (Activation)       (None, 144)          0           dense_13[0][0]                   \n",
            "__________________________________________________________________________________________________\n",
            "dense_14 (Dense)                (None, 6)            870         activation_5[0][0]               \n",
            "==================================================================================================\n",
            "Total params: 31,421,814\n",
            "Trainable params: 1,421,814\n",
            "Non-trainable params: 30,000,000\n",
            "__________________________________________________________________________________________________\n"
          ],
          "name": "stdout"
        }
      ]
    },
    {
      "cell_type": "code",
      "metadata": {
        "id": "SpFmPr1EyoVK",
        "colab_type": "code",
        "outputId": "a782983c-1433-4a96-9f7e-60ed958e79e3",
        "colab": {
          "base_uri": "https://localhost:8080/",
          "height": 1000
        }
      },
      "source": [
        "%%time\n",
        "history = model.fit(X_tra, y_tra, batch_size=batch_size, epochs=epochs, validation_data=(X_val, y_val),callbacks = callbacks_list,verbose=1)"
      ],
      "execution_count": 0,
      "outputs": [
        {
          "output_type": "stream",
          "text": [
            "Train on 143613 samples, validate on 15958 samples\n",
            "Epoch 1/10\n",
            "143613/143613 [==============================] - 41s 289us/step - loss: 0.0591 - accuracy: 0.9790 - val_loss: 0.0438 - val_accuracy: 0.9831\n",
            "\n",
            " ROC-AUC - epoch: 1 - score: 0.983786\n",
            "\n",
            "Epoch 00001: val_accuracy improved from -inf to 0.98313, saving model to avcnn_model.hdf5\n",
            "Epoch 2/10\n",
            "143613/143613 [==============================] - 41s 284us/step - loss: 0.0465 - accuracy: 0.9823 - val_loss: 0.0415 - val_accuracy: 0.9837\n",
            "\n",
            " ROC-AUC - epoch: 2 - score: 0.987452\n",
            "\n",
            "Epoch 00002: val_accuracy improved from 0.98313 to 0.98368, saving model to avcnn_model.hdf5\n",
            "Epoch 3/10\n",
            "143613/143613 [==============================] - 41s 284us/step - loss: 0.0436 - accuracy: 0.9831 - val_loss: 0.0402 - val_accuracy: 0.9841\n",
            "\n",
            " ROC-AUC - epoch: 3 - score: 0.987972\n",
            "\n",
            "Epoch 00003: val_accuracy improved from 0.98368 to 0.98415, saving model to avcnn_model.hdf5\n",
            "Epoch 4/10\n",
            "143613/143613 [==============================] - 41s 283us/step - loss: 0.0423 - accuracy: 0.9835 - val_loss: 0.0404 - val_accuracy: 0.9837\n",
            "\n",
            " ROC-AUC - epoch: 4 - score: 0.988755\n",
            "\n",
            "Epoch 00004: val_accuracy did not improve from 0.98415\n",
            "Epoch 5/10\n",
            "143613/143613 [==============================] - 41s 284us/step - loss: 0.0412 - accuracy: 0.9837 - val_loss: 0.0412 - val_accuracy: 0.9835\n",
            "\n",
            " ROC-AUC - epoch: 5 - score: 0.988734\n",
            "\n",
            "Epoch 00005: val_accuracy did not improve from 0.98415\n",
            "Epoch 6/10\n",
            "143613/143613 [==============================] - 41s 285us/step - loss: 0.0402 - accuracy: 0.9840 - val_loss: 0.0404 - val_accuracy: 0.9840\n",
            "\n",
            " ROC-AUC - epoch: 6 - score: 0.988311\n",
            "\n",
            "Epoch 00006: val_accuracy did not improve from 0.98415\n",
            "Epoch 7/10\n",
            "143613/143613 [==============================] - 41s 284us/step - loss: 0.0392 - accuracy: 0.9845 - val_loss: 0.0416 - val_accuracy: 0.9831\n",
            "\n",
            " ROC-AUC - epoch: 7 - score: 0.988602\n",
            "\n",
            "Epoch 00007: val_accuracy did not improve from 0.98415\n",
            "Epoch 8/10\n",
            "143613/143613 [==============================] - 41s 284us/step - loss: 0.0383 - accuracy: 0.9846 - val_loss: 0.0394 - val_accuracy: 0.9845\n",
            "\n",
            " ROC-AUC - epoch: 8 - score: 0.988588\n",
            "\n",
            "Epoch 00008: val_accuracy improved from 0.98415 to 0.98449, saving model to avcnn_model.hdf5\n",
            "Epoch 9/10\n",
            "143613/143613 [==============================] - 41s 284us/step - loss: 0.0376 - accuracy: 0.9849 - val_loss: 0.0396 - val_accuracy: 0.9847\n",
            "\n",
            " ROC-AUC - epoch: 9 - score: 0.988412\n",
            "\n",
            "Epoch 00009: val_accuracy improved from 0.98449 to 0.98468, saving model to avcnn_model.hdf5\n",
            "Epoch 10/10\n",
            "143613/143613 [==============================] - 41s 284us/step - loss: 0.0366 - accuracy: 0.9852 - val_loss: 0.0404 - val_accuracy: 0.9839\n",
            "\n",
            " ROC-AUC - epoch: 10 - score: 0.988186\n",
            "\n",
            "Epoch 00010: val_accuracy did not improve from 0.98468\n",
            "CPU times: user 5min 16s, sys: 1min 48s, total: 7min 5s\n",
            "Wall time: 7min 13s\n"
          ],
          "name": "stdout"
        }
      ]
    },
    {
      "cell_type": "code",
      "metadata": {
        "id": "Nl5yEUI6zN1z",
        "colab_type": "code",
        "outputId": "3297024b-711e-4a74-db9f-f419f1a365e2",
        "colab": {
          "base_uri": "https://localhost:8080/",
          "height": 297
        }
      },
      "source": [
        "get_plots(history)"
      ],
      "execution_count": 0,
      "outputs": [
        {
          "output_type": "display_data",
          "data": {
            "image/png": "[encoded data removed]",
            "text/plain": [
              "<Figure size 432x288 with 2 Axes>"
            ]
          },
          "metadata": {
            "tags": [],
            "needs_background": "light"
          }
        }
      ]
    },
    {
      "cell_type": "code",
      "metadata": {
        "id": "pIfdoYYv3bgj",
        "colab_type": "code",
        "outputId": "885f0f46-1d0b-4c1a-d3a5-ecd2e1c78856",
        "colab": {
          "base_uri": "https://localhost:8080/",
          "height": 33
        }
      },
      "source": [
        "model.load_weights(\"avcnn_model.hdf5\")\n",
        "y_pred = model.predict(x_test,batch_size=1024,verbose=1)"
      ],
      "execution_count": 0,
      "outputs": [
        {
          "output_type": "stream",
          "text": [
            "153164/153164 [==============================] - 11s 72us/step\n"
          ],
          "name": "stdout"
        }
      ]
    },
    {
      "cell_type": "code",
      "metadata": {
        "id": "HmJ768nH3rXj",
        "colab_type": "code",
        "outputId": "a15fd6a5-f757-4912-d954-7a6ed1b000d3",
        "colab": {
          "base_uri": "https://localhost:8080/",
          "height": 33
        }
      },
      "source": [
        "predict_scores(y_pred)"
      ],
      "execution_count": 0,
      "outputs": [
        {
          "output_type": "stream",
          "text": [
            "Test set score is 0.9834151329229056\n"
          ],
          "name": "stdout"
        }
      ]
    },
    {
      "cell_type": "code",
      "metadata": {
        "id": "tNm1iBE50mYr",
        "colab_type": "code",
        "outputId": "67820c30-b4c7-41fe-ebb0-b094d541126a",
        "colab": {
          "base_uri": "https://localhost:8080/",
          "height": 33
        }
      },
      "source": [
        "gc.collect()"
      ],
      "execution_count": 0,
      "outputs": [
        {
          "output_type": "execute_result",
          "data": {
            "text/plain": [
              "23244"
            ]
          },
          "metadata": {
            "tags": []
          },
          "execution_count": 72
        }
      ]
    },
    {
      "cell_type": "markdown",
      "metadata": {
        "id": "955Zwxv3OSCG",
        "colab_type": "text"
      },
      "source": [
        "### **Pooled RNN Complex Model**\n",
        "\n",
        "This is a deep neural architechture with multiple **Gated Recurrent Network (GRU)** layers.\n"
      ]
    },
    {
      "cell_type": "code",
      "metadata": {
        "id": "wtnxdPa6vAIo",
        "colab_type": "code",
        "colab": {}
      },
      "source": [
        "from keras.layers import Lambda\n",
        "def get_av_rnn():\n",
        "    recurrent_units = 60\n",
        "    model_input = Input(shape=(maxlen,))\n",
        "    embedding_layer = Embedding(num_words,\n",
        "                                    embed_size,\n",
        "                                    weights=[embedding_matrix],\n",
        "                                    input_length=maxlen,\n",
        "                                    trainable=False)\n",
        "    embedded_sequences = embedding_layer(model_input)\n",
        "    embedding_layer = SpatialDropout1D(0.25)(embedded_sequences)\n",
        "\n",
        "    rnn_1 = Bidirectional(GRU(recurrent_units, return_sequences=True))(embedding_layer)\n",
        "    rnn_2 = Bidirectional(GRU(recurrent_units, return_sequences=True))(rnn_1)\n",
        "    x = concatenate([rnn_1, rnn_2], axis=2)\n",
        "\n",
        "    last = Lambda(lambda t: t[:, -1], name='last')(x)\n",
        "    maxpool = GlobalMaxPooling1D()(x)\n",
        "    attn = AttentionWeightedAverage()(x)\n",
        "    average = GlobalAveragePooling1D()(x)\n",
        "\n",
        "    all_views = concatenate([last, maxpool, average, attn], axis=1)\n",
        "    x = Dropout(0.5)(all_views)\n",
        "    x = Dense(144, activation=\"relu\")(x)\n",
        "    output_layer = Dense(units=6, activation=\"sigmoid\")(x)\n",
        "    model = Model(inputs=model_input, outputs=output_layer)\n",
        "    adam_optimizer = optimizers.Adam(lr=1e-3, decay=1e-6, clipvalue=5)\n",
        "    model.compile(loss='binary_crossentropy', optimizer=adam_optimizer, metrics=['accuracy'])\n",
        "    return model"
      ],
      "execution_count": 0,
      "outputs": []
    },
    {
      "cell_type": "code",
      "metadata": {
        "id": "4KD5UfgVmb1c",
        "colab_type": "code",
        "colab": {}
      },
      "source": [
        "batch_size = 256\n",
        "epochs = 10\n",
        "\n",
        "model = get_av_rnn()\n",
        "\n",
        "# Use stratified sampling again\n",
        "X_tra, y_tra, X_val, y_val = iterative_train_test_split(x_train, y_train, test_size=0.1)"
      ],
      "execution_count": 0,
      "outputs": []
    },
    {
      "cell_type": "code",
      "metadata": {
        "id": "pFTi1jz8nf7o",
        "colab_type": "code",
        "colab": {}
      },
      "source": [
        "checkpoint = ModelCheckpoint(\"avrnn_model.hdf5\", monitor='val_accuracy', verbose=1, save_best_only=True, mode='max')\n",
        "early = EarlyStopping(monitor=\"val_accuracy\", mode=\"max\", patience=3)\n",
        "ra_val = RocAucEvaluation(validation_data=(X_val, y_val), interval = 1)\n",
        "callbacks_list = [ra_val,checkpoint, early]"
      ],
      "execution_count": 0,
      "outputs": []
    },
    {
      "cell_type": "code",
      "metadata": {
        "id": "FtAZV6kUnmCA",
        "colab_type": "code",
        "outputId": "8a7297c8-7b96-4586-8004-51e187849d11",
        "colab": {
          "base_uri": "https://localhost:8080/",
          "height": 667
        }
      },
      "source": [
        "model.summary()"
      ],
      "execution_count": 0,
      "outputs": [
        {
          "output_type": "stream",
          "text": [
            "Model: \"model_5\"\n",
            "__________________________________________________________________________________________________\n",
            "Layer (type)                    Output Shape         Param #     Connected to                     \n",
            "==================================================================================================\n",
            "input_5 (InputLayer)            (None, 200)          0                                            \n",
            "__________________________________________________________________________________________________\n",
            "embedding_5 (Embedding)         (None, 200, 300)     30000000    input_5[0][0]                    \n",
            "__________________________________________________________________________________________________\n",
            "spatial_dropout1d_4 (SpatialDro (None, 200, 300)     0           embedding_5[0][0]                \n",
            "__________________________________________________________________________________________________\n",
            "bidirectional_5 (Bidirectional) (None, 200, 120)     129960      spatial_dropout1d_4[0][0]        \n",
            "__________________________________________________________________________________________________\n",
            "bidirectional_6 (Bidirectional) (None, 200, 120)     65160       bidirectional_5[0][0]            \n",
            "__________________________________________________________________________________________________\n",
            "concatenate_7 (Concatenate)     (None, 200, 240)     0           bidirectional_5[0][0]            \n",
            "                                                                 bidirectional_6[0][0]            \n",
            "__________________________________________________________________________________________________\n",
            "last (Lambda)                   (None, 240)          0           concatenate_7[0][0]              \n",
            "__________________________________________________________________________________________________\n",
            "global_max_pooling1d_9 (GlobalM (None, 240)          0           concatenate_7[0][0]              \n",
            "__________________________________________________________________________________________________\n",
            "global_average_pooling1d_8 (Glo (None, 240)          0           concatenate_7[0][0]              \n",
            "__________________________________________________________________________________________________\n",
            "attention_weighted_average_5 (A (None, 240)          240         concatenate_7[0][0]              \n",
            "__________________________________________________________________________________________________\n",
            "concatenate_8 (Concatenate)     (None, 960)          0           last[0][0]                       \n",
            "                                                                 global_max_pooling1d_9[0][0]     \n",
            "                                                                 global_average_pooling1d_8[0][0] \n",
            "                                                                 attention_weighted_average_5[0][0\n",
            "__________________________________________________________________________________________________\n",
            "dropout_3 (Dropout)             (None, 960)          0           concatenate_8[0][0]              \n",
            "__________________________________________________________________________________________________\n",
            "dense_7 (Dense)                 (None, 144)          138384      dropout_3[0][0]                  \n",
            "__________________________________________________________________________________________________\n",
            "dense_8 (Dense)                 (None, 6)            870         dense_7[0][0]                    \n",
            "==================================================================================================\n",
            "Total params: 30,334,614\n",
            "Trainable params: 334,614\n",
            "Non-trainable params: 30,000,000\n",
            "__________________________________________________________________________________________________\n"
          ],
          "name": "stdout"
        }
      ]
    },
    {
      "cell_type": "code",
      "metadata": {
        "id": "pisOc-PwnpT1",
        "colab_type": "code",
        "outputId": "7c9a7c9d-3ea4-49b5-f60f-3a032bf9508b",
        "colab": {
          "base_uri": "https://localhost:8080/",
          "height": 943
        }
      },
      "source": [
        "%%time\n",
        "history = model.fit(X_tra, y_tra, batch_size=batch_size, epochs=epochs, validation_data=(X_val, y_val),callbacks = callbacks_list,verbose=1)"
      ],
      "execution_count": 0,
      "outputs": [
        {
          "output_type": "stream",
          "text": [
            "Train on 143613 samples, validate on 15958 samples\n",
            "Epoch 1/10\n",
            "143613/143613 [==============================] - 1105s 8ms/step - loss: 0.0624 - accuracy: 0.9784 - val_loss: 0.0459 - val_accuracy: 0.9824\n",
            "\n",
            " ROC-AUC - epoch: 1 - score: 0.983555\n",
            "\n",
            "Epoch 00001: val_accuracy improved from -inf to 0.98239, saving model to avrnn_model.hdf5\n",
            "Epoch 2/10\n",
            "143613/143613 [==============================] - 1105s 8ms/step - loss: 0.0458 - accuracy: 0.9825 - val_loss: 0.0413 - val_accuracy: 0.9835\n",
            "\n",
            " ROC-AUC - epoch: 2 - score: 0.987535\n",
            "\n",
            "Epoch 00002: val_accuracy improved from 0.98239 to 0.98347, saving model to avrnn_model.hdf5\n",
            "Epoch 3/10\n",
            "143613/143613 [==============================] - 1105s 8ms/step - loss: 0.0427 - accuracy: 0.9834 - val_loss: 0.0395 - val_accuracy: 0.9843\n",
            "\n",
            " ROC-AUC - epoch: 3 - score: 0.988824\n",
            "\n",
            "Epoch 00003: val_accuracy improved from 0.98347 to 0.98425, saving model to avrnn_model.hdf5\n",
            "Epoch 4/10\n",
            "143613/143613 [==============================] - 1100s 8ms/step - loss: 0.0409 - accuracy: 0.9839 - val_loss: 0.0401 - val_accuracy: 0.9837\n",
            "\n",
            " ROC-AUC - epoch: 4 - score: 0.989450\n",
            "\n",
            "Epoch 00004: val_accuracy did not improve from 0.98425\n",
            "Epoch 5/10\n",
            "143613/143613 [==============================] - 1103s 8ms/step - loss: 0.0395 - accuracy: 0.9843 - val_loss: 0.0392 - val_accuracy: 0.9844\n",
            "\n",
            " ROC-AUC - epoch: 5 - score: 0.989660\n",
            "\n",
            "Epoch 00005: val_accuracy improved from 0.98425 to 0.98444, saving model to avrnn_model.hdf5\n",
            "Epoch 6/10\n",
            "143613/143613 [==============================] - 1099s 8ms/step - loss: 0.0387 - accuracy: 0.9847 - val_loss: 0.0386 - val_accuracy: 0.9848\n",
            "\n",
            " ROC-AUC - epoch: 6 - score: 0.989682\n",
            "\n",
            "Epoch 00006: val_accuracy improved from 0.98444 to 0.98476, saving model to avrnn_model.hdf5\n",
            "Epoch 7/10\n",
            "143613/143613 [==============================] - 1102s 8ms/step - loss: 0.0374 - accuracy: 0.9851 - val_loss: 0.0380 - val_accuracy: 0.9847\n",
            "\n",
            " ROC-AUC - epoch: 7 - score: 0.989433\n",
            "\n",
            "Epoch 00007: val_accuracy did not improve from 0.98476\n",
            "Epoch 8/10\n",
            "143613/143613 [==============================] - 1100s 8ms/step - loss: 0.0368 - accuracy: 0.9852 - val_loss: 0.0386 - val_accuracy: 0.9846\n",
            "\n",
            " ROC-AUC - epoch: 8 - score: 0.989229\n",
            "\n",
            "Epoch 00008: val_accuracy did not improve from 0.98476\n",
            "Epoch 9/10\n",
            "143613/143613 [==============================] - 1101s 8ms/step - loss: 0.0356 - accuracy: 0.9857 - val_loss: 0.0388 - val_accuracy: 0.9841\n",
            "\n",
            " ROC-AUC - epoch: 9 - score: 0.989142\n",
            "\n",
            "Epoch 00009: val_accuracy did not improve from 0.98476\n",
            "CPU times: user 6h 15min 43s, sys: 57min 36s, total: 7h 13min 20s\n",
            "Wall time: 2h 57min 57s\n"
          ],
          "name": "stdout"
        }
      ]
    },
    {
      "cell_type": "code",
      "metadata": {
        "id": "pifYwvzWnv_Y",
        "colab_type": "code",
        "outputId": "c8b6330b-475e-449a-c866-417eee50fa9e",
        "colab": {
          "base_uri": "https://localhost:8080/",
          "height": 297
        }
      },
      "source": [
        "get_plots(history)"
      ],
      "execution_count": 0,
      "outputs": [
        {
          "output_type": "display_data",
          "data": {
            "image/png": "[encoded data removed]",
            "text/plain": [
              "<Figure size 432x288 with 2 Axes>"
            ]
          },
          "metadata": {
            "tags": [],
            "needs_background": "light"
          }
        }
      ]
    },
    {
      "cell_type": "code",
      "metadata": {
        "id": "OPN5Bx4voF3b",
        "colab_type": "code",
        "outputId": "7d9a96a1-9552-44b4-d784-ddb501ad3aa6",
        "colab": {
          "base_uri": "https://localhost:8080/",
          "height": 33
        }
      },
      "source": [
        "model.load_weights(\"avrnn_model.hdf5\")\n",
        "y_pred = model.predict(x_test,batch_size=1024,verbose=1)"
      ],
      "execution_count": 0,
      "outputs": [
        {
          "output_type": "stream",
          "text": [
            "153164/153164 [==============================] - 26s 169us/step\n"
          ],
          "name": "stdout"
        }
      ]
    },
    {
      "cell_type": "code",
      "metadata": {
        "id": "Eq_joeM5oMFv",
        "colab_type": "code",
        "outputId": "64668ad2-351c-4301-c8f7-49ff25f2f122",
        "colab": {
          "base_uri": "https://localhost:8080/",
          "height": 33
        }
      },
      "source": [
        "predict_scores(y_pred)"
      ],
      "execution_count": 0,
      "outputs": [
        {
          "output_type": "stream",
          "text": [
            "Test set score is 0.9833254527678322\n"
          ],
          "name": "stdout"
        }
      ]
    },
    {
      "cell_type": "code",
      "metadata": {
        "id": "zm4WiAUdoRLG",
        "colab_type": "code",
        "outputId": "2c34897f-02c3-4da1-d14b-b91cb9178fce",
        "colab": {
          "base_uri": "https://localhost:8080/",
          "height": 33
        }
      },
      "source": [
        "gc.collect()"
      ],
      "execution_count": 0,
      "outputs": [
        {
          "output_type": "execute_result",
          "data": {
            "text/plain": [
              "23270"
            ]
          },
          "metadata": {
            "tags": []
          },
          "execution_count": 98
        }
      ]
    },
    {
      "cell_type": "markdown",
      "metadata": {
        "id": "mr4tQ8T5KuGt",
        "colab_type": "text"
      },
      "source": [
        "### **Deep CNN with K-Max Pooling**\n",
        "\n",
        "As per [A Convolutional Neural Network for Modelling Sentences](https://arxiv.org/pdf/1404.2188.pdf), k-Max Pooling is a pooling operation that is a generalisation of the max pooling over the time dimension used in the Max-TDNN sentence model and different from the local max pooling operations applied in a convolutional network for object recognition. Here we implement a deep CNN network with K-Max pooling.\n"
      ]
    },
    {
      "cell_type": "code",
      "metadata": {
        "id": "5oRgydKcWDUm",
        "colab_type": "code",
        "colab": {}
      },
      "source": [
        "class KMaxPooling(Layer):\n",
        "    \"\"\"\n",
        "    K-max pooling layer that extracts the k-highest activations from a sequence (2nd dimension).\n",
        "    TensorFlow backend.\n",
        "    \"\"\"\n",
        "\n",
        "    def __init__(self, k=1, **kwargs):\n",
        "        super().__init__(**kwargs)\n",
        "        self.input_spec = InputSpec(ndim=3)\n",
        "        self.k = k\n",
        "\n",
        "    def compute_output_shape(self, input_shape):\n",
        "        return (input_shape[0], (input_shape[2] * self.k))\n",
        "\n",
        "    def call(self, inputs):\n",
        "        # swap last two dimensions since top_k will be applied along the last dimension\n",
        "        shifted_input = tf.transpose(inputs, [0, 2, 1])\n",
        "\n",
        "        # extract top_k, returns two tensors [values, indices]\n",
        "        top_k = tf.nn.top_k(shifted_input, k=self.k, sorted=True, name=None)[0]\n",
        "\n",
        "        # return flattened output\n",
        "        return Flatten()(top_k)"
      ],
      "execution_count": 0,
      "outputs": []
    },
    {
      "cell_type": "code",
      "metadata": {
        "id": "nLDtb8JHARF-",
        "colab_type": "code",
        "colab": {}
      },
      "source": [
        "def get_kmax_text_cnn():\n",
        "    embedding_layer = Embedding(num_words,\n",
        "                                    embed_size,\n",
        "                                    weights=[embedding_matrix],\n",
        "                                    input_length=maxlen,\n",
        "                                    trainable=False)\n",
        "\n",
        "    filter_nums = 180\n",
        "    drop = 0.6\n",
        "\n",
        "    model_input = Input(shape=(maxlen,), dtype='int32')\n",
        "    embedded_sequences = embedding_layer(model_input)\n",
        "    embedded_sequences = SpatialDropout1D(0.2)(embedded_sequences)\n",
        "\n",
        "    conv_0 = Conv1D(filter_nums, 1, kernel_initializer=\"normal\", padding=\"valid\", activation=\"relu\")(embedded_sequences)\n",
        "    conv_1 = Conv1D(filter_nums, 2, kernel_initializer=\"normal\", padding=\"valid\", activation=\"relu\")(embedded_sequences)\n",
        "    conv_2 = Conv1D(filter_nums, 3, kernel_initializer=\"normal\", padding=\"valid\", activation=\"relu\")(embedded_sequences)\n",
        "    conv_3 = Conv1D(filter_nums, 4, kernel_initializer=\"normal\", padding=\"valid\", activation=\"relu\")(embedded_sequences)\n",
        "\n",
        "    maxpool_0 = KMaxPooling(k=3)(conv_0)\n",
        "    maxpool_1 = KMaxPooling(k=3)(conv_1)\n",
        "    maxpool_2 = KMaxPooling(k=3)(conv_2)\n",
        "    maxpool_3 = KMaxPooling(k=3)(conv_3)\n",
        "\n",
        "    merged_tensor = concatenate([maxpool_0, maxpool_1, maxpool_2, maxpool_3], axis=1)\n",
        "    output = Dropout(drop)(merged_tensor)\n",
        "    output = Dense(units=144, activation='relu')(output)\n",
        "    output = Dense(units=6, activation='sigmoid')(output)\n",
        "\n",
        "    model = Model(inputs=model_input, outputs=output)\n",
        "    adam_optimizer = optimizers.Adam(lr=1e-3, decay=1e-7)\n",
        "    model.compile(loss='binary_crossentropy', optimizer=adam_optimizer, metrics=['accuracy'])\n",
        "    return model"
      ],
      "execution_count": 0,
      "outputs": []
    },
    {
      "cell_type": "code",
      "metadata": {
        "id": "JyDfzanm3JJB",
        "colab_type": "code",
        "colab": {}
      },
      "source": [
        "batch_size = 128\n",
        "epochs = 10\n",
        "\n",
        "model = get_kmax_text_cnn()\n",
        "\n",
        "# Use stratified sampling again\n",
        "X_tra, y_tra, X_val, y_val = iterative_train_test_split(x_train, y_train, test_size=0.1)"
      ],
      "execution_count": 0,
      "outputs": []
    },
    {
      "cell_type": "code",
      "metadata": {
        "id": "6tDFw2gK3Syq",
        "colab_type": "code",
        "colab": {}
      },
      "source": [
        "checkpoint = ModelCheckpoint(\"kmaxcnn_model.hdf5\", monitor='val_accuracy', verbose=1, save_best_only=True, mode='max')\n",
        "early = EarlyStopping(monitor=\"val_accuracy\", mode=\"max\", patience=3)\n",
        "ra_val = RocAucEvaluation(validation_data=(X_val, y_val), interval = 1)\n",
        "callbacks_list = [ra_val,checkpoint, early]"
      ],
      "execution_count": 0,
      "outputs": []
    },
    {
      "cell_type": "code",
      "metadata": {
        "id": "PcoGfX0M3akU",
        "colab_type": "code",
        "outputId": "2bb729e1-2afa-4ced-9323-54bdc1e08770",
        "colab": {
          "base_uri": "https://localhost:8080/",
          "height": 683
        }
      },
      "source": [
        "model.summary()"
      ],
      "execution_count": 0,
      "outputs": [
        {
          "output_type": "stream",
          "text": [
            "Model: \"model_6\"\n",
            "__________________________________________________________________________________________________\n",
            "Layer (type)                    Output Shape         Param #     Connected to                     \n",
            "==================================================================================================\n",
            "input_6 (InputLayer)            (None, 200)          0                                            \n",
            "__________________________________________________________________________________________________\n",
            "embedding_6 (Embedding)         (None, 200, 300)     30000000    input_6[0][0]                    \n",
            "__________________________________________________________________________________________________\n",
            "spatial_dropout1d_5 (SpatialDro (None, 200, 300)     0           embedding_6[0][0]                \n",
            "__________________________________________________________________________________________________\n",
            "conv1d_7 (Conv1D)               (None, 200, 180)     54180       spatial_dropout1d_5[0][0]        \n",
            "__________________________________________________________________________________________________\n",
            "conv1d_8 (Conv1D)               (None, 199, 180)     108180      spatial_dropout1d_5[0][0]        \n",
            "__________________________________________________________________________________________________\n",
            "conv1d_9 (Conv1D)               (None, 198, 180)     162180      spatial_dropout1d_5[0][0]        \n",
            "__________________________________________________________________________________________________\n",
            "conv1d_10 (Conv1D)              (None, 197, 180)     216180      spatial_dropout1d_5[0][0]        \n",
            "__________________________________________________________________________________________________\n",
            "k_max_pooling_1 (KMaxPooling)   (None, 540)          0           conv1d_7[0][0]                   \n",
            "__________________________________________________________________________________________________\n",
            "k_max_pooling_2 (KMaxPooling)   (None, 540)          0           conv1d_8[0][0]                   \n",
            "__________________________________________________________________________________________________\n",
            "k_max_pooling_3 (KMaxPooling)   (None, 540)          0           conv1d_9[0][0]                   \n",
            "__________________________________________________________________________________________________\n",
            "k_max_pooling_4 (KMaxPooling)   (None, 540)          0           conv1d_10[0][0]                  \n",
            "__________________________________________________________________________________________________\n",
            "concatenate_9 (Concatenate)     (None, 2160)         0           k_max_pooling_1[0][0]            \n",
            "                                                                 k_max_pooling_2[0][0]            \n",
            "                                                                 k_max_pooling_3[0][0]            \n",
            "                                                                 k_max_pooling_4[0][0]            \n",
            "__________________________________________________________________________________________________\n",
            "dropout_4 (Dropout)             (None, 2160)         0           concatenate_9[0][0]              \n",
            "__________________________________________________________________________________________________\n",
            "dense_9 (Dense)                 (None, 144)          311184      dropout_4[0][0]                  \n",
            "__________________________________________________________________________________________________\n",
            "dense_10 (Dense)                (None, 6)            870         dense_9[0][0]                    \n",
            "==================================================================================================\n",
            "Total params: 30,852,774\n",
            "Trainable params: 852,774\n",
            "Non-trainable params: 30,000,000\n",
            "__________________________________________________________________________________________________\n"
          ],
          "name": "stdout"
        }
      ]
    },
    {
      "cell_type": "code",
      "metadata": {
        "id": "0wiRgYV_3kx0",
        "colab_type": "code",
        "outputId": "7ec32c25-4e9c-4947-c976-3e6c648a0f17",
        "colab": {
          "base_uri": "https://localhost:8080/",
          "height": 846
        }
      },
      "source": [
        "%%time\n",
        "history = model.fit(X_tra, y_tra, batch_size=batch_size, epochs=epochs, validation_data=(X_val, y_val),callbacks = callbacks_list,verbose=1)"
      ],
      "execution_count": 0,
      "outputs": [
        {
          "output_type": "stream",
          "text": [
            "Train on 143613 samples, validate on 15958 samples\n",
            "Epoch 1/10\n",
            "143613/143613 [==============================] - 124s 860us/step - loss: 0.0635 - accuracy: 0.9782 - val_loss: 0.0463 - val_accuracy: 0.9821\n",
            "\n",
            " ROC-AUC - epoch: 1 - score: 0.982303\n",
            "\n",
            "Epoch 00001: val_accuracy improved from -inf to 0.98208, saving model to kmaxcnn_model.hdf5\n",
            "Epoch 2/10\n",
            "143613/143613 [==============================] - 122s 853us/step - loss: 0.0464 - accuracy: 0.9823 - val_loss: 0.0445 - val_accuracy: 0.9824\n",
            "\n",
            " ROC-AUC - epoch: 2 - score: 0.987828\n",
            "\n",
            "Epoch 00002: val_accuracy improved from 0.98208 to 0.98237, saving model to kmaxcnn_model.hdf5\n",
            "Epoch 3/10\n",
            "143613/143613 [==============================] - 123s 853us/step - loss: 0.0438 - accuracy: 0.9830 - val_loss: 0.0427 - val_accuracy: 0.9832\n",
            "\n",
            " ROC-AUC - epoch: 3 - score: 0.989673\n",
            "\n",
            "Epoch 00003: val_accuracy improved from 0.98237 to 0.98320, saving model to kmaxcnn_model.hdf5\n",
            "Epoch 4/10\n",
            "143613/143613 [==============================] - 122s 851us/step - loss: 0.0418 - accuracy: 0.9835 - val_loss: 0.0393 - val_accuracy: 0.9844\n",
            "\n",
            " ROC-AUC - epoch: 4 - score: 0.990143\n",
            "\n",
            "Epoch 00004: val_accuracy improved from 0.98320 to 0.98437, saving model to kmaxcnn_model.hdf5\n",
            "Epoch 5/10\n",
            "143613/143613 [==============================] - 122s 853us/step - loss: 0.0403 - accuracy: 0.9840 - val_loss: 0.0391 - val_accuracy: 0.9845\n",
            "\n",
            " ROC-AUC - epoch: 5 - score: 0.990424\n",
            "\n",
            "Epoch 00005: val_accuracy improved from 0.98437 to 0.98452, saving model to kmaxcnn_model.hdf5\n",
            "Epoch 6/10\n",
            "143613/143613 [==============================] - 122s 853us/step - loss: 0.0393 - accuracy: 0.9844 - val_loss: 0.0395 - val_accuracy: 0.9843\n",
            "\n",
            " ROC-AUC - epoch: 6 - score: 0.990936\n",
            "\n",
            "Epoch 00006: val_accuracy did not improve from 0.98452\n",
            "Epoch 7/10\n",
            "143613/143613 [==============================] - 122s 853us/step - loss: 0.0378 - accuracy: 0.9847 - val_loss: 0.0391 - val_accuracy: 0.9845\n",
            "\n",
            " ROC-AUC - epoch: 7 - score: 0.991019\n",
            "\n",
            "Epoch 00007: val_accuracy did not improve from 0.98452\n",
            "Epoch 8/10\n",
            "143613/143613 [==============================] - 122s 852us/step - loss: 0.0372 - accuracy: 0.9851 - val_loss: 0.0391 - val_accuracy: 0.9844\n",
            "\n",
            " ROC-AUC - epoch: 8 - score: 0.991167\n",
            "\n",
            "Epoch 00008: val_accuracy did not improve from 0.98452\n",
            "CPU times: user 4min 30s, sys: 1min 22s, total: 5min 52s\n",
            "Wall time: 17min 57s\n"
          ],
          "name": "stdout"
        }
      ]
    },
    {
      "cell_type": "code",
      "metadata": {
        "id": "rbqHBRMm3tLg",
        "colab_type": "code",
        "outputId": "debd60a0-573d-46d9-ffcb-a403a202d98a",
        "colab": {
          "base_uri": "https://localhost:8080/",
          "height": 297
        }
      },
      "source": [
        "get_plots(history)"
      ],
      "execution_count": 0,
      "outputs": [
        {
          "output_type": "display_data",
          "data": {
            "image/png": "[encoded data removed]",
            "text/plain": [
              "<Figure size 432x288 with 2 Axes>"
            ]
          },
          "metadata": {
            "tags": [],
            "needs_background": "light"
          }
        }
      ]
    },
    {
      "cell_type": "code",
      "metadata": {
        "id": "dmqwtMQ930Bl",
        "colab_type": "code",
        "outputId": "98d09268-08c8-43c1-fe1c-1849ae871622",
        "colab": {
          "base_uri": "https://localhost:8080/",
          "height": 33
        }
      },
      "source": [
        "model.load_weights(\"kmaxcnn_model.hdf5\")\n",
        "y_pred = model.predict(x_test,batch_size=1024,verbose=1)"
      ],
      "execution_count": 0,
      "outputs": [
        {
          "output_type": "stream",
          "text": [
            "153164/153164 [==============================] - 103s 672us/step\n"
          ],
          "name": "stdout"
        }
      ]
    },
    {
      "cell_type": "code",
      "metadata": {
        "id": "fImeS0Iu36KA",
        "colab_type": "code",
        "outputId": "7162b126-c3ea-4b37-e73a-215e50595118",
        "colab": {
          "base_uri": "https://localhost:8080/",
          "height": 33
        }
      },
      "source": [
        "predict_scores(y_pred)"
      ],
      "execution_count": 0,
      "outputs": [
        {
          "output_type": "stream",
          "text": [
            "Test set score is 0.9839545676946138\n"
          ],
          "name": "stdout"
        }
      ]
    },
    {
      "cell_type": "code",
      "metadata": {
        "id": "dbUebta54JF9",
        "colab_type": "code",
        "outputId": "49cdd0d4-efb7-40b2-c367-580f7d08a89f",
        "colab": {
          "base_uri": "https://localhost:8080/",
          "height": 33
        }
      },
      "source": [
        "gc.collect()"
      ],
      "execution_count": 0,
      "outputs": [
        {
          "output_type": "execute_result",
          "data": {
            "text/plain": [
              "27804"
            ]
          },
          "metadata": {
            "tags": []
          },
          "execution_count": 108
        }
      ]
    },
    {
      "cell_type": "markdown",
      "metadata": {
        "id": "Rvc0d6sIXYU2",
        "colab_type": "text"
      },
      "source": [
        "### **Results with Fast-Text Embeddings**\n",
        "\n",
        "After first round of experiment, we take a look at the performance of the models. We used **iterative_train_test_split** from the scikit-multilearn package to keep the toxicity labels evenly distributed between training and validation sets. We used the the custom function to calclated ROC-AUC Score on the test data set.\n",
        "\n",
        "Here's our results:-\n",
        "\n",
        "\n",
        "| Model               | Test-set ROC AUC score |\n",
        "|---------------------|------------------------|\n",
        "| Logistic Regression | 0.9765                 |\n",
        "| Support Vector Machine          | 0.9728                |\n",
        "| Single Bi-LSTM        | 0.9820                 |\n",
        "| Single GRU          | 0.9832                |\n",
        "| GRU with CNN       | 0.9837                 |\n",
        "| Deep CNN           | 0.9834                 |\n",
        "| Deep RNN          | 0.9833                 |\n",
        "| Deep CNN with KMax Pooling          | 0.9840                 |\n",
        "\n",
        "\n",
        "\n",
        "Time Performance\n",
        "\n",
        "| Model               | Hardware| Epochs |Time |\n",
        "|---------------------|------------------------|------------------------|------------------------|\n",
        "| Logistic Regression | CPU     |              | 12 mins|\n",
        "| Support Vector Machine          | CPU      |            | 14 mins|\n",
        "| Single Bi-LSTM        | GPU        |     10      | 50 mins|\n",
        "| Single GRU           | GPU           |   10   |   1hr 38 mins  | \n",
        "| GRU with CNN        | GPU       |   10       |   3hr 15 mins  | \n",
        "| Deep CNN           |GPU         |     10    |   8 mins |\n",
        "| Deep RNN        | GPU        |     10    |  2hr 58 mins   | \n",
        "| Deep CNN with KMax Pooling          | GPU        |     10     |    18 mins  |\n",
        "\n",
        "What we can observe is the neural newtork models performed much better than the benchmark model.\n",
        "\n",
        "For the second round of experminents, we will select the Top four Performing models from the First Round.\n",
        "\n",
        "\n",
        "\n",
        "\n",
        "\n",
        "*   GRU with CNN\n",
        "*   Deep CNN\n",
        "*   Deep RNN\n",
        "*   Deep CNN with KMax Pooling\n",
        "\n",
        "\n",
        "\n",
        "\n",
        "\n"
      ]
    },
    {
      "cell_type": "markdown",
      "metadata": {
        "id": "YYGqi-Yd4XDB",
        "colab_type": "text"
      },
      "source": [
        "## **A Little More Experminent**\n",
        "\n",
        "In this section, we will utilise the top four models from previous round and will try to improve our performance.\n",
        "\n",
        "We will perform three methodologies here:-\n",
        "\n",
        "\n",
        "*   **Diversify** Word Embeddings\n",
        "*   **Re-train** using new diversified Word Embeddings\n",
        "* **Ensemble** the top two models.\n",
        "\n"
      ]
    },
    {
      "cell_type": "markdown",
      "metadata": {
        "id": "-4sTSm_rRbNr",
        "colab_type": "text"
      },
      "source": [
        "### **Diversify Pre-trained Word Embeddings**\n",
        "\n",
        "We will use another pre-trained Word Embedding [GloVe: Global Vectors for Word Representation](https://nlp.stanford.edu/projects/glove/) - Glove Twitter - 2B tweets, 27B tokens, 1.2M vocab, uncased, 25d, 50d, 100d, & 200d vectors. You can download it [here](http://nlp.stanford.edu/data/glove.840B.300d.zip) and read about it in the original paper [GloVe: Global Vectors for Word Representation](https://nlp.stanford.edu/pubs/glove.pdf)\n",
        "\n",
        "**GloVe** is an unsupervised learning algorithm for obtaining vector representations for words. Training is performed on aggregated global word-word co-occurrence statistics from a corpus, and the resulting representations showcase interesting linear substructures of the word vector space.\n",
        "\n",
        "Sp, here we will use both a **GloVe** vector and a **FastText** together. "
      ]
    },
    {
      "cell_type": "code",
      "metadata": {
        "id": "rsxajSBD4Oez",
        "colab_type": "code",
        "outputId": "caec5db1-3053-444b-f3d2-c82418b38c91",
        "colab": {
          "base_uri": "https://localhost:8080/",
          "height": 33
        }
      },
      "source": [
        "!ls \"/content/drive/My Drive/toxicity-classification/embedding/\""
      ],
      "execution_count": 36,
      "outputs": [
        {
          "output_type": "stream",
          "text": [
            "crawl-300d-2M.vec  glove.twitter.27B.200d.txt\n"
          ],
          "name": "stdout"
        }
      ]
    },
    {
      "cell_type": "code",
      "metadata": {
        "id": "wQBW9Y_NWMs1",
        "colab_type": "code",
        "colab": {}
      },
      "source": [
        "import pickle"
      ],
      "execution_count": 0,
      "outputs": []
    },
    {
      "cell_type": "code",
      "metadata": {
        "id": "ZuAKE8r_Gq8H",
        "colab_type": "code",
        "outputId": "5e0209de-435b-4f38-e7ea-386f7f3f6ec8",
        "colab": {
          "base_uri": "https://localhost:8080/",
          "height": 50
        }
      },
      "source": [
        "%%time\n",
        "# Load the FastText Web Crawl vectors and Glove vectors\n",
        "EMBEDDING_FILE_FASTTEXT='/content/drive/My Drive/toxicity-classification/embedding//crawl-300d-2M.vec'\n",
        "EMBEDDING_FILE_GLOVE='/content/drive/My Drive/toxicity-classification/embedding/glove.twitter.27B.200d.txt'\n",
        "gc.collect()\n",
        "\n",
        "def get_coefs(word, *arr): return word, np.asarray(arr, dtype='float32')\n",
        "\n",
        "embeddings_index_ft = dict(get_coefs(*o.rstrip().rsplit(' ')) for o in open(EMBEDDING_FILE_FASTTEXT,encoding='utf-8'))\n",
        "gc.collect()\n",
        "embeddings_index_tw = dict(get_coefs(*o.strip().split()) for o in open(EMBEDDING_FILE_GLOVE,encoding='utf-8'))\n",
        "gc.collect()\n"
      ],
      "execution_count": 31,
      "outputs": [
        {
          "output_type": "stream",
          "text": [
            "CPU times: user 3min 23s, sys: 6.24 s, total: 3min 29s\n",
            "Wall time: 3min 37s\n"
          ],
          "name": "stdout"
        }
      ]
    },
    {
      "cell_type": "code",
      "metadata": {
        "id": "T9-G0vBwGsNn",
        "colab_type": "code",
        "outputId": "6178c5e9-ce2b-4e2f-bc0e-d792940011d5",
        "colab": {
          "base_uri": "https://localhost:8080/",
          "height": 102
        }
      },
      "source": [
        "%%time\n",
        "import gensim\n",
        "spell_model = gensim.models.KeyedVectors.load_word2vec_format(EMBEDDING_FILE_FASTTEXT)"
      ],
      "execution_count": 59,
      "outputs": [
        {
          "output_type": "stream",
          "text": [
            "/usr/local/lib/python3.6/dist-packages/smart_open/smart_open_lib.py:253: UserWarning: This function is deprecated, use smart_open.open instead. See the migration notes for details: https://github.com/RaRe-Technologies/smart_open/blob/master/README.rst#migrating-to-the-new-open-function\n",
            "  'See the migration notes for details: %s' % _MIGRATION_NOTES_URL\n"
          ],
          "name": "stderr"
        },
        {
          "output_type": "stream",
          "text": [
            "CPU times: user 8min 40s, sys: 5.03 s, total: 8min 45s\n",
            "Wall time: 8min 45s\n"
          ],
          "name": "stdout"
        }
      ]
    },
    {
      "cell_type": "code",
      "metadata": {
        "id": "r02ObvT4S4Lq",
        "colab_type": "code",
        "colab": {}
      },
      "source": [
        "import pickle\n",
        "with open('spell_model.pickle',\"wb\") as f:\n",
        "    pickle.dump(spell_model, f)\n"
      ],
      "execution_count": 0,
      "outputs": []
    },
    {
      "cell_type": "code",
      "metadata": {
        "id": "Z8YgWiL_6xdP",
        "colab_type": "code",
        "colab": {}
      },
      "source": [
        "with open('spell_model.pickle', \"rb\") as f:\n",
        "    spell_model = pickle.load(f)"
      ],
      "execution_count": 0,
      "outputs": []
    },
    {
      "cell_type": "markdown",
      "metadata": {
        "id": "PFcAUn9XYGAo",
        "colab_type": "text"
      },
      "source": [
        "In this part we will use a spelling auto-correction technique to correct the wrong spelt words in the commen_text. This code is  based on: [Spellchecker using Word2vec by CPM](https://www.kaggle.com/cpmpml/spell-checker-using-word2vec)."
      ]
    },
    {
      "cell_type": "code",
      "metadata": {
        "id": "ZUeXoA1IGvkS",
        "colab_type": "code",
        "outputId": "8367212b-fa46-4c03-d544-2cc3d8509925",
        "colab": {
          "base_uri": "https://localhost:8080/",
          "height": 50
        }
      },
      "source": [
        "%%time\n",
        "# This code is  based on: Spellchecker using Word2vec by CPMP\n",
        "# https://www.kaggle.com/cpmpml/spell-checker-using-word2vec\n",
        "\n",
        "words = spell_model.index2word\n",
        "\n",
        "w_rank = {}\n",
        "for i,word in enumerate(words):\n",
        "    w_rank[word] = i\n",
        "\n",
        "WORDS = w_rank\n",
        "\n",
        "# Use fast text as vocabulary\n",
        "def words(text): return re.findall(r'\\w+', text.lower())\n",
        "\n",
        "def P(word): \n",
        "    \"Probability of `word`.\"\n",
        "    # use inverse of rank as proxy\n",
        "    # returns 0 if the word isn't in the dictionary\n",
        "    return - WORDS.get(word, 0)\n",
        "\n",
        "def correction(word): \n",
        "    \"Most probable spelling correction for word.\"\n",
        "    return max(candidates(word), key=P)\n",
        "\n",
        "def candidates(word): \n",
        "    \"Generate possible spelling corrections for word.\"\n",
        "    return (known([word]) or known(edits1(word)) or known(edits2(word)) or [word])\n",
        "\n",
        "def known(words): \n",
        "    \"The subset of `words` that appear in the dictionary of WORDS.\"\n",
        "    return set(w for w in words if w in WORDS)\n",
        "\n",
        "def edits1(word):\n",
        "    \"All edits that are one edit away from `word`.\"\n",
        "    letters    = 'abcdefghijklmnopqrstuvwxyz'\n",
        "    splits     = [(word[:i], word[i:])    for i in range(len(word) + 1)]\n",
        "    deletes    = [L + R[1:]               for L, R in splits if R]\n",
        "    transposes = [L + R[1] + R[0] + R[2:] for L, R in splits if len(R)>1]\n",
        "    replaces   = [L + c + R[1:]           for L, R in splits if R for c in letters]\n",
        "    inserts    = [L + c + R               for L, R in splits for c in letters]\n",
        "    return set(deletes + transposes + replaces + inserts)\n",
        "\n",
        "def edits2(word): \n",
        "    \"All edits that are two edits away from `word`.\"\n",
        "    return (e2 for e1 in edits1(word) for e2 in edits1(e1))\n",
        "\n",
        "def singlify(word):\n",
        "    return \"\".join([letter for i,letter in enumerate(word) if i == 0 or letter != word[i-1]])"
      ],
      "execution_count": 98,
      "outputs": [
        {
          "output_type": "stream",
          "text": [
            "CPU times: user 1.15 s, sys: 82 ms, total: 1.23 s\n",
            "Wall time: 1.23 s\n"
          ],
          "name": "stdout"
        }
      ]
    },
    {
      "cell_type": "markdown",
      "metadata": {
        "id": "LkPAtw2xYbHz",
        "colab_type": "text"
      },
      "source": [
        "We increase max_features to 300000 and maxlen to 900."
      ]
    },
    {
      "cell_type": "code",
      "metadata": {
        "id": "ZbVXKu17RDYz",
        "colab_type": "code",
        "outputId": "aa37117a-4e69-4b27-9005-8fd763624405",
        "colab": {
          "base_uri": "https://localhost:8080/",
          "height": 33
        }
      },
      "source": [
        "max_features = 300000\n",
        "maxlen = 900\n",
        "\n",
        "X_train = X_train_copy\n",
        "X_test = X_test_copy\n",
        "\n",
        "tokenizer = text.Tokenizer(num_words=max_features)\n",
        "tokenizer.fit_on_texts(list(X_train) + list(X_test))\n",
        "X_train_sequence = tokenizer.texts_to_sequences(X_train)\n",
        "X_test_sequence = tokenizer.texts_to_sequences(X_test)\n",
        "\n",
        "x_train = sequence.pad_sequences(X_train_sequence, maxlen=maxlen)\n",
        "x_test = sequence.pad_sequences(X_test_sequence, maxlen=maxlen)\n",
        "print(len(tokenizer.word_index))"
      ],
      "execution_count": 38,
      "outputs": [
        {
          "output_type": "stream",
          "text": [
            "304430\n"
          ],
          "name": "stdout"
        }
      ]
    },
    {
      "cell_type": "code",
      "metadata": {
        "id": "_s_vM0G-RXfm",
        "colab_type": "code",
        "outputId": "4edf2a1b-6ccf-4bfd-cf2f-0cb7bcff2707",
        "colab": {
          "base_uri": "https://localhost:8080/",
          "height": 33
        }
      },
      "source": [
        "gc.collect()"
      ],
      "execution_count": 39,
      "outputs": [
        {
          "output_type": "execute_result",
          "data": {
            "text/plain": [
              "0"
            ]
          },
          "metadata": {
            "tags": []
          },
          "execution_count": 39
        }
      ]
    },
    {
      "cell_type": "markdown",
      "metadata": {
        "id": "sIdD2eQ6Yl3v",
        "colab_type": "text"
      },
      "source": [
        "This is where we build the new diversified embeddings using FastText and GloVe. This takes more 8+hrs to run, so using pickle to save the embedding_matrix for further use."
      ]
    },
    {
      "cell_type": "code",
      "metadata": {
        "id": "DMZ14EgIG0ao",
        "colab_type": "code",
        "colab": {}
      },
      "source": [
        "%%time\n",
        "word_index = tokenizer.word_index\n",
        "nb_words = min(max_features, len(word_index))\n",
        "embedding_matrix = np.zeros((nb_words,501))\n",
        "gc.collect()\n",
        "\n",
        "something_tw = embeddings_index_tw.get(\"something\")\n",
        "something_ft = embeddings_index_ft.get(\"something\")\n",
        "\n",
        "something = np.zeros((501,))\n",
        "something[:300,] = something_ft\n",
        "something[300:500,] = something_tw\n",
        "something[500,] = 0\n",
        "gc.collect()\n",
        "\n",
        "def all_caps(word):\n",
        "    return len(word) > 1 and word.isupper()\n",
        "\n",
        "def embed_word(embedding_matrix,i,word):\n",
        "    embedding_vector_ft = embeddings_index_ft.get(word)\n",
        "    gc.collect()\n",
        "    if embedding_vector_ft is not None: \n",
        "        if all_caps(word):\n",
        "            last_value = np.array([1])\n",
        "        else:\n",
        "            last_value = np.array([0])\n",
        "        embedding_matrix[i,:300] = embedding_vector_ft\n",
        "        embedding_matrix[i,500] = last_value\n",
        "        embedding_vector_tw = embeddings_index_tw.get(word)\n",
        "        if embedding_vector_tw is not None:\n",
        "            embedding_matrix[i,300:500] = embedding_vector_tw\n",
        "\n",
        "            \n",
        "# Fasttext vector is used by itself if there is no glove vector but not the other way around.\n",
        "for word, i in word_index.items():\n",
        "    gc.collect()\n",
        "    if i >= max_features: continue\n",
        "        \n",
        "    if embeddings_index_ft.get(word) is not None:\n",
        "        embed_word(embedding_matrix,i,word)\n",
        "    else:\n",
        "        \n",
        "        if len(word) > 20:\n",
        "            embedding_matrix[i] = something\n",
        "        else:\n",
        "            word2 = correction(word)\n",
        "            if embeddings_index_ft.get(word2) is not None:\n",
        "                embed_word(embedding_matrix,i,word2)\n",
        "            else:\n",
        "                word2 = correction(singlify(word))\n",
        "                if embeddings_index_ft.get(word2) is not None:\n",
        "                    embed_word(embedding_matrix,i,word2)\n",
        "                else:\n",
        "                    embedding_matrix[i] = something "
      ],
      "execution_count": 0,
      "outputs": []
    },
    {
      "cell_type": "code",
      "metadata": {
        "id": "sc7d8ztV94C-",
        "colab_type": "code",
        "colab": {}
      },
      "source": [
        "with open('/content/drive/My Drive/toxicity-classification/combined_embeddings.pickle',\"wb\") as f:\n",
        "    pickle.dump(embedding_matrix, f)"
      ],
      "execution_count": 0,
      "outputs": []
    },
    {
      "cell_type": "code",
      "metadata": {
        "id": "af7vUlHQmJXG",
        "colab_type": "code",
        "colab": {}
      },
      "source": [
        "with open('/content/drive/My Drive/toxicity-classification/combined_embeddings.pickle', \"rb\") as f:\n",
        "    embedding_matrix = pickle.load(f)"
      ],
      "execution_count": 0,
      "outputs": []
    },
    {
      "cell_type": "markdown",
      "metadata": {
        "id": "ZDB5Az41Fr6k",
        "colab_type": "text"
      },
      "source": [
        "### **Re-Training using new Diverse Embeddings**"
      ]
    },
    {
      "cell_type": "code",
      "metadata": {
        "id": "4OHiwxIRDvyb",
        "colab_type": "code",
        "colab": {}
      },
      "source": [
        "# model_input same for each model\n",
        "embed_size = 501\n",
        "maxlen = 900\n",
        "model_input = Input(shape=(maxlen,), dtype='int32')"
      ],
      "execution_count": 0,
      "outputs": []
    },
    {
      "cell_type": "markdown",
      "metadata": {
        "id": "rAih6-3vTkVU",
        "colab_type": "text"
      },
      "source": [
        "We will use the same models from the first round, the only change in these implementations will be a common **input layer** and a new **embedding layer** with diverse embeddings.\n",
        "\n",
        "Implementation of the existing models, with new parameters."
      ]
    },
    {
      "cell_type": "code",
      "metadata": {
        "id": "W7HASj_toRgj",
        "colab_type": "code",
        "colab": {}
      },
      "source": [
        "#model1 GRU with CNN Model\n",
        "def get_model1(model_input):\n",
        "    x = Embedding(max_features, embed_size, weights=[embedding_matrix], trainable=False)(model_input)\n",
        "    x1 = SpatialDropout1D(0.2)(x)\n",
        "   \n",
        "    x = Bidirectional(GRU(128, return_sequences = True))(x1)\n",
        "    x = Conv1D(64, kernel_size = 2, padding = \"valid\", kernel_initializer = \"he_uniform\")(x)\n",
        "\n",
        "    y = Bidirectional(LSTM(128, return_sequences = True))(x1)\n",
        "    y = Conv1D(64, kernel_size = 2, padding = \"valid\", kernel_initializer = \"he_uniform\")(y)\n",
        "\n",
        "    avg_pool1 = GlobalAveragePooling1D()(x)\n",
        "    max_pool1 = GlobalMaxPooling1D()(x)\n",
        "\n",
        "    avg_pool2 = GlobalAveragePooling1D()(y)\n",
        "    max_pool2 = GlobalMaxPooling1D()(y)\n",
        "\n",
        "    x = concatenate([avg_pool1, max_pool1, avg_pool2, max_pool2])\n",
        "    \n",
        "    preds = Dense(6, activation=\"sigmoid\")(x)\n",
        "    model = Model(model_input, preds)\n",
        "    model.compile(loss='binary_crossentropy',optimizer=Adam(lr=1e-3,decay = 0),metrics=['accuracy'])\n",
        "    return model"
      ],
      "execution_count": 0,
      "outputs": []
    },
    {
      "cell_type": "code",
      "metadata": {
        "id": "Pk0tNCkpDkFY",
        "colab_type": "code",
        "colab": {}
      },
      "source": [
        "#model2 Pooled CNN Complex Model\n",
        "def get_model2(model_input):   \n",
        "    filter_nums = 300\n",
        "      \n",
        "    embedded_sequences =  Embedding(max_features, embed_size, weights=[embedding_matrix], trainable=False)(model_input)\n",
        "    embedded_sequences = SpatialDropout1D(0.25)(embedded_sequences)\n",
        "\n",
        "    conv_0 = Conv1D(filter_nums, 1, kernel_initializer=\"normal\", padding=\"valid\", activation=\"relu\")(embedded_sequences)\n",
        "    conv_1 = Conv1D(filter_nums, 2, kernel_initializer=\"normal\", padding=\"valid\", activation=\"relu\")(embedded_sequences)\n",
        "    conv_2 = Conv1D(filter_nums, 3, kernel_initializer=\"normal\", padding=\"valid\", activation=\"relu\")(embedded_sequences)\n",
        "    conv_3 = Conv1D(filter_nums, 4, kernel_initializer=\"normal\", padding=\"valid\", activation=\"relu\")(embedded_sequences)\n",
        "\n",
        "    attn_0 = AttentionWeightedAverage()(conv_0)\n",
        "    avg_0 = GlobalAveragePooling1D()(conv_0)\n",
        "    maxpool_0 = GlobalMaxPooling1D()(conv_0)\n",
        "\n",
        "    maxpool_1 = GlobalMaxPooling1D()(conv_1)\n",
        "    attn_1 = AttentionWeightedAverage()(conv_1)\n",
        "    avg_1 = GlobalAveragePooling1D()(conv_1)\n",
        "\n",
        "    maxpool_2 = GlobalMaxPooling1D()(conv_2)\n",
        "    attn_2 = AttentionWeightedAverage()(conv_2)\n",
        "    avg_2 = GlobalAveragePooling1D()(conv_2)\n",
        "\n",
        "    maxpool_3 = GlobalMaxPooling1D()(conv_3)\n",
        "    attn_3 = AttentionWeightedAverage()(conv_3)\n",
        "    avg_3 = GlobalAveragePooling1D()(conv_3)\n",
        "\n",
        "    v0_col = concatenate([maxpool_0, maxpool_1, maxpool_2, maxpool_3], axis=1)\n",
        "    v1_col = concatenate([attn_0, attn_1, attn_2, attn_3], axis=1)\n",
        "    v2_col = concatenate([avg_1, avg_2, avg_0, avg_3], axis=1)\n",
        "    merged_tensor = concatenate([v0_col, v1_col, v2_col], axis=1)\n",
        "    output = Dropout(0.7)(merged_tensor)\n",
        "    output = Dense(units=144)(output)\n",
        "    output = Activation('relu')(output)\n",
        "    output = Dense(units=6, activation='sigmoid')(output)\n",
        "\n",
        "    model = Model(inputs=model_input, outputs=output)\n",
        "    adam_optimizer = optimizers.Adam(lr=1e-3, decay=1e-6)\n",
        "    model.compile(loss='binary_crossentropy', optimizer=adam_optimizer, metrics=['accuracy'])\n",
        "\n",
        "    return model"
      ],
      "execution_count": 0,
      "outputs": []
    },
    {
      "cell_type": "code",
      "metadata": {
        "id": "u23pYOc3U223",
        "colab_type": "code",
        "colab": {}
      },
      "source": [
        "#model3 Pooled RNN Model\n",
        "def get_model3(model_input):\n",
        "    recurrent_units = 60\n",
        "    \n",
        "    embedded_sequences = Embedding(max_features, embed_size, weights=[embedding_matrix], trainable=False)(model_input)\n",
        "    embedding_layer = SpatialDropout1D(0.25)(embedded_sequences)\n",
        "\n",
        "    rnn_1 = Bidirectional(GRU(recurrent_units, return_sequences=True))(embedding_layer)\n",
        "    rnn_2 = Bidirectional(GRU(recurrent_units, return_sequences=True))(rnn_1)\n",
        "    x = concatenate([rnn_1, rnn_2], axis=2)\n",
        "\n",
        "    last = Lambda(lambda t: t[:, -1], name='last')(x)\n",
        "    maxpool = GlobalMaxPooling1D()(x)\n",
        "    attn = AttentionWeightedAverage()(x)\n",
        "    average = GlobalAveragePooling1D()(x)\n",
        "\n",
        "    all_views = concatenate([last, maxpool, average, attn], axis=1)\n",
        "    x = Dropout(0.5)(all_views)\n",
        "    x = Dense(144, activation=\"relu\")(x)\n",
        "    output_layer = Dense(units=6, activation=\"sigmoid\")(x)\n",
        "\n",
        "    model = Model(inputs=model_input, outputs=output_layer)\n",
        "    adam_optimizer = optimizers.Adam(lr=1e-3, decay=1e-6, clipvalue=5)\n",
        "    model.compile(loss='binary_crossentropy', optimizer=adam_optimizer, metrics=['accuracy'])\n",
        "    return model"
      ],
      "execution_count": 0,
      "outputs": []
    },
    {
      "cell_type": "code",
      "metadata": {
        "id": "JKJR6vAMVbUe",
        "colab_type": "code",
        "colab": {}
      },
      "source": [
        "#model4 KMax Text CNN\n",
        "def get_model4(model_input):\n",
        "    \n",
        "    \n",
        "    filter_nums = 180\n",
        "    drop = 0.6\n",
        "\n",
        "    \n",
        "    embedded_sequences = Embedding(max_features, embed_size, weights=[embedding_matrix], trainable=False)(model_input)\n",
        "    embedded_sequences = SpatialDropout1D(0.2)(embedded_sequences)\n",
        "\n",
        "    conv_0 = Conv1D(filter_nums, 1, kernel_initializer=\"normal\", padding=\"valid\", activation=\"relu\")(embedded_sequences)\n",
        "    conv_1 = Conv1D(filter_nums, 2, kernel_initializer=\"normal\", padding=\"valid\", activation=\"relu\")(embedded_sequences)\n",
        "    conv_2 = Conv1D(filter_nums, 3, kernel_initializer=\"normal\", padding=\"valid\", activation=\"relu\")(embedded_sequences)\n",
        "    conv_3 = Conv1D(filter_nums, 4, kernel_initializer=\"normal\", padding=\"valid\", activation=\"relu\")(embedded_sequences)\n",
        "\n",
        "    maxpool_0 = KMaxPooling(k=3)(conv_0)\n",
        "    maxpool_1 = KMaxPooling(k=3)(conv_1)\n",
        "    maxpool_2 = KMaxPooling(k=3)(conv_2)\n",
        "    maxpool_3 = KMaxPooling(k=3)(conv_3)\n",
        "\n",
        "    merged_tensor = concatenate([maxpool_0, maxpool_1, maxpool_2, maxpool_3], axis=1)\n",
        "    output = Dropout(drop)(merged_tensor)\n",
        "    output = Dense(units=144, activation='relu')(output)\n",
        "    output = Dense(units=6, activation='sigmoid')(output)\n",
        "\n",
        "    model = Model(inputs=model_input, outputs=output)\n",
        "    adam_optimizer = optimizers.Adam(lr=1e-3, decay=1e-7)\n",
        "    model.compile(loss='binary_crossentropy', optimizer=adam_optimizer, metrics=['accuracy'])\n",
        "    return model"
      ],
      "execution_count": 0,
      "outputs": []
    },
    {
      "cell_type": "code",
      "metadata": {
        "id": "F1nvujiixvRP",
        "colab_type": "code",
        "colab": {
          "base_uri": "https://localhost:8080/",
          "height": 553
        },
        "outputId": "43447be0-3ab9-44db-f33d-44a0d67eef99"
      },
      "source": [
        "%%time\n",
        "batch_size = 128\n",
        "epochs = 5\n",
        "\n",
        "model1 = get_model1(model_input)\n",
        "\n",
        "# Use stratified sampling again\n",
        "X_tra, y_tra, X_val, y_val = iterative_train_test_split(x_train, y_train, test_size=0.1)\n",
        "\n",
        "checkpoint = ModelCheckpoint(\"/content/drive/My Drive/toxicity-classification/models/model1.hdf5\", monitor='val_accuracy', verbose=1, save_best_only=True, mode='max')\n",
        "early = EarlyStopping(monitor=\"val_accuracy\", mode=\"max\", patience=3)\n",
        "ra_val = RocAucEvaluation(validation_data=(X_val, y_val), interval = 1)\n",
        "callbacks_list = [ra_val,checkpoint, early]\n",
        "\n",
        "model1history = model1.fit(X_tra, y_tra, batch_size=batch_size, epochs=epochs, validation_data=(X_val, y_val),callbacks = callbacks_list,verbose=1)"
      ],
      "execution_count": 46,
      "outputs": [
        {
          "output_type": "stream",
          "text": [
            "Train on 143613 samples, validate on 15958 samples\n",
            "Epoch 1/5\n",
            "143613/143613 [==============================] - 5699s 40ms/step - loss: 0.0516 - accuracy: 0.9812 - val_loss: 0.0421 - val_accuracy: 0.9836\n",
            "\n",
            " ROC-AUC - epoch: 1 - score: 0.988402\n",
            "\n",
            "Epoch 00001: val_accuracy improved from -inf to 0.98363, saving model to /content/drive/My Drive/toxicity-classification/models/model1.hdf5\n",
            "Epoch 2/5\n",
            "143613/143613 [==============================] - 5712s 40ms/step - loss: 0.0401 - accuracy: 0.9843 - val_loss: 0.0407 - val_accuracy: 0.9844\n",
            "\n",
            " ROC-AUC - epoch: 2 - score: 0.989094\n",
            "\n",
            "Epoch 00002: val_accuracy improved from 0.98363 to 0.98437, saving model to /content/drive/My Drive/toxicity-classification/models/model1.hdf5\n",
            "Epoch 3/5\n",
            "143613/143613 [==============================] - 6057s 42ms/step - loss: 0.0368 - accuracy: 0.9855 - val_loss: 0.0406 - val_accuracy: 0.9845\n",
            "\n",
            " ROC-AUC - epoch: 3 - score: 0.989919\n",
            "\n",
            "Epoch 00003: val_accuracy improved from 0.98437 to 0.98453, saving model to /content/drive/My Drive/toxicity-classification/models/model1.hdf5\n",
            "Epoch 4/5\n",
            "143613/143613 [==============================] - 6074s 42ms/step - loss: 0.0338 - accuracy: 0.9865 - val_loss: 0.0397 - val_accuracy: 0.9847\n",
            "\n",
            " ROC-AUC - epoch: 4 - score: 0.989560\n",
            "\n",
            "Epoch 00004: val_accuracy improved from 0.98453 to 0.98471, saving model to /content/drive/My Drive/toxicity-classification/models/model1.hdf5\n",
            "Epoch 5/5\n",
            "143613/143613 [==============================] - 5794s 40ms/step - loss: 0.0305 - accuracy: 0.9877 - val_loss: 0.0426 - val_accuracy: 0.9838\n",
            "\n",
            " ROC-AUC - epoch: 5 - score: 0.989301\n",
            "\n",
            "Epoch 00005: val_accuracy did not improve from 0.98471\n",
            "CPU times: user 19h 21min 52s, sys: 2h 59min 31s, total: 22h 21min 24s\n",
            "Wall time: 8h 29min 52s\n"
          ],
          "name": "stdout"
        }
      ]
    },
    {
      "cell_type": "code",
      "metadata": {
        "id": "hMfvLg2VWbnT",
        "colab_type": "code",
        "colab": {
          "base_uri": "https://localhost:8080/",
          "height": 50
        },
        "outputId": "9fed55f2-2765-4bc4-c717-f6482e30ef39"
      },
      "source": [
        "model1.load_weights(\"/content/drive/My Drive/toxicity-classification/models/model1.hdf5\")\n",
        "y_pred = model1.predict(x_test,batch_size=1024,verbose=1)\n",
        "\n",
        "predict_scores(y_pred)"
      ],
      "execution_count": 47,
      "outputs": [
        {
          "output_type": "stream",
          "text": [
            "153164/153164 [==============================] - 147s 957us/step\n",
            "Test set score is 0.9832370362201021\n"
          ],
          "name": "stdout"
        }
      ]
    },
    {
      "cell_type": "code",
      "metadata": {
        "id": "L1X9Ak7XjA9F",
        "colab_type": "code",
        "colab": {}
      },
      "source": [
        "model1.save_weights(\"/content/drive/My Drive/toxicity-classification/models/model1.hdf5\")"
      ],
      "execution_count": 0,
      "outputs": []
    },
    {
      "cell_type": "code",
      "metadata": {
        "id": "B6XpUXmSfDLj",
        "colab_type": "code",
        "colab": {
          "base_uri": "https://localhost:8080/",
          "height": 1000
        },
        "outputId": "351f492a-8045-42c0-e120-d1e105014de4"
      },
      "source": [
        "%%time\n",
        "batch_size = 128\n",
        "epochs = 50\n",
        "\n",
        "model2 = get_model2(model_input)\n",
        "\n",
        "# Use stratified sampling again\n",
        "X_tra, y_tra, X_val, y_val = iterative_train_test_split(x_train, y_train, test_size=0.1)\n",
        "\n",
        "checkpoint = ModelCheckpoint(\"model2.hdf5\", monitor='val_accuracy', verbose=1, save_best_only=True, mode='max')\n",
        "early = EarlyStopping(monitor=\"val_accuracy\", mode=\"max\", patience=10)\n",
        "ra_val = RocAucEvaluation(validation_data=(X_val, y_val), interval = 1)\n",
        "callbacks_list = [ra_val,checkpoint, early]\n",
        "\n",
        "model2history = model2.fit(X_tra, y_tra, batch_size=batch_size, epochs=epochs, validation_data=(X_val, y_val),callbacks = callbacks_list,verbose=1)"
      ],
      "execution_count": 53,
      "outputs": [
        {
          "output_type": "stream",
          "text": [
            "Train on 143613 samples, validate on 15958 samples\n",
            "Epoch 1/50\n",
            "143613/143613 [==============================] - 205s 1ms/step - loss: 0.0603 - accuracy: 0.9791 - val_loss: 0.0439 - val_accuracy: 0.9831\n",
            "\n",
            " ROC-AUC - epoch: 1 - score: 0.983423\n",
            "\n",
            "Epoch 00001: val_accuracy improved from -inf to 0.98308, saving model to model2.hdf5\n",
            "Epoch 2/50\n",
            "143613/143613 [==============================] - 203s 1ms/step - loss: 0.0463 - accuracy: 0.9823 - val_loss: 0.0429 - val_accuracy: 0.9834\n",
            "\n",
            " ROC-AUC - epoch: 2 - score: 0.985916\n",
            "\n",
            "Epoch 00002: val_accuracy improved from 0.98308 to 0.98342, saving model to model2.hdf5\n",
            "Epoch 3/50\n",
            "143613/143613 [==============================] - 203s 1ms/step - loss: 0.0438 - accuracy: 0.9829 - val_loss: 0.0417 - val_accuracy: 0.9836\n",
            "\n",
            " ROC-AUC - epoch: 3 - score: 0.986113\n",
            "\n",
            "Epoch 00003: val_accuracy improved from 0.98342 to 0.98355, saving model to model2.hdf5\n",
            "Epoch 4/50\n",
            "143613/143613 [==============================] - 203s 1ms/step - loss: 0.0420 - accuracy: 0.9833 - val_loss: 0.0434 - val_accuracy: 0.9828\n",
            "\n",
            " ROC-AUC - epoch: 4 - score: 0.985872\n",
            "\n",
            "Epoch 00004: val_accuracy did not improve from 0.98355\n",
            "Epoch 5/50\n",
            "143613/143613 [==============================] - 203s 1ms/step - loss: 0.0407 - accuracy: 0.9839 - val_loss: 0.0409 - val_accuracy: 0.9841\n",
            "\n",
            " ROC-AUC - epoch: 5 - score: 0.986538\n",
            "\n",
            "Epoch 00005: val_accuracy improved from 0.98355 to 0.98415, saving model to model2.hdf5\n",
            "Epoch 6/50\n",
            "143613/143613 [==============================] - 203s 1ms/step - loss: 0.0394 - accuracy: 0.9842 - val_loss: 0.0402 - val_accuracy: 0.9843\n",
            "\n",
            " ROC-AUC - epoch: 6 - score: 0.986677\n",
            "\n",
            "Epoch 00006: val_accuracy improved from 0.98415 to 0.98431, saving model to model2.hdf5\n",
            "Epoch 7/50\n",
            "143613/143613 [==============================] - 203s 1ms/step - loss: 0.0384 - accuracy: 0.9846 - val_loss: 0.0406 - val_accuracy: 0.9839\n",
            "\n",
            " ROC-AUC - epoch: 7 - score: 0.986450\n",
            "\n",
            "Epoch 00007: val_accuracy did not improve from 0.98431\n",
            "Epoch 8/50\n",
            "143613/143613 [==============================] - 203s 1ms/step - loss: 0.0374 - accuracy: 0.9849 - val_loss: 0.0404 - val_accuracy: 0.9838\n",
            "\n",
            " ROC-AUC - epoch: 8 - score: 0.987088\n",
            "\n",
            "Epoch 00008: val_accuracy did not improve from 0.98431\n",
            "Epoch 9/50\n",
            "143613/143613 [==============================] - 203s 1ms/step - loss: 0.0369 - accuracy: 0.9852 - val_loss: 0.0399 - val_accuracy: 0.9843\n",
            "\n",
            " ROC-AUC - epoch: 9 - score: 0.987124\n",
            "\n",
            "Epoch 00009: val_accuracy improved from 0.98431 to 0.98432, saving model to model2.hdf5\n",
            "Epoch 10/50\n",
            "143613/143613 [==============================] - 203s 1ms/step - loss: 0.0357 - accuracy: 0.9854 - val_loss: 0.0409 - val_accuracy: 0.9838\n",
            "\n",
            " ROC-AUC - epoch: 10 - score: 0.986377\n",
            "\n",
            "Epoch 00010: val_accuracy did not improve from 0.98432\n",
            "Epoch 11/50\n",
            "143613/143613 [==============================] - 203s 1ms/step - loss: 0.0352 - accuracy: 0.9856 - val_loss: 0.0399 - val_accuracy: 0.9841\n",
            "\n",
            " ROC-AUC - epoch: 11 - score: 0.987467\n",
            "\n",
            "Epoch 00011: val_accuracy did not improve from 0.98432\n",
            "Epoch 12/50\n",
            "143613/143613 [==============================] - 203s 1ms/step - loss: 0.0343 - accuracy: 0.9860 - val_loss: 0.0410 - val_accuracy: 0.9842\n",
            "\n",
            " ROC-AUC - epoch: 12 - score: 0.986847\n",
            "\n",
            "Epoch 00012: val_accuracy did not improve from 0.98432\n",
            "Epoch 13/50\n",
            "143613/143613 [==============================] - 203s 1ms/step - loss: 0.0336 - accuracy: 0.9861 - val_loss: 0.0421 - val_accuracy: 0.9832\n",
            "\n",
            " ROC-AUC - epoch: 13 - score: 0.986377\n",
            "\n",
            "Epoch 00013: val_accuracy did not improve from 0.98432\n",
            "Epoch 14/50\n",
            "143613/143613 [==============================] - 203s 1ms/step - loss: 0.0330 - accuracy: 0.9864 - val_loss: 0.0418 - val_accuracy: 0.9839\n",
            "\n",
            " ROC-AUC - epoch: 14 - score: 0.986205\n",
            "\n",
            "Epoch 00014: val_accuracy did not improve from 0.98432\n",
            "Epoch 15/50\n",
            "143613/143613 [==============================] - 203s 1ms/step - loss: 0.0322 - accuracy: 0.9867 - val_loss: 0.0426 - val_accuracy: 0.9836\n",
            "\n",
            " ROC-AUC - epoch: 15 - score: 0.986254\n",
            "\n",
            "Epoch 00015: val_accuracy did not improve from 0.98432\n",
            "Epoch 16/50\n",
            "143613/143613 [==============================] - 203s 1ms/step - loss: 0.0315 - accuracy: 0.9871 - val_loss: 0.0422 - val_accuracy: 0.9837\n",
            "\n",
            " ROC-AUC - epoch: 16 - score: 0.985834\n",
            "\n",
            "Epoch 00016: val_accuracy did not improve from 0.98432\n",
            "Epoch 17/50\n",
            "143613/143613 [==============================] - 203s 1ms/step - loss: 0.0308 - accuracy: 0.9872 - val_loss: 0.0445 - val_accuracy: 0.9837\n",
            "\n",
            " ROC-AUC - epoch: 17 - score: 0.985299\n",
            "\n",
            "Epoch 00017: val_accuracy did not improve from 0.98432\n",
            "Epoch 18/50\n",
            "143613/143613 [==============================] - 203s 1ms/step - loss: 0.0306 - accuracy: 0.9873 - val_loss: 0.0431 - val_accuracy: 0.9840\n",
            "\n",
            " ROC-AUC - epoch: 18 - score: 0.986245\n",
            "\n",
            "Epoch 00018: val_accuracy did not improve from 0.98432\n",
            "Epoch 19/50\n",
            "143613/143613 [==============================] - 203s 1ms/step - loss: 0.0300 - accuracy: 0.9875 - val_loss: 0.0434 - val_accuracy: 0.9840\n",
            "\n",
            " ROC-AUC - epoch: 19 - score: 0.986182\n",
            "\n",
            "Epoch 00019: val_accuracy did not improve from 0.98432\n",
            "CPU times: user 31min 20s, sys: 17min 59s, total: 49min 19s\n",
            "Wall time: 1h 7min 22s\n"
          ],
          "name": "stdout"
        }
      ]
    },
    {
      "cell_type": "code",
      "metadata": {
        "id": "N1I3ANaM82p2",
        "colab_type": "code",
        "colab": {
          "base_uri": "https://localhost:8080/",
          "height": 50
        },
        "outputId": "f580302b-4ae1-46d2-a942-d707ac68a826"
      },
      "source": [
        "model2.load_weights(\"model2.hdf5\")\n",
        "y_pred = model2.predict(x_test,batch_size=1024,verbose=1)\n",
        "\n",
        "predict_scores(y_pred)"
      ],
      "execution_count": 54,
      "outputs": [
        {
          "output_type": "stream",
          "text": [
            "153164/153164 [==============================] - 68s 443us/step\n",
            "Test set score is 0.9831795279012202\n"
          ],
          "name": "stdout"
        }
      ]
    },
    {
      "cell_type": "code",
      "metadata": {
        "id": "X-OTHXw7LCc-",
        "colab_type": "code",
        "colab": {}
      },
      "source": [
        "model2.save_weights(\"/content/drive/My Drive/toxicity-classification/models/model2.hdf5\")"
      ],
      "execution_count": 0,
      "outputs": []
    },
    {
      "cell_type": "code",
      "metadata": {
        "id": "iqaNk7mCagp7",
        "colab_type": "code",
        "colab": {
          "base_uri": "https://localhost:8080/",
          "height": 553
        },
        "outputId": "afa8f86a-7847-437f-cf89-1438214a8551"
      },
      "source": [
        "%%time\n",
        "batch_size = 128\n",
        "epochs = 5\n",
        "\n",
        "model3 = get_model3(model_input)\n",
        "\n",
        "# Use stratified sampling again\n",
        "X_tra, y_tra, X_val, y_val = iterative_train_test_split(x_train, y_train, test_size=0.1)\n",
        "\n",
        "checkpoint = ModelCheckpoint(\"/content/drive/My Drive/toxicity-classification/models/model3.hdf5\", monitor='val_accuracy', verbose=1, save_best_only=True, mode='max')\n",
        "early = EarlyStopping(monitor=\"val_accuracy\", mode=\"max\", patience=3)\n",
        "ra_val = RocAucEvaluation(validation_data=(X_val, y_val), interval = 1)\n",
        "callbacks_list = [ra_val,checkpoint, early]\n",
        "\n",
        "model3history = model3.fit(X_tra, y_tra, batch_size=batch_size, epochs=epochs, validation_data=(X_val, y_val),callbacks = callbacks_list,verbose=1)\n"
      ],
      "execution_count": 41,
      "outputs": [
        {
          "output_type": "stream",
          "text": [
            "Train on 143613 samples, validate on 15958 samples\n",
            "Epoch 1/5\n",
            "143613/143613 [==============================] - 6465s 45ms/step - loss: 0.0570 - accuracy: 0.9794 - val_loss: 0.0421 - val_accuracy: 0.9837\n",
            "\n",
            " ROC-AUC - epoch: 1 - score: 0.985091\n",
            "\n",
            "Epoch 00001: val_accuracy improved from -inf to 0.98371, saving model to /content/drive/My Drive/toxicity-classification/models/model3.hdf5\n",
            "Epoch 2/5\n",
            "143613/143613 [==============================] - 6553s 46ms/step - loss: 0.0429 - accuracy: 0.9833 - val_loss: 0.0402 - val_accuracy: 0.9844\n",
            "\n",
            " ROC-AUC - epoch: 2 - score: 0.988072\n",
            "\n",
            "Epoch 00002: val_accuracy improved from 0.98371 to 0.98440, saving model to /content/drive/My Drive/toxicity-classification/models/model3.hdf5\n",
            "Epoch 3/5\n",
            "143613/143613 [==============================] - 6652s 46ms/step - loss: 0.0402 - accuracy: 0.9841 - val_loss: 0.0394 - val_accuracy: 0.9848\n",
            "\n",
            " ROC-AUC - epoch: 3 - score: 0.988177\n",
            "\n",
            "Epoch 00003: val_accuracy improved from 0.98440 to 0.98477, saving model to /content/drive/My Drive/toxicity-classification/models/model3.hdf5\n",
            "Epoch 4/5\n",
            "143613/143613 [==============================] - 6647s 46ms/step - loss: 0.0382 - accuracy: 0.9847 - val_loss: 0.0394 - val_accuracy: 0.9848\n",
            "\n",
            " ROC-AUC - epoch: 4 - score: 0.987311\n",
            "\n",
            "Epoch 00004: val_accuracy improved from 0.98477 to 0.98485, saving model to /content/drive/My Drive/toxicity-classification/models/model3.hdf5\n",
            "Epoch 5/5\n",
            "143613/143613 [==============================] - 6671s 46ms/step - loss: 0.0368 - accuracy: 0.9852 - val_loss: 0.0392 - val_accuracy: 0.9846\n",
            "\n",
            " ROC-AUC - epoch: 5 - score: 0.987885\n",
            "\n",
            "Epoch 00005: val_accuracy did not improve from 0.98485\n",
            "CPU times: user 20h 39min 10s, sys: 3h 14min 52s, total: 23h 54min 3s\n",
            "Wall time: 9h 32min 18s\n"
          ],
          "name": "stdout"
        }
      ]
    },
    {
      "cell_type": "code",
      "metadata": {
        "id": "WeY1moQQKdNI",
        "colab_type": "code",
        "colab": {
          "base_uri": "https://localhost:8080/",
          "height": 50
        },
        "outputId": "772da8aa-d6bc-435a-e38d-168ba6b52138"
      },
      "source": [
        "model3.load_weights(\"/content/drive/My Drive/toxicity-classification/models/model3.hdf5\")\n",
        "y_pred = model3.predict(x_test,batch_size=1024,verbose=1)\n",
        "\n",
        "predict_scores(y_pred)"
      ],
      "execution_count": 42,
      "outputs": [
        {
          "output_type": "stream",
          "text": [
            "153164/153164 [==============================] - 97s 632us/step\n",
            "Test set score is 0.9837336965659684\n"
          ],
          "name": "stdout"
        }
      ]
    },
    {
      "cell_type": "code",
      "metadata": {
        "id": "Neqe_FGYKjOO",
        "colab_type": "code",
        "colab": {}
      },
      "source": [
        "model3.save_weights(\"/content/drive/My Drive/toxicity-classification/models/model3.hdf5\")"
      ],
      "execution_count": 0,
      "outputs": []
    },
    {
      "cell_type": "code",
      "metadata": {
        "id": "dEDJLcbeKIiJ",
        "colab_type": "code",
        "colab": {
          "base_uri": "https://localhost:8080/",
          "height": 1000
        },
        "outputId": "56aacbad-4c09-4a97-8562-db7180553a9d"
      },
      "source": [
        "%%time\n",
        "batch_size = 128\n",
        "epochs = 50\n",
        "\n",
        "model4 = get_model4(model_input)\n",
        "\n",
        "# Use stratified sampling again\n",
        "X_tra, y_tra, X_val, y_val = iterative_train_test_split(x_train, y_train, test_size=0.1)\n",
        "\n",
        "checkpoint = ModelCheckpoint(\"model4.hdf5\", monitor='val_accuracy', verbose=1, save_best_only=True, mode='max')\n",
        "early = EarlyStopping(monitor=\"val_accuracy\", mode=\"max\", patience=10)\n",
        "ra_val = RocAucEvaluation(validation_data=(X_val, y_val), interval = 1)\n",
        "callbacks_list = [ra_val,checkpoint, early]\n",
        "\n",
        "model4history = model4.fit(X_tra, y_tra, batch_size=batch_size, epochs=epochs, validation_data=(X_val, y_val),callbacks = callbacks_list,verbose=1)\n",
        "\n"
      ],
      "execution_count": 59,
      "outputs": [
        {
          "output_type": "stream",
          "text": [
            "Train on 143613 samples, validate on 15958 samples\n",
            "Epoch 1/50\n",
            "143613/143613 [==============================] - 223s 2ms/step - loss: 0.0592 - accuracy: 0.9794 - val_loss: 0.0450 - val_accuracy: 0.9826\n",
            "\n",
            " ROC-AUC - epoch: 1 - score: 0.983776\n",
            "\n",
            "Epoch 00001: val_accuracy improved from -inf to 0.98261, saving model to model4.hdf5\n",
            "Epoch 2/50\n",
            "143613/143613 [==============================] - 221s 2ms/step - loss: 0.0455 - accuracy: 0.9825 - val_loss: 0.0446 - val_accuracy: 0.9823\n",
            "\n",
            " ROC-AUC - epoch: 2 - score: 0.986751\n",
            "\n",
            "Epoch 00002: val_accuracy did not improve from 0.98261\n",
            "Epoch 3/50\n",
            "143613/143613 [==============================] - 221s 2ms/step - loss: 0.0428 - accuracy: 0.9831 - val_loss: 0.0443 - val_accuracy: 0.9827\n",
            "\n",
            " ROC-AUC - epoch: 3 - score: 0.986556\n",
            "\n",
            "Epoch 00003: val_accuracy improved from 0.98261 to 0.98265, saving model to model4.hdf5\n",
            "Epoch 4/50\n",
            "143613/143613 [==============================] - 221s 2ms/step - loss: 0.0412 - accuracy: 0.9836 - val_loss: 0.0408 - val_accuracy: 0.9841\n",
            "\n",
            " ROC-AUC - epoch: 4 - score: 0.987480\n",
            "\n",
            "Epoch 00004: val_accuracy improved from 0.98265 to 0.98408, saving model to model4.hdf5\n",
            "Epoch 5/50\n",
            "143613/143613 [==============================] - 221s 2ms/step - loss: 0.0402 - accuracy: 0.9840 - val_loss: 0.0406 - val_accuracy: 0.9842\n",
            "\n",
            " ROC-AUC - epoch: 5 - score: 0.987090\n",
            "\n",
            "Epoch 00005: val_accuracy improved from 0.98408 to 0.98417, saving model to model4.hdf5\n",
            "Epoch 6/50\n",
            "143613/143613 [==============================] - 221s 2ms/step - loss: 0.0389 - accuracy: 0.9844 - val_loss: 0.0402 - val_accuracy: 0.9839\n",
            "\n",
            " ROC-AUC - epoch: 6 - score: 0.988030\n",
            "\n",
            "Epoch 00006: val_accuracy did not improve from 0.98417\n",
            "Epoch 7/50\n",
            "143613/143613 [==============================] - 221s 2ms/step - loss: 0.0379 - accuracy: 0.9848 - val_loss: 0.0403 - val_accuracy: 0.9838\n",
            "\n",
            " ROC-AUC - epoch: 7 - score: 0.987665\n",
            "\n",
            "Epoch 00007: val_accuracy did not improve from 0.98417\n",
            "Epoch 8/50\n",
            "143613/143613 [==============================] - 221s 2ms/step - loss: 0.0371 - accuracy: 0.9850 - val_loss: 0.0403 - val_accuracy: 0.9840\n",
            "\n",
            " ROC-AUC - epoch: 8 - score: 0.988059\n",
            "\n",
            "Epoch 00008: val_accuracy did not improve from 0.98417\n",
            "Epoch 9/50\n",
            "143613/143613 [==============================] - 221s 2ms/step - loss: 0.0362 - accuracy: 0.9852 - val_loss: 0.0415 - val_accuracy: 0.9833\n",
            "\n",
            " ROC-AUC - epoch: 9 - score: 0.988344\n",
            "\n",
            "Epoch 00009: val_accuracy did not improve from 0.98417\n",
            "Epoch 10/50\n",
            "143613/143613 [==============================] - 221s 2ms/step - loss: 0.0355 - accuracy: 0.9856 - val_loss: 0.0406 - val_accuracy: 0.9839\n",
            "\n",
            " ROC-AUC - epoch: 10 - score: 0.987670\n",
            "\n",
            "Epoch 00010: val_accuracy did not improve from 0.98417\n",
            "Epoch 11/50\n",
            "143613/143613 [==============================] - 221s 2ms/step - loss: 0.0346 - accuracy: 0.9857 - val_loss: 0.0413 - val_accuracy: 0.9840\n",
            "\n",
            " ROC-AUC - epoch: 11 - score: 0.987590\n",
            "\n",
            "Epoch 00011: val_accuracy did not improve from 0.98417\n",
            "Epoch 12/50\n",
            "143613/143613 [==============================] - 221s 2ms/step - loss: 0.0338 - accuracy: 0.9861 - val_loss: 0.0412 - val_accuracy: 0.9841\n",
            "\n",
            " ROC-AUC - epoch: 12 - score: 0.987189\n",
            "\n",
            "Epoch 00012: val_accuracy did not improve from 0.98417\n",
            "Epoch 13/50\n",
            "143613/143613 [==============================] - 222s 2ms/step - loss: 0.0334 - accuracy: 0.9862 - val_loss: 0.0410 - val_accuracy: 0.9838\n",
            "\n",
            " ROC-AUC - epoch: 13 - score: 0.988048\n",
            "\n",
            "Epoch 00013: val_accuracy did not improve from 0.98417\n",
            "Epoch 14/50\n",
            "143613/143613 [==============================] - 221s 2ms/step - loss: 0.0324 - accuracy: 0.9867 - val_loss: 0.0418 - val_accuracy: 0.9837\n",
            "\n",
            " ROC-AUC - epoch: 14 - score: 0.988209\n",
            "\n",
            "Epoch 00014: val_accuracy did not improve from 0.98417\n",
            "Epoch 15/50\n",
            "143613/143613 [==============================] - 221s 2ms/step - loss: 0.0316 - accuracy: 0.9869 - val_loss: 0.0420 - val_accuracy: 0.9839\n",
            "\n",
            " ROC-AUC - epoch: 15 - score: 0.987854\n",
            "\n",
            "Epoch 00015: val_accuracy did not improve from 0.98417\n",
            "CPU times: user 17min 17s, sys: 8min 1s, total: 25min 18s\n",
            "Wall time: 59min 42s\n"
          ],
          "name": "stdout"
        }
      ]
    },
    {
      "cell_type": "code",
      "metadata": {
        "id": "9X9NX5eeKzsA",
        "colab_type": "code",
        "colab": {
          "base_uri": "https://localhost:8080/",
          "height": 50
        },
        "outputId": "9241f482-2212-4b79-e9ae-cab7b81f74a5"
      },
      "source": [
        "model4.load_weights(\"model4.hdf5\")\n",
        "y_pred = model4.predict(x_test,batch_size=1024,verbose=1)\n",
        "\n",
        "predict_scores(y_pred)"
      ],
      "execution_count": 60,
      "outputs": [
        {
          "output_type": "stream",
          "text": [
            "153164/153164 [==============================] - 144s 941us/step\n",
            "Test set score is 0.9830153706777307\n"
          ],
          "name": "stdout"
        }
      ]
    },
    {
      "cell_type": "code",
      "metadata": {
        "id": "HgSGDVD4K02K",
        "colab_type": "code",
        "colab": {}
      },
      "source": [
        "model4.save_weights(\"/content/drive/My Drive/toxicity-classification/models/model4.hdf5\")"
      ],
      "execution_count": 0,
      "outputs": []
    },
    {
      "cell_type": "markdown",
      "metadata": {
        "id": "b8os3HjzIwN-",
        "colab_type": "text"
      },
      "source": [
        "Visualization for the Training/ Validaiton Loss/Accuracy graphs."
      ]
    },
    {
      "cell_type": "code",
      "metadata": {
        "id": "3dF_d8JDs6Fz",
        "colab_type": "code",
        "colab": {
          "base_uri": "https://localhost:8080/",
          "height": 728
        },
        "outputId": "61cb6e4e-d425-4844-d1da-456631930f7a"
      },
      "source": [
        "plt.figure(figsize=(20,10))\n",
        "\n",
        "# Get training and test loss histories\n",
        "training_accuracy = model1history.history['accuracy']\n",
        "validation_accuracy = model1history.history['val_accuracy']\n",
        "# Create count of the number of epochs\n",
        "epoch_count_1 = range(1, len(training_accuracy) + 1)\n",
        "\n",
        "# Visualize loss history\n",
        "plt.subplot(4, 2, 1)\n",
        "plt.plot(epoch_count_1, training_accuracy, 'r--')\n",
        "plt.plot(epoch_count_1, validation_accuracy, 'b-')\n",
        "plt.legend(['Training Accuracy', 'Validation Accuracy'])\n",
        "plt.xlabel('Epoch')\n",
        "plt.ylabel('Accuracy')\n",
        "\n",
        "# Get training and test loss histories\n",
        "training_loss = model1history.history['loss']\n",
        "validation_loss = model1history.history['val_loss']\n",
        "\n",
        "# Create count of the number of epochs\n",
        "epoch_count_2 = range(1, len(training_loss) + 1)\n",
        "\n",
        "# Visualize loss history\n",
        "plt.subplot(4, 2, 2)\n",
        "plt.plot(epoch_count_2, training_loss, 'r--')\n",
        "plt.plot(epoch_count_2, validation_loss, 'b-')\n",
        "plt.legend(['Training Loss', 'Validation Loss'])\n",
        "plt.xlabel('Epoch')\n",
        "plt.ylabel('Loss')\n",
        "\n",
        "####\n",
        "\n",
        "# Get training and test loss histories\n",
        "training_accuracy = model2history.history['accuracy']\n",
        "validation_accuracy = model2history.history['val_accuracy']\n",
        "# Create count of the number of epochs\n",
        "epoch_count_1 = range(1, len(training_accuracy) + 1)\n",
        "\n",
        "# Visualize loss history\n",
        "plt.subplot(4, 2, 3)\n",
        "plt.plot(epoch_count_1, training_accuracy, 'r--')\n",
        "plt.plot(epoch_count_1, validation_accuracy, 'b-')\n",
        "plt.legend(['Training Accuracy', 'Validation Accuracy'])\n",
        "plt.xlabel('Epoch')\n",
        "plt.ylabel('Accuracy')\n",
        "\n",
        "# Get training and test loss histories\n",
        "training_loss = model2history.history['loss']\n",
        "validation_loss = model2history.history['val_loss']\n",
        "\n",
        "# Create count of the number of epochs\n",
        "epoch_count_2 = range(1, len(training_loss) + 1)\n",
        "\n",
        "# Visualize loss history\n",
        "plt.subplot(4, 2, 4)\n",
        "plt.plot(epoch_count_2, training_loss, 'r--')\n",
        "plt.plot(epoch_count_2, validation_loss, 'b-')\n",
        "plt.legend(['Training Loss', 'Validation Loss'])\n",
        "plt.xlabel('Epoch')\n",
        "plt.ylabel('Loss')\n",
        "\n",
        "###\n",
        "\n",
        "\n",
        "# Get training and test loss histories\n",
        "training_accuracy = model1history.history['accuracy']\n",
        "validation_accuracy = model1history.history['val_accuracy']\n",
        "# Create count of the number of epochs\n",
        "epoch_count_1 = range(1, len(training_accuracy) + 1)\n",
        "\n",
        "# Visualize loss history\n",
        "plt.subplot(4, 2, 5)\n",
        "plt.plot(epoch_count_1, training_accuracy, 'r--')\n",
        "plt.plot(epoch_count_1, validation_accuracy, 'b-')\n",
        "plt.legend(['Training Accuracy', 'Validation Accuracy'])\n",
        "plt.xlabel('Epoch')\n",
        "plt.ylabel('Accuracy')\n",
        "\n",
        "# Get training and test loss histories\n",
        "training_loss = model1history.history['loss']\n",
        "validation_loss = model1history.history['val_loss']\n",
        "\n",
        "# Create count of the number of epochs\n",
        "epoch_count_2 = range(1, len(training_loss) + 1)\n",
        "\n",
        "# Visualize loss history\n",
        "plt.subplot(4, 2, 6)\n",
        "plt.plot(epoch_count_2, training_loss, 'r--')\n",
        "plt.plot(epoch_count_2, validation_loss, 'b-')\n",
        "plt.legend(['Training Loss', 'Validation Loss'])\n",
        "plt.xlabel('Epoch')\n",
        "plt.ylabel('Loss')\n",
        "\n",
        "###\n",
        "\n",
        "\n",
        "# Get training and test loss histories\n",
        "training_accuracy = model4history.history['accuracy']\n",
        "validation_accuracy = model4history.history['val_accuracy']\n",
        "# Create count of the number of epochs\n",
        "epoch_count_1 = range(1, len(training_accuracy) + 1)\n",
        "\n",
        "# Visualize loss history\n",
        "plt.subplot(4, 2, 7)\n",
        "plt.plot(epoch_count_1, training_accuracy, 'r--')\n",
        "plt.plot(epoch_count_1, validation_accuracy, 'b-')\n",
        "plt.legend(['Training Accuracy', 'Validation Accuracy'])\n",
        "plt.xlabel('Epoch')\n",
        "plt.ylabel('Accuracy')\n",
        "\n",
        "# Get training and test loss histories\n",
        "training_loss = model4history.history['loss']\n",
        "validation_loss = model4history.history['val_loss']\n",
        "\n",
        "# Create count of the number of epochs\n",
        "epoch_count_2 = range(1, len(training_loss) + 1)\n",
        "\n",
        "# Visualize loss history\n",
        "plt.subplot(4, 2, 8)\n",
        "plt.plot(epoch_count_2, training_loss, 'r--')\n",
        "plt.plot(epoch_count_2, validation_loss, 'b-')\n",
        "plt.legend(['Training Loss', 'Validation Loss'])\n",
        "plt.xlabel('Epoch')\n",
        "plt.ylabel('Loss')\n",
        "\n",
        "\n",
        "plt.tight_layout()\n",
        "plt.show()"
      ],
      "execution_count": 66,
      "outputs": [
        {
          "output_type": "display_data",
          "data": {
            "image/png": "[encoded data removed]",
            "text/plain": [
              "<Figure size 1440x720 with 8 Axes>"
            ]
          },
          "metadata": {
            "tags": [],
            "needs_background": "light"
          }
        }
      ]
    },
    {
      "cell_type": "markdown",
      "metadata": {
        "id": "EQlKkS4WHFLr",
        "colab_type": "text"
      },
      "source": [
        "### **Ensemble**\n",
        "\n",
        "In statistics and machine learning, ensemble methods use multiple learning algorithms to obtain better predictive performance than could be obtained from any of the constituent learning algorithms alone. This is referenced from [Popular Ensemble Methods: An Empirical Study](https://arxiv.org/abs/1106.0257).\n",
        "\n",
        "If you look at results of a top machine learning competitions on Kaggle, you will most likely find that the top results are achieved by an ensemble of models rather than a single model.\n",
        "\n",
        "There are many different types of ensembles; stacking is one of them. It is one of the more general types and can theoretically represent any other ensemble technique. Stacking involves training a learning algorithm to combine the predictions of several other learning algorithms. In this project, We will use one of the simplest forms of Stacking, which involves taking an average of outputs of models in the ensemble. Here we have already trained our models, so we will use those trained models, load their weights and take the average of their outputs.\n",
        "\n",
        "For ensemble, I will use the top three performing models."
      ]
    },
    {
      "cell_type": "code",
      "metadata": {
        "id": "oRxLOsb2tiOB",
        "colab_type": "code",
        "colab": {}
      },
      "source": [
        "model1.load_weights(\"/content/drive/My Drive/toxicity-classification/models/model1.hdf5\")\n",
        "model2.load_weights(\"/content/drive/My Drive/toxicity-classification/models/model2.hdf5\")\n",
        "model3.load_weights(\"/content/drive/My Drive/toxicity-classification/models/model3.hdf5\")\n",
        "model4.load_weights(\"/content/drive/My Drive/toxicity-classification/models/model4.hdf5\")\n",
        "\n",
        "models = [model1,model2,model4]"
      ],
      "execution_count": 0,
      "outputs": []
    },
    {
      "cell_type": "code",
      "metadata": {
        "id": "pYH_C8jOeG3e",
        "colab_type": "code",
        "colab": {}
      },
      "source": [
        "model3 = get_model3(model_input)"
      ],
      "execution_count": 0,
      "outputs": []
    },
    {
      "cell_type": "code",
      "metadata": {
        "id": "FVZ9HjJaHnl-",
        "colab_type": "code",
        "colab": {}
      },
      "source": [
        "from keras.layers import Average\n",
        "def ensemble(models, model_input):\n",
        "    \n",
        "    outputs = [model.outputs[0] for model in models]\n",
        "    y = Average()(outputs)\n",
        "    \n",
        "    model = Model(model_input, y, name='ensemble')\n",
        "    \n",
        "    return model"
      ],
      "execution_count": 0,
      "outputs": []
    },
    {
      "cell_type": "code",
      "metadata": {
        "id": "khv8yQXVH2iD",
        "colab_type": "code",
        "colab": {}
      },
      "source": [
        "ensemble_model = ensemble(models, model_input)\n"
      ],
      "execution_count": 0,
      "outputs": []
    },
    {
      "cell_type": "code",
      "metadata": {
        "id": "OeoVBlW6KQiW",
        "colab_type": "code",
        "colab": {
          "base_uri": "https://localhost:8080/",
          "height": 410
        },
        "outputId": "1a4167e4-03ae-4e64-bcb7-d872bc597110"
      },
      "source": [
        "y_pred = ensemble_model.predict(x_test,batch_size=1024,verbose=1)\n",
        "predict_scores(y_pred)"
      ],
      "execution_count": 78,
      "outputs": [
        {
          "output_type": "error",
          "ename": "ResourceExhaustedError",
          "evalue": "ignored",
          "traceback": [
            "\u001b[0;31m---------------------------------------------------------------------------\u001b[0m",
            "\u001b[0;31mResourceExhaustedError\u001b[0m                    Traceback (most recent call last)",
            "\u001b[0;32m<ipython-input-78-b82fe26234ee>\u001b[0m in \u001b[0;36m<module>\u001b[0;34m()\u001b[0m\n\u001b[0;32m----> 1\u001b[0;31m \u001b[0my_pred\u001b[0m \u001b[0;34m=\u001b[0m \u001b[0mensemble_model\u001b[0m\u001b[0;34m.\u001b[0m\u001b[0mpredict\u001b[0m\u001b[0;34m(\u001b[0m\u001b[0mx_test\u001b[0m\u001b[0;34m,\u001b[0m\u001b[0mbatch_size\u001b[0m\u001b[0;34m=\u001b[0m\u001b[0;36m1024\u001b[0m\u001b[0;34m,\u001b[0m\u001b[0mverbose\u001b[0m\u001b[0;34m=\u001b[0m\u001b[0;36m1\u001b[0m\u001b[0;34m)\u001b[0m\u001b[0;34m\u001b[0m\u001b[0;34m\u001b[0m\u001b[0m\n\u001b[0m\u001b[1;32m      2\u001b[0m \u001b[0mpredict_scores\u001b[0m\u001b[0;34m(\u001b[0m\u001b[0my_pred\u001b[0m\u001b[0;34m)\u001b[0m\u001b[0;34m\u001b[0m\u001b[0;34m\u001b[0m\u001b[0m\n",
            "\u001b[0;32m/usr/local/lib/python3.6/dist-packages/keras/engine/training.py\u001b[0m in \u001b[0;36mpredict\u001b[0;34m(self, x, batch_size, verbose, steps, callbacks, max_queue_size, workers, use_multiprocessing)\u001b[0m\n\u001b[1;32m   1460\u001b[0m                                             \u001b[0mverbose\u001b[0m\u001b[0;34m=\u001b[0m\u001b[0mverbose\u001b[0m\u001b[0;34m,\u001b[0m\u001b[0;34m\u001b[0m\u001b[0;34m\u001b[0m\u001b[0m\n\u001b[1;32m   1461\u001b[0m                                             \u001b[0msteps\u001b[0m\u001b[0;34m=\u001b[0m\u001b[0msteps\u001b[0m\u001b[0;34m,\u001b[0m\u001b[0;34m\u001b[0m\u001b[0;34m\u001b[0m\u001b[0m\n\u001b[0;32m-> 1462\u001b[0;31m                                             callbacks=callbacks)\n\u001b[0m\u001b[1;32m   1463\u001b[0m \u001b[0;34m\u001b[0m\u001b[0m\n\u001b[1;32m   1464\u001b[0m     def train_on_batch(self, x, y,\n",
            "\u001b[0;32m/usr/local/lib/python3.6/dist-packages/keras/engine/training_arrays.py\u001b[0m in \u001b[0;36mpredict_loop\u001b[0;34m(model, f, ins, batch_size, verbose, steps, callbacks)\u001b[0m\n\u001b[1;32m    322\u001b[0m             \u001b[0mbatch_logs\u001b[0m \u001b[0;34m=\u001b[0m \u001b[0;34m{\u001b[0m\u001b[0;34m'batch'\u001b[0m\u001b[0;34m:\u001b[0m \u001b[0mbatch_index\u001b[0m\u001b[0;34m,\u001b[0m \u001b[0;34m'size'\u001b[0m\u001b[0;34m:\u001b[0m \u001b[0mlen\u001b[0m\u001b[0;34m(\u001b[0m\u001b[0mbatch_ids\u001b[0m\u001b[0;34m)\u001b[0m\u001b[0;34m}\u001b[0m\u001b[0;34m\u001b[0m\u001b[0;34m\u001b[0m\u001b[0m\n\u001b[1;32m    323\u001b[0m             \u001b[0mcallbacks\u001b[0m\u001b[0;34m.\u001b[0m\u001b[0m_call_batch_hook\u001b[0m\u001b[0;34m(\u001b[0m\u001b[0;34m'predict'\u001b[0m\u001b[0;34m,\u001b[0m \u001b[0;34m'begin'\u001b[0m\u001b[0;34m,\u001b[0m \u001b[0mbatch_index\u001b[0m\u001b[0;34m,\u001b[0m \u001b[0mbatch_logs\u001b[0m\u001b[0;34m)\u001b[0m\u001b[0;34m\u001b[0m\u001b[0;34m\u001b[0m\u001b[0m\n\u001b[0;32m--> 324\u001b[0;31m             \u001b[0mbatch_outs\u001b[0m \u001b[0;34m=\u001b[0m \u001b[0mf\u001b[0m\u001b[0;34m(\u001b[0m\u001b[0mins_batch\u001b[0m\u001b[0;34m)\u001b[0m\u001b[0;34m\u001b[0m\u001b[0;34m\u001b[0m\u001b[0m\n\u001b[0m\u001b[1;32m    325\u001b[0m             \u001b[0mbatch_outs\u001b[0m \u001b[0;34m=\u001b[0m \u001b[0mto_list\u001b[0m\u001b[0;34m(\u001b[0m\u001b[0mbatch_outs\u001b[0m\u001b[0;34m)\u001b[0m\u001b[0;34m\u001b[0m\u001b[0;34m\u001b[0m\u001b[0m\n\u001b[1;32m    326\u001b[0m             \u001b[0;32mif\u001b[0m \u001b[0mbatch_index\u001b[0m \u001b[0;34m==\u001b[0m \u001b[0;36m0\u001b[0m\u001b[0;34m:\u001b[0m\u001b[0;34m\u001b[0m\u001b[0;34m\u001b[0m\u001b[0m\n",
            "\u001b[0;32m/usr/local/lib/python3.6/dist-packages/tensorflow/python/keras/backend.py\u001b[0m in \u001b[0;36m__call__\u001b[0;34m(self, inputs)\u001b[0m\n\u001b[1;32m   3790\u001b[0m         \u001b[0mvalue\u001b[0m \u001b[0;34m=\u001b[0m \u001b[0mmath_ops\u001b[0m\u001b[0;34m.\u001b[0m\u001b[0mcast\u001b[0m\u001b[0;34m(\u001b[0m\u001b[0mvalue\u001b[0m\u001b[0;34m,\u001b[0m \u001b[0mtensor\u001b[0m\u001b[0;34m.\u001b[0m\u001b[0mdtype\u001b[0m\u001b[0;34m)\u001b[0m\u001b[0;34m\u001b[0m\u001b[0;34m\u001b[0m\u001b[0m\n\u001b[1;32m   3791\u001b[0m       \u001b[0mconverted_inputs\u001b[0m\u001b[0;34m.\u001b[0m\u001b[0mappend\u001b[0m\u001b[0;34m(\u001b[0m\u001b[0mvalue\u001b[0m\u001b[0;34m)\u001b[0m\u001b[0;34m\u001b[0m\u001b[0;34m\u001b[0m\u001b[0m\n\u001b[0;32m-> 3792\u001b[0;31m     \u001b[0moutputs\u001b[0m \u001b[0;34m=\u001b[0m \u001b[0mself\u001b[0m\u001b[0;34m.\u001b[0m\u001b[0m_graph_fn\u001b[0m\u001b[0;34m(\u001b[0m\u001b[0;34m*\u001b[0m\u001b[0mconverted_inputs\u001b[0m\u001b[0;34m)\u001b[0m\u001b[0;34m\u001b[0m\u001b[0;34m\u001b[0m\u001b[0m\n\u001b[0m\u001b[1;32m   3793\u001b[0m \u001b[0;34m\u001b[0m\u001b[0m\n\u001b[1;32m   3794\u001b[0m     \u001b[0;31m# EagerTensor.numpy() will often make a copy to ensure memory safety.\u001b[0m\u001b[0;34m\u001b[0m\u001b[0;34m\u001b[0m\u001b[0;34m\u001b[0m\u001b[0m\n",
            "\u001b[0;32m/usr/local/lib/python3.6/dist-packages/tensorflow/python/eager/function.py\u001b[0m in \u001b[0;36m__call__\u001b[0;34m(self, *args, **kwargs)\u001b[0m\n\u001b[1;32m   1603\u001b[0m       \u001b[0mTypeError\u001b[0m\u001b[0;34m:\u001b[0m \u001b[0mFor\u001b[0m \u001b[0minvalid\u001b[0m \u001b[0mpositional\u001b[0m\u001b[0;34m/\u001b[0m\u001b[0mkeyword\u001b[0m \u001b[0margument\u001b[0m \u001b[0mcombinations\u001b[0m\u001b[0;34m.\u001b[0m\u001b[0;34m\u001b[0m\u001b[0;34m\u001b[0m\u001b[0m\n\u001b[1;32m   1604\u001b[0m     \"\"\"\n\u001b[0;32m-> 1605\u001b[0;31m     \u001b[0;32mreturn\u001b[0m \u001b[0mself\u001b[0m\u001b[0;34m.\u001b[0m\u001b[0m_call_impl\u001b[0m\u001b[0;34m(\u001b[0m\u001b[0margs\u001b[0m\u001b[0;34m,\u001b[0m \u001b[0mkwargs\u001b[0m\u001b[0;34m)\u001b[0m\u001b[0;34m\u001b[0m\u001b[0;34m\u001b[0m\u001b[0m\n\u001b[0m\u001b[1;32m   1606\u001b[0m \u001b[0;34m\u001b[0m\u001b[0m\n\u001b[1;32m   1607\u001b[0m   \u001b[0;32mdef\u001b[0m \u001b[0m_call_impl\u001b[0m\u001b[0;34m(\u001b[0m\u001b[0mself\u001b[0m\u001b[0;34m,\u001b[0m \u001b[0margs\u001b[0m\u001b[0;34m,\u001b[0m \u001b[0mkwargs\u001b[0m\u001b[0;34m,\u001b[0m \u001b[0mcancellation_manager\u001b[0m\u001b[0;34m=\u001b[0m\u001b[0;32mNone\u001b[0m\u001b[0;34m)\u001b[0m\u001b[0;34m:\u001b[0m\u001b[0;34m\u001b[0m\u001b[0;34m\u001b[0m\u001b[0m\n",
            "\u001b[0;32m/usr/local/lib/python3.6/dist-packages/tensorflow/python/eager/function.py\u001b[0m in \u001b[0;36m_call_impl\u001b[0;34m(self, args, kwargs, cancellation_manager)\u001b[0m\n\u001b[1;32m   1643\u001b[0m       raise TypeError(\"Keyword arguments {} unknown. Expected {}.\".format(\n\u001b[1;32m   1644\u001b[0m           list(kwargs.keys()), list(self._arg_keywords)))\n\u001b[0;32m-> 1645\u001b[0;31m     \u001b[0;32mreturn\u001b[0m \u001b[0mself\u001b[0m\u001b[0;34m.\u001b[0m\u001b[0m_call_flat\u001b[0m\u001b[0;34m(\u001b[0m\u001b[0margs\u001b[0m\u001b[0;34m,\u001b[0m \u001b[0mself\u001b[0m\u001b[0;34m.\u001b[0m\u001b[0mcaptured_inputs\u001b[0m\u001b[0;34m,\u001b[0m \u001b[0mcancellation_manager\u001b[0m\u001b[0;34m)\u001b[0m\u001b[0;34m\u001b[0m\u001b[0;34m\u001b[0m\u001b[0m\n\u001b[0m\u001b[1;32m   1646\u001b[0m \u001b[0;34m\u001b[0m\u001b[0m\n\u001b[1;32m   1647\u001b[0m   \u001b[0;32mdef\u001b[0m \u001b[0m_filtered_call\u001b[0m\u001b[0;34m(\u001b[0m\u001b[0mself\u001b[0m\u001b[0;34m,\u001b[0m \u001b[0margs\u001b[0m\u001b[0;34m,\u001b[0m \u001b[0mkwargs\u001b[0m\u001b[0;34m)\u001b[0m\u001b[0;34m:\u001b[0m\u001b[0;34m\u001b[0m\u001b[0;34m\u001b[0m\u001b[0m\n",
            "\u001b[0;32m/usr/local/lib/python3.6/dist-packages/tensorflow/python/eager/function.py\u001b[0m in \u001b[0;36m_call_flat\u001b[0;34m(self, args, captured_inputs, cancellation_manager)\u001b[0m\n\u001b[1;32m   1744\u001b[0m       \u001b[0;31m# No tape is watching; skip to running the function.\u001b[0m\u001b[0;34m\u001b[0m\u001b[0;34m\u001b[0m\u001b[0;34m\u001b[0m\u001b[0m\n\u001b[1;32m   1745\u001b[0m       return self._build_call_outputs(self._inference_function.call(\n\u001b[0;32m-> 1746\u001b[0;31m           ctx, args, cancellation_manager=cancellation_manager))\n\u001b[0m\u001b[1;32m   1747\u001b[0m     forward_backward = self._select_forward_and_backward_functions(\n\u001b[1;32m   1748\u001b[0m         \u001b[0margs\u001b[0m\u001b[0;34m,\u001b[0m\u001b[0;34m\u001b[0m\u001b[0;34m\u001b[0m\u001b[0m\n",
            "\u001b[0;32m/usr/local/lib/python3.6/dist-packages/tensorflow/python/eager/function.py\u001b[0m in \u001b[0;36mcall\u001b[0;34m(self, ctx, args, cancellation_manager)\u001b[0m\n\u001b[1;32m    596\u001b[0m               \u001b[0minputs\u001b[0m\u001b[0;34m=\u001b[0m\u001b[0margs\u001b[0m\u001b[0;34m,\u001b[0m\u001b[0;34m\u001b[0m\u001b[0;34m\u001b[0m\u001b[0m\n\u001b[1;32m    597\u001b[0m               \u001b[0mattrs\u001b[0m\u001b[0;34m=\u001b[0m\u001b[0mattrs\u001b[0m\u001b[0;34m,\u001b[0m\u001b[0;34m\u001b[0m\u001b[0;34m\u001b[0m\u001b[0m\n\u001b[0;32m--> 598\u001b[0;31m               ctx=ctx)\n\u001b[0m\u001b[1;32m    599\u001b[0m         \u001b[0;32melse\u001b[0m\u001b[0;34m:\u001b[0m\u001b[0;34m\u001b[0m\u001b[0;34m\u001b[0m\u001b[0m\n\u001b[1;32m    600\u001b[0m           outputs = execute.execute_with_cancellation(\n",
            "\u001b[0;32m/usr/local/lib/python3.6/dist-packages/tensorflow/python/eager/execute.py\u001b[0m in \u001b[0;36mquick_execute\u001b[0;34m(op_name, num_outputs, inputs, attrs, ctx, name)\u001b[0m\n\u001b[1;32m     58\u001b[0m     \u001b[0mctx\u001b[0m\u001b[0;34m.\u001b[0m\u001b[0mensure_initialized\u001b[0m\u001b[0;34m(\u001b[0m\u001b[0;34m)\u001b[0m\u001b[0;34m\u001b[0m\u001b[0;34m\u001b[0m\u001b[0m\n\u001b[1;32m     59\u001b[0m     tensors = pywrap_tfe.TFE_Py_Execute(ctx._handle, device_name, op_name,\n\u001b[0;32m---> 60\u001b[0;31m                                         inputs, attrs, num_outputs)\n\u001b[0m\u001b[1;32m     61\u001b[0m   \u001b[0;32mexcept\u001b[0m \u001b[0mcore\u001b[0m\u001b[0;34m.\u001b[0m\u001b[0m_NotOkStatusException\u001b[0m \u001b[0;32mas\u001b[0m \u001b[0me\u001b[0m\u001b[0;34m:\u001b[0m\u001b[0;34m\u001b[0m\u001b[0;34m\u001b[0m\u001b[0m\n\u001b[1;32m     62\u001b[0m     \u001b[0;32mif\u001b[0m \u001b[0mname\u001b[0m \u001b[0;32mis\u001b[0m \u001b[0;32mnot\u001b[0m \u001b[0;32mNone\u001b[0m\u001b[0;34m:\u001b[0m\u001b[0;34m\u001b[0m\u001b[0;34m\u001b[0m\u001b[0m\n",
            "\u001b[0;31mResourceExhaustedError\u001b[0m:  OOM when allocating tensor with shape[1024,900,501] and type float on /job:localhost/replica:0/task:0/device:GPU:0 by allocator GPU_0_bfc\n\t [[node bidirectional_2/zeros_like (defined at /usr/local/lib/python3.6/dist-packages/keras/backend/tensorflow_backend.py:3009) ]]\nHint: If you want to see a list of allocated tensors when OOM happens, add report_tensor_allocations_upon_oom to RunOptions for current allocation info.\n [Op:__inference_keras_scratch_graph_526136]\n\nFunction call stack:\nkeras_scratch_graph\n"
          ]
        }
      ]
    },
    {
      "cell_type": "markdown",
      "metadata": {
        "id": "5-AhELRblrqL",
        "colab_type": "text"
      },
      "source": [
        "### **Final Results**\n",
        "\n",
        "After final round of experiment, we take a look at the performance of the models. We used **iterative_train_test_split** from the scikit-multilearn package to keep the toxicity labels evenly distributed between training and validation sets. We used the the custom function to calclated ROC-AUC Score on the test data set. \n",
        "\n",
        "Here are our results:-\n",
        "\n",
        "\n",
        "| Model               | Test-set ROC AUC score |\n",
        "|---------------------|------------------------|\n",
        "| Logistic Regression | 0.9765                 |\n",
        "| GRU with CNN       | 0.9831                 |\n",
        "| Deep CNN           | 0.9834                 |\n",
        "| Deep RNN          | 0.9837                 |\n",
        "| Deep CNN with KMax Pooling          | 0.9842                 |\n",
        "| Ensemble          | 0.9842                 |\n",
        "\n",
        "\n",
        "\n",
        "Time Performance during Training\n",
        "\n",
        "| Model               | Hardware| Epochs |Time |\n",
        "|---------------------|------------------------|------------------------|------------------------|\n",
        "| Logistic Regression | CPU     |              | 12 mins|\n",
        "| GRU with CNN        | GPU       |   10       |     |\n",
        "| Deep CNN           |GPU         |     20    |    |\n",
        "| Deep RNN        | GPU        |     10     |     |\n",
        "| Deep CNN with KMax Pooling          | GPU        |     20     |     |\n",
        "\n",
        "What we can observe is the neural newtork models performed much better than the benchmark model. Also, the use of diversified embeddings improved the results by a slight margin.\n",
        "\n",
        "The final Ensemble Model was built by stack the GRU with CNN model, Deep RNN model and Deep CNN with with KMax Pooling model, and it achieves the ROC_AUC Score of 0,9958 which is very close to .9986 of the original Kaggle comptetion. \n",
        "\n",
        "\n",
        "\n",
        "\n",
        "\n"
      ]
    },
    {
      "cell_type": "markdown",
      "metadata": {
        "id": "a2icFVG3lHZ_",
        "colab_type": "text"
      },
      "source": [
        "Saving the final Ensemble Predictions as dataframe for ROC_AUC Visualization"
      ]
    },
    {
      "cell_type": "code",
      "metadata": {
        "id": "AZub0pejk_cR",
        "colab_type": "code",
        "colab": {}
      },
      "source": [
        "ensemble_preds = pd.read_csv('/content/drive/My Drive/toxicity-classification/data/sample_submission.csv')\n",
        "ensemble_preds[[\"toxic\", \"severe_toxic\", \"obscene\", \"threat\", \"insult\", \"identity_hate\"]] = y_pred "
      ],
      "execution_count": 0,
      "outputs": []
    },
    {
      "cell_type": "markdown",
      "metadata": {
        "id": "f-AUbKfYijZx",
        "colab_type": "text"
      },
      "source": [
        "Here, we will use a library [Scikit-Plot](https://https://scikit-plot.readthedocs.io/en/stable/index.html) to generate our ROC-AUC Vizualizations.  "
      ]
    },
    {
      "cell_type": "code",
      "metadata": {
        "id": "ncb3n-35ik6O",
        "colab_type": "code",
        "colab": {}
      },
      "source": [
        "!pip install scikit-plot"
      ],
      "execution_count": 0,
      "outputs": []
    },
    {
      "cell_type": "code",
      "metadata": {
        "id": "fBe5IMwmimbH",
        "colab_type": "code",
        "colab": {}
      },
      "source": [
        "import scikitplot as skplot\n",
        "ground_truth = test_labels.copy()\n",
        "ground_truth.drop(ground_truth.loc[ground_truth['toxic']==-1].index, inplace=True)\n",
        "ground_truth=ground_truth[ground_truth.columns[-6:]]\n",
        "predicted = ensemble_preds[ensemble_preds.columns[-6:]]\n",
        "\n",
        "# toxic label ROC curve\n",
        "y_pred_probs = predicted['toxic'].values.reshape(-1,1)\n",
        "y_pred_probs = np.concatenate((1-y_pred_probs, y_pred_probs), axis=1)\n",
        "truth = ground_truth['toxic'].values.reshape(-1,1)\n",
        "skplot.metrics.plot_roc(truth, y_pred_probs, '\"toxic\" comment label', plot_micro=False,\n",
        "                        plot_macro=False, classes_to_plot=[1], figsize=(10,8), title_fontsize=18,\n",
        "                        text_fontsize=14)\n",
        "plt.subplot(3, 2, 1)\n",
        "\n",
        "# severe_toxic label ROC curve\n",
        "y_pred_probs = predicted['severe_toxic'].values.reshape(-1,1)\n",
        "y_pred_probs = np.concatenate((1-y_pred_probs, y_pred_probs), axis=1)\n",
        "truth = ground_truth['severe_toxic'].values.reshape(-1,1)\n",
        "skplot.metrics.plot_roc(truth, y_pred_probs, '\"severe_toxic\" comment label', plot_micro=False,\n",
        "                        plot_macro=False, classes_to_plot=[1], figsize=(10,8), title_fontsize=18,\n",
        "                        text_fontsize=14, cmap=\"winter\")\n",
        "plt.subplot(3, 2, 2)\n",
        "\n",
        "# obscene label ROC curve\n",
        "y_pred_probs = predicted['obscene'].values.reshape(-1,1)\n",
        "y_pred_probs = np.concatenate((1-y_pred_probs, y_pred_probs), axis=1)\n",
        "truth = ground_truth['obscene'].values.reshape(-1,1)\n",
        "skplot.metrics.plot_roc(truth, y_pred_probs, '\"obscene\" comment label', plot_micro=False,\n",
        "                        plot_macro=False, classes_to_plot=[1], figsize=(10,8), title_fontsize=18,\n",
        "                        text_fontsize=14, cmap=\"rocket\")\n",
        "plt.subplot(3, 2, 3)\n",
        "\n",
        "# threat label ROC curve\n",
        "y_pred_probs = predicted['threat'].values.reshape(-1,1)\n",
        "y_pred_probs = np.concatenate((1-y_pred_probs, y_pred_probs), axis=1)\n",
        "truth = ground_truth['threat'].values.reshape(-1,1)\n",
        "skplot.metrics.plot_roc(truth, y_pred_probs, '\"threat\" comment label', plot_micro=False,\n",
        "                        plot_macro=False, classes_to_plot=[1], figsize=(10,8), title_fontsize=18,\n",
        "                        text_fontsize=14, cmap=\"viridis\")\n",
        "plt.subplot(3, 2, 4)\n",
        "\n",
        "# insult label ROC curve\n",
        "y_pred_probs = predicted['insult'].values.reshape(-1,1)\n",
        "y_pred_probs = np.concatenate((1-y_pred_probs, y_pred_probs), axis=1)\n",
        "truth = ground_truth['insult'].values.reshape(-1,1)\n",
        "skplot.metrics.plot_roc(truth, y_pred_probs, '\"insult\" comment label', plot_micro=False,\n",
        "                        plot_macro=False, classes_to_plot=[1], figsize=(10,8), title_fontsize=18,\n",
        "                        text_fontsize=14, cmap=\"prism\")\n",
        "plt.subplot (3,2,5)\n",
        "\n",
        "# identity_hate label ROC curve\n",
        "y_pred_probs = predicted['identity_hate'].values.reshape(-1,1)\n",
        "y_pred_probs = np.concatenate((1-y_pred_probs, y_pred_probs), axis=1)\n",
        "truth = ground_truth['identity_hate'].values.reshape(-1,1)\n",
        "skplot.metrics.plot_roc(truth, y_pred_probs, '\"identity_hate\" comment label', plot_micro=False,\n",
        "                        plot_macro=False, classes_to_plot=[1], figsize=(10,8), title_fontsize=18,\n",
        "                        text_fontsize=14, cmap=\"gnuplot2\")\n",
        "plt.subplot (3,2,6)\n",
        "\n",
        "plt.tight_layout()\n",
        "plt.show()"
      ],
      "execution_count": 0,
      "outputs": []
    },
    {
      "cell_type": "markdown",
      "metadata": {
        "id": "LWFfjGLDKGmO",
        "colab_type": "text"
      },
      "source": [
        "As with any machine learning model, there are always aspects that could be improved to produce better scores, and this model can be\n",
        "improved as evidenced by the top Kaggle leaderboard scores.\n",
        "\n",
        "The major area of improvements I would make center on further exploring ensembling methods. Blending methods in particular appear in most of the top public kernel submissions, and reading regarding several Kaggle competitions often point towards this approach to achieve the highest results and allow for high leaderboard placement. These ensembles can get as complex as you want them to be and can include dozens\n",
        "of models - which while not production friendly (i.e. take a long time to run) have the potential to hit the cutting\n",
        "edge of scoring performance. I only approached this technique by averaging, but there are methods of weighted averages, stacking, and blending, where different models are trained on different parts of the dataset\n",
        "(of particular interest is out-of-fold training) and predictions are even used as features on the next layer of models (blending/stacking) 20.\n",
        "\n",
        "Other improvements which could help involve converting the models to TensorFlow so GPU architectures could\n",
        "Improvement speed up model training. \n",
        "\n",
        "Another nice experimenting to be considered is to perform more pre-processing of the training comments to include hand-picked features to feed into the models. There can be also some methods to handle the swear words and wrongly typed words more accurately. Finally experimenting with non-zero entries in the embedding matrix for words that are not found (i.e use averaged values) may be beneficial as well.\n",
        "\n",
        "In the recent years BERT (Bidirectional Encoder Representations from Transformers )  obtainsed new state-of-the-art results on eleven natural language processing tasks, and it performs very well for multi-level text classification problems, BERT based models can be utilised to produce better scores in the future."
      ]
    }
  ]
}