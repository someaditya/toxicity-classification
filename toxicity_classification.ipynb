{
  "nbformat": 4,
  "nbformat_minor": 0,
  "metadata": {
    "colab": {
      "name": "toxicity-classification.ipynb",
      "provenance": [],
      "collapsed_sections": [],
      "machine_shape": "hm",
      "authorship_tag": "ABX9TyMTS1h0iauyTdMnNYQioI5G",
      "include_colab_link": true
    },
    "kernelspec": {
      "name": "python3",
      "display_name": "Python 3"
    },
    "accelerator": "GPU",
    "widgets": {
      "application/vnd.jupyter.widget-state+json": {
        "c1fb722b5e3d43b0960d2a7860bd3917": {
          "model_module": "@jupyter-widgets/controls",
          "model_name": "HBoxModel",
          "state": {
            "_view_name": "HBoxView",
            "_dom_classes": [],
            "_model_name": "HBoxModel",
            "_view_module": "@jupyter-widgets/controls",
            "_model_module_version": "1.5.0",
            "_view_count": null,
            "_view_module_version": "1.5.0",
            "box_style": "",
            "layout": "IPY_MODEL_db4a701e4aa64901a5f9ab0d412be721",
            "_model_module": "@jupyter-widgets/controls",
            "children": [
              "IPY_MODEL_f42b6f2cacfa4eab9f46e8bd9b549f9c",
              "IPY_MODEL_4aa37b5b915442ac9b70cf9cbe1baa51"
            ]
          }
        },
        "db4a701e4aa64901a5f9ab0d412be721": {
          "model_module": "@jupyter-widgets/base",
          "model_name": "LayoutModel",
          "state": {
            "_view_name": "LayoutView",
            "grid_template_rows": null,
            "right": null,
            "justify_content": null,
            "_view_module": "@jupyter-widgets/base",
            "overflow": null,
            "_model_module_version": "1.2.0",
            "_view_count": null,
            "flex_flow": null,
            "width": null,
            "min_width": null,
            "border": null,
            "align_items": null,
            "bottom": null,
            "_model_module": "@jupyter-widgets/base",
            "top": null,
            "grid_column": null,
            "overflow_y": null,
            "overflow_x": null,
            "grid_auto_flow": null,
            "grid_area": null,
            "grid_template_columns": null,
            "flex": null,
            "_model_name": "LayoutModel",
            "justify_items": null,
            "grid_row": null,
            "max_height": null,
            "align_content": null,
            "visibility": null,
            "align_self": null,
            "height": null,
            "min_height": null,
            "padding": null,
            "grid_auto_rows": null,
            "grid_gap": null,
            "max_width": null,
            "order": null,
            "_view_module_version": "1.2.0",
            "grid_template_areas": null,
            "object_position": null,
            "object_fit": null,
            "grid_auto_columns": null,
            "margin": null,
            "display": null,
            "left": null
          }
        },
        "f42b6f2cacfa4eab9f46e8bd9b549f9c": {
          "model_module": "@jupyter-widgets/controls",
          "model_name": "IntProgressModel",
          "state": {
            "_view_name": "ProgressView",
            "style": "IPY_MODEL_255e4f30734d473a96d69a3d39a7bf5f",
            "_dom_classes": [],
            "description": "100%",
            "_model_name": "IntProgressModel",
            "bar_style": "success",
            "max": 159571,
            "_view_module": "@jupyter-widgets/controls",
            "_model_module_version": "1.5.0",
            "value": 159571,
            "_view_count": null,
            "_view_module_version": "1.5.0",
            "orientation": "horizontal",
            "min": 0,
            "description_tooltip": null,
            "_model_module": "@jupyter-widgets/controls",
            "layout": "IPY_MODEL_6f2ea1428b4949cabea0261613525a9d"
          }
        },
        "4aa37b5b915442ac9b70cf9cbe1baa51": {
          "model_module": "@jupyter-widgets/controls",
          "model_name": "HTMLModel",
          "state": {
            "_view_name": "HTMLView",
            "style": "IPY_MODEL_c31faf37926e4cacbb056cd346426f3d",
            "_dom_classes": [],
            "description": "",
            "_model_name": "HTMLModel",
            "placeholder": "​",
            "_view_module": "@jupyter-widgets/controls",
            "_model_module_version": "1.5.0",
            "value": " 159571/159571 [04:37&lt;00:00, 575.73it/s]",
            "_view_count": null,
            "_view_module_version": "1.5.0",
            "description_tooltip": null,
            "_model_module": "@jupyter-widgets/controls",
            "layout": "IPY_MODEL_6ea1610f41e840f2a65ff5874f465c6a"
          }
        },
        "255e4f30734d473a96d69a3d39a7bf5f": {
          "model_module": "@jupyter-widgets/controls",
          "model_name": "ProgressStyleModel",
          "state": {
            "_view_name": "StyleView",
            "_model_name": "ProgressStyleModel",
            "description_width": "initial",
            "_view_module": "@jupyter-widgets/base",
            "_model_module_version": "1.5.0",
            "_view_count": null,
            "_view_module_version": "1.2.0",
            "bar_color": null,
            "_model_module": "@jupyter-widgets/controls"
          }
        },
        "6f2ea1428b4949cabea0261613525a9d": {
          "model_module": "@jupyter-widgets/base",
          "model_name": "LayoutModel",
          "state": {
            "_view_name": "LayoutView",
            "grid_template_rows": null,
            "right": null,
            "justify_content": null,
            "_view_module": "@jupyter-widgets/base",
            "overflow": null,
            "_model_module_version": "1.2.0",
            "_view_count": null,
            "flex_flow": null,
            "width": null,
            "min_width": null,
            "border": null,
            "align_items": null,
            "bottom": null,
            "_model_module": "@jupyter-widgets/base",
            "top": null,
            "grid_column": null,
            "overflow_y": null,
            "overflow_x": null,
            "grid_auto_flow": null,
            "grid_area": null,
            "grid_template_columns": null,
            "flex": null,
            "_model_name": "LayoutModel",
            "justify_items": null,
            "grid_row": null,
            "max_height": null,
            "align_content": null,
            "visibility": null,
            "align_self": null,
            "height": null,
            "min_height": null,
            "padding": null,
            "grid_auto_rows": null,
            "grid_gap": null,
            "max_width": null,
            "order": null,
            "_view_module_version": "1.2.0",
            "grid_template_areas": null,
            "object_position": null,
            "object_fit": null,
            "grid_auto_columns": null,
            "margin": null,
            "display": null,
            "left": null
          }
        },
        "c31faf37926e4cacbb056cd346426f3d": {
          "model_module": "@jupyter-widgets/controls",
          "model_name": "DescriptionStyleModel",
          "state": {
            "_view_name": "StyleView",
            "_model_name": "DescriptionStyleModel",
            "description_width": "",
            "_view_module": "@jupyter-widgets/base",
            "_model_module_version": "1.5.0",
            "_view_count": null,
            "_view_module_version": "1.2.0",
            "_model_module": "@jupyter-widgets/controls"
          }
        },
        "6ea1610f41e840f2a65ff5874f465c6a": {
          "model_module": "@jupyter-widgets/base",
          "model_name": "LayoutModel",
          "state": {
            "_view_name": "LayoutView",
            "grid_template_rows": null,
            "right": null,
            "justify_content": null,
            "_view_module": "@jupyter-widgets/base",
            "overflow": null,
            "_model_module_version": "1.2.0",
            "_view_count": null,
            "flex_flow": null,
            "width": null,
            "min_width": null,
            "border": null,
            "align_items": null,
            "bottom": null,
            "_model_module": "@jupyter-widgets/base",
            "top": null,
            "grid_column": null,
            "overflow_y": null,
            "overflow_x": null,
            "grid_auto_flow": null,
            "grid_area": null,
            "grid_template_columns": null,
            "flex": null,
            "_model_name": "LayoutModel",
            "justify_items": null,
            "grid_row": null,
            "max_height": null,
            "align_content": null,
            "visibility": null,
            "align_self": null,
            "height": null,
            "min_height": null,
            "padding": null,
            "grid_auto_rows": null,
            "grid_gap": null,
            "max_width": null,
            "order": null,
            "_view_module_version": "1.2.0",
            "grid_template_areas": null,
            "object_position": null,
            "object_fit": null,
            "grid_auto_columns": null,
            "margin": null,
            "display": null,
            "left": null
          }
        },
        "a62aa5836ae6461eb1ee8d18d03bd369": {
          "model_module": "@jupyter-widgets/controls",
          "model_name": "HBoxModel",
          "state": {
            "_view_name": "HBoxView",
            "_dom_classes": [],
            "_model_name": "HBoxModel",
            "_view_module": "@jupyter-widgets/controls",
            "_model_module_version": "1.5.0",
            "_view_count": null,
            "_view_module_version": "1.5.0",
            "box_style": "",
            "layout": "IPY_MODEL_50f5ac5dd18343afbbdc2929b18198a3",
            "_model_module": "@jupyter-widgets/controls",
            "children": [
              "IPY_MODEL_26777319537343a0bf7b36f6c2259620",
              "IPY_MODEL_a671279312364ce69484e5114a47dede"
            ]
          }
        },
        "50f5ac5dd18343afbbdc2929b18198a3": {
          "model_module": "@jupyter-widgets/base",
          "model_name": "LayoutModel",
          "state": {
            "_view_name": "LayoutView",
            "grid_template_rows": null,
            "right": null,
            "justify_content": null,
            "_view_module": "@jupyter-widgets/base",
            "overflow": null,
            "_model_module_version": "1.2.0",
            "_view_count": null,
            "flex_flow": null,
            "width": null,
            "min_width": null,
            "border": null,
            "align_items": null,
            "bottom": null,
            "_model_module": "@jupyter-widgets/base",
            "top": null,
            "grid_column": null,
            "overflow_y": null,
            "overflow_x": null,
            "grid_auto_flow": null,
            "grid_area": null,
            "grid_template_columns": null,
            "flex": null,
            "_model_name": "LayoutModel",
            "justify_items": null,
            "grid_row": null,
            "max_height": null,
            "align_content": null,
            "visibility": null,
            "align_self": null,
            "height": null,
            "min_height": null,
            "padding": null,
            "grid_auto_rows": null,
            "grid_gap": null,
            "max_width": null,
            "order": null,
            "_view_module_version": "1.2.0",
            "grid_template_areas": null,
            "object_position": null,
            "object_fit": null,
            "grid_auto_columns": null,
            "margin": null,
            "display": null,
            "left": null
          }
        },
        "26777319537343a0bf7b36f6c2259620": {
          "model_module": "@jupyter-widgets/controls",
          "model_name": "IntProgressModel",
          "state": {
            "_view_name": "ProgressView",
            "style": "IPY_MODEL_218e5a448b434c808679c047f0676e46",
            "_dom_classes": [],
            "description": "100%",
            "_model_name": "IntProgressModel",
            "bar_style": "success",
            "max": 159571,
            "_view_module": "@jupyter-widgets/controls",
            "_model_module_version": "1.5.0",
            "value": 159571,
            "_view_count": null,
            "_view_module_version": "1.5.0",
            "orientation": "horizontal",
            "min": 0,
            "description_tooltip": null,
            "_model_module": "@jupyter-widgets/controls",
            "layout": "IPY_MODEL_84137ab9eb6d4a85a863205dc3676091"
          }
        },
        "a671279312364ce69484e5114a47dede": {
          "model_module": "@jupyter-widgets/controls",
          "model_name": "HTMLModel",
          "state": {
            "_view_name": "HTMLView",
            "style": "IPY_MODEL_efe2cc1306844da5b89e6807a2629cc5",
            "_dom_classes": [],
            "description": "",
            "_model_name": "HTMLModel",
            "placeholder": "​",
            "_view_module": "@jupyter-widgets/controls",
            "_model_module_version": "1.5.0",
            "value": " 159571/159571 [00:12&lt;00:00, 13002.72it/s]",
            "_view_count": null,
            "_view_module_version": "1.5.0",
            "description_tooltip": null,
            "_model_module": "@jupyter-widgets/controls",
            "layout": "IPY_MODEL_89cee66237f74f3e84f84cd0584c0dc1"
          }
        },
        "218e5a448b434c808679c047f0676e46": {
          "model_module": "@jupyter-widgets/controls",
          "model_name": "ProgressStyleModel",
          "state": {
            "_view_name": "StyleView",
            "_model_name": "ProgressStyleModel",
            "description_width": "initial",
            "_view_module": "@jupyter-widgets/base",
            "_model_module_version": "1.5.0",
            "_view_count": null,
            "_view_module_version": "1.2.0",
            "bar_color": null,
            "_model_module": "@jupyter-widgets/controls"
          }
        },
        "84137ab9eb6d4a85a863205dc3676091": {
          "model_module": "@jupyter-widgets/base",
          "model_name": "LayoutModel",
          "state": {
            "_view_name": "LayoutView",
            "grid_template_rows": null,
            "right": null,
            "justify_content": null,
            "_view_module": "@jupyter-widgets/base",
            "overflow": null,
            "_model_module_version": "1.2.0",
            "_view_count": null,
            "flex_flow": null,
            "width": null,
            "min_width": null,
            "border": null,
            "align_items": null,
            "bottom": null,
            "_model_module": "@jupyter-widgets/base",
            "top": null,
            "grid_column": null,
            "overflow_y": null,
            "overflow_x": null,
            "grid_auto_flow": null,
            "grid_area": null,
            "grid_template_columns": null,
            "flex": null,
            "_model_name": "LayoutModel",
            "justify_items": null,
            "grid_row": null,
            "max_height": null,
            "align_content": null,
            "visibility": null,
            "align_self": null,
            "height": null,
            "min_height": null,
            "padding": null,
            "grid_auto_rows": null,
            "grid_gap": null,
            "max_width": null,
            "order": null,
            "_view_module_version": "1.2.0",
            "grid_template_areas": null,
            "object_position": null,
            "object_fit": null,
            "grid_auto_columns": null,
            "margin": null,
            "display": null,
            "left": null
          }
        },
        "efe2cc1306844da5b89e6807a2629cc5": {
          "model_module": "@jupyter-widgets/controls",
          "model_name": "DescriptionStyleModel",
          "state": {
            "_view_name": "StyleView",
            "_model_name": "DescriptionStyleModel",
            "description_width": "",
            "_view_module": "@jupyter-widgets/base",
            "_model_module_version": "1.5.0",
            "_view_count": null,
            "_view_module_version": "1.2.0",
            "_model_module": "@jupyter-widgets/controls"
          }
        },
        "89cee66237f74f3e84f84cd0584c0dc1": {
          "model_module": "@jupyter-widgets/base",
          "model_name": "LayoutModel",
          "state": {
            "_view_name": "LayoutView",
            "grid_template_rows": null,
            "right": null,
            "justify_content": null,
            "_view_module": "@jupyter-widgets/base",
            "overflow": null,
            "_model_module_version": "1.2.0",
            "_view_count": null,
            "flex_flow": null,
            "width": null,
            "min_width": null,
            "border": null,
            "align_items": null,
            "bottom": null,
            "_model_module": "@jupyter-widgets/base",
            "top": null,
            "grid_column": null,
            "overflow_y": null,
            "overflow_x": null,
            "grid_auto_flow": null,
            "grid_area": null,
            "grid_template_columns": null,
            "flex": null,
            "_model_name": "LayoutModel",
            "justify_items": null,
            "grid_row": null,
            "max_height": null,
            "align_content": null,
            "visibility": null,
            "align_self": null,
            "height": null,
            "min_height": null,
            "padding": null,
            "grid_auto_rows": null,
            "grid_gap": null,
            "max_width": null,
            "order": null,
            "_view_module_version": "1.2.0",
            "grid_template_areas": null,
            "object_position": null,
            "object_fit": null,
            "grid_auto_columns": null,
            "margin": null,
            "display": null,
            "left": null
          }
        },
        "f4642f2361fb41aaa93cc7d0541ddccb": {
          "model_module": "@jupyter-widgets/controls",
          "model_name": "HBoxModel",
          "state": {
            "_view_name": "HBoxView",
            "_dom_classes": [],
            "_model_name": "HBoxModel",
            "_view_module": "@jupyter-widgets/controls",
            "_model_module_version": "1.5.0",
            "_view_count": null,
            "_view_module_version": "1.5.0",
            "box_style": "",
            "layout": "IPY_MODEL_5b94ad0823d44c13b0344eaf07493cc5",
            "_model_module": "@jupyter-widgets/controls",
            "children": [
              "IPY_MODEL_8d1f51b4e29445749c0a73725d19b203",
              "IPY_MODEL_bbd9f48434714a54b124e316d3b651f3"
            ]
          }
        },
        "5b94ad0823d44c13b0344eaf07493cc5": {
          "model_module": "@jupyter-widgets/base",
          "model_name": "LayoutModel",
          "state": {
            "_view_name": "LayoutView",
            "grid_template_rows": null,
            "right": null,
            "justify_content": null,
            "_view_module": "@jupyter-widgets/base",
            "overflow": null,
            "_model_module_version": "1.2.0",
            "_view_count": null,
            "flex_flow": null,
            "width": null,
            "min_width": null,
            "border": null,
            "align_items": null,
            "bottom": null,
            "_model_module": "@jupyter-widgets/base",
            "top": null,
            "grid_column": null,
            "overflow_y": null,
            "overflow_x": null,
            "grid_auto_flow": null,
            "grid_area": null,
            "grid_template_columns": null,
            "flex": null,
            "_model_name": "LayoutModel",
            "justify_items": null,
            "grid_row": null,
            "max_height": null,
            "align_content": null,
            "visibility": null,
            "align_self": null,
            "height": null,
            "min_height": null,
            "padding": null,
            "grid_auto_rows": null,
            "grid_gap": null,
            "max_width": null,
            "order": null,
            "_view_module_version": "1.2.0",
            "grid_template_areas": null,
            "object_position": null,
            "object_fit": null,
            "grid_auto_columns": null,
            "margin": null,
            "display": null,
            "left": null
          }
        },
        "8d1f51b4e29445749c0a73725d19b203": {
          "model_module": "@jupyter-widgets/controls",
          "model_name": "IntProgressModel",
          "state": {
            "_view_name": "ProgressView",
            "style": "IPY_MODEL_8e546d24e73249d39bb29c4afbd57477",
            "_dom_classes": [],
            "description": "100%",
            "_model_name": "IntProgressModel",
            "bar_style": "success",
            "max": 532299,
            "_view_module": "@jupyter-widgets/controls",
            "_model_module_version": "1.5.0",
            "value": 532299,
            "_view_count": null,
            "_view_module_version": "1.5.0",
            "orientation": "horizontal",
            "min": 0,
            "description_tooltip": null,
            "_model_module": "@jupyter-widgets/controls",
            "layout": "IPY_MODEL_645d001389c3435c9cb700da213491ff"
          }
        },
        "bbd9f48434714a54b124e316d3b651f3": {
          "model_module": "@jupyter-widgets/controls",
          "model_name": "HTMLModel",
          "state": {
            "_view_name": "HTMLView",
            "style": "IPY_MODEL_be50ced7b3bc4503ad34418a8976c52e",
            "_dom_classes": [],
            "description": "",
            "_model_name": "HTMLModel",
            "placeholder": "​",
            "_view_module": "@jupyter-widgets/controls",
            "_model_module_version": "1.5.0",
            "value": " 532299/532299 [00:00&lt;00:00, 649183.49it/s]",
            "_view_count": null,
            "_view_module_version": "1.5.0",
            "description_tooltip": null,
            "_model_module": "@jupyter-widgets/controls",
            "layout": "IPY_MODEL_fbb4099b3c94476bb65519e07df3d9a3"
          }
        },
        "8e546d24e73249d39bb29c4afbd57477": {
          "model_module": "@jupyter-widgets/controls",
          "model_name": "ProgressStyleModel",
          "state": {
            "_view_name": "StyleView",
            "_model_name": "ProgressStyleModel",
            "description_width": "initial",
            "_view_module": "@jupyter-widgets/base",
            "_model_module_version": "1.5.0",
            "_view_count": null,
            "_view_module_version": "1.2.0",
            "bar_color": null,
            "_model_module": "@jupyter-widgets/controls"
          }
        },
        "645d001389c3435c9cb700da213491ff": {
          "model_module": "@jupyter-widgets/base",
          "model_name": "LayoutModel",
          "state": {
            "_view_name": "LayoutView",
            "grid_template_rows": null,
            "right": null,
            "justify_content": null,
            "_view_module": "@jupyter-widgets/base",
            "overflow": null,
            "_model_module_version": "1.2.0",
            "_view_count": null,
            "flex_flow": null,
            "width": null,
            "min_width": null,
            "border": null,
            "align_items": null,
            "bottom": null,
            "_model_module": "@jupyter-widgets/base",
            "top": null,
            "grid_column": null,
            "overflow_y": null,
            "overflow_x": null,
            "grid_auto_flow": null,
            "grid_area": null,
            "grid_template_columns": null,
            "flex": null,
            "_model_name": "LayoutModel",
            "justify_items": null,
            "grid_row": null,
            "max_height": null,
            "align_content": null,
            "visibility": null,
            "align_self": null,
            "height": null,
            "min_height": null,
            "padding": null,
            "grid_auto_rows": null,
            "grid_gap": null,
            "max_width": null,
            "order": null,
            "_view_module_version": "1.2.0",
            "grid_template_areas": null,
            "object_position": null,
            "object_fit": null,
            "grid_auto_columns": null,
            "margin": null,
            "display": null,
            "left": null
          }
        },
        "be50ced7b3bc4503ad34418a8976c52e": {
          "model_module": "@jupyter-widgets/controls",
          "model_name": "DescriptionStyleModel",
          "state": {
            "_view_name": "StyleView",
            "_model_name": "DescriptionStyleModel",
            "description_width": "",
            "_view_module": "@jupyter-widgets/base",
            "_model_module_version": "1.5.0",
            "_view_count": null,
            "_view_module_version": "1.2.0",
            "_model_module": "@jupyter-widgets/controls"
          }
        },
        "fbb4099b3c94476bb65519e07df3d9a3": {
          "model_module": "@jupyter-widgets/base",
          "model_name": "LayoutModel",
          "state": {
            "_view_name": "LayoutView",
            "grid_template_rows": null,
            "right": null,
            "justify_content": null,
            "_view_module": "@jupyter-widgets/base",
            "overflow": null,
            "_model_module_version": "1.2.0",
            "_view_count": null,
            "flex_flow": null,
            "width": null,
            "min_width": null,
            "border": null,
            "align_items": null,
            "bottom": null,
            "_model_module": "@jupyter-widgets/base",
            "top": null,
            "grid_column": null,
            "overflow_y": null,
            "overflow_x": null,
            "grid_auto_flow": null,
            "grid_area": null,
            "grid_template_columns": null,
            "flex": null,
            "_model_name": "LayoutModel",
            "justify_items": null,
            "grid_row": null,
            "max_height": null,
            "align_content": null,
            "visibility": null,
            "align_self": null,
            "height": null,
            "min_height": null,
            "padding": null,
            "grid_auto_rows": null,
            "grid_gap": null,
            "max_width": null,
            "order": null,
            "_view_module_version": "1.2.0",
            "grid_template_areas": null,
            "object_position": null,
            "object_fit": null,
            "grid_auto_columns": null,
            "margin": null,
            "display": null,
            "left": null
          }
        },
        "93e39b9494274c7db552f66ef50a72d9": {
          "model_module": "@jupyter-widgets/controls",
          "model_name": "HBoxModel",
          "state": {
            "_view_name": "HBoxView",
            "_dom_classes": [],
            "_model_name": "HBoxModel",
            "_view_module": "@jupyter-widgets/controls",
            "_model_module_version": "1.5.0",
            "_view_count": null,
            "_view_module_version": "1.5.0",
            "box_style": "",
            "layout": "IPY_MODEL_9a4f3f52d79449c0909b6beade10bba7",
            "_model_module": "@jupyter-widgets/controls",
            "children": [
              "IPY_MODEL_d72d2ec5766440c7835388a4860aa30a",
              "IPY_MODEL_886223d5488443d3a9a92be00361f202"
            ]
          }
        },
        "9a4f3f52d79449c0909b6beade10bba7": {
          "model_module": "@jupyter-widgets/base",
          "model_name": "LayoutModel",
          "state": {
            "_view_name": "LayoutView",
            "grid_template_rows": null,
            "right": null,
            "justify_content": null,
            "_view_module": "@jupyter-widgets/base",
            "overflow": null,
            "_model_module_version": "1.2.0",
            "_view_count": null,
            "flex_flow": null,
            "width": null,
            "min_width": null,
            "border": null,
            "align_items": null,
            "bottom": null,
            "_model_module": "@jupyter-widgets/base",
            "top": null,
            "grid_column": null,
            "overflow_y": null,
            "overflow_x": null,
            "grid_auto_flow": null,
            "grid_area": null,
            "grid_template_columns": null,
            "flex": null,
            "_model_name": "LayoutModel",
            "justify_items": null,
            "grid_row": null,
            "max_height": null,
            "align_content": null,
            "visibility": null,
            "align_self": null,
            "height": null,
            "min_height": null,
            "padding": null,
            "grid_auto_rows": null,
            "grid_gap": null,
            "max_width": null,
            "order": null,
            "_view_module_version": "1.2.0",
            "grid_template_areas": null,
            "object_position": null,
            "object_fit": null,
            "grid_auto_columns": null,
            "margin": null,
            "display": null,
            "left": null
          }
        },
        "d72d2ec5766440c7835388a4860aa30a": {
          "model_module": "@jupyter-widgets/controls",
          "model_name": "IntProgressModel",
          "state": {
            "_view_name": "ProgressView",
            "style": "IPY_MODEL_eca60cc9c076408a883b51bc18d50661",
            "_dom_classes": [],
            "description": "100%",
            "_model_name": "IntProgressModel",
            "bar_style": "success",
            "max": 159571,
            "_view_module": "@jupyter-widgets/controls",
            "_model_module_version": "1.5.0",
            "value": 159571,
            "_view_count": null,
            "_view_module_version": "1.5.0",
            "orientation": "horizontal",
            "min": 0,
            "description_tooltip": null,
            "_model_module": "@jupyter-widgets/controls",
            "layout": "IPY_MODEL_ac3f4695dc43470ea95f731aaa83b356"
          }
        },
        "886223d5488443d3a9a92be00361f202": {
          "model_module": "@jupyter-widgets/controls",
          "model_name": "HTMLModel",
          "state": {
            "_view_name": "HTMLView",
            "style": "IPY_MODEL_2a4ef1414e7f4a378b4cac4a0ee59678",
            "_dom_classes": [],
            "description": "",
            "_model_name": "HTMLModel",
            "placeholder": "​",
            "_view_module": "@jupyter-widgets/controls",
            "_model_module_version": "1.5.0",
            "value": " 159571/159571 [01:11&lt;00:00, 2234.46it/s]",
            "_view_count": null,
            "_view_module_version": "1.5.0",
            "description_tooltip": null,
            "_model_module": "@jupyter-widgets/controls",
            "layout": "IPY_MODEL_9dc003f5dcdb4661b70972f579c86ea5"
          }
        },
        "eca60cc9c076408a883b51bc18d50661": {
          "model_module": "@jupyter-widgets/controls",
          "model_name": "ProgressStyleModel",
          "state": {
            "_view_name": "StyleView",
            "_model_name": "ProgressStyleModel",
            "description_width": "initial",
            "_view_module": "@jupyter-widgets/base",
            "_model_module_version": "1.5.0",
            "_view_count": null,
            "_view_module_version": "1.2.0",
            "bar_color": null,
            "_model_module": "@jupyter-widgets/controls"
          }
        },
        "ac3f4695dc43470ea95f731aaa83b356": {
          "model_module": "@jupyter-widgets/base",
          "model_name": "LayoutModel",
          "state": {
            "_view_name": "LayoutView",
            "grid_template_rows": null,
            "right": null,
            "justify_content": null,
            "_view_module": "@jupyter-widgets/base",
            "overflow": null,
            "_model_module_version": "1.2.0",
            "_view_count": null,
            "flex_flow": null,
            "width": null,
            "min_width": null,
            "border": null,
            "align_items": null,
            "bottom": null,
            "_model_module": "@jupyter-widgets/base",
            "top": null,
            "grid_column": null,
            "overflow_y": null,
            "overflow_x": null,
            "grid_auto_flow": null,
            "grid_area": null,
            "grid_template_columns": null,
            "flex": null,
            "_model_name": "LayoutModel",
            "justify_items": null,
            "grid_row": null,
            "max_height": null,
            "align_content": null,
            "visibility": null,
            "align_self": null,
            "height": null,
            "min_height": null,
            "padding": null,
            "grid_auto_rows": null,
            "grid_gap": null,
            "max_width": null,
            "order": null,
            "_view_module_version": "1.2.0",
            "grid_template_areas": null,
            "object_position": null,
            "object_fit": null,
            "grid_auto_columns": null,
            "margin": null,
            "display": null,
            "left": null
          }
        },
        "2a4ef1414e7f4a378b4cac4a0ee59678": {
          "model_module": "@jupyter-widgets/controls",
          "model_name": "DescriptionStyleModel",
          "state": {
            "_view_name": "StyleView",
            "_model_name": "DescriptionStyleModel",
            "description_width": "",
            "_view_module": "@jupyter-widgets/base",
            "_model_module_version": "1.5.0",
            "_view_count": null,
            "_view_module_version": "1.2.0",
            "_model_module": "@jupyter-widgets/controls"
          }
        },
        "9dc003f5dcdb4661b70972f579c86ea5": {
          "model_module": "@jupyter-widgets/base",
          "model_name": "LayoutModel",
          "state": {
            "_view_name": "LayoutView",
            "grid_template_rows": null,
            "right": null,
            "justify_content": null,
            "_view_module": "@jupyter-widgets/base",
            "overflow": null,
            "_model_module_version": "1.2.0",
            "_view_count": null,
            "flex_flow": null,
            "width": null,
            "min_width": null,
            "border": null,
            "align_items": null,
            "bottom": null,
            "_model_module": "@jupyter-widgets/base",
            "top": null,
            "grid_column": null,
            "overflow_y": null,
            "overflow_x": null,
            "grid_auto_flow": null,
            "grid_area": null,
            "grid_template_columns": null,
            "flex": null,
            "_model_name": "LayoutModel",
            "justify_items": null,
            "grid_row": null,
            "max_height": null,
            "align_content": null,
            "visibility": null,
            "align_self": null,
            "height": null,
            "min_height": null,
            "padding": null,
            "grid_auto_rows": null,
            "grid_gap": null,
            "max_width": null,
            "order": null,
            "_view_module_version": "1.2.0",
            "grid_template_areas": null,
            "object_position": null,
            "object_fit": null,
            "grid_auto_columns": null,
            "margin": null,
            "display": null,
            "left": null
          }
        },
        "243ee2bd2fe94ee4a79c747ca1583334": {
          "model_module": "@jupyter-widgets/controls",
          "model_name": "HBoxModel",
          "state": {
            "_view_name": "HBoxView",
            "_dom_classes": [],
            "_model_name": "HBoxModel",
            "_view_module": "@jupyter-widgets/controls",
            "_model_module_version": "1.5.0",
            "_view_count": null,
            "_view_module_version": "1.5.0",
            "box_style": "",
            "layout": "IPY_MODEL_0c19b3eedc2f43aa81d121bd80d3e88a",
            "_model_module": "@jupyter-widgets/controls",
            "children": [
              "IPY_MODEL_4d1382616e76468bb872311f295e3056",
              "IPY_MODEL_473c9cd2414749fcaee5eea5efe3ab6b"
            ]
          }
        },
        "0c19b3eedc2f43aa81d121bd80d3e88a": {
          "model_module": "@jupyter-widgets/base",
          "model_name": "LayoutModel",
          "state": {
            "_view_name": "LayoutView",
            "grid_template_rows": null,
            "right": null,
            "justify_content": null,
            "_view_module": "@jupyter-widgets/base",
            "overflow": null,
            "_model_module_version": "1.2.0",
            "_view_count": null,
            "flex_flow": null,
            "width": null,
            "min_width": null,
            "border": null,
            "align_items": null,
            "bottom": null,
            "_model_module": "@jupyter-widgets/base",
            "top": null,
            "grid_column": null,
            "overflow_y": null,
            "overflow_x": null,
            "grid_auto_flow": null,
            "grid_area": null,
            "grid_template_columns": null,
            "flex": null,
            "_model_name": "LayoutModel",
            "justify_items": null,
            "grid_row": null,
            "max_height": null,
            "align_content": null,
            "visibility": null,
            "align_self": null,
            "height": null,
            "min_height": null,
            "padding": null,
            "grid_auto_rows": null,
            "grid_gap": null,
            "max_width": null,
            "order": null,
            "_view_module_version": "1.2.0",
            "grid_template_areas": null,
            "object_position": null,
            "object_fit": null,
            "grid_auto_columns": null,
            "margin": null,
            "display": null,
            "left": null
          }
        },
        "4d1382616e76468bb872311f295e3056": {
          "model_module": "@jupyter-widgets/controls",
          "model_name": "IntProgressModel",
          "state": {
            "_view_name": "ProgressView",
            "style": "IPY_MODEL_1bdb253c8e45405abf94750dabe3cf29",
            "_dom_classes": [],
            "description": "100%",
            "_model_name": "IntProgressModel",
            "bar_style": "success",
            "max": 153164,
            "_view_module": "@jupyter-widgets/controls",
            "_model_module_version": "1.5.0",
            "value": 153164,
            "_view_count": null,
            "_view_module_version": "1.5.0",
            "orientation": "horizontal",
            "min": 0,
            "description_tooltip": null,
            "_model_module": "@jupyter-widgets/controls",
            "layout": "IPY_MODEL_23772e97f2d84fd49992c59e29a63933"
          }
        },
        "473c9cd2414749fcaee5eea5efe3ab6b": {
          "model_module": "@jupyter-widgets/controls",
          "model_name": "HTMLModel",
          "state": {
            "_view_name": "HTMLView",
            "style": "IPY_MODEL_3058fdf7513b4c5db6dcfc8f4f0c5bc0",
            "_dom_classes": [],
            "description": "",
            "_model_name": "HTMLModel",
            "placeholder": "​",
            "_view_module": "@jupyter-widgets/controls",
            "_model_module_version": "1.5.0",
            "value": " 153164/153164 [00:05&lt;00:00, 29747.88it/s]",
            "_view_count": null,
            "_view_module_version": "1.5.0",
            "description_tooltip": null,
            "_model_module": "@jupyter-widgets/controls",
            "layout": "IPY_MODEL_eee528b930f54391913e008e0e0db80c"
          }
        },
        "1bdb253c8e45405abf94750dabe3cf29": {
          "model_module": "@jupyter-widgets/controls",
          "model_name": "ProgressStyleModel",
          "state": {
            "_view_name": "StyleView",
            "_model_name": "ProgressStyleModel",
            "description_width": "initial",
            "_view_module": "@jupyter-widgets/base",
            "_model_module_version": "1.5.0",
            "_view_count": null,
            "_view_module_version": "1.2.0",
            "bar_color": null,
            "_model_module": "@jupyter-widgets/controls"
          }
        },
        "23772e97f2d84fd49992c59e29a63933": {
          "model_module": "@jupyter-widgets/base",
          "model_name": "LayoutModel",
          "state": {
            "_view_name": "LayoutView",
            "grid_template_rows": null,
            "right": null,
            "justify_content": null,
            "_view_module": "@jupyter-widgets/base",
            "overflow": null,
            "_model_module_version": "1.2.0",
            "_view_count": null,
            "flex_flow": null,
            "width": null,
            "min_width": null,
            "border": null,
            "align_items": null,
            "bottom": null,
            "_model_module": "@jupyter-widgets/base",
            "top": null,
            "grid_column": null,
            "overflow_y": null,
            "overflow_x": null,
            "grid_auto_flow": null,
            "grid_area": null,
            "grid_template_columns": null,
            "flex": null,
            "_model_name": "LayoutModel",
            "justify_items": null,
            "grid_row": null,
            "max_height": null,
            "align_content": null,
            "visibility": null,
            "align_self": null,
            "height": null,
            "min_height": null,
            "padding": null,
            "grid_auto_rows": null,
            "grid_gap": null,
            "max_width": null,
            "order": null,
            "_view_module_version": "1.2.0",
            "grid_template_areas": null,
            "object_position": null,
            "object_fit": null,
            "grid_auto_columns": null,
            "margin": null,
            "display": null,
            "left": null
          }
        },
        "3058fdf7513b4c5db6dcfc8f4f0c5bc0": {
          "model_module": "@jupyter-widgets/controls",
          "model_name": "DescriptionStyleModel",
          "state": {
            "_view_name": "StyleView",
            "_model_name": "DescriptionStyleModel",
            "description_width": "",
            "_view_module": "@jupyter-widgets/base",
            "_model_module_version": "1.5.0",
            "_view_count": null,
            "_view_module_version": "1.2.0",
            "_model_module": "@jupyter-widgets/controls"
          }
        },
        "eee528b930f54391913e008e0e0db80c": {
          "model_module": "@jupyter-widgets/base",
          "model_name": "LayoutModel",
          "state": {
            "_view_name": "LayoutView",
            "grid_template_rows": null,
            "right": null,
            "justify_content": null,
            "_view_module": "@jupyter-widgets/base",
            "overflow": null,
            "_model_module_version": "1.2.0",
            "_view_count": null,
            "flex_flow": null,
            "width": null,
            "min_width": null,
            "border": null,
            "align_items": null,
            "bottom": null,
            "_model_module": "@jupyter-widgets/base",
            "top": null,
            "grid_column": null,
            "overflow_y": null,
            "overflow_x": null,
            "grid_auto_flow": null,
            "grid_area": null,
            "grid_template_columns": null,
            "flex": null,
            "_model_name": "LayoutModel",
            "justify_items": null,
            "grid_row": null,
            "max_height": null,
            "align_content": null,
            "visibility": null,
            "align_self": null,
            "height": null,
            "min_height": null,
            "padding": null,
            "grid_auto_rows": null,
            "grid_gap": null,
            "max_width": null,
            "order": null,
            "_view_module_version": "1.2.0",
            "grid_template_areas": null,
            "object_position": null,
            "object_fit": null,
            "grid_auto_columns": null,
            "margin": null,
            "display": null,
            "left": null
          }
        },
        "4d30929c530b4f6fa78135a63f44dde8": {
          "model_module": "@jupyter-widgets/controls",
          "model_name": "HBoxModel",
          "state": {
            "_view_name": "HBoxView",
            "_dom_classes": [],
            "_model_name": "HBoxModel",
            "_view_module": "@jupyter-widgets/controls",
            "_model_module_version": "1.5.0",
            "_view_count": null,
            "_view_module_version": "1.5.0",
            "box_style": "",
            "layout": "IPY_MODEL_0beeb28869bc4ba893bbab79a2a9482c",
            "_model_module": "@jupyter-widgets/controls",
            "children": [
              "IPY_MODEL_e4daf60c73ca4298a7f5099172c7bfbf",
              "IPY_MODEL_1991cbf67fed4d9a9025cf646fcd5a7f"
            ]
          }
        },
        "0beeb28869bc4ba893bbab79a2a9482c": {
          "model_module": "@jupyter-widgets/base",
          "model_name": "LayoutModel",
          "state": {
            "_view_name": "LayoutView",
            "grid_template_rows": null,
            "right": null,
            "justify_content": null,
            "_view_module": "@jupyter-widgets/base",
            "overflow": null,
            "_model_module_version": "1.2.0",
            "_view_count": null,
            "flex_flow": null,
            "width": null,
            "min_width": null,
            "border": null,
            "align_items": null,
            "bottom": null,
            "_model_module": "@jupyter-widgets/base",
            "top": null,
            "grid_column": null,
            "overflow_y": null,
            "overflow_x": null,
            "grid_auto_flow": null,
            "grid_area": null,
            "grid_template_columns": null,
            "flex": null,
            "_model_name": "LayoutModel",
            "justify_items": null,
            "grid_row": null,
            "max_height": null,
            "align_content": null,
            "visibility": null,
            "align_self": null,
            "height": null,
            "min_height": null,
            "padding": null,
            "grid_auto_rows": null,
            "grid_gap": null,
            "max_width": null,
            "order": null,
            "_view_module_version": "1.2.0",
            "grid_template_areas": null,
            "object_position": null,
            "object_fit": null,
            "grid_auto_columns": null,
            "margin": null,
            "display": null,
            "left": null
          }
        },
        "e4daf60c73ca4298a7f5099172c7bfbf": {
          "model_module": "@jupyter-widgets/controls",
          "model_name": "IntProgressModel",
          "state": {
            "_view_name": "ProgressView",
            "style": "IPY_MODEL_89d04b536c804bb5bbdfbe4eb859d10f",
            "_dom_classes": [],
            "description": "100%",
            "_model_name": "IntProgressModel",
            "bar_style": "success",
            "max": 159571,
            "_view_module": "@jupyter-widgets/controls",
            "_model_module_version": "1.5.0",
            "value": 159571,
            "_view_count": null,
            "_view_module_version": "1.5.0",
            "orientation": "horizontal",
            "min": 0,
            "description_tooltip": null,
            "_model_module": "@jupyter-widgets/controls",
            "layout": "IPY_MODEL_884ec43d139046c686110fbeaebea43f"
          }
        },
        "1991cbf67fed4d9a9025cf646fcd5a7f": {
          "model_module": "@jupyter-widgets/controls",
          "model_name": "HTMLModel",
          "state": {
            "_view_name": "HTMLView",
            "style": "IPY_MODEL_c0cebc7ff93445c08534e0e2c4935644",
            "_dom_classes": [],
            "description": "",
            "_model_name": "HTMLModel",
            "placeholder": "​",
            "_view_module": "@jupyter-widgets/controls",
            "_model_module_version": "1.5.0",
            "value": " 159571/159571 [00:04&lt;00:00, 34303.98it/s]",
            "_view_count": null,
            "_view_module_version": "1.5.0",
            "description_tooltip": null,
            "_model_module": "@jupyter-widgets/controls",
            "layout": "IPY_MODEL_d083a8652e5b49609663074063377cef"
          }
        },
        "89d04b536c804bb5bbdfbe4eb859d10f": {
          "model_module": "@jupyter-widgets/controls",
          "model_name": "ProgressStyleModel",
          "state": {
            "_view_name": "StyleView",
            "_model_name": "ProgressStyleModel",
            "description_width": "initial",
            "_view_module": "@jupyter-widgets/base",
            "_model_module_version": "1.5.0",
            "_view_count": null,
            "_view_module_version": "1.2.0",
            "bar_color": null,
            "_model_module": "@jupyter-widgets/controls"
          }
        },
        "884ec43d139046c686110fbeaebea43f": {
          "model_module": "@jupyter-widgets/base",
          "model_name": "LayoutModel",
          "state": {
            "_view_name": "LayoutView",
            "grid_template_rows": null,
            "right": null,
            "justify_content": null,
            "_view_module": "@jupyter-widgets/base",
            "overflow": null,
            "_model_module_version": "1.2.0",
            "_view_count": null,
            "flex_flow": null,
            "width": null,
            "min_width": null,
            "border": null,
            "align_items": null,
            "bottom": null,
            "_model_module": "@jupyter-widgets/base",
            "top": null,
            "grid_column": null,
            "overflow_y": null,
            "overflow_x": null,
            "grid_auto_flow": null,
            "grid_area": null,
            "grid_template_columns": null,
            "flex": null,
            "_model_name": "LayoutModel",
            "justify_items": null,
            "grid_row": null,
            "max_height": null,
            "align_content": null,
            "visibility": null,
            "align_self": null,
            "height": null,
            "min_height": null,
            "padding": null,
            "grid_auto_rows": null,
            "grid_gap": null,
            "max_width": null,
            "order": null,
            "_view_module_version": "1.2.0",
            "grid_template_areas": null,
            "object_position": null,
            "object_fit": null,
            "grid_auto_columns": null,
            "margin": null,
            "display": null,
            "left": null
          }
        },
        "c0cebc7ff93445c08534e0e2c4935644": {
          "model_module": "@jupyter-widgets/controls",
          "model_name": "DescriptionStyleModel",
          "state": {
            "_view_name": "StyleView",
            "_model_name": "DescriptionStyleModel",
            "description_width": "",
            "_view_module": "@jupyter-widgets/base",
            "_model_module_version": "1.5.0",
            "_view_count": null,
            "_view_module_version": "1.2.0",
            "_model_module": "@jupyter-widgets/controls"
          }
        },
        "d083a8652e5b49609663074063377cef": {
          "model_module": "@jupyter-widgets/base",
          "model_name": "LayoutModel",
          "state": {
            "_view_name": "LayoutView",
            "grid_template_rows": null,
            "right": null,
            "justify_content": null,
            "_view_module": "@jupyter-widgets/base",
            "overflow": null,
            "_model_module_version": "1.2.0",
            "_view_count": null,
            "flex_flow": null,
            "width": null,
            "min_width": null,
            "border": null,
            "align_items": null,
            "bottom": null,
            "_model_module": "@jupyter-widgets/base",
            "top": null,
            "grid_column": null,
            "overflow_y": null,
            "overflow_x": null,
            "grid_auto_flow": null,
            "grid_area": null,
            "grid_template_columns": null,
            "flex": null,
            "_model_name": "LayoutModel",
            "justify_items": null,
            "grid_row": null,
            "max_height": null,
            "align_content": null,
            "visibility": null,
            "align_self": null,
            "height": null,
            "min_height": null,
            "padding": null,
            "grid_auto_rows": null,
            "grid_gap": null,
            "max_width": null,
            "order": null,
            "_view_module_version": "1.2.0",
            "grid_template_areas": null,
            "object_position": null,
            "object_fit": null,
            "grid_auto_columns": null,
            "margin": null,
            "display": null,
            "left": null
          }
        },
        "5d8ae1c0ebe4440e9ff91e83fc55922b": {
          "model_module": "@jupyter-widgets/controls",
          "model_name": "HBoxModel",
          "state": {
            "_view_name": "HBoxView",
            "_dom_classes": [],
            "_model_name": "HBoxModel",
            "_view_module": "@jupyter-widgets/controls",
            "_model_module_version": "1.5.0",
            "_view_count": null,
            "_view_module_version": "1.5.0",
            "box_style": "",
            "layout": "IPY_MODEL_6441200c351243b688bf9e3d6e1ddb9f",
            "_model_module": "@jupyter-widgets/controls",
            "children": [
              "IPY_MODEL_272fa9d40fd54080860f5663a8603ea9",
              "IPY_MODEL_cfe00285018b4b39a15a89547fe3942f"
            ]
          }
        },
        "6441200c351243b688bf9e3d6e1ddb9f": {
          "model_module": "@jupyter-widgets/base",
          "model_name": "LayoutModel",
          "state": {
            "_view_name": "LayoutView",
            "grid_template_rows": null,
            "right": null,
            "justify_content": null,
            "_view_module": "@jupyter-widgets/base",
            "overflow": null,
            "_model_module_version": "1.2.0",
            "_view_count": null,
            "flex_flow": null,
            "width": null,
            "min_width": null,
            "border": null,
            "align_items": null,
            "bottom": null,
            "_model_module": "@jupyter-widgets/base",
            "top": null,
            "grid_column": null,
            "overflow_y": null,
            "overflow_x": null,
            "grid_auto_flow": null,
            "grid_area": null,
            "grid_template_columns": null,
            "flex": null,
            "_model_name": "LayoutModel",
            "justify_items": null,
            "grid_row": null,
            "max_height": null,
            "align_content": null,
            "visibility": null,
            "align_self": null,
            "height": null,
            "min_height": null,
            "padding": null,
            "grid_auto_rows": null,
            "grid_gap": null,
            "max_width": null,
            "order": null,
            "_view_module_version": "1.2.0",
            "grid_template_areas": null,
            "object_position": null,
            "object_fit": null,
            "grid_auto_columns": null,
            "margin": null,
            "display": null,
            "left": null
          }
        },
        "272fa9d40fd54080860f5663a8603ea9": {
          "model_module": "@jupyter-widgets/controls",
          "model_name": "IntProgressModel",
          "state": {
            "_view_name": "ProgressView",
            "style": "IPY_MODEL_bd5afa3aa97b4d92b42400ec8f820e85",
            "_dom_classes": [],
            "description": "100%",
            "_model_name": "IntProgressModel",
            "bar_style": "success",
            "max": 153164,
            "_view_module": "@jupyter-widgets/controls",
            "_model_module_version": "1.5.0",
            "value": 153164,
            "_view_count": null,
            "_view_module_version": "1.5.0",
            "orientation": "horizontal",
            "min": 0,
            "description_tooltip": null,
            "_model_module": "@jupyter-widgets/controls",
            "layout": "IPY_MODEL_4c96d7ab6178418a9b01f936b0112b4a"
          }
        },
        "cfe00285018b4b39a15a89547fe3942f": {
          "model_module": "@jupyter-widgets/controls",
          "model_name": "HTMLModel",
          "state": {
            "_view_name": "HTMLView",
            "style": "IPY_MODEL_948923958bbb4f6aa68e42cdf1be9c0a",
            "_dom_classes": [],
            "description": "",
            "_model_name": "HTMLModel",
            "placeholder": "​",
            "_view_module": "@jupyter-widgets/controls",
            "_model_module_version": "1.5.0",
            "value": " 153164/153164 [01:05&lt;00:00, 2328.88it/s]",
            "_view_count": null,
            "_view_module_version": "1.5.0",
            "description_tooltip": null,
            "_model_module": "@jupyter-widgets/controls",
            "layout": "IPY_MODEL_7b0dcd2ab12947f190aef6460aaf33bc"
          }
        },
        "bd5afa3aa97b4d92b42400ec8f820e85": {
          "model_module": "@jupyter-widgets/controls",
          "model_name": "ProgressStyleModel",
          "state": {
            "_view_name": "StyleView",
            "_model_name": "ProgressStyleModel",
            "description_width": "initial",
            "_view_module": "@jupyter-widgets/base",
            "_model_module_version": "1.5.0",
            "_view_count": null,
            "_view_module_version": "1.2.0",
            "bar_color": null,
            "_model_module": "@jupyter-widgets/controls"
          }
        },
        "4c96d7ab6178418a9b01f936b0112b4a": {
          "model_module": "@jupyter-widgets/base",
          "model_name": "LayoutModel",
          "state": {
            "_view_name": "LayoutView",
            "grid_template_rows": null,
            "right": null,
            "justify_content": null,
            "_view_module": "@jupyter-widgets/base",
            "overflow": null,
            "_model_module_version": "1.2.0",
            "_view_count": null,
            "flex_flow": null,
            "width": null,
            "min_width": null,
            "border": null,
            "align_items": null,
            "bottom": null,
            "_model_module": "@jupyter-widgets/base",
            "top": null,
            "grid_column": null,
            "overflow_y": null,
            "overflow_x": null,
            "grid_auto_flow": null,
            "grid_area": null,
            "grid_template_columns": null,
            "flex": null,
            "_model_name": "LayoutModel",
            "justify_items": null,
            "grid_row": null,
            "max_height": null,
            "align_content": null,
            "visibility": null,
            "align_self": null,
            "height": null,
            "min_height": null,
            "padding": null,
            "grid_auto_rows": null,
            "grid_gap": null,
            "max_width": null,
            "order": null,
            "_view_module_version": "1.2.0",
            "grid_template_areas": null,
            "object_position": null,
            "object_fit": null,
            "grid_auto_columns": null,
            "margin": null,
            "display": null,
            "left": null
          }
        },
        "948923958bbb4f6aa68e42cdf1be9c0a": {
          "model_module": "@jupyter-widgets/controls",
          "model_name": "DescriptionStyleModel",
          "state": {
            "_view_name": "StyleView",
            "_model_name": "DescriptionStyleModel",
            "description_width": "",
            "_view_module": "@jupyter-widgets/base",
            "_model_module_version": "1.5.0",
            "_view_count": null,
            "_view_module_version": "1.2.0",
            "_model_module": "@jupyter-widgets/controls"
          }
        },
        "7b0dcd2ab12947f190aef6460aaf33bc": {
          "model_module": "@jupyter-widgets/base",
          "model_name": "LayoutModel",
          "state": {
            "_view_name": "LayoutView",
            "grid_template_rows": null,
            "right": null,
            "justify_content": null,
            "_view_module": "@jupyter-widgets/base",
            "overflow": null,
            "_model_module_version": "1.2.0",
            "_view_count": null,
            "flex_flow": null,
            "width": null,
            "min_width": null,
            "border": null,
            "align_items": null,
            "bottom": null,
            "_model_module": "@jupyter-widgets/base",
            "top": null,
            "grid_column": null,
            "overflow_y": null,
            "overflow_x": null,
            "grid_auto_flow": null,
            "grid_area": null,
            "grid_template_columns": null,
            "flex": null,
            "_model_name": "LayoutModel",
            "justify_items": null,
            "grid_row": null,
            "max_height": null,
            "align_content": null,
            "visibility": null,
            "align_self": null,
            "height": null,
            "min_height": null,
            "padding": null,
            "grid_auto_rows": null,
            "grid_gap": null,
            "max_width": null,
            "order": null,
            "_view_module_version": "1.2.0",
            "grid_template_areas": null,
            "object_position": null,
            "object_fit": null,
            "grid_auto_columns": null,
            "margin": null,
            "display": null,
            "left": null
          }
        },
        "ee2acd9cf63e40cbb7566520875cfcb1": {
          "model_module": "@jupyter-widgets/controls",
          "model_name": "HBoxModel",
          "state": {
            "_view_name": "HBoxView",
            "_dom_classes": [],
            "_model_name": "HBoxModel",
            "_view_module": "@jupyter-widgets/controls",
            "_model_module_version": "1.5.0",
            "_view_count": null,
            "_view_module_version": "1.5.0",
            "box_style": "",
            "layout": "IPY_MODEL_af71218b340d47b0abb8eca4d0ee3c19",
            "_model_module": "@jupyter-widgets/controls",
            "children": [
              "IPY_MODEL_a78b19f405604fc8a5a8dc6873e3d720",
              "IPY_MODEL_b32e5b3ab4164a8ab32521e7df35355e"
            ]
          }
        },
        "af71218b340d47b0abb8eca4d0ee3c19": {
          "model_module": "@jupyter-widgets/base",
          "model_name": "LayoutModel",
          "state": {
            "_view_name": "LayoutView",
            "grid_template_rows": null,
            "right": null,
            "justify_content": null,
            "_view_module": "@jupyter-widgets/base",
            "overflow": null,
            "_model_module_version": "1.2.0",
            "_view_count": null,
            "flex_flow": null,
            "width": null,
            "min_width": null,
            "border": null,
            "align_items": null,
            "bottom": null,
            "_model_module": "@jupyter-widgets/base",
            "top": null,
            "grid_column": null,
            "overflow_y": null,
            "overflow_x": null,
            "grid_auto_flow": null,
            "grid_area": null,
            "grid_template_columns": null,
            "flex": null,
            "_model_name": "LayoutModel",
            "justify_items": null,
            "grid_row": null,
            "max_height": null,
            "align_content": null,
            "visibility": null,
            "align_self": null,
            "height": null,
            "min_height": null,
            "padding": null,
            "grid_auto_rows": null,
            "grid_gap": null,
            "max_width": null,
            "order": null,
            "_view_module_version": "1.2.0",
            "grid_template_areas": null,
            "object_position": null,
            "object_fit": null,
            "grid_auto_columns": null,
            "margin": null,
            "display": null,
            "left": null
          }
        },
        "a78b19f405604fc8a5a8dc6873e3d720": {
          "model_module": "@jupyter-widgets/controls",
          "model_name": "IntProgressModel",
          "state": {
            "_view_name": "ProgressView",
            "style": "IPY_MODEL_0182aea4cb1b40608bcf0ed6c5e4ec9e",
            "_dom_classes": [],
            "description": "100%",
            "_model_name": "IntProgressModel",
            "bar_style": "success",
            "max": 159571,
            "_view_module": "@jupyter-widgets/controls",
            "_model_module_version": "1.5.0",
            "value": 159571,
            "_view_count": null,
            "_view_module_version": "1.5.0",
            "orientation": "horizontal",
            "min": 0,
            "description_tooltip": null,
            "_model_module": "@jupyter-widgets/controls",
            "layout": "IPY_MODEL_b5a5a21d00de41adb5b29f07469c6dac"
          }
        },
        "b32e5b3ab4164a8ab32521e7df35355e": {
          "model_module": "@jupyter-widgets/controls",
          "model_name": "HTMLModel",
          "state": {
            "_view_name": "HTMLView",
            "style": "IPY_MODEL_bdabc7fe964f4c2da51b9304369e5b85",
            "_dom_classes": [],
            "description": "",
            "_model_name": "HTMLModel",
            "placeholder": "​",
            "_view_module": "@jupyter-widgets/controls",
            "_model_module_version": "1.5.0",
            "value": " 159571/159571 [01:01&lt;00:00, 2590.06it/s]",
            "_view_count": null,
            "_view_module_version": "1.5.0",
            "description_tooltip": null,
            "_model_module": "@jupyter-widgets/controls",
            "layout": "IPY_MODEL_4f95f9c6c96e4027a054f862b4cc5c19"
          }
        },
        "0182aea4cb1b40608bcf0ed6c5e4ec9e": {
          "model_module": "@jupyter-widgets/controls",
          "model_name": "ProgressStyleModel",
          "state": {
            "_view_name": "StyleView",
            "_model_name": "ProgressStyleModel",
            "description_width": "initial",
            "_view_module": "@jupyter-widgets/base",
            "_model_module_version": "1.5.0",
            "_view_count": null,
            "_view_module_version": "1.2.0",
            "bar_color": null,
            "_model_module": "@jupyter-widgets/controls"
          }
        },
        "b5a5a21d00de41adb5b29f07469c6dac": {
          "model_module": "@jupyter-widgets/base",
          "model_name": "LayoutModel",
          "state": {
            "_view_name": "LayoutView",
            "grid_template_rows": null,
            "right": null,
            "justify_content": null,
            "_view_module": "@jupyter-widgets/base",
            "overflow": null,
            "_model_module_version": "1.2.0",
            "_view_count": null,
            "flex_flow": null,
            "width": null,
            "min_width": null,
            "border": null,
            "align_items": null,
            "bottom": null,
            "_model_module": "@jupyter-widgets/base",
            "top": null,
            "grid_column": null,
            "overflow_y": null,
            "overflow_x": null,
            "grid_auto_flow": null,
            "grid_area": null,
            "grid_template_columns": null,
            "flex": null,
            "_model_name": "LayoutModel",
            "justify_items": null,
            "grid_row": null,
            "max_height": null,
            "align_content": null,
            "visibility": null,
            "align_self": null,
            "height": null,
            "min_height": null,
            "padding": null,
            "grid_auto_rows": null,
            "grid_gap": null,
            "max_width": null,
            "order": null,
            "_view_module_version": "1.2.0",
            "grid_template_areas": null,
            "object_position": null,
            "object_fit": null,
            "grid_auto_columns": null,
            "margin": null,
            "display": null,
            "left": null
          }
        },
        "bdabc7fe964f4c2da51b9304369e5b85": {
          "model_module": "@jupyter-widgets/controls",
          "model_name": "DescriptionStyleModel",
          "state": {
            "_view_name": "StyleView",
            "_model_name": "DescriptionStyleModel",
            "description_width": "",
            "_view_module": "@jupyter-widgets/base",
            "_model_module_version": "1.5.0",
            "_view_count": null,
            "_view_module_version": "1.2.0",
            "_model_module": "@jupyter-widgets/controls"
          }
        },
        "4f95f9c6c96e4027a054f862b4cc5c19": {
          "model_module": "@jupyter-widgets/base",
          "model_name": "LayoutModel",
          "state": {
            "_view_name": "LayoutView",
            "grid_template_rows": null,
            "right": null,
            "justify_content": null,
            "_view_module": "@jupyter-widgets/base",
            "overflow": null,
            "_model_module_version": "1.2.0",
            "_view_count": null,
            "flex_flow": null,
            "width": null,
            "min_width": null,
            "border": null,
            "align_items": null,
            "bottom": null,
            "_model_module": "@jupyter-widgets/base",
            "top": null,
            "grid_column": null,
            "overflow_y": null,
            "overflow_x": null,
            "grid_auto_flow": null,
            "grid_area": null,
            "grid_template_columns": null,
            "flex": null,
            "_model_name": "LayoutModel",
            "justify_items": null,
            "grid_row": null,
            "max_height": null,
            "align_content": null,
            "visibility": null,
            "align_self": null,
            "height": null,
            "min_height": null,
            "padding": null,
            "grid_auto_rows": null,
            "grid_gap": null,
            "max_width": null,
            "order": null,
            "_view_module_version": "1.2.0",
            "grid_template_areas": null,
            "object_position": null,
            "object_fit": null,
            "grid_auto_columns": null,
            "margin": null,
            "display": null,
            "left": null
          }
        },
        "eead1c63b0864cba8da9fe868bcb4a41": {
          "model_module": "@jupyter-widgets/controls",
          "model_name": "HBoxModel",
          "state": {
            "_view_name": "HBoxView",
            "_dom_classes": [],
            "_model_name": "HBoxModel",
            "_view_module": "@jupyter-widgets/controls",
            "_model_module_version": "1.5.0",
            "_view_count": null,
            "_view_module_version": "1.5.0",
            "box_style": "",
            "layout": "IPY_MODEL_4380429bc9954429973f9384a1e8b12b",
            "_model_module": "@jupyter-widgets/controls",
            "children": [
              "IPY_MODEL_04ff1636ce5a4f9593a2ac1c58b4ff32",
              "IPY_MODEL_e633905c5c1d41398d8296417e38f362"
            ]
          }
        },
        "4380429bc9954429973f9384a1e8b12b": {
          "model_module": "@jupyter-widgets/base",
          "model_name": "LayoutModel",
          "state": {
            "_view_name": "LayoutView",
            "grid_template_rows": null,
            "right": null,
            "justify_content": null,
            "_view_module": "@jupyter-widgets/base",
            "overflow": null,
            "_model_module_version": "1.2.0",
            "_view_count": null,
            "flex_flow": null,
            "width": null,
            "min_width": null,
            "border": null,
            "align_items": null,
            "bottom": null,
            "_model_module": "@jupyter-widgets/base",
            "top": null,
            "grid_column": null,
            "overflow_y": null,
            "overflow_x": null,
            "grid_auto_flow": null,
            "grid_area": null,
            "grid_template_columns": null,
            "flex": null,
            "_model_name": "LayoutModel",
            "justify_items": null,
            "grid_row": null,
            "max_height": null,
            "align_content": null,
            "visibility": null,
            "align_self": null,
            "height": null,
            "min_height": null,
            "padding": null,
            "grid_auto_rows": null,
            "grid_gap": null,
            "max_width": null,
            "order": null,
            "_view_module_version": "1.2.0",
            "grid_template_areas": null,
            "object_position": null,
            "object_fit": null,
            "grid_auto_columns": null,
            "margin": null,
            "display": null,
            "left": null
          }
        },
        "04ff1636ce5a4f9593a2ac1c58b4ff32": {
          "model_module": "@jupyter-widgets/controls",
          "model_name": "IntProgressModel",
          "state": {
            "_view_name": "ProgressView",
            "style": "IPY_MODEL_be1e2a6d3e5c4471bb6069e4d66d7a46",
            "_dom_classes": [],
            "description": "100%",
            "_model_name": "IntProgressModel",
            "bar_style": "success",
            "max": 153164,
            "_view_module": "@jupyter-widgets/controls",
            "_model_module_version": "1.5.0",
            "value": 153164,
            "_view_count": null,
            "_view_module_version": "1.5.0",
            "orientation": "horizontal",
            "min": 0,
            "description_tooltip": null,
            "_model_module": "@jupyter-widgets/controls",
            "layout": "IPY_MODEL_d441557f6c3743779823f4f309dde94f"
          }
        },
        "e633905c5c1d41398d8296417e38f362": {
          "model_module": "@jupyter-widgets/controls",
          "model_name": "HTMLModel",
          "state": {
            "_view_name": "HTMLView",
            "style": "IPY_MODEL_41f4fc0a8e3048a69a87da314e463184",
            "_dom_classes": [],
            "description": "",
            "_model_name": "HTMLModel",
            "placeholder": "​",
            "_view_module": "@jupyter-widgets/controls",
            "_model_module_version": "1.5.0",
            "value": " 153164/153164 [00:35&lt;00:00, 4264.53it/s]",
            "_view_count": null,
            "_view_module_version": "1.5.0",
            "description_tooltip": null,
            "_model_module": "@jupyter-widgets/controls",
            "layout": "IPY_MODEL_794a682ab5394566b8d3e5918ecf2278"
          }
        },
        "be1e2a6d3e5c4471bb6069e4d66d7a46": {
          "model_module": "@jupyter-widgets/controls",
          "model_name": "ProgressStyleModel",
          "state": {
            "_view_name": "StyleView",
            "_model_name": "ProgressStyleModel",
            "description_width": "initial",
            "_view_module": "@jupyter-widgets/base",
            "_model_module_version": "1.5.0",
            "_view_count": null,
            "_view_module_version": "1.2.0",
            "bar_color": null,
            "_model_module": "@jupyter-widgets/controls"
          }
        },
        "d441557f6c3743779823f4f309dde94f": {
          "model_module": "@jupyter-widgets/base",
          "model_name": "LayoutModel",
          "state": {
            "_view_name": "LayoutView",
            "grid_template_rows": null,
            "right": null,
            "justify_content": null,
            "_view_module": "@jupyter-widgets/base",
            "overflow": null,
            "_model_module_version": "1.2.0",
            "_view_count": null,
            "flex_flow": null,
            "width": null,
            "min_width": null,
            "border": null,
            "align_items": null,
            "bottom": null,
            "_model_module": "@jupyter-widgets/base",
            "top": null,
            "grid_column": null,
            "overflow_y": null,
            "overflow_x": null,
            "grid_auto_flow": null,
            "grid_area": null,
            "grid_template_columns": null,
            "flex": null,
            "_model_name": "LayoutModel",
            "justify_items": null,
            "grid_row": null,
            "max_height": null,
            "align_content": null,
            "visibility": null,
            "align_self": null,
            "height": null,
            "min_height": null,
            "padding": null,
            "grid_auto_rows": null,
            "grid_gap": null,
            "max_width": null,
            "order": null,
            "_view_module_version": "1.2.0",
            "grid_template_areas": null,
            "object_position": null,
            "object_fit": null,
            "grid_auto_columns": null,
            "margin": null,
            "display": null,
            "left": null
          }
        },
        "41f4fc0a8e3048a69a87da314e463184": {
          "model_module": "@jupyter-widgets/controls",
          "model_name": "DescriptionStyleModel",
          "state": {
            "_view_name": "StyleView",
            "_model_name": "DescriptionStyleModel",
            "description_width": "",
            "_view_module": "@jupyter-widgets/base",
            "_model_module_version": "1.5.0",
            "_view_count": null,
            "_view_module_version": "1.2.0",
            "_model_module": "@jupyter-widgets/controls"
          }
        },
        "794a682ab5394566b8d3e5918ecf2278": {
          "model_module": "@jupyter-widgets/base",
          "model_name": "LayoutModel",
          "state": {
            "_view_name": "LayoutView",
            "grid_template_rows": null,
            "right": null,
            "justify_content": null,
            "_view_module": "@jupyter-widgets/base",
            "overflow": null,
            "_model_module_version": "1.2.0",
            "_view_count": null,
            "flex_flow": null,
            "width": null,
            "min_width": null,
            "border": null,
            "align_items": null,
            "bottom": null,
            "_model_module": "@jupyter-widgets/base",
            "top": null,
            "grid_column": null,
            "overflow_y": null,
            "overflow_x": null,
            "grid_auto_flow": null,
            "grid_area": null,
            "grid_template_columns": null,
            "flex": null,
            "_model_name": "LayoutModel",
            "justify_items": null,
            "grid_row": null,
            "max_height": null,
            "align_content": null,
            "visibility": null,
            "align_self": null,
            "height": null,
            "min_height": null,
            "padding": null,
            "grid_auto_rows": null,
            "grid_gap": null,
            "max_width": null,
            "order": null,
            "_view_module_version": "1.2.0",
            "grid_template_areas": null,
            "object_position": null,
            "object_fit": null,
            "grid_auto_columns": null,
            "margin": null,
            "display": null,
            "left": null
          }
        },
        "2a6434dd7e9945b992b02b9315dc6f24": {
          "model_module": "@jupyter-widgets/controls",
          "model_name": "HBoxModel",
          "state": {
            "_view_name": "HBoxView",
            "_dom_classes": [],
            "_model_name": "HBoxModel",
            "_view_module": "@jupyter-widgets/controls",
            "_model_module_version": "1.5.0",
            "_view_count": null,
            "_view_module_version": "1.5.0",
            "box_style": "",
            "layout": "IPY_MODEL_109ce3f8935a4b688baee5953813a457",
            "_model_module": "@jupyter-widgets/controls",
            "children": [
              "IPY_MODEL_a91ca5441f73411ba564c6f0c4297a9f",
              "IPY_MODEL_52c216d136594700b4383cfd2a5cb32e"
            ]
          }
        },
        "109ce3f8935a4b688baee5953813a457": {
          "model_module": "@jupyter-widgets/base",
          "model_name": "LayoutModel",
          "state": {
            "_view_name": "LayoutView",
            "grid_template_rows": null,
            "right": null,
            "justify_content": null,
            "_view_module": "@jupyter-widgets/base",
            "overflow": null,
            "_model_module_version": "1.2.0",
            "_view_count": null,
            "flex_flow": null,
            "width": null,
            "min_width": null,
            "border": null,
            "align_items": null,
            "bottom": null,
            "_model_module": "@jupyter-widgets/base",
            "top": null,
            "grid_column": null,
            "overflow_y": null,
            "overflow_x": null,
            "grid_auto_flow": null,
            "grid_area": null,
            "grid_template_columns": null,
            "flex": null,
            "_model_name": "LayoutModel",
            "justify_items": null,
            "grid_row": null,
            "max_height": null,
            "align_content": null,
            "visibility": null,
            "align_self": null,
            "height": null,
            "min_height": null,
            "padding": null,
            "grid_auto_rows": null,
            "grid_gap": null,
            "max_width": null,
            "order": null,
            "_view_module_version": "1.2.0",
            "grid_template_areas": null,
            "object_position": null,
            "object_fit": null,
            "grid_auto_columns": null,
            "margin": null,
            "display": null,
            "left": null
          }
        },
        "a91ca5441f73411ba564c6f0c4297a9f": {
          "model_module": "@jupyter-widgets/controls",
          "model_name": "IntProgressModel",
          "state": {
            "_view_name": "ProgressView",
            "style": "IPY_MODEL_786a25159474458fafd31bf9160eb1d1",
            "_dom_classes": [],
            "description": "100%",
            "_model_name": "IntProgressModel",
            "bar_style": "success",
            "max": 159571,
            "_view_module": "@jupyter-widgets/controls",
            "_model_module_version": "1.5.0",
            "value": 159571,
            "_view_count": null,
            "_view_module_version": "1.5.0",
            "orientation": "horizontal",
            "min": 0,
            "description_tooltip": null,
            "_model_module": "@jupyter-widgets/controls",
            "layout": "IPY_MODEL_75e1152dfc334b308cbd69f857df61b3"
          }
        },
        "52c216d136594700b4383cfd2a5cb32e": {
          "model_module": "@jupyter-widgets/controls",
          "model_name": "HTMLModel",
          "state": {
            "_view_name": "HTMLView",
            "style": "IPY_MODEL_bda504961f0f4ffea529f56fb4f83433",
            "_dom_classes": [],
            "description": "",
            "_model_name": "HTMLModel",
            "placeholder": "​",
            "_view_module": "@jupyter-widgets/controls",
            "_model_module_version": "1.5.0",
            "value": " 159571/159571 [00:13&lt;00:00, 11556.80it/s]",
            "_view_count": null,
            "_view_module_version": "1.5.0",
            "description_tooltip": null,
            "_model_module": "@jupyter-widgets/controls",
            "layout": "IPY_MODEL_4115317b64da4680899e8c20bc25bfaa"
          }
        },
        "786a25159474458fafd31bf9160eb1d1": {
          "model_module": "@jupyter-widgets/controls",
          "model_name": "ProgressStyleModel",
          "state": {
            "_view_name": "StyleView",
            "_model_name": "ProgressStyleModel",
            "description_width": "initial",
            "_view_module": "@jupyter-widgets/base",
            "_model_module_version": "1.5.0",
            "_view_count": null,
            "_view_module_version": "1.2.0",
            "bar_color": null,
            "_model_module": "@jupyter-widgets/controls"
          }
        },
        "75e1152dfc334b308cbd69f857df61b3": {
          "model_module": "@jupyter-widgets/base",
          "model_name": "LayoutModel",
          "state": {
            "_view_name": "LayoutView",
            "grid_template_rows": null,
            "right": null,
            "justify_content": null,
            "_view_module": "@jupyter-widgets/base",
            "overflow": null,
            "_model_module_version": "1.2.0",
            "_view_count": null,
            "flex_flow": null,
            "width": null,
            "min_width": null,
            "border": null,
            "align_items": null,
            "bottom": null,
            "_model_module": "@jupyter-widgets/base",
            "top": null,
            "grid_column": null,
            "overflow_y": null,
            "overflow_x": null,
            "grid_auto_flow": null,
            "grid_area": null,
            "grid_template_columns": null,
            "flex": null,
            "_model_name": "LayoutModel",
            "justify_items": null,
            "grid_row": null,
            "max_height": null,
            "align_content": null,
            "visibility": null,
            "align_self": null,
            "height": null,
            "min_height": null,
            "padding": null,
            "grid_auto_rows": null,
            "grid_gap": null,
            "max_width": null,
            "order": null,
            "_view_module_version": "1.2.0",
            "grid_template_areas": null,
            "object_position": null,
            "object_fit": null,
            "grid_auto_columns": null,
            "margin": null,
            "display": null,
            "left": null
          }
        },
        "bda504961f0f4ffea529f56fb4f83433": {
          "model_module": "@jupyter-widgets/controls",
          "model_name": "DescriptionStyleModel",
          "state": {
            "_view_name": "StyleView",
            "_model_name": "DescriptionStyleModel",
            "description_width": "",
            "_view_module": "@jupyter-widgets/base",
            "_model_module_version": "1.5.0",
            "_view_count": null,
            "_view_module_version": "1.2.0",
            "_model_module": "@jupyter-widgets/controls"
          }
        },
        "4115317b64da4680899e8c20bc25bfaa": {
          "model_module": "@jupyter-widgets/base",
          "model_name": "LayoutModel",
          "state": {
            "_view_name": "LayoutView",
            "grid_template_rows": null,
            "right": null,
            "justify_content": null,
            "_view_module": "@jupyter-widgets/base",
            "overflow": null,
            "_model_module_version": "1.2.0",
            "_view_count": null,
            "flex_flow": null,
            "width": null,
            "min_width": null,
            "border": null,
            "align_items": null,
            "bottom": null,
            "_model_module": "@jupyter-widgets/base",
            "top": null,
            "grid_column": null,
            "overflow_y": null,
            "overflow_x": null,
            "grid_auto_flow": null,
            "grid_area": null,
            "grid_template_columns": null,
            "flex": null,
            "_model_name": "LayoutModel",
            "justify_items": null,
            "grid_row": null,
            "max_height": null,
            "align_content": null,
            "visibility": null,
            "align_self": null,
            "height": null,
            "min_height": null,
            "padding": null,
            "grid_auto_rows": null,
            "grid_gap": null,
            "max_width": null,
            "order": null,
            "_view_module_version": "1.2.0",
            "grid_template_areas": null,
            "object_position": null,
            "object_fit": null,
            "grid_auto_columns": null,
            "margin": null,
            "display": null,
            "left": null
          }
        },
        "c33577859f644020b059cff8f09ccefa": {
          "model_module": "@jupyter-widgets/controls",
          "model_name": "HBoxModel",
          "state": {
            "_view_name": "HBoxView",
            "_dom_classes": [],
            "_model_name": "HBoxModel",
            "_view_module": "@jupyter-widgets/controls",
            "_model_module_version": "1.5.0",
            "_view_count": null,
            "_view_module_version": "1.5.0",
            "box_style": "",
            "layout": "IPY_MODEL_a5fb477c1e6b4d9c89af69fdfc1996e6",
            "_model_module": "@jupyter-widgets/controls",
            "children": [
              "IPY_MODEL_ccd6d4f78af9462db16cbfd34038474d",
              "IPY_MODEL_b429a76c2f91463aab082bba1c1eca19"
            ]
          }
        },
        "a5fb477c1e6b4d9c89af69fdfc1996e6": {
          "model_module": "@jupyter-widgets/base",
          "model_name": "LayoutModel",
          "state": {
            "_view_name": "LayoutView",
            "grid_template_rows": null,
            "right": null,
            "justify_content": null,
            "_view_module": "@jupyter-widgets/base",
            "overflow": null,
            "_model_module_version": "1.2.0",
            "_view_count": null,
            "flex_flow": null,
            "width": null,
            "min_width": null,
            "border": null,
            "align_items": null,
            "bottom": null,
            "_model_module": "@jupyter-widgets/base",
            "top": null,
            "grid_column": null,
            "overflow_y": null,
            "overflow_x": null,
            "grid_auto_flow": null,
            "grid_area": null,
            "grid_template_columns": null,
            "flex": null,
            "_model_name": "LayoutModel",
            "justify_items": null,
            "grid_row": null,
            "max_height": null,
            "align_content": null,
            "visibility": null,
            "align_self": null,
            "height": null,
            "min_height": null,
            "padding": null,
            "grid_auto_rows": null,
            "grid_gap": null,
            "max_width": null,
            "order": null,
            "_view_module_version": "1.2.0",
            "grid_template_areas": null,
            "object_position": null,
            "object_fit": null,
            "grid_auto_columns": null,
            "margin": null,
            "display": null,
            "left": null
          }
        },
        "ccd6d4f78af9462db16cbfd34038474d": {
          "model_module": "@jupyter-widgets/controls",
          "model_name": "IntProgressModel",
          "state": {
            "_view_name": "ProgressView",
            "style": "IPY_MODEL_30ba1932a7e348d7a23decfd4d6d64aa",
            "_dom_classes": [],
            "description": "100%",
            "_model_name": "IntProgressModel",
            "bar_style": "success",
            "max": 153164,
            "_view_module": "@jupyter-widgets/controls",
            "_model_module_version": "1.5.0",
            "value": 153164,
            "_view_count": null,
            "_view_module_version": "1.5.0",
            "orientation": "horizontal",
            "min": 0,
            "description_tooltip": null,
            "_model_module": "@jupyter-widgets/controls",
            "layout": "IPY_MODEL_9ee7851a8f524f6f8475854cff0e365a"
          }
        },
        "b429a76c2f91463aab082bba1c1eca19": {
          "model_module": "@jupyter-widgets/controls",
          "model_name": "HTMLModel",
          "state": {
            "_view_name": "HTMLView",
            "style": "IPY_MODEL_bba007a5f3e7433a8de37a4689b6705d",
            "_dom_classes": [],
            "description": "",
            "_model_name": "HTMLModel",
            "placeholder": "​",
            "_view_module": "@jupyter-widgets/controls",
            "_model_module_version": "1.5.0",
            "value": " 153164/153164 [00:53&lt;00:00, 2889.39it/s]",
            "_view_count": null,
            "_view_module_version": "1.5.0",
            "description_tooltip": null,
            "_model_module": "@jupyter-widgets/controls",
            "layout": "IPY_MODEL_3194fb8c4d434ac88dca3c86c0e7397b"
          }
        },
        "30ba1932a7e348d7a23decfd4d6d64aa": {
          "model_module": "@jupyter-widgets/controls",
          "model_name": "ProgressStyleModel",
          "state": {
            "_view_name": "StyleView",
            "_model_name": "ProgressStyleModel",
            "description_width": "initial",
            "_view_module": "@jupyter-widgets/base",
            "_model_module_version": "1.5.0",
            "_view_count": null,
            "_view_module_version": "1.2.0",
            "bar_color": null,
            "_model_module": "@jupyter-widgets/controls"
          }
        },
        "9ee7851a8f524f6f8475854cff0e365a": {
          "model_module": "@jupyter-widgets/base",
          "model_name": "LayoutModel",
          "state": {
            "_view_name": "LayoutView",
            "grid_template_rows": null,
            "right": null,
            "justify_content": null,
            "_view_module": "@jupyter-widgets/base",
            "overflow": null,
            "_model_module_version": "1.2.0",
            "_view_count": null,
            "flex_flow": null,
            "width": null,
            "min_width": null,
            "border": null,
            "align_items": null,
            "bottom": null,
            "_model_module": "@jupyter-widgets/base",
            "top": null,
            "grid_column": null,
            "overflow_y": null,
            "overflow_x": null,
            "grid_auto_flow": null,
            "grid_area": null,
            "grid_template_columns": null,
            "flex": null,
            "_model_name": "LayoutModel",
            "justify_items": null,
            "grid_row": null,
            "max_height": null,
            "align_content": null,
            "visibility": null,
            "align_self": null,
            "height": null,
            "min_height": null,
            "padding": null,
            "grid_auto_rows": null,
            "grid_gap": null,
            "max_width": null,
            "order": null,
            "_view_module_version": "1.2.0",
            "grid_template_areas": null,
            "object_position": null,
            "object_fit": null,
            "grid_auto_columns": null,
            "margin": null,
            "display": null,
            "left": null
          }
        },
        "bba007a5f3e7433a8de37a4689b6705d": {
          "model_module": "@jupyter-widgets/controls",
          "model_name": "DescriptionStyleModel",
          "state": {
            "_view_name": "StyleView",
            "_model_name": "DescriptionStyleModel",
            "description_width": "",
            "_view_module": "@jupyter-widgets/base",
            "_model_module_version": "1.5.0",
            "_view_count": null,
            "_view_module_version": "1.2.0",
            "_model_module": "@jupyter-widgets/controls"
          }
        },
        "3194fb8c4d434ac88dca3c86c0e7397b": {
          "model_module": "@jupyter-widgets/base",
          "model_name": "LayoutModel",
          "state": {
            "_view_name": "LayoutView",
            "grid_template_rows": null,
            "right": null,
            "justify_content": null,
            "_view_module": "@jupyter-widgets/base",
            "overflow": null,
            "_model_module_version": "1.2.0",
            "_view_count": null,
            "flex_flow": null,
            "width": null,
            "min_width": null,
            "border": null,
            "align_items": null,
            "bottom": null,
            "_model_module": "@jupyter-widgets/base",
            "top": null,
            "grid_column": null,
            "overflow_y": null,
            "overflow_x": null,
            "grid_auto_flow": null,
            "grid_area": null,
            "grid_template_columns": null,
            "flex": null,
            "_model_name": "LayoutModel",
            "justify_items": null,
            "grid_row": null,
            "max_height": null,
            "align_content": null,
            "visibility": null,
            "align_self": null,
            "height": null,
            "min_height": null,
            "padding": null,
            "grid_auto_rows": null,
            "grid_gap": null,
            "max_width": null,
            "order": null,
            "_view_module_version": "1.2.0",
            "grid_template_areas": null,
            "object_position": null,
            "object_fit": null,
            "grid_auto_columns": null,
            "margin": null,
            "display": null,
            "left": null
          }
        },
        "6e835e8e39684635855bbf35de8edce8": {
          "model_module": "@jupyter-widgets/controls",
          "model_name": "HBoxModel",
          "state": {
            "_view_name": "HBoxView",
            "_dom_classes": [],
            "_model_name": "HBoxModel",
            "_view_module": "@jupyter-widgets/controls",
            "_model_module_version": "1.5.0",
            "_view_count": null,
            "_view_module_version": "1.5.0",
            "box_style": "",
            "layout": "IPY_MODEL_e4695aa63b7a43cfbc9a213f80384b60",
            "_model_module": "@jupyter-widgets/controls",
            "children": [
              "IPY_MODEL_f642c1745619446cb975ecde29c78dad",
              "IPY_MODEL_9e3fd73232c1425ab44b9fe83f5424b1"
            ]
          }
        },
        "e4695aa63b7a43cfbc9a213f80384b60": {
          "model_module": "@jupyter-widgets/base",
          "model_name": "LayoutModel",
          "state": {
            "_view_name": "LayoutView",
            "grid_template_rows": null,
            "right": null,
            "justify_content": null,
            "_view_module": "@jupyter-widgets/base",
            "overflow": null,
            "_model_module_version": "1.2.0",
            "_view_count": null,
            "flex_flow": null,
            "width": null,
            "min_width": null,
            "border": null,
            "align_items": null,
            "bottom": null,
            "_model_module": "@jupyter-widgets/base",
            "top": null,
            "grid_column": null,
            "overflow_y": null,
            "overflow_x": null,
            "grid_auto_flow": null,
            "grid_area": null,
            "grid_template_columns": null,
            "flex": null,
            "_model_name": "LayoutModel",
            "justify_items": null,
            "grid_row": null,
            "max_height": null,
            "align_content": null,
            "visibility": null,
            "align_self": null,
            "height": null,
            "min_height": null,
            "padding": null,
            "grid_auto_rows": null,
            "grid_gap": null,
            "max_width": null,
            "order": null,
            "_view_module_version": "1.2.0",
            "grid_template_areas": null,
            "object_position": null,
            "object_fit": null,
            "grid_auto_columns": null,
            "margin": null,
            "display": null,
            "left": null
          }
        },
        "f642c1745619446cb975ecde29c78dad": {
          "model_module": "@jupyter-widgets/controls",
          "model_name": "IntProgressModel",
          "state": {
            "_view_name": "ProgressView",
            "style": "IPY_MODEL_13896da07cb2414da6cc3f786b78730e",
            "_dom_classes": [],
            "description": "100%",
            "_model_name": "IntProgressModel",
            "bar_style": "success",
            "max": 159571,
            "_view_module": "@jupyter-widgets/controls",
            "_model_module_version": "1.5.0",
            "value": 159571,
            "_view_count": null,
            "_view_module_version": "1.5.0",
            "orientation": "horizontal",
            "min": 0,
            "description_tooltip": null,
            "_model_module": "@jupyter-widgets/controls",
            "layout": "IPY_MODEL_ca988cd5ea764ac4aea4acb45a47dfd9"
          }
        },
        "9e3fd73232c1425ab44b9fe83f5424b1": {
          "model_module": "@jupyter-widgets/controls",
          "model_name": "HTMLModel",
          "state": {
            "_view_name": "HTMLView",
            "style": "IPY_MODEL_8f6788d5f1b34fe2b18e3977e1cc3ef0",
            "_dom_classes": [],
            "description": "",
            "_model_name": "HTMLModel",
            "placeholder": "​",
            "_view_module": "@jupyter-widgets/controls",
            "_model_module_version": "1.5.0",
            "value": " 159571/159571 [00:10&lt;00:00, 15498.35it/s]",
            "_view_count": null,
            "_view_module_version": "1.5.0",
            "description_tooltip": null,
            "_model_module": "@jupyter-widgets/controls",
            "layout": "IPY_MODEL_2f1f8dbe943f4a98800bbd8cb858eeaa"
          }
        },
        "13896da07cb2414da6cc3f786b78730e": {
          "model_module": "@jupyter-widgets/controls",
          "model_name": "ProgressStyleModel",
          "state": {
            "_view_name": "StyleView",
            "_model_name": "ProgressStyleModel",
            "description_width": "initial",
            "_view_module": "@jupyter-widgets/base",
            "_model_module_version": "1.5.0",
            "_view_count": null,
            "_view_module_version": "1.2.0",
            "bar_color": null,
            "_model_module": "@jupyter-widgets/controls"
          }
        },
        "ca988cd5ea764ac4aea4acb45a47dfd9": {
          "model_module": "@jupyter-widgets/base",
          "model_name": "LayoutModel",
          "state": {
            "_view_name": "LayoutView",
            "grid_template_rows": null,
            "right": null,
            "justify_content": null,
            "_view_module": "@jupyter-widgets/base",
            "overflow": null,
            "_model_module_version": "1.2.0",
            "_view_count": null,
            "flex_flow": null,
            "width": null,
            "min_width": null,
            "border": null,
            "align_items": null,
            "bottom": null,
            "_model_module": "@jupyter-widgets/base",
            "top": null,
            "grid_column": null,
            "overflow_y": null,
            "overflow_x": null,
            "grid_auto_flow": null,
            "grid_area": null,
            "grid_template_columns": null,
            "flex": null,
            "_model_name": "LayoutModel",
            "justify_items": null,
            "grid_row": null,
            "max_height": null,
            "align_content": null,
            "visibility": null,
            "align_self": null,
            "height": null,
            "min_height": null,
            "padding": null,
            "grid_auto_rows": null,
            "grid_gap": null,
            "max_width": null,
            "order": null,
            "_view_module_version": "1.2.0",
            "grid_template_areas": null,
            "object_position": null,
            "object_fit": null,
            "grid_auto_columns": null,
            "margin": null,
            "display": null,
            "left": null
          }
        },
        "8f6788d5f1b34fe2b18e3977e1cc3ef0": {
          "model_module": "@jupyter-widgets/controls",
          "model_name": "DescriptionStyleModel",
          "state": {
            "_view_name": "StyleView",
            "_model_name": "DescriptionStyleModel",
            "description_width": "",
            "_view_module": "@jupyter-widgets/base",
            "_model_module_version": "1.5.0",
            "_view_count": null,
            "_view_module_version": "1.2.0",
            "_model_module": "@jupyter-widgets/controls"
          }
        },
        "2f1f8dbe943f4a98800bbd8cb858eeaa": {
          "model_module": "@jupyter-widgets/base",
          "model_name": "LayoutModel",
          "state": {
            "_view_name": "LayoutView",
            "grid_template_rows": null,
            "right": null,
            "justify_content": null,
            "_view_module": "@jupyter-widgets/base",
            "overflow": null,
            "_model_module_version": "1.2.0",
            "_view_count": null,
            "flex_flow": null,
            "width": null,
            "min_width": null,
            "border": null,
            "align_items": null,
            "bottom": null,
            "_model_module": "@jupyter-widgets/base",
            "top": null,
            "grid_column": null,
            "overflow_y": null,
            "overflow_x": null,
            "grid_auto_flow": null,
            "grid_area": null,
            "grid_template_columns": null,
            "flex": null,
            "_model_name": "LayoutModel",
            "justify_items": null,
            "grid_row": null,
            "max_height": null,
            "align_content": null,
            "visibility": null,
            "align_self": null,
            "height": null,
            "min_height": null,
            "padding": null,
            "grid_auto_rows": null,
            "grid_gap": null,
            "max_width": null,
            "order": null,
            "_view_module_version": "1.2.0",
            "grid_template_areas": null,
            "object_position": null,
            "object_fit": null,
            "grid_auto_columns": null,
            "margin": null,
            "display": null,
            "left": null
          }
        },
        "5dd2a2525a32477db34c2579b1ec1f41": {
          "model_module": "@jupyter-widgets/controls",
          "model_name": "HBoxModel",
          "state": {
            "_view_name": "HBoxView",
            "_dom_classes": [],
            "_model_name": "HBoxModel",
            "_view_module": "@jupyter-widgets/controls",
            "_model_module_version": "1.5.0",
            "_view_count": null,
            "_view_module_version": "1.5.0",
            "box_style": "",
            "layout": "IPY_MODEL_07c9ca8284df4b76bc231051a25b01d5",
            "_model_module": "@jupyter-widgets/controls",
            "children": [
              "IPY_MODEL_7c06108caede4c60b3851e912ab4c373",
              "IPY_MODEL_b02e89262b444e9e8cac9efb44e8c500"
            ]
          }
        },
        "07c9ca8284df4b76bc231051a25b01d5": {
          "model_module": "@jupyter-widgets/base",
          "model_name": "LayoutModel",
          "state": {
            "_view_name": "LayoutView",
            "grid_template_rows": null,
            "right": null,
            "justify_content": null,
            "_view_module": "@jupyter-widgets/base",
            "overflow": null,
            "_model_module_version": "1.2.0",
            "_view_count": null,
            "flex_flow": null,
            "width": null,
            "min_width": null,
            "border": null,
            "align_items": null,
            "bottom": null,
            "_model_module": "@jupyter-widgets/base",
            "top": null,
            "grid_column": null,
            "overflow_y": null,
            "overflow_x": null,
            "grid_auto_flow": null,
            "grid_area": null,
            "grid_template_columns": null,
            "flex": null,
            "_model_name": "LayoutModel",
            "justify_items": null,
            "grid_row": null,
            "max_height": null,
            "align_content": null,
            "visibility": null,
            "align_self": null,
            "height": null,
            "min_height": null,
            "padding": null,
            "grid_auto_rows": null,
            "grid_gap": null,
            "max_width": null,
            "order": null,
            "_view_module_version": "1.2.0",
            "grid_template_areas": null,
            "object_position": null,
            "object_fit": null,
            "grid_auto_columns": null,
            "margin": null,
            "display": null,
            "left": null
          }
        },
        "7c06108caede4c60b3851e912ab4c373": {
          "model_module": "@jupyter-widgets/controls",
          "model_name": "IntProgressModel",
          "state": {
            "_view_name": "ProgressView",
            "style": "IPY_MODEL_ceebb2fb4d684f7e8c9bb97461e9ccd5",
            "_dom_classes": [],
            "description": "100%",
            "_model_name": "IntProgressModel",
            "bar_style": "success",
            "max": 153164,
            "_view_module": "@jupyter-widgets/controls",
            "_model_module_version": "1.5.0",
            "value": 153164,
            "_view_count": null,
            "_view_module_version": "1.5.0",
            "orientation": "horizontal",
            "min": 0,
            "description_tooltip": null,
            "_model_module": "@jupyter-widgets/controls",
            "layout": "IPY_MODEL_73b28991c4f9433cb9980da899bd4906"
          }
        },
        "b02e89262b444e9e8cac9efb44e8c500": {
          "model_module": "@jupyter-widgets/controls",
          "model_name": "HTMLModel",
          "state": {
            "_view_name": "HTMLView",
            "style": "IPY_MODEL_294ea381257b41b8a79909ddb67af840",
            "_dom_classes": [],
            "description": "",
            "_model_name": "HTMLModel",
            "placeholder": "​",
            "_view_module": "@jupyter-widgets/controls",
            "_model_module_version": "1.5.0",
            "value": " 153164/153164 [00:07&lt;00:00, 19495.97it/s]",
            "_view_count": null,
            "_view_module_version": "1.5.0",
            "description_tooltip": null,
            "_model_module": "@jupyter-widgets/controls",
            "layout": "IPY_MODEL_defdd9a0b29b4b3d8542745e26858c57"
          }
        },
        "ceebb2fb4d684f7e8c9bb97461e9ccd5": {
          "model_module": "@jupyter-widgets/controls",
          "model_name": "ProgressStyleModel",
          "state": {
            "_view_name": "StyleView",
            "_model_name": "ProgressStyleModel",
            "description_width": "initial",
            "_view_module": "@jupyter-widgets/base",
            "_model_module_version": "1.5.0",
            "_view_count": null,
            "_view_module_version": "1.2.0",
            "bar_color": null,
            "_model_module": "@jupyter-widgets/controls"
          }
        },
        "73b28991c4f9433cb9980da899bd4906": {
          "model_module": "@jupyter-widgets/base",
          "model_name": "LayoutModel",
          "state": {
            "_view_name": "LayoutView",
            "grid_template_rows": null,
            "right": null,
            "justify_content": null,
            "_view_module": "@jupyter-widgets/base",
            "overflow": null,
            "_model_module_version": "1.2.0",
            "_view_count": null,
            "flex_flow": null,
            "width": null,
            "min_width": null,
            "border": null,
            "align_items": null,
            "bottom": null,
            "_model_module": "@jupyter-widgets/base",
            "top": null,
            "grid_column": null,
            "overflow_y": null,
            "overflow_x": null,
            "grid_auto_flow": null,
            "grid_area": null,
            "grid_template_columns": null,
            "flex": null,
            "_model_name": "LayoutModel",
            "justify_items": null,
            "grid_row": null,
            "max_height": null,
            "align_content": null,
            "visibility": null,
            "align_self": null,
            "height": null,
            "min_height": null,
            "padding": null,
            "grid_auto_rows": null,
            "grid_gap": null,
            "max_width": null,
            "order": null,
            "_view_module_version": "1.2.0",
            "grid_template_areas": null,
            "object_position": null,
            "object_fit": null,
            "grid_auto_columns": null,
            "margin": null,
            "display": null,
            "left": null
          }
        },
        "294ea381257b41b8a79909ddb67af840": {
          "model_module": "@jupyter-widgets/controls",
          "model_name": "DescriptionStyleModel",
          "state": {
            "_view_name": "StyleView",
            "_model_name": "DescriptionStyleModel",
            "description_width": "",
            "_view_module": "@jupyter-widgets/base",
            "_model_module_version": "1.5.0",
            "_view_count": null,
            "_view_module_version": "1.2.0",
            "_model_module": "@jupyter-widgets/controls"
          }
        },
        "defdd9a0b29b4b3d8542745e26858c57": {
          "model_module": "@jupyter-widgets/base",
          "model_name": "LayoutModel",
          "state": {
            "_view_name": "LayoutView",
            "grid_template_rows": null,
            "right": null,
            "justify_content": null,
            "_view_module": "@jupyter-widgets/base",
            "overflow": null,
            "_model_module_version": "1.2.0",
            "_view_count": null,
            "flex_flow": null,
            "width": null,
            "min_width": null,
            "border": null,
            "align_items": null,
            "bottom": null,
            "_model_module": "@jupyter-widgets/base",
            "top": null,
            "grid_column": null,
            "overflow_y": null,
            "overflow_x": null,
            "grid_auto_flow": null,
            "grid_area": null,
            "grid_template_columns": null,
            "flex": null,
            "_model_name": "LayoutModel",
            "justify_items": null,
            "grid_row": null,
            "max_height": null,
            "align_content": null,
            "visibility": null,
            "align_self": null,
            "height": null,
            "min_height": null,
            "padding": null,
            "grid_auto_rows": null,
            "grid_gap": null,
            "max_width": null,
            "order": null,
            "_view_module_version": "1.2.0",
            "grid_template_areas": null,
            "object_position": null,
            "object_fit": null,
            "grid_auto_columns": null,
            "margin": null,
            "display": null,
            "left": null
          }
        },
        "49b4f2e3717b4defaed51b3bf20e1c33": {
          "model_module": "@jupyter-widgets/controls",
          "model_name": "HBoxModel",
          "state": {
            "_view_name": "HBoxView",
            "_dom_classes": [],
            "_model_name": "HBoxModel",
            "_view_module": "@jupyter-widgets/controls",
            "_model_module_version": "1.5.0",
            "_view_count": null,
            "_view_module_version": "1.5.0",
            "box_style": "",
            "layout": "IPY_MODEL_b966c2f6131c45e489e9e74fe13f35f0",
            "_model_module": "@jupyter-widgets/controls",
            "children": [
              "IPY_MODEL_cb2aa1f95d99408b87575e1720aff968",
              "IPY_MODEL_114947979b384f9dba52895904a973a7"
            ]
          }
        },
        "b966c2f6131c45e489e9e74fe13f35f0": {
          "model_module": "@jupyter-widgets/base",
          "model_name": "LayoutModel",
          "state": {
            "_view_name": "LayoutView",
            "grid_template_rows": null,
            "right": null,
            "justify_content": null,
            "_view_module": "@jupyter-widgets/base",
            "overflow": null,
            "_model_module_version": "1.2.0",
            "_view_count": null,
            "flex_flow": null,
            "width": null,
            "min_width": null,
            "border": null,
            "align_items": null,
            "bottom": null,
            "_model_module": "@jupyter-widgets/base",
            "top": null,
            "grid_column": null,
            "overflow_y": null,
            "overflow_x": null,
            "grid_auto_flow": null,
            "grid_area": null,
            "grid_template_columns": null,
            "flex": null,
            "_model_name": "LayoutModel",
            "justify_items": null,
            "grid_row": null,
            "max_height": null,
            "align_content": null,
            "visibility": null,
            "align_self": null,
            "height": null,
            "min_height": null,
            "padding": null,
            "grid_auto_rows": null,
            "grid_gap": null,
            "max_width": null,
            "order": null,
            "_view_module_version": "1.2.0",
            "grid_template_areas": null,
            "object_position": null,
            "object_fit": null,
            "grid_auto_columns": null,
            "margin": null,
            "display": null,
            "left": null
          }
        },
        "cb2aa1f95d99408b87575e1720aff968": {
          "model_module": "@jupyter-widgets/controls",
          "model_name": "IntProgressModel",
          "state": {
            "_view_name": "ProgressView",
            "style": "IPY_MODEL_2d2c0c6fc24142b89473903e114a2996",
            "_dom_classes": [],
            "description": "100%",
            "_model_name": "IntProgressModel",
            "bar_style": "success",
            "max": 159571,
            "_view_module": "@jupyter-widgets/controls",
            "_model_module_version": "1.5.0",
            "value": 159571,
            "_view_count": null,
            "_view_module_version": "1.5.0",
            "orientation": "horizontal",
            "min": 0,
            "description_tooltip": null,
            "_model_module": "@jupyter-widgets/controls",
            "layout": "IPY_MODEL_10f6a24f8f5e4491b37fe09a32d6c756"
          }
        },
        "114947979b384f9dba52895904a973a7": {
          "model_module": "@jupyter-widgets/controls",
          "model_name": "HTMLModel",
          "state": {
            "_view_name": "HTMLView",
            "style": "IPY_MODEL_c1f3dfc23e5347f6b0573281ba9f3b7a",
            "_dom_classes": [],
            "description": "",
            "_model_name": "HTMLModel",
            "placeholder": "​",
            "_view_module": "@jupyter-widgets/controls",
            "_model_module_version": "1.5.0",
            "value": " 159571/159571 [00:05&lt;00:00, 28117.85it/s]",
            "_view_count": null,
            "_view_module_version": "1.5.0",
            "description_tooltip": null,
            "_model_module": "@jupyter-widgets/controls",
            "layout": "IPY_MODEL_bdfc281ff5864ca4ba1c03b4fb1a1014"
          }
        },
        "2d2c0c6fc24142b89473903e114a2996": {
          "model_module": "@jupyter-widgets/controls",
          "model_name": "ProgressStyleModel",
          "state": {
            "_view_name": "StyleView",
            "_model_name": "ProgressStyleModel",
            "description_width": "initial",
            "_view_module": "@jupyter-widgets/base",
            "_model_module_version": "1.5.0",
            "_view_count": null,
            "_view_module_version": "1.2.0",
            "bar_color": null,
            "_model_module": "@jupyter-widgets/controls"
          }
        },
        "10f6a24f8f5e4491b37fe09a32d6c756": {
          "model_module": "@jupyter-widgets/base",
          "model_name": "LayoutModel",
          "state": {
            "_view_name": "LayoutView",
            "grid_template_rows": null,
            "right": null,
            "justify_content": null,
            "_view_module": "@jupyter-widgets/base",
            "overflow": null,
            "_model_module_version": "1.2.0",
            "_view_count": null,
            "flex_flow": null,
            "width": null,
            "min_width": null,
            "border": null,
            "align_items": null,
            "bottom": null,
            "_model_module": "@jupyter-widgets/base",
            "top": null,
            "grid_column": null,
            "overflow_y": null,
            "overflow_x": null,
            "grid_auto_flow": null,
            "grid_area": null,
            "grid_template_columns": null,
            "flex": null,
            "_model_name": "LayoutModel",
            "justify_items": null,
            "grid_row": null,
            "max_height": null,
            "align_content": null,
            "visibility": null,
            "align_self": null,
            "height": null,
            "min_height": null,
            "padding": null,
            "grid_auto_rows": null,
            "grid_gap": null,
            "max_width": null,
            "order": null,
            "_view_module_version": "1.2.0",
            "grid_template_areas": null,
            "object_position": null,
            "object_fit": null,
            "grid_auto_columns": null,
            "margin": null,
            "display": null,
            "left": null
          }
        },
        "c1f3dfc23e5347f6b0573281ba9f3b7a": {
          "model_module": "@jupyter-widgets/controls",
          "model_name": "DescriptionStyleModel",
          "state": {
            "_view_name": "StyleView",
            "_model_name": "DescriptionStyleModel",
            "description_width": "",
            "_view_module": "@jupyter-widgets/base",
            "_model_module_version": "1.5.0",
            "_view_count": null,
            "_view_module_version": "1.2.0",
            "_model_module": "@jupyter-widgets/controls"
          }
        },
        "bdfc281ff5864ca4ba1c03b4fb1a1014": {
          "model_module": "@jupyter-widgets/base",
          "model_name": "LayoutModel",
          "state": {
            "_view_name": "LayoutView",
            "grid_template_rows": null,
            "right": null,
            "justify_content": null,
            "_view_module": "@jupyter-widgets/base",
            "overflow": null,
            "_model_module_version": "1.2.0",
            "_view_count": null,
            "flex_flow": null,
            "width": null,
            "min_width": null,
            "border": null,
            "align_items": null,
            "bottom": null,
            "_model_module": "@jupyter-widgets/base",
            "top": null,
            "grid_column": null,
            "overflow_y": null,
            "overflow_x": null,
            "grid_auto_flow": null,
            "grid_area": null,
            "grid_template_columns": null,
            "flex": null,
            "_model_name": "LayoutModel",
            "justify_items": null,
            "grid_row": null,
            "max_height": null,
            "align_content": null,
            "visibility": null,
            "align_self": null,
            "height": null,
            "min_height": null,
            "padding": null,
            "grid_auto_rows": null,
            "grid_gap": null,
            "max_width": null,
            "order": null,
            "_view_module_version": "1.2.0",
            "grid_template_areas": null,
            "object_position": null,
            "object_fit": null,
            "grid_auto_columns": null,
            "margin": null,
            "display": null,
            "left": null
          }
        },
        "3bf9007f208e47fcad01f986e8f22a21": {
          "model_module": "@jupyter-widgets/controls",
          "model_name": "HBoxModel",
          "state": {
            "_view_name": "HBoxView",
            "_dom_classes": [],
            "_model_name": "HBoxModel",
            "_view_module": "@jupyter-widgets/controls",
            "_model_module_version": "1.5.0",
            "_view_count": null,
            "_view_module_version": "1.5.0",
            "box_style": "",
            "layout": "IPY_MODEL_b87355d2634e4799b5f08002211568aa",
            "_model_module": "@jupyter-widgets/controls",
            "children": [
              "IPY_MODEL_db94e01a80f04f3ca3c8b3ad0c4b9565",
              "IPY_MODEL_7445f1281998458fae87bf74b9b87272"
            ]
          }
        },
        "b87355d2634e4799b5f08002211568aa": {
          "model_module": "@jupyter-widgets/base",
          "model_name": "LayoutModel",
          "state": {
            "_view_name": "LayoutView",
            "grid_template_rows": null,
            "right": null,
            "justify_content": null,
            "_view_module": "@jupyter-widgets/base",
            "overflow": null,
            "_model_module_version": "1.2.0",
            "_view_count": null,
            "flex_flow": null,
            "width": null,
            "min_width": null,
            "border": null,
            "align_items": null,
            "bottom": null,
            "_model_module": "@jupyter-widgets/base",
            "top": null,
            "grid_column": null,
            "overflow_y": null,
            "overflow_x": null,
            "grid_auto_flow": null,
            "grid_area": null,
            "grid_template_columns": null,
            "flex": null,
            "_model_name": "LayoutModel",
            "justify_items": null,
            "grid_row": null,
            "max_height": null,
            "align_content": null,
            "visibility": null,
            "align_self": null,
            "height": null,
            "min_height": null,
            "padding": null,
            "grid_auto_rows": null,
            "grid_gap": null,
            "max_width": null,
            "order": null,
            "_view_module_version": "1.2.0",
            "grid_template_areas": null,
            "object_position": null,
            "object_fit": null,
            "grid_auto_columns": null,
            "margin": null,
            "display": null,
            "left": null
          }
        },
        "db94e01a80f04f3ca3c8b3ad0c4b9565": {
          "model_module": "@jupyter-widgets/controls",
          "model_name": "IntProgressModel",
          "state": {
            "_view_name": "ProgressView",
            "style": "IPY_MODEL_f050095149fc4a9da44a1e66871d7d1b",
            "_dom_classes": [],
            "description": "100%",
            "_model_name": "IntProgressModel",
            "bar_style": "success",
            "max": 153164,
            "_view_module": "@jupyter-widgets/controls",
            "_model_module_version": "1.5.0",
            "value": 153164,
            "_view_count": null,
            "_view_module_version": "1.5.0",
            "orientation": "horizontal",
            "min": 0,
            "description_tooltip": null,
            "_model_module": "@jupyter-widgets/controls",
            "layout": "IPY_MODEL_f92af66fa13341bbad78f46ea8afeb4f"
          }
        },
        "7445f1281998458fae87bf74b9b87272": {
          "model_module": "@jupyter-widgets/controls",
          "model_name": "HTMLModel",
          "state": {
            "_view_name": "HTMLView",
            "style": "IPY_MODEL_1d176e92656844e981b326d2b45d7b99",
            "_dom_classes": [],
            "description": "",
            "_model_name": "HTMLModel",
            "placeholder": "​",
            "_view_module": "@jupyter-widgets/controls",
            "_model_module_version": "1.5.0",
            "value": " 153164/153164 [00:32&lt;00:00, 4738.96it/s]",
            "_view_count": null,
            "_view_module_version": "1.5.0",
            "description_tooltip": null,
            "_model_module": "@jupyter-widgets/controls",
            "layout": "IPY_MODEL_f0a12db9e28240f59e4a7c477f3b5455"
          }
        },
        "f050095149fc4a9da44a1e66871d7d1b": {
          "model_module": "@jupyter-widgets/controls",
          "model_name": "ProgressStyleModel",
          "state": {
            "_view_name": "StyleView",
            "_model_name": "ProgressStyleModel",
            "description_width": "initial",
            "_view_module": "@jupyter-widgets/base",
            "_model_module_version": "1.5.0",
            "_view_count": null,
            "_view_module_version": "1.2.0",
            "bar_color": null,
            "_model_module": "@jupyter-widgets/controls"
          }
        },
        "f92af66fa13341bbad78f46ea8afeb4f": {
          "model_module": "@jupyter-widgets/base",
          "model_name": "LayoutModel",
          "state": {
            "_view_name": "LayoutView",
            "grid_template_rows": null,
            "right": null,
            "justify_content": null,
            "_view_module": "@jupyter-widgets/base",
            "overflow": null,
            "_model_module_version": "1.2.0",
            "_view_count": null,
            "flex_flow": null,
            "width": null,
            "min_width": null,
            "border": null,
            "align_items": null,
            "bottom": null,
            "_model_module": "@jupyter-widgets/base",
            "top": null,
            "grid_column": null,
            "overflow_y": null,
            "overflow_x": null,
            "grid_auto_flow": null,
            "grid_area": null,
            "grid_template_columns": null,
            "flex": null,
            "_model_name": "LayoutModel",
            "justify_items": null,
            "grid_row": null,
            "max_height": null,
            "align_content": null,
            "visibility": null,
            "align_self": null,
            "height": null,
            "min_height": null,
            "padding": null,
            "grid_auto_rows": null,
            "grid_gap": null,
            "max_width": null,
            "order": null,
            "_view_module_version": "1.2.0",
            "grid_template_areas": null,
            "object_position": null,
            "object_fit": null,
            "grid_auto_columns": null,
            "margin": null,
            "display": null,
            "left": null
          }
        },
        "1d176e92656844e981b326d2b45d7b99": {
          "model_module": "@jupyter-widgets/controls",
          "model_name": "DescriptionStyleModel",
          "state": {
            "_view_name": "StyleView",
            "_model_name": "DescriptionStyleModel",
            "description_width": "",
            "_view_module": "@jupyter-widgets/base",
            "_model_module_version": "1.5.0",
            "_view_count": null,
            "_view_module_version": "1.2.0",
            "_model_module": "@jupyter-widgets/controls"
          }
        },
        "f0a12db9e28240f59e4a7c477f3b5455": {
          "model_module": "@jupyter-widgets/base",
          "model_name": "LayoutModel",
          "state": {
            "_view_name": "LayoutView",
            "grid_template_rows": null,
            "right": null,
            "justify_content": null,
            "_view_module": "@jupyter-widgets/base",
            "overflow": null,
            "_model_module_version": "1.2.0",
            "_view_count": null,
            "flex_flow": null,
            "width": null,
            "min_width": null,
            "border": null,
            "align_items": null,
            "bottom": null,
            "_model_module": "@jupyter-widgets/base",
            "top": null,
            "grid_column": null,
            "overflow_y": null,
            "overflow_x": null,
            "grid_auto_flow": null,
            "grid_area": null,
            "grid_template_columns": null,
            "flex": null,
            "_model_name": "LayoutModel",
            "justify_items": null,
            "grid_row": null,
            "max_height": null,
            "align_content": null,
            "visibility": null,
            "align_self": null,
            "height": null,
            "min_height": null,
            "padding": null,
            "grid_auto_rows": null,
            "grid_gap": null,
            "max_width": null,
            "order": null,
            "_view_module_version": "1.2.0",
            "grid_template_areas": null,
            "object_position": null,
            "object_fit": null,
            "grid_auto_columns": null,
            "margin": null,
            "display": null,
            "left": null
          }
        },
        "44d729e50eda4f6396fb58503d9570d8": {
          "model_module": "@jupyter-widgets/controls",
          "model_name": "HBoxModel",
          "state": {
            "_view_name": "HBoxView",
            "_dom_classes": [],
            "_model_name": "HBoxModel",
            "_view_module": "@jupyter-widgets/controls",
            "_model_module_version": "1.5.0",
            "_view_count": null,
            "_view_module_version": "1.5.0",
            "box_style": "",
            "layout": "IPY_MODEL_eba69704edca42cc9f3a07a90e37bfbd",
            "_model_module": "@jupyter-widgets/controls",
            "children": [
              "IPY_MODEL_750aa0f3c10b449c96824629a89f5a0b",
              "IPY_MODEL_55f48c48fb37497ea74c7d5b0efdd343"
            ]
          }
        },
        "eba69704edca42cc9f3a07a90e37bfbd": {
          "model_module": "@jupyter-widgets/base",
          "model_name": "LayoutModel",
          "state": {
            "_view_name": "LayoutView",
            "grid_template_rows": null,
            "right": null,
            "justify_content": null,
            "_view_module": "@jupyter-widgets/base",
            "overflow": null,
            "_model_module_version": "1.2.0",
            "_view_count": null,
            "flex_flow": null,
            "width": null,
            "min_width": null,
            "border": null,
            "align_items": null,
            "bottom": null,
            "_model_module": "@jupyter-widgets/base",
            "top": null,
            "grid_column": null,
            "overflow_y": null,
            "overflow_x": null,
            "grid_auto_flow": null,
            "grid_area": null,
            "grid_template_columns": null,
            "flex": null,
            "_model_name": "LayoutModel",
            "justify_items": null,
            "grid_row": null,
            "max_height": null,
            "align_content": null,
            "visibility": null,
            "align_self": null,
            "height": null,
            "min_height": null,
            "padding": null,
            "grid_auto_rows": null,
            "grid_gap": null,
            "max_width": null,
            "order": null,
            "_view_module_version": "1.2.0",
            "grid_template_areas": null,
            "object_position": null,
            "object_fit": null,
            "grid_auto_columns": null,
            "margin": null,
            "display": null,
            "left": null
          }
        },
        "750aa0f3c10b449c96824629a89f5a0b": {
          "model_module": "@jupyter-widgets/controls",
          "model_name": "IntProgressModel",
          "state": {
            "_view_name": "ProgressView",
            "style": "IPY_MODEL_347c5e51eba646308dd303940551e304",
            "_dom_classes": [],
            "description": "100%",
            "_model_name": "IntProgressModel",
            "bar_style": "success",
            "max": 159571,
            "_view_module": "@jupyter-widgets/controls",
            "_model_module_version": "1.5.0",
            "value": 159571,
            "_view_count": null,
            "_view_module_version": "1.5.0",
            "orientation": "horizontal",
            "min": 0,
            "description_tooltip": null,
            "_model_module": "@jupyter-widgets/controls",
            "layout": "IPY_MODEL_2046aef2e11946bca16230f7472a0420"
          }
        },
        "55f48c48fb37497ea74c7d5b0efdd343": {
          "model_module": "@jupyter-widgets/controls",
          "model_name": "HTMLModel",
          "state": {
            "_view_name": "HTMLView",
            "style": "IPY_MODEL_b709c2a530d24e60862fc2c2d9ff9534",
            "_dom_classes": [],
            "description": "",
            "_model_name": "HTMLModel",
            "placeholder": "​",
            "_view_module": "@jupyter-widgets/controls",
            "_model_module_version": "1.5.0",
            "value": " 159571/159571 [00:29&lt;00:00, 5404.08it/s]",
            "_view_count": null,
            "_view_module_version": "1.5.0",
            "description_tooltip": null,
            "_model_module": "@jupyter-widgets/controls",
            "layout": "IPY_MODEL_bf4b744a98f14e3880a3f739366aa6f2"
          }
        },
        "347c5e51eba646308dd303940551e304": {
          "model_module": "@jupyter-widgets/controls",
          "model_name": "ProgressStyleModel",
          "state": {
            "_view_name": "StyleView",
            "_model_name": "ProgressStyleModel",
            "description_width": "initial",
            "_view_module": "@jupyter-widgets/base",
            "_model_module_version": "1.5.0",
            "_view_count": null,
            "_view_module_version": "1.2.0",
            "bar_color": null,
            "_model_module": "@jupyter-widgets/controls"
          }
        },
        "2046aef2e11946bca16230f7472a0420": {
          "model_module": "@jupyter-widgets/base",
          "model_name": "LayoutModel",
          "state": {
            "_view_name": "LayoutView",
            "grid_template_rows": null,
            "right": null,
            "justify_content": null,
            "_view_module": "@jupyter-widgets/base",
            "overflow": null,
            "_model_module_version": "1.2.0",
            "_view_count": null,
            "flex_flow": null,
            "width": null,
            "min_width": null,
            "border": null,
            "align_items": null,
            "bottom": null,
            "_model_module": "@jupyter-widgets/base",
            "top": null,
            "grid_column": null,
            "overflow_y": null,
            "overflow_x": null,
            "grid_auto_flow": null,
            "grid_area": null,
            "grid_template_columns": null,
            "flex": null,
            "_model_name": "LayoutModel",
            "justify_items": null,
            "grid_row": null,
            "max_height": null,
            "align_content": null,
            "visibility": null,
            "align_self": null,
            "height": null,
            "min_height": null,
            "padding": null,
            "grid_auto_rows": null,
            "grid_gap": null,
            "max_width": null,
            "order": null,
            "_view_module_version": "1.2.0",
            "grid_template_areas": null,
            "object_position": null,
            "object_fit": null,
            "grid_auto_columns": null,
            "margin": null,
            "display": null,
            "left": null
          }
        },
        "b709c2a530d24e60862fc2c2d9ff9534": {
          "model_module": "@jupyter-widgets/controls",
          "model_name": "DescriptionStyleModel",
          "state": {
            "_view_name": "StyleView",
            "_model_name": "DescriptionStyleModel",
            "description_width": "",
            "_view_module": "@jupyter-widgets/base",
            "_model_module_version": "1.5.0",
            "_view_count": null,
            "_view_module_version": "1.2.0",
            "_model_module": "@jupyter-widgets/controls"
          }
        },
        "bf4b744a98f14e3880a3f739366aa6f2": {
          "model_module": "@jupyter-widgets/base",
          "model_name": "LayoutModel",
          "state": {
            "_view_name": "LayoutView",
            "grid_template_rows": null,
            "right": null,
            "justify_content": null,
            "_view_module": "@jupyter-widgets/base",
            "overflow": null,
            "_model_module_version": "1.2.0",
            "_view_count": null,
            "flex_flow": null,
            "width": null,
            "min_width": null,
            "border": null,
            "align_items": null,
            "bottom": null,
            "_model_module": "@jupyter-widgets/base",
            "top": null,
            "grid_column": null,
            "overflow_y": null,
            "overflow_x": null,
            "grid_auto_flow": null,
            "grid_area": null,
            "grid_template_columns": null,
            "flex": null,
            "_model_name": "LayoutModel",
            "justify_items": null,
            "grid_row": null,
            "max_height": null,
            "align_content": null,
            "visibility": null,
            "align_self": null,
            "height": null,
            "min_height": null,
            "padding": null,
            "grid_auto_rows": null,
            "grid_gap": null,
            "max_width": null,
            "order": null,
            "_view_module_version": "1.2.0",
            "grid_template_areas": null,
            "object_position": null,
            "object_fit": null,
            "grid_auto_columns": null,
            "margin": null,
            "display": null,
            "left": null
          }
        },
        "b64bd7d69ae940ab8d8a2aaf114eb00f": {
          "model_module": "@jupyter-widgets/controls",
          "model_name": "HBoxModel",
          "state": {
            "_view_name": "HBoxView",
            "_dom_classes": [],
            "_model_name": "HBoxModel",
            "_view_module": "@jupyter-widgets/controls",
            "_model_module_version": "1.5.0",
            "_view_count": null,
            "_view_module_version": "1.5.0",
            "box_style": "",
            "layout": "IPY_MODEL_62dcb3fb020a4b1ba09f1deb59012154",
            "_model_module": "@jupyter-widgets/controls",
            "children": [
              "IPY_MODEL_bd42650408e2437fa06113cf6ce3fa53",
              "IPY_MODEL_47bce22019204467a9f6450ee865a6fa"
            ]
          }
        },
        "62dcb3fb020a4b1ba09f1deb59012154": {
          "model_module": "@jupyter-widgets/base",
          "model_name": "LayoutModel",
          "state": {
            "_view_name": "LayoutView",
            "grid_template_rows": null,
            "right": null,
            "justify_content": null,
            "_view_module": "@jupyter-widgets/base",
            "overflow": null,
            "_model_module_version": "1.2.0",
            "_view_count": null,
            "flex_flow": null,
            "width": null,
            "min_width": null,
            "border": null,
            "align_items": null,
            "bottom": null,
            "_model_module": "@jupyter-widgets/base",
            "top": null,
            "grid_column": null,
            "overflow_y": null,
            "overflow_x": null,
            "grid_auto_flow": null,
            "grid_area": null,
            "grid_template_columns": null,
            "flex": null,
            "_model_name": "LayoutModel",
            "justify_items": null,
            "grid_row": null,
            "max_height": null,
            "align_content": null,
            "visibility": null,
            "align_self": null,
            "height": null,
            "min_height": null,
            "padding": null,
            "grid_auto_rows": null,
            "grid_gap": null,
            "max_width": null,
            "order": null,
            "_view_module_version": "1.2.0",
            "grid_template_areas": null,
            "object_position": null,
            "object_fit": null,
            "grid_auto_columns": null,
            "margin": null,
            "display": null,
            "left": null
          }
        },
        "bd42650408e2437fa06113cf6ce3fa53": {
          "model_module": "@jupyter-widgets/controls",
          "model_name": "IntProgressModel",
          "state": {
            "_view_name": "ProgressView",
            "style": "IPY_MODEL_1bc6ae82249c409bbeaeb08c40f6a79f",
            "_dom_classes": [],
            "description": "100%",
            "_model_name": "IntProgressModel",
            "bar_style": "success",
            "max": 153164,
            "_view_module": "@jupyter-widgets/controls",
            "_model_module_version": "1.5.0",
            "value": 153164,
            "_view_count": null,
            "_view_module_version": "1.5.0",
            "orientation": "horizontal",
            "min": 0,
            "description_tooltip": null,
            "_model_module": "@jupyter-widgets/controls",
            "layout": "IPY_MODEL_ddbf9c7fe9284b008dd4e67172736b49"
          }
        },
        "47bce22019204467a9f6450ee865a6fa": {
          "model_module": "@jupyter-widgets/controls",
          "model_name": "HTMLModel",
          "state": {
            "_view_name": "HTMLView",
            "style": "IPY_MODEL_53fc180388654026a36cb3eae679592c",
            "_dom_classes": [],
            "description": "",
            "_model_name": "HTMLModel",
            "placeholder": "​",
            "_view_module": "@jupyter-widgets/controls",
            "_model_module_version": "1.5.0",
            "value": " 153164/153164 [00:23&lt;00:00, 6387.40it/s]",
            "_view_count": null,
            "_view_module_version": "1.5.0",
            "description_tooltip": null,
            "_model_module": "@jupyter-widgets/controls",
            "layout": "IPY_MODEL_6a5a02297245439e96b156e4796d7043"
          }
        },
        "1bc6ae82249c409bbeaeb08c40f6a79f": {
          "model_module": "@jupyter-widgets/controls",
          "model_name": "ProgressStyleModel",
          "state": {
            "_view_name": "StyleView",
            "_model_name": "ProgressStyleModel",
            "description_width": "initial",
            "_view_module": "@jupyter-widgets/base",
            "_model_module_version": "1.5.0",
            "_view_count": null,
            "_view_module_version": "1.2.0",
            "bar_color": null,
            "_model_module": "@jupyter-widgets/controls"
          }
        },
        "ddbf9c7fe9284b008dd4e67172736b49": {
          "model_module": "@jupyter-widgets/base",
          "model_name": "LayoutModel",
          "state": {
            "_view_name": "LayoutView",
            "grid_template_rows": null,
            "right": null,
            "justify_content": null,
            "_view_module": "@jupyter-widgets/base",
            "overflow": null,
            "_model_module_version": "1.2.0",
            "_view_count": null,
            "flex_flow": null,
            "width": null,
            "min_width": null,
            "border": null,
            "align_items": null,
            "bottom": null,
            "_model_module": "@jupyter-widgets/base",
            "top": null,
            "grid_column": null,
            "overflow_y": null,
            "overflow_x": null,
            "grid_auto_flow": null,
            "grid_area": null,
            "grid_template_columns": null,
            "flex": null,
            "_model_name": "LayoutModel",
            "justify_items": null,
            "grid_row": null,
            "max_height": null,
            "align_content": null,
            "visibility": null,
            "align_self": null,
            "height": null,
            "min_height": null,
            "padding": null,
            "grid_auto_rows": null,
            "grid_gap": null,
            "max_width": null,
            "order": null,
            "_view_module_version": "1.2.0",
            "grid_template_areas": null,
            "object_position": null,
            "object_fit": null,
            "grid_auto_columns": null,
            "margin": null,
            "display": null,
            "left": null
          }
        },
        "53fc180388654026a36cb3eae679592c": {
          "model_module": "@jupyter-widgets/controls",
          "model_name": "DescriptionStyleModel",
          "state": {
            "_view_name": "StyleView",
            "_model_name": "DescriptionStyleModel",
            "description_width": "",
            "_view_module": "@jupyter-widgets/base",
            "_model_module_version": "1.5.0",
            "_view_count": null,
            "_view_module_version": "1.2.0",
            "_model_module": "@jupyter-widgets/controls"
          }
        },
        "6a5a02297245439e96b156e4796d7043": {
          "model_module": "@jupyter-widgets/base",
          "model_name": "LayoutModel",
          "state": {
            "_view_name": "LayoutView",
            "grid_template_rows": null,
            "right": null,
            "justify_content": null,
            "_view_module": "@jupyter-widgets/base",
            "overflow": null,
            "_model_module_version": "1.2.0",
            "_view_count": null,
            "flex_flow": null,
            "width": null,
            "min_width": null,
            "border": null,
            "align_items": null,
            "bottom": null,
            "_model_module": "@jupyter-widgets/base",
            "top": null,
            "grid_column": null,
            "overflow_y": null,
            "overflow_x": null,
            "grid_auto_flow": null,
            "grid_area": null,
            "grid_template_columns": null,
            "flex": null,
            "_model_name": "LayoutModel",
            "justify_items": null,
            "grid_row": null,
            "max_height": null,
            "align_content": null,
            "visibility": null,
            "align_self": null,
            "height": null,
            "min_height": null,
            "padding": null,
            "grid_auto_rows": null,
            "grid_gap": null,
            "max_width": null,
            "order": null,
            "_view_module_version": "1.2.0",
            "grid_template_areas": null,
            "object_position": null,
            "object_fit": null,
            "grid_auto_columns": null,
            "margin": null,
            "display": null,
            "left": null
          }
        },
        "326524ea68ad4ead95c032db19b98478": {
          "model_module": "@jupyter-widgets/controls",
          "model_name": "HBoxModel",
          "state": {
            "_view_name": "HBoxView",
            "_dom_classes": [],
            "_model_name": "HBoxModel",
            "_view_module": "@jupyter-widgets/controls",
            "_model_module_version": "1.5.0",
            "_view_count": null,
            "_view_module_version": "1.5.0",
            "box_style": "",
            "layout": "IPY_MODEL_454b1e9c2f094e059923ba9ac17c7d2d",
            "_model_module": "@jupyter-widgets/controls",
            "children": [
              "IPY_MODEL_4df7830f3a9d4a49958c7e76e72911b1",
              "IPY_MODEL_a48bfe2b491042a3a8ddb14b32c808f7"
            ]
          }
        },
        "454b1e9c2f094e059923ba9ac17c7d2d": {
          "model_module": "@jupyter-widgets/base",
          "model_name": "LayoutModel",
          "state": {
            "_view_name": "LayoutView",
            "grid_template_rows": null,
            "right": null,
            "justify_content": null,
            "_view_module": "@jupyter-widgets/base",
            "overflow": null,
            "_model_module_version": "1.2.0",
            "_view_count": null,
            "flex_flow": null,
            "width": null,
            "min_width": null,
            "border": null,
            "align_items": null,
            "bottom": null,
            "_model_module": "@jupyter-widgets/base",
            "top": null,
            "grid_column": null,
            "overflow_y": null,
            "overflow_x": null,
            "grid_auto_flow": null,
            "grid_area": null,
            "grid_template_columns": null,
            "flex": null,
            "_model_name": "LayoutModel",
            "justify_items": null,
            "grid_row": null,
            "max_height": null,
            "align_content": null,
            "visibility": null,
            "align_self": null,
            "height": null,
            "min_height": null,
            "padding": null,
            "grid_auto_rows": null,
            "grid_gap": null,
            "max_width": null,
            "order": null,
            "_view_module_version": "1.2.0",
            "grid_template_areas": null,
            "object_position": null,
            "object_fit": null,
            "grid_auto_columns": null,
            "margin": null,
            "display": null,
            "left": null
          }
        },
        "4df7830f3a9d4a49958c7e76e72911b1": {
          "model_module": "@jupyter-widgets/controls",
          "model_name": "IntProgressModel",
          "state": {
            "_view_name": "ProgressView",
            "style": "IPY_MODEL_7471efbe88914586bc5b01a71e0ee71e",
            "_dom_classes": [],
            "description": "100%",
            "_model_name": "IntProgressModel",
            "bar_style": "success",
            "max": 159571,
            "_view_module": "@jupyter-widgets/controls",
            "_model_module_version": "1.5.0",
            "value": 159571,
            "_view_count": null,
            "_view_module_version": "1.5.0",
            "orientation": "horizontal",
            "min": 0,
            "description_tooltip": null,
            "_model_module": "@jupyter-widgets/controls",
            "layout": "IPY_MODEL_f209ae24323c4e04844f2597179f421a"
          }
        },
        "a48bfe2b491042a3a8ddb14b32c808f7": {
          "model_module": "@jupyter-widgets/controls",
          "model_name": "HTMLModel",
          "state": {
            "_view_name": "HTMLView",
            "style": "IPY_MODEL_19018a59d9784b4db364979f4fba7cc4",
            "_dom_classes": [],
            "description": "",
            "_model_name": "HTMLModel",
            "placeholder": "​",
            "_view_module": "@jupyter-widgets/controls",
            "_model_module_version": "1.5.0",
            "value": " 159571/159571 [00:18&lt;00:00, 8548.88it/s]",
            "_view_count": null,
            "_view_module_version": "1.5.0",
            "description_tooltip": null,
            "_model_module": "@jupyter-widgets/controls",
            "layout": "IPY_MODEL_105d060732eb44a8854d3bc6b48b1ddb"
          }
        },
        "7471efbe88914586bc5b01a71e0ee71e": {
          "model_module": "@jupyter-widgets/controls",
          "model_name": "ProgressStyleModel",
          "state": {
            "_view_name": "StyleView",
            "_model_name": "ProgressStyleModel",
            "description_width": "initial",
            "_view_module": "@jupyter-widgets/base",
            "_model_module_version": "1.5.0",
            "_view_count": null,
            "_view_module_version": "1.2.0",
            "bar_color": null,
            "_model_module": "@jupyter-widgets/controls"
          }
        },
        "f209ae24323c4e04844f2597179f421a": {
          "model_module": "@jupyter-widgets/base",
          "model_name": "LayoutModel",
          "state": {
            "_view_name": "LayoutView",
            "grid_template_rows": null,
            "right": null,
            "justify_content": null,
            "_view_module": "@jupyter-widgets/base",
            "overflow": null,
            "_model_module_version": "1.2.0",
            "_view_count": null,
            "flex_flow": null,
            "width": null,
            "min_width": null,
            "border": null,
            "align_items": null,
            "bottom": null,
            "_model_module": "@jupyter-widgets/base",
            "top": null,
            "grid_column": null,
            "overflow_y": null,
            "overflow_x": null,
            "grid_auto_flow": null,
            "grid_area": null,
            "grid_template_columns": null,
            "flex": null,
            "_model_name": "LayoutModel",
            "justify_items": null,
            "grid_row": null,
            "max_height": null,
            "align_content": null,
            "visibility": null,
            "align_self": null,
            "height": null,
            "min_height": null,
            "padding": null,
            "grid_auto_rows": null,
            "grid_gap": null,
            "max_width": null,
            "order": null,
            "_view_module_version": "1.2.0",
            "grid_template_areas": null,
            "object_position": null,
            "object_fit": null,
            "grid_auto_columns": null,
            "margin": null,
            "display": null,
            "left": null
          }
        },
        "19018a59d9784b4db364979f4fba7cc4": {
          "model_module": "@jupyter-widgets/controls",
          "model_name": "DescriptionStyleModel",
          "state": {
            "_view_name": "StyleView",
            "_model_name": "DescriptionStyleModel",
            "description_width": "",
            "_view_module": "@jupyter-widgets/base",
            "_model_module_version": "1.5.0",
            "_view_count": null,
            "_view_module_version": "1.2.0",
            "_model_module": "@jupyter-widgets/controls"
          }
        },
        "105d060732eb44a8854d3bc6b48b1ddb": {
          "model_module": "@jupyter-widgets/base",
          "model_name": "LayoutModel",
          "state": {
            "_view_name": "LayoutView",
            "grid_template_rows": null,
            "right": null,
            "justify_content": null,
            "_view_module": "@jupyter-widgets/base",
            "overflow": null,
            "_model_module_version": "1.2.0",
            "_view_count": null,
            "flex_flow": null,
            "width": null,
            "min_width": null,
            "border": null,
            "align_items": null,
            "bottom": null,
            "_model_module": "@jupyter-widgets/base",
            "top": null,
            "grid_column": null,
            "overflow_y": null,
            "overflow_x": null,
            "grid_auto_flow": null,
            "grid_area": null,
            "grid_template_columns": null,
            "flex": null,
            "_model_name": "LayoutModel",
            "justify_items": null,
            "grid_row": null,
            "max_height": null,
            "align_content": null,
            "visibility": null,
            "align_self": null,
            "height": null,
            "min_height": null,
            "padding": null,
            "grid_auto_rows": null,
            "grid_gap": null,
            "max_width": null,
            "order": null,
            "_view_module_version": "1.2.0",
            "grid_template_areas": null,
            "object_position": null,
            "object_fit": null,
            "grid_auto_columns": null,
            "margin": null,
            "display": null,
            "left": null
          }
        },
        "049bcfbb327c478d8eeebec4098be860": {
          "model_module": "@jupyter-widgets/controls",
          "model_name": "HBoxModel",
          "state": {
            "_view_name": "HBoxView",
            "_dom_classes": [],
            "_model_name": "HBoxModel",
            "_view_module": "@jupyter-widgets/controls",
            "_model_module_version": "1.5.0",
            "_view_count": null,
            "_view_module_version": "1.5.0",
            "box_style": "",
            "layout": "IPY_MODEL_a9e46bd4514743869fdb1d942f89eff1",
            "_model_module": "@jupyter-widgets/controls",
            "children": [
              "IPY_MODEL_4baf079ea49340e39ba47f6cf28d1de7",
              "IPY_MODEL_6167c76adcd340db8e1a06f16458fa1b"
            ]
          }
        },
        "a9e46bd4514743869fdb1d942f89eff1": {
          "model_module": "@jupyter-widgets/base",
          "model_name": "LayoutModel",
          "state": {
            "_view_name": "LayoutView",
            "grid_template_rows": null,
            "right": null,
            "justify_content": null,
            "_view_module": "@jupyter-widgets/base",
            "overflow": null,
            "_model_module_version": "1.2.0",
            "_view_count": null,
            "flex_flow": null,
            "width": null,
            "min_width": null,
            "border": null,
            "align_items": null,
            "bottom": null,
            "_model_module": "@jupyter-widgets/base",
            "top": null,
            "grid_column": null,
            "overflow_y": null,
            "overflow_x": null,
            "grid_auto_flow": null,
            "grid_area": null,
            "grid_template_columns": null,
            "flex": null,
            "_model_name": "LayoutModel",
            "justify_items": null,
            "grid_row": null,
            "max_height": null,
            "align_content": null,
            "visibility": null,
            "align_self": null,
            "height": null,
            "min_height": null,
            "padding": null,
            "grid_auto_rows": null,
            "grid_gap": null,
            "max_width": null,
            "order": null,
            "_view_module_version": "1.2.0",
            "grid_template_areas": null,
            "object_position": null,
            "object_fit": null,
            "grid_auto_columns": null,
            "margin": null,
            "display": null,
            "left": null
          }
        },
        "4baf079ea49340e39ba47f6cf28d1de7": {
          "model_module": "@jupyter-widgets/controls",
          "model_name": "IntProgressModel",
          "state": {
            "_view_name": "ProgressView",
            "style": "IPY_MODEL_865b511233a54de9a632bb588b11b840",
            "_dom_classes": [],
            "description": "100%",
            "_model_name": "IntProgressModel",
            "bar_style": "success",
            "max": 153164,
            "_view_module": "@jupyter-widgets/controls",
            "_model_module_version": "1.5.0",
            "value": 153164,
            "_view_count": null,
            "_view_module_version": "1.5.0",
            "orientation": "horizontal",
            "min": 0,
            "description_tooltip": null,
            "_model_module": "@jupyter-widgets/controls",
            "layout": "IPY_MODEL_d57e690a24f24a0782a8a4f33c3a58e7"
          }
        },
        "6167c76adcd340db8e1a06f16458fa1b": {
          "model_module": "@jupyter-widgets/controls",
          "model_name": "HTMLModel",
          "state": {
            "_view_name": "HTMLView",
            "style": "IPY_MODEL_d8621056efca4683b9bc509148dc7f63",
            "_dom_classes": [],
            "description": "",
            "_model_name": "HTMLModel",
            "placeholder": "​",
            "_view_module": "@jupyter-widgets/controls",
            "_model_module_version": "1.5.0",
            "value": " 153164/153164 [00:08&lt;00:00, 17042.92it/s]",
            "_view_count": null,
            "_view_module_version": "1.5.0",
            "description_tooltip": null,
            "_model_module": "@jupyter-widgets/controls",
            "layout": "IPY_MODEL_70d36df6b5df42729df384a006209ee5"
          }
        },
        "865b511233a54de9a632bb588b11b840": {
          "model_module": "@jupyter-widgets/controls",
          "model_name": "ProgressStyleModel",
          "state": {
            "_view_name": "StyleView",
            "_model_name": "ProgressStyleModel",
            "description_width": "initial",
            "_view_module": "@jupyter-widgets/base",
            "_model_module_version": "1.5.0",
            "_view_count": null,
            "_view_module_version": "1.2.0",
            "bar_color": null,
            "_model_module": "@jupyter-widgets/controls"
          }
        },
        "d57e690a24f24a0782a8a4f33c3a58e7": {
          "model_module": "@jupyter-widgets/base",
          "model_name": "LayoutModel",
          "state": {
            "_view_name": "LayoutView",
            "grid_template_rows": null,
            "right": null,
            "justify_content": null,
            "_view_module": "@jupyter-widgets/base",
            "overflow": null,
            "_model_module_version": "1.2.0",
            "_view_count": null,
            "flex_flow": null,
            "width": null,
            "min_width": null,
            "border": null,
            "align_items": null,
            "bottom": null,
            "_model_module": "@jupyter-widgets/base",
            "top": null,
            "grid_column": null,
            "overflow_y": null,
            "overflow_x": null,
            "grid_auto_flow": null,
            "grid_area": null,
            "grid_template_columns": null,
            "flex": null,
            "_model_name": "LayoutModel",
            "justify_items": null,
            "grid_row": null,
            "max_height": null,
            "align_content": null,
            "visibility": null,
            "align_self": null,
            "height": null,
            "min_height": null,
            "padding": null,
            "grid_auto_rows": null,
            "grid_gap": null,
            "max_width": null,
            "order": null,
            "_view_module_version": "1.2.0",
            "grid_template_areas": null,
            "object_position": null,
            "object_fit": null,
            "grid_auto_columns": null,
            "margin": null,
            "display": null,
            "left": null
          }
        },
        "d8621056efca4683b9bc509148dc7f63": {
          "model_module": "@jupyter-widgets/controls",
          "model_name": "DescriptionStyleModel",
          "state": {
            "_view_name": "StyleView",
            "_model_name": "DescriptionStyleModel",
            "description_width": "",
            "_view_module": "@jupyter-widgets/base",
            "_model_module_version": "1.5.0",
            "_view_count": null,
            "_view_module_version": "1.2.0",
            "_model_module": "@jupyter-widgets/controls"
          }
        },
        "70d36df6b5df42729df384a006209ee5": {
          "model_module": "@jupyter-widgets/base",
          "model_name": "LayoutModel",
          "state": {
            "_view_name": "LayoutView",
            "grid_template_rows": null,
            "right": null,
            "justify_content": null,
            "_view_module": "@jupyter-widgets/base",
            "overflow": null,
            "_model_module_version": "1.2.0",
            "_view_count": null,
            "flex_flow": null,
            "width": null,
            "min_width": null,
            "border": null,
            "align_items": null,
            "bottom": null,
            "_model_module": "@jupyter-widgets/base",
            "top": null,
            "grid_column": null,
            "overflow_y": null,
            "overflow_x": null,
            "grid_auto_flow": null,
            "grid_area": null,
            "grid_template_columns": null,
            "flex": null,
            "_model_name": "LayoutModel",
            "justify_items": null,
            "grid_row": null,
            "max_height": null,
            "align_content": null,
            "visibility": null,
            "align_self": null,
            "height": null,
            "min_height": null,
            "padding": null,
            "grid_auto_rows": null,
            "grid_gap": null,
            "max_width": null,
            "order": null,
            "_view_module_version": "1.2.0",
            "grid_template_areas": null,
            "object_position": null,
            "object_fit": null,
            "grid_auto_columns": null,
            "margin": null,
            "display": null,
            "left": null
          }
        },
        "4e4e91c069bb43fa8d02d8dd178f3f46": {
          "model_module": "@jupyter-widgets/controls",
          "model_name": "HBoxModel",
          "state": {
            "_view_name": "HBoxView",
            "_dom_classes": [],
            "_model_name": "HBoxModel",
            "_view_module": "@jupyter-widgets/controls",
            "_model_module_version": "1.5.0",
            "_view_count": null,
            "_view_module_version": "1.5.0",
            "box_style": "",
            "layout": "IPY_MODEL_c1267153b5f948408eb6648bfebcfb56",
            "_model_module": "@jupyter-widgets/controls",
            "children": [
              "IPY_MODEL_ec4ba580213e48a08446a628b6f40497",
              "IPY_MODEL_152a8e85500a4ad5b5191aeef4734b81"
            ]
          }
        },
        "c1267153b5f948408eb6648bfebcfb56": {
          "model_module": "@jupyter-widgets/base",
          "model_name": "LayoutModel",
          "state": {
            "_view_name": "LayoutView",
            "grid_template_rows": null,
            "right": null,
            "justify_content": null,
            "_view_module": "@jupyter-widgets/base",
            "overflow": null,
            "_model_module_version": "1.2.0",
            "_view_count": null,
            "flex_flow": null,
            "width": null,
            "min_width": null,
            "border": null,
            "align_items": null,
            "bottom": null,
            "_model_module": "@jupyter-widgets/base",
            "top": null,
            "grid_column": null,
            "overflow_y": null,
            "overflow_x": null,
            "grid_auto_flow": null,
            "grid_area": null,
            "grid_template_columns": null,
            "flex": null,
            "_model_name": "LayoutModel",
            "justify_items": null,
            "grid_row": null,
            "max_height": null,
            "align_content": null,
            "visibility": null,
            "align_self": null,
            "height": null,
            "min_height": null,
            "padding": null,
            "grid_auto_rows": null,
            "grid_gap": null,
            "max_width": null,
            "order": null,
            "_view_module_version": "1.2.0",
            "grid_template_areas": null,
            "object_position": null,
            "object_fit": null,
            "grid_auto_columns": null,
            "margin": null,
            "display": null,
            "left": null
          }
        },
        "ec4ba580213e48a08446a628b6f40497": {
          "model_module": "@jupyter-widgets/controls",
          "model_name": "IntProgressModel",
          "state": {
            "_view_name": "ProgressView",
            "style": "IPY_MODEL_1fd6942c1fdc4d749c5e96d33d084fb5",
            "_dom_classes": [],
            "description": "100%",
            "_model_name": "IntProgressModel",
            "bar_style": "success",
            "max": 159571,
            "_view_module": "@jupyter-widgets/controls",
            "_model_module_version": "1.5.0",
            "value": 159571,
            "_view_count": null,
            "_view_module_version": "1.5.0",
            "orientation": "horizontal",
            "min": 0,
            "description_tooltip": null,
            "_model_module": "@jupyter-widgets/controls",
            "layout": "IPY_MODEL_ee5b543ef1ba4010920905acdc63b0c7"
          }
        },
        "152a8e85500a4ad5b5191aeef4734b81": {
          "model_module": "@jupyter-widgets/controls",
          "model_name": "HTMLModel",
          "state": {
            "_view_name": "HTMLView",
            "style": "IPY_MODEL_47fce9757fdf4f61a3a824ce1167de81",
            "_dom_classes": [],
            "description": "",
            "_model_name": "HTMLModel",
            "placeholder": "​",
            "_view_module": "@jupyter-widgets/controls",
            "_model_module_version": "1.5.0",
            "value": " 159571/159571 [08:12&lt;00:00, 324.17it/s]",
            "_view_count": null,
            "_view_module_version": "1.5.0",
            "description_tooltip": null,
            "_model_module": "@jupyter-widgets/controls",
            "layout": "IPY_MODEL_247573a260174200ac7c98799a313535"
          }
        },
        "1fd6942c1fdc4d749c5e96d33d084fb5": {
          "model_module": "@jupyter-widgets/controls",
          "model_name": "ProgressStyleModel",
          "state": {
            "_view_name": "StyleView",
            "_model_name": "ProgressStyleModel",
            "description_width": "initial",
            "_view_module": "@jupyter-widgets/base",
            "_model_module_version": "1.5.0",
            "_view_count": null,
            "_view_module_version": "1.2.0",
            "bar_color": null,
            "_model_module": "@jupyter-widgets/controls"
          }
        },
        "ee5b543ef1ba4010920905acdc63b0c7": {
          "model_module": "@jupyter-widgets/base",
          "model_name": "LayoutModel",
          "state": {
            "_view_name": "LayoutView",
            "grid_template_rows": null,
            "right": null,
            "justify_content": null,
            "_view_module": "@jupyter-widgets/base",
            "overflow": null,
            "_model_module_version": "1.2.0",
            "_view_count": null,
            "flex_flow": null,
            "width": null,
            "min_width": null,
            "border": null,
            "align_items": null,
            "bottom": null,
            "_model_module": "@jupyter-widgets/base",
            "top": null,
            "grid_column": null,
            "overflow_y": null,
            "overflow_x": null,
            "grid_auto_flow": null,
            "grid_area": null,
            "grid_template_columns": null,
            "flex": null,
            "_model_name": "LayoutModel",
            "justify_items": null,
            "grid_row": null,
            "max_height": null,
            "align_content": null,
            "visibility": null,
            "align_self": null,
            "height": null,
            "min_height": null,
            "padding": null,
            "grid_auto_rows": null,
            "grid_gap": null,
            "max_width": null,
            "order": null,
            "_view_module_version": "1.2.0",
            "grid_template_areas": null,
            "object_position": null,
            "object_fit": null,
            "grid_auto_columns": null,
            "margin": null,
            "display": null,
            "left": null
          }
        },
        "47fce9757fdf4f61a3a824ce1167de81": {
          "model_module": "@jupyter-widgets/controls",
          "model_name": "DescriptionStyleModel",
          "state": {
            "_view_name": "StyleView",
            "_model_name": "DescriptionStyleModel",
            "description_width": "",
            "_view_module": "@jupyter-widgets/base",
            "_model_module_version": "1.5.0",
            "_view_count": null,
            "_view_module_version": "1.2.0",
            "_model_module": "@jupyter-widgets/controls"
          }
        },
        "247573a260174200ac7c98799a313535": {
          "model_module": "@jupyter-widgets/base",
          "model_name": "LayoutModel",
          "state": {
            "_view_name": "LayoutView",
            "grid_template_rows": null,
            "right": null,
            "justify_content": null,
            "_view_module": "@jupyter-widgets/base",
            "overflow": null,
            "_model_module_version": "1.2.0",
            "_view_count": null,
            "flex_flow": null,
            "width": null,
            "min_width": null,
            "border": null,
            "align_items": null,
            "bottom": null,
            "_model_module": "@jupyter-widgets/base",
            "top": null,
            "grid_column": null,
            "overflow_y": null,
            "overflow_x": null,
            "grid_auto_flow": null,
            "grid_area": null,
            "grid_template_columns": null,
            "flex": null,
            "_model_name": "LayoutModel",
            "justify_items": null,
            "grid_row": null,
            "max_height": null,
            "align_content": null,
            "visibility": null,
            "align_self": null,
            "height": null,
            "min_height": null,
            "padding": null,
            "grid_auto_rows": null,
            "grid_gap": null,
            "max_width": null,
            "order": null,
            "_view_module_version": "1.2.0",
            "grid_template_areas": null,
            "object_position": null,
            "object_fit": null,
            "grid_auto_columns": null,
            "margin": null,
            "display": null,
            "left": null
          }
        },
        "a816b702c6ad4d7580024a17e14209af": {
          "model_module": "@jupyter-widgets/controls",
          "model_name": "HBoxModel",
          "state": {
            "_view_name": "HBoxView",
            "_dom_classes": [],
            "_model_name": "HBoxModel",
            "_view_module": "@jupyter-widgets/controls",
            "_model_module_version": "1.5.0",
            "_view_count": null,
            "_view_module_version": "1.5.0",
            "box_style": "",
            "layout": "IPY_MODEL_002f3e8cdee8495ea82f0edee16b3e96",
            "_model_module": "@jupyter-widgets/controls",
            "children": [
              "IPY_MODEL_887e3bfdacc84a3cb3648144f39e02cc",
              "IPY_MODEL_b985ecfb73fa4211b56ef8deb711b639"
            ]
          }
        },
        "002f3e8cdee8495ea82f0edee16b3e96": {
          "model_module": "@jupyter-widgets/base",
          "model_name": "LayoutModel",
          "state": {
            "_view_name": "LayoutView",
            "grid_template_rows": null,
            "right": null,
            "justify_content": null,
            "_view_module": "@jupyter-widgets/base",
            "overflow": null,
            "_model_module_version": "1.2.0",
            "_view_count": null,
            "flex_flow": null,
            "width": null,
            "min_width": null,
            "border": null,
            "align_items": null,
            "bottom": null,
            "_model_module": "@jupyter-widgets/base",
            "top": null,
            "grid_column": null,
            "overflow_y": null,
            "overflow_x": null,
            "grid_auto_flow": null,
            "grid_area": null,
            "grid_template_columns": null,
            "flex": null,
            "_model_name": "LayoutModel",
            "justify_items": null,
            "grid_row": null,
            "max_height": null,
            "align_content": null,
            "visibility": null,
            "align_self": null,
            "height": null,
            "min_height": null,
            "padding": null,
            "grid_auto_rows": null,
            "grid_gap": null,
            "max_width": null,
            "order": null,
            "_view_module_version": "1.2.0",
            "grid_template_areas": null,
            "object_position": null,
            "object_fit": null,
            "grid_auto_columns": null,
            "margin": null,
            "display": null,
            "left": null
          }
        },
        "887e3bfdacc84a3cb3648144f39e02cc": {
          "model_module": "@jupyter-widgets/controls",
          "model_name": "IntProgressModel",
          "state": {
            "_view_name": "ProgressView",
            "style": "IPY_MODEL_fd52de8540224abdbaae64d842a14317",
            "_dom_classes": [],
            "description": "100%",
            "_model_name": "IntProgressModel",
            "bar_style": "success",
            "max": 159571,
            "_view_module": "@jupyter-widgets/controls",
            "_model_module_version": "1.5.0",
            "value": 159571,
            "_view_count": null,
            "_view_module_version": "1.5.0",
            "orientation": "horizontal",
            "min": 0,
            "description_tooltip": null,
            "_model_module": "@jupyter-widgets/controls",
            "layout": "IPY_MODEL_371031f5d862418d97a3625cc287fc35"
          }
        },
        "b985ecfb73fa4211b56ef8deb711b639": {
          "model_module": "@jupyter-widgets/controls",
          "model_name": "HTMLModel",
          "state": {
            "_view_name": "HTMLView",
            "style": "IPY_MODEL_df84937ebc54421890da96042627e0a5",
            "_dom_classes": [],
            "description": "",
            "_model_name": "HTMLModel",
            "placeholder": "​",
            "_view_module": "@jupyter-widgets/controls",
            "_model_module_version": "1.5.0",
            "value": " 159571/159571 [00:03&lt;00:00, 45693.17it/s]",
            "_view_count": null,
            "_view_module_version": "1.5.0",
            "description_tooltip": null,
            "_model_module": "@jupyter-widgets/controls",
            "layout": "IPY_MODEL_82b7bb298abf48cea9eab244afbcff7e"
          }
        },
        "fd52de8540224abdbaae64d842a14317": {
          "model_module": "@jupyter-widgets/controls",
          "model_name": "ProgressStyleModel",
          "state": {
            "_view_name": "StyleView",
            "_model_name": "ProgressStyleModel",
            "description_width": "initial",
            "_view_module": "@jupyter-widgets/base",
            "_model_module_version": "1.5.0",
            "_view_count": null,
            "_view_module_version": "1.2.0",
            "bar_color": null,
            "_model_module": "@jupyter-widgets/controls"
          }
        },
        "371031f5d862418d97a3625cc287fc35": {
          "model_module": "@jupyter-widgets/base",
          "model_name": "LayoutModel",
          "state": {
            "_view_name": "LayoutView",
            "grid_template_rows": null,
            "right": null,
            "justify_content": null,
            "_view_module": "@jupyter-widgets/base",
            "overflow": null,
            "_model_module_version": "1.2.0",
            "_view_count": null,
            "flex_flow": null,
            "width": null,
            "min_width": null,
            "border": null,
            "align_items": null,
            "bottom": null,
            "_model_module": "@jupyter-widgets/base",
            "top": null,
            "grid_column": null,
            "overflow_y": null,
            "overflow_x": null,
            "grid_auto_flow": null,
            "grid_area": null,
            "grid_template_columns": null,
            "flex": null,
            "_model_name": "LayoutModel",
            "justify_items": null,
            "grid_row": null,
            "max_height": null,
            "align_content": null,
            "visibility": null,
            "align_self": null,
            "height": null,
            "min_height": null,
            "padding": null,
            "grid_auto_rows": null,
            "grid_gap": null,
            "max_width": null,
            "order": null,
            "_view_module_version": "1.2.0",
            "grid_template_areas": null,
            "object_position": null,
            "object_fit": null,
            "grid_auto_columns": null,
            "margin": null,
            "display": null,
            "left": null
          }
        },
        "df84937ebc54421890da96042627e0a5": {
          "model_module": "@jupyter-widgets/controls",
          "model_name": "DescriptionStyleModel",
          "state": {
            "_view_name": "StyleView",
            "_model_name": "DescriptionStyleModel",
            "description_width": "",
            "_view_module": "@jupyter-widgets/base",
            "_model_module_version": "1.5.0",
            "_view_count": null,
            "_view_module_version": "1.2.0",
            "_model_module": "@jupyter-widgets/controls"
          }
        },
        "82b7bb298abf48cea9eab244afbcff7e": {
          "model_module": "@jupyter-widgets/base",
          "model_name": "LayoutModel",
          "state": {
            "_view_name": "LayoutView",
            "grid_template_rows": null,
            "right": null,
            "justify_content": null,
            "_view_module": "@jupyter-widgets/base",
            "overflow": null,
            "_model_module_version": "1.2.0",
            "_view_count": null,
            "flex_flow": null,
            "width": null,
            "min_width": null,
            "border": null,
            "align_items": null,
            "bottom": null,
            "_model_module": "@jupyter-widgets/base",
            "top": null,
            "grid_column": null,
            "overflow_y": null,
            "overflow_x": null,
            "grid_auto_flow": null,
            "grid_area": null,
            "grid_template_columns": null,
            "flex": null,
            "_model_name": "LayoutModel",
            "justify_items": null,
            "grid_row": null,
            "max_height": null,
            "align_content": null,
            "visibility": null,
            "align_self": null,
            "height": null,
            "min_height": null,
            "padding": null,
            "grid_auto_rows": null,
            "grid_gap": null,
            "max_width": null,
            "order": null,
            "_view_module_version": "1.2.0",
            "grid_template_areas": null,
            "object_position": null,
            "object_fit": null,
            "grid_auto_columns": null,
            "margin": null,
            "display": null,
            "left": null
          }
        },
        "4ebaa7f68d1c42babe98bc5883fe28e5": {
          "model_module": "@jupyter-widgets/controls",
          "model_name": "HBoxModel",
          "state": {
            "_view_name": "HBoxView",
            "_dom_classes": [],
            "_model_name": "HBoxModel",
            "_view_module": "@jupyter-widgets/controls",
            "_model_module_version": "1.5.0",
            "_view_count": null,
            "_view_module_version": "1.5.0",
            "box_style": "",
            "layout": "IPY_MODEL_c31f6705f7de437bad5ec0958c12a259",
            "_model_module": "@jupyter-widgets/controls",
            "children": [
              "IPY_MODEL_a62d6ce60bc644f68e1aa2b0ee44c34f",
              "IPY_MODEL_4f65c6f597be472d9a998f4c976c5467"
            ]
          }
        },
        "c31f6705f7de437bad5ec0958c12a259": {
          "model_module": "@jupyter-widgets/base",
          "model_name": "LayoutModel",
          "state": {
            "_view_name": "LayoutView",
            "grid_template_rows": null,
            "right": null,
            "justify_content": null,
            "_view_module": "@jupyter-widgets/base",
            "overflow": null,
            "_model_module_version": "1.2.0",
            "_view_count": null,
            "flex_flow": null,
            "width": null,
            "min_width": null,
            "border": null,
            "align_items": null,
            "bottom": null,
            "_model_module": "@jupyter-widgets/base",
            "top": null,
            "grid_column": null,
            "overflow_y": null,
            "overflow_x": null,
            "grid_auto_flow": null,
            "grid_area": null,
            "grid_template_columns": null,
            "flex": null,
            "_model_name": "LayoutModel",
            "justify_items": null,
            "grid_row": null,
            "max_height": null,
            "align_content": null,
            "visibility": null,
            "align_self": null,
            "height": null,
            "min_height": null,
            "padding": null,
            "grid_auto_rows": null,
            "grid_gap": null,
            "max_width": null,
            "order": null,
            "_view_module_version": "1.2.0",
            "grid_template_areas": null,
            "object_position": null,
            "object_fit": null,
            "grid_auto_columns": null,
            "margin": null,
            "display": null,
            "left": null
          }
        },
        "a62d6ce60bc644f68e1aa2b0ee44c34f": {
          "model_module": "@jupyter-widgets/controls",
          "model_name": "IntProgressModel",
          "state": {
            "_view_name": "ProgressView",
            "style": "IPY_MODEL_63fa6c37fdb64a559575326a037dfef3",
            "_dom_classes": [],
            "description": "100%",
            "_model_name": "IntProgressModel",
            "bar_style": "success",
            "max": 167393,
            "_view_module": "@jupyter-widgets/controls",
            "_model_module_version": "1.5.0",
            "value": 167393,
            "_view_count": null,
            "_view_module_version": "1.5.0",
            "orientation": "horizontal",
            "min": 0,
            "description_tooltip": null,
            "_model_module": "@jupyter-widgets/controls",
            "layout": "IPY_MODEL_bd6c9a1767b24fa987d068714b82b679"
          }
        },
        "4f65c6f597be472d9a998f4c976c5467": {
          "model_module": "@jupyter-widgets/controls",
          "model_name": "HTMLModel",
          "state": {
            "_view_name": "HTMLView",
            "style": "IPY_MODEL_e97e9153cf37488ebbf7de147e612922",
            "_dom_classes": [],
            "description": "",
            "_model_name": "HTMLModel",
            "placeholder": "​",
            "_view_module": "@jupyter-widgets/controls",
            "_model_module_version": "1.5.0",
            "value": " 167393/167393 [00:00&lt;00:00, 587490.14it/s]",
            "_view_count": null,
            "_view_module_version": "1.5.0",
            "description_tooltip": null,
            "_model_module": "@jupyter-widgets/controls",
            "layout": "IPY_MODEL_a421f38049e1431a823c2ebd85a1187e"
          }
        },
        "63fa6c37fdb64a559575326a037dfef3": {
          "model_module": "@jupyter-widgets/controls",
          "model_name": "ProgressStyleModel",
          "state": {
            "_view_name": "StyleView",
            "_model_name": "ProgressStyleModel",
            "description_width": "initial",
            "_view_module": "@jupyter-widgets/base",
            "_model_module_version": "1.5.0",
            "_view_count": null,
            "_view_module_version": "1.2.0",
            "bar_color": null,
            "_model_module": "@jupyter-widgets/controls"
          }
        },
        "bd6c9a1767b24fa987d068714b82b679": {
          "model_module": "@jupyter-widgets/base",
          "model_name": "LayoutModel",
          "state": {
            "_view_name": "LayoutView",
            "grid_template_rows": null,
            "right": null,
            "justify_content": null,
            "_view_module": "@jupyter-widgets/base",
            "overflow": null,
            "_model_module_version": "1.2.0",
            "_view_count": null,
            "flex_flow": null,
            "width": null,
            "min_width": null,
            "border": null,
            "align_items": null,
            "bottom": null,
            "_model_module": "@jupyter-widgets/base",
            "top": null,
            "grid_column": null,
            "overflow_y": null,
            "overflow_x": null,
            "grid_auto_flow": null,
            "grid_area": null,
            "grid_template_columns": null,
            "flex": null,
            "_model_name": "LayoutModel",
            "justify_items": null,
            "grid_row": null,
            "max_height": null,
            "align_content": null,
            "visibility": null,
            "align_self": null,
            "height": null,
            "min_height": null,
            "padding": null,
            "grid_auto_rows": null,
            "grid_gap": null,
            "max_width": null,
            "order": null,
            "_view_module_version": "1.2.0",
            "grid_template_areas": null,
            "object_position": null,
            "object_fit": null,
            "grid_auto_columns": null,
            "margin": null,
            "display": null,
            "left": null
          }
        },
        "e97e9153cf37488ebbf7de147e612922": {
          "model_module": "@jupyter-widgets/controls",
          "model_name": "DescriptionStyleModel",
          "state": {
            "_view_name": "StyleView",
            "_model_name": "DescriptionStyleModel",
            "description_width": "",
            "_view_module": "@jupyter-widgets/base",
            "_model_module_version": "1.5.0",
            "_view_count": null,
            "_view_module_version": "1.2.0",
            "_model_module": "@jupyter-widgets/controls"
          }
        },
        "a421f38049e1431a823c2ebd85a1187e": {
          "model_module": "@jupyter-widgets/base",
          "model_name": "LayoutModel",
          "state": {
            "_view_name": "LayoutView",
            "grid_template_rows": null,
            "right": null,
            "justify_content": null,
            "_view_module": "@jupyter-widgets/base",
            "overflow": null,
            "_model_module_version": "1.2.0",
            "_view_count": null,
            "flex_flow": null,
            "width": null,
            "min_width": null,
            "border": null,
            "align_items": null,
            "bottom": null,
            "_model_module": "@jupyter-widgets/base",
            "top": null,
            "grid_column": null,
            "overflow_y": null,
            "overflow_x": null,
            "grid_auto_flow": null,
            "grid_area": null,
            "grid_template_columns": null,
            "flex": null,
            "_model_name": "LayoutModel",
            "justify_items": null,
            "grid_row": null,
            "max_height": null,
            "align_content": null,
            "visibility": null,
            "align_self": null,
            "height": null,
            "min_height": null,
            "padding": null,
            "grid_auto_rows": null,
            "grid_gap": null,
            "max_width": null,
            "order": null,
            "_view_module_version": "1.2.0",
            "grid_template_areas": null,
            "object_position": null,
            "object_fit": null,
            "grid_auto_columns": null,
            "margin": null,
            "display": null,
            "left": null
          }
        }
      }
    }
  },
  "cells": [
    {
      "cell_type": "markdown",
      "metadata": {
        "id": "view-in-github",
        "colab_type": "text"
      },
      "source": [
        "<a href=\"https://colab.research.google.com/github/someaditya/toxicity-classification/blob/master/toxicity_classification.ipynb\" target=\"_parent\"><img src=\"https://colab.research.google.com/assets/colab-badge.svg\" alt=\"Open In Colab\"/></a>"
      ]
    },
    {
      "cell_type": "markdown",
      "metadata": {
        "id": "nCaMcXxfA8Yr",
        "colab_type": "text"
      },
      "source": [
        "# **Machine Learning Engineer Nanodegree Capstone Project**\n",
        "## **Identification and Classification of Toxic Comments**\n",
        "\n",
        "### By Some Aditya Mandal\n",
        "\n",
        "\n",
        "\n",
        "As of the first quarter of 2020, there are over 4.5 billion internet users all over the world while social media users have passed the 3.8 billion mark. Nearly 60 percent of the world’s population is already online, and the latest trends suggest that more than half of the world’s total population will use social media by the middle of this year.\n",
        "\n",
        "The idea of social media, online forums and discussion sections is to provide a platform for meaningful discussion for internet users. But a major problem faced by most of these platforms is toxic comments. In this context, toxicity can be defined as 'anything that is rude, disrespectful, or otherwise likely to make someone leave a discussion'. The threat of abuse and harassment online means that many people stop to express themselves and give up on seeking different opinions. Platforms across struggle to effectively facilitate conversations, leading many communities to moderate and limit or completely shut down user comments.\n",
        "\n",
        "The emergence of massive social networking websites like Facebook, Twitter and Reddit lead to millions of people posting content and commenting on them. People\n",
        "including children interact in the internet and there is a need to control the content and encourage a healthy environment and facilitate conversations, and ensure that\n",
        "they don’t give up on stop expressing themselves. Many news websites now have started disabling comments sections.Most of these websites have human moderators behind them monitoring them constantly which is very inefficient.\n",
        "\n",
        "\n",
        "In 2017, around 2 million comments were released by the Civil Comments Platform when it shut down in an effort to help researchers improve civility in online conversations. Jigsaw, an Alphabet company, adopted this goal and further annotated the data set for research purposes. \n",
        "\n",
        "This capstone project will focus on the Identification and Classification of Toxic Comments , which\n",
        "aims to detect toxicity across a diverse range of conversations.\n",
        " \n",
        "\n",
        "\n",
        "## **Problem Statement**\n",
        "\n",
        "The problem comes under Natural Language Processing, a sentiment analysis problem. The aim of this capstone project is to build a machine learning model that can\n",
        "classify toxicity of a given text using machine learning methods. \n",
        "\n",
        "Several researches has been performed using different machine learning models to classify toxic interactions in the past and the efficiency of neural networks in classification of toxic comments were proven.\n",
        "\n",
        "### **Project Setup**\n",
        "\n",
        "Here we will import the initially required libraries.\n"
      ]
    },
    {
      "cell_type": "code",
      "metadata": {
        "id": "Udgdysvb1jCO",
        "colab_type": "code",
        "colab": {}
      },
      "source": [
        "import numpy as np\n",
        "import pandas as pd\n",
        "import matplotlib.pyplot as plt\n",
        "from IPython.display import display, HTML\n",
        "import seaborn as sb\n",
        "import tensorflow as tf\n",
        "%matplotlib inline"
      ],
      "execution_count": 0,
      "outputs": []
    },
    {
      "cell_type": "markdown",
      "metadata": {
        "id": "ngGbNHl-BkNW",
        "colab_type": "text"
      },
      "source": [
        "Checking Colab allocation of GPU"
      ]
    },
    {
      "cell_type": "code",
      "metadata": {
        "id": "LTcGr4c4WeIn",
        "colab_type": "code",
        "outputId": "323988e1-e21d-44fa-9a6a-0dd1aa01263c",
        "colab": {
          "base_uri": "https://localhost:8080/",
          "height": 33
        }
      },
      "source": [
        "device_name = tf.test.gpu_device_name()\n",
        "if device_name != '/device:GPU:0':\n",
        "  raise SystemError('GPU device not found')\n",
        "print('Found GPU at: {}'.format(device_name))"
      ],
      "execution_count": 100,
      "outputs": [
        {
          "output_type": "stream",
          "text": [
            "Found GPU at: /device:GPU:0\n"
          ],
          "name": "stdout"
        }
      ]
    },
    {
      "cell_type": "code",
      "metadata": {
        "id": "0PKb86Ao8hAT",
        "colab_type": "code",
        "outputId": "45869312-f91d-4e24-eab5-19de73bfe7ba",
        "colab": {
          "base_uri": "https://localhost:8080/",
          "height": 277
        }
      },
      "source": [
        "gpu_info = !nvidia-smi\n",
        "gpu_info = '\\n'.join(gpu_info)\n",
        "if gpu_info.find('failed') >= 0:\n",
        "  print('Select the Runtime → \"Change runtime type\" menu to enable a GPU accelerator, ')\n",
        "  print('and then re-execute this cell.')\n",
        "else:\n",
        "  print(gpu_info)"
      ],
      "execution_count": 101,
      "outputs": [
        {
          "output_type": "stream",
          "text": [
            "Sun May  3 12:46:04 2020       \n",
            "+-----------------------------------------------------------------------------+\n",
            "| NVIDIA-SMI 440.64.00    Driver Version: 418.67       CUDA Version: 10.1     |\n",
            "|-------------------------------+----------------------+----------------------+\n",
            "| GPU  Name        Persistence-M| Bus-Id        Disp.A | Volatile Uncorr. ECC |\n",
            "| Fan  Temp  Perf  Pwr:Usage/Cap|         Memory-Usage | GPU-Util  Compute M. |\n",
            "|===============================+======================+======================|\n",
            "|   0  Tesla P100-PCIE...  Off  | 00000000:00:04.0 Off |                    0 |\n",
            "| N/A   40C    P0    32W / 250W |   4485MiB / 16280MiB |      0%      Default |\n",
            "+-------------------------------+----------------------+----------------------+\n",
            "                                                                               \n",
            "+-----------------------------------------------------------------------------+\n",
            "| Processes:                                                       GPU Memory |\n",
            "|  GPU       PID   Type   Process name                             Usage      |\n",
            "|=============================================================================|\n",
            "+-----------------------------------------------------------------------------+\n"
          ],
          "name": "stdout"
        }
      ]
    },
    {
      "cell_type": "markdown",
      "metadata": {
        "id": "zoPR4bTbBxMt",
        "colab_type": "text"
      },
      "source": [
        "\n",
        "This kernel is hosted in [Google Colab](https://https://colab.research.google.com/). This step mounts [Google Drive](https://drive.google.com) in to the Colab workspace. Google Drive is utilised to store the [Kaggle Dataset](https://www.kaggle.com/c/jigsaw-toxic-comment-classification-challenge/data) and [FastText English Word Vectors](https://fasttext.cc/docs/en/english-vectors.html).\n",
        "\n",
        "To read more about other ways to use External data in Google Colab , please read this [Colab Notebook](https://colab.research.google.com/notebooks/io.ipynb). "
      ]
    },
    {
      "cell_type": "code",
      "metadata": {
        "id": "A0WyAB-l2Toy",
        "colab_type": "code",
        "outputId": "496b2ad6-e07f-4b4d-e848-f64a5a96d618",
        "colab": {
          "base_uri": "https://localhost:8080/",
          "height": 33
        }
      },
      "source": [
        "from google.colab import drive\n",
        "drive.mount('/content/drive')"
      ],
      "execution_count": 102,
      "outputs": [
        {
          "output_type": "stream",
          "text": [
            "Drive already mounted at /content/drive; to attempt to forcibly remount, call drive.mount(\"/content/drive\", force_remount=True).\n"
          ],
          "name": "stdout"
        }
      ]
    },
    {
      "cell_type": "markdown",
      "metadata": {
        "id": "2y1w6BGZDP8P",
        "colab_type": "text"
      },
      "source": [
        "Checking if the datasets are correctly mounted in the workspace."
      ]
    },
    {
      "cell_type": "code",
      "metadata": {
        "id": "ssUuinIWMx9I",
        "colab_type": "code",
        "outputId": "26124a32-1644-4345-acbd-03ce42515560",
        "colab": {
          "base_uri": "https://localhost:8080/",
          "height": 33
        }
      },
      "source": [
        "!ls \"/content/drive/My Drive/toxicity-classification/data\""
      ],
      "execution_count": 103,
      "outputs": [
        {
          "output_type": "stream",
          "text": [
            "sample_submission.csv  test.csv  test_labels.csv  train.csv\n"
          ],
          "name": "stdout"
        }
      ]
    },
    {
      "cell_type": "markdown",
      "metadata": {
        "id": "rx7iPf_DDXD_",
        "colab_type": "text"
      },
      "source": [
        "Importing the dataset in the notebook."
      ]
    },
    {
      "cell_type": "code",
      "metadata": {
        "id": "Z3tuktFh10jw",
        "colab_type": "code",
        "colab": {}
      },
      "source": [
        "train_data = pd.read_csv('/content/drive/My Drive/toxicity-classification/data/train.csv')\n",
        "test_data = pd.read_csv('/content/drive/My Drive/toxicity-classification/data/test.csv')\n",
        "test_labels = pd.read_csv('/content/drive/My Drive/toxicity-classification/data/test_labels.csv')\n",
        "# merge test labels with the original test dataset\n",
        "test_data_final = pd.merge(test_data, test_labels, on='id')\n",
        "# remove test data not used in scoring - these have labels of -1 for all toxicity subtypes\n",
        "test_data_final.drop(test_data_final.loc[test_data_final['toxic']==-1].index, inplace=True)"
      ],
      "execution_count": 0,
      "outputs": []
    },
    {
      "cell_type": "markdown",
      "metadata": {
        "id": "P0Ab8ff8Dj44",
        "colab_type": "text"
      },
      "source": [
        "### **Dataset Analysis**\n",
        "Here we take a high level view of the datasets we will be working with.\n",
        "\n",
        "\n",
        "The dataset is a large number of Wikipedia comments which have been labeled by human raters for toxic behavior and this dataset was made public on Kaggle by Jigsaw and Google ( Both Alphabet Company) as part of their competetion [\"Toxic Comment Classification Challenge](https://www.kaggle.com/c/jigsaw-toxic-comment-classification-challenge/overview)\".\n",
        "\n",
        "The training and test datasets are publicly available on Kaggle and the training dataset has following column names:\n",
        "\n",
        "* id\n",
        "* comment_text\n",
        "* toxic\n",
        "* severe_toxic\n",
        "* obscene\n",
        "* threat\n",
        "* insult\n",
        "* identity_hate\n",
        "\n",
        "Checking examples of the training and test data."
      ]
    },
    {
      "cell_type": "code",
      "metadata": {
        "id": "YBm3Y3TW5q0j",
        "colab_type": "code",
        "outputId": "5b3b49bf-3cb5-4f60-c649-eaf3ceec27b5",
        "colab": {
          "base_uri": "https://localhost:8080/",
          "height": 335
        }
      },
      "source": [
        "train_data.head(10)"
      ],
      "execution_count": 105,
      "outputs": [
        {
          "output_type": "execute_result",
          "data": {
            "text/html": [
              "<div>\n",
              "<style scoped>\n",
              "    .dataframe tbody tr th:only-of-type {\n",
              "        vertical-align: middle;\n",
              "    }\n",
              "\n",
              "    .dataframe tbody tr th {\n",
              "        vertical-align: top;\n",
              "    }\n",
              "\n",
              "    .dataframe thead th {\n",
              "        text-align: right;\n",
              "    }\n",
              "</style>\n",
              "<table border=\"1\" class=\"dataframe\">\n",
              "  <thead>\n",
              "    <tr style=\"text-align: right;\">\n",
              "      <th></th>\n",
              "      <th>id</th>\n",
              "      <th>comment_text</th>\n",
              "      <th>toxic</th>\n",
              "      <th>severe_toxic</th>\n",
              "      <th>obscene</th>\n",
              "      <th>threat</th>\n",
              "      <th>insult</th>\n",
              "      <th>identity_hate</th>\n",
              "    </tr>\n",
              "  </thead>\n",
              "  <tbody>\n",
              "    <tr>\n",
              "      <th>0</th>\n",
              "      <td>0000997932d777bf</td>\n",
              "      <td>Explanation\\nWhy the edits made under my usern...</td>\n",
              "      <td>0</td>\n",
              "      <td>0</td>\n",
              "      <td>0</td>\n",
              "      <td>0</td>\n",
              "      <td>0</td>\n",
              "      <td>0</td>\n",
              "    </tr>\n",
              "    <tr>\n",
              "      <th>1</th>\n",
              "      <td>000103f0d9cfb60f</td>\n",
              "      <td>D'aww! He matches this background colour I'm s...</td>\n",
              "      <td>0</td>\n",
              "      <td>0</td>\n",
              "      <td>0</td>\n",
              "      <td>0</td>\n",
              "      <td>0</td>\n",
              "      <td>0</td>\n",
              "    </tr>\n",
              "    <tr>\n",
              "      <th>2</th>\n",
              "      <td>000113f07ec002fd</td>\n",
              "      <td>Hey man, I'm really not trying to edit war. It...</td>\n",
              "      <td>0</td>\n",
              "      <td>0</td>\n",
              "      <td>0</td>\n",
              "      <td>0</td>\n",
              "      <td>0</td>\n",
              "      <td>0</td>\n",
              "    </tr>\n",
              "    <tr>\n",
              "      <th>3</th>\n",
              "      <td>0001b41b1c6bb37e</td>\n",
              "      <td>\"\\nMore\\nI can't make any real suggestions on ...</td>\n",
              "      <td>0</td>\n",
              "      <td>0</td>\n",
              "      <td>0</td>\n",
              "      <td>0</td>\n",
              "      <td>0</td>\n",
              "      <td>0</td>\n",
              "    </tr>\n",
              "    <tr>\n",
              "      <th>4</th>\n",
              "      <td>0001d958c54c6e35</td>\n",
              "      <td>You, sir, are my hero. Any chance you remember...</td>\n",
              "      <td>0</td>\n",
              "      <td>0</td>\n",
              "      <td>0</td>\n",
              "      <td>0</td>\n",
              "      <td>0</td>\n",
              "      <td>0</td>\n",
              "    </tr>\n",
              "    <tr>\n",
              "      <th>5</th>\n",
              "      <td>00025465d4725e87</td>\n",
              "      <td>\"\\n\\nCongratulations from me as well, use the ...</td>\n",
              "      <td>0</td>\n",
              "      <td>0</td>\n",
              "      <td>0</td>\n",
              "      <td>0</td>\n",
              "      <td>0</td>\n",
              "      <td>0</td>\n",
              "    </tr>\n",
              "    <tr>\n",
              "      <th>6</th>\n",
              "      <td>0002bcb3da6cb337</td>\n",
              "      <td>COCKSUCKER BEFORE YOU PISS AROUND ON MY WORK</td>\n",
              "      <td>1</td>\n",
              "      <td>1</td>\n",
              "      <td>1</td>\n",
              "      <td>0</td>\n",
              "      <td>1</td>\n",
              "      <td>0</td>\n",
              "    </tr>\n",
              "    <tr>\n",
              "      <th>7</th>\n",
              "      <td>00031b1e95af7921</td>\n",
              "      <td>Your vandalism to the Matt Shirvington article...</td>\n",
              "      <td>0</td>\n",
              "      <td>0</td>\n",
              "      <td>0</td>\n",
              "      <td>0</td>\n",
              "      <td>0</td>\n",
              "      <td>0</td>\n",
              "    </tr>\n",
              "    <tr>\n",
              "      <th>8</th>\n",
              "      <td>00037261f536c51d</td>\n",
              "      <td>Sorry if the word 'nonsense' was offensive to ...</td>\n",
              "      <td>0</td>\n",
              "      <td>0</td>\n",
              "      <td>0</td>\n",
              "      <td>0</td>\n",
              "      <td>0</td>\n",
              "      <td>0</td>\n",
              "    </tr>\n",
              "    <tr>\n",
              "      <th>9</th>\n",
              "      <td>00040093b2687caa</td>\n",
              "      <td>alignment on this subject and which are contra...</td>\n",
              "      <td>0</td>\n",
              "      <td>0</td>\n",
              "      <td>0</td>\n",
              "      <td>0</td>\n",
              "      <td>0</td>\n",
              "      <td>0</td>\n",
              "    </tr>\n",
              "  </tbody>\n",
              "</table>\n",
              "</div>"
            ],
            "text/plain": [
              "                 id  ... identity_hate\n",
              "0  0000997932d777bf  ...             0\n",
              "1  000103f0d9cfb60f  ...             0\n",
              "2  000113f07ec002fd  ...             0\n",
              "3  0001b41b1c6bb37e  ...             0\n",
              "4  0001d958c54c6e35  ...             0\n",
              "5  00025465d4725e87  ...             0\n",
              "6  0002bcb3da6cb337  ...             0\n",
              "7  00031b1e95af7921  ...             0\n",
              "8  00037261f536c51d  ...             0\n",
              "9  00040093b2687caa  ...             0\n",
              "\n",
              "[10 rows x 8 columns]"
            ]
          },
          "metadata": {
            "tags": []
          },
          "execution_count": 105
        }
      ]
    },
    {
      "cell_type": "code",
      "metadata": {
        "id": "4W4xO_lb-_Ey",
        "colab_type": "code",
        "outputId": "8757c7f9-f6bc-4ac9-c390-4c42ea2166ec",
        "colab": {
          "base_uri": "https://localhost:8080/",
          "height": 335
        }
      },
      "source": [
        "test_data_final.head(10)"
      ],
      "execution_count": 106,
      "outputs": [
        {
          "output_type": "execute_result",
          "data": {
            "text/html": [
              "<div>\n",
              "<style scoped>\n",
              "    .dataframe tbody tr th:only-of-type {\n",
              "        vertical-align: middle;\n",
              "    }\n",
              "\n",
              "    .dataframe tbody tr th {\n",
              "        vertical-align: top;\n",
              "    }\n",
              "\n",
              "    .dataframe thead th {\n",
              "        text-align: right;\n",
              "    }\n",
              "</style>\n",
              "<table border=\"1\" class=\"dataframe\">\n",
              "  <thead>\n",
              "    <tr style=\"text-align: right;\">\n",
              "      <th></th>\n",
              "      <th>id</th>\n",
              "      <th>comment_text</th>\n",
              "      <th>toxic</th>\n",
              "      <th>severe_toxic</th>\n",
              "      <th>obscene</th>\n",
              "      <th>threat</th>\n",
              "      <th>insult</th>\n",
              "      <th>identity_hate</th>\n",
              "    </tr>\n",
              "  </thead>\n",
              "  <tbody>\n",
              "    <tr>\n",
              "      <th>5</th>\n",
              "      <td>0001ea8717f6de06</td>\n",
              "      <td>Thank you for understanding. I think very high...</td>\n",
              "      <td>0</td>\n",
              "      <td>0</td>\n",
              "      <td>0</td>\n",
              "      <td>0</td>\n",
              "      <td>0</td>\n",
              "      <td>0</td>\n",
              "    </tr>\n",
              "    <tr>\n",
              "      <th>7</th>\n",
              "      <td>000247e83dcc1211</td>\n",
              "      <td>:Dear god this site is horrible.</td>\n",
              "      <td>0</td>\n",
              "      <td>0</td>\n",
              "      <td>0</td>\n",
              "      <td>0</td>\n",
              "      <td>0</td>\n",
              "      <td>0</td>\n",
              "    </tr>\n",
              "    <tr>\n",
              "      <th>11</th>\n",
              "      <td>0002f87b16116a7f</td>\n",
              "      <td>\"::: Somebody will invariably try to add Relig...</td>\n",
              "      <td>0</td>\n",
              "      <td>0</td>\n",
              "      <td>0</td>\n",
              "      <td>0</td>\n",
              "      <td>0</td>\n",
              "      <td>0</td>\n",
              "    </tr>\n",
              "    <tr>\n",
              "      <th>13</th>\n",
              "      <td>0003e1cccfd5a40a</td>\n",
              "      <td>\" \\n\\n It says it right there that it IS a typ...</td>\n",
              "      <td>0</td>\n",
              "      <td>0</td>\n",
              "      <td>0</td>\n",
              "      <td>0</td>\n",
              "      <td>0</td>\n",
              "      <td>0</td>\n",
              "    </tr>\n",
              "    <tr>\n",
              "      <th>14</th>\n",
              "      <td>00059ace3e3e9a53</td>\n",
              "      <td>\" \\n\\n == Before adding a new product to the l...</td>\n",
              "      <td>0</td>\n",
              "      <td>0</td>\n",
              "      <td>0</td>\n",
              "      <td>0</td>\n",
              "      <td>0</td>\n",
              "      <td>0</td>\n",
              "    </tr>\n",
              "    <tr>\n",
              "      <th>16</th>\n",
              "      <td>000663aff0fffc80</td>\n",
              "      <td>this other one from 1897</td>\n",
              "      <td>0</td>\n",
              "      <td>0</td>\n",
              "      <td>0</td>\n",
              "      <td>0</td>\n",
              "      <td>0</td>\n",
              "      <td>0</td>\n",
              "    </tr>\n",
              "    <tr>\n",
              "      <th>17</th>\n",
              "      <td>000689dd34e20979</td>\n",
              "      <td>== Reason for banning throwing == \\n\\n This ar...</td>\n",
              "      <td>0</td>\n",
              "      <td>0</td>\n",
              "      <td>0</td>\n",
              "      <td>0</td>\n",
              "      <td>0</td>\n",
              "      <td>0</td>\n",
              "    </tr>\n",
              "    <tr>\n",
              "      <th>19</th>\n",
              "      <td>000844b52dee5f3f</td>\n",
              "      <td>|blocked]] from editing Wikipedia.   |</td>\n",
              "      <td>0</td>\n",
              "      <td>0</td>\n",
              "      <td>0</td>\n",
              "      <td>0</td>\n",
              "      <td>0</td>\n",
              "      <td>0</td>\n",
              "    </tr>\n",
              "    <tr>\n",
              "      <th>21</th>\n",
              "      <td>00091c35fa9d0465</td>\n",
              "      <td>== Arabs are committing genocide in Iraq, but ...</td>\n",
              "      <td>1</td>\n",
              "      <td>0</td>\n",
              "      <td>0</td>\n",
              "      <td>0</td>\n",
              "      <td>0</td>\n",
              "      <td>0</td>\n",
              "    </tr>\n",
              "    <tr>\n",
              "      <th>22</th>\n",
              "      <td>000968ce11f5ee34</td>\n",
              "      <td>Please stop. If you continue to vandalize Wiki...</td>\n",
              "      <td>0</td>\n",
              "      <td>0</td>\n",
              "      <td>0</td>\n",
              "      <td>0</td>\n",
              "      <td>0</td>\n",
              "      <td>0</td>\n",
              "    </tr>\n",
              "  </tbody>\n",
              "</table>\n",
              "</div>"
            ],
            "text/plain": [
              "                  id  ... identity_hate\n",
              "5   0001ea8717f6de06  ...             0\n",
              "7   000247e83dcc1211  ...             0\n",
              "11  0002f87b16116a7f  ...             0\n",
              "13  0003e1cccfd5a40a  ...             0\n",
              "14  00059ace3e3e9a53  ...             0\n",
              "16  000663aff0fffc80  ...             0\n",
              "17  000689dd34e20979  ...             0\n",
              "19  000844b52dee5f3f  ...             0\n",
              "21  00091c35fa9d0465  ...             0\n",
              "22  000968ce11f5ee34  ...             0\n",
              "\n",
              "[10 rows x 8 columns]"
            ]
          },
          "metadata": {
            "tags": []
          },
          "execution_count": 106
        }
      ]
    },
    {
      "cell_type": "markdown",
      "metadata": {
        "id": "rPmBo6zDFGxu",
        "colab_type": "text"
      },
      "source": [
        "Check for repeated values, null values and overall statistics of the dataset."
      ]
    },
    {
      "cell_type": "code",
      "metadata": {
        "id": "iaUo3mLJFAJK",
        "colab_type": "code",
        "outputId": "4e092068-ace7-45e9-8e51-6829e2c127c8",
        "colab": {
          "base_uri": "https://localhost:8080/",
          "height": 310
        }
      },
      "source": [
        "print(any(train_data['id'].duplicated())) # see if id values are repeated\n",
        "print(train_data.isnull().values.any()) # check for any n/a values\n",
        "display(train_data.describe()) # check statistics of each classification"
      ],
      "execution_count": 0,
      "outputs": [
        {
          "output_type": "stream",
          "text": [
            "False\n",
            "False\n"
          ],
          "name": "stdout"
        },
        {
          "output_type": "display_data",
          "data": {
            "text/html": [
              "<div>\n",
              "<style scoped>\n",
              "    .dataframe tbody tr th:only-of-type {\n",
              "        vertical-align: middle;\n",
              "    }\n",
              "\n",
              "    .dataframe tbody tr th {\n",
              "        vertical-align: top;\n",
              "    }\n",
              "\n",
              "    .dataframe thead th {\n",
              "        text-align: right;\n",
              "    }\n",
              "</style>\n",
              "<table border=\"1\" class=\"dataframe\">\n",
              "  <thead>\n",
              "    <tr style=\"text-align: right;\">\n",
              "      <th></th>\n",
              "      <th>toxic</th>\n",
              "      <th>severe_toxic</th>\n",
              "      <th>obscene</th>\n",
              "      <th>threat</th>\n",
              "      <th>insult</th>\n",
              "      <th>identity_hate</th>\n",
              "    </tr>\n",
              "  </thead>\n",
              "  <tbody>\n",
              "    <tr>\n",
              "      <th>count</th>\n",
              "      <td>159571.000000</td>\n",
              "      <td>159571.000000</td>\n",
              "      <td>159571.000000</td>\n",
              "      <td>159571.000000</td>\n",
              "      <td>159571.000000</td>\n",
              "      <td>159571.000000</td>\n",
              "    </tr>\n",
              "    <tr>\n",
              "      <th>mean</th>\n",
              "      <td>0.095844</td>\n",
              "      <td>0.009996</td>\n",
              "      <td>0.052948</td>\n",
              "      <td>0.002996</td>\n",
              "      <td>0.049364</td>\n",
              "      <td>0.008805</td>\n",
              "    </tr>\n",
              "    <tr>\n",
              "      <th>std</th>\n",
              "      <td>0.294379</td>\n",
              "      <td>0.099477</td>\n",
              "      <td>0.223931</td>\n",
              "      <td>0.054650</td>\n",
              "      <td>0.216627</td>\n",
              "      <td>0.093420</td>\n",
              "    </tr>\n",
              "    <tr>\n",
              "      <th>min</th>\n",
              "      <td>0.000000</td>\n",
              "      <td>0.000000</td>\n",
              "      <td>0.000000</td>\n",
              "      <td>0.000000</td>\n",
              "      <td>0.000000</td>\n",
              "      <td>0.000000</td>\n",
              "    </tr>\n",
              "    <tr>\n",
              "      <th>25%</th>\n",
              "      <td>0.000000</td>\n",
              "      <td>0.000000</td>\n",
              "      <td>0.000000</td>\n",
              "      <td>0.000000</td>\n",
              "      <td>0.000000</td>\n",
              "      <td>0.000000</td>\n",
              "    </tr>\n",
              "    <tr>\n",
              "      <th>50%</th>\n",
              "      <td>0.000000</td>\n",
              "      <td>0.000000</td>\n",
              "      <td>0.000000</td>\n",
              "      <td>0.000000</td>\n",
              "      <td>0.000000</td>\n",
              "      <td>0.000000</td>\n",
              "    </tr>\n",
              "    <tr>\n",
              "      <th>75%</th>\n",
              "      <td>0.000000</td>\n",
              "      <td>0.000000</td>\n",
              "      <td>0.000000</td>\n",
              "      <td>0.000000</td>\n",
              "      <td>0.000000</td>\n",
              "      <td>0.000000</td>\n",
              "    </tr>\n",
              "    <tr>\n",
              "      <th>max</th>\n",
              "      <td>1.000000</td>\n",
              "      <td>1.000000</td>\n",
              "      <td>1.000000</td>\n",
              "      <td>1.000000</td>\n",
              "      <td>1.000000</td>\n",
              "      <td>1.000000</td>\n",
              "    </tr>\n",
              "  </tbody>\n",
              "</table>\n",
              "</div>"
            ],
            "text/plain": [
              "               toxic   severe_toxic  ...         insult  identity_hate\n",
              "count  159571.000000  159571.000000  ...  159571.000000  159571.000000\n",
              "mean        0.095844       0.009996  ...       0.049364       0.008805\n",
              "std         0.294379       0.099477  ...       0.216627       0.093420\n",
              "min         0.000000       0.000000  ...       0.000000       0.000000\n",
              "25%         0.000000       0.000000  ...       0.000000       0.000000\n",
              "50%         0.000000       0.000000  ...       0.000000       0.000000\n",
              "75%         0.000000       0.000000  ...       0.000000       0.000000\n",
              "max         1.000000       1.000000  ...       1.000000       1.000000\n",
              "\n",
              "[8 rows x 6 columns]"
            ]
          },
          "metadata": {
            "tags": []
          }
        }
      ]
    },
    {
      "cell_type": "markdown",
      "metadata": {
        "id": "FRB9JMTFFON_",
        "colab_type": "text"
      },
      "source": [
        "Checking details of training and test datasets.\n"
      ]
    },
    {
      "cell_type": "code",
      "metadata": {
        "id": "gQrgP03R_CiU",
        "colab_type": "code",
        "outputId": "65ed7eda-3cbc-455c-c533-022a68a2dc5f",
        "colab": {
          "base_uri": "https://localhost:8080/",
          "height": 66
        }
      },
      "source": [
        "train_size = train_data.shape[0]\n",
        "test_size = test_data_final.shape[0]\n",
        "total_count = train_size + test_size\n",
        "print(f\"Number of training examples {train_size}\")\n",
        "print(f\"Number of test examples {test_size}\")\n",
        "print(f\"Train/Test Ratio: {round(train_size/total_count * 100, 2)}% / {round(test_size/total_count * 100, 2)}%\")"
      ],
      "execution_count": 0,
      "outputs": [
        {
          "output_type": "stream",
          "text": [
            "Number of training examples 159571\n",
            "Number of test examples 63978\n",
            "Train/Test Ratio: 71.38% / 28.62%\n"
          ],
          "name": "stdout"
        }
      ]
    },
    {
      "cell_type": "markdown",
      "metadata": {
        "id": "d2ieyWDOGOU3",
        "colab_type": "text"
      },
      "source": [
        "The training dataset contains 160,000 rows (with the above 8 columns) while the initial test set contains 63,000\n",
        "rows, with just 2 columns (the id and comment_text ). \n",
        "\n",
        "\n",
        "Checking the training dataset based on toxicity."
      ]
    },
    {
      "cell_type": "code",
      "metadata": {
        "id": "PCTh4KKo_L8p",
        "colab_type": "code",
        "outputId": "043b4c02-f986-4b0a-be1a-7b36493227a9",
        "colab": {
          "base_uri": "https://localhost:8080/",
          "height": 50
        }
      },
      "source": [
        "# add a new column 'none' to indicate no toxicity\n",
        "train_data_new = train_data.copy()\n",
        "comment_category_totals=train_data.iloc[:,2:].sum(axis=1)\n",
        "train_data_new['none']=(comment_category_totals==0)\n",
        "print(f\"Comments with no toxicity: {train_data_new['none'].sum()}\")\n",
        "print(f\"% of total training dataset marked as not toxic: {train_data_new['none'].sum()/len(train_data_new)}\")"
      ],
      "execution_count": 0,
      "outputs": [
        {
          "output_type": "stream",
          "text": [
            "Comments with no toxicity: 143346\n",
            "% of total training dataset marked as not toxic: 0.8983211235124177\n"
          ],
          "name": "stdout"
        }
      ]
    },
    {
      "cell_type": "code",
      "metadata": {
        "id": "ZYqc4CkM_O1V",
        "colab_type": "code",
        "outputId": "eb28ed15-3bb3-455f-e78f-46e4882c7c50",
        "colab": {
          "base_uri": "https://localhost:8080/",
          "height": 147
        }
      },
      "source": [
        "print(train_data_new[['toxic', 'severe_toxic', 'obscene', 'threat', 'insult', 'identity_hate', 'none']].sum())"
      ],
      "execution_count": 0,
      "outputs": [
        {
          "output_type": "stream",
          "text": [
            "toxic             15294.0\n",
            "severe_toxic       1595.0\n",
            "obscene            8449.0\n",
            "threat              478.0\n",
            "insult             7877.0\n",
            "identity_hate      1405.0\n",
            "none             143346.0\n",
            "dtype: float64\n"
          ],
          "name": "stdout"
        }
      ]
    },
    {
      "cell_type": "code",
      "metadata": {
        "id": "wTHxjlwi_UMf",
        "colab_type": "code",
        "outputId": "cfe8f099-7010-4735-9c44-515794812977",
        "colab": {
          "base_uri": "https://localhost:8080/",
          "height": 353
        }
      },
      "source": [
        "x_vals=train_data_new.iloc[:,2:].sum()\n",
        "plt.figure(figsize=(10,5))\n",
        "axes = sb.barplot(x_vals.index, x_vals.values, alpha=0.7)\n",
        "plt.title(\"Toxicity Label Distribution in Training Dataset\")\n",
        "plt.ylabel('# Occurrences', fontsize=12)\n",
        "plt.xlabel('Toxcity Type', fontsize=12)\n",
        "rectangles = axes.patches\n",
        "labels = x_vals.values\n",
        "for rectangle, label in zip(rectangles, labels):\n",
        "    height = rectangle.get_height()\n",
        "    axes.text(rectangle.get_x() + rectangle.get_width()/2, height + 5, label, va='bottom', ha='center')\n",
        "plt.show()"
      ],
      "execution_count": 0,
      "outputs": [
        {
          "output_type": "display_data",
          "data": {
            "image/png": "[encoded data removed]",
            "text/plain": [
              "<Figure size 720x360 with 1 Axes>"
            ]
          },
          "metadata": {
            "tags": [],
            "needs_background": "light"
          }
        }
      ]
    },
    {
      "cell_type": "code",
      "metadata": {
        "id": "hYTqfXx3_dfR",
        "colab_type": "code",
        "outputId": "14161c4f-d63e-45f3-fa36-bad44eccdcfd",
        "colab": {
          "base_uri": "https://localhost:8080/",
          "height": 263
        }
      },
      "source": [
        "labels = ['toxic', 'severe_toxic', 'obscene', 'threat', 'insult', 'identity_hate']\n",
        "plt.title('Ratio of Positive Toxicity Labels in Training Dataset')\n",
        "plt.pie(train_data_new[labels].sum(), labels=labels, autopct='%1.1f%%')\n",
        "plt.show()"
      ],
      "execution_count": 0,
      "outputs": [
        {
          "output_type": "display_data",
          "data": {
            "image/png": "[encoded data removed]",
            "text/plain": [
              "<Figure size 432x288 with 1 Axes>"
            ]
          },
          "metadata": {
            "tags": []
          }
        }
      ]
    },
    {
      "cell_type": "markdown",
      "metadata": {
        "id": "djUKPA68HGmn",
        "colab_type": "text"
      },
      "source": [
        "In the above analysis, we notice a few things - first, the training dataset is highly imbalanced with regards to comment classification labels. We see that almost 90% of the comments has no toxicity label. Brief investigation of the training set reveals that most of the comments do not have a toxicity classification, and the percentages of toxic classifications are not even - 'toxic' ratings are much more prevalent (15,000 examples) with 'obscene' and 'insult' (around 8,000 each) at nearly half that amount and the rest at or below 1,500 examples each. While not as bad as say the perennial spam dataset example where 1% of the data is classied as spam and the rest is not spam. We also note that the training data is 70% of the total data, which seems typical."
      ]
    },
    {
      "cell_type": "code",
      "metadata": {
        "id": "6hkYIZHQJoG3",
        "colab_type": "code",
        "colab": {}
      },
      "source": [
        "# Word count in each comment:\n",
        "train_data_new['count_word'] = train_data_new[\"comment_text\"].apply(lambda x: len(str(x).split()))\n",
        "\n",
        "# Unique word count\n",
        "train_data_new['count_unique_word'] = train_data_new[\"comment_text\"].apply(lambda x: len(set(str(x).split())))\n",
        "\n",
        "# percentage of unique words\n",
        "train_data_new['word_unique_percent'] = train_data_new['count_unique_word']*100/train_data_new['count_word']\n",
        "\n",
        "# marking comments without any tags as \"clean\".\n",
        "rowsums = train_data_new.iloc[:,2:7].sum(axis=1)\n",
        "train_data_new['clean'] = np.logical_not(rowsums).astype('int')"
      ],
      "execution_count": 0,
      "outputs": []
    },
    {
      "cell_type": "code",
      "metadata": {
        "id": "f4bVsCliJ3yQ",
        "colab_type": "code",
        "outputId": "5257c5af-9ff5-49cb-e32d-372a473ee633",
        "colab": {
          "base_uri": "https://localhost:8080/",
          "height": 318
        }
      },
      "source": [
        "import seaborn as sns\n",
        "# word count\n",
        "axes = sns.violinplot(y='count_word', x='clean', data=train_data_new,split=True, inner=\"quart\")\n",
        "axes.set_xlabel('Type of comment', fontsize=12)\n",
        "axes.set_ylabel('# of words', fontsize=12)\n",
        "axes.set_ylim([0, 250])\n",
        "axes.set_xticklabels(['Toxic', 'Clean'], rotation='vertical', fontsize=10)\n",
        "plt.title(\"Number of words in each comment\", fontsize=15)\n",
        "\n",
        "plt.show()"
      ],
      "execution_count": 0,
      "outputs": [
        {
          "output_type": "display_data",
          "data": {
            "image/png": "[encoded data removed]",
            "text/plain": [
              "<Figure size 432x288 with 1 Axes>"
            ]
          },
          "metadata": {
            "tags": [],
            "needs_background": "light"
          }
        }
      ]
    },
    {
      "cell_type": "markdown",
      "metadata": {
        "id": "B5F_WqPxKLnN",
        "colab_type": "text"
      },
      "source": [
        "The above plot indicates that the number of words in each comment in both clean and toxic comments is mostly between 10 to 50. And toxic comments are much more likely to have fewer words indicated by the bulk near ~20 range."
      ]
    },
    {
      "cell_type": "code",
      "metadata": {
        "id": "Szb6QS-6J-Di",
        "colab_type": "code",
        "outputId": "050b99d0-9572-49df-bb70-c68afd5c1937",
        "colab": {
          "base_uri": "https://localhost:8080/",
          "height": 618
        }
      },
      "source": [
        "\n",
        "# unique word count\n",
        "plt.title(\"Number of unique words in each comment\", fontsize=15)\n",
        "axes = sns.violinplot(y='count_unique_word', x='clean', data=train_data_new,split=True, inner=\"quart\")\n",
        "axes.set_xlabel('Type of comment', fontsize=12)\n",
        "axes.set_ylabel('# of words', fontsize=12)\n",
        "axes.set_ylim([0, 200])\n",
        "axes.set_xticklabels(['Toxic', 'Clean'], rotation='vertical', fontsize=10)\n",
        "plt.show()\n",
        "\n",
        "# percentage of unique words\n",
        "plt.title(\"Percentage of unique words of total words in comment\")\n",
        "axes = sns.violinplot(y='word_unique_percent', x='clean', data=train_data_new,split=True, inner=\"quart\")\n",
        "axes.set_xlabel('Type of comment', fontsize=12)\n",
        "axes.set_ylabel('% of words', fontsize=12)\n",
        "axes.set_xticklabels(['Toxic', 'Clean'], rotation='vertical', fontsize=10)\n",
        "plt.show()"
      ],
      "execution_count": 0,
      "outputs": [
        {
          "output_type": "display_data",
          "data": {
            "image/png": "[encoded data removed]",
            "text/plain": [
              "<Figure size 432x288 with 1 Axes>"
            ]
          },
          "metadata": {
            "tags": [],
            "needs_background": "light"
          }
        },
        {
          "output_type": "display_data",
          "data": {
            "image/png": "[encoded data removed]",
            "text/plain": [
              "<Figure size 432x288 with 1 Axes>"
            ]
          },
          "metadata": {
            "tags": [],
            "needs_background": "light"
          }
        }
      ]
    },
    {
      "cell_type": "markdown",
      "metadata": {
        "id": "R-L3GPL3KM2j",
        "colab_type": "text"
      },
      "source": [
        "The above graphs show that number of words and number of unique words in both clean and toxic comments are similar and the percentage of unique words indicate that the bulk of the words are unique only. Also, there is a very small bump in the percentage of unique words in toxic comments indicating that they are spam."
      ]
    },
    {
      "cell_type": "code",
      "metadata": {
        "id": "R_rA6vtq_hAl",
        "colab_type": "code",
        "outputId": "174f6a78-1d64-4d1f-c266-a1b114c0a028",
        "colab": {
          "base_uri": "https://localhost:8080/",
          "height": 245
        }
      },
      "source": [
        "# check for nulls\n",
        "train_data_new.isnull().any()"
      ],
      "execution_count": 0,
      "outputs": [
        {
          "output_type": "execute_result",
          "data": {
            "text/plain": [
              "id                     False\n",
              "comment_text           False\n",
              "toxic                  False\n",
              "severe_toxic           False\n",
              "obscene                False\n",
              "threat                 False\n",
              "insult                 False\n",
              "identity_hate          False\n",
              "none                   False\n",
              "count_word             False\n",
              "count_unique_word      False\n",
              "word_unique_percent    False\n",
              "clean                  False\n",
              "dtype: bool"
            ]
          },
          "metadata": {
            "tags": []
          },
          "execution_count": 18
        }
      ]
    },
    {
      "cell_type": "markdown",
      "metadata": {
        "id": "B7AV4Ev1H8GC",
        "colab_type": "text"
      },
      "source": [
        "### **Preprocessing data**\n",
        "The input data that will be used to engineer and extract features is in the form of comment text. This input generally cannot be fed directly into machine learning models, and must first be converted into a large, sparse vector of numbers using tokenizing and vectorization. We will use Scikit Learn's [TfidVectorizer](https://scikit-learn.org/stable/modules/generated/sklearn.feature_extraction.text.TfidfVectorizer.html) function to transform the dataset documents (i.e. comments) into a matrix of TF-IDF features after splitting by both words and characters. Here we will use the combined training and test sets to make the overall word feature vector as this is not actively doing any model training, but merely generating features which will be used to train our models - there are varying opinions on this mixing of datasets, but it is allowed to take this approach in Kaggle competitions and so we will do so here for ease of processing. Default English language stopwords will be used, accents will be stripped from characters, and we will start with 1-grams and the top 10,000 words for the **benchmark model**. Based on **Logistic Regression** with words and char n-grams.\n",
        "\n",
        "### **Logistic Regression - Benchmark Model**"
      ]
    },
    {
      "cell_type": "code",
      "metadata": {
        "id": "3LGfl4FQ_n5r",
        "colab_type": "code",
        "outputId": "96737975-47d2-49ea-9ad0-fc59e1a89c7c",
        "colab": {
          "base_uri": "https://localhost:8080/",
          "height": 50
        }
      },
      "source": [
        "from sklearn.feature_extraction.text import TfidfVectorizer\n",
        "from scipy.sparse import hstack\n",
        "\n",
        "# combine training and test comments so we have the entire corpus of words and characters for vectorization\n",
        "combined_comments = pd.concat([train_data['comment_text'], test_data_final['comment_text']])\n",
        "word_vec = TfidfVectorizer(stop_words='english', analyzer='word', strip_accents='unicode', sublinear_tf=True,\n",
        "                           token_pattern=r'\\w{1,}', max_features=10000, ngram_range=(1,1))\n",
        "word_vec.fit(combined_comments)\n",
        "train_word_features = word_vec.transform(train_data['comment_text'])\n",
        "test_word_features = word_vec.transform(test_data_final['comment_text'])\n",
        "\n",
        "character_vec = TfidfVectorizer(analyzer='char', stop_words='english', strip_accents='unicode', sublinear_tf=True,\n",
        "                               max_features=50000, ngram_range=(2,6))\n",
        "character_vec.fit(combined_comments)\n",
        "train_char_features = character_vec.transform(train_data['comment_text'])\n",
        "test_char_features = character_vec.transform(test_data_final['comment_text'])\n",
        "\n",
        "train_data_features = hstack([train_char_features, train_word_features])\n",
        "test_data_features = hstack([test_char_features, test_word_features])"
      ],
      "execution_count": 0,
      "outputs": [
        {
          "output_type": "stream",
          "text": [
            "/usr/local/lib/python3.6/dist-packages/sklearn/feature_extraction/text.py:520: UserWarning: The parameter 'stop_words' will not be used since 'analyzer' != 'word'\n",
            "  warnings.warn(\"The parameter 'stop_words' will not be used\"\n"
          ],
          "name": "stderr"
        }
      ]
    },
    {
      "cell_type": "code",
      "metadata": {
        "id": "fXZmmeKvE8ED",
        "colab_type": "code",
        "colab": {}
      },
      "source": [
        "class_names = ['toxic', 'severe_toxic', 'obscene', 'threat', 'insult', 'identity_hate']"
      ],
      "execution_count": 0,
      "outputs": []
    },
    {
      "cell_type": "code",
      "metadata": {
        "id": "Eqc5ZhC8H_3D",
        "colab_type": "code",
        "outputId": "fe43be0b-a16c-4398-8c53-c19bdb210b73",
        "colab": {
          "base_uri": "https://localhost:8080/",
          "height": 163
        }
      },
      "source": [
        "%%time\n",
        "from sklearn.linear_model import LogisticRegression\n",
        "from sklearn.model_selection import cross_val_score\n",
        "\n",
        "scores = []\n",
        "predictions = pd.DataFrame.from_dict({'id': test_data_final['id']})\n",
        "for class_name in class_names:\n",
        "    train_target = train_data[class_name]\n",
        "    classifier = LogisticRegression(C=0.1, solver='sag')\n",
        "\n",
        "    cv_score = np.mean(cross_val_score(classifier, train_data_features, train_target, cv=3, scoring='roc_auc'))\n",
        "    scores.append(cv_score)\n",
        "    print('CV score for class {} is {}'.format(class_name, cv_score))\n",
        "\n",
        "    classifier.fit(train_data_features, train_target)\n",
        "    predictions[class_name] = classifier.predict_proba(test_data_features)[:, 1]\n",
        "\n",
        "print('Total CV score is {}'.format(np.mean(scores)))"
      ],
      "execution_count": 0,
      "outputs": [
        {
          "output_type": "stream",
          "text": [
            "CV score for class toxic is 0.969796623678293\n",
            "CV score for class severe_toxic is 0.987730879399361\n",
            "CV score for class obscene is 0.9846539223666334\n",
            "CV score for class threat is 0.9831758791246542\n",
            "CV score for class insult is 0.9778954998684352\n",
            "CV score for class identity_hate is 0.9743635324220435\n",
            "Total CV score is 0.9796027228099033\n",
            "CPU times: user 12min 13s, sys: 1.8 s, total: 12min 15s\n",
            "Wall time: 12min 15s\n"
          ],
          "name": "stdout"
        }
      ]
    },
    {
      "cell_type": "markdown",
      "metadata": {
        "id": "hyPmuT-ZNLs9",
        "colab_type": "text"
      },
      "source": [
        "A custom function to calcualte the **Roc-Auc score** using test set labels provided by Kaggle."
      ]
    },
    {
      "cell_type": "code",
      "metadata": {
        "id": "PebE51b5ID7E",
        "colab_type": "code",
        "colab": {}
      },
      "source": [
        "from sklearn.metrics import roc_auc_score\n",
        "def test_score(predicted_vals):\n",
        "    '''Actual Kaggle competion score using test set labels provided after competition close'''\n",
        "    actuals = test_labels.copy()\n",
        "    actuals.drop(actuals.loc[actuals['toxic']==-1].index, inplace=True)\n",
        "    scores_test = []\n",
        "    for class_name in class_names:\n",
        "        score = roc_auc_score(actuals[class_name], predicted_vals[class_name])\n",
        "        scores_test.append(score)\n",
        "    print('Test set score is {}'.format(np.mean(scores_test)))"
      ],
      "execution_count": 0,
      "outputs": []
    },
    {
      "cell_type": "code",
      "metadata": {
        "id": "gfpfJGJLIKmm",
        "colab_type": "code",
        "outputId": "52ac4806-8a18-4bd8-bbd2-ba0d45dd021c",
        "colab": {
          "base_uri": "https://localhost:8080/",
          "height": 33
        }
      },
      "source": [
        "test_score(predictions)"
      ],
      "execution_count": 0,
      "outputs": [
        {
          "output_type": "stream",
          "text": [
            "Test set score is 0.9764890221880639\n"
          ],
          "name": "stdout"
        }
      ]
    },
    {
      "cell_type": "markdown",
      "metadata": {
        "id": "25t1R-aLINtU",
        "colab_type": "text"
      },
      "source": [
        "### **Support Vector Machine**\n",
        "\n",
        "Here, we experiment with another popular machine learning algorithm for classification."
      ]
    },
    {
      "cell_type": "code",
      "metadata": {
        "id": "NwtrTAnXIRnk",
        "colab_type": "code",
        "outputId": "5df3a008-6bf3-4c9e-d089-3f5ce944b902",
        "colab": {
          "base_uri": "https://localhost:8080/",
          "height": 163
        }
      },
      "source": [
        "%%time\n",
        "from sklearn.svm import LinearSVC\n",
        "from sklearn.calibration import CalibratedClassifierCV\n",
        "\n",
        "scores = []\n",
        "predictions = pd.DataFrame.from_dict({'id': test_data_final['id']})\n",
        "for class_name in class_names:\n",
        "    train_target = train_data[class_name]\n",
        "    classifier = CalibratedClassifierCV(LinearSVC(), method='sigmoid',cv=4)\n",
        "\n",
        "    cv_score = np.mean(cross_val_score(classifier, train_data_features, train_target, cv=3, scoring='roc_auc'))\n",
        "    scores.append(cv_score)\n",
        "    print('CV score for class {} is {}'.format(class_name, cv_score))\n",
        "\n",
        "    classifier.fit(train_data_features, train_target)\n",
        "    predictions[class_name] = classifier.predict_proba(test_data_features)[:, 1]\n",
        "\n",
        "print('Total CV score is {}'.format(np.mean(scores)))"
      ],
      "execution_count": 0,
      "outputs": [
        {
          "output_type": "stream",
          "text": [
            "CV score for class toxic is 0.9732447453183903\n",
            "CV score for class severe_toxic is 0.9783027801196075\n",
            "CV score for class obscene is 0.9853299671109998\n",
            "CV score for class threat is 0.9831191802067673\n",
            "CV score for class insult is 0.9744918487352807\n",
            "CV score for class identity_hate is 0.9711174570176264\n",
            "Total CV score is 0.9776009964181119\n",
            "CPU times: user 14min 30s, sys: 1min 19s, total: 15min 50s\n",
            "Wall time: 14min 25s\n"
          ],
          "name": "stdout"
        }
      ]
    },
    {
      "cell_type": "code",
      "metadata": {
        "id": "iAMZyDXmJsmk",
        "colab_type": "code",
        "outputId": "645ec514-45d5-4517-fad4-4679ea8341ef",
        "colab": {
          "base_uri": "https://localhost:8080/",
          "height": 33
        }
      },
      "source": [
        "test_score(predictions)"
      ],
      "execution_count": 0,
      "outputs": [
        {
          "output_type": "stream",
          "text": [
            "Test set score is 0.9728010395157219\n"
          ],
          "name": "stdout"
        }
      ]
    },
    {
      "cell_type": "markdown",
      "metadata": {
        "id": "-s7UX_Q5OBk8",
        "colab_type": "text"
      },
      "source": [
        "Well, it fails to beat the score of our **Logistic Regression Model (Benchmark model)** ."
      ]
    },
    {
      "cell_type": "markdown",
      "metadata": {
        "id": "5j7siKaoDbPU",
        "colab_type": "text"
      },
      "source": [
        "## **Capstone Experiment**\n",
        "\n",
        "Here we will import pre-trained word embeddings, pre-process data,develop and experiment with multiple neural network architectures to try and achieve better performance that the logistic regression benchmark model and the support vector machine model utilized above. \n",
        "\n",
        "###**Environment Setup**\n",
        "\n",
        "Here we import all the essential libraries from [Keras](https://keras.io/) to succesfully run our neural network models.\n",
        "\n",
        "Keras is a high-level neural networks API, written in Python and capable of running on top of TensorFlow, CNTK, or Theano. It was developed with a focus on enabling fast experimentation. Being able to go from idea to result with the least possible delay is key to doing good research.\n",
        "\n",
        "\n",
        "* Allows for easy and fast prototyping (through user friendliness, modularity, and extensibility).\n",
        "* Supports both convolutional networks and recurrent networks, as well as combinations of the two.\n",
        "* Runs seamlessly on CPU and GPU.\n",
        "\n",
        "Thus, we will use Keras here for the Capstone project."
      ]
    },
    {
      "cell_type": "code",
      "metadata": {
        "id": "BPuLGRmAci6R",
        "colab_type": "code",
        "colab": {}
      },
      "source": [
        "import os\n",
        "from keras.layers import Dense, Input, Bidirectional, Activation, Conv1D, GRU\n",
        "from keras.callbacks import Callback\n",
        "from keras.layers import Dropout,Embedding,GlobalMaxPooling1D, MaxPooling1D, Add, Flatten\n",
        "from keras.preprocessing import text, sequence\n",
        "from keras.layers import GlobalAveragePooling1D, GlobalMaxPooling1D, concatenate, SpatialDropout1D\n",
        "from keras import initializers, regularizers, constraints, optimizers, layers, callbacks\n",
        "from keras.callbacks import EarlyStopping,ModelCheckpoint\n",
        "from keras.models import Model\n",
        "from keras.optimizers import Adam\n",
        "from sklearn.model_selection import train_test_split\n",
        "from sklearn.metrics import accuracy_score\n",
        "from sklearn.metrics import roc_auc_score"
      ],
      "execution_count": 0,
      "outputs": []
    },
    {
      "cell_type": "code",
      "metadata": {
        "id": "KKpIXpaGc3mM",
        "colab_type": "code",
        "colab": {}
      },
      "source": [
        "EMBEDDING_FILE = '/content/drive/My Drive/toxicity-classification/embedding/crawl-300d-2M.vec'\n",
        "train = pd.read_csv('/content/drive/My Drive/toxicity-classification/data/train.csv')\n",
        "test = pd.read_csv('/content/drive/My Drive/toxicity-classification/data/test.csv')"
      ],
      "execution_count": 0,
      "outputs": []
    },
    {
      "cell_type": "code",
      "metadata": {
        "id": "cywixJC_dTFv",
        "colab_type": "code",
        "colab": {}
      },
      "source": [
        "max_features=100000\n",
        "maxlen=200\n",
        "embed_size=300"
      ],
      "execution_count": 0,
      "outputs": []
    },
    {
      "cell_type": "code",
      "metadata": {
        "id": "STNXTcYcGix_",
        "colab_type": "code",
        "outputId": "526e6ead-9c06-47d6-a239-8093e3ddf061",
        "colab": {
          "base_uri": "https://localhost:8080/",
          "height": 33
        }
      },
      "source": [
        "!ls \"/content/drive/My Drive/toxicity-classification/embedding/\""
      ],
      "execution_count": 112,
      "outputs": [
        {
          "output_type": "stream",
          "text": [
            "crawl-300d-2M.vec  glove.840B.300d.txt\n"
          ],
          "name": "stdout"
        }
      ]
    },
    {
      "cell_type": "code",
      "metadata": {
        "id": "ciNgF8J3BDQg",
        "colab_type": "code",
        "outputId": "2a270f68-f128-4c93-c5f7-f3da49db280b",
        "colab": {
          "base_uri": "https://localhost:8080/",
          "height": 50
        }
      },
      "source": [
        "%%time\n",
        "embeddings_index = {}\n",
        "with open(EMBEDDING_FILE, encoding='utf8') as f:\n",
        "    for line in f:\n",
        "        values = line.rstrip().rsplit(' ')\n",
        "        word = values[0]\n",
        "        coefs = np.asarray(values[1:], dtype='float32')\n",
        "        embeddings_index[word] = coefs"
      ],
      "execution_count": 113,
      "outputs": [
        {
          "output_type": "stream",
          "text": [
            "CPU times: user 2min 28s, sys: 6.98 s, total: 2min 35s\n",
            "Wall time: 2min 35s\n"
          ],
          "name": "stdout"
        }
      ]
    },
    {
      "cell_type": "markdown",
      "metadata": {
        "id": "sVxMPO9qEDWi",
        "colab_type": "text"
      },
      "source": [
        "Here, we make a vocabulary from our training data. The intention is to check the coverage."
      ]
    },
    {
      "cell_type": "code",
      "metadata": {
        "id": "RS22-AWnBGYa",
        "colab_type": "code",
        "colab": {}
      },
      "source": [
        "from tqdm.notebook import tqdm\n",
        "tqdm.pandas()\n",
        "\n",
        "def build_vocab(sentences, verbose =  True):\n",
        "    \"\"\"\n",
        "    :param sentences: list of list of words\n",
        "    :return: dictionary of words and their count\n",
        "    \"\"\"\n",
        "    vocab = {}\n",
        "    for sentence in tqdm(sentences, disable = (not verbose)):\n",
        "        for word in sentence:\n",
        "            try:\n",
        "                vocab[word] += 1\n",
        "            except KeyError:\n",
        "                vocab[word] = 1\n",
        "    return vocab"
      ],
      "execution_count": 0,
      "outputs": []
    },
    {
      "cell_type": "code",
      "metadata": {
        "id": "wJsUUEHABLMR",
        "colab_type": "code",
        "outputId": "d22f1fa3-3f9a-4bcd-f891-2c3e145f629a",
        "colab": {
          "base_uri": "https://localhost:8080/",
          "height": 130,
          "referenced_widgets": [
            "c1fb722b5e3d43b0960d2a7860bd3917",
            "db4a701e4aa64901a5f9ab0d412be721",
            "f42b6f2cacfa4eab9f46e8bd9b549f9c",
            "4aa37b5b915442ac9b70cf9cbe1baa51",
            "255e4f30734d473a96d69a3d39a7bf5f",
            "6f2ea1428b4949cabea0261613525a9d",
            "c31faf37926e4cacbb056cd346426f3d",
            "6ea1610f41e840f2a65ff5874f465c6a",
            "a62aa5836ae6461eb1ee8d18d03bd369",
            "50f5ac5dd18343afbbdc2929b18198a3",
            "26777319537343a0bf7b36f6c2259620",
            "a671279312364ce69484e5114a47dede",
            "218e5a448b434c808679c047f0676e46",
            "84137ab9eb6d4a85a863205dc3676091",
            "efe2cc1306844da5b89e6807a2629cc5",
            "89cee66237f74f3e84f84cd0584c0dc1"
          ]
        }
      },
      "source": [
        "sentences = train[\"comment_text\"].progress_apply(lambda x: x.split()).values\n",
        "vocab = build_vocab(sentences)\n",
        "print({k: vocab[k] for k in list(vocab)[:5]})"
      ],
      "execution_count": 120,
      "outputs": [
        {
          "output_type": "display_data",
          "data": {
            "application/vnd.jupyter.widget-view+json": {
              "model_id": "c1fb722b5e3d43b0960d2a7860bd3917",
              "version_minor": 0,
              "version_major": 2
            },
            "text/plain": [
              "HBox(children=(IntProgress(value=0, max=159571), HTML(value='')))"
            ]
          },
          "metadata": {
            "tags": []
          }
        },
        {
          "output_type": "stream",
          "text": [
            "\n"
          ],
          "name": "stdout"
        },
        {
          "output_type": "display_data",
          "data": {
            "application/vnd.jupyter.widget-view+json": {
              "model_id": "a62aa5836ae6461eb1ee8d18d03bd369",
              "version_minor": 0,
              "version_major": 2
            },
            "text/plain": [
              "HBox(children=(IntProgress(value=0, max=159571), HTML(value='')))"
            ]
          },
          "metadata": {
            "tags": []
          }
        },
        {
          "output_type": "stream",
          "text": [
            "\n",
            "{'Explanation': 23, 'Why': 4305, 'the': 445987, 'edits': 6809, 'made': 8738}\n"
          ],
          "name": "stdout"
        }
      ]
    },
    {
      "cell_type": "markdown",
      "metadata": {
        "id": "MwWkpWiDEmeW",
        "colab_type": "text"
      },
      "source": [
        "Next, define a function that checks the intersection between our vocabulary and the embeddings. It will output a list of out of vocabulary (oov) words that we can use to improve our preprocessing"
      ]
    },
    {
      "cell_type": "code",
      "metadata": {
        "id": "fkmAtr1ABSRe",
        "colab_type": "code",
        "colab": {}
      },
      "source": [
        "import operator \n",
        "\n",
        "def check_coverage(vocab,embeddings_index):\n",
        "    a = {}\n",
        "    oov = {}\n",
        "    k = 0\n",
        "    i = 0\n",
        "    for word in tqdm(vocab):\n",
        "        try:\n",
        "            a[word] = embeddings_index[word]\n",
        "            k += vocab[word]\n",
        "        except:\n",
        "\n",
        "            oov[word] = vocab[word]\n",
        "            i += vocab[word]\n",
        "            pass\n",
        "\n",
        "    print('Found embeddings for {:.2%} of vocab'.format(len(a) / len(vocab)))\n",
        "    print('Found embeddings for  {:.2%} of all text'.format(k / (k + i)))\n",
        "    sorted_x = sorted(oov.items(), key=operator.itemgetter(1))[::-1]\n",
        "\n",
        "    return sorted_x"
      ],
      "execution_count": 0,
      "outputs": []
    },
    {
      "cell_type": "code",
      "metadata": {
        "id": "wxsyxOlwBYc7",
        "colab_type": "code",
        "outputId": "0bb7e4cd-6c21-420e-f453-0f1dd864b049",
        "colab": {
          "base_uri": "https://localhost:8080/",
          "height": 97,
          "referenced_widgets": [
            "f4642f2361fb41aaa93cc7d0541ddccb",
            "5b94ad0823d44c13b0344eaf07493cc5",
            "8d1f51b4e29445749c0a73725d19b203",
            "bbd9f48434714a54b124e316d3b651f3",
            "8e546d24e73249d39bb29c4afbd57477",
            "645d001389c3435c9cb700da213491ff",
            "be50ced7b3bc4503ad34418a8976c52e",
            "fbb4099b3c94476bb65519e07df3d9a3"
          ]
        }
      },
      "source": [
        "oov = check_coverage(vocab,embeddings_index)"
      ],
      "execution_count": 122,
      "outputs": [
        {
          "output_type": "display_data",
          "data": {
            "application/vnd.jupyter.widget-view+json": {
              "model_id": "f4642f2361fb41aaa93cc7d0541ddccb",
              "version_minor": 0,
              "version_major": 2
            },
            "text/plain": [
              "HBox(children=(IntProgress(value=0, max=532299), HTML(value='')))"
            ]
          },
          "metadata": {
            "tags": []
          }
        },
        {
          "output_type": "stream",
          "text": [
            "\n",
            "Found embeddings for 29.68% of vocab\n",
            "Found embeddings for  89.36% of all text\n"
          ],
          "name": "stdout"
        }
      ]
    },
    {
      "cell_type": "markdown",
      "metadata": {
        "id": "3Gs9ID8uE0eF",
        "colab_type": "text"
      },
      "source": [
        "Only 30% of our vocabulary will have embeddings, making 11% of our data more or less useless. So lets have a look and start improving. For this we can easily have a look at the top oov words."
      ]
    },
    {
      "cell_type": "code",
      "metadata": {
        "id": "omBFezuPB02D",
        "colab_type": "code",
        "outputId": "b0ac8d85-884f-49ac-a225-646e3ad901ab",
        "colab": {
          "base_uri": "https://localhost:8080/",
          "height": 180
        }
      },
      "source": [
        "oov[:10]"
      ],
      "execution_count": 123,
      "outputs": [
        {
          "output_type": "execute_result",
          "data": {
            "text/plain": [
              "[('(UTC)', 5778),\n",
              " ('article,', 5556),\n",
              " ('page,', 5257),\n",
              " ('(talk)', 3217),\n",
              " ('Also,', 3061),\n",
              " ('Wikipedia,', 2607),\n",
              " (\"Wikipedia's\", 2464),\n",
              " ('so,', 1948),\n",
              " (\"wasn't\", 1914),\n",
              " (\"You're\", 1883)]"
            ]
          },
          "metadata": {
            "tags": []
          },
          "execution_count": 123
        }
      ]
    },
    {
      "cell_type": "markdown",
      "metadata": {
        "id": "WD0yvbagE_3v",
        "colab_type": "text"
      },
      "source": [
        "Well, we can see it's special characters which is messing up the coverage so, we need step-by-step preprocessing to increase the word coverage."
      ]
    },
    {
      "cell_type": "code",
      "metadata": {
        "id": "rRIKZixvhW1W",
        "colab_type": "code",
        "outputId": "18fb4546-564e-448c-c077-03d13d48aaa4",
        "colab": {
          "base_uri": "https://localhost:8080/",
          "height": 66
        }
      },
      "source": [
        "import nltk\n",
        "nltk.download('wordnet')"
      ],
      "execution_count": 124,
      "outputs": [
        {
          "output_type": "stream",
          "text": [
            "[nltk_data] Downloading package wordnet to /root/nltk_data...\n",
            "[nltk_data]   Package wordnet is already up-to-date!\n"
          ],
          "name": "stdout"
        },
        {
          "output_type": "execute_result",
          "data": {
            "text/plain": [
              "True"
            ]
          },
          "metadata": {
            "tags": []
          },
          "execution_count": 124
        }
      ]
    },
    {
      "cell_type": "code",
      "metadata": {
        "id": "BqJUyD3Wtfer",
        "colab_type": "code",
        "outputId": "962153f9-9ccf-47e9-8842-f304770ef370",
        "colab": {
          "base_uri": "https://localhost:8080/",
          "height": 86
        }
      },
      "source": [
        "nltk.download('stopwords')\n",
        "from nltk.corpus import stopwords\n",
        "\", \".join(stopwords.words('english'))"
      ],
      "execution_count": 125,
      "outputs": [
        {
          "output_type": "stream",
          "text": [
            "[nltk_data] Downloading package stopwords to /root/nltk_data...\n",
            "[nltk_data]   Package stopwords is already up-to-date!\n"
          ],
          "name": "stdout"
        },
        {
          "output_type": "execute_result",
          "data": {
            "text/plain": [
              "\"i, me, my, myself, we, our, ours, ourselves, you, you're, you've, you'll, you'd, your, yours, yourself, yourselves, he, him, his, himself, she, she's, her, hers, herself, it, it's, its, itself, they, them, their, theirs, themselves, what, which, who, whom, this, that, that'll, these, those, am, is, are, was, were, be, been, being, have, has, had, having, do, does, did, doing, a, an, the, and, but, if, or, because, as, until, while, of, at, by, for, with, about, against, between, into, through, during, before, after, above, below, to, from, up, down, in, out, on, off, over, under, again, further, then, once, here, there, when, where, why, how, all, any, both, each, few, more, most, other, some, such, no, nor, not, only, own, same, so, than, too, very, s, t, can, will, just, don, don't, should, should've, now, d, ll, m, o, re, ve, y, ain, aren, aren't, couldn, couldn't, didn, didn't, doesn, doesn't, hadn, hadn't, hasn, hasn't, haven, haven't, isn, isn't, ma, mightn, mightn't, mustn, mustn't, needn, needn't, shan, shan't, shouldn, shouldn't, wasn, wasn't, weren, weren't, won, won't, wouldn, wouldn't\""
            ]
          },
          "metadata": {
            "tags": []
          },
          "execution_count": 125
        }
      ]
    },
    {
      "cell_type": "code",
      "metadata": {
        "id": "0aGLJy90nOOH",
        "colab_type": "code",
        "colab": {
          "base_uri": "https://localhost:8080/",
          "height": 33
        },
        "outputId": "63f5330c-275b-4700-a220-6c1643041125"
      },
      "source": [
        "!pip install unidecode"
      ],
      "execution_count": 128,
      "outputs": [
        {
          "output_type": "stream",
          "text": [
            "Requirement already satisfied: unidecode in /usr/local/lib/python3.6/dist-packages (1.1.1)\n"
          ],
          "name": "stdout"
        }
      ]
    },
    {
      "cell_type": "markdown",
      "metadata": {
        "id": "T0zYv70EFQer",
        "colab_type": "text"
      },
      "source": [
        "### **Text Preprocessing for Natural Language Processing**\n",
        "\n",
        "In this section, we will perform text processing on the \"comment_text\" which is quentessential for any natural language processing task.\n",
        "\n",
        "The pre-processing tasks performed are:\n",
        "* Conversion of text to **Lower Case**\n",
        "* Cleaning of **special characters**\n",
        "* Masking of **long numbers**\n",
        "* Replacement of **wrongly-spelt words**\n",
        "* Removal of **emojis**\n",
        "\n",
        "\n",
        "\n",
        "\n",
        "> *In Natural Language Processing tasks while using pre-trained word embeddings it's **not necessary** to perform **stopword removal** or **stemming** or **lemmatizing**.So here, we will not perform any of them.* \n",
        "\n",
        ">*In computing, **stopwords** are words which are filtered out before or after processing of natural language data (text).Though \"stop words\" usually refers to the most common words in a language, there is no single universal list of stop words used by all natural language processing tools, and indeed not all tools even use such a list. Some tools specifically avoid removing these stop words to support phrase search.*\n",
        "\n",
        "\n",
        "\n",
        "> *In linguistic morphology and information retrieval, **stemming** is the process of reducing inflected (or sometimes derived) words to their word stem, base or root form—generally a written word form. The stem need not be identical to the morphological root of the word; it is usually sufficient that related words map to the same stem, even if this stem is not in itself a valid root.*\n",
        "\n"
      ]
    },
    {
      "cell_type": "code",
      "metadata": {
        "id": "drmG0Iuddpje",
        "colab_type": "code",
        "colab": {}
      },
      "source": [
        "# clean data\n",
        "import re\n",
        "import gc\n",
        "import nltk\n",
        "from nltk import word_tokenize\n",
        "from unidecode import unidecode\n",
        "\n",
        "special_character_removal = re.compile(r'[^A-Za-z\\.\\-\\?\\!\\,\\#\\@\\% ]',re.IGNORECASE)\n",
        "def clean_text(x):\n",
        "    x_ascii = unidecode(x)\n",
        "    x_clean = special_character_removal.sub(' ',x_ascii)\n",
        "    return x_clean\n",
        "\n",
        "replace_numbers=re.compile(r'\\d+',re.IGNORECASE)\n",
        "def clean_numbers(x):\n",
        "      return replace_numbers.sub(' ',x)\n",
        "\n",
        "def clean_tags(text):\n",
        "    text = re.sub(r\"https?:\\/\\/(www\\.)?[-a-zA-Z0-9@:%._\\+~#=]{2,256}\\.[a-z]{2,6}\\b([-a-zA-Z0-9@:%_\\+.~#?&//=]*)\", \"\", text)\n",
        "    text = re.sub(r\"(25[0-5]|2[0-4][0-9]|[01]?[0-9][0-9]?)(\\.(25[0-5]|2[0-4][0-9]|[01]?[0-9][0-9]?)){3}\", \"\", text)\n",
        "    return text\n",
        "\n",
        "mispell_dict = {\"ain't\": \"is not\", \"aren't\": \"are not\",\"can't\": \"cannot\", \"'cause\": \"because\", \"could've\": \"could have\", \"couldn't\": \"could not\", \"didn't\": \"did not\",  \"doesn't\": \"does not\", \"don't\": \"do not\", \"hadn't\": \"had not\", \"hasn't\": \"has not\", \"haven't\": \"have not\", \"he'd\": \"he would\",\"he'll\": \"he will\", \"he's\": \"he is\", \"how'd\": \"how did\", \"how'd'y\": \"how do you\", \"how'll\": \"how will\", \"how's\": \"how is\",  \"I'd\": \"I would\", \"I'd've\": \"I would have\", \"I'll\": \"I will\", \"I'll've\": \"I will have\",\"I'm\": \"I am\", \"I've\": \"I have\", \"i'd\": \"i would\", \"i'd've\": \"i would have\", \"i'll\": \"i will\",  \"i'll've\": \"i will have\",\"i'm\": \"i am\", \"i've\": \"i have\", \"isn't\": \"is not\", \"it'd\": \"it would\", \"it'd've\": \"it would have\", \"it'll\": \"it will\", \"it'll've\": \"it will have\",\"it's\": \"it is\", \"let's\": \"let us\", \"ma'am\": \"madam\", \"mayn't\": \"may not\", \"might've\": \"might have\",\"mightn't\": \"might not\",\"mightn't've\": \"might not have\", \"must've\": \"must have\", \"mustn't\": \"must not\", \"mustn't've\": \"must not have\", \"needn't\": \"need not\", \"needn't've\": \"need not have\",\"o'clock\": \"of the clock\", \"oughtn't\": \"ought not\", \"oughtn't've\": \"ought not have\", \"shan't\": \"shall not\", \"sha'n't\": \"shall not\", \"shan't've\": \"shall not have\", \"she'd\": \"she would\", \"she'd've\": \"she would have\", \"she'll\": \"she will\", \"she'll've\": \"she will have\", \"she's\": \"she is\", \"should've\": \"should have\", \"shouldn't\": \"should not\", \"shouldn't've\": \"should not have\", \"so've\": \"so have\",\"so's\": \"so as\", \"this's\": \"this is\",\"that'd\": \"that would\", \"that'd've\": \"that would have\", \"that's\": \"that is\", \"there'd\": \"there would\", \"there'd've\": \"there would have\", \"there's\": \"there is\", \"here's\": \"here is\",\"they'd\": \"they would\", \"they'd've\": \"they would have\", \"they'll\": \"they will\", \"they'll've\": \"they will have\", \"they're\": \"they are\", \"they've\": \"they have\", \"to've\": \"to have\", \"wasn't\": \"was not\", \"we'd\": \"we would\", \"we'd've\": \"we would have\", \"we'll\": \"we will\", \"we'll've\": \"we will have\", \"we're\": \"we are\", \"we've\": \"we have\", \"weren't\": \"were not\", \"what'll\": \"what will\", \"what'll've\": \"what will have\", \"what're\": \"what are\",  \"what's\": \"what is\", \"what've\": \"what have\", \"when's\": \"when is\", \"when've\": \"when have\", \"where'd\": \"where did\", \"where's\": \"where is\", \"where've\": \"where have\", \"who'll\": \"who will\", \"who'll've\": \"who will have\", \"who's\": \"who is\", \"who've\": \"who have\", \"why's\": \"why is\", \"why've\": \"why have\", \"will've\": \"will have\", \"won't\": \"will not\", \"won't've\": \"will not have\", \"would've\": \"would have\", \"wouldn't\": \"would not\", \"wouldn't've\": \"would not have\", \"y'all\": \"you all\", \"y'all'd\": \"you all would\",\"y'all'd've\": \"you all would have\",\"y'all're\": \"you all are\",\"y'all've\": \"you all have\",\"you'd\": \"you would\", \"you'd've\": \"you would have\", \"you'll\": \"you will\", \"you'll've\": \"you will have\", \"you're\": \"you are\", \"you've\": \"you have\", 'colour': 'color', 'centre': 'center', 'favourite': 'favorite', 'travelling': 'traveling', 'counselling': 'counseling', 'theatre': 'theater', 'cancelled': 'canceled', 'labour': 'labor', 'organisation': 'organization', 'wwii': 'world war 2', 'citicise': 'criticize', 'youtu ': 'youtube ', 'Qoura': 'Quora', 'sallary': 'salary', 'Whta': 'What', 'narcisist': 'narcissist', 'howdo': 'how do', 'whatare': 'what are', 'howcan': 'how can', 'howmuch': 'how much', 'howmany': 'how many', 'whydo': 'why do', 'doI': 'do I', 'theBest': 'the best', 'howdoes': 'how does', 'mastrubation': 'masturbation', 'mastrubate': 'masturbate', \"mastrubating\": 'masturbating', 'pennis': 'penis', 'Etherium': 'Ethereum', 'narcissit': 'narcissist', 'bigdata': 'big data', '2k17': '2017', '2k18': '2018', 'qouta': 'quota', 'exboyfriend': 'ex boyfriend', 'airhostess': 'air hostess', \"whst\": 'what', 'watsapp': 'whatsapp', 'demonitisation': 'demonetization', 'demonitization': 'demonetization', 'demonetisation': 'demonetization'}\n",
        "\n",
        "def _get_mispell(mispell_dict):\n",
        "    mispell_re = re.compile('(%s)' % '|'.join(mispell_dict.keys()))\n",
        "    return mispell_dict, mispell_re\n",
        "\n",
        "mispellings, mispellings_re = _get_mispell(mispell_dict)\n",
        "def replace_typical_misspell(text):\n",
        "    def replace(match):\n",
        "        return mispellings[match.group(0)]\n",
        "    return mispellings_re.sub(replace, text)\n",
        "\n",
        "def remove_emoji(x):\n",
        "    emoji_pattern = re.compile(\"[\"\n",
        "                           u\"\\U0001F600-\\U0001F64F\"  # emoticons\n",
        "                           u\"\\U0001F300-\\U0001F5FF\"  # symbols & pictographs\n",
        "                           u\"\\U0001F680-\\U0001F6FF\"  # transport & map symbols\n",
        "                           u\"\\U0001F1E0-\\U0001F1FF\"  # flags (iOS)\n",
        "                           u\"\\U00002702-\\U000027B0\"\n",
        "                           u\"\\U000024C2-\\U0001F251\"\n",
        "                           \"]+\", flags=re.UNICODE)\n",
        "    return emoji_pattern.sub(r'', x)\n",
        "\n",
        "def clean_punctuations(text):\n",
        "    text = re.sub(r\",\", \" \", text)\n",
        "    text = re.sub(r\"\\.\", \" \", text)\n",
        "    text = re.sub(r\"!\", \" ! \", text)\n",
        "    text = re.sub(r\"\\/\", \" \", text)\n",
        "    text = re.sub(r\"\\?\", \" ? \", text)\n",
        "    text = re.sub(r\"\\!\", \" ! \", text)\n",
        "    text = re.sub(r\"\\\"\", \" \", text)\n",
        "    text = re.sub(r\"\\^\", \" ^ \", text)\n",
        "    text = re.sub(r\"\\+\", \" + \", text)\n",
        "    text = re.sub(r\"\\-\", \" - \", text)\n",
        "    text = re.sub(r\"\\=\", \" = \", text)\n",
        "    text = re.sub(r\"'\", \" \", text)\n",
        "    text = re.sub(r\"\\--\", \" - \", text)\n",
        "    text = re.sub(r\"(\\d+)(k)\", r\"\\g<1>000\", text)\n",
        "    text = re.sub(r\":\", \" : \", text)\n",
        "    text = re.sub(r\" e g \", \" eg \", text)\n",
        "    text = re.sub(r\" b g \", \" bg \", text)\n",
        "    text = re.sub(r\" u s \", \" american \", text)\n",
        "    text = re.sub(r\"\\0s\", \"0\", text)\n",
        "    text = re.sub(r\" 9 11 \", \"911\", text)\n",
        "    text = re.sub(r\"e - mail\", \"email\", text)\n",
        "    text = re.sub(r\"j k\", \"jk\", text)\n",
        "    text = re.sub(r\"\\s{2,}\", \" \", text)\n",
        "    return text\n",
        "\n",
        "def clean_html(text):\n",
        "    # Drop the image\n",
        "    text = re.sub(r\"image:[a-zA-Z0-9]*\\.jpg\", \" \", text)\n",
        "    text = re.sub(r\"image:[a-zA-Z0-9]*\\.png\", \" \", text)\n",
        "    text = re.sub(r\"image:[a-zA-Z0-9]*\\.gif\", \" \", text)\n",
        "    text = re.sub(r\"image:[a-zA-Z0-9]*\\.bmp\", \" \", text)\n",
        "\n",
        "    # Drop css\n",
        "    text = re.sub(r\"#([A-Fa-f0-9]{6}|[A-Fa-f0-9]{3})\", \" \",text)\n",
        "    text = re.sub(r\"\\{\\|[^\\}]*\\|\\}\", \" \", text)\n",
        "        \n",
        "    # Clean templates\n",
        "    text = re.sub(r\"\\[?\\[user:.*\\]\", \" \", text)\n",
        "    text = re.sub(r\"\\[?\\[user:.*\\|\", \" \", text)        \n",
        "    text = re.sub(r\"\\[?\\[wikipedia:.*\\]\", \" \", text)\n",
        "    text = re.sub(r\"\\[?\\[wikipedia:.*\\|\", \" \", text)\n",
        "    text = re.sub(r\"\\[?\\[special:.*\\]\", \" \", text)\n",
        "    text = re.sub(r\"\\[?\\[special:.*\\|\", \" \", text)\n",
        "    text = re.sub(r\"\\[?\\[category:.*\\]\", \" \", text)\n",
        "    text = re.sub(r\"\\[?\\[category:.*\\|\", \" \", text)\n",
        "    return text\n",
        "\n",
        "stopwords_list = set(stopwords.words('english'))\n",
        "\n",
        "def remove_stopwords(text):\n",
        "    return \" \".join([word for word in str(text).split() if word not in stopwords_list])\n",
        "\n",
        "def stem_text(text):    \n",
        "    lemma = nltk.wordnet.WordNetLemmatizer()\n",
        "    class FasterStemmer(object):\n",
        "        def __init__(self):\n",
        "            self.words = {}\n",
        "\n",
        "        def stem(self, x):\n",
        "            if x in self.words:\n",
        "                return self.words[x]\n",
        "            t = lemma.lemmatize(x)\n",
        "            self.words[x] = t\n",
        "            return t\n",
        "    faster_stemmer = FasterStemmer()\n",
        "    text = text.split()\n",
        "    stemmed_words = [faster_stemmer.stem(word) for word in text]\n",
        "    text = \" \".join(stemmed_words)\n",
        "    del faster_stemmer\n",
        "    gc.collect\n",
        "    return text"
      ],
      "execution_count": 0,
      "outputs": []
    },
    {
      "cell_type": "markdown",
      "metadata": {
        "id": "MunxIeKBJS1B",
        "colab_type": "text"
      },
      "source": [
        "Here, we apply the functions for text processing."
      ]
    },
    {
      "cell_type": "code",
      "metadata": {
        "id": "IlAa4hSpeIrX",
        "colab_type": "code",
        "outputId": "0f85a0e0-6c91-4756-ed9c-0cb99d25fb3c",
        "colab": {
          "base_uri": "https://localhost:8080/",
          "height": 983,
          "referenced_widgets": [
            "93e39b9494274c7db552f66ef50a72d9",
            "9a4f3f52d79449c0909b6beade10bba7",
            "d72d2ec5766440c7835388a4860aa30a",
            "886223d5488443d3a9a92be00361f202",
            "eca60cc9c076408a883b51bc18d50661",
            "ac3f4695dc43470ea95f731aaa83b356",
            "2a4ef1414e7f4a378b4cac4a0ee59678",
            "9dc003f5dcdb4661b70972f579c86ea5",
            "243ee2bd2fe94ee4a79c747ca1583334",
            "0c19b3eedc2f43aa81d121bd80d3e88a",
            "4d1382616e76468bb872311f295e3056",
            "473c9cd2414749fcaee5eea5efe3ab6b",
            "1bdb253c8e45405abf94750dabe3cf29",
            "23772e97f2d84fd49992c59e29a63933",
            "3058fdf7513b4c5db6dcfc8f4f0c5bc0",
            "eee528b930f54391913e008e0e0db80c",
            "4d30929c530b4f6fa78135a63f44dde8",
            "0beeb28869bc4ba893bbab79a2a9482c",
            "e4daf60c73ca4298a7f5099172c7bfbf",
            "1991cbf67fed4d9a9025cf646fcd5a7f",
            "89d04b536c804bb5bbdfbe4eb859d10f",
            "884ec43d139046c686110fbeaebea43f",
            "c0cebc7ff93445c08534e0e2c4935644",
            "d083a8652e5b49609663074063377cef",
            "5d8ae1c0ebe4440e9ff91e83fc55922b",
            "6441200c351243b688bf9e3d6e1ddb9f",
            "272fa9d40fd54080860f5663a8603ea9",
            "cfe00285018b4b39a15a89547fe3942f",
            "bd5afa3aa97b4d92b42400ec8f820e85",
            "4c96d7ab6178418a9b01f936b0112b4a",
            "948923958bbb4f6aa68e42cdf1be9c0a",
            "7b0dcd2ab12947f190aef6460aaf33bc",
            "ee2acd9cf63e40cbb7566520875cfcb1",
            "af71218b340d47b0abb8eca4d0ee3c19",
            "a78b19f405604fc8a5a8dc6873e3d720",
            "b32e5b3ab4164a8ab32521e7df35355e",
            "0182aea4cb1b40608bcf0ed6c5e4ec9e",
            "b5a5a21d00de41adb5b29f07469c6dac",
            "bdabc7fe964f4c2da51b9304369e5b85",
            "4f95f9c6c96e4027a054f862b4cc5c19",
            "eead1c63b0864cba8da9fe868bcb4a41",
            "4380429bc9954429973f9384a1e8b12b",
            "04ff1636ce5a4f9593a2ac1c58b4ff32",
            "e633905c5c1d41398d8296417e38f362",
            "be1e2a6d3e5c4471bb6069e4d66d7a46",
            "d441557f6c3743779823f4f309dde94f",
            "41f4fc0a8e3048a69a87da314e463184",
            "794a682ab5394566b8d3e5918ecf2278",
            "2a6434dd7e9945b992b02b9315dc6f24",
            "109ce3f8935a4b688baee5953813a457",
            "a91ca5441f73411ba564c6f0c4297a9f",
            "52c216d136594700b4383cfd2a5cb32e",
            "786a25159474458fafd31bf9160eb1d1",
            "75e1152dfc334b308cbd69f857df61b3",
            "bda504961f0f4ffea529f56fb4f83433",
            "4115317b64da4680899e8c20bc25bfaa",
            "c33577859f644020b059cff8f09ccefa",
            "a5fb477c1e6b4d9c89af69fdfc1996e6",
            "ccd6d4f78af9462db16cbfd34038474d",
            "b429a76c2f91463aab082bba1c1eca19",
            "30ba1932a7e348d7a23decfd4d6d64aa",
            "9ee7851a8f524f6f8475854cff0e365a",
            "bba007a5f3e7433a8de37a4689b6705d",
            "3194fb8c4d434ac88dca3c86c0e7397b",
            "6e835e8e39684635855bbf35de8edce8",
            "e4695aa63b7a43cfbc9a213f80384b60",
            "f642c1745619446cb975ecde29c78dad",
            "9e3fd73232c1425ab44b9fe83f5424b1",
            "13896da07cb2414da6cc3f786b78730e",
            "ca988cd5ea764ac4aea4acb45a47dfd9",
            "8f6788d5f1b34fe2b18e3977e1cc3ef0",
            "2f1f8dbe943f4a98800bbd8cb858eeaa",
            "5dd2a2525a32477db34c2579b1ec1f41",
            "07c9ca8284df4b76bc231051a25b01d5",
            "7c06108caede4c60b3851e912ab4c373",
            "b02e89262b444e9e8cac9efb44e8c500",
            "ceebb2fb4d684f7e8c9bb97461e9ccd5",
            "73b28991c4f9433cb9980da899bd4906",
            "294ea381257b41b8a79909ddb67af840",
            "defdd9a0b29b4b3d8542745e26858c57",
            "49b4f2e3717b4defaed51b3bf20e1c33",
            "b966c2f6131c45e489e9e74fe13f35f0",
            "cb2aa1f95d99408b87575e1720aff968",
            "114947979b384f9dba52895904a973a7",
            "2d2c0c6fc24142b89473903e114a2996",
            "10f6a24f8f5e4491b37fe09a32d6c756",
            "c1f3dfc23e5347f6b0573281ba9f3b7a",
            "bdfc281ff5864ca4ba1c03b4fb1a1014",
            "3bf9007f208e47fcad01f986e8f22a21",
            "b87355d2634e4799b5f08002211568aa",
            "db94e01a80f04f3ca3c8b3ad0c4b9565",
            "7445f1281998458fae87bf74b9b87272",
            "f050095149fc4a9da44a1e66871d7d1b",
            "f92af66fa13341bbad78f46ea8afeb4f",
            "1d176e92656844e981b326d2b45d7b99",
            "f0a12db9e28240f59e4a7c477f3b5455",
            "44d729e50eda4f6396fb58503d9570d8",
            "eba69704edca42cc9f3a07a90e37bfbd",
            "750aa0f3c10b449c96824629a89f5a0b",
            "55f48c48fb37497ea74c7d5b0efdd343",
            "347c5e51eba646308dd303940551e304",
            "2046aef2e11946bca16230f7472a0420",
            "b709c2a530d24e60862fc2c2d9ff9534",
            "bf4b744a98f14e3880a3f739366aa6f2",
            "b64bd7d69ae940ab8d8a2aaf114eb00f",
            "62dcb3fb020a4b1ba09f1deb59012154",
            "bd42650408e2437fa06113cf6ce3fa53",
            "47bce22019204467a9f6450ee865a6fa",
            "1bc6ae82249c409bbeaeb08c40f6a79f",
            "ddbf9c7fe9284b008dd4e67172736b49",
            "53fc180388654026a36cb3eae679592c",
            "6a5a02297245439e96b156e4796d7043",
            "326524ea68ad4ead95c032db19b98478",
            "454b1e9c2f094e059923ba9ac17c7d2d",
            "4df7830f3a9d4a49958c7e76e72911b1",
            "a48bfe2b491042a3a8ddb14b32c808f7",
            "7471efbe88914586bc5b01a71e0ee71e",
            "f209ae24323c4e04844f2597179f421a",
            "19018a59d9784b4db364979f4fba7cc4",
            "105d060732eb44a8854d3bc6b48b1ddb",
            "049bcfbb327c478d8eeebec4098be860",
            "a9e46bd4514743869fdb1d942f89eff1",
            "4baf079ea49340e39ba47f6cf28d1de7",
            "6167c76adcd340db8e1a06f16458fa1b",
            "865b511233a54de9a632bb588b11b840",
            "d57e690a24f24a0782a8a4f33c3a58e7",
            "d8621056efca4683b9bc509148dc7f63",
            "70d36df6b5df42729df384a006209ee5"
          ]
        }
      },
      "source": [
        "# lower\n",
        "train[\"comment_text\"] = train[\"comment_text\"].progress_apply(lambda x: x.lower())\n",
        "test[\"comment_text\"] = test[\"comment_text\"].progress_apply(lambda x: x.lower())\n",
        "\n",
        "# Clean website tags\n",
        "train[\"comment_text\"] = train[\"comment_text\"].progress_apply(lambda x: clean_tags(x))\n",
        "test[\"comment_text\"] = test[\"comment_text\"].progress_apply(lambda x: clean_tags(x))\n",
        "\n",
        "# Clean spellings\n",
        "train[\"comment_text\"] = train[\"comment_text\"].progress_apply(lambda x: replace_typical_misspell(x))\n",
        "test[\"comment_text\"] = test[\"comment_text\"].progress_apply(lambda x: replace_typical_misspell(x))\n",
        "\n",
        "# Clean html and css\n",
        "train[\"comment_text\"] = train[\"comment_text\"].progress_apply(lambda x: clean_html(x))\n",
        "test[\"comment_text\"] = test[\"comment_text\"].progress_apply(lambda x: clean_html(x))\n",
        "\n",
        "\n",
        "# Remove Emojis\n",
        "train[\"comment_text\"] = train[\"comment_text\"].progress_apply(lambda x: remove_emoji(x))\n",
        "test[\"comment_text\"] = test[\"comment_text\"].progress_apply(lambda x: remove_emoji(x))\n",
        "\n",
        "# Clean numbers\n",
        "train[\"comment_text\"] = train[\"comment_text\"].progress_apply(lambda x: clean_numbers(x))\n",
        "test[\"comment_text\"] = test[\"comment_text\"].progress_apply(lambda x: clean_numbers(x))\n",
        "\n",
        "# Remove special characters\n",
        "train[\"comment_text\"] = train[\"comment_text\"].progress_apply(lambda x: clean_text(str(x)))\n",
        "test[\"comment_text\"] = test[\"comment_text\"].progress_apply(lambda x: clean_text(str(x)))\n",
        "\n",
        "# Clean punctuations\n",
        "train[\"comment_text\"] = train[\"comment_text\"].progress_apply(lambda x: clean_punctuations(x))\n",
        "test[\"comment_text\"] = test[\"comment_text\"].progress_apply(lambda x: clean_punctuations(x))\n",
        "\n",
        "# Remove stopwords\n",
        "#train[\"comment_text_x\"] = train[\"comment_text\"].progress_apply(lambda text: remove_stopwords(text))\n",
        "#test[\"comment_text_x\"] = test[\"comment_text\"].progress_apply(lambda text: remove_stopwords(text))\n",
        "\n",
        "#Stemmming  \n",
        "#train[\"comment_text\"] = train[\"comment_text\"].progress_apply(lambda x: stem_text(x))\n",
        "#test[\"comment_text\"] = test[\"comment_text\"].progress_apply(lambda x: stem_text(x))\n",
        "\n",
        "#fill na\n",
        "train[\"comment_text\"].fillna(\"fillna\")\n",
        "test[\"comment_text\"].fillna(\"fillna\")\n"
      ],
      "execution_count": 193,
      "outputs": [
        {
          "output_type": "display_data",
          "data": {
            "application/vnd.jupyter.widget-view+json": {
              "model_id": "93e39b9494274c7db552f66ef50a72d9",
              "version_minor": 0,
              "version_major": 2
            },
            "text/plain": [
              "HBox(children=(IntProgress(value=0, max=159571), HTML(value='')))"
            ]
          },
          "metadata": {
            "tags": []
          }
        },
        {
          "output_type": "stream",
          "text": [
            "\n"
          ],
          "name": "stdout"
        },
        {
          "output_type": "display_data",
          "data": {
            "application/vnd.jupyter.widget-view+json": {
              "model_id": "243ee2bd2fe94ee4a79c747ca1583334",
              "version_minor": 0,
              "version_major": 2
            },
            "text/plain": [
              "HBox(children=(IntProgress(value=0, max=153164), HTML(value='')))"
            ]
          },
          "metadata": {
            "tags": []
          }
        },
        {
          "output_type": "stream",
          "text": [
            "\n"
          ],
          "name": "stdout"
        },
        {
          "output_type": "display_data",
          "data": {
            "application/vnd.jupyter.widget-view+json": {
              "model_id": "4d30929c530b4f6fa78135a63f44dde8",
              "version_minor": 0,
              "version_major": 2
            },
            "text/plain": [
              "HBox(children=(IntProgress(value=0, max=159571), HTML(value='')))"
            ]
          },
          "metadata": {
            "tags": []
          }
        },
        {
          "output_type": "stream",
          "text": [
            "\n"
          ],
          "name": "stdout"
        },
        {
          "output_type": "display_data",
          "data": {
            "application/vnd.jupyter.widget-view+json": {
              "model_id": "5d8ae1c0ebe4440e9ff91e83fc55922b",
              "version_minor": 0,
              "version_major": 2
            },
            "text/plain": [
              "HBox(children=(IntProgress(value=0, max=153164), HTML(value='')))"
            ]
          },
          "metadata": {
            "tags": []
          }
        },
        {
          "output_type": "stream",
          "text": [
            "\n"
          ],
          "name": "stdout"
        },
        {
          "output_type": "display_data",
          "data": {
            "application/vnd.jupyter.widget-view+json": {
              "model_id": "ee2acd9cf63e40cbb7566520875cfcb1",
              "version_minor": 0,
              "version_major": 2
            },
            "text/plain": [
              "HBox(children=(IntProgress(value=0, max=159571), HTML(value='')))"
            ]
          },
          "metadata": {
            "tags": []
          }
        },
        {
          "output_type": "stream",
          "text": [
            "\n"
          ],
          "name": "stdout"
        },
        {
          "output_type": "display_data",
          "data": {
            "application/vnd.jupyter.widget-view+json": {
              "model_id": "eead1c63b0864cba8da9fe868bcb4a41",
              "version_minor": 0,
              "version_major": 2
            },
            "text/plain": [
              "HBox(children=(IntProgress(value=0, max=153164), HTML(value='')))"
            ]
          },
          "metadata": {
            "tags": []
          }
        },
        {
          "output_type": "stream",
          "text": [
            "\n"
          ],
          "name": "stdout"
        },
        {
          "output_type": "display_data",
          "data": {
            "application/vnd.jupyter.widget-view+json": {
              "model_id": "2a6434dd7e9945b992b02b9315dc6f24",
              "version_minor": 0,
              "version_major": 2
            },
            "text/plain": [
              "HBox(children=(IntProgress(value=0, max=159571), HTML(value='')))"
            ]
          },
          "metadata": {
            "tags": []
          }
        },
        {
          "output_type": "stream",
          "text": [
            "\n"
          ],
          "name": "stdout"
        },
        {
          "output_type": "display_data",
          "data": {
            "application/vnd.jupyter.widget-view+json": {
              "model_id": "c33577859f644020b059cff8f09ccefa",
              "version_minor": 0,
              "version_major": 2
            },
            "text/plain": [
              "HBox(children=(IntProgress(value=0, max=153164), HTML(value='')))"
            ]
          },
          "metadata": {
            "tags": []
          }
        },
        {
          "output_type": "stream",
          "text": [
            "\n"
          ],
          "name": "stdout"
        },
        {
          "output_type": "display_data",
          "data": {
            "application/vnd.jupyter.widget-view+json": {
              "model_id": "6e835e8e39684635855bbf35de8edce8",
              "version_minor": 0,
              "version_major": 2
            },
            "text/plain": [
              "HBox(children=(IntProgress(value=0, max=159571), HTML(value='')))"
            ]
          },
          "metadata": {
            "tags": []
          }
        },
        {
          "output_type": "stream",
          "text": [
            "\n"
          ],
          "name": "stdout"
        },
        {
          "output_type": "display_data",
          "data": {
            "application/vnd.jupyter.widget-view+json": {
              "model_id": "5dd2a2525a32477db34c2579b1ec1f41",
              "version_minor": 0,
              "version_major": 2
            },
            "text/plain": [
              "HBox(children=(IntProgress(value=0, max=153164), HTML(value='')))"
            ]
          },
          "metadata": {
            "tags": []
          }
        },
        {
          "output_type": "stream",
          "text": [
            "\n"
          ],
          "name": "stdout"
        },
        {
          "output_type": "display_data",
          "data": {
            "application/vnd.jupyter.widget-view+json": {
              "model_id": "49b4f2e3717b4defaed51b3bf20e1c33",
              "version_minor": 0,
              "version_major": 2
            },
            "text/plain": [
              "HBox(children=(IntProgress(value=0, max=159571), HTML(value='')))"
            ]
          },
          "metadata": {
            "tags": []
          }
        },
        {
          "output_type": "stream",
          "text": [
            "\n"
          ],
          "name": "stdout"
        },
        {
          "output_type": "display_data",
          "data": {
            "application/vnd.jupyter.widget-view+json": {
              "model_id": "3bf9007f208e47fcad01f986e8f22a21",
              "version_minor": 0,
              "version_major": 2
            },
            "text/plain": [
              "HBox(children=(IntProgress(value=0, max=153164), HTML(value='')))"
            ]
          },
          "metadata": {
            "tags": []
          }
        },
        {
          "output_type": "stream",
          "text": [
            "\n"
          ],
          "name": "stdout"
        },
        {
          "output_type": "display_data",
          "data": {
            "application/vnd.jupyter.widget-view+json": {
              "model_id": "44d729e50eda4f6396fb58503d9570d8",
              "version_minor": 0,
              "version_major": 2
            },
            "text/plain": [
              "HBox(children=(IntProgress(value=0, max=159571), HTML(value='')))"
            ]
          },
          "metadata": {
            "tags": []
          }
        },
        {
          "output_type": "stream",
          "text": [
            "\n"
          ],
          "name": "stdout"
        },
        {
          "output_type": "display_data",
          "data": {
            "application/vnd.jupyter.widget-view+json": {
              "model_id": "b64bd7d69ae940ab8d8a2aaf114eb00f",
              "version_minor": 0,
              "version_major": 2
            },
            "text/plain": [
              "HBox(children=(IntProgress(value=0, max=153164), HTML(value='')))"
            ]
          },
          "metadata": {
            "tags": []
          }
        },
        {
          "output_type": "stream",
          "text": [
            "\n"
          ],
          "name": "stdout"
        },
        {
          "output_type": "display_data",
          "data": {
            "application/vnd.jupyter.widget-view+json": {
              "model_id": "326524ea68ad4ead95c032db19b98478",
              "version_minor": 0,
              "version_major": 2
            },
            "text/plain": [
              "HBox(children=(IntProgress(value=0, max=159571), HTML(value='')))"
            ]
          },
          "metadata": {
            "tags": []
          }
        },
        {
          "output_type": "stream",
          "text": [
            "\n"
          ],
          "name": "stdout"
        },
        {
          "output_type": "display_data",
          "data": {
            "application/vnd.jupyter.widget-view+json": {
              "model_id": "049bcfbb327c478d8eeebec4098be860",
              "version_minor": 0,
              "version_major": 2
            },
            "text/plain": [
              "HBox(children=(IntProgress(value=0, max=153164), HTML(value='')))"
            ]
          },
          "metadata": {
            "tags": []
          }
        },
        {
          "output_type": "stream",
          "text": [
            "\n"
          ],
          "name": "stdout"
        },
        {
          "output_type": "execute_result",
          "data": {
            "text/plain": [
              "0         yo bitch ja rule is more succesful then you wi...\n",
              "1                  from rfc the title is fine as it is imo \n",
              "2                       sources zawe ashton on lapland - - \n",
              "3          if you have a look back at the source the inf...\n",
              "4                i do not anonymously edit articles at all \n",
              "                                ...                        \n",
              "153159     i totally agree this stuff is nothing but too...\n",
              "153160     throw from out field to home plate does it ge...\n",
              "153161     okinotorishima categories i see your changes ...\n",
              "153162     one of the founding nations of the eu - germa...\n",
              "153163     stop already your bullshit is not welcome her...\n",
              "Name: comment_text, Length: 153164, dtype: object"
            ]
          },
          "metadata": {
            "tags": []
          },
          "execution_count": 193
        }
      ]
    },
    {
      "cell_type": "markdown",
      "metadata": {
        "id": "hdDIclOTJaAO",
        "colab_type": "text"
      },
      "source": [
        "From, the above example we can see the text is now cleaned. Now we will test for coverage."
      ]
    },
    {
      "cell_type": "code",
      "metadata": {
        "id": "0T11rS0kEre9",
        "colab_type": "code",
        "outputId": "92a361f6-56a3-42a2-a854-81da1f9c5d65",
        "colab": {
          "base_uri": "https://localhost:8080/",
          "height": 113,
          "referenced_widgets": [
            "4e4e91c069bb43fa8d02d8dd178f3f46",
            "c1267153b5f948408eb6648bfebcfb56",
            "ec4ba580213e48a08446a628b6f40497",
            "152a8e85500a4ad5b5191aeef4734b81",
            "1fd6942c1fdc4d749c5e96d33d084fb5",
            "ee5b543ef1ba4010920905acdc63b0c7",
            "47fce9757fdf4f61a3a824ce1167de81",
            "247573a260174200ac7c98799a313535",
            "a816b702c6ad4d7580024a17e14209af",
            "002f3e8cdee8495ea82f0edee16b3e96",
            "887e3bfdacc84a3cb3648144f39e02cc",
            "b985ecfb73fa4211b56ef8deb711b639",
            "fd52de8540224abdbaae64d842a14317",
            "371031f5d862418d97a3625cc287fc35",
            "df84937ebc54421890da96042627e0a5",
            "82b7bb298abf48cea9eab244afbcff7e"
          ]
        }
      },
      "source": [
        "sentences = train[\"comment_text\"].progress_apply(lambda x: x.split())\n",
        "vocab = build_vocab(sentences)"
      ],
      "execution_count": 194,
      "outputs": [
        {
          "output_type": "display_data",
          "data": {
            "application/vnd.jupyter.widget-view+json": {
              "model_id": "4e4e91c069bb43fa8d02d8dd178f3f46",
              "version_minor": 0,
              "version_major": 2
            },
            "text/plain": [
              "HBox(children=(IntProgress(value=0, max=159571), HTML(value='')))"
            ]
          },
          "metadata": {
            "tags": []
          }
        },
        {
          "output_type": "stream",
          "text": [
            "\n"
          ],
          "name": "stdout"
        },
        {
          "output_type": "display_data",
          "data": {
            "application/vnd.jupyter.widget-view+json": {
              "model_id": "a816b702c6ad4d7580024a17e14209af",
              "version_minor": 0,
              "version_major": 2
            },
            "text/plain": [
              "HBox(children=(IntProgress(value=0, max=159571), HTML(value='')))"
            ]
          },
          "metadata": {
            "tags": []
          }
        },
        {
          "output_type": "stream",
          "text": [
            "\n"
          ],
          "name": "stdout"
        }
      ]
    },
    {
      "cell_type": "code",
      "metadata": {
        "id": "_4nyNIruB6yw",
        "colab_type": "code",
        "outputId": "9ce3d733-e3a4-4841-8223-ac0078dd5b40",
        "colab": {
          "base_uri": "https://localhost:8080/",
          "height": 97,
          "referenced_widgets": [
            "4ebaa7f68d1c42babe98bc5883fe28e5",
            "c31f6705f7de437bad5ec0958c12a259",
            "a62d6ce60bc644f68e1aa2b0ee44c34f",
            "4f65c6f597be472d9a998f4c976c5467",
            "63fa6c37fdb64a559575326a037dfef3",
            "bd6c9a1767b24fa987d068714b82b679",
            "e97e9153cf37488ebbf7de147e612922",
            "a421f38049e1431a823c2ebd85a1187e"
          ]
        }
      },
      "source": [
        "oov = check_coverage(vocab,embeddings_index)"
      ],
      "execution_count": 195,
      "outputs": [
        {
          "output_type": "display_data",
          "data": {
            "application/vnd.jupyter.widget-view+json": {
              "model_id": "4ebaa7f68d1c42babe98bc5883fe28e5",
              "version_minor": 0,
              "version_major": 2
            },
            "text/plain": [
              "HBox(children=(IntProgress(value=0, max=167393), HTML(value='')))"
            ]
          },
          "metadata": {
            "tags": []
          }
        },
        {
          "output_type": "stream",
          "text": [
            "\n",
            "Found embeddings for 57.29% of vocab\n",
            "Found embeddings for  98.64% of all text\n"
          ],
          "name": "stdout"
        }
      ]
    },
    {
      "cell_type": "markdown",
      "metadata": {
        "id": "z9qvteDjJj0D",
        "colab_type": "text"
      },
      "source": [
        "Nice! We were able to increase our **embeddings ratio** from 30% to **57%**. The coverage for overall text increased to **99%**."
      ]
    },
    {
      "cell_type": "code",
      "metadata": {
        "id": "rno28Lh-B7px",
        "colab_type": "code",
        "outputId": "97b0a15a-fd5e-478b-a100-0c3ccfd99f71",
        "colab": {
          "base_uri": "https://localhost:8080/",
          "height": 342
        }
      },
      "source": [
        "oov[:20]"
      ],
      "execution_count": 199,
      "outputs": [
        {
          "output_type": "execute_result",
          "data": {
            "text/plain": [
              "[('npov', 1862),\n",
              " ('fucksex', 624),\n",
              " ('yourselfgo', 621),\n",
              " ('mothjer', 489),\n",
              " ('fggt', 477),\n",
              " ('gfdl', 457),\n",
              " ('philippineslong', 420),\n",
              " ('hanibal', 370),\n",
              " ('offfuck', 360),\n",
              " ('deneid', 331),\n",
              " ('pagedelete', 312),\n",
              " ('notrhbysouthbanof', 308),\n",
              " ('mainpagebg', 301),\n",
              " ('criminalwar', 279),\n",
              " ('bunksteve', 278),\n",
              " ('marcolfuck', 260),\n",
              " ('boymamas', 258),\n",
              " ('securityfuck', 227),\n",
              " ('youbollocks', 217),\n",
              " ('veggietales', 213)]"
            ]
          },
          "metadata": {
            "tags": []
          },
          "execution_count": 199
        }
      ]
    },
    {
      "cell_type": "markdown",
      "metadata": {
        "id": "qmylTZ22Kv63",
        "colab_type": "text"
      },
      "source": [
        "What we see most of our out of vocabulary words are either swear words or wrongly spelt words. While our comment_text are now cleaner for training."
      ]
    },
    {
      "cell_type": "code",
      "metadata": {
        "id": "yaToMGuFg3N9",
        "colab_type": "code",
        "outputId": "ddfdc525-702b-49b4-c101-d0229c7f7b3b",
        "colab": {
          "base_uri": "https://localhost:8080/",
          "height": 196
        }
      },
      "source": [
        "train[\"comment_text\"].head(10)"
      ],
      "execution_count": 198,
      "outputs": [
        {
          "output_type": "execute_result",
          "data": {
            "text/plain": [
              "0    explanation why the edits made under my userna...\n",
              "1    d aww ! he matches this background color i am ...\n",
              "2    hey man i am really not trying to edit war it ...\n",
              "3     more i cannot make any real suggestions on im...\n",
              "4    you sir are my hero any chance you remember wh...\n",
              "5     congratulations from me as well use the tools...\n",
              "6         cocksucker before you piss around on my work\n",
              "7    your vandalism to the matt shirvington article...\n",
              "8    sorry if the word nonsense was offensive to yo...\n",
              "9    alignment on this subject and which are contra...\n",
              "Name: comment_text, dtype: object"
            ]
          },
          "metadata": {
            "tags": []
          },
          "execution_count": 198
        }
      ]
    },
    {
      "cell_type": "markdown",
      "metadata": {
        "id": "-i7Ancvvco7a",
        "colab_type": "text"
      },
      "source": [
        "Creating **X_train**, **y_train** and **X_test**."
      ]
    },
    {
      "cell_type": "code",
      "metadata": {
        "id": "iCbQr3DAjt_l",
        "colab_type": "code",
        "colab": {}
      },
      "source": [
        "X_train = train[\"comment_text\"]\n",
        "y_train = train[[\"toxic\", \"severe_toxic\", \"obscene\", \"threat\", \"insult\", \"identity_hate\"]].values\n",
        "\n",
        "X_test = test[\"comment_text\"]"
      ],
      "execution_count": 0,
      "outputs": []
    },
    {
      "cell_type": "markdown",
      "metadata": {
        "id": "nvQ6OAKPdBMy",
        "colab_type": "text"
      },
      "source": [
        "The following evaluation is based on Kaggle's [evaluation](https://https://www.kaggle.com/c/jigsaw-toxic-comment-classification-challenge/overview/evaluation) criteria. The evaluation function is utilised while training different neural networks to select the best fit model.\n",
        "\n",
        "You can read more about ROC Curve in this [paper](https://www.biostat.wisc.edu/~page/rocpr.pdf).\n"
      ]
    },
    {
      "cell_type": "code",
      "metadata": {
        "id": "_ziBEIWfsGGp",
        "colab_type": "code",
        "colab": {}
      },
      "source": [
        "# Evaluation function based on Kaggle competition metric for optimization\n",
        "class RocAucEvaluation(Callback):\n",
        "    def __init__(self, validation_data=(), interval=1):\n",
        "        super(Callback, self).__init__()\n",
        "        self.interval = interval\n",
        "        self.X_val, self.y_val = validation_data\n",
        "\n",
        "    def on_epoch_end(self, epoch, logs={}):\n",
        "        if epoch % self.interval == 0:\n",
        "            y_pred = self.model.predict(self.X_val, verbose=0)\n",
        "            score = roc_auc_score(self.y_val, y_pred)\n",
        "            print(\"\\n ROC-AUC - epoch: {:d} - score: {:.6f}\".format(epoch+1, score))"
      ],
      "execution_count": 0,
      "outputs": []
    },
    {
      "cell_type": "markdown",
      "metadata": {
        "id": "-4onJac3enxu",
        "colab_type": "text"
      },
      "source": [
        "The following function will generate plots to visualize the training and validation parameters. This will be utilised multiple times while experimenting with different architechtures."
      ]
    },
    {
      "cell_type": "code",
      "metadata": {
        "id": "4ns_o00-upeZ",
        "colab_type": "code",
        "colab": {}
      },
      "source": [
        "#Visualization function for Validation and Training Parameters\n",
        "def get_plots(history):\n",
        "    # Get training and test loss histories\n",
        "    training_accuracy = history.history['accuracy']\n",
        "    validation_accuracy = history.history['val_accuracy']\n",
        "\n",
        "    # Create count of the number of epochs\n",
        "    epoch_count_1 = range(1, len(training_accuracy) + 1)\n",
        "\n",
        "    # Visualize loss history\n",
        "    plt.subplot(1, 2, 1)\n",
        "    plt.plot(epoch_count_1, training_accuracy, 'r--')\n",
        "    plt.plot(epoch_count_1, validation_accuracy, 'b-')\n",
        "    plt.legend(['Training Accuracy', 'Validation Accuracy'])\n",
        "    plt.xlabel('Epoch')\n",
        "    plt.ylabel('Accuracy')\n",
        "\n",
        "\n",
        "    # Get training and test loss histories\n",
        "    training_loss = history.history['loss']\n",
        "    validation_loss = history.history['val_loss']\n",
        "\n",
        "    # Create count of the number of epochs\n",
        "    epoch_count_2 = range(1, len(training_loss) + 1)\n",
        "\n",
        "    # Visualize loss history\n",
        "    plt.subplot(1, 2, 2)\n",
        "    plt.plot(epoch_count_2, training_loss, 'r--')\n",
        "    plt.plot(epoch_count_2, validation_loss, 'b-')\n",
        "    plt.legend(['Training Loss', 'Validation Loss'])\n",
        "    plt.xlabel('Epoch')\n",
        "    plt.ylabel('Loss')\n",
        "\n",
        "    plt.tight_layout()\n",
        "\n",
        "    plt.show();"
      ],
      "execution_count": 0,
      "outputs": []
    },
    {
      "cell_type": "markdown",
      "metadata": {
        "id": "s_ZZNGt_e5Cq",
        "colab_type": "text"
      },
      "source": [
        "The following function will generate ROC scores for each model predictions. The function predict_scores() utilises the function test_score() which calculates ROC using SkLearn's [Receiver Operating Characteristic Curve (ROC AUC)](https://scikit-learn.org/stable/modules/generated/sklearn.metrics.roc_auc_score.html)."
      ]
    },
    {
      "cell_type": "code",
      "metadata": {
        "id": "jZ7xdW0-vY9e",
        "colab_type": "code",
        "colab": {}
      },
      "source": [
        "#Function to calculate the ROC score on predictions\n",
        "def predict_scores(y_pred):\n",
        "  test_predictions = pd.read_csv('/content/drive/My Drive/toxicity-classification/data/sample_submission.csv')\n",
        "  test_predictions[[\"toxic\", \"severe_toxic\", \"obscene\", \"threat\", \"insult\", \"identity_hate\"]] = y_pred \n",
        "  return test_score(test_predictions.drop(test_predictions.loc[pd.merge(test_data, test_labels, on='id')['toxic']==-1].index))"
      ],
      "execution_count": 0,
      "outputs": []
    },
    {
      "cell_type": "code",
      "metadata": {
        "id": "Ien9FRvOsKnK",
        "colab_type": "code",
        "outputId": "7cf7e74c-37d9-4de4-ab8e-02320781e2d0",
        "colab": {
          "base_uri": "https://localhost:8080/",
          "height": 50
        }
      },
      "source": [
        "%%time\n",
        "# Tokenize comments and pad to max length so all inputs are the same size\n",
        "token=text.Tokenizer(num_words=max_features,lower=True)\n",
        "token.fit_on_texts(list(X_train)+list(X_test))\n",
        "X_train=token.texts_to_sequences(X_train)\n",
        "X_test=token.texts_to_sequences(X_test)\n",
        "x_train=sequence.pad_sequences(X_train,maxlen=maxlen)\n",
        "x_test=sequence.pad_sequences(X_test,maxlen=maxlen)"
      ],
      "execution_count": 204,
      "outputs": [
        {
          "output_type": "stream",
          "text": [
            "CPU times: user 35.9 s, sys: 7.81 ms, total: 35.9 s\n",
            "Wall time: 35.9 s\n"
          ],
          "name": "stdout"
        }
      ]
    },
    {
      "cell_type": "markdown",
      "metadata": {
        "id": "GFrMiDH036V8",
        "colab_type": "text"
      },
      "source": [
        "Creating the embedding matrix using the FastText Word Embeddings"
      ]
    },
    {
      "cell_type": "code",
      "metadata": {
        "id": "IEHWx_xZ6h0O",
        "colab_type": "code",
        "outputId": "e2026881-5aa3-474a-d837-77bfbcdc94d9",
        "colab": {
          "base_uri": "https://localhost:8080/",
          "height": 50
        }
      },
      "source": [
        "%%time\n",
        "# create the embedding matrix from the Facebook crawl dataset\n",
        "word_index = token.word_index\n",
        "num_words = min(max_features, len(word_index) + 1)\n",
        "embedding_matrix = np.zeros((num_words, embed_size)) # set not found words to vector of zeros in embedding\n",
        "for word, i in word_index.items():\n",
        "    if i >= max_features:\n",
        "        continue\n",
        "    embedding_vector = embeddings_index.get(word)\n",
        "    if embedding_vector is not None:\n",
        "        embedding_matrix[i] = embedding_vector"
      ],
      "execution_count": 205,
      "outputs": [
        {
          "output_type": "stream",
          "text": [
            "CPU times: user 379 ms, sys: 17.3 ms, total: 396 ms\n",
            "Wall time: 395 ms\n"
          ],
          "name": "stdout"
        }
      ]
    },
    {
      "cell_type": "markdown",
      "metadata": {
        "id": "yAAHF11Go6AN",
        "colab_type": "text"
      },
      "source": [
        "### **Bi-Directional LSTM**\n",
        "\n",
        "Here we will develop a neural network architecture to try and achieve better performance that the logistic regression benchmark model utilized above. The goal is to implement a simple **Bi-directional LSTM** with a pretrained word embedding, this work is referenced from [LSTM Recurrent Neural Networks for Short Text and Sentiment Classification](https://link.springer.com/chapter/10.1007/978-3-319-59060-8_50). The framework for this was referenced from multple researches with tweaks made to the embedding, test/train split, and parameters used to achieve higher ROC AUC."
      ]
    },
    {
      "cell_type": "code",
      "metadata": {
        "id": "j3eYsgUU7JG0",
        "colab_type": "code",
        "colab": {}
      },
      "source": [
        "#Simple Bidirectional LSTM\n",
        "from keras.layers import Dense, Input, LSTM, Embedding, Dropout, Activation, Conv1D, GlobalMaxPool1D\n",
        "\n",
        "def get_bilstm_model():\n",
        "\n",
        "    model_input = Input(shape=(maxlen,))\n",
        "\n",
        "    x = Embedding(max_features, embed_size, weights=[embedding_matrix])(inp)\n",
        "\n",
        "    x = Bidirectional(LSTM(300, return_sequences=True, dropout=0.1, recurrent_dropout=0.1))(x)\n",
        "\n",
        "    x = GlobalMaxPool1D()(x)\n",
        "\n",
        "    x = Dense(50, activation=\"relu\")(x)\n",
        "\n",
        "    x = Dropout(0.1)(x)\n",
        "\n",
        "    x = Dense(6, activation=\"sigmoid\")(x)\n",
        "\n",
        "    model = Model(inputs=model_input, outputs=x)\n",
        "    model.compile(loss='binary_crossentropy', optimizer='adam', metrics=['accuracy'])\n",
        "\n",
        "    return model"
      ],
      "execution_count": 0,
      "outputs": []
    },
    {
      "cell_type": "code",
      "metadata": {
        "id": "5K2hUypHLLkM",
        "colab_type": "code",
        "outputId": "5372da73-a02a-4d53-c211-4aa044d109aa",
        "colab": {
          "base_uri": "https://localhost:8080/",
          "height": 33
        }
      },
      "source": [
        "!pip install scikit-multilearn"
      ],
      "execution_count": 207,
      "outputs": [
        {
          "output_type": "stream",
          "text": [
            "Requirement already satisfied: scikit-multilearn in /usr/local/lib/python3.6/dist-packages (0.2.0)\n"
          ],
          "name": "stdout"
        }
      ]
    },
    {
      "cell_type": "code",
      "metadata": {
        "id": "_kQv61Rs836k",
        "colab_type": "code",
        "colab": {}
      },
      "source": [
        "from skmultilearn.model_selection import iterative_train_test_split\n",
        "batch_size = 256\n",
        "epochs = 3\n",
        "\n",
        "model = get_bilstm_model()\n",
        "\n",
        "# utilize stratified sampling to improve model training and accuracy\n",
        "X_tra, y_tra, X_val, y_val = iterative_train_test_split(x_train, y_train, test_size=0.05)"
      ],
      "execution_count": 0,
      "outputs": []
    },
    {
      "cell_type": "code",
      "metadata": {
        "id": "1VriKv3smhcD",
        "colab_type": "code",
        "colab": {}
      },
      "source": [
        "checkpoint = ModelCheckpoint(\"lstm_model.hdf5\", monitor='val_accuracy', verbose=1, save_best_only=True, mode='max')\n",
        "early = EarlyStopping(monitor=\"val_accuracy\", mode=\"max\", patience=5)\n",
        "RocAuc = RocAucEvaluation(validation_data=(X_val, y_val), interval = 1)\n",
        "callbacks_list = [RocAuc,checkpoint, early]"
      ],
      "execution_count": 0,
      "outputs": []
    },
    {
      "cell_type": "code",
      "metadata": {
        "id": "fbvKEJicm0PT",
        "colab_type": "code",
        "outputId": "4b214c7c-7284-49a1-d90c-7eaeed384255",
        "colab": {
          "base_uri": "https://localhost:8080/",
          "height": 375
        }
      },
      "source": [
        "model.summary()"
      ],
      "execution_count": 210,
      "outputs": [
        {
          "output_type": "stream",
          "text": [
            "Model: \"model_2\"\n",
            "_________________________________________________________________\n",
            "Layer (type)                 Output Shape              Param #   \n",
            "=================================================================\n",
            "input_2 (InputLayer)         (None, 200)               0         \n",
            "_________________________________________________________________\n",
            "embedding_2 (Embedding)      (None, 200, 300)          30000000  \n",
            "_________________________________________________________________\n",
            "bidirectional_2 (Bidirection (None, 200, 600)          1442400   \n",
            "_________________________________________________________________\n",
            "global_max_pooling1d_2 (Glob (None, 600)               0         \n",
            "_________________________________________________________________\n",
            "dense_3 (Dense)              (None, 50)                30050     \n",
            "_________________________________________________________________\n",
            "dropout_2 (Dropout)          (None, 50)                0         \n",
            "_________________________________________________________________\n",
            "dense_4 (Dense)              (None, 6)                 306       \n",
            "=================================================================\n",
            "Total params: 31,472,756\n",
            "Trainable params: 31,472,756\n",
            "Non-trainable params: 0\n",
            "_________________________________________________________________\n"
          ],
          "name": "stdout"
        }
      ]
    },
    {
      "cell_type": "code",
      "metadata": {
        "id": "lcEAjDtO876l",
        "colab_type": "code",
        "outputId": "bf806226-2266-4627-d5bd-12882159b586",
        "colab": {
          "base_uri": "https://localhost:8080/",
          "height": 411
        }
      },
      "source": [
        "%%time\n",
        "history = model.fit(X_tra, y_tra, batch_size=batch_size, epochs=epochs, validation_data=(X_val, y_val),\n",
        "                 callbacks=callbacks_list, verbose=1)"
      ],
      "execution_count": 211,
      "outputs": [
        {
          "output_type": "stream",
          "text": [
            "/usr/local/lib/python3.6/dist-packages/tensorflow/python/framework/indexed_slices.py:434: UserWarning: Converting sparse IndexedSlices to a dense Tensor of unknown shape. This may consume a large amount of memory.\n",
            "  \"Converting sparse IndexedSlices to a dense Tensor of unknown shape. \"\n"
          ],
          "name": "stderr"
        },
        {
          "output_type": "stream",
          "text": [
            "Train on 151592 samples, validate on 7979 samples\n",
            "Epoch 1/3\n",
            "151592/151592 [==============================] - 611s 4ms/step - loss: 0.0639 - accuracy: 0.9784 - val_loss: 0.0414 - val_accuracy: 0.9841\n",
            "\n",
            " ROC-AUC - epoch: 1 - score: 0.985837\n",
            "\n",
            "Epoch 00001: val_accuracy improved from -inf to 0.98413, saving model to lstm_model.hdf5\n",
            "Epoch 2/3\n",
            "151592/151592 [==============================] - 622s 4ms/step - loss: 0.0404 - accuracy: 0.9841 - val_loss: 0.0394 - val_accuracy: 0.9845\n",
            "\n",
            " ROC-AUC - epoch: 2 - score: 0.987963\n",
            "\n",
            "Epoch 00002: val_accuracy improved from 0.98413 to 0.98448, saving model to lstm_model.hdf5\n",
            "Epoch 3/3\n",
            "151592/151592 [==============================] - 617s 4ms/step - loss: 0.0351 - accuracy: 0.9859 - val_loss: 0.0389 - val_accuracy: 0.9848\n",
            "\n",
            " ROC-AUC - epoch: 3 - score: 0.988611\n",
            "\n",
            "Epoch 00003: val_accuracy improved from 0.98448 to 0.98484, saving model to lstm_model.hdf5\n",
            "CPU times: user 1h 9min 9s, sys: 10min 50s, total: 1h 19min 59s\n",
            "Wall time: 31min 50s\n"
          ],
          "name": "stdout"
        }
      ]
    },
    {
      "cell_type": "code",
      "metadata": {
        "id": "BNvUQ-vXt2-l",
        "colab_type": "code",
        "outputId": "2554426c-9d3c-42f8-ef8f-3452ef628df4",
        "colab": {
          "base_uri": "https://localhost:8080/",
          "height": 297
        }
      },
      "source": [
        "get_plots(history)"
      ],
      "execution_count": 212,
      "outputs": [
        {
          "output_type": "display_data",
          "data": {
            "image/png": "[encoded data removed]",
            "text/plain": [
              "<Figure size 432x288 with 2 Axes>"
            ]
          },
          "metadata": {
            "tags": [],
            "needs_background": "light"
          }
        }
      ]
    },
    {
      "cell_type": "code",
      "metadata": {
        "id": "7BIJsKTf9Gjg",
        "colab_type": "code",
        "outputId": "e3b1b991-0cd5-4590-fe80-0df042029bec",
        "colab": {
          "base_uri": "https://localhost:8080/",
          "height": 33
        }
      },
      "source": [
        "model.load_weights(\"lstm_model.hdf5\")\n",
        "y_pred = model.predict(x_test, batch_size=1024, verbose=1)"
      ],
      "execution_count": 213,
      "outputs": [
        {
          "output_type": "stream",
          "text": [
            "153164/153164 [==============================] - 28s 181us/step\n"
          ],
          "name": "stdout"
        }
      ]
    },
    {
      "cell_type": "code",
      "metadata": {
        "id": "eT75O5k-8_iQ",
        "colab_type": "code",
        "outputId": "d880fd09-32a3-4dbe-a2be-cc94cb5aa826",
        "colab": {
          "base_uri": "https://localhost:8080/",
          "height": 33
        }
      },
      "source": [
        "predict_scores(y_pred)"
      ],
      "execution_count": 214,
      "outputs": [
        {
          "output_type": "stream",
          "text": [
            "Test set score is 0.9814452753672892\n"
          ],
          "name": "stdout"
        }
      ]
    },
    {
      "cell_type": "markdown",
      "metadata": {
        "id": "hgobqB7i6IIk",
        "colab_type": "text"
      },
      "source": [
        "We see fairly good results here, a great improve from **Benchmark model**. We will explore some more architectures and based on our experiment we chose the final model."
      ]
    },
    {
      "cell_type": "code",
      "metadata": {
        "id": "o1xeQo0GWlZD",
        "colab_type": "code",
        "colab": {
          "base_uri": "https://localhost:8080/",
          "height": 33
        },
        "outputId": "c22af834-cf8d-4e8d-81fe-482289d63755"
      },
      "source": [
        "gc.collect()"
      ],
      "execution_count": 215,
      "outputs": [
        {
          "output_type": "execute_result",
          "data": {
            "text/plain": [
              "18656"
            ]
          },
          "metadata": {
            "tags": []
          },
          "execution_count": 215
        }
      ]
    },
    {
      "cell_type": "markdown",
      "metadata": {
        "id": "QKDnQwR4VWBV",
        "colab_type": "text"
      },
      "source": [
        "### **Pooled GRU**\n",
        "\n",
        "**Gated recurrent units (GRUs)** are a gating mechanism in recurrent neural networks, introduced in 2014 by [Kyunghyun Cho et al.](https://arxiv.org/abs/1406.1078). The GRU is like a long short-term memory (LSTM) with forget gate but has fewer parameters than LSTM, as it lacks an output gate. This implementation is partially based on this paper [Empirical Evaluation of RNN Architectures on Sentence Classification Task](https://arxiv.org/abs/1609.09171).\n",
        "\n"
      ]
    },
    {
      "cell_type": "code",
      "metadata": {
        "id": "KR9AtyOvotXl",
        "colab_type": "code",
        "colab": {}
      },
      "source": [
        "def get_pooled_gru():\n",
        "\n",
        "  model_input = Input(shape=(maxlen, ))\n",
        "\n",
        "  x = Embedding(max_features, embed_size, weights=[embedding_matrix])(inp)\n",
        "\n",
        "  x = SpatialDropout1D(0.2)(x)\n",
        "\n",
        "  x = Bidirectional(GRU(128, return_sequences=True))(x)\n",
        "\n",
        "  avg_pool = GlobalAveragePooling1D()(x)\n",
        "  max_pool = GlobalMaxPooling1D()(x)\n",
        "  conc = concatenate([avg_pool, max_pool])\n",
        "\n",
        "  outp = Dense(6, activation=\"sigmoid\")(conc)\n",
        "      \n",
        "  pooled_gru_model = Model(inputs=model_input, outputs=outp)\n",
        "  pooled_gru_model.compile(loss='binary_crossentropy',\n",
        "                    optimizer='adam',\n",
        "                    metrics=['accuracy'])\n",
        "  return pooled_gru_model"
      ],
      "execution_count": 0,
      "outputs": []
    },
    {
      "cell_type": "code",
      "metadata": {
        "id": "d0mCfRSPVDFk",
        "colab_type": "code",
        "colab": {}
      },
      "source": [
        "batch_size = 128\n",
        "epochs = 3\n",
        "\n",
        "model = get_pooled_gru()\n",
        "\n",
        "# Use stratified sampling again\n",
        "X_tra, y_tra, X_val, y_val = iterative_train_test_split(x_train, y_train, test_size=0.1)"
      ],
      "execution_count": 0,
      "outputs": []
    },
    {
      "cell_type": "code",
      "metadata": {
        "id": "SHu7FZjMVQK0",
        "colab_type": "code",
        "colab": {}
      },
      "source": [
        "checkpoint = ModelCheckpoint(\"pooled_gru_model.hdf5\", monitor='val_accuracy', verbose=1, save_best_only=True, mode='max')\n",
        "early = EarlyStopping(monitor=\"val_accuracy\", mode=\"max\", patience=5)\n",
        "ra_val = RocAucEvaluation(validation_data=(X_val, y_val), interval = 1)\n",
        "callbacks_list = [ra_val,checkpoint, early]"
      ],
      "execution_count": 0,
      "outputs": []
    },
    {
      "cell_type": "code",
      "metadata": {
        "id": "M4vJ5VbjVkWB",
        "colab_type": "code",
        "colab": {
          "base_uri": "https://localhost:8080/",
          "height": 423
        },
        "outputId": "5743c453-953a-47a4-950a-f0e0197067c5"
      },
      "source": [
        "model.summary()"
      ],
      "execution_count": 219,
      "outputs": [
        {
          "output_type": "stream",
          "text": [
            "Model: \"model_3\"\n",
            "__________________________________________________________________________________________________\n",
            "Layer (type)                    Output Shape         Param #     Connected to                     \n",
            "==================================================================================================\n",
            "input_3 (InputLayer)            (None, 200)          0                                            \n",
            "__________________________________________________________________________________________________\n",
            "embedding_3 (Embedding)         (None, 200, 300)     30000000    input_3[0][0]                    \n",
            "__________________________________________________________________________________________________\n",
            "spatial_dropout1d_1 (SpatialDro (None, 200, 300)     0           embedding_3[0][0]                \n",
            "__________________________________________________________________________________________________\n",
            "bidirectional_3 (Bidirectional) (None, 200, 256)     329472      spatial_dropout1d_1[0][0]        \n",
            "__________________________________________________________________________________________________\n",
            "global_average_pooling1d_1 (Glo (None, 256)          0           bidirectional_3[0][0]            \n",
            "__________________________________________________________________________________________________\n",
            "global_max_pooling1d_3 (GlobalM (None, 256)          0           bidirectional_3[0][0]            \n",
            "__________________________________________________________________________________________________\n",
            "concatenate_1 (Concatenate)     (None, 512)          0           global_average_pooling1d_1[0][0] \n",
            "                                                                 global_max_pooling1d_3[0][0]     \n",
            "__________________________________________________________________________________________________\n",
            "dense_5 (Dense)                 (None, 6)            3078        concatenate_1[0][0]              \n",
            "==================================================================================================\n",
            "Total params: 30,332,550\n",
            "Trainable params: 30,332,550\n",
            "Non-trainable params: 0\n",
            "__________________________________________________________________________________________________\n"
          ],
          "name": "stdout"
        }
      ]
    },
    {
      "cell_type": "code",
      "metadata": {
        "id": "3367YP0QVvPy",
        "colab_type": "code",
        "colab": {
          "base_uri": "https://localhost:8080/",
          "height": 411
        },
        "outputId": "da23af81-2ac2-4647-a8b5-8e82d08ea205"
      },
      "source": [
        "%%time\n",
        "history = model.fit(X_tra, y_tra, batch_size=batch_size, epochs=epochs, validation_data=(X_val, y_val),callbacks = callbacks_list,verbose=1)"
      ],
      "execution_count": 220,
      "outputs": [
        {
          "output_type": "stream",
          "text": [
            "/usr/local/lib/python3.6/dist-packages/tensorflow/python/framework/indexed_slices.py:434: UserWarning: Converting sparse IndexedSlices to a dense Tensor of unknown shape. This may consume a large amount of memory.\n",
            "  \"Converting sparse IndexedSlices to a dense Tensor of unknown shape. \"\n"
          ],
          "name": "stderr"
        },
        {
          "output_type": "stream",
          "text": [
            "Train on 143613 samples, validate on 15958 samples\n",
            "Epoch 1/3\n",
            "143613/143613 [==============================] - 1260s 9ms/step - loss: 0.0579 - accuracy: 0.9798 - val_loss: 0.0414 - val_accuracy: 0.9840\n",
            "\n",
            " ROC-AUC - epoch: 1 - score: 0.984966\n",
            "\n",
            "Epoch 00001: val_accuracy improved from -inf to 0.98398, saving model to pooled_gru_model.hdf5\n",
            "Epoch 2/3\n",
            "143613/143613 [==============================] - 1265s 9ms/step - loss: 0.0380 - accuracy: 0.9850 - val_loss: 0.0407 - val_accuracy: 0.9844\n",
            "\n",
            " ROC-AUC - epoch: 2 - score: 0.988234\n",
            "\n",
            "Epoch 00002: val_accuracy improved from 0.98398 to 0.98437, saving model to pooled_gru_model.hdf5\n",
            "Epoch 3/3\n",
            "143613/143613 [==============================] - 1243s 9ms/step - loss: 0.0318 - accuracy: 0.9873 - val_loss: 0.0415 - val_accuracy: 0.9839\n",
            "\n",
            " ROC-AUC - epoch: 3 - score: 0.988492\n",
            "\n",
            "Epoch 00003: val_accuracy did not improve from 0.98437\n",
            "CPU times: user 2h 18min 55s, sys: 21min 34s, total: 2h 40min 30s\n",
            "Wall time: 1h 4min 56s\n"
          ],
          "name": "stdout"
        }
      ]
    },
    {
      "cell_type": "code",
      "metadata": {
        "id": "2cv0V7uLVv-H",
        "colab_type": "code",
        "colab": {
          "base_uri": "https://localhost:8080/",
          "height": 297
        },
        "outputId": "4cdf9395-b2eb-497a-b55b-5506faf0a79d"
      },
      "source": [
        "get_plots(history)"
      ],
      "execution_count": 221,
      "outputs": [
        {
          "output_type": "display_data",
          "data": {
            "image/png": "[encoded data removed]",
            "text/plain": [
              "<Figure size 432x288 with 2 Axes>"
            ]
          },
          "metadata": {
            "tags": [],
            "needs_background": "light"
          }
        }
      ]
    },
    {
      "cell_type": "code",
      "metadata": {
        "id": "EjTdqrnUV1c_",
        "colab_type": "code",
        "colab": {
          "base_uri": "https://localhost:8080/",
          "height": 33
        },
        "outputId": "d1787f88-0f74-4ca7-fbdf-3af4fd8680b9"
      },
      "source": [
        "model.load_weights(\"pooled_gru_model.hdf5\")\n",
        "y_pred = model.predict(x_test,batch_size=1024,verbose=1)"
      ],
      "execution_count": 222,
      "outputs": [
        {
          "output_type": "stream",
          "text": [
            "153164/153164 [==============================] - 14s 93us/step\n"
          ],
          "name": "stdout"
        }
      ]
    },
    {
      "cell_type": "code",
      "metadata": {
        "id": "NVNawHBBWFYz",
        "colab_type": "code",
        "colab": {
          "base_uri": "https://localhost:8080/",
          "height": 33
        },
        "outputId": "eb38fafe-c4ea-449e-bd79-ea85407a5e4a"
      },
      "source": [
        "predict_scores(y_pred)"
      ],
      "execution_count": 223,
      "outputs": [
        {
          "output_type": "stream",
          "text": [
            "Test set score is 0.9828798385094536\n"
          ],
          "name": "stdout"
        }
      ]
    },
    {
      "cell_type": "code",
      "metadata": {
        "id": "Y4Yx46fJWJ1y",
        "colab_type": "code",
        "colab": {
          "base_uri": "https://localhost:8080/",
          "height": 33
        },
        "outputId": "1bada167-0665-46b1-cc55-8764a5a9f99a"
      },
      "source": [
        "gc.collect()"
      ],
      "execution_count": 224,
      "outputs": [
        {
          "output_type": "execute_result",
          "data": {
            "text/plain": [
              "5266"
            ]
          },
          "metadata": {
            "tags": []
          },
          "execution_count": 224
        }
      ]
    },
    {
      "cell_type": "markdown",
      "metadata": {
        "id": "sRsz0J7jYE_h",
        "colab_type": "text"
      },
      "source": [
        "### **Pooled GRU + CNN**\n",
        "\n",
        "This implementation is based on the paper [Combination of Convolutional and Recurrent Neural Network for\n",
        "Sentiment Analysis of Short Texts](https://www.aclweb.org/anthology/C16-1229.pdf) and [A C-LSTM Neural Network for Text Classification](https://arxiv.org/abs/1511.08630). This architechture uses a combination of **Bi-directional Gated Recurrent Network(GRU)** and **Convolutional Neural Network (ConvNet/CNN)** with pooling."
      ]
    },
    {
      "cell_type": "code",
      "metadata": {
        "id": "uU0OBPgzX97x",
        "colab_type": "code",
        "colab": {}
      },
      "source": [
        "def get_gru_cnn():\n",
        "    model_input = Input(shape=(maxlen, ))\n",
        "    x = Embedding(max_features, embed_size, weights=[embedding_matrix],trainable = False)(model_input)\n",
        "    x = SpatialDropout1D(0.2)(x)\n",
        "    x = Bidirectional(GRU(128, return_sequences=True,dropout=0.1,recurrent_dropout=0.1))(x)\n",
        "    x = Conv1D(64, kernel_size = 3, padding = \"valid\", kernel_initializer = \"glorot_uniform\")(x)\n",
        "    avg_pool = GlobalAveragePooling1D()(x)\n",
        "    max_pool = GlobalMaxPooling1D()(x)\n",
        "    x = concatenate([avg_pool, max_pool]) \n",
        "    x = Dense(128, activation='relu')(x)\n",
        "    x = Dropout(0.1)(x)\n",
        "    preds = Dense(6, activation=\"sigmoid\")(x)\n",
        "    model = Model(model_input, preds)\n",
        "    model.compile(loss='binary_crossentropy',optimizer=Adam(lr=1e-3),metrics=['accuracy'])\n",
        "    return model"
      ],
      "execution_count": 0,
      "outputs": []
    },
    {
      "cell_type": "code",
      "metadata": {
        "id": "xgfzSTlWYH9w",
        "colab_type": "code",
        "colab": {}
      },
      "source": [
        "batch_size = 128\n",
        "epochs = 3\n",
        "\n",
        "model = get_gru_cnn()\n",
        "\n",
        "# Use stratified sampling again\n",
        "X_tra, y_tra, X_val, y_val = iterative_train_test_split(x_train, y_train, test_size=0.1)"
      ],
      "execution_count": 0,
      "outputs": []
    },
    {
      "cell_type": "code",
      "metadata": {
        "id": "kzt1ig01YPUx",
        "colab_type": "code",
        "colab": {}
      },
      "source": [
        "checkpoint = ModelCheckpoint(\"gru_cnn_model.hdf5\", monitor='val_accuracy', verbose=1, save_best_only=True, mode='max')\n",
        "early = EarlyStopping(monitor=\"val_accuracy\", mode=\"max\", patience=5)\n",
        "ra_val = RocAucEvaluation(validation_data=(X_val, y_val), interval = 1)\n",
        "callbacks_list = [ra_val,checkpoint, early]"
      ],
      "execution_count": 0,
      "outputs": []
    },
    {
      "cell_type": "code",
      "metadata": {
        "id": "4fy-wqQyYUlC",
        "colab_type": "code",
        "colab": {
          "base_uri": "https://localhost:8080/",
          "height": 521
        },
        "outputId": "7c9b62cf-6be4-4372-d043-69fb51783e80"
      },
      "source": [
        "model.summary()"
      ],
      "execution_count": 274,
      "outputs": [
        {
          "output_type": "stream",
          "text": [
            "Model: \"model_10\"\n",
            "__________________________________________________________________________________________________\n",
            "Layer (type)                    Output Shape         Param #     Connected to                     \n",
            "==================================================================================================\n",
            "input_10 (InputLayer)           (None, 200)          0                                            \n",
            "__________________________________________________________________________________________________\n",
            "embedding_10 (Embedding)        (None, 200, 300)     30000000    input_10[0][0]                   \n",
            "__________________________________________________________________________________________________\n",
            "spatial_dropout1d_8 (SpatialDro (None, 200, 300)     0           embedding_10[0][0]               \n",
            "__________________________________________________________________________________________________\n",
            "bidirectional_11 (Bidirectional (None, 200, 256)     329472      spatial_dropout1d_8[0][0]        \n",
            "__________________________________________________________________________________________________\n",
            "conv1d_12 (Conv1D)              (None, 198, 64)      49216       bidirectional_11[0][0]           \n",
            "__________________________________________________________________________________________________\n",
            "global_average_pooling1d_11 (Gl (None, 64)           0           conv1d_12[0][0]                  \n",
            "__________________________________________________________________________________________________\n",
            "global_max_pooling1d_13 (Global (None, 64)           0           conv1d_12[0][0]                  \n",
            "__________________________________________________________________________________________________\n",
            "concatenate_12 (Concatenate)    (None, 128)          0           global_average_pooling1d_11[0][0]\n",
            "                                                                 global_max_pooling1d_13[0][0]    \n",
            "__________________________________________________________________________________________________\n",
            "dense_15 (Dense)                (None, 128)          16512       concatenate_12[0][0]             \n",
            "__________________________________________________________________________________________________\n",
            "dropout_6 (Dropout)             (None, 128)          0           dense_15[0][0]                   \n",
            "__________________________________________________________________________________________________\n",
            "dense_16 (Dense)                (None, 6)            774         dropout_6[0][0]                  \n",
            "==================================================================================================\n",
            "Total params: 30,395,974\n",
            "Trainable params: 395,974\n",
            "Non-trainable params: 30,000,000\n",
            "__________________________________________________________________________________________________\n"
          ],
          "name": "stdout"
        }
      ]
    },
    {
      "cell_type": "code",
      "metadata": {
        "id": "RSWiwNlFYgSR",
        "colab_type": "code",
        "colab": {
          "base_uri": "https://localhost:8080/",
          "height": 358
        },
        "outputId": "b43fdbed-30a8-44e7-918f-807ffa268d46"
      },
      "source": [
        "%%time\n",
        "history = model.fit(X_tra, y_tra, batch_size=batch_size, epochs=epochs, validation_data=(X_val, y_val),callbacks = callbacks_list,verbose=1)"
      ],
      "execution_count": 275,
      "outputs": [
        {
          "output_type": "stream",
          "text": [
            "Train on 143613 samples, validate on 15958 samples\n",
            "Epoch 1/3\n",
            "143613/143613 [==============================] - 1250s 9ms/step - loss: 21.4019 - accuracy: 0.9778 - val_loss: 0.0476 - val_accuracy: 0.9820\n",
            "\n",
            " ROC-AUC - epoch: 1 - score: 0.977294\n",
            "\n",
            "Epoch 00001: val_accuracy improved from -inf to 0.98197, saving model to gru_cnn_model.hdf5\n",
            "Epoch 2/3\n",
            "143613/143613 [==============================] - 1265s 9ms/step - loss: 1.0052 - accuracy: 0.9810 - val_loss: 0.0462 - val_accuracy: 0.9823\n",
            "\n",
            " ROC-AUC - epoch: 2 - score: 0.979961\n",
            "\n",
            "Epoch 00002: val_accuracy improved from 0.98197 to 0.98233, saving model to gru_cnn_model.hdf5\n",
            "Epoch 3/3\n",
            "143613/143613 [==============================] - 1244s 9ms/step - loss: 0.0493 - accuracy: 0.9816 - val_loss: 0.0445 - val_accuracy: 0.9825\n",
            "\n",
            " ROC-AUC - epoch: 3 - score: 0.982392\n",
            "\n",
            "Epoch 00003: val_accuracy improved from 0.98233 to 0.98245, saving model to gru_cnn_model.hdf5\n",
            "CPU times: user 2h 22min 28s, sys: 22min 20s, total: 2h 44min 48s\n",
            "Wall time: 1h 4min 56s\n"
          ],
          "name": "stdout"
        }
      ]
    },
    {
      "cell_type": "code",
      "metadata": {
        "id": "9j0EG056YhEX",
        "colab_type": "code",
        "colab": {
          "base_uri": "https://localhost:8080/",
          "height": 297
        },
        "outputId": "0f4fb733-e0f3-43ae-cdc6-af018ebc9c89"
      },
      "source": [
        "get_plots(history)"
      ],
      "execution_count": 276,
      "outputs": [
        {
          "output_type": "display_data",
          "data": {
            "image/png": "[encoded data removed]",
            "text/plain": [
              "<Figure size 432x288 with 2 Axes>"
            ]
          },
          "metadata": {
            "tags": [],
            "needs_background": "light"
          }
        }
      ]
    },
    {
      "cell_type": "code",
      "metadata": {
        "id": "YrIV4GXRYmlG",
        "colab_type": "code",
        "colab": {
          "base_uri": "https://localhost:8080/",
          "height": 33
        },
        "outputId": "502ce456-8827-46cd-ec93-4c3298ca0ee7"
      },
      "source": [
        "model.load_weights(\"gru_cnn_model.hdf5\")\n",
        "y_pred = model.predict(x_test,batch_size=1024,verbose=1)"
      ],
      "execution_count": 277,
      "outputs": [
        {
          "output_type": "stream",
          "text": [
            "153164/153164 [==============================] - 15s 100us/step\n"
          ],
          "name": "stdout"
        }
      ]
    },
    {
      "cell_type": "code",
      "metadata": {
        "id": "ZzvO-5LwYurN",
        "colab_type": "code",
        "colab": {
          "base_uri": "https://localhost:8080/",
          "height": 33
        },
        "outputId": "0ef25e47-6abd-48f5-e990-8f8c355f25ab"
      },
      "source": [
        "predict_scores(y_pred)"
      ],
      "execution_count": 278,
      "outputs": [
        {
          "output_type": "stream",
          "text": [
            "Test set score is 0.9749296296734237\n"
          ],
          "name": "stdout"
        }
      ]
    },
    {
      "cell_type": "markdown",
      "metadata": {
        "id": "o58_WV7zVqWv",
        "colab_type": "text"
      },
      "source": [
        "### **Pooled CNN Complex Model**\n",
        "\n",
        "This is a deep neural architechture with multiple Convolutional Neural Network (ConvNet/CNN) layers. This implementation is based on [Very Deep Convolutional Networks for Text Classification](https://arxiv.org/abs/1606.01781), [Combining Knowledge with Deep Convolutional Neural Networks\n",
        "for Short Text Classification](http://yellowstone.cs.ucla.edu/~jinwang/jinwang_files/ijcai2017.pdf) and [Attention pooling-based convolutional neural network for sentence modelling](https://www.sciencedirect.com/science/article/pii/S0020025516306673).\n"
      ]
    },
    {
      "cell_type": "code",
      "metadata": {
        "id": "ONdnhu6YpXKV",
        "colab_type": "code",
        "colab": {}
      },
      "source": [
        "#Custom Attention Layer\n",
        "from keras.engine import InputSpec, Layer\n",
        "from keras import backend as K\n",
        "\n",
        "class AttentionWeightedAverage(Layer):\n",
        "    \"\"\"\n",
        "    Computes a weighted average of the different channels across timesteps.\n",
        "    Uses 1 parameter pr. channel to compute the attention value for a single timestep.\n",
        "    \"\"\"\n",
        "\n",
        "    def __init__(self, return_attention=False, **kwargs):\n",
        "        self.init = initializers.get('uniform')\n",
        "        self.supports_masking = True\n",
        "        self.return_attention = return_attention\n",
        "        super(AttentionWeightedAverage, self).__init__(** kwargs)\n",
        "\n",
        "    def build(self, input_shape):\n",
        "        self.input_spec = [InputSpec(ndim=3)]\n",
        "        assert len(input_shape) == 3\n",
        "\n",
        "        self.W = self.add_weight(shape=(input_shape[2], 1),\n",
        "                                 name='{}_W'.format(self.name),\n",
        "                                 initializer=self.init)\n",
        "        self.trainable_weights = [self.W]\n",
        "        super(AttentionWeightedAverage, self).build(input_shape)\n",
        "\n",
        "    def call(self, x, mask=None):\n",
        "        # computes a probability distribution over the timesteps\n",
        "        # uses 'max trick' for numerical stability\n",
        "        # reshape is done to avoid issue with Tensorflow\n",
        "        # and 1-dimensional weights\n",
        "        logits = K.dot(x, self.W)\n",
        "        x_shape = K.shape(x)\n",
        "        logits = K.reshape(logits, (x_shape[0], x_shape[1]))\n",
        "        ai = K.exp(logits - K.max(logits, axis=-1, keepdims=True))\n",
        "\n",
        "        # masked timesteps have zero weight\n",
        "        if mask is not None:\n",
        "            mask = K.cast(mask, K.floatx())\n",
        "            ai = ai * mask\n",
        "        att_weights = ai / (K.sum(ai, axis=1, keepdims=True) + K.epsilon())\n",
        "        weighted_input = x * K.expand_dims(att_weights)\n",
        "        result = K.sum(weighted_input, axis=1)\n",
        "        if self.return_attention:\n",
        "            return [result, att_weights]\n",
        "        return result\n",
        "\n",
        "    def get_output_shape_for(self, input_shape):\n",
        "        return self.compute_output_shape(input_shape)\n",
        "\n",
        "    def compute_output_shape(self, input_shape):\n",
        "        output_len = input_shape[2]\n",
        "        if self.return_attention:\n",
        "            return [(input_shape[0], output_len), (input_shape[0], input_shape[1])]\n",
        "        return (input_shape[0], output_len)\n",
        "\n",
        "    def compute_mask(self, input, input_mask=None):\n",
        "        if isinstance(input_mask, list):\n",
        "            return [None] * len(input_mask)\n",
        "        else:\n",
        "            return None\n"
      ],
      "execution_count": 0,
      "outputs": []
    },
    {
      "cell_type": "code",
      "metadata": {
        "id": "Hfrrd3xFTp0y",
        "colab_type": "code",
        "colab": {}
      },
      "source": [
        " def get_avcnn_model():   \n",
        "    filter_nums = 300\n",
        "    model_input = Input(shape=(maxlen,), dtype='int32')\n",
        "\n",
        "    embedding_layer = Embedding(num_words,\n",
        "                                    embed_size,\n",
        "                                    weights=[embedding_matrix],\n",
        "                                    input_length=maxlen,\n",
        "                                    trainable=False)\n",
        "    embedded_sequences = embedding_layer(model_input)\n",
        "    embedded_sequences = SpatialDropout1D(0.25)(embedded_sequences)\n",
        "\n",
        "    conv_0 = Conv1D(filter_nums, 1, kernel_initializer=\"normal\", padding=\"valid\", activation=\"relu\")(embedded_sequences)\n",
        "    conv_1 = Conv1D(filter_nums, 2, kernel_initializer=\"normal\", padding=\"valid\", activation=\"relu\")(embedded_sequences)\n",
        "    conv_2 = Conv1D(filter_nums, 3, kernel_initializer=\"normal\", padding=\"valid\", activation=\"relu\")(embedded_sequences)\n",
        "    conv_3 = Conv1D(filter_nums, 4, kernel_initializer=\"normal\", padding=\"valid\", activation=\"relu\")(embedded_sequences)\n",
        "\n",
        "    attn_0 = AttentionWeightedAverage()(conv_0)\n",
        "    avg_0 = GlobalAveragePooling1D()(conv_0)\n",
        "    maxpool_0 = GlobalMaxPooling1D()(conv_0)\n",
        "\n",
        "    maxpool_1 = GlobalMaxPooling1D()(conv_1)\n",
        "    attn_1 = AttentionWeightedAverage()(conv_1)\n",
        "    avg_1 = GlobalAveragePooling1D()(conv_1)\n",
        "\n",
        "    maxpool_2 = GlobalMaxPooling1D()(conv_2)\n",
        "    attn_2 = AttentionWeightedAverage()(conv_2)\n",
        "    avg_2 = GlobalAveragePooling1D()(conv_2)\n",
        "\n",
        "    maxpool_3 = GlobalMaxPooling1D()(conv_3)\n",
        "    attn_3 = AttentionWeightedAverage()(conv_3)\n",
        "    avg_3 = GlobalAveragePooling1D()(conv_3)\n",
        "\n",
        "    v0_col = concatenate([maxpool_0, maxpool_1, maxpool_2, maxpool_3], axis=1)\n",
        "    v1_col = concatenate([attn_0, attn_1, attn_2, attn_3], axis=1)\n",
        "    v2_col = concatenate([avg_1, avg_2, avg_0, avg_3], axis=1)\n",
        "    merged_tensor = concatenate([v0_col, v1_col, v2_col], axis=1)\n",
        "    output = Dropout(0.7)(merged_tensor)\n",
        "    output = Dense(units=144)(output)\n",
        "    output = Activation('relu')(output)\n",
        "    output = Dense(units=6, activation='sigmoid')(output)\n",
        "\n",
        "    model = Model(inputs=model_input, outputs=output)\n",
        "    adam_optimizer = optimizers.Adam(lr=1e-3, decay=1e-6)\n",
        "    model.compile(loss='binary_crossentropy', optimizer=adam_optimizer, metrics=['accuracy'])\n",
        "\n",
        "    return model"
      ],
      "execution_count": 0,
      "outputs": []
    },
    {
      "cell_type": "code",
      "metadata": {
        "id": "7-hgrjesy8SN",
        "colab_type": "code",
        "colab": {}
      },
      "source": [
        "batch_size = 128\n",
        "epochs = 10\n",
        "\n",
        "model = get_avcnn_model()\n",
        "\n",
        "# Use stratified sampling again\n",
        "X_tra, y_tra, X_val, y_val = iterative_train_test_split(x_train, y_train, test_size=0.1)"
      ],
      "execution_count": 0,
      "outputs": []
    },
    {
      "cell_type": "code",
      "metadata": {
        "id": "L-EottXNzD1g",
        "colab_type": "code",
        "colab": {}
      },
      "source": [
        "checkpoint = ModelCheckpoint(\"avcnn_model.hdf5\", monitor='val_accuracy', verbose=1, save_best_only=True, mode='max')\n",
        "early = EarlyStopping(monitor=\"val_accuracy\", mode=\"max\", patience=5)\n",
        "ra_val = RocAucEvaluation(validation_data=(X_val, y_val), interval = 1)\n",
        "callbacks_list = [ra_val,checkpoint, early]"
      ],
      "execution_count": 0,
      "outputs": []
    },
    {
      "cell_type": "code",
      "metadata": {
        "id": "lLbwca2T0gpC",
        "colab_type": "code",
        "colab": {
          "base_uri": "https://localhost:8080/",
          "height": 1000
        },
        "outputId": "1bcc74d7-e002-4279-ae4a-63f5d78d92bb"
      },
      "source": [
        "model.summary()"
      ],
      "execution_count": 244,
      "outputs": [
        {
          "output_type": "stream",
          "text": [
            "Model: \"model_6\"\n",
            "__________________________________________________________________________________________________\n",
            "Layer (type)                    Output Shape         Param #     Connected to                     \n",
            "==================================================================================================\n",
            "input_6 (InputLayer)            (None, 200)          0                                            \n",
            "__________________________________________________________________________________________________\n",
            "embedding_6 (Embedding)         (None, 200, 300)     30000000    input_6[0][0]                    \n",
            "__________________________________________________________________________________________________\n",
            "spatial_dropout1d_4 (SpatialDro (None, 200, 300)     0           embedding_6[0][0]                \n",
            "__________________________________________________________________________________________________\n",
            "conv1d_3 (Conv1D)               (None, 200, 300)     90300       spatial_dropout1d_4[0][0]        \n",
            "__________________________________________________________________________________________________\n",
            "conv1d_4 (Conv1D)               (None, 199, 300)     180300      spatial_dropout1d_4[0][0]        \n",
            "__________________________________________________________________________________________________\n",
            "conv1d_5 (Conv1D)               (None, 198, 300)     270300      spatial_dropout1d_4[0][0]        \n",
            "__________________________________________________________________________________________________\n",
            "conv1d_6 (Conv1D)               (None, 197, 300)     360300      spatial_dropout1d_4[0][0]        \n",
            "__________________________________________________________________________________________________\n",
            "global_max_pooling1d_7 (GlobalM (None, 300)          0           conv1d_3[0][0]                   \n",
            "__________________________________________________________________________________________________\n",
            "global_max_pooling1d_8 (GlobalM (None, 300)          0           conv1d_4[0][0]                   \n",
            "__________________________________________________________________________________________________\n",
            "global_max_pooling1d_9 (GlobalM (None, 300)          0           conv1d_5[0][0]                   \n",
            "__________________________________________________________________________________________________\n",
            "global_max_pooling1d_10 (Global (None, 300)          0           conv1d_6[0][0]                   \n",
            "__________________________________________________________________________________________________\n",
            "attention_weighted_average_1 (A (None, 300)          300         conv1d_3[0][0]                   \n",
            "__________________________________________________________________________________________________\n",
            "attention_weighted_average_2 (A (None, 300)          300         conv1d_4[0][0]                   \n",
            "__________________________________________________________________________________________________\n",
            "attention_weighted_average_3 (A (None, 300)          300         conv1d_5[0][0]                   \n",
            "__________________________________________________________________________________________________\n",
            "attention_weighted_average_4 (A (None, 300)          300         conv1d_6[0][0]                   \n",
            "__________________________________________________________________________________________________\n",
            "global_average_pooling1d_6 (Glo (None, 300)          0           conv1d_4[0][0]                   \n",
            "__________________________________________________________________________________________________\n",
            "global_average_pooling1d_7 (Glo (None, 300)          0           conv1d_5[0][0]                   \n",
            "__________________________________________________________________________________________________\n",
            "global_average_pooling1d_5 (Glo (None, 300)          0           conv1d_3[0][0]                   \n",
            "__________________________________________________________________________________________________\n",
            "global_average_pooling1d_8 (Glo (None, 300)          0           conv1d_6[0][0]                   \n",
            "__________________________________________________________________________________________________\n",
            "concatenate_4 (Concatenate)     (None, 1200)         0           global_max_pooling1d_7[0][0]     \n",
            "                                                                 global_max_pooling1d_8[0][0]     \n",
            "                                                                 global_max_pooling1d_9[0][0]     \n",
            "                                                                 global_max_pooling1d_10[0][0]    \n",
            "__________________________________________________________________________________________________\n",
            "concatenate_5 (Concatenate)     (None, 1200)         0           attention_weighted_average_1[0][0\n",
            "                                                                 attention_weighted_average_2[0][0\n",
            "                                                                 attention_weighted_average_3[0][0\n",
            "                                                                 attention_weighted_average_4[0][0\n",
            "__________________________________________________________________________________________________\n",
            "concatenate_6 (Concatenate)     (None, 1200)         0           global_average_pooling1d_6[0][0] \n",
            "                                                                 global_average_pooling1d_7[0][0] \n",
            "                                                                 global_average_pooling1d_5[0][0] \n",
            "                                                                 global_average_pooling1d_8[0][0] \n",
            "__________________________________________________________________________________________________\n",
            "concatenate_7 (Concatenate)     (None, 3600)         0           concatenate_4[0][0]              \n",
            "                                                                 concatenate_5[0][0]              \n",
            "                                                                 concatenate_6[0][0]              \n",
            "__________________________________________________________________________________________________\n",
            "dropout_3 (Dropout)             (None, 3600)         0           concatenate_7[0][0]              \n",
            "__________________________________________________________________________________________________\n",
            "dense_8 (Dense)                 (None, 144)          518544      dropout_3[0][0]                  \n",
            "__________________________________________________________________________________________________\n",
            "activation_1 (Activation)       (None, 144)          0           dense_8[0][0]                    \n",
            "__________________________________________________________________________________________________\n",
            "dense_9 (Dense)                 (None, 6)            870         activation_1[0][0]               \n",
            "==================================================================================================\n",
            "Total params: 31,421,814\n",
            "Trainable params: 1,421,814\n",
            "Non-trainable params: 30,000,000\n",
            "__________________________________________________________________________________________________\n"
          ],
          "name": "stdout"
        }
      ]
    },
    {
      "cell_type": "code",
      "metadata": {
        "id": "SpFmPr1EyoVK",
        "colab_type": "code",
        "colab": {
          "base_uri": "https://localhost:8080/",
          "height": 1000
        },
        "outputId": "3ffc93c7-4b4c-46f8-b8e2-22203cedb9e2"
      },
      "source": [
        "%%time\n",
        "history = model.fit(X_tra, y_tra, batch_size=batch_size, epochs=epochs, validation_data=(X_val, y_val),callbacks = callbacks_list,verbose=1)"
      ],
      "execution_count": 245,
      "outputs": [
        {
          "output_type": "stream",
          "text": [
            "Train on 143613 samples, validate on 15958 samples\n",
            "Epoch 1/10\n",
            "143613/143613 [==============================] - 41s 285us/step - loss: 0.0598 - accuracy: 0.9789 - val_loss: 0.0440 - val_accuracy: 0.9830\n",
            "\n",
            " ROC-AUC - epoch: 1 - score: 0.982858\n",
            "\n",
            "Epoch 00001: val_accuracy improved from -inf to 0.98304, saving model to avcnn_model.hdf5\n",
            "Epoch 2/10\n",
            "143613/143613 [==============================] - 40s 278us/step - loss: 0.0456 - accuracy: 0.9823 - val_loss: 0.0412 - val_accuracy: 0.9839\n",
            "\n",
            " ROC-AUC - epoch: 2 - score: 0.986951\n",
            "\n",
            "Epoch 00002: val_accuracy improved from 0.98304 to 0.98391, saving model to avcnn_model.hdf5\n",
            "Epoch 3/10\n",
            "143613/143613 [==============================] - 40s 278us/step - loss: 0.0435 - accuracy: 0.9831 - val_loss: 0.0435 - val_accuracy: 0.9823\n",
            "\n",
            " ROC-AUC - epoch: 3 - score: 0.988245\n",
            "\n",
            "Epoch 00003: val_accuracy did not improve from 0.98391\n",
            "Epoch 4/10\n",
            "143613/143613 [==============================] - 40s 278us/step - loss: 0.0419 - accuracy: 0.9836 - val_loss: 0.0405 - val_accuracy: 0.9839\n",
            "\n",
            " ROC-AUC - epoch: 4 - score: 0.988670\n",
            "\n",
            "Epoch 00004: val_accuracy improved from 0.98391 to 0.98395, saving model to avcnn_model.hdf5\n",
            "Epoch 5/10\n",
            "143613/143613 [==============================] - 40s 279us/step - loss: 0.0406 - accuracy: 0.9840 - val_loss: 0.0407 - val_accuracy: 0.9834\n",
            "\n",
            " ROC-AUC - epoch: 5 - score: 0.988077\n",
            "\n",
            "Epoch 00005: val_accuracy did not improve from 0.98395\n",
            "Epoch 6/10\n",
            "143613/143613 [==============================] - 40s 278us/step - loss: 0.0396 - accuracy: 0.9842 - val_loss: 0.0408 - val_accuracy: 0.9833\n",
            "\n",
            " ROC-AUC - epoch: 6 - score: 0.987714\n",
            "\n",
            "Epoch 00006: val_accuracy did not improve from 0.98395\n",
            "Epoch 7/10\n",
            "143613/143613 [==============================] - 40s 279us/step - loss: 0.0388 - accuracy: 0.9846 - val_loss: 0.0402 - val_accuracy: 0.9838\n",
            "\n",
            " ROC-AUC - epoch: 7 - score: 0.987887\n",
            "\n",
            "Epoch 00007: val_accuracy did not improve from 0.98395\n",
            "Epoch 8/10\n",
            "143613/143613 [==============================] - 40s 279us/step - loss: 0.0378 - accuracy: 0.9848 - val_loss: 0.0401 - val_accuracy: 0.9838\n",
            "\n",
            " ROC-AUC - epoch: 8 - score: 0.987973\n",
            "\n",
            "Epoch 00008: val_accuracy did not improve from 0.98395\n",
            "Epoch 9/10\n",
            "143613/143613 [==============================] - 40s 279us/step - loss: 0.0370 - accuracy: 0.9850 - val_loss: 0.0394 - val_accuracy: 0.9841\n",
            "\n",
            " ROC-AUC - epoch: 9 - score: 0.988420\n",
            "\n",
            "Epoch 00009: val_accuracy improved from 0.98395 to 0.98412, saving model to avcnn_model.hdf5\n",
            "Epoch 10/10\n",
            "143613/143613 [==============================] - 40s 279us/step - loss: 0.0359 - accuracy: 0.9855 - val_loss: 0.0395 - val_accuracy: 0.9842\n",
            "\n",
            " ROC-AUC - epoch: 10 - score: 0.988001\n",
            "\n",
            "Epoch 00010: val_accuracy improved from 0.98412 to 0.98419, saving model to avcnn_model.hdf5\n",
            "CPU times: user 5min 8s, sys: 1min 53s, total: 7min 2s\n",
            "Wall time: 7min 5s\n"
          ],
          "name": "stdout"
        }
      ]
    },
    {
      "cell_type": "code",
      "metadata": {
        "id": "Nl5yEUI6zN1z",
        "colab_type": "code",
        "colab": {
          "base_uri": "https://localhost:8080/",
          "height": 297
        },
        "outputId": "756937e9-35c1-4def-88f2-1ff01356818e"
      },
      "source": [
        "get_plots(history)"
      ],
      "execution_count": 246,
      "outputs": [
        {
          "output_type": "display_data",
          "data": {
            "image/png": "[encoded data removed]",
            "text/plain": [
              "<Figure size 432x288 with 2 Axes>"
            ]
          },
          "metadata": {
            "tags": [],
            "needs_background": "light"
          }
        }
      ]
    },
    {
      "cell_type": "code",
      "metadata": {
        "id": "pIfdoYYv3bgj",
        "colab_type": "code",
        "colab": {
          "base_uri": "https://localhost:8080/",
          "height": 33
        },
        "outputId": "bcdeb24c-7b18-4644-9658-923e910a0154"
      },
      "source": [
        "model.load_weights(\"avcnn_model.hdf5\")\n",
        "y_pred = model.predict(x_test,batch_size=1024,verbose=1)"
      ],
      "execution_count": 247,
      "outputs": [
        {
          "output_type": "stream",
          "text": [
            "153164/153164 [==============================] - 11s 75us/step\n"
          ],
          "name": "stdout"
        }
      ]
    },
    {
      "cell_type": "code",
      "metadata": {
        "id": "HmJ768nH3rXj",
        "colab_type": "code",
        "colab": {
          "base_uri": "https://localhost:8080/",
          "height": 33
        },
        "outputId": "eb35da75-e56f-4ac9-cca5-047fd3d702a9"
      },
      "source": [
        "predict_scores(y_pred)"
      ],
      "execution_count": 248,
      "outputs": [
        {
          "output_type": "stream",
          "text": [
            "Test set score is 0.9835338048758139\n"
          ],
          "name": "stdout"
        }
      ]
    },
    {
      "cell_type": "code",
      "metadata": {
        "id": "tNm1iBE50mYr",
        "colab_type": "code",
        "colab": {
          "base_uri": "https://localhost:8080/",
          "height": 33
        },
        "outputId": "e58b5127-d55f-4539-c5f5-d2f1f122f79d"
      },
      "source": [
        "gc.collect()"
      ],
      "execution_count": 249,
      "outputs": [
        {
          "output_type": "execute_result",
          "data": {
            "text/plain": [
              "5263"
            ]
          },
          "metadata": {
            "tags": []
          },
          "execution_count": 249
        }
      ]
    },
    {
      "cell_type": "markdown",
      "metadata": {
        "id": "955Zwxv3OSCG",
        "colab_type": "text"
      },
      "source": [
        "### **Pooled RNN Complex Model**\n",
        "\n",
        "This is a deep neural architechture with multiple **Gated Recurrent Network (GRU)** layers.\n"
      ]
    },
    {
      "cell_type": "code",
      "metadata": {
        "id": "wtnxdPa6vAIo",
        "colab_type": "code",
        "colab": {}
      },
      "source": [
        "from keras.layers import Lambda\n",
        "def get_av_rnn():\n",
        "    recurrent_units = 60\n",
        "    model_input = Input(shape=(maxlen,))\n",
        "    embedding_layer = Embedding(num_words,\n",
        "                                    embed_size,\n",
        "                                    weights=[embedding_matrix],\n",
        "                                    input_length=maxlen,\n",
        "                                    trainable=False)\n",
        "    embedded_sequences = embedding_layer(model_input)\n",
        "    embedding_layer = SpatialDropout1D(0.25)(embedded_sequences)\n",
        "\n",
        "    rnn_1 = Bidirectional(GRU(recurrent_units, return_sequences=True))(embedding_layer)\n",
        "    rnn_2 = Bidirectional(GRU(recurrent_units, return_sequences=True))(rnn_1)\n",
        "    x = concatenate([rnn_1, rnn_2], axis=2)\n",
        "\n",
        "    last = Lambda(lambda t: t[:, -1], name='last')(x)\n",
        "    maxpool = GlobalMaxPooling1D()(x)\n",
        "    attn = AttentionWeightedAverage()(x)\n",
        "    average = GlobalAveragePooling1D()(x)\n",
        "\n",
        "    all_views = concatenate([last, maxpool, average, attn], axis=1)\n",
        "    x = Dropout(0.5)(all_views)\n",
        "    x = Dense(144, activation=\"relu\")(x)\n",
        "    output_layer = Dense(units=6, activation=\"sigmoid\")(x)\n",
        "    model = Model(inputs=model_input, outputs=output_layer)\n",
        "    adam_optimizer = optimizers.Adam(lr=1e-3, decay=1e-6, clipvalue=5)\n",
        "    model.compile(loss='binary_crossentropy', optimizer=adam_optimizer, metrics=['accuracy'])\n",
        "    return model"
      ],
      "execution_count": 0,
      "outputs": []
    },
    {
      "cell_type": "code",
      "metadata": {
        "id": "4KD5UfgVmb1c",
        "colab_type": "code",
        "colab": {}
      },
      "source": [
        "batch_size = 256\n",
        "epochs = 5\n",
        "\n",
        "model = get_av_rnn()\n",
        "\n",
        "# Use stratified sampling again\n",
        "X_tra, y_tra, X_val, y_val = iterative_train_test_split(x_train, y_train, test_size=0.1)"
      ],
      "execution_count": 0,
      "outputs": []
    },
    {
      "cell_type": "code",
      "metadata": {
        "id": "pFTi1jz8nf7o",
        "colab_type": "code",
        "colab": {}
      },
      "source": [
        "checkpoint = ModelCheckpoint(\"avrnn_model.hdf5\", monitor='val_accuracy', verbose=1, save_best_only=True, mode='max')\n",
        "early = EarlyStopping(monitor=\"val_accuracy\", mode=\"max\", patience=5)\n",
        "ra_val = RocAucEvaluation(validation_data=(X_val, y_val), interval = 1)\n",
        "callbacks_list = [ra_val,checkpoint, early]"
      ],
      "execution_count": 0,
      "outputs": []
    },
    {
      "cell_type": "code",
      "metadata": {
        "id": "FtAZV6kUnmCA",
        "colab_type": "code",
        "colab": {
          "base_uri": "https://localhost:8080/",
          "height": 667
        },
        "outputId": "e7ba8618-a4e0-489a-ef87-5ac392278135"
      },
      "source": [
        "model.summary()"
      ],
      "execution_count": 253,
      "outputs": [
        {
          "output_type": "stream",
          "text": [
            "Model: \"model_7\"\n",
            "__________________________________________________________________________________________________\n",
            "Layer (type)                    Output Shape         Param #     Connected to                     \n",
            "==================================================================================================\n",
            "input_7 (InputLayer)            (None, 200)          0                                            \n",
            "__________________________________________________________________________________________________\n",
            "embedding_7 (Embedding)         (None, 200, 300)     30000000    input_7[0][0]                    \n",
            "__________________________________________________________________________________________________\n",
            "spatial_dropout1d_5 (SpatialDro (None, 200, 300)     0           embedding_7[0][0]                \n",
            "__________________________________________________________________________________________________\n",
            "bidirectional_8 (Bidirectional) (None, 200, 120)     129960      spatial_dropout1d_5[0][0]        \n",
            "__________________________________________________________________________________________________\n",
            "bidirectional_9 (Bidirectional) (None, 200, 120)     65160       bidirectional_8[0][0]            \n",
            "__________________________________________________________________________________________________\n",
            "concatenate_8 (Concatenate)     (None, 200, 240)     0           bidirectional_8[0][0]            \n",
            "                                                                 bidirectional_9[0][0]            \n",
            "__________________________________________________________________________________________________\n",
            "last (Lambda)                   (None, 240)          0           concatenate_8[0][0]              \n",
            "__________________________________________________________________________________________________\n",
            "global_max_pooling1d_11 (Global (None, 240)          0           concatenate_8[0][0]              \n",
            "__________________________________________________________________________________________________\n",
            "global_average_pooling1d_9 (Glo (None, 240)          0           concatenate_8[0][0]              \n",
            "__________________________________________________________________________________________________\n",
            "attention_weighted_average_5 (A (None, 240)          240         concatenate_8[0][0]              \n",
            "__________________________________________________________________________________________________\n",
            "concatenate_9 (Concatenate)     (None, 960)          0           last[0][0]                       \n",
            "                                                                 global_max_pooling1d_11[0][0]    \n",
            "                                                                 global_average_pooling1d_9[0][0] \n",
            "                                                                 attention_weighted_average_5[0][0\n",
            "__________________________________________________________________________________________________\n",
            "dropout_4 (Dropout)             (None, 960)          0           concatenate_9[0][0]              \n",
            "__________________________________________________________________________________________________\n",
            "dense_10 (Dense)                (None, 144)          138384      dropout_4[0][0]                  \n",
            "__________________________________________________________________________________________________\n",
            "dense_11 (Dense)                (None, 6)            870         dense_10[0][0]                   \n",
            "==================================================================================================\n",
            "Total params: 30,334,614\n",
            "Trainable params: 334,614\n",
            "Non-trainable params: 30,000,000\n",
            "__________________________________________________________________________________________________\n"
          ],
          "name": "stdout"
        }
      ]
    },
    {
      "cell_type": "code",
      "metadata": {
        "id": "pisOc-PwnpT1",
        "colab_type": "code",
        "colab": {
          "base_uri": "https://localhost:8080/",
          "height": 553
        },
        "outputId": "e3cc0d29-49c7-418c-8e45-7a57ba30e795"
      },
      "source": [
        "%%time\n",
        "history = avrnmodeln_model.fit(X_tra, y_tra, batch_size=batch_size, epochs=epochs, validation_data=(X_val, y_val),callbacks = callbacks_list,verbose=1)"
      ],
      "execution_count": 254,
      "outputs": [
        {
          "output_type": "stream",
          "text": [
            "Train on 143613 samples, validate on 15958 samples\n",
            "Epoch 1/5\n",
            "143613/143613 [==============================] - 1170s 8ms/step - loss: 0.0634 - accuracy: 0.9782 - val_loss: 0.0447 - val_accuracy: 0.9828\n",
            "\n",
            " ROC-AUC - epoch: 1 - score: 0.982736\n",
            "\n",
            "Epoch 00001: val_accuracy improved from -inf to 0.98284, saving model to avrnn_model.hdf5\n",
            "Epoch 2/5\n",
            "143613/143613 [==============================] - 1156s 8ms/step - loss: 0.0453 - accuracy: 0.9825 - val_loss: 0.0417 - val_accuracy: 0.9837\n",
            "\n",
            " ROC-AUC - epoch: 2 - score: 0.986742\n",
            "\n",
            "Epoch 00002: val_accuracy improved from 0.98284 to 0.98374, saving model to avrnn_model.hdf5\n",
            "Epoch 3/5\n",
            "143613/143613 [==============================] - 1158s 8ms/step - loss: 0.0428 - accuracy: 0.9832 - val_loss: 0.0415 - val_accuracy: 0.9836\n",
            "\n",
            " ROC-AUC - epoch: 3 - score: 0.988347\n",
            "\n",
            "Epoch 00003: val_accuracy did not improve from 0.98374\n",
            "Epoch 4/5\n",
            "143613/143613 [==============================] - 1152s 8ms/step - loss: 0.0410 - accuracy: 0.9839 - val_loss: 0.0396 - val_accuracy: 0.9843\n",
            "\n",
            " ROC-AUC - epoch: 4 - score: 0.988611\n",
            "\n",
            "Epoch 00004: val_accuracy improved from 0.98374 to 0.98430, saving model to avrnn_model.hdf5\n",
            "Epoch 5/5\n",
            "143613/143613 [==============================] - 1161s 8ms/step - loss: 0.0397 - accuracy: 0.9843 - val_loss: 0.0391 - val_accuracy: 0.9847\n",
            "\n",
            " ROC-AUC - epoch: 5 - score: 0.988530\n",
            "\n",
            "Epoch 00005: val_accuracy improved from 0.98430 to 0.98471, saving model to avrnn_model.hdf5\n",
            "CPU times: user 3h 37min 5s, sys: 33min 19s, total: 4h 10min 25s\n",
            "Wall time: 1h 43min 32s\n"
          ],
          "name": "stdout"
        }
      ]
    },
    {
      "cell_type": "code",
      "metadata": {
        "id": "pifYwvzWnv_Y",
        "colab_type": "code",
        "colab": {
          "base_uri": "https://localhost:8080/",
          "height": 297
        },
        "outputId": "83ab653e-d0ce-428c-bd6a-b24ef574669b"
      },
      "source": [
        "get_plots(history)"
      ],
      "execution_count": 255,
      "outputs": [
        {
          "output_type": "display_data",
          "data": {
            "image/png": "[encoded data removed]",
            "text/plain": [
              "<Figure size 432x288 with 2 Axes>"
            ]
          },
          "metadata": {
            "tags": [],
            "needs_background": "light"
          }
        }
      ]
    },
    {
      "cell_type": "code",
      "metadata": {
        "id": "OPN5Bx4voF3b",
        "colab_type": "code",
        "colab": {
          "base_uri": "https://localhost:8080/",
          "height": 33
        },
        "outputId": "61caae5e-5ebf-4c9b-d387-daf44e1b3f27"
      },
      "source": [
        "model.load_weights(\"avrnn_model.hdf5\")\n",
        "y_pred = model.predict(x_test,batch_size=1024,verbose=1)"
      ],
      "execution_count": 256,
      "outputs": [
        {
          "output_type": "stream",
          "text": [
            "153164/153164 [==============================] - 26s 172us/step\n"
          ],
          "name": "stdout"
        }
      ]
    },
    {
      "cell_type": "code",
      "metadata": {
        "id": "Eq_joeM5oMFv",
        "colab_type": "code",
        "colab": {
          "base_uri": "https://localhost:8080/",
          "height": 33
        },
        "outputId": "425b4fe8-5e5c-4ed3-feeb-c269760b6c96"
      },
      "source": [
        "predict_scores(y_pred)"
      ],
      "execution_count": 257,
      "outputs": [
        {
          "output_type": "stream",
          "text": [
            "Test set score is 0.9842821196109547\n"
          ],
          "name": "stdout"
        }
      ]
    },
    {
      "cell_type": "code",
      "metadata": {
        "id": "zm4WiAUdoRLG",
        "colab_type": "code",
        "colab": {
          "base_uri": "https://localhost:8080/",
          "height": 33
        },
        "outputId": "2f4c0e15-96f7-4782-e177-00c7db05d83a"
      },
      "source": [
        "gc.collect()"
      ],
      "execution_count": 258,
      "outputs": [
        {
          "output_type": "execute_result",
          "data": {
            "text/plain": [
              "5289"
            ]
          },
          "metadata": {
            "tags": []
          },
          "execution_count": 258
        }
      ]
    },
    {
      "cell_type": "markdown",
      "metadata": {
        "id": "mr4tQ8T5KuGt",
        "colab_type": "text"
      },
      "source": [
        "### **Deep CNN with K-Max Pooling**\n",
        "\n",
        "As per [A Convolutional Neural Network for Modelling Sentences](https://arxiv.org/pdf/1404.2188.pdf), k-Max Pooling is a pooling operation that is a generalisation of the max pooling over the time dimension used in the Max-TDNN sentence model and different from the local max pooling operations applied in a convolutional network for object recognition. Here we implement a deep CNN network with K-Max pooling.\n",
        "\n",
        "![image](https://drive.google.com/open?id=11RzC6SopVgp6_d09q-pJjwTfh8iR6x6G)"
      ]
    },
    {
      "cell_type": "code",
      "metadata": {
        "id": "5oRgydKcWDUm",
        "colab_type": "code",
        "colab": {}
      },
      "source": [
        "class KMaxPooling(Layer):\n",
        "    \"\"\"\n",
        "    K-max pooling layer that extracts the k-highest activations from a sequence (2nd dimension).\n",
        "    TensorFlow backend.\n",
        "    \"\"\"\n",
        "\n",
        "    def __init__(self, k=1, **kwargs):\n",
        "        super().__init__(**kwargs)\n",
        "        self.input_spec = InputSpec(ndim=3)\n",
        "        self.k = k\n",
        "\n",
        "    def compute_output_shape(self, input_shape):\n",
        "        return (input_shape[0], (input_shape[2] * self.k))\n",
        "\n",
        "    def call(self, inputs):\n",
        "        # swap last two dimensions since top_k will be applied along the last dimension\n",
        "        shifted_input = tf.transpose(inputs, [0, 2, 1])\n",
        "\n",
        "        # extract top_k, returns two tensors [values, indices]\n",
        "        top_k = tf.nn.top_k(shifted_input, k=self.k, sorted=True, name=None)[0]\n",
        "\n",
        "        # return flattened output\n",
        "        return Flatten()(top_k)"
      ],
      "execution_count": 0,
      "outputs": []
    },
    {
      "cell_type": "code",
      "metadata": {
        "id": "nLDtb8JHARF-",
        "colab_type": "code",
        "colab": {}
      },
      "source": [
        "def get_kmax_text_cnn():\n",
        "    embedding_layer = Embedding(num_words,\n",
        "                                    embed_size,\n",
        "                                    weights=[embedding_matrix],\n",
        "                                    input_length=maxlen,\n",
        "                                    trainable=False)\n",
        "\n",
        "    filter_nums = 180\n",
        "    drop = 0.6\n",
        "\n",
        "    model_input = Input(shape=(maxlen,), dtype='int32')\n",
        "    embedded_sequences = embedding_layer(model_input)\n",
        "    embedded_sequences = SpatialDropout1D(0.2)(embedded_sequences)\n",
        "\n",
        "    conv_0 = Conv1D(filter_nums, 1, kernel_initializer=\"normal\", padding=\"valid\", activation=\"relu\")(embedded_sequences)\n",
        "    conv_1 = Conv1D(filter_nums, 2, kernel_initializer=\"normal\", padding=\"valid\", activation=\"relu\")(embedded_sequences)\n",
        "    conv_2 = Conv1D(filter_nums, 3, kernel_initializer=\"normal\", padding=\"valid\", activation=\"relu\")(embedded_sequences)\n",
        "    conv_3 = Conv1D(filter_nums, 4, kernel_initializer=\"normal\", padding=\"valid\", activation=\"relu\")(embedded_sequences)\n",
        "\n",
        "    maxpool_0 = KMaxPooling(k=3)(conv_0)\n",
        "    maxpool_1 = KMaxPooling(k=3)(conv_1)\n",
        "    maxpool_2 = KMaxPooling(k=3)(conv_2)\n",
        "    maxpool_3 = KMaxPooling(k=3)(conv_3)\n",
        "\n",
        "    merged_tensor = concatenate([maxpool_0, maxpool_1, maxpool_2, maxpool_3], axis=1)\n",
        "    output = Dropout(drop)(merged_tensor)\n",
        "    output = Dense(units=144, activation='relu')(output)\n",
        "    output = Dense(units=6, activation='sigmoid')(output)\n",
        "\n",
        "    model = Model(inputs=model_input, outputs=output)\n",
        "    adam_optimizer = optimizers.Adam(lr=1e-3, decay=1e-7)\n",
        "    model.compile(loss='binary_crossentropy', optimizer=adam_optimizer, metrics=['accuracy'])\n",
        "    return model"
      ],
      "execution_count": 0,
      "outputs": []
    },
    {
      "cell_type": "code",
      "metadata": {
        "id": "JyDfzanm3JJB",
        "colab_type": "code",
        "colab": {}
      },
      "source": [
        "batch_size = 256\n",
        "epochs = 10\n",
        "\n",
        "model = get_kmax_text_cnn()\n",
        "\n",
        "# Use stratified sampling again\n",
        "X_tra, y_tra, X_val, y_val = iterative_train_test_split(x_train, y_train, test_size=0.1)"
      ],
      "execution_count": 0,
      "outputs": []
    },
    {
      "cell_type": "code",
      "metadata": {
        "id": "6tDFw2gK3Syq",
        "colab_type": "code",
        "colab": {}
      },
      "source": [
        "checkpoint = ModelCheckpoint(\"kmaxcnn_model.hdf5\", monitor='val_accuracy', verbose=1, save_best_only=True, mode='max')\n",
        "early = EarlyStopping(monitor=\"val_accuracy\", mode=\"max\", patience=5)\n",
        "ra_val = RocAucEvaluation(validation_data=(X_val, y_val), interval = 1)\n",
        "callbacks_list = [ra_val,checkpoint, early]"
      ],
      "execution_count": 0,
      "outputs": []
    },
    {
      "cell_type": "code",
      "metadata": {
        "id": "PcoGfX0M3akU",
        "colab_type": "code",
        "colab": {
          "base_uri": "https://localhost:8080/",
          "height": 683
        },
        "outputId": "44eb1220-dfbe-4915-cc34-d5d2cae37f43"
      },
      "source": [
        "model.summary()"
      ],
      "execution_count": 263,
      "outputs": [
        {
          "output_type": "stream",
          "text": [
            "Model: \"model_8\"\n",
            "__________________________________________________________________________________________________\n",
            "Layer (type)                    Output Shape         Param #     Connected to                     \n",
            "==================================================================================================\n",
            "input_8 (InputLayer)            (None, 200)          0                                            \n",
            "__________________________________________________________________________________________________\n",
            "embedding_8 (Embedding)         (None, 200, 300)     30000000    input_8[0][0]                    \n",
            "__________________________________________________________________________________________________\n",
            "spatial_dropout1d_6 (SpatialDro (None, 200, 300)     0           embedding_8[0][0]                \n",
            "__________________________________________________________________________________________________\n",
            "conv1d_7 (Conv1D)               (None, 200, 180)     54180       spatial_dropout1d_6[0][0]        \n",
            "__________________________________________________________________________________________________\n",
            "conv1d_8 (Conv1D)               (None, 199, 180)     108180      spatial_dropout1d_6[0][0]        \n",
            "__________________________________________________________________________________________________\n",
            "conv1d_9 (Conv1D)               (None, 198, 180)     162180      spatial_dropout1d_6[0][0]        \n",
            "__________________________________________________________________________________________________\n",
            "conv1d_10 (Conv1D)              (None, 197, 180)     216180      spatial_dropout1d_6[0][0]        \n",
            "__________________________________________________________________________________________________\n",
            "k_max_pooling_1 (KMaxPooling)   (None, 540)          0           conv1d_7[0][0]                   \n",
            "__________________________________________________________________________________________________\n",
            "k_max_pooling_2 (KMaxPooling)   (None, 540)          0           conv1d_8[0][0]                   \n",
            "__________________________________________________________________________________________________\n",
            "k_max_pooling_3 (KMaxPooling)   (None, 540)          0           conv1d_9[0][0]                   \n",
            "__________________________________________________________________________________________________\n",
            "k_max_pooling_4 (KMaxPooling)   (None, 540)          0           conv1d_10[0][0]                  \n",
            "__________________________________________________________________________________________________\n",
            "concatenate_10 (Concatenate)    (None, 2160)         0           k_max_pooling_1[0][0]            \n",
            "                                                                 k_max_pooling_2[0][0]            \n",
            "                                                                 k_max_pooling_3[0][0]            \n",
            "                                                                 k_max_pooling_4[0][0]            \n",
            "__________________________________________________________________________________________________\n",
            "dropout_5 (Dropout)             (None, 2160)         0           concatenate_10[0][0]             \n",
            "__________________________________________________________________________________________________\n",
            "dense_12 (Dense)                (None, 144)          311184      dropout_5[0][0]                  \n",
            "__________________________________________________________________________________________________\n",
            "dense_13 (Dense)                (None, 6)            870         dense_12[0][0]                   \n",
            "==================================================================================================\n",
            "Total params: 30,852,774\n",
            "Trainable params: 852,774\n",
            "Non-trainable params: 30,000,000\n",
            "__________________________________________________________________________________________________\n"
          ],
          "name": "stdout"
        }
      ]
    },
    {
      "cell_type": "code",
      "metadata": {
        "id": "0wiRgYV_3kx0",
        "colab_type": "code",
        "colab": {
          "base_uri": "https://localhost:8080/",
          "height": 1000
        },
        "outputId": "adb82a66-4a3b-46ed-fcec-f729b8333eca"
      },
      "source": [
        "%%time\n",
        "history = model.fit(X_tra, y_tra, batch_size=batch_size, epochs=epochs, validation_data=(X_val, y_val),callbacks = callbacks_list,verbose=1)"
      ],
      "execution_count": 264,
      "outputs": [
        {
          "output_type": "stream",
          "text": [
            "Train on 143613 samples, validate on 15958 samples\n",
            "Epoch 1/10\n",
            "143613/143613 [==============================] - 124s 863us/step - loss: 0.0638 - accuracy: 0.9786 - val_loss: 0.0453 - val_accuracy: 0.9822\n",
            "\n",
            " ROC-AUC - epoch: 1 - score: 0.981990\n",
            "\n",
            "Epoch 00001: val_accuracy improved from -inf to 0.98223, saving model to kmaxcnn_model.hdf5\n",
            "Epoch 2/10\n",
            "143613/143613 [==============================] - 123s 857us/step - loss: 0.0467 - accuracy: 0.9821 - val_loss: 0.0434 - val_accuracy: 0.9829\n",
            "\n",
            " ROC-AUC - epoch: 2 - score: 0.986519\n",
            "\n",
            "Epoch 00002: val_accuracy improved from 0.98223 to 0.98286, saving model to kmaxcnn_model.hdf5\n",
            "Epoch 3/10\n",
            "143613/143613 [==============================] - 123s 857us/step - loss: 0.0439 - accuracy: 0.9830 - val_loss: 0.0411 - val_accuracy: 0.9836\n",
            "\n",
            " ROC-AUC - epoch: 3 - score: 0.987062\n",
            "\n",
            "Epoch 00003: val_accuracy improved from 0.98286 to 0.98363, saving model to kmaxcnn_model.hdf5\n",
            "Epoch 4/10\n",
            "143613/143613 [==============================] - 123s 857us/step - loss: 0.0416 - accuracy: 0.9837 - val_loss: 0.0399 - val_accuracy: 0.9838\n",
            "\n",
            " ROC-AUC - epoch: 4 - score: 0.988316\n",
            "\n",
            "Epoch 00004: val_accuracy improved from 0.98363 to 0.98384, saving model to kmaxcnn_model.hdf5\n",
            "Epoch 5/10\n",
            "143613/143613 [==============================] - 123s 857us/step - loss: 0.0405 - accuracy: 0.9840 - val_loss: 0.0399 - val_accuracy: 0.9842\n",
            "\n",
            " ROC-AUC - epoch: 5 - score: 0.988451\n",
            "\n",
            "Epoch 00005: val_accuracy improved from 0.98384 to 0.98423, saving model to kmaxcnn_model.hdf5\n",
            "Epoch 6/10\n",
            "143613/143613 [==============================] - 123s 856us/step - loss: 0.0394 - accuracy: 0.9842 - val_loss: 0.0403 - val_accuracy: 0.9836\n",
            "\n",
            " ROC-AUC - epoch: 6 - score: 0.988534\n",
            "\n",
            "Epoch 00006: val_accuracy did not improve from 0.98423\n",
            "Epoch 7/10\n",
            "143613/143613 [==============================] - 123s 856us/step - loss: 0.0384 - accuracy: 0.9846 - val_loss: 0.0390 - val_accuracy: 0.9845\n",
            "\n",
            " ROC-AUC - epoch: 7 - score: 0.988537\n",
            "\n",
            "Epoch 00007: val_accuracy improved from 0.98423 to 0.98452, saving model to kmaxcnn_model.hdf5\n",
            "Epoch 8/10\n",
            "143613/143613 [==============================] - 123s 856us/step - loss: 0.0372 - accuracy: 0.9850 - val_loss: 0.0394 - val_accuracy: 0.9843\n",
            "\n",
            " ROC-AUC - epoch: 8 - score: 0.988293\n",
            "\n",
            "Epoch 00008: val_accuracy did not improve from 0.98452\n",
            "Epoch 9/10\n",
            "143613/143613 [==============================] - 123s 856us/step - loss: 0.0362 - accuracy: 0.9853 - val_loss: 0.0398 - val_accuracy: 0.9841\n",
            "\n",
            " ROC-AUC - epoch: 9 - score: 0.988419\n",
            "\n",
            "Epoch 00009: val_accuracy did not improve from 0.98452\n",
            "Epoch 10/10\n",
            "143613/143613 [==============================] - 123s 856us/step - loss: 0.0354 - accuracy: 0.9856 - val_loss: 0.0406 - val_accuracy: 0.9834\n",
            "\n",
            " ROC-AUC - epoch: 10 - score: 0.988501\n",
            "\n",
            "Epoch 00010: val_accuracy did not improve from 0.98452\n",
            "CPU times: user 5min 46s, sys: 1min 46s, total: 7min 33s\n",
            "Wall time: 22min 32s\n"
          ],
          "name": "stdout"
        }
      ]
    },
    {
      "cell_type": "code",
      "metadata": {
        "id": "rbqHBRMm3tLg",
        "colab_type": "code",
        "colab": {
          "base_uri": "https://localhost:8080/",
          "height": 297
        },
        "outputId": "4c14c2a0-d221-4b7d-99b0-75f5d9075693"
      },
      "source": [
        "get_plots(history)"
      ],
      "execution_count": 265,
      "outputs": [
        {
          "output_type": "display_data",
          "data": {
            "image/png": "[encoded data removed]",
            "text/plain": [
              "<Figure size 432x288 with 2 Axes>"
            ]
          },
          "metadata": {
            "tags": [],
            "needs_background": "light"
          }
        }
      ]
    },
    {
      "cell_type": "code",
      "metadata": {
        "id": "dmqwtMQ930Bl",
        "colab_type": "code",
        "colab": {
          "base_uri": "https://localhost:8080/",
          "height": 33
        },
        "outputId": "50b125ec-ba90-4b94-8135-cab066502cb4"
      },
      "source": [
        "model.load_weights(\"kmaxcnn_model.hdf5\")\n",
        "y_pred = model.predict(x_test,batch_size=1024,verbose=1)"
      ],
      "execution_count": 266,
      "outputs": [
        {
          "output_type": "stream",
          "text": [
            "153164/153164 [==============================] - 103s 673us/step\n"
          ],
          "name": "stdout"
        }
      ]
    },
    {
      "cell_type": "code",
      "metadata": {
        "id": "fImeS0Iu36KA",
        "colab_type": "code",
        "colab": {
          "base_uri": "https://localhost:8080/",
          "height": 33
        },
        "outputId": "0ccbae8c-5df3-4afa-820c-fa197c63096a"
      },
      "source": [
        "predict_scores(y_pred)"
      ],
      "execution_count": 267,
      "outputs": [
        {
          "output_type": "stream",
          "text": [
            "Test set score is 0.9840455134115828\n"
          ],
          "name": "stdout"
        }
      ]
    },
    {
      "cell_type": "code",
      "metadata": {
        "id": "dbUebta54JF9",
        "colab_type": "code",
        "colab": {
          "base_uri": "https://localhost:8080/",
          "height": 33
        },
        "outputId": "e3981288-c2df-45e6-fcfc-a8f509c27a56"
      },
      "source": [
        "gc.collect()"
      ],
      "execution_count": 268,
      "outputs": [
        {
          "output_type": "execute_result",
          "data": {
            "text/plain": [
              "24345"
            ]
          },
          "metadata": {
            "tags": []
          },
          "execution_count": 268
        }
      ]
    },
    {
      "cell_type": "markdown",
      "metadata": {
        "id": "Rvc0d6sIXYU2",
        "colab_type": "text"
      },
      "source": [
        "### **Results with Fast-Text Embeddings**\n",
        "\n",
        "After first round of experiment, we take a look at the performance of the models. We used **iterative_train_test_split** from the scikit-multilearn package to keep the toxicity labels evenly distributed between training and validation sets. We used the the custom function to calclated ROC-AUC Score on the test data set.\n",
        "\n",
        "Here's our results:-\n",
        "\n",
        "\n",
        "| Model               | Test-set ROC AUC score |\n",
        "|---------------------|------------------------|\n",
        "| Logistic Regression | 0.9765                 |\n",
        "| Support Vector Machine          | 0.9728                |\n",
        "| Single Bi-LSTM        | 0.9826                 |\n",
        "| Single GRU          | 0.9828                |\n",
        "| GRU with CNN       | 0.9836                 |\n",
        "| Deep CNN           | 0.9834                 |\n",
        "| Deep RNN          | 0.9833                 |\n",
        "| Deep CNN with KMax Pooling          | 0.9842                 |\n",
        "\n",
        "\n",
        "\n",
        "Time Performance\n",
        "\n",
        "| Model               | Hardware| Epochs |Time |\n",
        "|---------------------|------------------------|------------------------|------------------------|\n",
        "| Logistic Regression | CPU     |              | 12 mins|\n",
        "| Support Vector Machine          | CPU      |            | 14 mins|\n",
        "| Single Bi-LSTM        | GPU        |     3      | 34 mins|\n",
        "| Single GRU           | GPU           |   3   |   1hr 1min  | \n",
        "| GRU with CNN        | GPU       |   3       |     |\n",
        "| Deep CNN           |GPU         |     10    |    |\n",
        "| Deep RNN        | GPU        |     3     |     |\n",
        "| Deep CNN with KMax Pooling          | GPU        |     10     |     |\n",
        "\n",
        "What we can observe is the neural newtork models performed much better than the benchmark model.\n",
        "\n",
        "For the second round of experminents, we will select the Top four Performing models from the First Round.\n",
        "\n",
        "\n",
        "\n",
        "\n",
        "\n",
        "*   GRU with CNN\n",
        "*   Deep CNN\n",
        "*   Deep RNN\n",
        "*   Deep CNN with KMax Pooling\n",
        "\n",
        "\n",
        "\n",
        "\n",
        "\n"
      ]
    },
    {
      "cell_type": "markdown",
      "metadata": {
        "id": "YYGqi-Yd4XDB",
        "colab_type": "text"
      },
      "source": [
        "## **A Little More Experminent**\n",
        "\n",
        "In this section, we will utilise the top four models from previous round and will try to improve our performance.\n",
        "\n",
        "We will perform three methodologies here:-\n",
        "\n",
        "\n",
        "*   **Diversify** Word Embeddings\n",
        "*   **Re-train** using new diversified Word Embeddings\n",
        "* **Ensemble** the top two models.\n",
        "\n"
      ]
    },
    {
      "cell_type": "markdown",
      "metadata": {
        "id": "-4sTSm_rRbNr",
        "colab_type": "text"
      },
      "source": [
        "### **Diversify Pre-trained Word Embeddings**\n",
        "\n",
        "We will use another pre-trained Word Embedding [GloVe: Global Vectors for Word Representation](https://nlp.stanford.edu/projects/glove/) - Common Crawl (840B tokens, 2.2M vocab, cased, 300d vectors. You can download it [here](http://nlp.stanford.edu/data/glove.840B.300d.zip).\n",
        "\n",
        "**GloVe** is an unsupervised learning algorithm for obtaining vector representations for words. Training is performed on aggregated global word-word co-occurrence statistics from a corpus, and the resulting representations showcase interesting linear substructures of the word vector space.\n",
        "\n",
        "Sp, here we will use both a **GloVe** vector and a **FastText** together. "
      ]
    },
    {
      "cell_type": "code",
      "metadata": {
        "id": "rsxajSBD4Oez",
        "colab_type": "code",
        "outputId": "b3da71fe-b2be-4b2b-8eba-f0705e79d0ac",
        "colab": {
          "base_uri": "https://localhost:8080/",
          "height": 33
        }
      },
      "source": [
        "!ls \"/content/drive/My Drive/toxicity-classification/embedding/\""
      ],
      "execution_count": 0,
      "outputs": [
        {
          "output_type": "stream",
          "text": [
            "crawl-300d-2M.vec  glove.840B.300d.txt\n"
          ],
          "name": "stdout"
        }
      ]
    },
    {
      "cell_type": "code",
      "metadata": {
        "id": "NkZrn7nZSaqt",
        "colab_type": "code",
        "colab": {}
      },
      "source": [
        "# pre-trained embedding models\n",
        "EMBEDDING_FILES = [\n",
        "    '/content/drive/My Drive/toxicity-classification/embedding//crawl-300d-2M.vec',\n",
        "    '/content/drive/My Drive/toxicity-classification/embedding/glove.840B.300d.txt'\n",
        "]\n",
        "\n"
      ],
      "execution_count": 0,
      "outputs": []
    },
    {
      "cell_type": "code",
      "metadata": {
        "id": "_gD-nRtU4dki",
        "colab_type": "code",
        "colab": {}
      },
      "source": [
        "from keras.preprocessing.text import Tokenizer\n",
        "\n",
        "# ---\n",
        "# embedding\n",
        "# ---\n",
        "\n",
        "def get_emdbeddings_index(EMBEDDING_FILE):\n",
        "    embeddings_index = {}\n",
        "    with open(EMBEDDING_FILE, encoding='utf8') as f:\n",
        "        for line in f:\n",
        "            values = line.rstrip().rsplit(' ')\n",
        "            word = values[0]\n",
        "            coefs = np.asarray(values[1:], dtype='float32')\n",
        "            embeddings_index[word] = coefs\n",
        "    return embeddings_index\n",
        "\n",
        "def build_matrix(word_index, path):\n",
        "    # create the embedding matrix \n",
        "    word_index = word_index\n",
        "    embeddings_index = get_emdbeddings_index(path)\n",
        "    num_words = min(max_features, len(word_index) + 1)\n",
        "    embedding_matrix = np.zeros((num_words, embed_size)) # set not found words to vector of zeros in embedding\n",
        "    for word, i in word_index.items():\n",
        "        if i >= max_features:\n",
        "            continue\n",
        "        embedding_vector = embeddings_index.get(word)\n",
        "        if embedding_vector is not None:\n",
        "            embedding_matrix[i] = embedding_vector\n",
        "    return embedding_matrix"
      ],
      "execution_count": 0,
      "outputs": []
    },
    {
      "cell_type": "code",
      "metadata": {
        "id": "j_mbgAUwhR3o",
        "colab_type": "code",
        "outputId": "ea2e54fd-505e-49cc-d8e6-749d09702ef8",
        "colab": {
          "base_uri": "https://localhost:8080/",
          "height": 50
        }
      },
      "source": [
        "%%time\n",
        "#fasttext \n",
        "\n",
        "fastext = build_matrix(token.word_index, EMBEDDING_FILES[0]) \n",
        "gc.collect()"
      ],
      "execution_count": 0,
      "outputs": [
        {
          "output_type": "stream",
          "text": [
            "CPU times: user 2min 26s, sys: 7.12 s, total: 2min 34s\n",
            "Wall time: 2min 35s\n"
          ],
          "name": "stdout"
        }
      ]
    },
    {
      "cell_type": "code",
      "metadata": {
        "id": "L692S9edhXlA",
        "colab_type": "code",
        "outputId": "aae779d4-4016-45e9-ebc0-050d173764ce",
        "colab": {
          "base_uri": "https://localhost:8080/",
          "height": 50
        }
      },
      "source": [
        "%%time\n",
        "#glove\n",
        "glove = build_matrix(token.word_index, EMBEDDING_FILES[0]) \n",
        "gc.collect()\n"
      ],
      "execution_count": 0,
      "outputs": [
        {
          "output_type": "stream",
          "text": [
            "CPU times: user 2min 28s, sys: 7.06 s, total: 2min 35s\n",
            "Wall time: 2min 35s\n"
          ],
          "name": "stdout"
        }
      ]
    },
    {
      "cell_type": "code",
      "metadata": {
        "id": "MVAEHzB8hccE",
        "colab_type": "code",
        "outputId": "458b00f2-20b0-4179-c2d9-38c8d6354655",
        "colab": {
          "base_uri": "https://localhost:8080/",
          "height": 50
        }
      },
      "source": [
        "%%time\n",
        "#fasttext+glove\n",
        "embedding_matrix = np.concatenate([fastext,glove], axis=-1)\n",
        "gc.collect()"
      ],
      "execution_count": 0,
      "outputs": [
        {
          "output_type": "stream",
          "text": [
            "CPU times: user 1.69 s, sys: 0 ns, total: 1.69 s\n",
            "Wall time: 1.71 s\n"
          ],
          "name": "stdout"
        }
      ]
    },
    {
      "cell_type": "code",
      "metadata": {
        "id": "ZuAKE8r_Gq8H",
        "colab_type": "code",
        "colab": {}
      },
      "source": [
        "# Load the FastText Web Crawl vectors\n",
        "EMBEDDING_FILE_FASTTEXT='/content/drive/My Drive/toxicity-classification/embedding//crawl-300d-2M.vec'\n",
        "EMBEDDING_FILE_TWITTER='/content/drive/My Drive/toxicity-classification/embedding/glove.840B.300d.txt'\n",
        "\n",
        "def get_coefs(word, *arr): return word, np.asarray(arr, dtype='float32')\n",
        "\n",
        "embeddings_index_ft = dict(get_coefs(*o.rstrip().rsplit(' ')) for o in open(EMBEDDING_FILE_FASTTEXT,encoding='utf-8'))\n",
        "embeddings_index_tw = dict(get_coefs(*o.strip().split()) for o in open(EMBEDDING_FILE_TWITTER,encoding='utf-8'))"
      ],
      "execution_count": 0,
      "outputs": []
    },
    {
      "cell_type": "code",
      "metadata": {
        "id": "T9-G0vBwGsNn",
        "colab_type": "code",
        "colab": {}
      },
      "source": [
        "spell_model = gensim.models.KeyedVectors.load_word2vec_format(EMBEDDING_FILE_FASTTEXT)"
      ],
      "execution_count": 0,
      "outputs": []
    },
    {
      "cell_type": "code",
      "metadata": {
        "id": "ZUeXoA1IGvkS",
        "colab_type": "code",
        "colab": {}
      },
      "source": [
        "# This code is  based on: Spellchecker using Word2vec by CPMP\n",
        "# https://www.kaggle.com/cpmpml/spell-checker-using-word2vec\n",
        "\n",
        "words = spell_model.index2word\n",
        "\n",
        "w_rank = {}\n",
        "for i,word in enumerate(words):\n",
        "    w_rank[word] = i\n",
        "\n",
        "WORDS = w_rank\n",
        "\n",
        "# Use fast text as vocabulary\n",
        "def words(text): return re.findall(r'\\w+', text.lower())\n",
        "\n",
        "def P(word): \n",
        "    \"Probability of `word`.\"\n",
        "    # use inverse of rank as proxy\n",
        "    # returns 0 if the word isn't in the dictionary\n",
        "    return - WORDS.get(word, 0)\n",
        "\n",
        "def correction(word): \n",
        "    \"Most probable spelling correction for word.\"\n",
        "    return max(candidates(word), key=P)\n",
        "\n",
        "def candidates(word): \n",
        "    \"Generate possible spelling corrections for word.\"\n",
        "    return (known([word]) or known(edits1(word)) or known(edits2(word)) or [word])\n",
        "\n",
        "def known(words): \n",
        "    \"The subset of `words` that appear in the dictionary of WORDS.\"\n",
        "    return set(w for w in words if w in WORDS)\n",
        "\n",
        "def edits1(word):\n",
        "    \"All edits that are one edit away from `word`.\"\n",
        "    letters    = 'abcdefghijklmnopqrstuvwxyz'\n",
        "    splits     = [(word[:i], word[i:])    for i in range(len(word) + 1)]\n",
        "    deletes    = [L + R[1:]               for L, R in splits if R]\n",
        "    transposes = [L + R[1] + R[0] + R[2:] for L, R in splits if len(R)>1]\n",
        "    replaces   = [L + c + R[1:]           for L, R in splits if R for c in letters]\n",
        "    inserts    = [L + c + R               for L, R in splits for c in letters]\n",
        "    return set(deletes + transposes + replaces + inserts)\n",
        "\n",
        "def edits2(word): \n",
        "    \"All edits that are two edits away from `word`.\"\n",
        "    return (e2 for e1 in edits1(word) for e2 in edits1(e1))\n",
        "\n",
        "def singlify(word):\n",
        "    return \"\".join([letter for i,letter in enumerate(word) if i == 0 or letter != word[i-1]])"
      ],
      "execution_count": 0,
      "outputs": []
    },
    {
      "cell_type": "code",
      "metadata": {
        "id": "DMZ14EgIG0ao",
        "colab_type": "code",
        "colab": {}
      },
      "source": [
        "word_index = tokenizer.word_index\n",
        "nb_words = min(max_features, len(word_index))\n",
        "embedding_matrix = np.zeros((nb_words,501))\n",
        "\n",
        "something_tw = embeddings_index_tw.get(\"something\")\n",
        "something_ft = embeddings_index_ft.get(\"something\")\n",
        "\n",
        "something = np.zeros((501,))\n",
        "something[:300,] = something_ft\n",
        "something[300:500,] = something_tw\n",
        "something[500,] = 0\n",
        "\n",
        "def all_caps(word):\n",
        "    return len(word) > 1 and word.isupper()\n",
        "\n",
        "def embed_word(embedding_matrix,i,word):\n",
        "    embedding_vector_ft = embeddings_index_ft.get(word)\n",
        "    if embedding_vector_ft is not None: \n",
        "        if all_caps(word):\n",
        "            last_value = np.array([1])\n",
        "        else:\n",
        "            last_value = np.array([0])\n",
        "        embedding_matrix[i,:300] = embedding_vector_ft\n",
        "        embedding_matrix[i,600] = last_value\n",
        "        embedding_vector_tw = embeddings_index_tw.get(word)\n",
        "        if embedding_vector_tw is not None:\n",
        "            embedding_matrix[i,300:600] = embedding_vector_tw\n",
        "\n",
        "            \n",
        "# Fasttext vector is used by itself if there is no glove vector but not the other way around.\n",
        "for word, i in word_index.items():\n",
        "    \n",
        "    if i >= max_features: continue\n",
        "        \n",
        "    if embeddings_index_ft.get(word) is not None:\n",
        "        embed_word(embedding_matrix,i,word)\n",
        "    else:\n",
        "        \n",
        "        if len(word) > 20:\n",
        "            embedding_matrix[i] = something\n",
        "        else:\n",
        "            word2 = correction(word)\n",
        "            if embeddings_index_ft.get(word2) is not None:\n",
        "                embed_word(embedding_matrix,i,word2)\n",
        "            else:\n",
        "                word2 = correction(singlify(word))\n",
        "                if embeddings_index_ft.get(word2) is not None:\n",
        "                    embed_word(embedding_matrix,i,word2)\n",
        "                else:\n",
        "                    embedding_matrix[i] = something "
      ],
      "execution_count": 0,
      "outputs": []
    },
    {
      "cell_type": "markdown",
      "metadata": {
        "id": "ZDB5Az41Fr6k",
        "colab_type": "text"
      },
      "source": [
        "### **Re-Training using new Diverse Embeddings**"
      ]
    },
    {
      "cell_type": "code",
      "metadata": {
        "id": "4OHiwxIRDvyb",
        "colab_type": "code",
        "colab": {}
      },
      "source": [
        "# model_input same for each model\n",
        "model_input = Input(shape=(maxlen,), dtype='int32')\n",
        "embed_size = 601\n",
        "max_features = 283759\n",
        "maxlen = 900"
      ],
      "execution_count": 0,
      "outputs": []
    },
    {
      "cell_type": "markdown",
      "metadata": {
        "id": "rAih6-3vTkVU",
        "colab_type": "text"
      },
      "source": [
        "We will use the same models from the first round, the only change in these implementations will be a common **input layer** and a new **embedding layer** with diverse embeddings."
      ]
    },
    {
      "cell_type": "code",
      "metadata": {
        "id": "7zZ3jV3yUB0p",
        "colab_type": "code",
        "colab": {}
      },
      "source": [
        "#model1 Pooled GRU with CNN Model\n",
        "def get_model1(model_input):\n",
        "  \n",
        "  embedding_layer = Embedding(max_features, embed_size, weights=[embedding_matrix], trainable=False)(inp)\n",
        "  x = embedding_layer(model_input)\n",
        "  x1 = SpatialDropout1D(0.2)(x)\n",
        "\n",
        "  x = Bidirectional(GRU(128, return_sequences=True))(x1)\n",
        "  x = Conv1D(64, kernel_size = 2, padding = \"valid\", kernel_initializer = \"he_uniform\")(x)\n",
        "\n",
        "  y = Bidirectional(GRU(128, return_sequences=True))(x1)\n",
        "  y = Conv1D(64, kernel_size = 2, padding = \"valid\", kernel_initializer = \"he_uniform\")(y)\n",
        "\n",
        "  avg_pool1 = GlobalAveragePooling1D()(x)\n",
        "  max_pool1 = GlobalMaxPooling1D()(x)\n",
        "\n",
        "  avg_pool2 = GlobalAveragePooling1D()(y)\n",
        "  max_pool2 = GlobalMaxPooling1D()(y)\n",
        "\n",
        "  x = concatenate([avg_pool1, max_pool1, avg_pool2, max_pool2])\n",
        "\n",
        "  preds = Dense(6, activation=\"sigmoid\")(x)\n",
        "  model = Model(model_input, preds)\n",
        "  model.compile(loss='binary_crossentropy',optimizer=Adam(lr=1e-3),metrics=['accuracy'])\n",
        "\n",
        "  return model"
      ],
      "execution_count": 0,
      "outputs": []
    },
    {
      "cell_type": "code",
      "metadata": {
        "id": "Pk0tNCkpDkFY",
        "colab_type": "code",
        "colab": {}
      },
      "source": [
        "#model2 Pooled CNN Complex Model\n",
        "def get_model2(model_input):   \n",
        "    filter_nums = 300\n",
        "    \n",
        "    embedding_layer = Embedding(max_features, embed_size, weights=[embedding_matrix], trainable=False)(inp)\n",
        "    embedded_sequences = embedding_layer(model_input)\n",
        "    embedded_sequences = SpatialDropout1D(0.25)(embedded_sequences)\n",
        "\n",
        "    conv_0 = Conv1D(filter_nums, 1, kernel_initializer=\"normal\", padding=\"valid\", activation=\"relu\")(embedded_sequences)\n",
        "    conv_1 = Conv1D(filter_nums, 2, kernel_initializer=\"normal\", padding=\"valid\", activation=\"relu\")(embedded_sequences)\n",
        "    conv_2 = Conv1D(filter_nums, 3, kernel_initializer=\"normal\", padding=\"valid\", activation=\"relu\")(embedded_sequences)\n",
        "    conv_3 = Conv1D(filter_nums, 4, kernel_initializer=\"normal\", padding=\"valid\", activation=\"relu\")(embedded_sequences)\n",
        "\n",
        "    attn_0 = AttentionWeightedAverage()(conv_0)\n",
        "    avg_0 = GlobalAveragePooling1D()(conv_0)\n",
        "    maxpool_0 = GlobalMaxPooling1D()(conv_0)\n",
        "\n",
        "    maxpool_1 = GlobalMaxPooling1D()(conv_1)\n",
        "    attn_1 = AttentionWeightedAverage()(conv_1)\n",
        "    avg_1 = GlobalAveragePooling1D()(conv_1)\n",
        "\n",
        "    maxpool_2 = GlobalMaxPooling1D()(conv_2)\n",
        "    attn_2 = AttentionWeightedAverage()(conv_2)\n",
        "    avg_2 = GlobalAveragePooling1D()(conv_2)\n",
        "\n",
        "    maxpool_3 = GlobalMaxPooling1D()(conv_3)\n",
        "    attn_3 = AttentionWeightedAverage()(conv_3)\n",
        "    avg_3 = GlobalAveragePooling1D()(conv_3)\n",
        "\n",
        "    v0_col = concatenate([maxpool_0, maxpool_1, maxpool_2, maxpool_3], axis=1)\n",
        "    v1_col = concatenate([attn_0, attn_1, attn_2, attn_3], axis=1)\n",
        "    v2_col = concatenate([avg_1, avg_2, avg_0, avg_3], axis=1)\n",
        "    merged_tensor = concatenate([v0_col, v1_col, v2_col], axis=1)\n",
        "    output = Dropout(0.7)(merged_tensor)\n",
        "    output = Dense(units=144)(output)\n",
        "    output = Activation('relu')(output)\n",
        "    output = Dense(units=6, activation='sigmoid')(output)\n",
        "\n",
        "    model = Model(inputs=model_input, outputs=output)\n",
        "    adam_optimizer = optimizers.Adam(lr=1e-3, decay=1e-6)\n",
        "    model.compile(loss='binary_crossentropy', optimizer=adam_optimizer, metrics=['accuracy'])\n",
        "\n",
        "    return model"
      ],
      "execution_count": 0,
      "outputs": []
    },
    {
      "cell_type": "code",
      "metadata": {
        "id": "u23pYOc3U223",
        "colab_type": "code",
        "colab": {}
      },
      "source": [
        "#Model3 Pooled RNN Model\n",
        "def get_model3(model_input):\n",
        "    recurrent_units = 60\n",
        "    \n",
        "    embedding_layer = Embedding(max_features, embed_size, weights=[embedding_matrix], trainable=False)(inp)\n",
        "    embedded_sequences = embedding_layer(model_input)\n",
        "    embedding_layer = SpatialDropout1D(0.25)(embedded_sequences)\n",
        "\n",
        "    rnn_1 = Bidirectional(GRU(recurrent_units, return_sequences=True))(embedding_layer)\n",
        "    rnn_2 = Bidirectional(GRU(recurrent_units, return_sequences=True))(rnn_1)\n",
        "    x = concatenate([rnn_1, rnn_2], axis=2)\n",
        "\n",
        "    last = Lambda(lambda t: t[:, -1], name='last')(x)\n",
        "    maxpool = GlobalMaxPooling1D()(x)\n",
        "    attn = AttentionWeightedAverage()(x)\n",
        "    average = GlobalAveragePooling1D()(x)\n",
        "\n",
        "    all_views = concatenate([last, maxpool, average, attn], axis=1)\n",
        "    x = Dropout(0.5)(all_views)\n",
        "    x = Dense(144, activation=\"relu\")(x)\n",
        "    output_layer = Dense(units=6, activation=\"sigmoid\")(x)\n",
        "\n",
        "    model = Model(inputs=model_input, outputs=output_layer)\n",
        "    adam_optimizer = optimizers.Adam(lr=1e-3, decay=1e-6, clipvalue=5)\n",
        "    model.compile(loss='binary_crossentropy', optimizer=adam_optimizer, metrics=['accuracy'])\n",
        "    return model"
      ],
      "execution_count": 0,
      "outputs": []
    },
    {
      "cell_type": "code",
      "metadata": {
        "id": "JKJR6vAMVbUe",
        "colab_type": "code",
        "colab": {}
      },
      "source": [
        "#Model4 KMax Text CNN\n",
        "def get_model4(model_input):\n",
        "    \n",
        "    embedding_layer = Embedding(max_features, embed_size, weights=[embedding_matrix], trainable=False)(inp)\n",
        "\n",
        "    filter_nums = 180\n",
        "    drop = 0.6\n",
        "\n",
        "    \n",
        "    embedded_sequences = embedding_layer(model_input)\n",
        "    embedded_sequences = SpatialDropout1D(0.2)(embedded_sequences)\n",
        "\n",
        "    conv_0 = Conv1D(filter_nums, 1, kernel_initializer=\"normal\", padding=\"valid\", activation=\"relu\")(embedded_sequences)\n",
        "    conv_1 = Conv1D(filter_nums, 2, kernel_initializer=\"normal\", padding=\"valid\", activation=\"relu\")(embedded_sequences)\n",
        "    conv_2 = Conv1D(filter_nums, 3, kernel_initializer=\"normal\", padding=\"valid\", activation=\"relu\")(embedded_sequences)\n",
        "    conv_3 = Conv1D(filter_nums, 4, kernel_initializer=\"normal\", padding=\"valid\", activation=\"relu\")(embedded_sequences)\n",
        "\n",
        "    maxpool_0 = KMaxPooling(k=3)(conv_0)\n",
        "    maxpool_1 = KMaxPooling(k=3)(conv_1)\n",
        "    maxpool_2 = KMaxPooling(k=3)(conv_2)\n",
        "    maxpool_3 = KMaxPooling(k=3)(conv_3)\n",
        "\n",
        "    merged_tensor = concatenate([maxpool_0, maxpool_1, maxpool_2, maxpool_3], axis=1)\n",
        "    output = Dropout(drop)(merged_tensor)\n",
        "    output = Dense(units=144, activation='relu')(output)\n",
        "    output = Dense(units=6, activation='sigmoid')(output)\n",
        "\n",
        "    model = Model(inputs=model_input, outputs=output)\n",
        "    adam_optimizer = optimizers.Adam(lr=1e-3, decay=1e-7)\n",
        "    model.compile(loss='binary_crossentropy', optimizer=adam_optimizer, metrics=['accuracy'])\n",
        "    return model"
      ],
      "execution_count": 0,
      "outputs": []
    },
    {
      "cell_type": "code",
      "metadata": {
        "id": "sib774H3aW8S",
        "colab_type": "code",
        "outputId": "37484d95-3501-441f-d37e-5301f7d9f871",
        "colab": {
          "base_uri": "https://localhost:8080/",
          "height": 358
        }
      },
      "source": [
        "batch_size = 128\n",
        "epochs = 5\n",
        "\n",
        "model1 = get_model1(model_input)\n",
        "\n",
        "# Use stratified sampling again\n",
        "X_tra, y_tra, X_val, y_val = iterative_train_test_split(x_train, y_train, test_size=0.1)\n",
        "\n",
        "checkpoint = ModelCheckpoint(\"model1.hdf5\", monitor='val_accuracy', verbose=1, save_best_only=True, mode='max')\n",
        "early = EarlyStopping(monitor=\"val_accuracy\", mode=\"max\", patience=5)\n",
        "ra_val = RocAucEvaluation(validation_data=(X_val, y_val), interval = 1)\n",
        "callbacks_list = [ra_val,checkpoint, early]\n",
        "\n",
        "model1.fit(X_tra, y_tra, batch_size=batch_size, epochs=epochs, validation_data=(X_val, y_val),callbacks = callbacks_list,verbose=1)\n",
        "\n",
        "model1.load_weights(\"model1.hdf5\")\n",
        "y_pred = model.predict(x_test,batch_size=1024,verbose=1)\n",
        "\n",
        "predict_scores(y_pred)"
      ],
      "execution_count": 0,
      "outputs": [
        {
          "output_type": "stream",
          "text": [
            "Train on 143613 samples, validate on 15958 samples\n",
            "Epoch 1/5\n",
            "143613/143613 [==============================] - 2157s 15ms/step - loss: 0.0522 - accuracy: 0.9812 - val_loss: 0.0424 - val_accuracy: 0.9837\n",
            "\n",
            " ROC-AUC - epoch: 1 - score: 0.988693\n",
            "\n",
            "Epoch 00001: val_accuracy improved from -inf to 0.98367, saving model to model1.hdf5\n",
            "Epoch 2/5\n",
            "143613/143613 [==============================] - 2203s 15ms/step - loss: 0.0409 - accuracy: 0.9841 - val_loss: 0.0416 - val_accuracy: 0.9837\n",
            "\n",
            " ROC-AUC - epoch: 2 - score: 0.989610\n",
            "\n",
            "Epoch 00002: val_accuracy improved from 0.98367 to 0.98367, saving model to model1.hdf5\n",
            "Epoch 3/5\n",
            "143613/143613 [==============================] - 2172s 15ms/step - loss: 0.0372 - accuracy: 0.9854 - val_loss: 0.0406 - val_accuracy: 0.9843\n",
            "\n",
            " ROC-AUC - epoch: 3 - score: 0.989456\n",
            "\n",
            "Epoch 00003: val_accuracy improved from 0.98367 to 0.98429, saving model to model1.hdf5\n",
            "Epoch 4/5\n",
            " 62336/143613 [============>.................] - ETA: 20:08 - loss: 0.0332 - accuracy: 0.9868"
          ],
          "name": "stdout"
        }
      ]
    },
    {
      "cell_type": "code",
      "metadata": {
        "id": "B6XpUXmSfDLj",
        "colab_type": "code",
        "colab": {}
      },
      "source": [
        "batch_size = 128\n",
        "epochs = 10\n",
        "\n",
        "model2 = get_model2(model_input)\n",
        "\n",
        "# Use stratified sampling again\n",
        "X_tra, y_tra, X_val, y_val = iterative_train_test_split(x_train, y_train, test_size=0.1)\n",
        "\n",
        "checkpoint = ModelCheckpoint(\"model2.hdf5\", monitor='val_accuracy', verbose=1, save_best_only=True, mode='max')\n",
        "early = EarlyStopping(monitor=\"val_accuracy\", mode=\"max\", patience=5)\n",
        "ra_val = RocAucEvaluation(validation_data=(X_val, y_val), interval = 1)\n",
        "callbacks_list = [ra_val,checkpoint, early]\n",
        "\n",
        "model2.fit(X_tra, y_tra, batch_size=batch_size, epochs=epochs, validation_data=(X_val, y_val),callbacks = callbacks_list,verbose=1)\n",
        "\n",
        "model2.load_weights(\"model2.hdf5\")\n",
        "y_pred = model.predict(x_test,batch_size=1024,verbose=1)\n",
        "\n",
        "predict_scores(y_pred)"
      ],
      "execution_count": 0,
      "outputs": []
    },
    {
      "cell_type": "code",
      "metadata": {
        "id": "iqaNk7mCagp7",
        "colab_type": "code",
        "colab": {}
      },
      "source": [
        "batch_size = 128\n",
        "epochs = 5\n",
        "\n",
        "model3 = get_model3(model_input)\n",
        "\n",
        "# Use stratified sampling again\n",
        "X_tra, y_tra, X_val, y_val = iterative_train_test_split(x_train, y_train, test_size=0.1)\n",
        "\n",
        "checkpoint = ModelCheckpoint(\"model3.hdf5\", monitor='val_accuracy', verbose=1, save_best_only=True, mode='max')\n",
        "early = EarlyStopping(monitor=\"val_accuracy\", mode=\"max\", patience=5)\n",
        "ra_val = RocAucEvaluation(validation_data=(X_val, y_val), interval = 1)\n",
        "callbacks_list = [ra_val,checkpoint, early]\n",
        "\n",
        "model3.fit(X_tra, y_tra, batch_size=batch_size, epochs=epochs, validation_data=(X_val, y_val),callbacks = callbacks_list,verbose=1)\n",
        "\n",
        "model3.load_weights(\"model3.hdf5\")\n",
        "y_pred = model.predict(x_test,batch_size=1024,verbose=1)\n",
        "\n",
        "predict_scores(y_pred)"
      ],
      "execution_count": 0,
      "outputs": []
    },
    {
      "cell_type": "code",
      "metadata": {
        "id": "nCJY2G8UFNmI",
        "colab_type": "code",
        "colab": {}
      },
      "source": [
        "batch_size = 128\n",
        "epochs = 10\n",
        "\n",
        "model4 = get_model4(model_input)\n",
        "\n",
        "# Use stratified sampling again\n",
        "X_tra, y_tra, X_val, y_val = iterative_train_test_split(x_train, y_train, test_size=0.1)\n",
        "\n",
        "checkpoint = ModelCheckpoint(\"model4.hdf5\", monitor='val_accuracy', verbose=1, save_best_only=True, mode='max')\n",
        "early = EarlyStopping(monitor=\"val_accuracy\", mode=\"max\", patience=5)\n",
        "ra_val = RocAucEvaluation(validation_data=(X_val, y_val), interval = 1)\n",
        "callbacks_list = [ra_val,checkpoint, early]\n",
        "\n",
        "model4.fit(X_tra, y_tra, batch_size=batch_size, epochs=epochs, validation_data=(X_val, y_val),callbacks = callbacks_list,verbose=1)\n",
        "\n",
        "model4.load_weights(\"model4.hdf5\")\n",
        "y_pred = model.predict(x_test,batch_size=1024,verbose=1)\n",
        "\n",
        "predict_scores(y_pred)"
      ],
      "execution_count": 0,
      "outputs": []
    },
    {
      "cell_type": "markdown",
      "metadata": {
        "id": "EQlKkS4WHFLr",
        "colab_type": "text"
      },
      "source": [
        "### **Ensemble**\n",
        "\n",
        "In statistics and machine learning, ensemble methods use multiple learning algorithms to obtain better predictive performance than could be obtained from any of the constituent learning algorithms alone. This is referenced from [Popular Ensemble Methods: An Empirical Study](https://arxiv.org/abs/1106.0257).\n",
        "\n",
        "If you look at results of a top machine learning competitions on Kaggle, you will most likely find that the top results are achieved by an ensemble of models rather than a single model.\n",
        "\n",
        "There are many different types of ensembles; stacking is one of them. It is one of the more general types and can theoretically represent any other ensemble technique. Stacking involves training a learning algorithm to combine the predictions of several other learning algorithms. In this project, We will use one of the simplest forms of Stacking, which involves taking an average of outputs of models in the ensemble. Here we have already trained our models, so we will use those trained models, load their weights and take the average of their outputs.\n",
        "\n",
        "For ensemble, I will use the top three performing models."
      ]
    },
    {
      "cell_type": "code",
      "metadata": {
        "id": "oRxLOsb2tiOB",
        "colab_type": "code",
        "colab": {}
      },
      "source": [
        "#model2.load_weights(\"model1.hdf5\")\n",
        "#model4.load_weights(\"model4.hdf5\")\n",
        "#model3.load_weights(\"model3.hdf5\")\n",
        "\n",
        "#models = [model2, model4]"
      ],
      "execution_count": 0,
      "outputs": []
    },
    {
      "cell_type": "code",
      "metadata": {
        "id": "FVZ9HjJaHnl-",
        "colab_type": "code",
        "colab": {}
      },
      "source": [
        "from keras.layers import Average\n",
        "def ensemble(models, model_input):\n",
        "    \n",
        "    outputs = [model.outputs[0] for model in models]\n",
        "    y = Average()(outputs)\n",
        "    \n",
        "    model = Model(model_input, y, name='ensemble')\n",
        "    \n",
        "    return model"
      ],
      "execution_count": 0,
      "outputs": []
    },
    {
      "cell_type": "code",
      "metadata": {
        "id": "khv8yQXVH2iD",
        "colab_type": "code",
        "colab": {}
      },
      "source": [
        "#ensemble_model = ensemble(models, model_input)\n"
      ],
      "execution_count": 0,
      "outputs": []
    },
    {
      "cell_type": "code",
      "metadata": {
        "id": "OeoVBlW6KQiW",
        "colab_type": "code",
        "colab": {}
      },
      "source": [
        "#y_pred = ensemble_model.predict(x_test,batch_size=1024,verbose=1)\n",
        "#predict_scores(y_pred)"
      ],
      "execution_count": 0,
      "outputs": []
    },
    {
      "cell_type": "code",
      "metadata": {
        "id": "n8TukfjbXcvn",
        "colab_type": "code",
        "colab": {}
      },
      "source": [
        ""
      ],
      "execution_count": 0,
      "outputs": []
    }
  ]
}