{
  "nbformat": 4,
  "nbformat_minor": 0,
  "metadata": {
    "colab": {
      "name": "toxicity-classification.ipynb",
      "provenance": [],
      "collapsed_sections": [],
      "machine_shape": "hm",
      "authorship_tag": "ABX9TyNx88yQR9/Zm1qVjS5kwooE",
      "include_colab_link": true
    },
    "kernelspec": {
      "name": "python3",
      "display_name": "Python 3"
    },
    "accelerator": "GPU",
    "widgets": {
      "application/vnd.jupyter.widget-state+json": {
        "3da9cce5fba04af9bee128432979b114": {
          "model_module": "@jupyter-widgets/controls",
          "model_name": "HBoxModel",
          "state": {
            "_view_name": "HBoxView",
            "_dom_classes": [],
            "_model_name": "HBoxModel",
            "_view_module": "@jupyter-widgets/controls",
            "_model_module_version": "1.5.0",
            "_view_count": null,
            "_view_module_version": "1.5.0",
            "box_style": "",
            "layout": "IPY_MODEL_795877bf489f47259580dd246c156c4a",
            "_model_module": "@jupyter-widgets/controls",
            "children": [
              "IPY_MODEL_72f1d25a3b27482ba0a4af36f6888e32",
              "IPY_MODEL_8cba8d0f120f425385a9cd8c9dd9193a"
            ]
          }
        },
        "795877bf489f47259580dd246c156c4a": {
          "model_module": "@jupyter-widgets/base",
          "model_name": "LayoutModel",
          "state": {
            "_view_name": "LayoutView",
            "grid_template_rows": null,
            "right": null,
            "justify_content": null,
            "_view_module": "@jupyter-widgets/base",
            "overflow": null,
            "_model_module_version": "1.2.0",
            "_view_count": null,
            "flex_flow": null,
            "width": null,
            "min_width": null,
            "border": null,
            "align_items": null,
            "bottom": null,
            "_model_module": "@jupyter-widgets/base",
            "top": null,
            "grid_column": null,
            "overflow_y": null,
            "overflow_x": null,
            "grid_auto_flow": null,
            "grid_area": null,
            "grid_template_columns": null,
            "flex": null,
            "_model_name": "LayoutModel",
            "justify_items": null,
            "grid_row": null,
            "max_height": null,
            "align_content": null,
            "visibility": null,
            "align_self": null,
            "height": null,
            "min_height": null,
            "padding": null,
            "grid_auto_rows": null,
            "grid_gap": null,
            "max_width": null,
            "order": null,
            "_view_module_version": "1.2.0",
            "grid_template_areas": null,
            "object_position": null,
            "object_fit": null,
            "grid_auto_columns": null,
            "margin": null,
            "display": null,
            "left": null
          }
        },
        "72f1d25a3b27482ba0a4af36f6888e32": {
          "model_module": "@jupyter-widgets/controls",
          "model_name": "IntProgressModel",
          "state": {
            "_view_name": "ProgressView",
            "style": "IPY_MODEL_6cc7f780dfc64dafbbece64e984ea669",
            "_dom_classes": [],
            "description": "100%",
            "_model_name": "IntProgressModel",
            "bar_style": "success",
            "max": 159571,
            "_view_module": "@jupyter-widgets/controls",
            "_model_module_version": "1.5.0",
            "value": 159571,
            "_view_count": null,
            "_view_module_version": "1.5.0",
            "orientation": "horizontal",
            "min": 0,
            "description_tooltip": null,
            "_model_module": "@jupyter-widgets/controls",
            "layout": "IPY_MODEL_3b29c6718fdd479a837c45259434ee2c"
          }
        },
        "8cba8d0f120f425385a9cd8c9dd9193a": {
          "model_module": "@jupyter-widgets/controls",
          "model_name": "HTMLModel",
          "state": {
            "_view_name": "HTMLView",
            "style": "IPY_MODEL_410040feb91d45fbb2efc25076eb96b4",
            "_dom_classes": [],
            "description": "",
            "_model_name": "HTMLModel",
            "placeholder": "​",
            "_view_module": "@jupyter-widgets/controls",
            "_model_module_version": "1.5.0",
            "value": " 159571/159571 [01:49&lt;00:00, 1455.33it/s]",
            "_view_count": null,
            "_view_module_version": "1.5.0",
            "description_tooltip": null,
            "_model_module": "@jupyter-widgets/controls",
            "layout": "IPY_MODEL_3280e0ef43b54c41b92b31a696a81aec"
          }
        },
        "6cc7f780dfc64dafbbece64e984ea669": {
          "model_module": "@jupyter-widgets/controls",
          "model_name": "ProgressStyleModel",
          "state": {
            "_view_name": "StyleView",
            "_model_name": "ProgressStyleModel",
            "description_width": "initial",
            "_view_module": "@jupyter-widgets/base",
            "_model_module_version": "1.5.0",
            "_view_count": null,
            "_view_module_version": "1.2.0",
            "bar_color": null,
            "_model_module": "@jupyter-widgets/controls"
          }
        },
        "3b29c6718fdd479a837c45259434ee2c": {
          "model_module": "@jupyter-widgets/base",
          "model_name": "LayoutModel",
          "state": {
            "_view_name": "LayoutView",
            "grid_template_rows": null,
            "right": null,
            "justify_content": null,
            "_view_module": "@jupyter-widgets/base",
            "overflow": null,
            "_model_module_version": "1.2.0",
            "_view_count": null,
            "flex_flow": null,
            "width": null,
            "min_width": null,
            "border": null,
            "align_items": null,
            "bottom": null,
            "_model_module": "@jupyter-widgets/base",
            "top": null,
            "grid_column": null,
            "overflow_y": null,
            "overflow_x": null,
            "grid_auto_flow": null,
            "grid_area": null,
            "grid_template_columns": null,
            "flex": null,
            "_model_name": "LayoutModel",
            "justify_items": null,
            "grid_row": null,
            "max_height": null,
            "align_content": null,
            "visibility": null,
            "align_self": null,
            "height": null,
            "min_height": null,
            "padding": null,
            "grid_auto_rows": null,
            "grid_gap": null,
            "max_width": null,
            "order": null,
            "_view_module_version": "1.2.0",
            "grid_template_areas": null,
            "object_position": null,
            "object_fit": null,
            "grid_auto_columns": null,
            "margin": null,
            "display": null,
            "left": null
          }
        },
        "410040feb91d45fbb2efc25076eb96b4": {
          "model_module": "@jupyter-widgets/controls",
          "model_name": "DescriptionStyleModel",
          "state": {
            "_view_name": "StyleView",
            "_model_name": "DescriptionStyleModel",
            "description_width": "",
            "_view_module": "@jupyter-widgets/base",
            "_model_module_version": "1.5.0",
            "_view_count": null,
            "_view_module_version": "1.2.0",
            "_model_module": "@jupyter-widgets/controls"
          }
        },
        "3280e0ef43b54c41b92b31a696a81aec": {
          "model_module": "@jupyter-widgets/base",
          "model_name": "LayoutModel",
          "state": {
            "_view_name": "LayoutView",
            "grid_template_rows": null,
            "right": null,
            "justify_content": null,
            "_view_module": "@jupyter-widgets/base",
            "overflow": null,
            "_model_module_version": "1.2.0",
            "_view_count": null,
            "flex_flow": null,
            "width": null,
            "min_width": null,
            "border": null,
            "align_items": null,
            "bottom": null,
            "_model_module": "@jupyter-widgets/base",
            "top": null,
            "grid_column": null,
            "overflow_y": null,
            "overflow_x": null,
            "grid_auto_flow": null,
            "grid_area": null,
            "grid_template_columns": null,
            "flex": null,
            "_model_name": "LayoutModel",
            "justify_items": null,
            "grid_row": null,
            "max_height": null,
            "align_content": null,
            "visibility": null,
            "align_self": null,
            "height": null,
            "min_height": null,
            "padding": null,
            "grid_auto_rows": null,
            "grid_gap": null,
            "max_width": null,
            "order": null,
            "_view_module_version": "1.2.0",
            "grid_template_areas": null,
            "object_position": null,
            "object_fit": null,
            "grid_auto_columns": null,
            "margin": null,
            "display": null,
            "left": null
          }
        },
        "9b2a96e6b41846bfbcd6b52aee714807": {
          "model_module": "@jupyter-widgets/controls",
          "model_name": "HBoxModel",
          "state": {
            "_view_name": "HBoxView",
            "_dom_classes": [],
            "_model_name": "HBoxModel",
            "_view_module": "@jupyter-widgets/controls",
            "_model_module_version": "1.5.0",
            "_view_count": null,
            "_view_module_version": "1.5.0",
            "box_style": "",
            "layout": "IPY_MODEL_4f6ea4a12b054ab198980d1d387aa2bf",
            "_model_module": "@jupyter-widgets/controls",
            "children": [
              "IPY_MODEL_91631248a8bc492993fa0b62a65dc0b9",
              "IPY_MODEL_c03699e5212a4ba9af66d127b40d4a51"
            ]
          }
        },
        "4f6ea4a12b054ab198980d1d387aa2bf": {
          "model_module": "@jupyter-widgets/base",
          "model_name": "LayoutModel",
          "state": {
            "_view_name": "LayoutView",
            "grid_template_rows": null,
            "right": null,
            "justify_content": null,
            "_view_module": "@jupyter-widgets/base",
            "overflow": null,
            "_model_module_version": "1.2.0",
            "_view_count": null,
            "flex_flow": null,
            "width": null,
            "min_width": null,
            "border": null,
            "align_items": null,
            "bottom": null,
            "_model_module": "@jupyter-widgets/base",
            "top": null,
            "grid_column": null,
            "overflow_y": null,
            "overflow_x": null,
            "grid_auto_flow": null,
            "grid_area": null,
            "grid_template_columns": null,
            "flex": null,
            "_model_name": "LayoutModel",
            "justify_items": null,
            "grid_row": null,
            "max_height": null,
            "align_content": null,
            "visibility": null,
            "align_self": null,
            "height": null,
            "min_height": null,
            "padding": null,
            "grid_auto_rows": null,
            "grid_gap": null,
            "max_width": null,
            "order": null,
            "_view_module_version": "1.2.0",
            "grid_template_areas": null,
            "object_position": null,
            "object_fit": null,
            "grid_auto_columns": null,
            "margin": null,
            "display": null,
            "left": null
          }
        },
        "91631248a8bc492993fa0b62a65dc0b9": {
          "model_module": "@jupyter-widgets/controls",
          "model_name": "IntProgressModel",
          "state": {
            "_view_name": "ProgressView",
            "style": "IPY_MODEL_161402fe91bc4bb6ace09bcc8da8d04b",
            "_dom_classes": [],
            "description": "100%",
            "_model_name": "IntProgressModel",
            "bar_style": "success",
            "max": 159571,
            "_view_module": "@jupyter-widgets/controls",
            "_model_module_version": "1.5.0",
            "value": 159571,
            "_view_count": null,
            "_view_module_version": "1.5.0",
            "orientation": "horizontal",
            "min": 0,
            "description_tooltip": null,
            "_model_module": "@jupyter-widgets/controls",
            "layout": "IPY_MODEL_d7031c511b514b72ab98a8e176370356"
          }
        },
        "c03699e5212a4ba9af66d127b40d4a51": {
          "model_module": "@jupyter-widgets/controls",
          "model_name": "HTMLModel",
          "state": {
            "_view_name": "HTMLView",
            "style": "IPY_MODEL_21d7142aea174990928711641fecb48e",
            "_dom_classes": [],
            "description": "",
            "_model_name": "HTMLModel",
            "placeholder": "​",
            "_view_module": "@jupyter-widgets/controls",
            "_model_module_version": "1.5.0",
            "value": " 159571/159571 [00:03&lt;00:00, 51922.31it/s]",
            "_view_count": null,
            "_view_module_version": "1.5.0",
            "description_tooltip": null,
            "_model_module": "@jupyter-widgets/controls",
            "layout": "IPY_MODEL_0471a4039b8b46f5ab427c7e1eaaed5f"
          }
        },
        "161402fe91bc4bb6ace09bcc8da8d04b": {
          "model_module": "@jupyter-widgets/controls",
          "model_name": "ProgressStyleModel",
          "state": {
            "_view_name": "StyleView",
            "_model_name": "ProgressStyleModel",
            "description_width": "initial",
            "_view_module": "@jupyter-widgets/base",
            "_model_module_version": "1.5.0",
            "_view_count": null,
            "_view_module_version": "1.2.0",
            "bar_color": null,
            "_model_module": "@jupyter-widgets/controls"
          }
        },
        "d7031c511b514b72ab98a8e176370356": {
          "model_module": "@jupyter-widgets/base",
          "model_name": "LayoutModel",
          "state": {
            "_view_name": "LayoutView",
            "grid_template_rows": null,
            "right": null,
            "justify_content": null,
            "_view_module": "@jupyter-widgets/base",
            "overflow": null,
            "_model_module_version": "1.2.0",
            "_view_count": null,
            "flex_flow": null,
            "width": null,
            "min_width": null,
            "border": null,
            "align_items": null,
            "bottom": null,
            "_model_module": "@jupyter-widgets/base",
            "top": null,
            "grid_column": null,
            "overflow_y": null,
            "overflow_x": null,
            "grid_auto_flow": null,
            "grid_area": null,
            "grid_template_columns": null,
            "flex": null,
            "_model_name": "LayoutModel",
            "justify_items": null,
            "grid_row": null,
            "max_height": null,
            "align_content": null,
            "visibility": null,
            "align_self": null,
            "height": null,
            "min_height": null,
            "padding": null,
            "grid_auto_rows": null,
            "grid_gap": null,
            "max_width": null,
            "order": null,
            "_view_module_version": "1.2.0",
            "grid_template_areas": null,
            "object_position": null,
            "object_fit": null,
            "grid_auto_columns": null,
            "margin": null,
            "display": null,
            "left": null
          }
        },
        "21d7142aea174990928711641fecb48e": {
          "model_module": "@jupyter-widgets/controls",
          "model_name": "DescriptionStyleModel",
          "state": {
            "_view_name": "StyleView",
            "_model_name": "DescriptionStyleModel",
            "description_width": "",
            "_view_module": "@jupyter-widgets/base",
            "_model_module_version": "1.5.0",
            "_view_count": null,
            "_view_module_version": "1.2.0",
            "_model_module": "@jupyter-widgets/controls"
          }
        },
        "0471a4039b8b46f5ab427c7e1eaaed5f": {
          "model_module": "@jupyter-widgets/base",
          "model_name": "LayoutModel",
          "state": {
            "_view_name": "LayoutView",
            "grid_template_rows": null,
            "right": null,
            "justify_content": null,
            "_view_module": "@jupyter-widgets/base",
            "overflow": null,
            "_model_module_version": "1.2.0",
            "_view_count": null,
            "flex_flow": null,
            "width": null,
            "min_width": null,
            "border": null,
            "align_items": null,
            "bottom": null,
            "_model_module": "@jupyter-widgets/base",
            "top": null,
            "grid_column": null,
            "overflow_y": null,
            "overflow_x": null,
            "grid_auto_flow": null,
            "grid_area": null,
            "grid_template_columns": null,
            "flex": null,
            "_model_name": "LayoutModel",
            "justify_items": null,
            "grid_row": null,
            "max_height": null,
            "align_content": null,
            "visibility": null,
            "align_self": null,
            "height": null,
            "min_height": null,
            "padding": null,
            "grid_auto_rows": null,
            "grid_gap": null,
            "max_width": null,
            "order": null,
            "_view_module_version": "1.2.0",
            "grid_template_areas": null,
            "object_position": null,
            "object_fit": null,
            "grid_auto_columns": null,
            "margin": null,
            "display": null,
            "left": null
          }
        },
        "39e15ceaf5454e408929c432294e7408": {
          "model_module": "@jupyter-widgets/controls",
          "model_name": "HBoxModel",
          "state": {
            "_view_name": "HBoxView",
            "_dom_classes": [],
            "_model_name": "HBoxModel",
            "_view_module": "@jupyter-widgets/controls",
            "_model_module_version": "1.5.0",
            "_view_count": null,
            "_view_module_version": "1.5.0",
            "box_style": "",
            "layout": "IPY_MODEL_ff2c5b52f51d4574af1fa1f27da2dab8",
            "_model_module": "@jupyter-widgets/controls",
            "children": [
              "IPY_MODEL_a2bafff5df104905a2ef7e6b6464325d",
              "IPY_MODEL_8c79b2c599964abab3c9448a1477e674"
            ]
          }
        },
        "ff2c5b52f51d4574af1fa1f27da2dab8": {
          "model_module": "@jupyter-widgets/base",
          "model_name": "LayoutModel",
          "state": {
            "_view_name": "LayoutView",
            "grid_template_rows": null,
            "right": null,
            "justify_content": null,
            "_view_module": "@jupyter-widgets/base",
            "overflow": null,
            "_model_module_version": "1.2.0",
            "_view_count": null,
            "flex_flow": null,
            "width": null,
            "min_width": null,
            "border": null,
            "align_items": null,
            "bottom": null,
            "_model_module": "@jupyter-widgets/base",
            "top": null,
            "grid_column": null,
            "overflow_y": null,
            "overflow_x": null,
            "grid_auto_flow": null,
            "grid_area": null,
            "grid_template_columns": null,
            "flex": null,
            "_model_name": "LayoutModel",
            "justify_items": null,
            "grid_row": null,
            "max_height": null,
            "align_content": null,
            "visibility": null,
            "align_self": null,
            "height": null,
            "min_height": null,
            "padding": null,
            "grid_auto_rows": null,
            "grid_gap": null,
            "max_width": null,
            "order": null,
            "_view_module_version": "1.2.0",
            "grid_template_areas": null,
            "object_position": null,
            "object_fit": null,
            "grid_auto_columns": null,
            "margin": null,
            "display": null,
            "left": null
          }
        },
        "a2bafff5df104905a2ef7e6b6464325d": {
          "model_module": "@jupyter-widgets/controls",
          "model_name": "IntProgressModel",
          "state": {
            "_view_name": "ProgressView",
            "style": "IPY_MODEL_e041d0c34241460796df91e141d12502",
            "_dom_classes": [],
            "description": "100%",
            "_model_name": "IntProgressModel",
            "bar_style": "success",
            "max": 532299,
            "_view_module": "@jupyter-widgets/controls",
            "_model_module_version": "1.5.0",
            "value": 532299,
            "_view_count": null,
            "_view_module_version": "1.5.0",
            "orientation": "horizontal",
            "min": 0,
            "description_tooltip": null,
            "_model_module": "@jupyter-widgets/controls",
            "layout": "IPY_MODEL_011893ab36774b4ba97d3365a24453fe"
          }
        },
        "8c79b2c599964abab3c9448a1477e674": {
          "model_module": "@jupyter-widgets/controls",
          "model_name": "HTMLModel",
          "state": {
            "_view_name": "HTMLView",
            "style": "IPY_MODEL_5bc695d1f09b441bb914bf6433cb132b",
            "_dom_classes": [],
            "description": "",
            "_model_name": "HTMLModel",
            "placeholder": "​",
            "_view_module": "@jupyter-widgets/controls",
            "_model_module_version": "1.5.0",
            "value": " 532299/532299 [00:00&lt;00:00, 810844.79it/s]",
            "_view_count": null,
            "_view_module_version": "1.5.0",
            "description_tooltip": null,
            "_model_module": "@jupyter-widgets/controls",
            "layout": "IPY_MODEL_a0974225e68c495f804db16d832532de"
          }
        },
        "e041d0c34241460796df91e141d12502": {
          "model_module": "@jupyter-widgets/controls",
          "model_name": "ProgressStyleModel",
          "state": {
            "_view_name": "StyleView",
            "_model_name": "ProgressStyleModel",
            "description_width": "initial",
            "_view_module": "@jupyter-widgets/base",
            "_model_module_version": "1.5.0",
            "_view_count": null,
            "_view_module_version": "1.2.0",
            "bar_color": null,
            "_model_module": "@jupyter-widgets/controls"
          }
        },
        "011893ab36774b4ba97d3365a24453fe": {
          "model_module": "@jupyter-widgets/base",
          "model_name": "LayoutModel",
          "state": {
            "_view_name": "LayoutView",
            "grid_template_rows": null,
            "right": null,
            "justify_content": null,
            "_view_module": "@jupyter-widgets/base",
            "overflow": null,
            "_model_module_version": "1.2.0",
            "_view_count": null,
            "flex_flow": null,
            "width": null,
            "min_width": null,
            "border": null,
            "align_items": null,
            "bottom": null,
            "_model_module": "@jupyter-widgets/base",
            "top": null,
            "grid_column": null,
            "overflow_y": null,
            "overflow_x": null,
            "grid_auto_flow": null,
            "grid_area": null,
            "grid_template_columns": null,
            "flex": null,
            "_model_name": "LayoutModel",
            "justify_items": null,
            "grid_row": null,
            "max_height": null,
            "align_content": null,
            "visibility": null,
            "align_self": null,
            "height": null,
            "min_height": null,
            "padding": null,
            "grid_auto_rows": null,
            "grid_gap": null,
            "max_width": null,
            "order": null,
            "_view_module_version": "1.2.0",
            "grid_template_areas": null,
            "object_position": null,
            "object_fit": null,
            "grid_auto_columns": null,
            "margin": null,
            "display": null,
            "left": null
          }
        },
        "5bc695d1f09b441bb914bf6433cb132b": {
          "model_module": "@jupyter-widgets/controls",
          "model_name": "DescriptionStyleModel",
          "state": {
            "_view_name": "StyleView",
            "_model_name": "DescriptionStyleModel",
            "description_width": "",
            "_view_module": "@jupyter-widgets/base",
            "_model_module_version": "1.5.0",
            "_view_count": null,
            "_view_module_version": "1.2.0",
            "_model_module": "@jupyter-widgets/controls"
          }
        },
        "a0974225e68c495f804db16d832532de": {
          "model_module": "@jupyter-widgets/base",
          "model_name": "LayoutModel",
          "state": {
            "_view_name": "LayoutView",
            "grid_template_rows": null,
            "right": null,
            "justify_content": null,
            "_view_module": "@jupyter-widgets/base",
            "overflow": null,
            "_model_module_version": "1.2.0",
            "_view_count": null,
            "flex_flow": null,
            "width": null,
            "min_width": null,
            "border": null,
            "align_items": null,
            "bottom": null,
            "_model_module": "@jupyter-widgets/base",
            "top": null,
            "grid_column": null,
            "overflow_y": null,
            "overflow_x": null,
            "grid_auto_flow": null,
            "grid_area": null,
            "grid_template_columns": null,
            "flex": null,
            "_model_name": "LayoutModel",
            "justify_items": null,
            "grid_row": null,
            "max_height": null,
            "align_content": null,
            "visibility": null,
            "align_self": null,
            "height": null,
            "min_height": null,
            "padding": null,
            "grid_auto_rows": null,
            "grid_gap": null,
            "max_width": null,
            "order": null,
            "_view_module_version": "1.2.0",
            "grid_template_areas": null,
            "object_position": null,
            "object_fit": null,
            "grid_auto_columns": null,
            "margin": null,
            "display": null,
            "left": null
          }
        },
        "1fa1bacc8eee404483012890420890c5": {
          "model_module": "@jupyter-widgets/controls",
          "model_name": "HBoxModel",
          "state": {
            "_view_name": "HBoxView",
            "_dom_classes": [],
            "_model_name": "HBoxModel",
            "_view_module": "@jupyter-widgets/controls",
            "_model_module_version": "1.5.0",
            "_view_count": null,
            "_view_module_version": "1.5.0",
            "box_style": "",
            "layout": "IPY_MODEL_342bb837a98449179ebbcee6f5c7954a",
            "_model_module": "@jupyter-widgets/controls",
            "children": [
              "IPY_MODEL_1cc6df6441254d418a5a567ec063f452",
              "IPY_MODEL_caad62be72014944b8275d8665944e10"
            ]
          }
        },
        "342bb837a98449179ebbcee6f5c7954a": {
          "model_module": "@jupyter-widgets/base",
          "model_name": "LayoutModel",
          "state": {
            "_view_name": "LayoutView",
            "grid_template_rows": null,
            "right": null,
            "justify_content": null,
            "_view_module": "@jupyter-widgets/base",
            "overflow": null,
            "_model_module_version": "1.2.0",
            "_view_count": null,
            "flex_flow": null,
            "width": null,
            "min_width": null,
            "border": null,
            "align_items": null,
            "bottom": null,
            "_model_module": "@jupyter-widgets/base",
            "top": null,
            "grid_column": null,
            "overflow_y": null,
            "overflow_x": null,
            "grid_auto_flow": null,
            "grid_area": null,
            "grid_template_columns": null,
            "flex": null,
            "_model_name": "LayoutModel",
            "justify_items": null,
            "grid_row": null,
            "max_height": null,
            "align_content": null,
            "visibility": null,
            "align_self": null,
            "height": null,
            "min_height": null,
            "padding": null,
            "grid_auto_rows": null,
            "grid_gap": null,
            "max_width": null,
            "order": null,
            "_view_module_version": "1.2.0",
            "grid_template_areas": null,
            "object_position": null,
            "object_fit": null,
            "grid_auto_columns": null,
            "margin": null,
            "display": null,
            "left": null
          }
        },
        "1cc6df6441254d418a5a567ec063f452": {
          "model_module": "@jupyter-widgets/controls",
          "model_name": "IntProgressModel",
          "state": {
            "_view_name": "ProgressView",
            "style": "IPY_MODEL_ff38ed2fafcf4b948682c20c97d5caa2",
            "_dom_classes": [],
            "description": "100%",
            "_model_name": "IntProgressModel",
            "bar_style": "success",
            "max": 159571,
            "_view_module": "@jupyter-widgets/controls",
            "_model_module_version": "1.5.0",
            "value": 159571,
            "_view_count": null,
            "_view_module_version": "1.5.0",
            "orientation": "horizontal",
            "min": 0,
            "description_tooltip": null,
            "_model_module": "@jupyter-widgets/controls",
            "layout": "IPY_MODEL_5e74ff6f041e46e3b5635529ef72e591"
          }
        },
        "caad62be72014944b8275d8665944e10": {
          "model_module": "@jupyter-widgets/controls",
          "model_name": "HTMLModel",
          "state": {
            "_view_name": "HTMLView",
            "style": "IPY_MODEL_06de2036bac74019ac224e216b93f122",
            "_dom_classes": [],
            "description": "",
            "_model_name": "HTMLModel",
            "placeholder": "​",
            "_view_module": "@jupyter-widgets/controls",
            "_model_module_version": "1.5.0",
            "value": " 159571/159571 [00:04&lt;00:00, 37899.97it/s]",
            "_view_count": null,
            "_view_module_version": "1.5.0",
            "description_tooltip": null,
            "_model_module": "@jupyter-widgets/controls",
            "layout": "IPY_MODEL_77cf09d016f74e78aac6683377eb520a"
          }
        },
        "ff38ed2fafcf4b948682c20c97d5caa2": {
          "model_module": "@jupyter-widgets/controls",
          "model_name": "ProgressStyleModel",
          "state": {
            "_view_name": "StyleView",
            "_model_name": "ProgressStyleModel",
            "description_width": "initial",
            "_view_module": "@jupyter-widgets/base",
            "_model_module_version": "1.5.0",
            "_view_count": null,
            "_view_module_version": "1.2.0",
            "bar_color": null,
            "_model_module": "@jupyter-widgets/controls"
          }
        },
        "5e74ff6f041e46e3b5635529ef72e591": {
          "model_module": "@jupyter-widgets/base",
          "model_name": "LayoutModel",
          "state": {
            "_view_name": "LayoutView",
            "grid_template_rows": null,
            "right": null,
            "justify_content": null,
            "_view_module": "@jupyter-widgets/base",
            "overflow": null,
            "_model_module_version": "1.2.0",
            "_view_count": null,
            "flex_flow": null,
            "width": null,
            "min_width": null,
            "border": null,
            "align_items": null,
            "bottom": null,
            "_model_module": "@jupyter-widgets/base",
            "top": null,
            "grid_column": null,
            "overflow_y": null,
            "overflow_x": null,
            "grid_auto_flow": null,
            "grid_area": null,
            "grid_template_columns": null,
            "flex": null,
            "_model_name": "LayoutModel",
            "justify_items": null,
            "grid_row": null,
            "max_height": null,
            "align_content": null,
            "visibility": null,
            "align_self": null,
            "height": null,
            "min_height": null,
            "padding": null,
            "grid_auto_rows": null,
            "grid_gap": null,
            "max_width": null,
            "order": null,
            "_view_module_version": "1.2.0",
            "grid_template_areas": null,
            "object_position": null,
            "object_fit": null,
            "grid_auto_columns": null,
            "margin": null,
            "display": null,
            "left": null
          }
        },
        "06de2036bac74019ac224e216b93f122": {
          "model_module": "@jupyter-widgets/controls",
          "model_name": "DescriptionStyleModel",
          "state": {
            "_view_name": "StyleView",
            "_model_name": "DescriptionStyleModel",
            "description_width": "",
            "_view_module": "@jupyter-widgets/base",
            "_model_module_version": "1.5.0",
            "_view_count": null,
            "_view_module_version": "1.2.0",
            "_model_module": "@jupyter-widgets/controls"
          }
        },
        "77cf09d016f74e78aac6683377eb520a": {
          "model_module": "@jupyter-widgets/base",
          "model_name": "LayoutModel",
          "state": {
            "_view_name": "LayoutView",
            "grid_template_rows": null,
            "right": null,
            "justify_content": null,
            "_view_module": "@jupyter-widgets/base",
            "overflow": null,
            "_model_module_version": "1.2.0",
            "_view_count": null,
            "flex_flow": null,
            "width": null,
            "min_width": null,
            "border": null,
            "align_items": null,
            "bottom": null,
            "_model_module": "@jupyter-widgets/base",
            "top": null,
            "grid_column": null,
            "overflow_y": null,
            "overflow_x": null,
            "grid_auto_flow": null,
            "grid_area": null,
            "grid_template_columns": null,
            "flex": null,
            "_model_name": "LayoutModel",
            "justify_items": null,
            "grid_row": null,
            "max_height": null,
            "align_content": null,
            "visibility": null,
            "align_self": null,
            "height": null,
            "min_height": null,
            "padding": null,
            "grid_auto_rows": null,
            "grid_gap": null,
            "max_width": null,
            "order": null,
            "_view_module_version": "1.2.0",
            "grid_template_areas": null,
            "object_position": null,
            "object_fit": null,
            "grid_auto_columns": null,
            "margin": null,
            "display": null,
            "left": null
          }
        },
        "009507368bc3451c9273c2f3150ac375": {
          "model_module": "@jupyter-widgets/controls",
          "model_name": "HBoxModel",
          "state": {
            "_view_name": "HBoxView",
            "_dom_classes": [],
            "_model_name": "HBoxModel",
            "_view_module": "@jupyter-widgets/controls",
            "_model_module_version": "1.5.0",
            "_view_count": null,
            "_view_module_version": "1.5.0",
            "box_style": "",
            "layout": "IPY_MODEL_10eb84a93d5c4410bf82b66c16e0c693",
            "_model_module": "@jupyter-widgets/controls",
            "children": [
              "IPY_MODEL_060cabc5a7194e258b32f1f4b8eb32f2",
              "IPY_MODEL_530eccd7c7c64910a9728b2a7a881f3b"
            ]
          }
        },
        "10eb84a93d5c4410bf82b66c16e0c693": {
          "model_module": "@jupyter-widgets/base",
          "model_name": "LayoutModel",
          "state": {
            "_view_name": "LayoutView",
            "grid_template_rows": null,
            "right": null,
            "justify_content": null,
            "_view_module": "@jupyter-widgets/base",
            "overflow": null,
            "_model_module_version": "1.2.0",
            "_view_count": null,
            "flex_flow": null,
            "width": null,
            "min_width": null,
            "border": null,
            "align_items": null,
            "bottom": null,
            "_model_module": "@jupyter-widgets/base",
            "top": null,
            "grid_column": null,
            "overflow_y": null,
            "overflow_x": null,
            "grid_auto_flow": null,
            "grid_area": null,
            "grid_template_columns": null,
            "flex": null,
            "_model_name": "LayoutModel",
            "justify_items": null,
            "grid_row": null,
            "max_height": null,
            "align_content": null,
            "visibility": null,
            "align_self": null,
            "height": null,
            "min_height": null,
            "padding": null,
            "grid_auto_rows": null,
            "grid_gap": null,
            "max_width": null,
            "order": null,
            "_view_module_version": "1.2.0",
            "grid_template_areas": null,
            "object_position": null,
            "object_fit": null,
            "grid_auto_columns": null,
            "margin": null,
            "display": null,
            "left": null
          }
        },
        "060cabc5a7194e258b32f1f4b8eb32f2": {
          "model_module": "@jupyter-widgets/controls",
          "model_name": "IntProgressModel",
          "state": {
            "_view_name": "ProgressView",
            "style": "IPY_MODEL_861e46a0c9d24df08593b0197f43b764",
            "_dom_classes": [],
            "description": "100%",
            "_model_name": "IntProgressModel",
            "bar_style": "success",
            "max": 153164,
            "_view_module": "@jupyter-widgets/controls",
            "_model_module_version": "1.5.0",
            "value": 153164,
            "_view_count": null,
            "_view_module_version": "1.5.0",
            "orientation": "horizontal",
            "min": 0,
            "description_tooltip": null,
            "_model_module": "@jupyter-widgets/controls",
            "layout": "IPY_MODEL_fb808f09a693405eac59a1f38a913f5b"
          }
        },
        "530eccd7c7c64910a9728b2a7a881f3b": {
          "model_module": "@jupyter-widgets/controls",
          "model_name": "HTMLModel",
          "state": {
            "_view_name": "HTMLView",
            "style": "IPY_MODEL_b10302e62ebd4de9a9418a58da2afe03",
            "_dom_classes": [],
            "description": "",
            "_model_name": "HTMLModel",
            "placeholder": "​",
            "_view_module": "@jupyter-widgets/controls",
            "_model_module_version": "1.5.0",
            "value": " 153164/153164 [00:03&lt;00:00, 40275.82it/s]",
            "_view_count": null,
            "_view_module_version": "1.5.0",
            "description_tooltip": null,
            "_model_module": "@jupyter-widgets/controls",
            "layout": "IPY_MODEL_e4ef7ef69d5c4c9589f7dbb1e25e3d47"
          }
        },
        "861e46a0c9d24df08593b0197f43b764": {
          "model_module": "@jupyter-widgets/controls",
          "model_name": "ProgressStyleModel",
          "state": {
            "_view_name": "StyleView",
            "_model_name": "ProgressStyleModel",
            "description_width": "initial",
            "_view_module": "@jupyter-widgets/base",
            "_model_module_version": "1.5.0",
            "_view_count": null,
            "_view_module_version": "1.2.0",
            "bar_color": null,
            "_model_module": "@jupyter-widgets/controls"
          }
        },
        "fb808f09a693405eac59a1f38a913f5b": {
          "model_module": "@jupyter-widgets/base",
          "model_name": "LayoutModel",
          "state": {
            "_view_name": "LayoutView",
            "grid_template_rows": null,
            "right": null,
            "justify_content": null,
            "_view_module": "@jupyter-widgets/base",
            "overflow": null,
            "_model_module_version": "1.2.0",
            "_view_count": null,
            "flex_flow": null,
            "width": null,
            "min_width": null,
            "border": null,
            "align_items": null,
            "bottom": null,
            "_model_module": "@jupyter-widgets/base",
            "top": null,
            "grid_column": null,
            "overflow_y": null,
            "overflow_x": null,
            "grid_auto_flow": null,
            "grid_area": null,
            "grid_template_columns": null,
            "flex": null,
            "_model_name": "LayoutModel",
            "justify_items": null,
            "grid_row": null,
            "max_height": null,
            "align_content": null,
            "visibility": null,
            "align_self": null,
            "height": null,
            "min_height": null,
            "padding": null,
            "grid_auto_rows": null,
            "grid_gap": null,
            "max_width": null,
            "order": null,
            "_view_module_version": "1.2.0",
            "grid_template_areas": null,
            "object_position": null,
            "object_fit": null,
            "grid_auto_columns": null,
            "margin": null,
            "display": null,
            "left": null
          }
        },
        "b10302e62ebd4de9a9418a58da2afe03": {
          "model_module": "@jupyter-widgets/controls",
          "model_name": "DescriptionStyleModel",
          "state": {
            "_view_name": "StyleView",
            "_model_name": "DescriptionStyleModel",
            "description_width": "",
            "_view_module": "@jupyter-widgets/base",
            "_model_module_version": "1.5.0",
            "_view_count": null,
            "_view_module_version": "1.2.0",
            "_model_module": "@jupyter-widgets/controls"
          }
        },
        "e4ef7ef69d5c4c9589f7dbb1e25e3d47": {
          "model_module": "@jupyter-widgets/base",
          "model_name": "LayoutModel",
          "state": {
            "_view_name": "LayoutView",
            "grid_template_rows": null,
            "right": null,
            "justify_content": null,
            "_view_module": "@jupyter-widgets/base",
            "overflow": null,
            "_model_module_version": "1.2.0",
            "_view_count": null,
            "flex_flow": null,
            "width": null,
            "min_width": null,
            "border": null,
            "align_items": null,
            "bottom": null,
            "_model_module": "@jupyter-widgets/base",
            "top": null,
            "grid_column": null,
            "overflow_y": null,
            "overflow_x": null,
            "grid_auto_flow": null,
            "grid_area": null,
            "grid_template_columns": null,
            "flex": null,
            "_model_name": "LayoutModel",
            "justify_items": null,
            "grid_row": null,
            "max_height": null,
            "align_content": null,
            "visibility": null,
            "align_self": null,
            "height": null,
            "min_height": null,
            "padding": null,
            "grid_auto_rows": null,
            "grid_gap": null,
            "max_width": null,
            "order": null,
            "_view_module_version": "1.2.0",
            "grid_template_areas": null,
            "object_position": null,
            "object_fit": null,
            "grid_auto_columns": null,
            "margin": null,
            "display": null,
            "left": null
          }
        },
        "b033970555a24b42ad170b7bc69e9307": {
          "model_module": "@jupyter-widgets/controls",
          "model_name": "HBoxModel",
          "state": {
            "_view_name": "HBoxView",
            "_dom_classes": [],
            "_model_name": "HBoxModel",
            "_view_module": "@jupyter-widgets/controls",
            "_model_module_version": "1.5.0",
            "_view_count": null,
            "_view_module_version": "1.5.0",
            "box_style": "",
            "layout": "IPY_MODEL_27a25adaa1ff42869e54e8834ce8ba3d",
            "_model_module": "@jupyter-widgets/controls",
            "children": [
              "IPY_MODEL_1be5ba40498e444aa53088035ec9ebd8",
              "IPY_MODEL_1bda4d52ee384e40840d03661702373c"
            ]
          }
        },
        "27a25adaa1ff42869e54e8834ce8ba3d": {
          "model_module": "@jupyter-widgets/base",
          "model_name": "LayoutModel",
          "state": {
            "_view_name": "LayoutView",
            "grid_template_rows": null,
            "right": null,
            "justify_content": null,
            "_view_module": "@jupyter-widgets/base",
            "overflow": null,
            "_model_module_version": "1.2.0",
            "_view_count": null,
            "flex_flow": null,
            "width": null,
            "min_width": null,
            "border": null,
            "align_items": null,
            "bottom": null,
            "_model_module": "@jupyter-widgets/base",
            "top": null,
            "grid_column": null,
            "overflow_y": null,
            "overflow_x": null,
            "grid_auto_flow": null,
            "grid_area": null,
            "grid_template_columns": null,
            "flex": null,
            "_model_name": "LayoutModel",
            "justify_items": null,
            "grid_row": null,
            "max_height": null,
            "align_content": null,
            "visibility": null,
            "align_self": null,
            "height": null,
            "min_height": null,
            "padding": null,
            "grid_auto_rows": null,
            "grid_gap": null,
            "max_width": null,
            "order": null,
            "_view_module_version": "1.2.0",
            "grid_template_areas": null,
            "object_position": null,
            "object_fit": null,
            "grid_auto_columns": null,
            "margin": null,
            "display": null,
            "left": null
          }
        },
        "1be5ba40498e444aa53088035ec9ebd8": {
          "model_module": "@jupyter-widgets/controls",
          "model_name": "IntProgressModel",
          "state": {
            "_view_name": "ProgressView",
            "style": "IPY_MODEL_90ddafaf41c744dbb9e13bf6f79fa478",
            "_dom_classes": [],
            "description": "100%",
            "_model_name": "IntProgressModel",
            "bar_style": "success",
            "max": 159571,
            "_view_module": "@jupyter-widgets/controls",
            "_model_module_version": "1.5.0",
            "value": 159571,
            "_view_count": null,
            "_view_module_version": "1.5.0",
            "orientation": "horizontal",
            "min": 0,
            "description_tooltip": null,
            "_model_module": "@jupyter-widgets/controls",
            "layout": "IPY_MODEL_b2fd3105b5d841d1839ccdb93e704d33"
          }
        },
        "1bda4d52ee384e40840d03661702373c": {
          "model_module": "@jupyter-widgets/controls",
          "model_name": "HTMLModel",
          "state": {
            "_view_name": "HTMLView",
            "style": "IPY_MODEL_d79c944538e740c4acf9dd17b0517ad7",
            "_dom_classes": [],
            "description": "",
            "_model_name": "HTMLModel",
            "placeholder": "​",
            "_view_module": "@jupyter-widgets/controls",
            "_model_module_version": "1.5.0",
            "value": " 159571/159571 [01:35&lt;00:00, 1668.46it/s]",
            "_view_count": null,
            "_view_module_version": "1.5.0",
            "description_tooltip": null,
            "_model_module": "@jupyter-widgets/controls",
            "layout": "IPY_MODEL_6971d29707944b67afb5bf6a478c120c"
          }
        },
        "90ddafaf41c744dbb9e13bf6f79fa478": {
          "model_module": "@jupyter-widgets/controls",
          "model_name": "ProgressStyleModel",
          "state": {
            "_view_name": "StyleView",
            "_model_name": "ProgressStyleModel",
            "description_width": "initial",
            "_view_module": "@jupyter-widgets/base",
            "_model_module_version": "1.5.0",
            "_view_count": null,
            "_view_module_version": "1.2.0",
            "bar_color": null,
            "_model_module": "@jupyter-widgets/controls"
          }
        },
        "b2fd3105b5d841d1839ccdb93e704d33": {
          "model_module": "@jupyter-widgets/base",
          "model_name": "LayoutModel",
          "state": {
            "_view_name": "LayoutView",
            "grid_template_rows": null,
            "right": null,
            "justify_content": null,
            "_view_module": "@jupyter-widgets/base",
            "overflow": null,
            "_model_module_version": "1.2.0",
            "_view_count": null,
            "flex_flow": null,
            "width": null,
            "min_width": null,
            "border": null,
            "align_items": null,
            "bottom": null,
            "_model_module": "@jupyter-widgets/base",
            "top": null,
            "grid_column": null,
            "overflow_y": null,
            "overflow_x": null,
            "grid_auto_flow": null,
            "grid_area": null,
            "grid_template_columns": null,
            "flex": null,
            "_model_name": "LayoutModel",
            "justify_items": null,
            "grid_row": null,
            "max_height": null,
            "align_content": null,
            "visibility": null,
            "align_self": null,
            "height": null,
            "min_height": null,
            "padding": null,
            "grid_auto_rows": null,
            "grid_gap": null,
            "max_width": null,
            "order": null,
            "_view_module_version": "1.2.0",
            "grid_template_areas": null,
            "object_position": null,
            "object_fit": null,
            "grid_auto_columns": null,
            "margin": null,
            "display": null,
            "left": null
          }
        },
        "d79c944538e740c4acf9dd17b0517ad7": {
          "model_module": "@jupyter-widgets/controls",
          "model_name": "DescriptionStyleModel",
          "state": {
            "_view_name": "StyleView",
            "_model_name": "DescriptionStyleModel",
            "description_width": "",
            "_view_module": "@jupyter-widgets/base",
            "_model_module_version": "1.5.0",
            "_view_count": null,
            "_view_module_version": "1.2.0",
            "_model_module": "@jupyter-widgets/controls"
          }
        },
        "6971d29707944b67afb5bf6a478c120c": {
          "model_module": "@jupyter-widgets/base",
          "model_name": "LayoutModel",
          "state": {
            "_view_name": "LayoutView",
            "grid_template_rows": null,
            "right": null,
            "justify_content": null,
            "_view_module": "@jupyter-widgets/base",
            "overflow": null,
            "_model_module_version": "1.2.0",
            "_view_count": null,
            "flex_flow": null,
            "width": null,
            "min_width": null,
            "border": null,
            "align_items": null,
            "bottom": null,
            "_model_module": "@jupyter-widgets/base",
            "top": null,
            "grid_column": null,
            "overflow_y": null,
            "overflow_x": null,
            "grid_auto_flow": null,
            "grid_area": null,
            "grid_template_columns": null,
            "flex": null,
            "_model_name": "LayoutModel",
            "justify_items": null,
            "grid_row": null,
            "max_height": null,
            "align_content": null,
            "visibility": null,
            "align_self": null,
            "height": null,
            "min_height": null,
            "padding": null,
            "grid_auto_rows": null,
            "grid_gap": null,
            "max_width": null,
            "order": null,
            "_view_module_version": "1.2.0",
            "grid_template_areas": null,
            "object_position": null,
            "object_fit": null,
            "grid_auto_columns": null,
            "margin": null,
            "display": null,
            "left": null
          }
        },
        "10ef9cd29c944172ac327adcc04c1857": {
          "model_module": "@jupyter-widgets/controls",
          "model_name": "HBoxModel",
          "state": {
            "_view_name": "HBoxView",
            "_dom_classes": [],
            "_model_name": "HBoxModel",
            "_view_module": "@jupyter-widgets/controls",
            "_model_module_version": "1.5.0",
            "_view_count": null,
            "_view_module_version": "1.5.0",
            "box_style": "",
            "layout": "IPY_MODEL_f54a4a8d50c94ca19cabc77d49a2395f",
            "_model_module": "@jupyter-widgets/controls",
            "children": [
              "IPY_MODEL_12eb401d7dfd421695344611ab3e071d",
              "IPY_MODEL_9512752cb5cf4c68bbf4c4af1746287e"
            ]
          }
        },
        "f54a4a8d50c94ca19cabc77d49a2395f": {
          "model_module": "@jupyter-widgets/base",
          "model_name": "LayoutModel",
          "state": {
            "_view_name": "LayoutView",
            "grid_template_rows": null,
            "right": null,
            "justify_content": null,
            "_view_module": "@jupyter-widgets/base",
            "overflow": null,
            "_model_module_version": "1.2.0",
            "_view_count": null,
            "flex_flow": null,
            "width": null,
            "min_width": null,
            "border": null,
            "align_items": null,
            "bottom": null,
            "_model_module": "@jupyter-widgets/base",
            "top": null,
            "grid_column": null,
            "overflow_y": null,
            "overflow_x": null,
            "grid_auto_flow": null,
            "grid_area": null,
            "grid_template_columns": null,
            "flex": null,
            "_model_name": "LayoutModel",
            "justify_items": null,
            "grid_row": null,
            "max_height": null,
            "align_content": null,
            "visibility": null,
            "align_self": null,
            "height": null,
            "min_height": null,
            "padding": null,
            "grid_auto_rows": null,
            "grid_gap": null,
            "max_width": null,
            "order": null,
            "_view_module_version": "1.2.0",
            "grid_template_areas": null,
            "object_position": null,
            "object_fit": null,
            "grid_auto_columns": null,
            "margin": null,
            "display": null,
            "left": null
          }
        },
        "12eb401d7dfd421695344611ab3e071d": {
          "model_module": "@jupyter-widgets/controls",
          "model_name": "IntProgressModel",
          "state": {
            "_view_name": "ProgressView",
            "style": "IPY_MODEL_f9b38290f2284baaadcacb7e7629221a",
            "_dom_classes": [],
            "description": "100%",
            "_model_name": "IntProgressModel",
            "bar_style": "success",
            "max": 153164,
            "_view_module": "@jupyter-widgets/controls",
            "_model_module_version": "1.5.0",
            "value": 153164,
            "_view_count": null,
            "_view_module_version": "1.5.0",
            "orientation": "horizontal",
            "min": 0,
            "description_tooltip": null,
            "_model_module": "@jupyter-widgets/controls",
            "layout": "IPY_MODEL_5cc1e598e60340808bb8c127685ac114"
          }
        },
        "9512752cb5cf4c68bbf4c4af1746287e": {
          "model_module": "@jupyter-widgets/controls",
          "model_name": "HTMLModel",
          "state": {
            "_view_name": "HTMLView",
            "style": "IPY_MODEL_4d9126e626234b018d4f728b2b66830b",
            "_dom_classes": [],
            "description": "",
            "_model_name": "HTMLModel",
            "placeholder": "​",
            "_view_module": "@jupyter-widgets/controls",
            "_model_module_version": "1.5.0",
            "value": " 153164/153164 [00:42&lt;00:00, 3631.26it/s]",
            "_view_count": null,
            "_view_module_version": "1.5.0",
            "description_tooltip": null,
            "_model_module": "@jupyter-widgets/controls",
            "layout": "IPY_MODEL_8998610db19747c9b15f5836b0ffb3ad"
          }
        },
        "f9b38290f2284baaadcacb7e7629221a": {
          "model_module": "@jupyter-widgets/controls",
          "model_name": "ProgressStyleModel",
          "state": {
            "_view_name": "StyleView",
            "_model_name": "ProgressStyleModel",
            "description_width": "initial",
            "_view_module": "@jupyter-widgets/base",
            "_model_module_version": "1.5.0",
            "_view_count": null,
            "_view_module_version": "1.2.0",
            "bar_color": null,
            "_model_module": "@jupyter-widgets/controls"
          }
        },
        "5cc1e598e60340808bb8c127685ac114": {
          "model_module": "@jupyter-widgets/base",
          "model_name": "LayoutModel",
          "state": {
            "_view_name": "LayoutView",
            "grid_template_rows": null,
            "right": null,
            "justify_content": null,
            "_view_module": "@jupyter-widgets/base",
            "overflow": null,
            "_model_module_version": "1.2.0",
            "_view_count": null,
            "flex_flow": null,
            "width": null,
            "min_width": null,
            "border": null,
            "align_items": null,
            "bottom": null,
            "_model_module": "@jupyter-widgets/base",
            "top": null,
            "grid_column": null,
            "overflow_y": null,
            "overflow_x": null,
            "grid_auto_flow": null,
            "grid_area": null,
            "grid_template_columns": null,
            "flex": null,
            "_model_name": "LayoutModel",
            "justify_items": null,
            "grid_row": null,
            "max_height": null,
            "align_content": null,
            "visibility": null,
            "align_self": null,
            "height": null,
            "min_height": null,
            "padding": null,
            "grid_auto_rows": null,
            "grid_gap": null,
            "max_width": null,
            "order": null,
            "_view_module_version": "1.2.0",
            "grid_template_areas": null,
            "object_position": null,
            "object_fit": null,
            "grid_auto_columns": null,
            "margin": null,
            "display": null,
            "left": null
          }
        },
        "4d9126e626234b018d4f728b2b66830b": {
          "model_module": "@jupyter-widgets/controls",
          "model_name": "DescriptionStyleModel",
          "state": {
            "_view_name": "StyleView",
            "_model_name": "DescriptionStyleModel",
            "description_width": "",
            "_view_module": "@jupyter-widgets/base",
            "_model_module_version": "1.5.0",
            "_view_count": null,
            "_view_module_version": "1.2.0",
            "_model_module": "@jupyter-widgets/controls"
          }
        },
        "8998610db19747c9b15f5836b0ffb3ad": {
          "model_module": "@jupyter-widgets/base",
          "model_name": "LayoutModel",
          "state": {
            "_view_name": "LayoutView",
            "grid_template_rows": null,
            "right": null,
            "justify_content": null,
            "_view_module": "@jupyter-widgets/base",
            "overflow": null,
            "_model_module_version": "1.2.0",
            "_view_count": null,
            "flex_flow": null,
            "width": null,
            "min_width": null,
            "border": null,
            "align_items": null,
            "bottom": null,
            "_model_module": "@jupyter-widgets/base",
            "top": null,
            "grid_column": null,
            "overflow_y": null,
            "overflow_x": null,
            "grid_auto_flow": null,
            "grid_area": null,
            "grid_template_columns": null,
            "flex": null,
            "_model_name": "LayoutModel",
            "justify_items": null,
            "grid_row": null,
            "max_height": null,
            "align_content": null,
            "visibility": null,
            "align_self": null,
            "height": null,
            "min_height": null,
            "padding": null,
            "grid_auto_rows": null,
            "grid_gap": null,
            "max_width": null,
            "order": null,
            "_view_module_version": "1.2.0",
            "grid_template_areas": null,
            "object_position": null,
            "object_fit": null,
            "grid_auto_columns": null,
            "margin": null,
            "display": null,
            "left": null
          }
        },
        "45d487e0ad4446d8843563a4c7531382": {
          "model_module": "@jupyter-widgets/controls",
          "model_name": "HBoxModel",
          "state": {
            "_view_name": "HBoxView",
            "_dom_classes": [],
            "_model_name": "HBoxModel",
            "_view_module": "@jupyter-widgets/controls",
            "_model_module_version": "1.5.0",
            "_view_count": null,
            "_view_module_version": "1.5.0",
            "box_style": "",
            "layout": "IPY_MODEL_d1d5f8f7aacd4db59b9901e0aebd049a",
            "_model_module": "@jupyter-widgets/controls",
            "children": [
              "IPY_MODEL_600b375dae494019916ce0c89c1a551e",
              "IPY_MODEL_7a6d90baff7d4baaa8d18d583227b59e"
            ]
          }
        },
        "d1d5f8f7aacd4db59b9901e0aebd049a": {
          "model_module": "@jupyter-widgets/base",
          "model_name": "LayoutModel",
          "state": {
            "_view_name": "LayoutView",
            "grid_template_rows": null,
            "right": null,
            "justify_content": null,
            "_view_module": "@jupyter-widgets/base",
            "overflow": null,
            "_model_module_version": "1.2.0",
            "_view_count": null,
            "flex_flow": null,
            "width": null,
            "min_width": null,
            "border": null,
            "align_items": null,
            "bottom": null,
            "_model_module": "@jupyter-widgets/base",
            "top": null,
            "grid_column": null,
            "overflow_y": null,
            "overflow_x": null,
            "grid_auto_flow": null,
            "grid_area": null,
            "grid_template_columns": null,
            "flex": null,
            "_model_name": "LayoutModel",
            "justify_items": null,
            "grid_row": null,
            "max_height": null,
            "align_content": null,
            "visibility": null,
            "align_self": null,
            "height": null,
            "min_height": null,
            "padding": null,
            "grid_auto_rows": null,
            "grid_gap": null,
            "max_width": null,
            "order": null,
            "_view_module_version": "1.2.0",
            "grid_template_areas": null,
            "object_position": null,
            "object_fit": null,
            "grid_auto_columns": null,
            "margin": null,
            "display": null,
            "left": null
          }
        },
        "600b375dae494019916ce0c89c1a551e": {
          "model_module": "@jupyter-widgets/controls",
          "model_name": "IntProgressModel",
          "state": {
            "_view_name": "ProgressView",
            "style": "IPY_MODEL_78d335a47b434c69b5af37806a0d2d6c",
            "_dom_classes": [],
            "description": "100%",
            "_model_name": "IntProgressModel",
            "bar_style": "success",
            "max": 159571,
            "_view_module": "@jupyter-widgets/controls",
            "_model_module_version": "1.5.0",
            "value": 159571,
            "_view_count": null,
            "_view_module_version": "1.5.0",
            "orientation": "horizontal",
            "min": 0,
            "description_tooltip": null,
            "_model_module": "@jupyter-widgets/controls",
            "layout": "IPY_MODEL_57f5c5d0b88c4b17862014379e0b0201"
          }
        },
        "7a6d90baff7d4baaa8d18d583227b59e": {
          "model_module": "@jupyter-widgets/controls",
          "model_name": "HTMLModel",
          "state": {
            "_view_name": "HTMLView",
            "style": "IPY_MODEL_199002ed92ff4aceaa7316902e346bd3",
            "_dom_classes": [],
            "description": "",
            "_model_name": "HTMLModel",
            "placeholder": "​",
            "_view_module": "@jupyter-widgets/controls",
            "_model_module_version": "1.5.0",
            "value": " 159571/159571 [00:38&lt;00:00, 4103.36it/s]",
            "_view_count": null,
            "_view_module_version": "1.5.0",
            "description_tooltip": null,
            "_model_module": "@jupyter-widgets/controls",
            "layout": "IPY_MODEL_baef7731dc2c47e89417bc7bed0817cc"
          }
        },
        "78d335a47b434c69b5af37806a0d2d6c": {
          "model_module": "@jupyter-widgets/controls",
          "model_name": "ProgressStyleModel",
          "state": {
            "_view_name": "StyleView",
            "_model_name": "ProgressStyleModel",
            "description_width": "initial",
            "_view_module": "@jupyter-widgets/base",
            "_model_module_version": "1.5.0",
            "_view_count": null,
            "_view_module_version": "1.2.0",
            "bar_color": null,
            "_model_module": "@jupyter-widgets/controls"
          }
        },
        "57f5c5d0b88c4b17862014379e0b0201": {
          "model_module": "@jupyter-widgets/base",
          "model_name": "LayoutModel",
          "state": {
            "_view_name": "LayoutView",
            "grid_template_rows": null,
            "right": null,
            "justify_content": null,
            "_view_module": "@jupyter-widgets/base",
            "overflow": null,
            "_model_module_version": "1.2.0",
            "_view_count": null,
            "flex_flow": null,
            "width": null,
            "min_width": null,
            "border": null,
            "align_items": null,
            "bottom": null,
            "_model_module": "@jupyter-widgets/base",
            "top": null,
            "grid_column": null,
            "overflow_y": null,
            "overflow_x": null,
            "grid_auto_flow": null,
            "grid_area": null,
            "grid_template_columns": null,
            "flex": null,
            "_model_name": "LayoutModel",
            "justify_items": null,
            "grid_row": null,
            "max_height": null,
            "align_content": null,
            "visibility": null,
            "align_self": null,
            "height": null,
            "min_height": null,
            "padding": null,
            "grid_auto_rows": null,
            "grid_gap": null,
            "max_width": null,
            "order": null,
            "_view_module_version": "1.2.0",
            "grid_template_areas": null,
            "object_position": null,
            "object_fit": null,
            "grid_auto_columns": null,
            "margin": null,
            "display": null,
            "left": null
          }
        },
        "199002ed92ff4aceaa7316902e346bd3": {
          "model_module": "@jupyter-widgets/controls",
          "model_name": "DescriptionStyleModel",
          "state": {
            "_view_name": "StyleView",
            "_model_name": "DescriptionStyleModel",
            "description_width": "",
            "_view_module": "@jupyter-widgets/base",
            "_model_module_version": "1.5.0",
            "_view_count": null,
            "_view_module_version": "1.2.0",
            "_model_module": "@jupyter-widgets/controls"
          }
        },
        "baef7731dc2c47e89417bc7bed0817cc": {
          "model_module": "@jupyter-widgets/base",
          "model_name": "LayoutModel",
          "state": {
            "_view_name": "LayoutView",
            "grid_template_rows": null,
            "right": null,
            "justify_content": null,
            "_view_module": "@jupyter-widgets/base",
            "overflow": null,
            "_model_module_version": "1.2.0",
            "_view_count": null,
            "flex_flow": null,
            "width": null,
            "min_width": null,
            "border": null,
            "align_items": null,
            "bottom": null,
            "_model_module": "@jupyter-widgets/base",
            "top": null,
            "grid_column": null,
            "overflow_y": null,
            "overflow_x": null,
            "grid_auto_flow": null,
            "grid_area": null,
            "grid_template_columns": null,
            "flex": null,
            "_model_name": "LayoutModel",
            "justify_items": null,
            "grid_row": null,
            "max_height": null,
            "align_content": null,
            "visibility": null,
            "align_self": null,
            "height": null,
            "min_height": null,
            "padding": null,
            "grid_auto_rows": null,
            "grid_gap": null,
            "max_width": null,
            "order": null,
            "_view_module_version": "1.2.0",
            "grid_template_areas": null,
            "object_position": null,
            "object_fit": null,
            "grid_auto_columns": null,
            "margin": null,
            "display": null,
            "left": null
          }
        },
        "9f64c34f84ff459cb5c628322e2643d9": {
          "model_module": "@jupyter-widgets/controls",
          "model_name": "HBoxModel",
          "state": {
            "_view_name": "HBoxView",
            "_dom_classes": [],
            "_model_name": "HBoxModel",
            "_view_module": "@jupyter-widgets/controls",
            "_model_module_version": "1.5.0",
            "_view_count": null,
            "_view_module_version": "1.5.0",
            "box_style": "",
            "layout": "IPY_MODEL_3fffb38ad1e34f7dbfb930fa5b549410",
            "_model_module": "@jupyter-widgets/controls",
            "children": [
              "IPY_MODEL_7771860783724914848a1a819e97880e",
              "IPY_MODEL_091cf8359be34b95b3925146c07bcffb"
            ]
          }
        },
        "3fffb38ad1e34f7dbfb930fa5b549410": {
          "model_module": "@jupyter-widgets/base",
          "model_name": "LayoutModel",
          "state": {
            "_view_name": "LayoutView",
            "grid_template_rows": null,
            "right": null,
            "justify_content": null,
            "_view_module": "@jupyter-widgets/base",
            "overflow": null,
            "_model_module_version": "1.2.0",
            "_view_count": null,
            "flex_flow": null,
            "width": null,
            "min_width": null,
            "border": null,
            "align_items": null,
            "bottom": null,
            "_model_module": "@jupyter-widgets/base",
            "top": null,
            "grid_column": null,
            "overflow_y": null,
            "overflow_x": null,
            "grid_auto_flow": null,
            "grid_area": null,
            "grid_template_columns": null,
            "flex": null,
            "_model_name": "LayoutModel",
            "justify_items": null,
            "grid_row": null,
            "max_height": null,
            "align_content": null,
            "visibility": null,
            "align_self": null,
            "height": null,
            "min_height": null,
            "padding": null,
            "grid_auto_rows": null,
            "grid_gap": null,
            "max_width": null,
            "order": null,
            "_view_module_version": "1.2.0",
            "grid_template_areas": null,
            "object_position": null,
            "object_fit": null,
            "grid_auto_columns": null,
            "margin": null,
            "display": null,
            "left": null
          }
        },
        "7771860783724914848a1a819e97880e": {
          "model_module": "@jupyter-widgets/controls",
          "model_name": "IntProgressModel",
          "state": {
            "_view_name": "ProgressView",
            "style": "IPY_MODEL_558cc22173634d2aa68b3d61b8990070",
            "_dom_classes": [],
            "description": "100%",
            "_model_name": "IntProgressModel",
            "bar_style": "success",
            "max": 153164,
            "_view_module": "@jupyter-widgets/controls",
            "_model_module_version": "1.5.0",
            "value": 153164,
            "_view_count": null,
            "_view_module_version": "1.5.0",
            "orientation": "horizontal",
            "min": 0,
            "description_tooltip": null,
            "_model_module": "@jupyter-widgets/controls",
            "layout": "IPY_MODEL_e6ae88e97252420bbc1d5c6b3bcdc76f"
          }
        },
        "091cf8359be34b95b3925146c07bcffb": {
          "model_module": "@jupyter-widgets/controls",
          "model_name": "HTMLModel",
          "state": {
            "_view_name": "HTMLView",
            "style": "IPY_MODEL_375ae16bd42b4df5b6f2224f02e0d3ea",
            "_dom_classes": [],
            "description": "",
            "_model_name": "HTMLModel",
            "placeholder": "​",
            "_view_module": "@jupyter-widgets/controls",
            "_model_module_version": "1.5.0",
            "value": " 153164/153164 [00:18&lt;00:00, 8500.23it/s]",
            "_view_count": null,
            "_view_module_version": "1.5.0",
            "description_tooltip": null,
            "_model_module": "@jupyter-widgets/controls",
            "layout": "IPY_MODEL_f8b7c399e2a44c61bfa892edd38c9e30"
          }
        },
        "558cc22173634d2aa68b3d61b8990070": {
          "model_module": "@jupyter-widgets/controls",
          "model_name": "ProgressStyleModel",
          "state": {
            "_view_name": "StyleView",
            "_model_name": "ProgressStyleModel",
            "description_width": "initial",
            "_view_module": "@jupyter-widgets/base",
            "_model_module_version": "1.5.0",
            "_view_count": null,
            "_view_module_version": "1.2.0",
            "bar_color": null,
            "_model_module": "@jupyter-widgets/controls"
          }
        },
        "e6ae88e97252420bbc1d5c6b3bcdc76f": {
          "model_module": "@jupyter-widgets/base",
          "model_name": "LayoutModel",
          "state": {
            "_view_name": "LayoutView",
            "grid_template_rows": null,
            "right": null,
            "justify_content": null,
            "_view_module": "@jupyter-widgets/base",
            "overflow": null,
            "_model_module_version": "1.2.0",
            "_view_count": null,
            "flex_flow": null,
            "width": null,
            "min_width": null,
            "border": null,
            "align_items": null,
            "bottom": null,
            "_model_module": "@jupyter-widgets/base",
            "top": null,
            "grid_column": null,
            "overflow_y": null,
            "overflow_x": null,
            "grid_auto_flow": null,
            "grid_area": null,
            "grid_template_columns": null,
            "flex": null,
            "_model_name": "LayoutModel",
            "justify_items": null,
            "grid_row": null,
            "max_height": null,
            "align_content": null,
            "visibility": null,
            "align_self": null,
            "height": null,
            "min_height": null,
            "padding": null,
            "grid_auto_rows": null,
            "grid_gap": null,
            "max_width": null,
            "order": null,
            "_view_module_version": "1.2.0",
            "grid_template_areas": null,
            "object_position": null,
            "object_fit": null,
            "grid_auto_columns": null,
            "margin": null,
            "display": null,
            "left": null
          }
        },
        "375ae16bd42b4df5b6f2224f02e0d3ea": {
          "model_module": "@jupyter-widgets/controls",
          "model_name": "DescriptionStyleModel",
          "state": {
            "_view_name": "StyleView",
            "_model_name": "DescriptionStyleModel",
            "description_width": "",
            "_view_module": "@jupyter-widgets/base",
            "_model_module_version": "1.5.0",
            "_view_count": null,
            "_view_module_version": "1.2.0",
            "_model_module": "@jupyter-widgets/controls"
          }
        },
        "f8b7c399e2a44c61bfa892edd38c9e30": {
          "model_module": "@jupyter-widgets/base",
          "model_name": "LayoutModel",
          "state": {
            "_view_name": "LayoutView",
            "grid_template_rows": null,
            "right": null,
            "justify_content": null,
            "_view_module": "@jupyter-widgets/base",
            "overflow": null,
            "_model_module_version": "1.2.0",
            "_view_count": null,
            "flex_flow": null,
            "width": null,
            "min_width": null,
            "border": null,
            "align_items": null,
            "bottom": null,
            "_model_module": "@jupyter-widgets/base",
            "top": null,
            "grid_column": null,
            "overflow_y": null,
            "overflow_x": null,
            "grid_auto_flow": null,
            "grid_area": null,
            "grid_template_columns": null,
            "flex": null,
            "_model_name": "LayoutModel",
            "justify_items": null,
            "grid_row": null,
            "max_height": null,
            "align_content": null,
            "visibility": null,
            "align_self": null,
            "height": null,
            "min_height": null,
            "padding": null,
            "grid_auto_rows": null,
            "grid_gap": null,
            "max_width": null,
            "order": null,
            "_view_module_version": "1.2.0",
            "grid_template_areas": null,
            "object_position": null,
            "object_fit": null,
            "grid_auto_columns": null,
            "margin": null,
            "display": null,
            "left": null
          }
        },
        "cb846106995e44a784f89220c89269c8": {
          "model_module": "@jupyter-widgets/controls",
          "model_name": "HBoxModel",
          "state": {
            "_view_name": "HBoxView",
            "_dom_classes": [],
            "_model_name": "HBoxModel",
            "_view_module": "@jupyter-widgets/controls",
            "_model_module_version": "1.5.0",
            "_view_count": null,
            "_view_module_version": "1.5.0",
            "box_style": "",
            "layout": "IPY_MODEL_7c1294990df04aa5ba65df7b55219014",
            "_model_module": "@jupyter-widgets/controls",
            "children": [
              "IPY_MODEL_1aec425f65c44e7cbfb8fb3ed1a9c684",
              "IPY_MODEL_d785e2dc2b504519b1f5d7107527838e"
            ]
          }
        },
        "7c1294990df04aa5ba65df7b55219014": {
          "model_module": "@jupyter-widgets/base",
          "model_name": "LayoutModel",
          "state": {
            "_view_name": "LayoutView",
            "grid_template_rows": null,
            "right": null,
            "justify_content": null,
            "_view_module": "@jupyter-widgets/base",
            "overflow": null,
            "_model_module_version": "1.2.0",
            "_view_count": null,
            "flex_flow": null,
            "width": null,
            "min_width": null,
            "border": null,
            "align_items": null,
            "bottom": null,
            "_model_module": "@jupyter-widgets/base",
            "top": null,
            "grid_column": null,
            "overflow_y": null,
            "overflow_x": null,
            "grid_auto_flow": null,
            "grid_area": null,
            "grid_template_columns": null,
            "flex": null,
            "_model_name": "LayoutModel",
            "justify_items": null,
            "grid_row": null,
            "max_height": null,
            "align_content": null,
            "visibility": null,
            "align_self": null,
            "height": null,
            "min_height": null,
            "padding": null,
            "grid_auto_rows": null,
            "grid_gap": null,
            "max_width": null,
            "order": null,
            "_view_module_version": "1.2.0",
            "grid_template_areas": null,
            "object_position": null,
            "object_fit": null,
            "grid_auto_columns": null,
            "margin": null,
            "display": null,
            "left": null
          }
        },
        "1aec425f65c44e7cbfb8fb3ed1a9c684": {
          "model_module": "@jupyter-widgets/controls",
          "model_name": "IntProgressModel",
          "state": {
            "_view_name": "ProgressView",
            "style": "IPY_MODEL_685776abdca64f9fbba83e2715c97ca4",
            "_dom_classes": [],
            "description": "100%",
            "_model_name": "IntProgressModel",
            "bar_style": "success",
            "max": 159571,
            "_view_module": "@jupyter-widgets/controls",
            "_model_module_version": "1.5.0",
            "value": 159571,
            "_view_count": null,
            "_view_module_version": "1.5.0",
            "orientation": "horizontal",
            "min": 0,
            "description_tooltip": null,
            "_model_module": "@jupyter-widgets/controls",
            "layout": "IPY_MODEL_a17c90e1fd9c4b40969e700cae779a8f"
          }
        },
        "d785e2dc2b504519b1f5d7107527838e": {
          "model_module": "@jupyter-widgets/controls",
          "model_name": "HTMLModel",
          "state": {
            "_view_name": "HTMLView",
            "style": "IPY_MODEL_a665d084f41c4c4992193e54ab4ae5de",
            "_dom_classes": [],
            "description": "",
            "_model_name": "HTMLModel",
            "placeholder": "​",
            "_view_module": "@jupyter-widgets/controls",
            "_model_module_version": "1.5.0",
            "value": " 159571/159571 [00:49&lt;00:00, 3203.65it/s]",
            "_view_count": null,
            "_view_module_version": "1.5.0",
            "description_tooltip": null,
            "_model_module": "@jupyter-widgets/controls",
            "layout": "IPY_MODEL_4cb3f4961b284b169cceb2a15b79411a"
          }
        },
        "685776abdca64f9fbba83e2715c97ca4": {
          "model_module": "@jupyter-widgets/controls",
          "model_name": "ProgressStyleModel",
          "state": {
            "_view_name": "StyleView",
            "_model_name": "ProgressStyleModel",
            "description_width": "initial",
            "_view_module": "@jupyter-widgets/base",
            "_model_module_version": "1.5.0",
            "_view_count": null,
            "_view_module_version": "1.2.0",
            "bar_color": null,
            "_model_module": "@jupyter-widgets/controls"
          }
        },
        "a17c90e1fd9c4b40969e700cae779a8f": {
          "model_module": "@jupyter-widgets/base",
          "model_name": "LayoutModel",
          "state": {
            "_view_name": "LayoutView",
            "grid_template_rows": null,
            "right": null,
            "justify_content": null,
            "_view_module": "@jupyter-widgets/base",
            "overflow": null,
            "_model_module_version": "1.2.0",
            "_view_count": null,
            "flex_flow": null,
            "width": null,
            "min_width": null,
            "border": null,
            "align_items": null,
            "bottom": null,
            "_model_module": "@jupyter-widgets/base",
            "top": null,
            "grid_column": null,
            "overflow_y": null,
            "overflow_x": null,
            "grid_auto_flow": null,
            "grid_area": null,
            "grid_template_columns": null,
            "flex": null,
            "_model_name": "LayoutModel",
            "justify_items": null,
            "grid_row": null,
            "max_height": null,
            "align_content": null,
            "visibility": null,
            "align_self": null,
            "height": null,
            "min_height": null,
            "padding": null,
            "grid_auto_rows": null,
            "grid_gap": null,
            "max_width": null,
            "order": null,
            "_view_module_version": "1.2.0",
            "grid_template_areas": null,
            "object_position": null,
            "object_fit": null,
            "grid_auto_columns": null,
            "margin": null,
            "display": null,
            "left": null
          }
        },
        "a665d084f41c4c4992193e54ab4ae5de": {
          "model_module": "@jupyter-widgets/controls",
          "model_name": "DescriptionStyleModel",
          "state": {
            "_view_name": "StyleView",
            "_model_name": "DescriptionStyleModel",
            "description_width": "",
            "_view_module": "@jupyter-widgets/base",
            "_model_module_version": "1.5.0",
            "_view_count": null,
            "_view_module_version": "1.2.0",
            "_model_module": "@jupyter-widgets/controls"
          }
        },
        "4cb3f4961b284b169cceb2a15b79411a": {
          "model_module": "@jupyter-widgets/base",
          "model_name": "LayoutModel",
          "state": {
            "_view_name": "LayoutView",
            "grid_template_rows": null,
            "right": null,
            "justify_content": null,
            "_view_module": "@jupyter-widgets/base",
            "overflow": null,
            "_model_module_version": "1.2.0",
            "_view_count": null,
            "flex_flow": null,
            "width": null,
            "min_width": null,
            "border": null,
            "align_items": null,
            "bottom": null,
            "_model_module": "@jupyter-widgets/base",
            "top": null,
            "grid_column": null,
            "overflow_y": null,
            "overflow_x": null,
            "grid_auto_flow": null,
            "grid_area": null,
            "grid_template_columns": null,
            "flex": null,
            "_model_name": "LayoutModel",
            "justify_items": null,
            "grid_row": null,
            "max_height": null,
            "align_content": null,
            "visibility": null,
            "align_self": null,
            "height": null,
            "min_height": null,
            "padding": null,
            "grid_auto_rows": null,
            "grid_gap": null,
            "max_width": null,
            "order": null,
            "_view_module_version": "1.2.0",
            "grid_template_areas": null,
            "object_position": null,
            "object_fit": null,
            "grid_auto_columns": null,
            "margin": null,
            "display": null,
            "left": null
          }
        },
        "3b1033f73cf8419ba100ada52c169ee6": {
          "model_module": "@jupyter-widgets/controls",
          "model_name": "HBoxModel",
          "state": {
            "_view_name": "HBoxView",
            "_dom_classes": [],
            "_model_name": "HBoxModel",
            "_view_module": "@jupyter-widgets/controls",
            "_model_module_version": "1.5.0",
            "_view_count": null,
            "_view_module_version": "1.5.0",
            "box_style": "",
            "layout": "IPY_MODEL_1252b94a2c784389839879ef07af1aef",
            "_model_module": "@jupyter-widgets/controls",
            "children": [
              "IPY_MODEL_995ff51349d2442bb6ed470d25efe05d",
              "IPY_MODEL_20923c227d5341ecad96b98236bb6fa6"
            ]
          }
        },
        "1252b94a2c784389839879ef07af1aef": {
          "model_module": "@jupyter-widgets/base",
          "model_name": "LayoutModel",
          "state": {
            "_view_name": "LayoutView",
            "grid_template_rows": null,
            "right": null,
            "justify_content": null,
            "_view_module": "@jupyter-widgets/base",
            "overflow": null,
            "_model_module_version": "1.2.0",
            "_view_count": null,
            "flex_flow": null,
            "width": null,
            "min_width": null,
            "border": null,
            "align_items": null,
            "bottom": null,
            "_model_module": "@jupyter-widgets/base",
            "top": null,
            "grid_column": null,
            "overflow_y": null,
            "overflow_x": null,
            "grid_auto_flow": null,
            "grid_area": null,
            "grid_template_columns": null,
            "flex": null,
            "_model_name": "LayoutModel",
            "justify_items": null,
            "grid_row": null,
            "max_height": null,
            "align_content": null,
            "visibility": null,
            "align_self": null,
            "height": null,
            "min_height": null,
            "padding": null,
            "grid_auto_rows": null,
            "grid_gap": null,
            "max_width": null,
            "order": null,
            "_view_module_version": "1.2.0",
            "grid_template_areas": null,
            "object_position": null,
            "object_fit": null,
            "grid_auto_columns": null,
            "margin": null,
            "display": null,
            "left": null
          }
        },
        "995ff51349d2442bb6ed470d25efe05d": {
          "model_module": "@jupyter-widgets/controls",
          "model_name": "IntProgressModel",
          "state": {
            "_view_name": "ProgressView",
            "style": "IPY_MODEL_a3cdacdfe151431db32a9418801b84b8",
            "_dom_classes": [],
            "description": "100%",
            "_model_name": "IntProgressModel",
            "bar_style": "success",
            "max": 153164,
            "_view_module": "@jupyter-widgets/controls",
            "_model_module_version": "1.5.0",
            "value": 153164,
            "_view_count": null,
            "_view_module_version": "1.5.0",
            "orientation": "horizontal",
            "min": 0,
            "description_tooltip": null,
            "_model_module": "@jupyter-widgets/controls",
            "layout": "IPY_MODEL_53726e63c2794deeb0256aca316f09ea"
          }
        },
        "20923c227d5341ecad96b98236bb6fa6": {
          "model_module": "@jupyter-widgets/controls",
          "model_name": "HTMLModel",
          "state": {
            "_view_name": "HTMLView",
            "style": "IPY_MODEL_6243f07e68a14251afb99aa0a8b44192",
            "_dom_classes": [],
            "description": "",
            "_model_name": "HTMLModel",
            "placeholder": "​",
            "_view_module": "@jupyter-widgets/controls",
            "_model_module_version": "1.5.0",
            "value": " 153164/153164 [00:12&lt;00:00, 11863.73it/s]",
            "_view_count": null,
            "_view_module_version": "1.5.0",
            "description_tooltip": null,
            "_model_module": "@jupyter-widgets/controls",
            "layout": "IPY_MODEL_3cbb3de421664a39977119ed41bcda24"
          }
        },
        "a3cdacdfe151431db32a9418801b84b8": {
          "model_module": "@jupyter-widgets/controls",
          "model_name": "ProgressStyleModel",
          "state": {
            "_view_name": "StyleView",
            "_model_name": "ProgressStyleModel",
            "description_width": "initial",
            "_view_module": "@jupyter-widgets/base",
            "_model_module_version": "1.5.0",
            "_view_count": null,
            "_view_module_version": "1.2.0",
            "bar_color": null,
            "_model_module": "@jupyter-widgets/controls"
          }
        },
        "53726e63c2794deeb0256aca316f09ea": {
          "model_module": "@jupyter-widgets/base",
          "model_name": "LayoutModel",
          "state": {
            "_view_name": "LayoutView",
            "grid_template_rows": null,
            "right": null,
            "justify_content": null,
            "_view_module": "@jupyter-widgets/base",
            "overflow": null,
            "_model_module_version": "1.2.0",
            "_view_count": null,
            "flex_flow": null,
            "width": null,
            "min_width": null,
            "border": null,
            "align_items": null,
            "bottom": null,
            "_model_module": "@jupyter-widgets/base",
            "top": null,
            "grid_column": null,
            "overflow_y": null,
            "overflow_x": null,
            "grid_auto_flow": null,
            "grid_area": null,
            "grid_template_columns": null,
            "flex": null,
            "_model_name": "LayoutModel",
            "justify_items": null,
            "grid_row": null,
            "max_height": null,
            "align_content": null,
            "visibility": null,
            "align_self": null,
            "height": null,
            "min_height": null,
            "padding": null,
            "grid_auto_rows": null,
            "grid_gap": null,
            "max_width": null,
            "order": null,
            "_view_module_version": "1.2.0",
            "grid_template_areas": null,
            "object_position": null,
            "object_fit": null,
            "grid_auto_columns": null,
            "margin": null,
            "display": null,
            "left": null
          }
        },
        "6243f07e68a14251afb99aa0a8b44192": {
          "model_module": "@jupyter-widgets/controls",
          "model_name": "DescriptionStyleModel",
          "state": {
            "_view_name": "StyleView",
            "_model_name": "DescriptionStyleModel",
            "description_width": "",
            "_view_module": "@jupyter-widgets/base",
            "_model_module_version": "1.5.0",
            "_view_count": null,
            "_view_module_version": "1.2.0",
            "_model_module": "@jupyter-widgets/controls"
          }
        },
        "3cbb3de421664a39977119ed41bcda24": {
          "model_module": "@jupyter-widgets/base",
          "model_name": "LayoutModel",
          "state": {
            "_view_name": "LayoutView",
            "grid_template_rows": null,
            "right": null,
            "justify_content": null,
            "_view_module": "@jupyter-widgets/base",
            "overflow": null,
            "_model_module_version": "1.2.0",
            "_view_count": null,
            "flex_flow": null,
            "width": null,
            "min_width": null,
            "border": null,
            "align_items": null,
            "bottom": null,
            "_model_module": "@jupyter-widgets/base",
            "top": null,
            "grid_column": null,
            "overflow_y": null,
            "overflow_x": null,
            "grid_auto_flow": null,
            "grid_area": null,
            "grid_template_columns": null,
            "flex": null,
            "_model_name": "LayoutModel",
            "justify_items": null,
            "grid_row": null,
            "max_height": null,
            "align_content": null,
            "visibility": null,
            "align_self": null,
            "height": null,
            "min_height": null,
            "padding": null,
            "grid_auto_rows": null,
            "grid_gap": null,
            "max_width": null,
            "order": null,
            "_view_module_version": "1.2.0",
            "grid_template_areas": null,
            "object_position": null,
            "object_fit": null,
            "grid_auto_columns": null,
            "margin": null,
            "display": null,
            "left": null
          }
        },
        "1489736d5a9c41358d08225d6e958fce": {
          "model_module": "@jupyter-widgets/controls",
          "model_name": "HBoxModel",
          "state": {
            "_view_name": "HBoxView",
            "_dom_classes": [],
            "_model_name": "HBoxModel",
            "_view_module": "@jupyter-widgets/controls",
            "_model_module_version": "1.5.0",
            "_view_count": null,
            "_view_module_version": "1.5.0",
            "box_style": "",
            "layout": "IPY_MODEL_dab07e9d44d64ce0ae628ae954c60166",
            "_model_module": "@jupyter-widgets/controls",
            "children": [
              "IPY_MODEL_dbb9b87ffa2644bd8082209a4eec37f7",
              "IPY_MODEL_fe79c8af4f22492896cdcba73bbbd451"
            ]
          }
        },
        "dab07e9d44d64ce0ae628ae954c60166": {
          "model_module": "@jupyter-widgets/base",
          "model_name": "LayoutModel",
          "state": {
            "_view_name": "LayoutView",
            "grid_template_rows": null,
            "right": null,
            "justify_content": null,
            "_view_module": "@jupyter-widgets/base",
            "overflow": null,
            "_model_module_version": "1.2.0",
            "_view_count": null,
            "flex_flow": null,
            "width": null,
            "min_width": null,
            "border": null,
            "align_items": null,
            "bottom": null,
            "_model_module": "@jupyter-widgets/base",
            "top": null,
            "grid_column": null,
            "overflow_y": null,
            "overflow_x": null,
            "grid_auto_flow": null,
            "grid_area": null,
            "grid_template_columns": null,
            "flex": null,
            "_model_name": "LayoutModel",
            "justify_items": null,
            "grid_row": null,
            "max_height": null,
            "align_content": null,
            "visibility": null,
            "align_self": null,
            "height": null,
            "min_height": null,
            "padding": null,
            "grid_auto_rows": null,
            "grid_gap": null,
            "max_width": null,
            "order": null,
            "_view_module_version": "1.2.0",
            "grid_template_areas": null,
            "object_position": null,
            "object_fit": null,
            "grid_auto_columns": null,
            "margin": null,
            "display": null,
            "left": null
          }
        },
        "dbb9b87ffa2644bd8082209a4eec37f7": {
          "model_module": "@jupyter-widgets/controls",
          "model_name": "IntProgressModel",
          "state": {
            "_view_name": "ProgressView",
            "style": "IPY_MODEL_34e7bc5132aa41cd8ddf68284d3133e5",
            "_dom_classes": [],
            "description": "100%",
            "_model_name": "IntProgressModel",
            "bar_style": "success",
            "max": 159571,
            "_view_module": "@jupyter-widgets/controls",
            "_model_module_version": "1.5.0",
            "value": 159571,
            "_view_count": null,
            "_view_module_version": "1.5.0",
            "orientation": "horizontal",
            "min": 0,
            "description_tooltip": null,
            "_model_module": "@jupyter-widgets/controls",
            "layout": "IPY_MODEL_23a51335dd67404d99a7345a57246ee9"
          }
        },
        "fe79c8af4f22492896cdcba73bbbd451": {
          "model_module": "@jupyter-widgets/controls",
          "model_name": "HTMLModel",
          "state": {
            "_view_name": "HTMLView",
            "style": "IPY_MODEL_85c7972e9939411fb95ce080d37d0958",
            "_dom_classes": [],
            "description": "",
            "_model_name": "HTMLModel",
            "placeholder": "​",
            "_view_module": "@jupyter-widgets/controls",
            "_model_module_version": "1.5.0",
            "value": " 159571/159571 [00:03&lt;00:00, 43005.69it/s]",
            "_view_count": null,
            "_view_module_version": "1.5.0",
            "description_tooltip": null,
            "_model_module": "@jupyter-widgets/controls",
            "layout": "IPY_MODEL_d3f630a826f24ccdbb9affb1cf3ac9bc"
          }
        },
        "34e7bc5132aa41cd8ddf68284d3133e5": {
          "model_module": "@jupyter-widgets/controls",
          "model_name": "ProgressStyleModel",
          "state": {
            "_view_name": "StyleView",
            "_model_name": "ProgressStyleModel",
            "description_width": "initial",
            "_view_module": "@jupyter-widgets/base",
            "_model_module_version": "1.5.0",
            "_view_count": null,
            "_view_module_version": "1.2.0",
            "bar_color": null,
            "_model_module": "@jupyter-widgets/controls"
          }
        },
        "23a51335dd67404d99a7345a57246ee9": {
          "model_module": "@jupyter-widgets/base",
          "model_name": "LayoutModel",
          "state": {
            "_view_name": "LayoutView",
            "grid_template_rows": null,
            "right": null,
            "justify_content": null,
            "_view_module": "@jupyter-widgets/base",
            "overflow": null,
            "_model_module_version": "1.2.0",
            "_view_count": null,
            "flex_flow": null,
            "width": null,
            "min_width": null,
            "border": null,
            "align_items": null,
            "bottom": null,
            "_model_module": "@jupyter-widgets/base",
            "top": null,
            "grid_column": null,
            "overflow_y": null,
            "overflow_x": null,
            "grid_auto_flow": null,
            "grid_area": null,
            "grid_template_columns": null,
            "flex": null,
            "_model_name": "LayoutModel",
            "justify_items": null,
            "grid_row": null,
            "max_height": null,
            "align_content": null,
            "visibility": null,
            "align_self": null,
            "height": null,
            "min_height": null,
            "padding": null,
            "grid_auto_rows": null,
            "grid_gap": null,
            "max_width": null,
            "order": null,
            "_view_module_version": "1.2.0",
            "grid_template_areas": null,
            "object_position": null,
            "object_fit": null,
            "grid_auto_columns": null,
            "margin": null,
            "display": null,
            "left": null
          }
        },
        "85c7972e9939411fb95ce080d37d0958": {
          "model_module": "@jupyter-widgets/controls",
          "model_name": "DescriptionStyleModel",
          "state": {
            "_view_name": "StyleView",
            "_model_name": "DescriptionStyleModel",
            "description_width": "",
            "_view_module": "@jupyter-widgets/base",
            "_model_module_version": "1.5.0",
            "_view_count": null,
            "_view_module_version": "1.2.0",
            "_model_module": "@jupyter-widgets/controls"
          }
        },
        "d3f630a826f24ccdbb9affb1cf3ac9bc": {
          "model_module": "@jupyter-widgets/base",
          "model_name": "LayoutModel",
          "state": {
            "_view_name": "LayoutView",
            "grid_template_rows": null,
            "right": null,
            "justify_content": null,
            "_view_module": "@jupyter-widgets/base",
            "overflow": null,
            "_model_module_version": "1.2.0",
            "_view_count": null,
            "flex_flow": null,
            "width": null,
            "min_width": null,
            "border": null,
            "align_items": null,
            "bottom": null,
            "_model_module": "@jupyter-widgets/base",
            "top": null,
            "grid_column": null,
            "overflow_y": null,
            "overflow_x": null,
            "grid_auto_flow": null,
            "grid_area": null,
            "grid_template_columns": null,
            "flex": null,
            "_model_name": "LayoutModel",
            "justify_items": null,
            "grid_row": null,
            "max_height": null,
            "align_content": null,
            "visibility": null,
            "align_self": null,
            "height": null,
            "min_height": null,
            "padding": null,
            "grid_auto_rows": null,
            "grid_gap": null,
            "max_width": null,
            "order": null,
            "_view_module_version": "1.2.0",
            "grid_template_areas": null,
            "object_position": null,
            "object_fit": null,
            "grid_auto_columns": null,
            "margin": null,
            "display": null,
            "left": null
          }
        },
        "262429c7f1544b858609e9c1b0ab20f6": {
          "model_module": "@jupyter-widgets/controls",
          "model_name": "HBoxModel",
          "state": {
            "_view_name": "HBoxView",
            "_dom_classes": [],
            "_model_name": "HBoxModel",
            "_view_module": "@jupyter-widgets/controls",
            "_model_module_version": "1.5.0",
            "_view_count": null,
            "_view_module_version": "1.5.0",
            "box_style": "",
            "layout": "IPY_MODEL_94e22d68970f4d8da8260cf4c9b8f1b7",
            "_model_module": "@jupyter-widgets/controls",
            "children": [
              "IPY_MODEL_00826dcbe7fe4649ac1053d0b883ab73",
              "IPY_MODEL_1c9267494ab241cd9cacccae5406c495"
            ]
          }
        },
        "94e22d68970f4d8da8260cf4c9b8f1b7": {
          "model_module": "@jupyter-widgets/base",
          "model_name": "LayoutModel",
          "state": {
            "_view_name": "LayoutView",
            "grid_template_rows": null,
            "right": null,
            "justify_content": null,
            "_view_module": "@jupyter-widgets/base",
            "overflow": null,
            "_model_module_version": "1.2.0",
            "_view_count": null,
            "flex_flow": null,
            "width": null,
            "min_width": null,
            "border": null,
            "align_items": null,
            "bottom": null,
            "_model_module": "@jupyter-widgets/base",
            "top": null,
            "grid_column": null,
            "overflow_y": null,
            "overflow_x": null,
            "grid_auto_flow": null,
            "grid_area": null,
            "grid_template_columns": null,
            "flex": null,
            "_model_name": "LayoutModel",
            "justify_items": null,
            "grid_row": null,
            "max_height": null,
            "align_content": null,
            "visibility": null,
            "align_self": null,
            "height": null,
            "min_height": null,
            "padding": null,
            "grid_auto_rows": null,
            "grid_gap": null,
            "max_width": null,
            "order": null,
            "_view_module_version": "1.2.0",
            "grid_template_areas": null,
            "object_position": null,
            "object_fit": null,
            "grid_auto_columns": null,
            "margin": null,
            "display": null,
            "left": null
          }
        },
        "00826dcbe7fe4649ac1053d0b883ab73": {
          "model_module": "@jupyter-widgets/controls",
          "model_name": "IntProgressModel",
          "state": {
            "_view_name": "ProgressView",
            "style": "IPY_MODEL_e0d3f5c68c3444169c0bc1d7192afb60",
            "_dom_classes": [],
            "description": "100%",
            "_model_name": "IntProgressModel",
            "bar_style": "success",
            "max": 153164,
            "_view_module": "@jupyter-widgets/controls",
            "_model_module_version": "1.5.0",
            "value": 153164,
            "_view_count": null,
            "_view_module_version": "1.5.0",
            "orientation": "horizontal",
            "min": 0,
            "description_tooltip": null,
            "_model_module": "@jupyter-widgets/controls",
            "layout": "IPY_MODEL_1aa874141ff84ca2857a07e8b19a366b"
          }
        },
        "1c9267494ab241cd9cacccae5406c495": {
          "model_module": "@jupyter-widgets/controls",
          "model_name": "HTMLModel",
          "state": {
            "_view_name": "HTMLView",
            "style": "IPY_MODEL_20fc1daab1ba44aeb1704e06aeaab9ef",
            "_dom_classes": [],
            "description": "",
            "_model_name": "HTMLModel",
            "placeholder": "​",
            "_view_module": "@jupyter-widgets/controls",
            "_model_module_version": "1.5.0",
            "value": " 153164/153164 [00:01&lt;00:00, 86717.52it/s]",
            "_view_count": null,
            "_view_module_version": "1.5.0",
            "description_tooltip": null,
            "_model_module": "@jupyter-widgets/controls",
            "layout": "IPY_MODEL_23a2f51a929640eab74f9af32554e271"
          }
        },
        "e0d3f5c68c3444169c0bc1d7192afb60": {
          "model_module": "@jupyter-widgets/controls",
          "model_name": "ProgressStyleModel",
          "state": {
            "_view_name": "StyleView",
            "_model_name": "ProgressStyleModel",
            "description_width": "initial",
            "_view_module": "@jupyter-widgets/base",
            "_model_module_version": "1.5.0",
            "_view_count": null,
            "_view_module_version": "1.2.0",
            "bar_color": null,
            "_model_module": "@jupyter-widgets/controls"
          }
        },
        "1aa874141ff84ca2857a07e8b19a366b": {
          "model_module": "@jupyter-widgets/base",
          "model_name": "LayoutModel",
          "state": {
            "_view_name": "LayoutView",
            "grid_template_rows": null,
            "right": null,
            "justify_content": null,
            "_view_module": "@jupyter-widgets/base",
            "overflow": null,
            "_model_module_version": "1.2.0",
            "_view_count": null,
            "flex_flow": null,
            "width": null,
            "min_width": null,
            "border": null,
            "align_items": null,
            "bottom": null,
            "_model_module": "@jupyter-widgets/base",
            "top": null,
            "grid_column": null,
            "overflow_y": null,
            "overflow_x": null,
            "grid_auto_flow": null,
            "grid_area": null,
            "grid_template_columns": null,
            "flex": null,
            "_model_name": "LayoutModel",
            "justify_items": null,
            "grid_row": null,
            "max_height": null,
            "align_content": null,
            "visibility": null,
            "align_self": null,
            "height": null,
            "min_height": null,
            "padding": null,
            "grid_auto_rows": null,
            "grid_gap": null,
            "max_width": null,
            "order": null,
            "_view_module_version": "1.2.0",
            "grid_template_areas": null,
            "object_position": null,
            "object_fit": null,
            "grid_auto_columns": null,
            "margin": null,
            "display": null,
            "left": null
          }
        },
        "20fc1daab1ba44aeb1704e06aeaab9ef": {
          "model_module": "@jupyter-widgets/controls",
          "model_name": "DescriptionStyleModel",
          "state": {
            "_view_name": "StyleView",
            "_model_name": "DescriptionStyleModel",
            "description_width": "",
            "_view_module": "@jupyter-widgets/base",
            "_model_module_version": "1.5.0",
            "_view_count": null,
            "_view_module_version": "1.2.0",
            "_model_module": "@jupyter-widgets/controls"
          }
        },
        "23a2f51a929640eab74f9af32554e271": {
          "model_module": "@jupyter-widgets/base",
          "model_name": "LayoutModel",
          "state": {
            "_view_name": "LayoutView",
            "grid_template_rows": null,
            "right": null,
            "justify_content": null,
            "_view_module": "@jupyter-widgets/base",
            "overflow": null,
            "_model_module_version": "1.2.0",
            "_view_count": null,
            "flex_flow": null,
            "width": null,
            "min_width": null,
            "border": null,
            "align_items": null,
            "bottom": null,
            "_model_module": "@jupyter-widgets/base",
            "top": null,
            "grid_column": null,
            "overflow_y": null,
            "overflow_x": null,
            "grid_auto_flow": null,
            "grid_area": null,
            "grid_template_columns": null,
            "flex": null,
            "_model_name": "LayoutModel",
            "justify_items": null,
            "grid_row": null,
            "max_height": null,
            "align_content": null,
            "visibility": null,
            "align_self": null,
            "height": null,
            "min_height": null,
            "padding": null,
            "grid_auto_rows": null,
            "grid_gap": null,
            "max_width": null,
            "order": null,
            "_view_module_version": "1.2.0",
            "grid_template_areas": null,
            "object_position": null,
            "object_fit": null,
            "grid_auto_columns": null,
            "margin": null,
            "display": null,
            "left": null
          }
        },
        "75758a770a684f4580d32555015e08b4": {
          "model_module": "@jupyter-widgets/controls",
          "model_name": "HBoxModel",
          "state": {
            "_view_name": "HBoxView",
            "_dom_classes": [],
            "_model_name": "HBoxModel",
            "_view_module": "@jupyter-widgets/controls",
            "_model_module_version": "1.5.0",
            "_view_count": null,
            "_view_module_version": "1.5.0",
            "box_style": "",
            "layout": "IPY_MODEL_a866dc60f1d546d68f71d4d88ceb1cf1",
            "_model_module": "@jupyter-widgets/controls",
            "children": [
              "IPY_MODEL_b1d213a3901b4beebd376a6fc5cdbd25",
              "IPY_MODEL_020ffd2be7d84a26ae78372e4229946d"
            ]
          }
        },
        "a866dc60f1d546d68f71d4d88ceb1cf1": {
          "model_module": "@jupyter-widgets/base",
          "model_name": "LayoutModel",
          "state": {
            "_view_name": "LayoutView",
            "grid_template_rows": null,
            "right": null,
            "justify_content": null,
            "_view_module": "@jupyter-widgets/base",
            "overflow": null,
            "_model_module_version": "1.2.0",
            "_view_count": null,
            "flex_flow": null,
            "width": null,
            "min_width": null,
            "border": null,
            "align_items": null,
            "bottom": null,
            "_model_module": "@jupyter-widgets/base",
            "top": null,
            "grid_column": null,
            "overflow_y": null,
            "overflow_x": null,
            "grid_auto_flow": null,
            "grid_area": null,
            "grid_template_columns": null,
            "flex": null,
            "_model_name": "LayoutModel",
            "justify_items": null,
            "grid_row": null,
            "max_height": null,
            "align_content": null,
            "visibility": null,
            "align_self": null,
            "height": null,
            "min_height": null,
            "padding": null,
            "grid_auto_rows": null,
            "grid_gap": null,
            "max_width": null,
            "order": null,
            "_view_module_version": "1.2.0",
            "grid_template_areas": null,
            "object_position": null,
            "object_fit": null,
            "grid_auto_columns": null,
            "margin": null,
            "display": null,
            "left": null
          }
        },
        "b1d213a3901b4beebd376a6fc5cdbd25": {
          "model_module": "@jupyter-widgets/controls",
          "model_name": "IntProgressModel",
          "state": {
            "_view_name": "ProgressView",
            "style": "IPY_MODEL_b7f5f55dcceb45bd94d8aca5e1cdddd2",
            "_dom_classes": [],
            "description": "100%",
            "_model_name": "IntProgressModel",
            "bar_style": "success",
            "max": 159571,
            "_view_module": "@jupyter-widgets/controls",
            "_model_module_version": "1.5.0",
            "value": 159571,
            "_view_count": null,
            "_view_module_version": "1.5.0",
            "orientation": "horizontal",
            "min": 0,
            "description_tooltip": null,
            "_model_module": "@jupyter-widgets/controls",
            "layout": "IPY_MODEL_a9a7908acd5f4c7e96a86f3af59558fc"
          }
        },
        "020ffd2be7d84a26ae78372e4229946d": {
          "model_module": "@jupyter-widgets/controls",
          "model_name": "HTMLModel",
          "state": {
            "_view_name": "HTMLView",
            "style": "IPY_MODEL_117ddff397264cbeb3fabe1d3a6684b6",
            "_dom_classes": [],
            "description": "",
            "_model_name": "HTMLModel",
            "placeholder": "​",
            "_view_module": "@jupyter-widgets/controls",
            "_model_module_version": "1.5.0",
            "value": " 159571/159571 [00:26&lt;00:00, 6009.67it/s]",
            "_view_count": null,
            "_view_module_version": "1.5.0",
            "description_tooltip": null,
            "_model_module": "@jupyter-widgets/controls",
            "layout": "IPY_MODEL_867f0a45d5d74dcbbebdd916404b0539"
          }
        },
        "b7f5f55dcceb45bd94d8aca5e1cdddd2": {
          "model_module": "@jupyter-widgets/controls",
          "model_name": "ProgressStyleModel",
          "state": {
            "_view_name": "StyleView",
            "_model_name": "ProgressStyleModel",
            "description_width": "initial",
            "_view_module": "@jupyter-widgets/base",
            "_model_module_version": "1.5.0",
            "_view_count": null,
            "_view_module_version": "1.2.0",
            "bar_color": null,
            "_model_module": "@jupyter-widgets/controls"
          }
        },
        "a9a7908acd5f4c7e96a86f3af59558fc": {
          "model_module": "@jupyter-widgets/base",
          "model_name": "LayoutModel",
          "state": {
            "_view_name": "LayoutView",
            "grid_template_rows": null,
            "right": null,
            "justify_content": null,
            "_view_module": "@jupyter-widgets/base",
            "overflow": null,
            "_model_module_version": "1.2.0",
            "_view_count": null,
            "flex_flow": null,
            "width": null,
            "min_width": null,
            "border": null,
            "align_items": null,
            "bottom": null,
            "_model_module": "@jupyter-widgets/base",
            "top": null,
            "grid_column": null,
            "overflow_y": null,
            "overflow_x": null,
            "grid_auto_flow": null,
            "grid_area": null,
            "grid_template_columns": null,
            "flex": null,
            "_model_name": "LayoutModel",
            "justify_items": null,
            "grid_row": null,
            "max_height": null,
            "align_content": null,
            "visibility": null,
            "align_self": null,
            "height": null,
            "min_height": null,
            "padding": null,
            "grid_auto_rows": null,
            "grid_gap": null,
            "max_width": null,
            "order": null,
            "_view_module_version": "1.2.0",
            "grid_template_areas": null,
            "object_position": null,
            "object_fit": null,
            "grid_auto_columns": null,
            "margin": null,
            "display": null,
            "left": null
          }
        },
        "117ddff397264cbeb3fabe1d3a6684b6": {
          "model_module": "@jupyter-widgets/controls",
          "model_name": "DescriptionStyleModel",
          "state": {
            "_view_name": "StyleView",
            "_model_name": "DescriptionStyleModel",
            "description_width": "",
            "_view_module": "@jupyter-widgets/base",
            "_model_module_version": "1.5.0",
            "_view_count": null,
            "_view_module_version": "1.2.0",
            "_model_module": "@jupyter-widgets/controls"
          }
        },
        "867f0a45d5d74dcbbebdd916404b0539": {
          "model_module": "@jupyter-widgets/base",
          "model_name": "LayoutModel",
          "state": {
            "_view_name": "LayoutView",
            "grid_template_rows": null,
            "right": null,
            "justify_content": null,
            "_view_module": "@jupyter-widgets/base",
            "overflow": null,
            "_model_module_version": "1.2.0",
            "_view_count": null,
            "flex_flow": null,
            "width": null,
            "min_width": null,
            "border": null,
            "align_items": null,
            "bottom": null,
            "_model_module": "@jupyter-widgets/base",
            "top": null,
            "grid_column": null,
            "overflow_y": null,
            "overflow_x": null,
            "grid_auto_flow": null,
            "grid_area": null,
            "grid_template_columns": null,
            "flex": null,
            "_model_name": "LayoutModel",
            "justify_items": null,
            "grid_row": null,
            "max_height": null,
            "align_content": null,
            "visibility": null,
            "align_self": null,
            "height": null,
            "min_height": null,
            "padding": null,
            "grid_auto_rows": null,
            "grid_gap": null,
            "max_width": null,
            "order": null,
            "_view_module_version": "1.2.0",
            "grid_template_areas": null,
            "object_position": null,
            "object_fit": null,
            "grid_auto_columns": null,
            "margin": null,
            "display": null,
            "left": null
          }
        },
        "0827dfc8a65e4aa499f253fae5a72625": {
          "model_module": "@jupyter-widgets/controls",
          "model_name": "HBoxModel",
          "state": {
            "_view_name": "HBoxView",
            "_dom_classes": [],
            "_model_name": "HBoxModel",
            "_view_module": "@jupyter-widgets/controls",
            "_model_module_version": "1.5.0",
            "_view_count": null,
            "_view_module_version": "1.5.0",
            "box_style": "",
            "layout": "IPY_MODEL_a68561ccac894543b207dc05c19369cf",
            "_model_module": "@jupyter-widgets/controls",
            "children": [
              "IPY_MODEL_f851bdda2c3c4ffd9b62eb27ee88d21a",
              "IPY_MODEL_b7350276c2594b2bbdf1b242e2d3e6be"
            ]
          }
        },
        "a68561ccac894543b207dc05c19369cf": {
          "model_module": "@jupyter-widgets/base",
          "model_name": "LayoutModel",
          "state": {
            "_view_name": "LayoutView",
            "grid_template_rows": null,
            "right": null,
            "justify_content": null,
            "_view_module": "@jupyter-widgets/base",
            "overflow": null,
            "_model_module_version": "1.2.0",
            "_view_count": null,
            "flex_flow": null,
            "width": null,
            "min_width": null,
            "border": null,
            "align_items": null,
            "bottom": null,
            "_model_module": "@jupyter-widgets/base",
            "top": null,
            "grid_column": null,
            "overflow_y": null,
            "overflow_x": null,
            "grid_auto_flow": null,
            "grid_area": null,
            "grid_template_columns": null,
            "flex": null,
            "_model_name": "LayoutModel",
            "justify_items": null,
            "grid_row": null,
            "max_height": null,
            "align_content": null,
            "visibility": null,
            "align_self": null,
            "height": null,
            "min_height": null,
            "padding": null,
            "grid_auto_rows": null,
            "grid_gap": null,
            "max_width": null,
            "order": null,
            "_view_module_version": "1.2.0",
            "grid_template_areas": null,
            "object_position": null,
            "object_fit": null,
            "grid_auto_columns": null,
            "margin": null,
            "display": null,
            "left": null
          }
        },
        "f851bdda2c3c4ffd9b62eb27ee88d21a": {
          "model_module": "@jupyter-widgets/controls",
          "model_name": "IntProgressModel",
          "state": {
            "_view_name": "ProgressView",
            "style": "IPY_MODEL_c2c4d3eafe714fadb87097bb408f4c08",
            "_dom_classes": [],
            "description": "100%",
            "_model_name": "IntProgressModel",
            "bar_style": "success",
            "max": 153164,
            "_view_module": "@jupyter-widgets/controls",
            "_model_module_version": "1.5.0",
            "value": 153164,
            "_view_count": null,
            "_view_module_version": "1.5.0",
            "orientation": "horizontal",
            "min": 0,
            "description_tooltip": null,
            "_model_module": "@jupyter-widgets/controls",
            "layout": "IPY_MODEL_9360f694a25c4f93b6f52ceaaccb6b86"
          }
        },
        "b7350276c2594b2bbdf1b242e2d3e6be": {
          "model_module": "@jupyter-widgets/controls",
          "model_name": "HTMLModel",
          "state": {
            "_view_name": "HTMLView",
            "style": "IPY_MODEL_701316f71183461c958c5520ca2a2683",
            "_dom_classes": [],
            "description": "",
            "_model_name": "HTMLModel",
            "placeholder": "​",
            "_view_module": "@jupyter-widgets/controls",
            "_model_module_version": "1.5.0",
            "value": " 153164/153164 [00:06&lt;00:00, 24954.96it/s]",
            "_view_count": null,
            "_view_module_version": "1.5.0",
            "description_tooltip": null,
            "_model_module": "@jupyter-widgets/controls",
            "layout": "IPY_MODEL_77a8fe5d0b434c91acb1c04d0a9a6229"
          }
        },
        "c2c4d3eafe714fadb87097bb408f4c08": {
          "model_module": "@jupyter-widgets/controls",
          "model_name": "ProgressStyleModel",
          "state": {
            "_view_name": "StyleView",
            "_model_name": "ProgressStyleModel",
            "description_width": "initial",
            "_view_module": "@jupyter-widgets/base",
            "_model_module_version": "1.5.0",
            "_view_count": null,
            "_view_module_version": "1.2.0",
            "bar_color": null,
            "_model_module": "@jupyter-widgets/controls"
          }
        },
        "9360f694a25c4f93b6f52ceaaccb6b86": {
          "model_module": "@jupyter-widgets/base",
          "model_name": "LayoutModel",
          "state": {
            "_view_name": "LayoutView",
            "grid_template_rows": null,
            "right": null,
            "justify_content": null,
            "_view_module": "@jupyter-widgets/base",
            "overflow": null,
            "_model_module_version": "1.2.0",
            "_view_count": null,
            "flex_flow": null,
            "width": null,
            "min_width": null,
            "border": null,
            "align_items": null,
            "bottom": null,
            "_model_module": "@jupyter-widgets/base",
            "top": null,
            "grid_column": null,
            "overflow_y": null,
            "overflow_x": null,
            "grid_auto_flow": null,
            "grid_area": null,
            "grid_template_columns": null,
            "flex": null,
            "_model_name": "LayoutModel",
            "justify_items": null,
            "grid_row": null,
            "max_height": null,
            "align_content": null,
            "visibility": null,
            "align_self": null,
            "height": null,
            "min_height": null,
            "padding": null,
            "grid_auto_rows": null,
            "grid_gap": null,
            "max_width": null,
            "order": null,
            "_view_module_version": "1.2.0",
            "grid_template_areas": null,
            "object_position": null,
            "object_fit": null,
            "grid_auto_columns": null,
            "margin": null,
            "display": null,
            "left": null
          }
        },
        "701316f71183461c958c5520ca2a2683": {
          "model_module": "@jupyter-widgets/controls",
          "model_name": "DescriptionStyleModel",
          "state": {
            "_view_name": "StyleView",
            "_model_name": "DescriptionStyleModel",
            "description_width": "",
            "_view_module": "@jupyter-widgets/base",
            "_model_module_version": "1.5.0",
            "_view_count": null,
            "_view_module_version": "1.2.0",
            "_model_module": "@jupyter-widgets/controls"
          }
        },
        "77a8fe5d0b434c91acb1c04d0a9a6229": {
          "model_module": "@jupyter-widgets/base",
          "model_name": "LayoutModel",
          "state": {
            "_view_name": "LayoutView",
            "grid_template_rows": null,
            "right": null,
            "justify_content": null,
            "_view_module": "@jupyter-widgets/base",
            "overflow": null,
            "_model_module_version": "1.2.0",
            "_view_count": null,
            "flex_flow": null,
            "width": null,
            "min_width": null,
            "border": null,
            "align_items": null,
            "bottom": null,
            "_model_module": "@jupyter-widgets/base",
            "top": null,
            "grid_column": null,
            "overflow_y": null,
            "overflow_x": null,
            "grid_auto_flow": null,
            "grid_area": null,
            "grid_template_columns": null,
            "flex": null,
            "_model_name": "LayoutModel",
            "justify_items": null,
            "grid_row": null,
            "max_height": null,
            "align_content": null,
            "visibility": null,
            "align_self": null,
            "height": null,
            "min_height": null,
            "padding": null,
            "grid_auto_rows": null,
            "grid_gap": null,
            "max_width": null,
            "order": null,
            "_view_module_version": "1.2.0",
            "grid_template_areas": null,
            "object_position": null,
            "object_fit": null,
            "grid_auto_columns": null,
            "margin": null,
            "display": null,
            "left": null
          }
        },
        "1ba85885dbe643ec8bc7603ad2bbdd36": {
          "model_module": "@jupyter-widgets/controls",
          "model_name": "HBoxModel",
          "state": {
            "_view_name": "HBoxView",
            "_dom_classes": [],
            "_model_name": "HBoxModel",
            "_view_module": "@jupyter-widgets/controls",
            "_model_module_version": "1.5.0",
            "_view_count": null,
            "_view_module_version": "1.5.0",
            "box_style": "",
            "layout": "IPY_MODEL_b627a874915a443eb6b9763a88e87c74",
            "_model_module": "@jupyter-widgets/controls",
            "children": [
              "IPY_MODEL_99994e2d20794522ad1152b065f2e64a",
              "IPY_MODEL_c0b8e753bd844e7c99b8d64e31707bb4"
            ]
          }
        },
        "b627a874915a443eb6b9763a88e87c74": {
          "model_module": "@jupyter-widgets/base",
          "model_name": "LayoutModel",
          "state": {
            "_view_name": "LayoutView",
            "grid_template_rows": null,
            "right": null,
            "justify_content": null,
            "_view_module": "@jupyter-widgets/base",
            "overflow": null,
            "_model_module_version": "1.2.0",
            "_view_count": null,
            "flex_flow": null,
            "width": null,
            "min_width": null,
            "border": null,
            "align_items": null,
            "bottom": null,
            "_model_module": "@jupyter-widgets/base",
            "top": null,
            "grid_column": null,
            "overflow_y": null,
            "overflow_x": null,
            "grid_auto_flow": null,
            "grid_area": null,
            "grid_template_columns": null,
            "flex": null,
            "_model_name": "LayoutModel",
            "justify_items": null,
            "grid_row": null,
            "max_height": null,
            "align_content": null,
            "visibility": null,
            "align_self": null,
            "height": null,
            "min_height": null,
            "padding": null,
            "grid_auto_rows": null,
            "grid_gap": null,
            "max_width": null,
            "order": null,
            "_view_module_version": "1.2.0",
            "grid_template_areas": null,
            "object_position": null,
            "object_fit": null,
            "grid_auto_columns": null,
            "margin": null,
            "display": null,
            "left": null
          }
        },
        "99994e2d20794522ad1152b065f2e64a": {
          "model_module": "@jupyter-widgets/controls",
          "model_name": "IntProgressModel",
          "state": {
            "_view_name": "ProgressView",
            "style": "IPY_MODEL_714abc70d5ee437e924c632b7b2f5ad8",
            "_dom_classes": [],
            "description": "100%",
            "_model_name": "IntProgressModel",
            "bar_style": "success",
            "max": 159571,
            "_view_module": "@jupyter-widgets/controls",
            "_model_module_version": "1.5.0",
            "value": 159571,
            "_view_count": null,
            "_view_module_version": "1.5.0",
            "orientation": "horizontal",
            "min": 0,
            "description_tooltip": null,
            "_model_module": "@jupyter-widgets/controls",
            "layout": "IPY_MODEL_71061d7f5384483f9ab3dea14080e78b"
          }
        },
        "c0b8e753bd844e7c99b8d64e31707bb4": {
          "model_module": "@jupyter-widgets/controls",
          "model_name": "HTMLModel",
          "state": {
            "_view_name": "HTMLView",
            "style": "IPY_MODEL_1d07c8864a434262831ccaeed6f60676",
            "_dom_classes": [],
            "description": "",
            "_model_name": "HTMLModel",
            "placeholder": "​",
            "_view_module": "@jupyter-widgets/controls",
            "_model_module_version": "1.5.0",
            "value": " 159571/159571 [00:04&lt;00:00, 38817.46it/s]",
            "_view_count": null,
            "_view_module_version": "1.5.0",
            "description_tooltip": null,
            "_model_module": "@jupyter-widgets/controls",
            "layout": "IPY_MODEL_4b50b6bb317741b297423e69cc762119"
          }
        },
        "714abc70d5ee437e924c632b7b2f5ad8": {
          "model_module": "@jupyter-widgets/controls",
          "model_name": "ProgressStyleModel",
          "state": {
            "_view_name": "StyleView",
            "_model_name": "ProgressStyleModel",
            "description_width": "initial",
            "_view_module": "@jupyter-widgets/base",
            "_model_module_version": "1.5.0",
            "_view_count": null,
            "_view_module_version": "1.2.0",
            "bar_color": null,
            "_model_module": "@jupyter-widgets/controls"
          }
        },
        "71061d7f5384483f9ab3dea14080e78b": {
          "model_module": "@jupyter-widgets/base",
          "model_name": "LayoutModel",
          "state": {
            "_view_name": "LayoutView",
            "grid_template_rows": null,
            "right": null,
            "justify_content": null,
            "_view_module": "@jupyter-widgets/base",
            "overflow": null,
            "_model_module_version": "1.2.0",
            "_view_count": null,
            "flex_flow": null,
            "width": null,
            "min_width": null,
            "border": null,
            "align_items": null,
            "bottom": null,
            "_model_module": "@jupyter-widgets/base",
            "top": null,
            "grid_column": null,
            "overflow_y": null,
            "overflow_x": null,
            "grid_auto_flow": null,
            "grid_area": null,
            "grid_template_columns": null,
            "flex": null,
            "_model_name": "LayoutModel",
            "justify_items": null,
            "grid_row": null,
            "max_height": null,
            "align_content": null,
            "visibility": null,
            "align_self": null,
            "height": null,
            "min_height": null,
            "padding": null,
            "grid_auto_rows": null,
            "grid_gap": null,
            "max_width": null,
            "order": null,
            "_view_module_version": "1.2.0",
            "grid_template_areas": null,
            "object_position": null,
            "object_fit": null,
            "grid_auto_columns": null,
            "margin": null,
            "display": null,
            "left": null
          }
        },
        "1d07c8864a434262831ccaeed6f60676": {
          "model_module": "@jupyter-widgets/controls",
          "model_name": "DescriptionStyleModel",
          "state": {
            "_view_name": "StyleView",
            "_model_name": "DescriptionStyleModel",
            "description_width": "",
            "_view_module": "@jupyter-widgets/base",
            "_model_module_version": "1.5.0",
            "_view_count": null,
            "_view_module_version": "1.2.0",
            "_model_module": "@jupyter-widgets/controls"
          }
        },
        "4b50b6bb317741b297423e69cc762119": {
          "model_module": "@jupyter-widgets/base",
          "model_name": "LayoutModel",
          "state": {
            "_view_name": "LayoutView",
            "grid_template_rows": null,
            "right": null,
            "justify_content": null,
            "_view_module": "@jupyter-widgets/base",
            "overflow": null,
            "_model_module_version": "1.2.0",
            "_view_count": null,
            "flex_flow": null,
            "width": null,
            "min_width": null,
            "border": null,
            "align_items": null,
            "bottom": null,
            "_model_module": "@jupyter-widgets/base",
            "top": null,
            "grid_column": null,
            "overflow_y": null,
            "overflow_x": null,
            "grid_auto_flow": null,
            "grid_area": null,
            "grid_template_columns": null,
            "flex": null,
            "_model_name": "LayoutModel",
            "justify_items": null,
            "grid_row": null,
            "max_height": null,
            "align_content": null,
            "visibility": null,
            "align_self": null,
            "height": null,
            "min_height": null,
            "padding": null,
            "grid_auto_rows": null,
            "grid_gap": null,
            "max_width": null,
            "order": null,
            "_view_module_version": "1.2.0",
            "grid_template_areas": null,
            "object_position": null,
            "object_fit": null,
            "grid_auto_columns": null,
            "margin": null,
            "display": null,
            "left": null
          }
        },
        "c6ae4feb75bd43768420212980374d18": {
          "model_module": "@jupyter-widgets/controls",
          "model_name": "HBoxModel",
          "state": {
            "_view_name": "HBoxView",
            "_dom_classes": [],
            "_model_name": "HBoxModel",
            "_view_module": "@jupyter-widgets/controls",
            "_model_module_version": "1.5.0",
            "_view_count": null,
            "_view_module_version": "1.5.0",
            "box_style": "",
            "layout": "IPY_MODEL_dc66035232ae457996eca5fb3616934e",
            "_model_module": "@jupyter-widgets/controls",
            "children": [
              "IPY_MODEL_197fd545dbb64a93bd13935283c92d7d",
              "IPY_MODEL_49ed5918af30451caeba22496f9a4a58"
            ]
          }
        },
        "dc66035232ae457996eca5fb3616934e": {
          "model_module": "@jupyter-widgets/base",
          "model_name": "LayoutModel",
          "state": {
            "_view_name": "LayoutView",
            "grid_template_rows": null,
            "right": null,
            "justify_content": null,
            "_view_module": "@jupyter-widgets/base",
            "overflow": null,
            "_model_module_version": "1.2.0",
            "_view_count": null,
            "flex_flow": null,
            "width": null,
            "min_width": null,
            "border": null,
            "align_items": null,
            "bottom": null,
            "_model_module": "@jupyter-widgets/base",
            "top": null,
            "grid_column": null,
            "overflow_y": null,
            "overflow_x": null,
            "grid_auto_flow": null,
            "grid_area": null,
            "grid_template_columns": null,
            "flex": null,
            "_model_name": "LayoutModel",
            "justify_items": null,
            "grid_row": null,
            "max_height": null,
            "align_content": null,
            "visibility": null,
            "align_self": null,
            "height": null,
            "min_height": null,
            "padding": null,
            "grid_auto_rows": null,
            "grid_gap": null,
            "max_width": null,
            "order": null,
            "_view_module_version": "1.2.0",
            "grid_template_areas": null,
            "object_position": null,
            "object_fit": null,
            "grid_auto_columns": null,
            "margin": null,
            "display": null,
            "left": null
          }
        },
        "197fd545dbb64a93bd13935283c92d7d": {
          "model_module": "@jupyter-widgets/controls",
          "model_name": "IntProgressModel",
          "state": {
            "_view_name": "ProgressView",
            "style": "IPY_MODEL_93fa6b4915054867afd39dc786156142",
            "_dom_classes": [],
            "description": "100%",
            "_model_name": "IntProgressModel",
            "bar_style": "success",
            "max": 153164,
            "_view_module": "@jupyter-widgets/controls",
            "_model_module_version": "1.5.0",
            "value": 153164,
            "_view_count": null,
            "_view_module_version": "1.5.0",
            "orientation": "horizontal",
            "min": 0,
            "description_tooltip": null,
            "_model_module": "@jupyter-widgets/controls",
            "layout": "IPY_MODEL_60f4d44a3420446fa88abd26db4e7ebc"
          }
        },
        "49ed5918af30451caeba22496f9a4a58": {
          "model_module": "@jupyter-widgets/controls",
          "model_name": "HTMLModel",
          "state": {
            "_view_name": "HTMLView",
            "style": "IPY_MODEL_9c80f1889fd140dd82a45d7253fafe97",
            "_dom_classes": [],
            "description": "",
            "_model_name": "HTMLModel",
            "placeholder": "​",
            "_view_module": "@jupyter-widgets/controls",
            "_model_module_version": "1.5.0",
            "value": " 153164/153164 [00:18&lt;00:00, 8436.74it/s]",
            "_view_count": null,
            "_view_module_version": "1.5.0",
            "description_tooltip": null,
            "_model_module": "@jupyter-widgets/controls",
            "layout": "IPY_MODEL_852118bc00ee4c43a9f176836596631d"
          }
        },
        "93fa6b4915054867afd39dc786156142": {
          "model_module": "@jupyter-widgets/controls",
          "model_name": "ProgressStyleModel",
          "state": {
            "_view_name": "StyleView",
            "_model_name": "ProgressStyleModel",
            "description_width": "initial",
            "_view_module": "@jupyter-widgets/base",
            "_model_module_version": "1.5.0",
            "_view_count": null,
            "_view_module_version": "1.2.0",
            "bar_color": null,
            "_model_module": "@jupyter-widgets/controls"
          }
        },
        "60f4d44a3420446fa88abd26db4e7ebc": {
          "model_module": "@jupyter-widgets/base",
          "model_name": "LayoutModel",
          "state": {
            "_view_name": "LayoutView",
            "grid_template_rows": null,
            "right": null,
            "justify_content": null,
            "_view_module": "@jupyter-widgets/base",
            "overflow": null,
            "_model_module_version": "1.2.0",
            "_view_count": null,
            "flex_flow": null,
            "width": null,
            "min_width": null,
            "border": null,
            "align_items": null,
            "bottom": null,
            "_model_module": "@jupyter-widgets/base",
            "top": null,
            "grid_column": null,
            "overflow_y": null,
            "overflow_x": null,
            "grid_auto_flow": null,
            "grid_area": null,
            "grid_template_columns": null,
            "flex": null,
            "_model_name": "LayoutModel",
            "justify_items": null,
            "grid_row": null,
            "max_height": null,
            "align_content": null,
            "visibility": null,
            "align_self": null,
            "height": null,
            "min_height": null,
            "padding": null,
            "grid_auto_rows": null,
            "grid_gap": null,
            "max_width": null,
            "order": null,
            "_view_module_version": "1.2.0",
            "grid_template_areas": null,
            "object_position": null,
            "object_fit": null,
            "grid_auto_columns": null,
            "margin": null,
            "display": null,
            "left": null
          }
        },
        "9c80f1889fd140dd82a45d7253fafe97": {
          "model_module": "@jupyter-widgets/controls",
          "model_name": "DescriptionStyleModel",
          "state": {
            "_view_name": "StyleView",
            "_model_name": "DescriptionStyleModel",
            "description_width": "",
            "_view_module": "@jupyter-widgets/base",
            "_model_module_version": "1.5.0",
            "_view_count": null,
            "_view_module_version": "1.2.0",
            "_model_module": "@jupyter-widgets/controls"
          }
        },
        "852118bc00ee4c43a9f176836596631d": {
          "model_module": "@jupyter-widgets/base",
          "model_name": "LayoutModel",
          "state": {
            "_view_name": "LayoutView",
            "grid_template_rows": null,
            "right": null,
            "justify_content": null,
            "_view_module": "@jupyter-widgets/base",
            "overflow": null,
            "_model_module_version": "1.2.0",
            "_view_count": null,
            "flex_flow": null,
            "width": null,
            "min_width": null,
            "border": null,
            "align_items": null,
            "bottom": null,
            "_model_module": "@jupyter-widgets/base",
            "top": null,
            "grid_column": null,
            "overflow_y": null,
            "overflow_x": null,
            "grid_auto_flow": null,
            "grid_area": null,
            "grid_template_columns": null,
            "flex": null,
            "_model_name": "LayoutModel",
            "justify_items": null,
            "grid_row": null,
            "max_height": null,
            "align_content": null,
            "visibility": null,
            "align_self": null,
            "height": null,
            "min_height": null,
            "padding": null,
            "grid_auto_rows": null,
            "grid_gap": null,
            "max_width": null,
            "order": null,
            "_view_module_version": "1.2.0",
            "grid_template_areas": null,
            "object_position": null,
            "object_fit": null,
            "grid_auto_columns": null,
            "margin": null,
            "display": null,
            "left": null
          }
        },
        "59aef70172a6439f81366c8b667b7f3a": {
          "model_module": "@jupyter-widgets/controls",
          "model_name": "HBoxModel",
          "state": {
            "_view_name": "HBoxView",
            "_dom_classes": [],
            "_model_name": "HBoxModel",
            "_view_module": "@jupyter-widgets/controls",
            "_model_module_version": "1.5.0",
            "_view_count": null,
            "_view_module_version": "1.5.0",
            "box_style": "",
            "layout": "IPY_MODEL_03ed8337b38a49c18c1a3814d8598567",
            "_model_module": "@jupyter-widgets/controls",
            "children": [
              "IPY_MODEL_f03e9daf59d74329bc1bb2f5ccdce4ed",
              "IPY_MODEL_996a19632c894e429f3d952ab2d5305d"
            ]
          }
        },
        "03ed8337b38a49c18c1a3814d8598567": {
          "model_module": "@jupyter-widgets/base",
          "model_name": "LayoutModel",
          "state": {
            "_view_name": "LayoutView",
            "grid_template_rows": null,
            "right": null,
            "justify_content": null,
            "_view_module": "@jupyter-widgets/base",
            "overflow": null,
            "_model_module_version": "1.2.0",
            "_view_count": null,
            "flex_flow": null,
            "width": null,
            "min_width": null,
            "border": null,
            "align_items": null,
            "bottom": null,
            "_model_module": "@jupyter-widgets/base",
            "top": null,
            "grid_column": null,
            "overflow_y": null,
            "overflow_x": null,
            "grid_auto_flow": null,
            "grid_area": null,
            "grid_template_columns": null,
            "flex": null,
            "_model_name": "LayoutModel",
            "justify_items": null,
            "grid_row": null,
            "max_height": null,
            "align_content": null,
            "visibility": null,
            "align_self": null,
            "height": null,
            "min_height": null,
            "padding": null,
            "grid_auto_rows": null,
            "grid_gap": null,
            "max_width": null,
            "order": null,
            "_view_module_version": "1.2.0",
            "grid_template_areas": null,
            "object_position": null,
            "object_fit": null,
            "grid_auto_columns": null,
            "margin": null,
            "display": null,
            "left": null
          }
        },
        "f03e9daf59d74329bc1bb2f5ccdce4ed": {
          "model_module": "@jupyter-widgets/controls",
          "model_name": "IntProgressModel",
          "state": {
            "_view_name": "ProgressView",
            "style": "IPY_MODEL_c5fd499610f2455fab35ddc50eea23cb",
            "_dom_classes": [],
            "description": "100%",
            "_model_name": "IntProgressModel",
            "bar_style": "success",
            "max": 159571,
            "_view_module": "@jupyter-widgets/controls",
            "_model_module_version": "1.5.0",
            "value": 159571,
            "_view_count": null,
            "_view_module_version": "1.5.0",
            "orientation": "horizontal",
            "min": 0,
            "description_tooltip": null,
            "_model_module": "@jupyter-widgets/controls",
            "layout": "IPY_MODEL_84363cfd1d95430ca2944c5323272ba7"
          }
        },
        "996a19632c894e429f3d952ab2d5305d": {
          "model_module": "@jupyter-widgets/controls",
          "model_name": "HTMLModel",
          "state": {
            "_view_name": "HTMLView",
            "style": "IPY_MODEL_ba391fb6987544d9983cb2521008db10",
            "_dom_classes": [],
            "description": "",
            "_model_name": "HTMLModel",
            "placeholder": "​",
            "_view_module": "@jupyter-widgets/controls",
            "_model_module_version": "1.5.0",
            "value": " 159571/159571 [00:14&lt;00:00, 11231.73it/s]",
            "_view_count": null,
            "_view_module_version": "1.5.0",
            "description_tooltip": null,
            "_model_module": "@jupyter-widgets/controls",
            "layout": "IPY_MODEL_ef3c6b140d424ca3a3a39dc84e66100b"
          }
        },
        "c5fd499610f2455fab35ddc50eea23cb": {
          "model_module": "@jupyter-widgets/controls",
          "model_name": "ProgressStyleModel",
          "state": {
            "_view_name": "StyleView",
            "_model_name": "ProgressStyleModel",
            "description_width": "initial",
            "_view_module": "@jupyter-widgets/base",
            "_model_module_version": "1.5.0",
            "_view_count": null,
            "_view_module_version": "1.2.0",
            "bar_color": null,
            "_model_module": "@jupyter-widgets/controls"
          }
        },
        "84363cfd1d95430ca2944c5323272ba7": {
          "model_module": "@jupyter-widgets/base",
          "model_name": "LayoutModel",
          "state": {
            "_view_name": "LayoutView",
            "grid_template_rows": null,
            "right": null,
            "justify_content": null,
            "_view_module": "@jupyter-widgets/base",
            "overflow": null,
            "_model_module_version": "1.2.0",
            "_view_count": null,
            "flex_flow": null,
            "width": null,
            "min_width": null,
            "border": null,
            "align_items": null,
            "bottom": null,
            "_model_module": "@jupyter-widgets/base",
            "top": null,
            "grid_column": null,
            "overflow_y": null,
            "overflow_x": null,
            "grid_auto_flow": null,
            "grid_area": null,
            "grid_template_columns": null,
            "flex": null,
            "_model_name": "LayoutModel",
            "justify_items": null,
            "grid_row": null,
            "max_height": null,
            "align_content": null,
            "visibility": null,
            "align_self": null,
            "height": null,
            "min_height": null,
            "padding": null,
            "grid_auto_rows": null,
            "grid_gap": null,
            "max_width": null,
            "order": null,
            "_view_module_version": "1.2.0",
            "grid_template_areas": null,
            "object_position": null,
            "object_fit": null,
            "grid_auto_columns": null,
            "margin": null,
            "display": null,
            "left": null
          }
        },
        "ba391fb6987544d9983cb2521008db10": {
          "model_module": "@jupyter-widgets/controls",
          "model_name": "DescriptionStyleModel",
          "state": {
            "_view_name": "StyleView",
            "_model_name": "DescriptionStyleModel",
            "description_width": "",
            "_view_module": "@jupyter-widgets/base",
            "_model_module_version": "1.5.0",
            "_view_count": null,
            "_view_module_version": "1.2.0",
            "_model_module": "@jupyter-widgets/controls"
          }
        },
        "ef3c6b140d424ca3a3a39dc84e66100b": {
          "model_module": "@jupyter-widgets/base",
          "model_name": "LayoutModel",
          "state": {
            "_view_name": "LayoutView",
            "grid_template_rows": null,
            "right": null,
            "justify_content": null,
            "_view_module": "@jupyter-widgets/base",
            "overflow": null,
            "_model_module_version": "1.2.0",
            "_view_count": null,
            "flex_flow": null,
            "width": null,
            "min_width": null,
            "border": null,
            "align_items": null,
            "bottom": null,
            "_model_module": "@jupyter-widgets/base",
            "top": null,
            "grid_column": null,
            "overflow_y": null,
            "overflow_x": null,
            "grid_auto_flow": null,
            "grid_area": null,
            "grid_template_columns": null,
            "flex": null,
            "_model_name": "LayoutModel",
            "justify_items": null,
            "grid_row": null,
            "max_height": null,
            "align_content": null,
            "visibility": null,
            "align_self": null,
            "height": null,
            "min_height": null,
            "padding": null,
            "grid_auto_rows": null,
            "grid_gap": null,
            "max_width": null,
            "order": null,
            "_view_module_version": "1.2.0",
            "grid_template_areas": null,
            "object_position": null,
            "object_fit": null,
            "grid_auto_columns": null,
            "margin": null,
            "display": null,
            "left": null
          }
        },
        "9d1747b63b6848db90e995b62b3c770b": {
          "model_module": "@jupyter-widgets/controls",
          "model_name": "HBoxModel",
          "state": {
            "_view_name": "HBoxView",
            "_dom_classes": [],
            "_model_name": "HBoxModel",
            "_view_module": "@jupyter-widgets/controls",
            "_model_module_version": "1.5.0",
            "_view_count": null,
            "_view_module_version": "1.5.0",
            "box_style": "",
            "layout": "IPY_MODEL_1ae97cf735fc44a489829789eb8b83ef",
            "_model_module": "@jupyter-widgets/controls",
            "children": [
              "IPY_MODEL_fe187f1b31af456e99069f73fb41f6dc",
              "IPY_MODEL_7ed15261759e4c70acc6959ce7146977"
            ]
          }
        },
        "1ae97cf735fc44a489829789eb8b83ef": {
          "model_module": "@jupyter-widgets/base",
          "model_name": "LayoutModel",
          "state": {
            "_view_name": "LayoutView",
            "grid_template_rows": null,
            "right": null,
            "justify_content": null,
            "_view_module": "@jupyter-widgets/base",
            "overflow": null,
            "_model_module_version": "1.2.0",
            "_view_count": null,
            "flex_flow": null,
            "width": null,
            "min_width": null,
            "border": null,
            "align_items": null,
            "bottom": null,
            "_model_module": "@jupyter-widgets/base",
            "top": null,
            "grid_column": null,
            "overflow_y": null,
            "overflow_x": null,
            "grid_auto_flow": null,
            "grid_area": null,
            "grid_template_columns": null,
            "flex": null,
            "_model_name": "LayoutModel",
            "justify_items": null,
            "grid_row": null,
            "max_height": null,
            "align_content": null,
            "visibility": null,
            "align_self": null,
            "height": null,
            "min_height": null,
            "padding": null,
            "grid_auto_rows": null,
            "grid_gap": null,
            "max_width": null,
            "order": null,
            "_view_module_version": "1.2.0",
            "grid_template_areas": null,
            "object_position": null,
            "object_fit": null,
            "grid_auto_columns": null,
            "margin": null,
            "display": null,
            "left": null
          }
        },
        "fe187f1b31af456e99069f73fb41f6dc": {
          "model_module": "@jupyter-widgets/controls",
          "model_name": "IntProgressModel",
          "state": {
            "_view_name": "ProgressView",
            "style": "IPY_MODEL_3f30b87bac64439eaf09a2becc05146e",
            "_dom_classes": [],
            "description": "100%",
            "_model_name": "IntProgressModel",
            "bar_style": "success",
            "max": 153164,
            "_view_module": "@jupyter-widgets/controls",
            "_model_module_version": "1.5.0",
            "value": 153164,
            "_view_count": null,
            "_view_module_version": "1.5.0",
            "orientation": "horizontal",
            "min": 0,
            "description_tooltip": null,
            "_model_module": "@jupyter-widgets/controls",
            "layout": "IPY_MODEL_c55015aea1894d51ba244c75b35868bf"
          }
        },
        "7ed15261759e4c70acc6959ce7146977": {
          "model_module": "@jupyter-widgets/controls",
          "model_name": "HTMLModel",
          "state": {
            "_view_name": "HTMLView",
            "style": "IPY_MODEL_4cd67a0401fa40aab3ab778e5e4c84be",
            "_dom_classes": [],
            "description": "",
            "_model_name": "HTMLModel",
            "placeholder": "​",
            "_view_module": "@jupyter-widgets/controls",
            "_model_module_version": "1.5.0",
            "value": " 153164/153164 [00:06&lt;00:00, 22521.07it/s]",
            "_view_count": null,
            "_view_module_version": "1.5.0",
            "description_tooltip": null,
            "_model_module": "@jupyter-widgets/controls",
            "layout": "IPY_MODEL_84dd63162b6b4def8bdceceb2aaadb16"
          }
        },
        "3f30b87bac64439eaf09a2becc05146e": {
          "model_module": "@jupyter-widgets/controls",
          "model_name": "ProgressStyleModel",
          "state": {
            "_view_name": "StyleView",
            "_model_name": "ProgressStyleModel",
            "description_width": "initial",
            "_view_module": "@jupyter-widgets/base",
            "_model_module_version": "1.5.0",
            "_view_count": null,
            "_view_module_version": "1.2.0",
            "bar_color": null,
            "_model_module": "@jupyter-widgets/controls"
          }
        },
        "c55015aea1894d51ba244c75b35868bf": {
          "model_module": "@jupyter-widgets/base",
          "model_name": "LayoutModel",
          "state": {
            "_view_name": "LayoutView",
            "grid_template_rows": null,
            "right": null,
            "justify_content": null,
            "_view_module": "@jupyter-widgets/base",
            "overflow": null,
            "_model_module_version": "1.2.0",
            "_view_count": null,
            "flex_flow": null,
            "width": null,
            "min_width": null,
            "border": null,
            "align_items": null,
            "bottom": null,
            "_model_module": "@jupyter-widgets/base",
            "top": null,
            "grid_column": null,
            "overflow_y": null,
            "overflow_x": null,
            "grid_auto_flow": null,
            "grid_area": null,
            "grid_template_columns": null,
            "flex": null,
            "_model_name": "LayoutModel",
            "justify_items": null,
            "grid_row": null,
            "max_height": null,
            "align_content": null,
            "visibility": null,
            "align_self": null,
            "height": null,
            "min_height": null,
            "padding": null,
            "grid_auto_rows": null,
            "grid_gap": null,
            "max_width": null,
            "order": null,
            "_view_module_version": "1.2.0",
            "grid_template_areas": null,
            "object_position": null,
            "object_fit": null,
            "grid_auto_columns": null,
            "margin": null,
            "display": null,
            "left": null
          }
        },
        "4cd67a0401fa40aab3ab778e5e4c84be": {
          "model_module": "@jupyter-widgets/controls",
          "model_name": "DescriptionStyleModel",
          "state": {
            "_view_name": "StyleView",
            "_model_name": "DescriptionStyleModel",
            "description_width": "",
            "_view_module": "@jupyter-widgets/base",
            "_model_module_version": "1.5.0",
            "_view_count": null,
            "_view_module_version": "1.2.0",
            "_model_module": "@jupyter-widgets/controls"
          }
        },
        "84dd63162b6b4def8bdceceb2aaadb16": {
          "model_module": "@jupyter-widgets/base",
          "model_name": "LayoutModel",
          "state": {
            "_view_name": "LayoutView",
            "grid_template_rows": null,
            "right": null,
            "justify_content": null,
            "_view_module": "@jupyter-widgets/base",
            "overflow": null,
            "_model_module_version": "1.2.0",
            "_view_count": null,
            "flex_flow": null,
            "width": null,
            "min_width": null,
            "border": null,
            "align_items": null,
            "bottom": null,
            "_model_module": "@jupyter-widgets/base",
            "top": null,
            "grid_column": null,
            "overflow_y": null,
            "overflow_x": null,
            "grid_auto_flow": null,
            "grid_area": null,
            "grid_template_columns": null,
            "flex": null,
            "_model_name": "LayoutModel",
            "justify_items": null,
            "grid_row": null,
            "max_height": null,
            "align_content": null,
            "visibility": null,
            "align_self": null,
            "height": null,
            "min_height": null,
            "padding": null,
            "grid_auto_rows": null,
            "grid_gap": null,
            "max_width": null,
            "order": null,
            "_view_module_version": "1.2.0",
            "grid_template_areas": null,
            "object_position": null,
            "object_fit": null,
            "grid_auto_columns": null,
            "margin": null,
            "display": null,
            "left": null
          }
        },
        "80eefdd03422450e9d30657ba8f8260f": {
          "model_module": "@jupyter-widgets/controls",
          "model_name": "HBoxModel",
          "state": {
            "_view_name": "HBoxView",
            "_dom_classes": [],
            "_model_name": "HBoxModel",
            "_view_module": "@jupyter-widgets/controls",
            "_model_module_version": "1.5.0",
            "_view_count": null,
            "_view_module_version": "1.5.0",
            "box_style": "",
            "layout": "IPY_MODEL_d936f04d6bb14e7cbc12ef232cffeecb",
            "_model_module": "@jupyter-widgets/controls",
            "children": [
              "IPY_MODEL_e65b7f57bd3a42feb7b210d55472669b",
              "IPY_MODEL_45e12237a8634689acee5c694aa6c6f0"
            ]
          }
        },
        "d936f04d6bb14e7cbc12ef232cffeecb": {
          "model_module": "@jupyter-widgets/base",
          "model_name": "LayoutModel",
          "state": {
            "_view_name": "LayoutView",
            "grid_template_rows": null,
            "right": null,
            "justify_content": null,
            "_view_module": "@jupyter-widgets/base",
            "overflow": null,
            "_model_module_version": "1.2.0",
            "_view_count": null,
            "flex_flow": null,
            "width": null,
            "min_width": null,
            "border": null,
            "align_items": null,
            "bottom": null,
            "_model_module": "@jupyter-widgets/base",
            "top": null,
            "grid_column": null,
            "overflow_y": null,
            "overflow_x": null,
            "grid_auto_flow": null,
            "grid_area": null,
            "grid_template_columns": null,
            "flex": null,
            "_model_name": "LayoutModel",
            "justify_items": null,
            "grid_row": null,
            "max_height": null,
            "align_content": null,
            "visibility": null,
            "align_self": null,
            "height": null,
            "min_height": null,
            "padding": null,
            "grid_auto_rows": null,
            "grid_gap": null,
            "max_width": null,
            "order": null,
            "_view_module_version": "1.2.0",
            "grid_template_areas": null,
            "object_position": null,
            "object_fit": null,
            "grid_auto_columns": null,
            "margin": null,
            "display": null,
            "left": null
          }
        },
        "e65b7f57bd3a42feb7b210d55472669b": {
          "model_module": "@jupyter-widgets/controls",
          "model_name": "IntProgressModel",
          "state": {
            "_view_name": "ProgressView",
            "style": "IPY_MODEL_386024bf518f424eb6bfdc70fc332ef5",
            "_dom_classes": [],
            "description": "100%",
            "_model_name": "IntProgressModel",
            "bar_style": "success",
            "max": 159571,
            "_view_module": "@jupyter-widgets/controls",
            "_model_module_version": "1.5.0",
            "value": 159571,
            "_view_count": null,
            "_view_module_version": "1.5.0",
            "orientation": "horizontal",
            "min": 0,
            "description_tooltip": null,
            "_model_module": "@jupyter-widgets/controls",
            "layout": "IPY_MODEL_7e97949a014c4bb3a27b892e75e4b621"
          }
        },
        "45e12237a8634689acee5c694aa6c6f0": {
          "model_module": "@jupyter-widgets/controls",
          "model_name": "HTMLModel",
          "state": {
            "_view_name": "HTMLView",
            "style": "IPY_MODEL_be9fc58db9ba4d28b6e50d7803d7d045",
            "_dom_classes": [],
            "description": "",
            "_model_name": "HTMLModel",
            "placeholder": "​",
            "_view_module": "@jupyter-widgets/controls",
            "_model_module_version": "1.5.0",
            "value": " 159571/159571 [00:19&lt;00:00, 8145.31it/s]",
            "_view_count": null,
            "_view_module_version": "1.5.0",
            "description_tooltip": null,
            "_model_module": "@jupyter-widgets/controls",
            "layout": "IPY_MODEL_c4dc03357f9e485f9ba11f6a0948d246"
          }
        },
        "386024bf518f424eb6bfdc70fc332ef5": {
          "model_module": "@jupyter-widgets/controls",
          "model_name": "ProgressStyleModel",
          "state": {
            "_view_name": "StyleView",
            "_model_name": "ProgressStyleModel",
            "description_width": "initial",
            "_view_module": "@jupyter-widgets/base",
            "_model_module_version": "1.5.0",
            "_view_count": null,
            "_view_module_version": "1.2.0",
            "bar_color": null,
            "_model_module": "@jupyter-widgets/controls"
          }
        },
        "7e97949a014c4bb3a27b892e75e4b621": {
          "model_module": "@jupyter-widgets/base",
          "model_name": "LayoutModel",
          "state": {
            "_view_name": "LayoutView",
            "grid_template_rows": null,
            "right": null,
            "justify_content": null,
            "_view_module": "@jupyter-widgets/base",
            "overflow": null,
            "_model_module_version": "1.2.0",
            "_view_count": null,
            "flex_flow": null,
            "width": null,
            "min_width": null,
            "border": null,
            "align_items": null,
            "bottom": null,
            "_model_module": "@jupyter-widgets/base",
            "top": null,
            "grid_column": null,
            "overflow_y": null,
            "overflow_x": null,
            "grid_auto_flow": null,
            "grid_area": null,
            "grid_template_columns": null,
            "flex": null,
            "_model_name": "LayoutModel",
            "justify_items": null,
            "grid_row": null,
            "max_height": null,
            "align_content": null,
            "visibility": null,
            "align_self": null,
            "height": null,
            "min_height": null,
            "padding": null,
            "grid_auto_rows": null,
            "grid_gap": null,
            "max_width": null,
            "order": null,
            "_view_module_version": "1.2.0",
            "grid_template_areas": null,
            "object_position": null,
            "object_fit": null,
            "grid_auto_columns": null,
            "margin": null,
            "display": null,
            "left": null
          }
        },
        "be9fc58db9ba4d28b6e50d7803d7d045": {
          "model_module": "@jupyter-widgets/controls",
          "model_name": "DescriptionStyleModel",
          "state": {
            "_view_name": "StyleView",
            "_model_name": "DescriptionStyleModel",
            "description_width": "",
            "_view_module": "@jupyter-widgets/base",
            "_model_module_version": "1.5.0",
            "_view_count": null,
            "_view_module_version": "1.2.0",
            "_model_module": "@jupyter-widgets/controls"
          }
        },
        "c4dc03357f9e485f9ba11f6a0948d246": {
          "model_module": "@jupyter-widgets/base",
          "model_name": "LayoutModel",
          "state": {
            "_view_name": "LayoutView",
            "grid_template_rows": null,
            "right": null,
            "justify_content": null,
            "_view_module": "@jupyter-widgets/base",
            "overflow": null,
            "_model_module_version": "1.2.0",
            "_view_count": null,
            "flex_flow": null,
            "width": null,
            "min_width": null,
            "border": null,
            "align_items": null,
            "bottom": null,
            "_model_module": "@jupyter-widgets/base",
            "top": null,
            "grid_column": null,
            "overflow_y": null,
            "overflow_x": null,
            "grid_auto_flow": null,
            "grid_area": null,
            "grid_template_columns": null,
            "flex": null,
            "_model_name": "LayoutModel",
            "justify_items": null,
            "grid_row": null,
            "max_height": null,
            "align_content": null,
            "visibility": null,
            "align_self": null,
            "height": null,
            "min_height": null,
            "padding": null,
            "grid_auto_rows": null,
            "grid_gap": null,
            "max_width": null,
            "order": null,
            "_view_module_version": "1.2.0",
            "grid_template_areas": null,
            "object_position": null,
            "object_fit": null,
            "grid_auto_columns": null,
            "margin": null,
            "display": null,
            "left": null
          }
        },
        "30f1c4e51fae4a38a27a473ea7f5e64e": {
          "model_module": "@jupyter-widgets/controls",
          "model_name": "HBoxModel",
          "state": {
            "_view_name": "HBoxView",
            "_dom_classes": [],
            "_model_name": "HBoxModel",
            "_view_module": "@jupyter-widgets/controls",
            "_model_module_version": "1.5.0",
            "_view_count": null,
            "_view_module_version": "1.5.0",
            "box_style": "",
            "layout": "IPY_MODEL_675ad7ebd77e4cc58e5d492df267064f",
            "_model_module": "@jupyter-widgets/controls",
            "children": [
              "IPY_MODEL_093735f57fce441a93800f6de465adad",
              "IPY_MODEL_c812e97852754a41a4c1e0594c444450"
            ]
          }
        },
        "675ad7ebd77e4cc58e5d492df267064f": {
          "model_module": "@jupyter-widgets/base",
          "model_name": "LayoutModel",
          "state": {
            "_view_name": "LayoutView",
            "grid_template_rows": null,
            "right": null,
            "justify_content": null,
            "_view_module": "@jupyter-widgets/base",
            "overflow": null,
            "_model_module_version": "1.2.0",
            "_view_count": null,
            "flex_flow": null,
            "width": null,
            "min_width": null,
            "border": null,
            "align_items": null,
            "bottom": null,
            "_model_module": "@jupyter-widgets/base",
            "top": null,
            "grid_column": null,
            "overflow_y": null,
            "overflow_x": null,
            "grid_auto_flow": null,
            "grid_area": null,
            "grid_template_columns": null,
            "flex": null,
            "_model_name": "LayoutModel",
            "justify_items": null,
            "grid_row": null,
            "max_height": null,
            "align_content": null,
            "visibility": null,
            "align_self": null,
            "height": null,
            "min_height": null,
            "padding": null,
            "grid_auto_rows": null,
            "grid_gap": null,
            "max_width": null,
            "order": null,
            "_view_module_version": "1.2.0",
            "grid_template_areas": null,
            "object_position": null,
            "object_fit": null,
            "grid_auto_columns": null,
            "margin": null,
            "display": null,
            "left": null
          }
        },
        "093735f57fce441a93800f6de465adad": {
          "model_module": "@jupyter-widgets/controls",
          "model_name": "IntProgressModel",
          "state": {
            "_view_name": "ProgressView",
            "style": "IPY_MODEL_2e3eb3a731a44ea29fe353b7f3c081b2",
            "_dom_classes": [],
            "description": "100%",
            "_model_name": "IntProgressModel",
            "bar_style": "success",
            "max": 159571,
            "_view_module": "@jupyter-widgets/controls",
            "_model_module_version": "1.5.0",
            "value": 159571,
            "_view_count": null,
            "_view_module_version": "1.5.0",
            "orientation": "horizontal",
            "min": 0,
            "description_tooltip": null,
            "_model_module": "@jupyter-widgets/controls",
            "layout": "IPY_MODEL_3a0df0187f1c4feea76758242e31a9b2"
          }
        },
        "c812e97852754a41a4c1e0594c444450": {
          "model_module": "@jupyter-widgets/controls",
          "model_name": "HTMLModel",
          "state": {
            "_view_name": "HTMLView",
            "style": "IPY_MODEL_364317cc2b554e5080e19fa38bd34050",
            "_dom_classes": [],
            "description": "",
            "_model_name": "HTMLModel",
            "placeholder": "​",
            "_view_module": "@jupyter-widgets/controls",
            "_model_module_version": "1.5.0",
            "value": " 159571/159571 [00:02&lt;00:00, 67670.80it/s]",
            "_view_count": null,
            "_view_module_version": "1.5.0",
            "description_tooltip": null,
            "_model_module": "@jupyter-widgets/controls",
            "layout": "IPY_MODEL_2fc126ae28b64aec9420060b705b2664"
          }
        },
        "2e3eb3a731a44ea29fe353b7f3c081b2": {
          "model_module": "@jupyter-widgets/controls",
          "model_name": "ProgressStyleModel",
          "state": {
            "_view_name": "StyleView",
            "_model_name": "ProgressStyleModel",
            "description_width": "initial",
            "_view_module": "@jupyter-widgets/base",
            "_model_module_version": "1.5.0",
            "_view_count": null,
            "_view_module_version": "1.2.0",
            "bar_color": null,
            "_model_module": "@jupyter-widgets/controls"
          }
        },
        "3a0df0187f1c4feea76758242e31a9b2": {
          "model_module": "@jupyter-widgets/base",
          "model_name": "LayoutModel",
          "state": {
            "_view_name": "LayoutView",
            "grid_template_rows": null,
            "right": null,
            "justify_content": null,
            "_view_module": "@jupyter-widgets/base",
            "overflow": null,
            "_model_module_version": "1.2.0",
            "_view_count": null,
            "flex_flow": null,
            "width": null,
            "min_width": null,
            "border": null,
            "align_items": null,
            "bottom": null,
            "_model_module": "@jupyter-widgets/base",
            "top": null,
            "grid_column": null,
            "overflow_y": null,
            "overflow_x": null,
            "grid_auto_flow": null,
            "grid_area": null,
            "grid_template_columns": null,
            "flex": null,
            "_model_name": "LayoutModel",
            "justify_items": null,
            "grid_row": null,
            "max_height": null,
            "align_content": null,
            "visibility": null,
            "align_self": null,
            "height": null,
            "min_height": null,
            "padding": null,
            "grid_auto_rows": null,
            "grid_gap": null,
            "max_width": null,
            "order": null,
            "_view_module_version": "1.2.0",
            "grid_template_areas": null,
            "object_position": null,
            "object_fit": null,
            "grid_auto_columns": null,
            "margin": null,
            "display": null,
            "left": null
          }
        },
        "364317cc2b554e5080e19fa38bd34050": {
          "model_module": "@jupyter-widgets/controls",
          "model_name": "DescriptionStyleModel",
          "state": {
            "_view_name": "StyleView",
            "_model_name": "DescriptionStyleModel",
            "description_width": "",
            "_view_module": "@jupyter-widgets/base",
            "_model_module_version": "1.5.0",
            "_view_count": null,
            "_view_module_version": "1.2.0",
            "_model_module": "@jupyter-widgets/controls"
          }
        },
        "2fc126ae28b64aec9420060b705b2664": {
          "model_module": "@jupyter-widgets/base",
          "model_name": "LayoutModel",
          "state": {
            "_view_name": "LayoutView",
            "grid_template_rows": null,
            "right": null,
            "justify_content": null,
            "_view_module": "@jupyter-widgets/base",
            "overflow": null,
            "_model_module_version": "1.2.0",
            "_view_count": null,
            "flex_flow": null,
            "width": null,
            "min_width": null,
            "border": null,
            "align_items": null,
            "bottom": null,
            "_model_module": "@jupyter-widgets/base",
            "top": null,
            "grid_column": null,
            "overflow_y": null,
            "overflow_x": null,
            "grid_auto_flow": null,
            "grid_area": null,
            "grid_template_columns": null,
            "flex": null,
            "_model_name": "LayoutModel",
            "justify_items": null,
            "grid_row": null,
            "max_height": null,
            "align_content": null,
            "visibility": null,
            "align_self": null,
            "height": null,
            "min_height": null,
            "padding": null,
            "grid_auto_rows": null,
            "grid_gap": null,
            "max_width": null,
            "order": null,
            "_view_module_version": "1.2.0",
            "grid_template_areas": null,
            "object_position": null,
            "object_fit": null,
            "grid_auto_columns": null,
            "margin": null,
            "display": null,
            "left": null
          }
        },
        "40e7d4595c364d7ead0010a3e3c35efb": {
          "model_module": "@jupyter-widgets/controls",
          "model_name": "HBoxModel",
          "state": {
            "_view_name": "HBoxView",
            "_dom_classes": [],
            "_model_name": "HBoxModel",
            "_view_module": "@jupyter-widgets/controls",
            "_model_module_version": "1.5.0",
            "_view_count": null,
            "_view_module_version": "1.5.0",
            "box_style": "",
            "layout": "IPY_MODEL_a87e8ebe4be84e1bb64a77abf4483c2f",
            "_model_module": "@jupyter-widgets/controls",
            "children": [
              "IPY_MODEL_4ea2ae326f8a41d4ac055f2ffd0c8647",
              "IPY_MODEL_73f3e9a8def14fae9b45baa3f9f651fc"
            ]
          }
        },
        "a87e8ebe4be84e1bb64a77abf4483c2f": {
          "model_module": "@jupyter-widgets/base",
          "model_name": "LayoutModel",
          "state": {
            "_view_name": "LayoutView",
            "grid_template_rows": null,
            "right": null,
            "justify_content": null,
            "_view_module": "@jupyter-widgets/base",
            "overflow": null,
            "_model_module_version": "1.2.0",
            "_view_count": null,
            "flex_flow": null,
            "width": null,
            "min_width": null,
            "border": null,
            "align_items": null,
            "bottom": null,
            "_model_module": "@jupyter-widgets/base",
            "top": null,
            "grid_column": null,
            "overflow_y": null,
            "overflow_x": null,
            "grid_auto_flow": null,
            "grid_area": null,
            "grid_template_columns": null,
            "flex": null,
            "_model_name": "LayoutModel",
            "justify_items": null,
            "grid_row": null,
            "max_height": null,
            "align_content": null,
            "visibility": null,
            "align_self": null,
            "height": null,
            "min_height": null,
            "padding": null,
            "grid_auto_rows": null,
            "grid_gap": null,
            "max_width": null,
            "order": null,
            "_view_module_version": "1.2.0",
            "grid_template_areas": null,
            "object_position": null,
            "object_fit": null,
            "grid_auto_columns": null,
            "margin": null,
            "display": null,
            "left": null
          }
        },
        "4ea2ae326f8a41d4ac055f2ffd0c8647": {
          "model_module": "@jupyter-widgets/controls",
          "model_name": "IntProgressModel",
          "state": {
            "_view_name": "ProgressView",
            "style": "IPY_MODEL_d9ca506908df4dc5ba112a337ade6a0b",
            "_dom_classes": [],
            "description": "100%",
            "_model_name": "IntProgressModel",
            "bar_style": "success",
            "max": 167393,
            "_view_module": "@jupyter-widgets/controls",
            "_model_module_version": "1.5.0",
            "value": 167393,
            "_view_count": null,
            "_view_module_version": "1.5.0",
            "orientation": "horizontal",
            "min": 0,
            "description_tooltip": null,
            "_model_module": "@jupyter-widgets/controls",
            "layout": "IPY_MODEL_24182874ab2543e79802f60af6e99fbc"
          }
        },
        "73f3e9a8def14fae9b45baa3f9f651fc": {
          "model_module": "@jupyter-widgets/controls",
          "model_name": "HTMLModel",
          "state": {
            "_view_name": "HTMLView",
            "style": "IPY_MODEL_f3bef34dfebf4cc2be6050226b093aa4",
            "_dom_classes": [],
            "description": "",
            "_model_name": "HTMLModel",
            "placeholder": "​",
            "_view_module": "@jupyter-widgets/controls",
            "_model_module_version": "1.5.0",
            "value": " 167393/167393 [00:00&lt;00:00, 708346.16it/s]",
            "_view_count": null,
            "_view_module_version": "1.5.0",
            "description_tooltip": null,
            "_model_module": "@jupyter-widgets/controls",
            "layout": "IPY_MODEL_2b9c583f099e41009190f8ba49e6f250"
          }
        },
        "d9ca506908df4dc5ba112a337ade6a0b": {
          "model_module": "@jupyter-widgets/controls",
          "model_name": "ProgressStyleModel",
          "state": {
            "_view_name": "StyleView",
            "_model_name": "ProgressStyleModel",
            "description_width": "initial",
            "_view_module": "@jupyter-widgets/base",
            "_model_module_version": "1.5.0",
            "_view_count": null,
            "_view_module_version": "1.2.0",
            "bar_color": null,
            "_model_module": "@jupyter-widgets/controls"
          }
        },
        "24182874ab2543e79802f60af6e99fbc": {
          "model_module": "@jupyter-widgets/base",
          "model_name": "LayoutModel",
          "state": {
            "_view_name": "LayoutView",
            "grid_template_rows": null,
            "right": null,
            "justify_content": null,
            "_view_module": "@jupyter-widgets/base",
            "overflow": null,
            "_model_module_version": "1.2.0",
            "_view_count": null,
            "flex_flow": null,
            "width": null,
            "min_width": null,
            "border": null,
            "align_items": null,
            "bottom": null,
            "_model_module": "@jupyter-widgets/base",
            "top": null,
            "grid_column": null,
            "overflow_y": null,
            "overflow_x": null,
            "grid_auto_flow": null,
            "grid_area": null,
            "grid_template_columns": null,
            "flex": null,
            "_model_name": "LayoutModel",
            "justify_items": null,
            "grid_row": null,
            "max_height": null,
            "align_content": null,
            "visibility": null,
            "align_self": null,
            "height": null,
            "min_height": null,
            "padding": null,
            "grid_auto_rows": null,
            "grid_gap": null,
            "max_width": null,
            "order": null,
            "_view_module_version": "1.2.0",
            "grid_template_areas": null,
            "object_position": null,
            "object_fit": null,
            "grid_auto_columns": null,
            "margin": null,
            "display": null,
            "left": null
          }
        },
        "f3bef34dfebf4cc2be6050226b093aa4": {
          "model_module": "@jupyter-widgets/controls",
          "model_name": "DescriptionStyleModel",
          "state": {
            "_view_name": "StyleView",
            "_model_name": "DescriptionStyleModel",
            "description_width": "",
            "_view_module": "@jupyter-widgets/base",
            "_model_module_version": "1.5.0",
            "_view_count": null,
            "_view_module_version": "1.2.0",
            "_model_module": "@jupyter-widgets/controls"
          }
        },
        "2b9c583f099e41009190f8ba49e6f250": {
          "model_module": "@jupyter-widgets/base",
          "model_name": "LayoutModel",
          "state": {
            "_view_name": "LayoutView",
            "grid_template_rows": null,
            "right": null,
            "justify_content": null,
            "_view_module": "@jupyter-widgets/base",
            "overflow": null,
            "_model_module_version": "1.2.0",
            "_view_count": null,
            "flex_flow": null,
            "width": null,
            "min_width": null,
            "border": null,
            "align_items": null,
            "bottom": null,
            "_model_module": "@jupyter-widgets/base",
            "top": null,
            "grid_column": null,
            "overflow_y": null,
            "overflow_x": null,
            "grid_auto_flow": null,
            "grid_area": null,
            "grid_template_columns": null,
            "flex": null,
            "_model_name": "LayoutModel",
            "justify_items": null,
            "grid_row": null,
            "max_height": null,
            "align_content": null,
            "visibility": null,
            "align_self": null,
            "height": null,
            "min_height": null,
            "padding": null,
            "grid_auto_rows": null,
            "grid_gap": null,
            "max_width": null,
            "order": null,
            "_view_module_version": "1.2.0",
            "grid_template_areas": null,
            "object_position": null,
            "object_fit": null,
            "grid_auto_columns": null,
            "margin": null,
            "display": null,
            "left": null
          }
        }
      }
    }
  },
  "cells": [
    {
      "cell_type": "markdown",
      "metadata": {
        "id": "view-in-github",
        "colab_type": "text"
      },
      "source": [
        "<a href=\"https://colab.research.google.com/github/someaditya/toxicity-classification/blob/master/toxicity_classification.ipynb\" target=\"_parent\"><img src=\"https://colab.research.google.com/assets/colab-badge.svg\" alt=\"Open In Colab\"/></a>"
      ]
    },
    {
      "cell_type": "markdown",
      "metadata": {
        "id": "nCaMcXxfA8Yr",
        "colab_type": "text"
      },
      "source": [
        "# **Machine Learning Engineer Nanodegree Capstone Project**\n",
        "## **Identification and Classification of Toxic Comments**\n",
        "\n",
        "### By Some Aditya Mandal\n",
        "\n",
        "\n",
        "\n",
        "As of the first quarter of 2020, there are over 4.5 billion internet users all over the world while social media users have passed the 3.8 billion mark. Nearly 60 percent of the world’s population is already online, and the latest trends suggest that more than half of the world’s total population will use social media by the middle of this year.\n",
        "\n",
        "The idea of social media, online forums and discussion sections is to provide a platform for meaningful discussion for internet users. But a major problem faced by most of these platforms is toxic comments. In this context, toxicity can be defined as 'anything that is rude, disrespectful, or otherwise likely to make someone leave a discussion'. The threat of abuse and harassment online means that many people stop to express themselves and give up on seeking different opinions. Platforms across struggle to effectively facilitate conversations, leading many communities to moderate and limit or completely shut down user comments.\n",
        "\n",
        "The emergence of massive social networking websites like Facebook, Twitter and Reddit lead to millions of people posting content and commenting on them. People\n",
        "including children interact in the internet and there is a need to control the content and encourage a healthy environment and facilitate conversations, and ensure that\n",
        "they don’t give up on stop expressing themselves. Many news websites now have started disabling comments sections.Most of these websites have human moderators behind them monitoring them constantly which is very inefficient.\n",
        "\n",
        "\n",
        "In 2017, around 2 million comments were released by the Civil Comments Platform when it shut down in an effort to help researchers improve civility in online conversations. Jigsaw, an Alphabet company, adopted this goal and further annotated the data set for research purposes. \n",
        "\n",
        "This capstone project will focus on the Identification and Classification of Toxic Comments , which\n",
        "aims to detect toxicity across a diverse range of conversations.\n",
        " \n",
        "\n",
        "\n",
        "## **Problem Statement**\n",
        "\n",
        "The problem comes under Natural Language Processing, a sentiment analysis problem. The aim of this capstone project is to build a machine learning model that can\n",
        "classify toxicity of a given text using machine learning methods. \n",
        "\n",
        "Several researches has been performed using different machine learning models to classify toxic interactions in the past and the efficiency of neural networks in classification of toxic comments were proven.\n",
        "\n",
        "### **Project Setup**\n",
        "\n",
        "Here we will import the initially required libraries.\n"
      ]
    },
    {
      "cell_type": "code",
      "metadata": {
        "id": "Udgdysvb1jCO",
        "colab_type": "code",
        "outputId": "4fbf3340-9f22-44a3-833c-8f36b2720414",
        "colab": {
          "base_uri": "https://localhost:8080/",
          "height": 50
        }
      },
      "source": [
        "import numpy as np\n",
        "import pandas as pd\n",
        "import matplotlib.pyplot as plt\n",
        "from IPython.display import display, HTML\n",
        "import seaborn as sb\n",
        "import tensorflow as tf\n",
        "%matplotlib inline"
      ],
      "execution_count": 1,
      "outputs": [
        {
          "output_type": "stream",
          "text": [
            "/usr/local/lib/python3.6/dist-packages/statsmodels/tools/_testing.py:19: FutureWarning: pandas.util.testing is deprecated. Use the functions in the public API at pandas.testing instead.\n",
            "  import pandas.util.testing as tm\n"
          ],
          "name": "stderr"
        }
      ]
    },
    {
      "cell_type": "markdown",
      "metadata": {
        "id": "ngGbNHl-BkNW",
        "colab_type": "text"
      },
      "source": [
        "Checking Colab allocation of GPU"
      ]
    },
    {
      "cell_type": "code",
      "metadata": {
        "id": "LTcGr4c4WeIn",
        "colab_type": "code",
        "outputId": "925649b3-c1b6-4144-a605-a3a758722c8d",
        "colab": {
          "base_uri": "https://localhost:8080/",
          "height": 33
        }
      },
      "source": [
        "device_name = tf.test.gpu_device_name()\n",
        "if device_name != '/device:GPU:0':\n",
        "  raise SystemError('GPU device not found')\n",
        "print('Found GPU at: {}'.format(device_name))"
      ],
      "execution_count": 2,
      "outputs": [
        {
          "output_type": "stream",
          "text": [
            "Found GPU at: /device:GPU:0\n"
          ],
          "name": "stdout"
        }
      ]
    },
    {
      "cell_type": "code",
      "metadata": {
        "id": "0PKb86Ao8hAT",
        "colab_type": "code",
        "outputId": "e9da65cd-ae79-45e8-f894-1f5c33e28e52",
        "colab": {
          "base_uri": "https://localhost:8080/",
          "height": 277
        }
      },
      "source": [
        "gpu_info = !nvidia-smi\n",
        "gpu_info = '\\n'.join(gpu_info)\n",
        "if gpu_info.find('failed') >= 0:\n",
        "  print('Select the Runtime → \"Change runtime type\" menu to enable a GPU accelerator, ')\n",
        "  print('and then re-execute this cell.')\n",
        "else:\n",
        "  print(gpu_info)"
      ],
      "execution_count": 3,
      "outputs": [
        {
          "output_type": "stream",
          "text": [
            "Mon May  4 09:36:22 2020       \n",
            "+-----------------------------------------------------------------------------+\n",
            "| NVIDIA-SMI 440.64.00    Driver Version: 418.67       CUDA Version: 10.1     |\n",
            "|-------------------------------+----------------------+----------------------+\n",
            "| GPU  Name        Persistence-M| Bus-Id        Disp.A | Volatile Uncorr. ECC |\n",
            "| Fan  Temp  Perf  Pwr:Usage/Cap|         Memory-Usage | GPU-Util  Compute M. |\n",
            "|===============================+======================+======================|\n",
            "|   0  Tesla P100-PCIE...  Off  | 00000000:00:04.0 Off |                    0 |\n",
            "| N/A   37C    P0    31W / 250W |    353MiB / 16280MiB |      0%      Default |\n",
            "+-------------------------------+----------------------+----------------------+\n",
            "                                                                               \n",
            "+-----------------------------------------------------------------------------+\n",
            "| Processes:                                                       GPU Memory |\n",
            "|  GPU       PID   Type   Process name                             Usage      |\n",
            "|=============================================================================|\n",
            "+-----------------------------------------------------------------------------+\n"
          ],
          "name": "stdout"
        }
      ]
    },
    {
      "cell_type": "markdown",
      "metadata": {
        "id": "zoPR4bTbBxMt",
        "colab_type": "text"
      },
      "source": [
        "\n",
        "This kernel is hosted in [Google Colab](https://https://colab.research.google.com/). This step mounts [Google Drive](https://drive.google.com) in to the Colab workspace. Google Drive is utilised to store the [Kaggle Dataset](https://www.kaggle.com/c/jigsaw-toxic-comment-classification-challenge/data) and [FastText English Word Vectors](https://fasttext.cc/docs/en/english-vectors.html).\n",
        "\n",
        "To read more about other ways to use External data in Google Colab , please read this [Colab Notebook](https://colab.research.google.com/notebooks/io.ipynb). "
      ]
    },
    {
      "cell_type": "code",
      "metadata": {
        "id": "A0WyAB-l2Toy",
        "colab_type": "code",
        "outputId": "27da6a14-24b3-4fbb-aaa8-c447486472b0",
        "colab": {
          "base_uri": "https://localhost:8080/",
          "height": 118
        }
      },
      "source": [
        "from google.colab import drive\n",
        "drive.mount('/content/drive')"
      ],
      "execution_count": 4,
      "outputs": [
        {
          "output_type": "stream",
          "text": [
            "Go to this URL in a browser: https://accounts.google.com/o/oauth2/auth?client_id=947318989803-6bn6qk8qdgf4n4g3pfee6491hc0brc4i.apps.googleusercontent.com&redirect_uri=urn%3aietf%3awg%3aoauth%3a2.0%3aoob&response_type=code&scope=email%20https%3a%2f%2fwww.googleapis.com%2fauth%2fdocs.test%20https%3a%2f%2fwww.googleapis.com%2fauth%2fdrive%20https%3a%2f%2fwww.googleapis.com%2fauth%2fdrive.photos.readonly%20https%3a%2f%2fwww.googleapis.com%2fauth%2fpeopleapi.readonly\n",
            "\n",
            "Enter your authorization code:\n",
            "··········\n",
            "Mounted at /content/drive\n"
          ],
          "name": "stdout"
        }
      ]
    },
    {
      "cell_type": "markdown",
      "metadata": {
        "id": "2y1w6BGZDP8P",
        "colab_type": "text"
      },
      "source": [
        "Checking if the datasets are correctly mounted in the workspace."
      ]
    },
    {
      "cell_type": "code",
      "metadata": {
        "id": "ssUuinIWMx9I",
        "colab_type": "code",
        "outputId": "23040b52-0b84-49d3-b2ed-ae4ba3babf4a",
        "colab": {
          "base_uri": "https://localhost:8080/",
          "height": 33
        }
      },
      "source": [
        "!ls \"/content/drive/My Drive/toxicity-classification/data\""
      ],
      "execution_count": 5,
      "outputs": [
        {
          "output_type": "stream",
          "text": [
            "sample_submission.csv  test.csv  test_labels.csv  train.csv\n"
          ],
          "name": "stdout"
        }
      ]
    },
    {
      "cell_type": "markdown",
      "metadata": {
        "id": "rx7iPf_DDXD_",
        "colab_type": "text"
      },
      "source": [
        "Importing the dataset in the notebook."
      ]
    },
    {
      "cell_type": "code",
      "metadata": {
        "id": "Z3tuktFh10jw",
        "colab_type": "code",
        "colab": {}
      },
      "source": [
        "train_data = pd.read_csv('/content/drive/My Drive/toxicity-classification/data/train.csv')\n",
        "test_data = pd.read_csv('/content/drive/My Drive/toxicity-classification/data/test.csv')\n",
        "test_labels = pd.read_csv('/content/drive/My Drive/toxicity-classification/data/test_labels.csv')\n",
        "# merge test labels with the original test dataset\n",
        "test_data_final = pd.merge(test_data, test_labels, on='id')\n",
        "# remove test data not used in scoring - these have labels of -1 for all toxicity subtypes\n",
        "test_data_final.drop(test_data_final.loc[test_data_final['toxic']==-1].index, inplace=True)"
      ],
      "execution_count": 0,
      "outputs": []
    },
    {
      "cell_type": "markdown",
      "metadata": {
        "id": "P0Ab8ff8Dj44",
        "colab_type": "text"
      },
      "source": [
        "### **Dataset Analysis**\n",
        "Here we take a high level view of the datasets we will be working with.\n",
        "\n",
        "\n",
        "The dataset is a large number of Wikipedia comments which have been labeled by human raters for toxic behavior and this dataset was made public on Kaggle by Jigsaw and Google ( Both Alphabet Company) as part of their competetion [\"Toxic Comment Classification Challenge](https://www.kaggle.com/c/jigsaw-toxic-comment-classification-challenge/overview)\".\n",
        "\n",
        "The training and test datasets are publicly available on Kaggle and the training dataset has following column names:\n",
        "\n",
        "* id\n",
        "* comment_text\n",
        "* toxic\n",
        "* severe_toxic\n",
        "* obscene\n",
        "* threat\n",
        "* insult\n",
        "* identity_hate\n",
        "\n",
        "Checking examples of the training and test data."
      ]
    },
    {
      "cell_type": "code",
      "metadata": {
        "id": "YBm3Y3TW5q0j",
        "colab_type": "code",
        "outputId": "a6cebb8c-1a20-4ad5-bc21-65ed1d26cdb2",
        "colab": {
          "base_uri": "https://localhost:8080/",
          "height": 335
        }
      },
      "source": [
        "train_data.head(10)"
      ],
      "execution_count": 7,
      "outputs": [
        {
          "output_type": "execute_result",
          "data": {
            "text/html": [
              "<div>\n",
              "<style scoped>\n",
              "    .dataframe tbody tr th:only-of-type {\n",
              "        vertical-align: middle;\n",
              "    }\n",
              "\n",
              "    .dataframe tbody tr th {\n",
              "        vertical-align: top;\n",
              "    }\n",
              "\n",
              "    .dataframe thead th {\n",
              "        text-align: right;\n",
              "    }\n",
              "</style>\n",
              "<table border=\"1\" class=\"dataframe\">\n",
              "  <thead>\n",
              "    <tr style=\"text-align: right;\">\n",
              "      <th></th>\n",
              "      <th>id</th>\n",
              "      <th>comment_text</th>\n",
              "      <th>toxic</th>\n",
              "      <th>severe_toxic</th>\n",
              "      <th>obscene</th>\n",
              "      <th>threat</th>\n",
              "      <th>insult</th>\n",
              "      <th>identity_hate</th>\n",
              "    </tr>\n",
              "  </thead>\n",
              "  <tbody>\n",
              "    <tr>\n",
              "      <th>0</th>\n",
              "      <td>0000997932d777bf</td>\n",
              "      <td>Explanation\\nWhy the edits made under my usern...</td>\n",
              "      <td>0</td>\n",
              "      <td>0</td>\n",
              "      <td>0</td>\n",
              "      <td>0</td>\n",
              "      <td>0</td>\n",
              "      <td>0</td>\n",
              "    </tr>\n",
              "    <tr>\n",
              "      <th>1</th>\n",
              "      <td>000103f0d9cfb60f</td>\n",
              "      <td>D'aww! He matches this background colour I'm s...</td>\n",
              "      <td>0</td>\n",
              "      <td>0</td>\n",
              "      <td>0</td>\n",
              "      <td>0</td>\n",
              "      <td>0</td>\n",
              "      <td>0</td>\n",
              "    </tr>\n",
              "    <tr>\n",
              "      <th>2</th>\n",
              "      <td>000113f07ec002fd</td>\n",
              "      <td>Hey man, I'm really not trying to edit war. It...</td>\n",
              "      <td>0</td>\n",
              "      <td>0</td>\n",
              "      <td>0</td>\n",
              "      <td>0</td>\n",
              "      <td>0</td>\n",
              "      <td>0</td>\n",
              "    </tr>\n",
              "    <tr>\n",
              "      <th>3</th>\n",
              "      <td>0001b41b1c6bb37e</td>\n",
              "      <td>\"\\nMore\\nI can't make any real suggestions on ...</td>\n",
              "      <td>0</td>\n",
              "      <td>0</td>\n",
              "      <td>0</td>\n",
              "      <td>0</td>\n",
              "      <td>0</td>\n",
              "      <td>0</td>\n",
              "    </tr>\n",
              "    <tr>\n",
              "      <th>4</th>\n",
              "      <td>0001d958c54c6e35</td>\n",
              "      <td>You, sir, are my hero. Any chance you remember...</td>\n",
              "      <td>0</td>\n",
              "      <td>0</td>\n",
              "      <td>0</td>\n",
              "      <td>0</td>\n",
              "      <td>0</td>\n",
              "      <td>0</td>\n",
              "    </tr>\n",
              "    <tr>\n",
              "      <th>5</th>\n",
              "      <td>00025465d4725e87</td>\n",
              "      <td>\"\\n\\nCongratulations from me as well, use the ...</td>\n",
              "      <td>0</td>\n",
              "      <td>0</td>\n",
              "      <td>0</td>\n",
              "      <td>0</td>\n",
              "      <td>0</td>\n",
              "      <td>0</td>\n",
              "    </tr>\n",
              "    <tr>\n",
              "      <th>6</th>\n",
              "      <td>0002bcb3da6cb337</td>\n",
              "      <td>COCKSUCKER BEFORE YOU PISS AROUND ON MY WORK</td>\n",
              "      <td>1</td>\n",
              "      <td>1</td>\n",
              "      <td>1</td>\n",
              "      <td>0</td>\n",
              "      <td>1</td>\n",
              "      <td>0</td>\n",
              "    </tr>\n",
              "    <tr>\n",
              "      <th>7</th>\n",
              "      <td>00031b1e95af7921</td>\n",
              "      <td>Your vandalism to the Matt Shirvington article...</td>\n",
              "      <td>0</td>\n",
              "      <td>0</td>\n",
              "      <td>0</td>\n",
              "      <td>0</td>\n",
              "      <td>0</td>\n",
              "      <td>0</td>\n",
              "    </tr>\n",
              "    <tr>\n",
              "      <th>8</th>\n",
              "      <td>00037261f536c51d</td>\n",
              "      <td>Sorry if the word 'nonsense' was offensive to ...</td>\n",
              "      <td>0</td>\n",
              "      <td>0</td>\n",
              "      <td>0</td>\n",
              "      <td>0</td>\n",
              "      <td>0</td>\n",
              "      <td>0</td>\n",
              "    </tr>\n",
              "    <tr>\n",
              "      <th>9</th>\n",
              "      <td>00040093b2687caa</td>\n",
              "      <td>alignment on this subject and which are contra...</td>\n",
              "      <td>0</td>\n",
              "      <td>0</td>\n",
              "      <td>0</td>\n",
              "      <td>0</td>\n",
              "      <td>0</td>\n",
              "      <td>0</td>\n",
              "    </tr>\n",
              "  </tbody>\n",
              "</table>\n",
              "</div>"
            ],
            "text/plain": [
              "                 id  ... identity_hate\n",
              "0  0000997932d777bf  ...             0\n",
              "1  000103f0d9cfb60f  ...             0\n",
              "2  000113f07ec002fd  ...             0\n",
              "3  0001b41b1c6bb37e  ...             0\n",
              "4  0001d958c54c6e35  ...             0\n",
              "5  00025465d4725e87  ...             0\n",
              "6  0002bcb3da6cb337  ...             0\n",
              "7  00031b1e95af7921  ...             0\n",
              "8  00037261f536c51d  ...             0\n",
              "9  00040093b2687caa  ...             0\n",
              "\n",
              "[10 rows x 8 columns]"
            ]
          },
          "metadata": {
            "tags": []
          },
          "execution_count": 7
        }
      ]
    },
    {
      "cell_type": "code",
      "metadata": {
        "id": "4W4xO_lb-_Ey",
        "colab_type": "code",
        "outputId": "70e4d725-7da5-4099-83fa-fffc75366a7c",
        "colab": {
          "base_uri": "https://localhost:8080/",
          "height": 335
        }
      },
      "source": [
        "test_data_final.head(10)"
      ],
      "execution_count": 8,
      "outputs": [
        {
          "output_type": "execute_result",
          "data": {
            "text/html": [
              "<div>\n",
              "<style scoped>\n",
              "    .dataframe tbody tr th:only-of-type {\n",
              "        vertical-align: middle;\n",
              "    }\n",
              "\n",
              "    .dataframe tbody tr th {\n",
              "        vertical-align: top;\n",
              "    }\n",
              "\n",
              "    .dataframe thead th {\n",
              "        text-align: right;\n",
              "    }\n",
              "</style>\n",
              "<table border=\"1\" class=\"dataframe\">\n",
              "  <thead>\n",
              "    <tr style=\"text-align: right;\">\n",
              "      <th></th>\n",
              "      <th>id</th>\n",
              "      <th>comment_text</th>\n",
              "      <th>toxic</th>\n",
              "      <th>severe_toxic</th>\n",
              "      <th>obscene</th>\n",
              "      <th>threat</th>\n",
              "      <th>insult</th>\n",
              "      <th>identity_hate</th>\n",
              "    </tr>\n",
              "  </thead>\n",
              "  <tbody>\n",
              "    <tr>\n",
              "      <th>5</th>\n",
              "      <td>0001ea8717f6de06</td>\n",
              "      <td>Thank you for understanding. I think very high...</td>\n",
              "      <td>0</td>\n",
              "      <td>0</td>\n",
              "      <td>0</td>\n",
              "      <td>0</td>\n",
              "      <td>0</td>\n",
              "      <td>0</td>\n",
              "    </tr>\n",
              "    <tr>\n",
              "      <th>7</th>\n",
              "      <td>000247e83dcc1211</td>\n",
              "      <td>:Dear god this site is horrible.</td>\n",
              "      <td>0</td>\n",
              "      <td>0</td>\n",
              "      <td>0</td>\n",
              "      <td>0</td>\n",
              "      <td>0</td>\n",
              "      <td>0</td>\n",
              "    </tr>\n",
              "    <tr>\n",
              "      <th>11</th>\n",
              "      <td>0002f87b16116a7f</td>\n",
              "      <td>\"::: Somebody will invariably try to add Relig...</td>\n",
              "      <td>0</td>\n",
              "      <td>0</td>\n",
              "      <td>0</td>\n",
              "      <td>0</td>\n",
              "      <td>0</td>\n",
              "      <td>0</td>\n",
              "    </tr>\n",
              "    <tr>\n",
              "      <th>13</th>\n",
              "      <td>0003e1cccfd5a40a</td>\n",
              "      <td>\" \\n\\n It says it right there that it IS a typ...</td>\n",
              "      <td>0</td>\n",
              "      <td>0</td>\n",
              "      <td>0</td>\n",
              "      <td>0</td>\n",
              "      <td>0</td>\n",
              "      <td>0</td>\n",
              "    </tr>\n",
              "    <tr>\n",
              "      <th>14</th>\n",
              "      <td>00059ace3e3e9a53</td>\n",
              "      <td>\" \\n\\n == Before adding a new product to the l...</td>\n",
              "      <td>0</td>\n",
              "      <td>0</td>\n",
              "      <td>0</td>\n",
              "      <td>0</td>\n",
              "      <td>0</td>\n",
              "      <td>0</td>\n",
              "    </tr>\n",
              "    <tr>\n",
              "      <th>16</th>\n",
              "      <td>000663aff0fffc80</td>\n",
              "      <td>this other one from 1897</td>\n",
              "      <td>0</td>\n",
              "      <td>0</td>\n",
              "      <td>0</td>\n",
              "      <td>0</td>\n",
              "      <td>0</td>\n",
              "      <td>0</td>\n",
              "    </tr>\n",
              "    <tr>\n",
              "      <th>17</th>\n",
              "      <td>000689dd34e20979</td>\n",
              "      <td>== Reason for banning throwing == \\n\\n This ar...</td>\n",
              "      <td>0</td>\n",
              "      <td>0</td>\n",
              "      <td>0</td>\n",
              "      <td>0</td>\n",
              "      <td>0</td>\n",
              "      <td>0</td>\n",
              "    </tr>\n",
              "    <tr>\n",
              "      <th>19</th>\n",
              "      <td>000844b52dee5f3f</td>\n",
              "      <td>|blocked]] from editing Wikipedia.   |</td>\n",
              "      <td>0</td>\n",
              "      <td>0</td>\n",
              "      <td>0</td>\n",
              "      <td>0</td>\n",
              "      <td>0</td>\n",
              "      <td>0</td>\n",
              "    </tr>\n",
              "    <tr>\n",
              "      <th>21</th>\n",
              "      <td>00091c35fa9d0465</td>\n",
              "      <td>== Arabs are committing genocide in Iraq, but ...</td>\n",
              "      <td>1</td>\n",
              "      <td>0</td>\n",
              "      <td>0</td>\n",
              "      <td>0</td>\n",
              "      <td>0</td>\n",
              "      <td>0</td>\n",
              "    </tr>\n",
              "    <tr>\n",
              "      <th>22</th>\n",
              "      <td>000968ce11f5ee34</td>\n",
              "      <td>Please stop. If you continue to vandalize Wiki...</td>\n",
              "      <td>0</td>\n",
              "      <td>0</td>\n",
              "      <td>0</td>\n",
              "      <td>0</td>\n",
              "      <td>0</td>\n",
              "      <td>0</td>\n",
              "    </tr>\n",
              "  </tbody>\n",
              "</table>\n",
              "</div>"
            ],
            "text/plain": [
              "                  id  ... identity_hate\n",
              "5   0001ea8717f6de06  ...             0\n",
              "7   000247e83dcc1211  ...             0\n",
              "11  0002f87b16116a7f  ...             0\n",
              "13  0003e1cccfd5a40a  ...             0\n",
              "14  00059ace3e3e9a53  ...             0\n",
              "16  000663aff0fffc80  ...             0\n",
              "17  000689dd34e20979  ...             0\n",
              "19  000844b52dee5f3f  ...             0\n",
              "21  00091c35fa9d0465  ...             0\n",
              "22  000968ce11f5ee34  ...             0\n",
              "\n",
              "[10 rows x 8 columns]"
            ]
          },
          "metadata": {
            "tags": []
          },
          "execution_count": 8
        }
      ]
    },
    {
      "cell_type": "markdown",
      "metadata": {
        "id": "rPmBo6zDFGxu",
        "colab_type": "text"
      },
      "source": [
        "Check for repeated values, null values and overall statistics of the dataset."
      ]
    },
    {
      "cell_type": "code",
      "metadata": {
        "id": "iaUo3mLJFAJK",
        "colab_type": "code",
        "outputId": "decb7b64-1486-4797-add6-a52397f32a29",
        "colab": {
          "base_uri": "https://localhost:8080/",
          "height": 310
        }
      },
      "source": [
        "print(any(train_data['id'].duplicated())) # see if id values are repeated\n",
        "print(train_data.isnull().values.any()) # check for any n/a values\n",
        "display(train_data.describe()) # check statistics of each classification"
      ],
      "execution_count": 9,
      "outputs": [
        {
          "output_type": "stream",
          "text": [
            "False\n",
            "False\n"
          ],
          "name": "stdout"
        },
        {
          "output_type": "display_data",
          "data": {
            "text/html": [
              "<div>\n",
              "<style scoped>\n",
              "    .dataframe tbody tr th:only-of-type {\n",
              "        vertical-align: middle;\n",
              "    }\n",
              "\n",
              "    .dataframe tbody tr th {\n",
              "        vertical-align: top;\n",
              "    }\n",
              "\n",
              "    .dataframe thead th {\n",
              "        text-align: right;\n",
              "    }\n",
              "</style>\n",
              "<table border=\"1\" class=\"dataframe\">\n",
              "  <thead>\n",
              "    <tr style=\"text-align: right;\">\n",
              "      <th></th>\n",
              "      <th>toxic</th>\n",
              "      <th>severe_toxic</th>\n",
              "      <th>obscene</th>\n",
              "      <th>threat</th>\n",
              "      <th>insult</th>\n",
              "      <th>identity_hate</th>\n",
              "    </tr>\n",
              "  </thead>\n",
              "  <tbody>\n",
              "    <tr>\n",
              "      <th>count</th>\n",
              "      <td>159571.000000</td>\n",
              "      <td>159571.000000</td>\n",
              "      <td>159571.000000</td>\n",
              "      <td>159571.000000</td>\n",
              "      <td>159571.000000</td>\n",
              "      <td>159571.000000</td>\n",
              "    </tr>\n",
              "    <tr>\n",
              "      <th>mean</th>\n",
              "      <td>0.095844</td>\n",
              "      <td>0.009996</td>\n",
              "      <td>0.052948</td>\n",
              "      <td>0.002996</td>\n",
              "      <td>0.049364</td>\n",
              "      <td>0.008805</td>\n",
              "    </tr>\n",
              "    <tr>\n",
              "      <th>std</th>\n",
              "      <td>0.294379</td>\n",
              "      <td>0.099477</td>\n",
              "      <td>0.223931</td>\n",
              "      <td>0.054650</td>\n",
              "      <td>0.216627</td>\n",
              "      <td>0.093420</td>\n",
              "    </tr>\n",
              "    <tr>\n",
              "      <th>min</th>\n",
              "      <td>0.000000</td>\n",
              "      <td>0.000000</td>\n",
              "      <td>0.000000</td>\n",
              "      <td>0.000000</td>\n",
              "      <td>0.000000</td>\n",
              "      <td>0.000000</td>\n",
              "    </tr>\n",
              "    <tr>\n",
              "      <th>25%</th>\n",
              "      <td>0.000000</td>\n",
              "      <td>0.000000</td>\n",
              "      <td>0.000000</td>\n",
              "      <td>0.000000</td>\n",
              "      <td>0.000000</td>\n",
              "      <td>0.000000</td>\n",
              "    </tr>\n",
              "    <tr>\n",
              "      <th>50%</th>\n",
              "      <td>0.000000</td>\n",
              "      <td>0.000000</td>\n",
              "      <td>0.000000</td>\n",
              "      <td>0.000000</td>\n",
              "      <td>0.000000</td>\n",
              "      <td>0.000000</td>\n",
              "    </tr>\n",
              "    <tr>\n",
              "      <th>75%</th>\n",
              "      <td>0.000000</td>\n",
              "      <td>0.000000</td>\n",
              "      <td>0.000000</td>\n",
              "      <td>0.000000</td>\n",
              "      <td>0.000000</td>\n",
              "      <td>0.000000</td>\n",
              "    </tr>\n",
              "    <tr>\n",
              "      <th>max</th>\n",
              "      <td>1.000000</td>\n",
              "      <td>1.000000</td>\n",
              "      <td>1.000000</td>\n",
              "      <td>1.000000</td>\n",
              "      <td>1.000000</td>\n",
              "      <td>1.000000</td>\n",
              "    </tr>\n",
              "  </tbody>\n",
              "</table>\n",
              "</div>"
            ],
            "text/plain": [
              "               toxic   severe_toxic  ...         insult  identity_hate\n",
              "count  159571.000000  159571.000000  ...  159571.000000  159571.000000\n",
              "mean        0.095844       0.009996  ...       0.049364       0.008805\n",
              "std         0.294379       0.099477  ...       0.216627       0.093420\n",
              "min         0.000000       0.000000  ...       0.000000       0.000000\n",
              "25%         0.000000       0.000000  ...       0.000000       0.000000\n",
              "50%         0.000000       0.000000  ...       0.000000       0.000000\n",
              "75%         0.000000       0.000000  ...       0.000000       0.000000\n",
              "max         1.000000       1.000000  ...       1.000000       1.000000\n",
              "\n",
              "[8 rows x 6 columns]"
            ]
          },
          "metadata": {
            "tags": []
          }
        }
      ]
    },
    {
      "cell_type": "markdown",
      "metadata": {
        "id": "FRB9JMTFFON_",
        "colab_type": "text"
      },
      "source": [
        "Checking details of training and test datasets.\n"
      ]
    },
    {
      "cell_type": "code",
      "metadata": {
        "id": "gQrgP03R_CiU",
        "colab_type": "code",
        "outputId": "56a0eaff-922a-40d4-ed84-f84d4230fb61",
        "colab": {
          "base_uri": "https://localhost:8080/",
          "height": 66
        }
      },
      "source": [
        "train_size = train_data.shape[0]\n",
        "test_size = test_data_final.shape[0]\n",
        "total_count = train_size + test_size\n",
        "print(f\"Number of training examples {train_size}\")\n",
        "print(f\"Number of test examples {test_size}\")\n",
        "print(f\"Train/Test Ratio: {round(train_size/total_count * 100, 2)}% / {round(test_size/total_count * 100, 2)}%\")"
      ],
      "execution_count": 10,
      "outputs": [
        {
          "output_type": "stream",
          "text": [
            "Number of training examples 159571\n",
            "Number of test examples 63978\n",
            "Train/Test Ratio: 71.38% / 28.62%\n"
          ],
          "name": "stdout"
        }
      ]
    },
    {
      "cell_type": "markdown",
      "metadata": {
        "id": "d2ieyWDOGOU3",
        "colab_type": "text"
      },
      "source": [
        "The training dataset contains 160,000 rows (with the above 8 columns) while the initial test set contains 63,000\n",
        "rows, with just 2 columns (the id and comment_text ). \n",
        "\n",
        "\n",
        "Checking the training dataset based on toxicity."
      ]
    },
    {
      "cell_type": "code",
      "metadata": {
        "id": "PCTh4KKo_L8p",
        "colab_type": "code",
        "outputId": "47a1171f-4b44-458f-f541-f6fa7255270a",
        "colab": {
          "base_uri": "https://localhost:8080/",
          "height": 50
        }
      },
      "source": [
        "# add a new column 'none' to indicate no toxicity\n",
        "train_data_new = train_data.copy()\n",
        "comment_category_totals=train_data.iloc[:,2:].sum(axis=1)\n",
        "train_data_new['none']=(comment_category_totals==0)\n",
        "print(f\"Comments with no toxicity: {train_data_new['none'].sum()}\")\n",
        "print(f\"% of total training dataset marked as not toxic: {train_data_new['none'].sum()/len(train_data_new)}\")"
      ],
      "execution_count": 11,
      "outputs": [
        {
          "output_type": "stream",
          "text": [
            "Comments with no toxicity: 143346\n",
            "% of total training dataset marked as not toxic: 0.8983211235124177\n"
          ],
          "name": "stdout"
        }
      ]
    },
    {
      "cell_type": "code",
      "metadata": {
        "id": "ZYqc4CkM_O1V",
        "colab_type": "code",
        "outputId": "c395276b-25bb-4d10-b58c-7c534397d751",
        "colab": {
          "base_uri": "https://localhost:8080/",
          "height": 147
        }
      },
      "source": [
        "print(train_data_new[['toxic', 'severe_toxic', 'obscene', 'threat', 'insult', 'identity_hate', 'none']].sum())"
      ],
      "execution_count": 12,
      "outputs": [
        {
          "output_type": "stream",
          "text": [
            "toxic             15294.0\n",
            "severe_toxic       1595.0\n",
            "obscene            8449.0\n",
            "threat              478.0\n",
            "insult             7877.0\n",
            "identity_hate      1405.0\n",
            "none             143346.0\n",
            "dtype: float64\n"
          ],
          "name": "stdout"
        }
      ]
    },
    {
      "cell_type": "code",
      "metadata": {
        "id": "wTHxjlwi_UMf",
        "colab_type": "code",
        "outputId": "bdb9de1f-b610-4056-a7bd-ebdd29977120",
        "colab": {
          "base_uri": "https://localhost:8080/",
          "height": 353
        }
      },
      "source": [
        "x_vals=train_data_new.iloc[:,2:].sum()\n",
        "plt.figure(figsize=(10,5))\n",
        "axes = sb.barplot(x_vals.index, x_vals.values, alpha=0.7)\n",
        "plt.title(\"Toxicity Label Distribution in Training Dataset\")\n",
        "plt.ylabel('# Occurrences', fontsize=12)\n",
        "plt.xlabel('Toxcity Type', fontsize=12)\n",
        "rectangles = axes.patches\n",
        "labels = x_vals.values\n",
        "for rectangle, label in zip(rectangles, labels):\n",
        "    height = rectangle.get_height()\n",
        "    axes.text(rectangle.get_x() + rectangle.get_width()/2, height + 5, label, va='bottom', ha='center')\n",
        "plt.show()"
      ],
      "execution_count": 13,
      "outputs": [
        {
          "output_type": "display_data",
          "data": {
            "image/png": "[encoded data removed]",
            "text/plain": [
              "<Figure size 720x360 with 1 Axes>"
            ]
          },
          "metadata": {
            "tags": [],
            "needs_background": "light"
          }
        }
      ]
    },
    {
      "cell_type": "code",
      "metadata": {
        "id": "hYTqfXx3_dfR",
        "colab_type": "code",
        "outputId": "7f6be199-a378-46d4-84bd-61ba433cd299",
        "colab": {
          "base_uri": "https://localhost:8080/",
          "height": 263
        }
      },
      "source": [
        "labels = ['toxic', 'severe_toxic', 'obscene', 'threat', 'insult', 'identity_hate']\n",
        "plt.title('Ratio of Positive Toxicity Labels in Training Dataset')\n",
        "plt.pie(train_data_new[labels].sum(), labels=labels, autopct='%1.1f%%')\n",
        "plt.show()"
      ],
      "execution_count": 14,
      "outputs": [
        {
          "output_type": "display_data",
          "data": {
            "image/png": "[encoded data removed]",
            "text/plain": [
              "<Figure size 432x288 with 1 Axes>"
            ]
          },
          "metadata": {
            "tags": []
          }
        }
      ]
    },
    {
      "cell_type": "markdown",
      "metadata": {
        "id": "djUKPA68HGmn",
        "colab_type": "text"
      },
      "source": [
        "In the above analysis, we notice a few things - first, the training dataset is highly imbalanced with regards to comment classification labels. We see that almost 90% of the comments has no toxicity label. Brief investigation of the training set reveals that most of the comments do not have a toxicity classification, and the percentages of toxic classifications are not even - 'toxic' ratings are much more prevalent (15,000 examples) with 'obscene' and 'insult' (around 8,000 each) at nearly half that amount and the rest at or below 1,500 examples each. While not as bad as say the perennial spam dataset example where 1% of the data is classied as spam and the rest is not spam. We also note that the training data is 70% of the total data, which seems typical."
      ]
    },
    {
      "cell_type": "code",
      "metadata": {
        "id": "6hkYIZHQJoG3",
        "colab_type": "code",
        "colab": {}
      },
      "source": [
        "# Word count in each comment:\n",
        "train_data_new['count_word'] = train_data_new[\"comment_text\"].apply(lambda x: len(str(x).split()))\n",
        "\n",
        "# Unique word count\n",
        "train_data_new['count_unique_word'] = train_data_new[\"comment_text\"].apply(lambda x: len(set(str(x).split())))\n",
        "\n",
        "# percentage of unique words\n",
        "train_data_new['word_unique_percent'] = train_data_new['count_unique_word']*100/train_data_new['count_word']\n",
        "\n",
        "# marking comments without any tags as \"clean\".\n",
        "rowsums = train_data_new.iloc[:,2:7].sum(axis=1)\n",
        "train_data_new['clean'] = np.logical_not(rowsums).astype('int')"
      ],
      "execution_count": 0,
      "outputs": []
    },
    {
      "cell_type": "code",
      "metadata": {
        "id": "f4bVsCliJ3yQ",
        "colab_type": "code",
        "outputId": "680bf5e3-4c20-4618-9d59-478436848d1d",
        "colab": {
          "base_uri": "https://localhost:8080/",
          "height": 318
        }
      },
      "source": [
        "import seaborn as sns\n",
        "# word count\n",
        "axes = sns.violinplot(y='count_word', x='clean', data=train_data_new,split=True, inner=\"quart\")\n",
        "axes.set_xlabel('Type of comment', fontsize=12)\n",
        "axes.set_ylabel('# of words', fontsize=12)\n",
        "axes.set_ylim([0, 250])\n",
        "axes.set_xticklabels(['Toxic', 'Clean'], rotation='vertical', fontsize=10)\n",
        "plt.title(\"Number of words in each comment\", fontsize=15)\n",
        "\n",
        "plt.show()"
      ],
      "execution_count": 16,
      "outputs": [
        {
          "output_type": "display_data",
          "data": {
            "image/png": "[encoded data removed]",
            "text/plain": [
              "<Figure size 432x288 with 1 Axes>"
            ]
          },
          "metadata": {
            "tags": [],
            "needs_background": "light"
          }
        }
      ]
    },
    {
      "cell_type": "markdown",
      "metadata": {
        "id": "B5F_WqPxKLnN",
        "colab_type": "text"
      },
      "source": [
        "The above plot indicates that the number of words in each comment in both clean and toxic comments is mostly between 10 to 50. And toxic comments are much more likely to have fewer words indicated by the bulk near ~20 range."
      ]
    },
    {
      "cell_type": "code",
      "metadata": {
        "id": "Szb6QS-6J-Di",
        "colab_type": "code",
        "outputId": "765fc85b-63b9-4ecc-907a-88ef5d595fd7",
        "colab": {
          "base_uri": "https://localhost:8080/",
          "height": 618
        }
      },
      "source": [
        "\n",
        "# unique word count\n",
        "plt.title(\"Number of unique words in each comment\", fontsize=15)\n",
        "axes = sns.violinplot(y='count_unique_word', x='clean', data=train_data_new,split=True, inner=\"quart\")\n",
        "axes.set_xlabel('Type of comment', fontsize=12)\n",
        "axes.set_ylabel('# of words', fontsize=12)\n",
        "axes.set_ylim([0, 200])\n",
        "axes.set_xticklabels(['Toxic', 'Clean'], rotation='vertical', fontsize=10)\n",
        "plt.show()\n",
        "\n",
        "# percentage of unique words\n",
        "plt.title(\"Percentage of unique words of total words in comment\")\n",
        "axes = sns.violinplot(y='word_unique_percent', x='clean', data=train_data_new,split=True, inner=\"quart\")\n",
        "axes.set_xlabel('Type of comment', fontsize=12)\n",
        "axes.set_ylabel('% of words', fontsize=12)\n",
        "axes.set_xticklabels(['Toxic', 'Clean'], rotation='vertical', fontsize=10)\n",
        "plt.show()"
      ],
      "execution_count": 17,
      "outputs": [
        {
          "output_type": "display_data",
          "data": {
            "image/png": "[encoded data removed]",
            "text/plain": [
              "<Figure size 432x288 with 1 Axes>"
            ]
          },
          "metadata": {
            "tags": [],
            "needs_background": "light"
          }
        },
        {
          "output_type": "display_data",
          "data": {
            "image/png": "[encoded data removed]",
            "text/plain": [
              "<Figure size 432x288 with 1 Axes>"
            ]
          },
          "metadata": {
            "tags": [],
            "needs_background": "light"
          }
        }
      ]
    },
    {
      "cell_type": "markdown",
      "metadata": {
        "id": "R-L3GPL3KM2j",
        "colab_type": "text"
      },
      "source": [
        "The above graphs show that number of words and number of unique words in both clean and toxic comments are similar and the percentage of unique words indicate that the bulk of the words are unique only. Also, there is a very small bump in the percentage of unique words in toxic comments indicating that they are spam."
      ]
    },
    {
      "cell_type": "code",
      "metadata": {
        "id": "R_rA6vtq_hAl",
        "colab_type": "code",
        "outputId": "3f2a3d36-4ef7-4da0-e883-b461d9e146de",
        "colab": {
          "base_uri": "https://localhost:8080/",
          "height": 245
        }
      },
      "source": [
        "# check for nulls\n",
        "train_data_new.isnull().any()"
      ],
      "execution_count": 18,
      "outputs": [
        {
          "output_type": "execute_result",
          "data": {
            "text/plain": [
              "id                     False\n",
              "comment_text           False\n",
              "toxic                  False\n",
              "severe_toxic           False\n",
              "obscene                False\n",
              "threat                 False\n",
              "insult                 False\n",
              "identity_hate          False\n",
              "none                   False\n",
              "count_word             False\n",
              "count_unique_word      False\n",
              "word_unique_percent    False\n",
              "clean                  False\n",
              "dtype: bool"
            ]
          },
          "metadata": {
            "tags": []
          },
          "execution_count": 18
        }
      ]
    },
    {
      "cell_type": "markdown",
      "metadata": {
        "id": "B7AV4Ev1H8GC",
        "colab_type": "text"
      },
      "source": [
        "### **Preprocessing data**\n",
        "The input data that will be used to engineer and extract features is in the form of comment text. This input generally cannot be fed directly into machine learning models, and must first be converted into a large, sparse vector of numbers using tokenizing and vectorization. We will use Scikit Learn's [TfidVectorizer](https://scikit-learn.org/stable/modules/generated/sklearn.feature_extraction.text.TfidfVectorizer.html) function to transform the dataset documents (i.e. comments) into a matrix of TF-IDF features after splitting by both words and characters. Here we will use the combined training and test sets to make the overall word feature vector as this is not actively doing any model training, but merely generating features which will be used to train our models - there are varying opinions on this mixing of datasets, but it is allowed to take this approach in Kaggle competitions and so we will do so here for ease of processing. Default English language stopwords will be used, accents will be stripped from characters, and we will start with 1-grams and the top 10,000 words for the **benchmark model**. Based on **Logistic Regression** with words and char n-grams.\n",
        "\n",
        "### **Logistic Regression - Benchmark Model**"
      ]
    },
    {
      "cell_type": "code",
      "metadata": {
        "id": "3LGfl4FQ_n5r",
        "colab_type": "code",
        "outputId": "02f9e366-d08c-470f-b8b1-20d597d72d33",
        "colab": {
          "base_uri": "https://localhost:8080/",
          "height": 50
        }
      },
      "source": [
        "from sklearn.feature_extraction.text import TfidfVectorizer\n",
        "from scipy.sparse import hstack\n",
        "\n",
        "# combine training and test comments so we have the entire corpus of words and characters for vectorization\n",
        "combined_comments = pd.concat([train_data['comment_text'], test_data_final['comment_text']])\n",
        "word_vec = TfidfVectorizer(stop_words='english', analyzer='word', strip_accents='unicode', sublinear_tf=True,\n",
        "                           token_pattern=r'\\w{1,}', max_features=10000, ngram_range=(1,1))\n",
        "word_vec.fit(combined_comments)\n",
        "train_word_features = word_vec.transform(train_data['comment_text'])\n",
        "test_word_features = word_vec.transform(test_data_final['comment_text'])\n",
        "\n",
        "character_vec = TfidfVectorizer(analyzer='char', stop_words='english', strip_accents='unicode', sublinear_tf=True,\n",
        "                               max_features=50000, ngram_range=(2,6))\n",
        "character_vec.fit(combined_comments)\n",
        "train_char_features = character_vec.transform(train_data['comment_text'])\n",
        "test_char_features = character_vec.transform(test_data_final['comment_text'])\n",
        "\n",
        "train_data_features = hstack([train_char_features, train_word_features])\n",
        "test_data_features = hstack([test_char_features, test_word_features])"
      ],
      "execution_count": 19,
      "outputs": [
        {
          "output_type": "stream",
          "text": [
            "/usr/local/lib/python3.6/dist-packages/sklearn/feature_extraction/text.py:520: UserWarning: The parameter 'stop_words' will not be used since 'analyzer' != 'word'\n",
            "  warnings.warn(\"The parameter 'stop_words' will not be used\"\n"
          ],
          "name": "stderr"
        }
      ]
    },
    {
      "cell_type": "code",
      "metadata": {
        "id": "fXZmmeKvE8ED",
        "colab_type": "code",
        "colab": {}
      },
      "source": [
        "class_names = ['toxic', 'severe_toxic', 'obscene', 'threat', 'insult', 'identity_hate']"
      ],
      "execution_count": 0,
      "outputs": []
    },
    {
      "cell_type": "code",
      "metadata": {
        "id": "Eqc5ZhC8H_3D",
        "colab_type": "code",
        "outputId": "abc13b83-4b1c-4fee-f1ff-7314cb8e6df8",
        "colab": {
          "base_uri": "https://localhost:8080/",
          "height": 163
        }
      },
      "source": [
        "%%time\n",
        "from sklearn.linear_model import LogisticRegression\n",
        "from sklearn.model_selection import cross_val_score\n",
        "\n",
        "scores = []\n",
        "predictions = pd.DataFrame.from_dict({'id': test_data_final['id']})\n",
        "for class_name in class_names:\n",
        "    train_target = train_data[class_name]\n",
        "    classifier = LogisticRegression(C=0.1, solver='sag')\n",
        "\n",
        "    cv_score = np.mean(cross_val_score(classifier, train_data_features, train_target, cv=3, scoring='roc_auc'))\n",
        "    scores.append(cv_score)\n",
        "    print('CV score for class {} is {}'.format(class_name, cv_score))\n",
        "\n",
        "    classifier.fit(train_data_features, train_target)\n",
        "    predictions[class_name] = classifier.predict_proba(test_data_features)[:, 1]\n",
        "\n",
        "print('Total CV score is {}'.format(np.mean(scores)))"
      ],
      "execution_count": 21,
      "outputs": [
        {
          "output_type": "stream",
          "text": [
            "CV score for class toxic is 0.9697970628233056\n",
            "CV score for class severe_toxic is 0.9877308555574199\n",
            "CV score for class obscene is 0.9846536897392498\n",
            "CV score for class threat is 0.9831760760447974\n",
            "CV score for class insult is 0.9778954898263957\n",
            "CV score for class identity_hate is 0.9743630864627324\n",
            "Total CV score is 0.9796027100756501\n",
            "CPU times: user 9min 13s, sys: 686 ms, total: 9min 13s\n",
            "Wall time: 9min 13s\n"
          ],
          "name": "stdout"
        }
      ]
    },
    {
      "cell_type": "markdown",
      "metadata": {
        "id": "hyPmuT-ZNLs9",
        "colab_type": "text"
      },
      "source": [
        "A custom function to calcualte the **Roc-Auc score** using test set labels provided by Kaggle."
      ]
    },
    {
      "cell_type": "code",
      "metadata": {
        "id": "PebE51b5ID7E",
        "colab_type": "code",
        "colab": {}
      },
      "source": [
        "from sklearn.metrics import roc_auc_score\n",
        "def test_score(predicted_vals):\n",
        "    '''Actual Kaggle competion score using test set labels provided after competition close'''\n",
        "    actuals = test_labels.copy()\n",
        "    actuals.drop(actuals.loc[actuals['toxic']==-1].index, inplace=True)\n",
        "    scores_test = []\n",
        "    for class_name in class_names:\n",
        "        score = roc_auc_score(actuals[class_name], predicted_vals[class_name])\n",
        "        scores_test.append(score)\n",
        "    print('Test set score is {}'.format(np.mean(scores_test)))"
      ],
      "execution_count": 0,
      "outputs": []
    },
    {
      "cell_type": "code",
      "metadata": {
        "id": "gfpfJGJLIKmm",
        "colab_type": "code",
        "outputId": "74e5456e-43c1-4ebd-a9c0-fa6aea52b665",
        "colab": {
          "base_uri": "https://localhost:8080/",
          "height": 33
        }
      },
      "source": [
        "test_score(predictions)"
      ],
      "execution_count": 23,
      "outputs": [
        {
          "output_type": "stream",
          "text": [
            "Test set score is 0.976488898924485\n"
          ],
          "name": "stdout"
        }
      ]
    },
    {
      "cell_type": "markdown",
      "metadata": {
        "id": "25t1R-aLINtU",
        "colab_type": "text"
      },
      "source": [
        "### **Support Vector Machine**\n",
        "\n",
        "Here, we experiment with another popular machine learning algorithm for classification."
      ]
    },
    {
      "cell_type": "code",
      "metadata": {
        "id": "NwtrTAnXIRnk",
        "colab_type": "code",
        "outputId": "0f22f048-402b-40e1-d938-39aa948d74ea",
        "colab": {
          "base_uri": "https://localhost:8080/",
          "height": 163
        }
      },
      "source": [
        "%%time\n",
        "from sklearn.svm import LinearSVC\n",
        "from sklearn.calibration import CalibratedClassifierCV\n",
        "\n",
        "scores = []\n",
        "predictions = pd.DataFrame.from_dict({'id': test_data_final['id']})\n",
        "for class_name in class_names:\n",
        "    train_target = train_data[class_name]\n",
        "    classifier = CalibratedClassifierCV(LinearSVC(), method='sigmoid',cv=4)\n",
        "\n",
        "    cv_score = np.mean(cross_val_score(classifier, train_data_features, train_target, cv=3, scoring='roc_auc'))\n",
        "    scores.append(cv_score)\n",
        "    print('CV score for class {} is {}'.format(class_name, cv_score))\n",
        "\n",
        "    classifier.fit(train_data_features, train_target)\n",
        "    predictions[class_name] = classifier.predict_proba(test_data_features)[:, 1]\n",
        "\n",
        "print('Total CV score is {}'.format(np.mean(scores)))"
      ],
      "execution_count": 24,
      "outputs": [
        {
          "output_type": "stream",
          "text": [
            "CV score for class toxic is 0.9732447493971709\n",
            "CV score for class severe_toxic is 0.9783027682432266\n",
            "CV score for class obscene is 0.9853299577124445\n",
            "CV score for class threat is 0.9831192197390419\n",
            "CV score for class insult is 0.9744918236285794\n",
            "CV score for class identity_hate is 0.9711174570176265\n",
            "Total CV score is 0.9776009959563483\n",
            "CPU times: user 11min 2s, sys: 1min 8s, total: 12min 11s\n",
            "Wall time: 10min 53s\n"
          ],
          "name": "stdout"
        }
      ]
    },
    {
      "cell_type": "code",
      "metadata": {
        "id": "iAMZyDXmJsmk",
        "colab_type": "code",
        "outputId": "a28950d3-e268-42e0-a9f8-537fe9d09af6",
        "colab": {
          "base_uri": "https://localhost:8080/",
          "height": 33
        }
      },
      "source": [
        "test_score(predictions)"
      ],
      "execution_count": 25,
      "outputs": [
        {
          "output_type": "stream",
          "text": [
            "Test set score is 0.9728010474479349\n"
          ],
          "name": "stdout"
        }
      ]
    },
    {
      "cell_type": "markdown",
      "metadata": {
        "id": "-s7UX_Q5OBk8",
        "colab_type": "text"
      },
      "source": [
        "Well, it fails to beat the score of our **Logistic Regression Model (Benchmark model)** ."
      ]
    },
    {
      "cell_type": "markdown",
      "metadata": {
        "id": "5j7siKaoDbPU",
        "colab_type": "text"
      },
      "source": [
        "## **Capstone Experiment**\n",
        "\n",
        "Here we will import pre-trained word embeddings, pre-process data,develop and experiment with multiple neural network architectures to try and achieve better performance that the logistic regression benchmark model and the support vector machine model utilized above. \n",
        "\n",
        "###**Environment Setup**\n",
        "\n",
        "Here we import all the essential libraries from [Keras](https://keras.io/) to succesfully run our neural network models.\n",
        "\n",
        "Keras is a high-level neural networks API, written in Python and capable of running on top of TensorFlow, CNTK, or Theano. It was developed with a focus on enabling fast experimentation. Being able to go from idea to result with the least possible delay is key to doing good research.\n",
        "\n",
        "\n",
        "* Allows for easy and fast prototyping (through user friendliness, modularity, and extensibility).\n",
        "* Supports both convolutional networks and recurrent networks, as well as combinations of the two.\n",
        "* Runs seamlessly on CPU and GPU.\n",
        "\n",
        "Thus, we will use Keras here for the Capstone project."
      ]
    },
    {
      "cell_type": "code",
      "metadata": {
        "id": "BPuLGRmAci6R",
        "colab_type": "code",
        "outputId": "a806a1f5-6765-4afa-cd9e-28b46ace6625",
        "colab": {
          "base_uri": "https://localhost:8080/",
          "height": 33
        }
      },
      "source": [
        "import os\n",
        "from keras.layers import Dense, Input, Bidirectional, Activation, Conv1D, GRU\n",
        "from keras.callbacks import Callback\n",
        "from keras.layers import Dropout,Embedding,GlobalMaxPooling1D, MaxPooling1D, Add, Flatten\n",
        "from keras.preprocessing import text, sequence\n",
        "from keras.layers import GlobalAveragePooling1D, GlobalMaxPooling1D, concatenate, SpatialDropout1D\n",
        "from keras import initializers, regularizers, constraints, optimizers, layers, callbacks\n",
        "from keras.callbacks import EarlyStopping,ModelCheckpoint\n",
        "from keras.models import Model\n",
        "from keras.optimizers import Adam\n",
        "from sklearn.model_selection import train_test_split\n",
        "from sklearn.metrics import accuracy_score\n",
        "from sklearn.metrics import roc_auc_score"
      ],
      "execution_count": 26,
      "outputs": [
        {
          "output_type": "stream",
          "text": [
            "Using TensorFlow backend.\n"
          ],
          "name": "stderr"
        }
      ]
    },
    {
      "cell_type": "code",
      "metadata": {
        "id": "KKpIXpaGc3mM",
        "colab_type": "code",
        "colab": {}
      },
      "source": [
        "EMBEDDING_FILE = '/content/drive/My Drive/toxicity-classification/embedding/crawl-300d-2M.vec'\n",
        "train = pd.read_csv('/content/drive/My Drive/toxicity-classification/data/train.csv')\n",
        "test = pd.read_csv('/content/drive/My Drive/toxicity-classification/data/test.csv')"
      ],
      "execution_count": 0,
      "outputs": []
    },
    {
      "cell_type": "code",
      "metadata": {
        "id": "cywixJC_dTFv",
        "colab_type": "code",
        "colab": {}
      },
      "source": [
        "max_features=100000\n",
        "maxlen=200\n",
        "embed_size=300"
      ],
      "execution_count": 0,
      "outputs": []
    },
    {
      "cell_type": "code",
      "metadata": {
        "id": "STNXTcYcGix_",
        "colab_type": "code",
        "outputId": "54c7f366-4759-4ec9-c573-ee055915751d",
        "colab": {
          "base_uri": "https://localhost:8080/",
          "height": 33
        }
      },
      "source": [
        "!ls \"/content/drive/My Drive/toxicity-classification/embedding/\""
      ],
      "execution_count": 29,
      "outputs": [
        {
          "output_type": "stream",
          "text": [
            "crawl-300d-2M.vec  glove.twitter.27B.200d.txt\n"
          ],
          "name": "stdout"
        }
      ]
    },
    {
      "cell_type": "code",
      "metadata": {
        "id": "ciNgF8J3BDQg",
        "colab_type": "code",
        "outputId": "aa576666-5c91-4774-f1f9-12d230ac23d5",
        "colab": {
          "base_uri": "https://localhost:8080/",
          "height": 50
        }
      },
      "source": [
        "%%time\n",
        "embeddings_index = {}\n",
        "with open(EMBEDDING_FILE, encoding='utf8') as f:\n",
        "    for line in f:\n",
        "        values = line.rstrip().rsplit(' ')\n",
        "        word = values[0]\n",
        "        coefs = np.asarray(values[1:], dtype='float32')\n",
        "        embeddings_index[word] = coefs"
      ],
      "execution_count": 30,
      "outputs": [
        {
          "output_type": "stream",
          "text": [
            "CPU times: user 2min 6s, sys: 3.46 s, total: 2min 9s\n",
            "Wall time: 2min 20s\n"
          ],
          "name": "stdout"
        }
      ]
    },
    {
      "cell_type": "markdown",
      "metadata": {
        "id": "sVxMPO9qEDWi",
        "colab_type": "text"
      },
      "source": [
        "Here, we make a vocabulary from our training data. The intention is to check the coverage."
      ]
    },
    {
      "cell_type": "code",
      "metadata": {
        "id": "RS22-AWnBGYa",
        "colab_type": "code",
        "colab": {}
      },
      "source": [
        "from tqdm.notebook import tqdm\n",
        "tqdm.pandas()\n",
        "\n",
        "def build_vocab(sentences, verbose =  True):\n",
        "    \"\"\"\n",
        "    :param sentences: list of list of words\n",
        "    :return: dictionary of words and their count\n",
        "    \"\"\"\n",
        "    vocab = {}\n",
        "    for sentence in tqdm(sentences, disable = (not verbose)):\n",
        "        for word in sentence:\n",
        "            try:\n",
        "                vocab[word] += 1\n",
        "            except KeyError:\n",
        "                vocab[word] = 1\n",
        "    return vocab"
      ],
      "execution_count": 0,
      "outputs": []
    },
    {
      "cell_type": "code",
      "metadata": {
        "id": "wJsUUEHABLMR",
        "colab_type": "code",
        "outputId": "486aa263-0038-4f10-a722-d69e0d2d4b97",
        "colab": {
          "base_uri": "https://localhost:8080/",
          "height": 130,
          "referenced_widgets": [
            "3da9cce5fba04af9bee128432979b114",
            "795877bf489f47259580dd246c156c4a",
            "72f1d25a3b27482ba0a4af36f6888e32",
            "8cba8d0f120f425385a9cd8c9dd9193a",
            "6cc7f780dfc64dafbbece64e984ea669",
            "3b29c6718fdd479a837c45259434ee2c",
            "410040feb91d45fbb2efc25076eb96b4",
            "3280e0ef43b54c41b92b31a696a81aec",
            "9b2a96e6b41846bfbcd6b52aee714807",
            "4f6ea4a12b054ab198980d1d387aa2bf",
            "91631248a8bc492993fa0b62a65dc0b9",
            "c03699e5212a4ba9af66d127b40d4a51",
            "161402fe91bc4bb6ace09bcc8da8d04b",
            "d7031c511b514b72ab98a8e176370356",
            "21d7142aea174990928711641fecb48e",
            "0471a4039b8b46f5ab427c7e1eaaed5f"
          ]
        }
      },
      "source": [
        "sentences = train[\"comment_text\"].progress_apply(lambda x: x.split()).values\n",
        "vocab = build_vocab(sentences)\n",
        "print({k: vocab[k] for k in list(vocab)[:5]})"
      ],
      "execution_count": 32,
      "outputs": [
        {
          "output_type": "display_data",
          "data": {
            "application/vnd.jupyter.widget-view+json": {
              "model_id": "3da9cce5fba04af9bee128432979b114",
              "version_minor": 0,
              "version_major": 2
            },
            "text/plain": [
              "HBox(children=(IntProgress(value=0, max=159571), HTML(value='')))"
            ]
          },
          "metadata": {
            "tags": []
          }
        },
        {
          "output_type": "stream",
          "text": [
            "\n"
          ],
          "name": "stdout"
        },
        {
          "output_type": "display_data",
          "data": {
            "application/vnd.jupyter.widget-view+json": {
              "model_id": "9b2a96e6b41846bfbcd6b52aee714807",
              "version_minor": 0,
              "version_major": 2
            },
            "text/plain": [
              "HBox(children=(IntProgress(value=0, max=159571), HTML(value='')))"
            ]
          },
          "metadata": {
            "tags": []
          }
        },
        {
          "output_type": "stream",
          "text": [
            "\n",
            "{'Explanation': 23, 'Why': 4305, 'the': 445987, 'edits': 6809, 'made': 8738}\n"
          ],
          "name": "stdout"
        }
      ]
    },
    {
      "cell_type": "markdown",
      "metadata": {
        "id": "MwWkpWiDEmeW",
        "colab_type": "text"
      },
      "source": [
        "Next, define a function that checks the intersection between our vocabulary and the embeddings. It will output a list of out of vocabulary (oov) words that we can use to improve our preprocessing"
      ]
    },
    {
      "cell_type": "code",
      "metadata": {
        "id": "fkmAtr1ABSRe",
        "colab_type": "code",
        "colab": {}
      },
      "source": [
        "import operator \n",
        "\n",
        "def check_coverage(vocab,embeddings_index):\n",
        "    a = {}\n",
        "    oov = {}\n",
        "    k = 0\n",
        "    i = 0\n",
        "    for word in tqdm(vocab):\n",
        "        try:\n",
        "            a[word] = embeddings_index[word]\n",
        "            k += vocab[word]\n",
        "        except:\n",
        "\n",
        "            oov[word] = vocab[word]\n",
        "            i += vocab[word]\n",
        "            pass\n",
        "\n",
        "    print('Found embeddings for {:.2%} of vocab'.format(len(a) / len(vocab)))\n",
        "    print('Found embeddings for  {:.2%} of all text'.format(k / (k + i)))\n",
        "    sorted_x = sorted(oov.items(), key=operator.itemgetter(1))[::-1]\n",
        "\n",
        "    return sorted_x"
      ],
      "execution_count": 0,
      "outputs": []
    },
    {
      "cell_type": "code",
      "metadata": {
        "id": "wxsyxOlwBYc7",
        "colab_type": "code",
        "outputId": "f5959296-54fc-405b-928e-649daa8237b1",
        "colab": {
          "base_uri": "https://localhost:8080/",
          "height": 97,
          "referenced_widgets": [
            "39e15ceaf5454e408929c432294e7408",
            "ff2c5b52f51d4574af1fa1f27da2dab8",
            "a2bafff5df104905a2ef7e6b6464325d",
            "8c79b2c599964abab3c9448a1477e674",
            "e041d0c34241460796df91e141d12502",
            "011893ab36774b4ba97d3365a24453fe",
            "5bc695d1f09b441bb914bf6433cb132b",
            "a0974225e68c495f804db16d832532de"
          ]
        }
      },
      "source": [
        "oov = check_coverage(vocab,embeddings_index)"
      ],
      "execution_count": 34,
      "outputs": [
        {
          "output_type": "display_data",
          "data": {
            "application/vnd.jupyter.widget-view+json": {
              "model_id": "39e15ceaf5454e408929c432294e7408",
              "version_minor": 0,
              "version_major": 2
            },
            "text/plain": [
              "HBox(children=(IntProgress(value=0, max=532299), HTML(value='')))"
            ]
          },
          "metadata": {
            "tags": []
          }
        },
        {
          "output_type": "stream",
          "text": [
            "\n",
            "Found embeddings for 29.68% of vocab\n",
            "Found embeddings for  89.36% of all text\n"
          ],
          "name": "stdout"
        }
      ]
    },
    {
      "cell_type": "markdown",
      "metadata": {
        "id": "3Gs9ID8uE0eF",
        "colab_type": "text"
      },
      "source": [
        "Only 30% of our vocabulary will have embeddings, making 11% of our data more or less useless. So lets have a look and start improving. For this we can easily have a look at the top oov words."
      ]
    },
    {
      "cell_type": "code",
      "metadata": {
        "id": "omBFezuPB02D",
        "colab_type": "code",
        "outputId": "0183a4cf-c66d-4a49-c710-7fb892574f51",
        "colab": {
          "base_uri": "https://localhost:8080/",
          "height": 180
        }
      },
      "source": [
        "oov[:10]"
      ],
      "execution_count": 35,
      "outputs": [
        {
          "output_type": "execute_result",
          "data": {
            "text/plain": [
              "[('(UTC)', 5778),\n",
              " ('article,', 5556),\n",
              " ('page,', 5257),\n",
              " ('(talk)', 3217),\n",
              " ('Also,', 3061),\n",
              " ('Wikipedia,', 2607),\n",
              " (\"Wikipedia's\", 2464),\n",
              " ('so,', 1948),\n",
              " (\"wasn't\", 1914),\n",
              " (\"You're\", 1883)]"
            ]
          },
          "metadata": {
            "tags": []
          },
          "execution_count": 35
        }
      ]
    },
    {
      "cell_type": "markdown",
      "metadata": {
        "id": "WD0yvbagE_3v",
        "colab_type": "text"
      },
      "source": [
        "Well, we can see it's special characters which is messing up the coverage so, we need step-by-step preprocessing to increase the word coverage."
      ]
    },
    {
      "cell_type": "code",
      "metadata": {
        "id": "rRIKZixvhW1W",
        "colab_type": "code",
        "outputId": "3b48f368-7c2f-4e3c-a1cd-fdc994b4d55d",
        "colab": {
          "base_uri": "https://localhost:8080/",
          "height": 66
        }
      },
      "source": [
        "import nltk\n",
        "nltk.download('wordnet')"
      ],
      "execution_count": 36,
      "outputs": [
        {
          "output_type": "stream",
          "text": [
            "[nltk_data] Downloading package wordnet to /root/nltk_data...\n",
            "[nltk_data]   Unzipping corpora/wordnet.zip.\n"
          ],
          "name": "stdout"
        },
        {
          "output_type": "execute_result",
          "data": {
            "text/plain": [
              "True"
            ]
          },
          "metadata": {
            "tags": []
          },
          "execution_count": 36
        }
      ]
    },
    {
      "cell_type": "code",
      "metadata": {
        "id": "BqJUyD3Wtfer",
        "colab_type": "code",
        "outputId": "f694b43e-5f0b-45d7-ebfd-a34ab43c0fcf",
        "colab": {
          "base_uri": "https://localhost:8080/",
          "height": 86
        }
      },
      "source": [
        "nltk.download('stopwords')\n",
        "from nltk.corpus import stopwords\n",
        "\", \".join(stopwords.words('english'))"
      ],
      "execution_count": 37,
      "outputs": [
        {
          "output_type": "stream",
          "text": [
            "[nltk_data] Downloading package stopwords to /root/nltk_data...\n",
            "[nltk_data]   Unzipping corpora/stopwords.zip.\n"
          ],
          "name": "stdout"
        },
        {
          "output_type": "execute_result",
          "data": {
            "text/plain": [
              "\"i, me, my, myself, we, our, ours, ourselves, you, you're, you've, you'll, you'd, your, yours, yourself, yourselves, he, him, his, himself, she, she's, her, hers, herself, it, it's, its, itself, they, them, their, theirs, themselves, what, which, who, whom, this, that, that'll, these, those, am, is, are, was, were, be, been, being, have, has, had, having, do, does, did, doing, a, an, the, and, but, if, or, because, as, until, while, of, at, by, for, with, about, against, between, into, through, during, before, after, above, below, to, from, up, down, in, out, on, off, over, under, again, further, then, once, here, there, when, where, why, how, all, any, both, each, few, more, most, other, some, such, no, nor, not, only, own, same, so, than, too, very, s, t, can, will, just, don, don't, should, should've, now, d, ll, m, o, re, ve, y, ain, aren, aren't, couldn, couldn't, didn, didn't, doesn, doesn't, hadn, hadn't, hasn, hasn't, haven, haven't, isn, isn't, ma, mightn, mightn't, mustn, mustn't, needn, needn't, shan, shan't, shouldn, shouldn't, wasn, wasn't, weren, weren't, won, won't, wouldn, wouldn't\""
            ]
          },
          "metadata": {
            "tags": []
          },
          "execution_count": 37
        }
      ]
    },
    {
      "cell_type": "code",
      "metadata": {
        "id": "0aGLJy90nOOH",
        "colab_type": "code",
        "outputId": "e03a823c-34e9-4c31-db06-1ed293d88752",
        "colab": {
          "base_uri": "https://localhost:8080/",
          "height": 98
        }
      },
      "source": [
        "!pip install unidecode"
      ],
      "execution_count": 38,
      "outputs": [
        {
          "output_type": "stream",
          "text": [
            "Collecting unidecode\n",
            "\u001b[?25l  Downloading https://files.pythonhosted.org/packages/d0/42/d9edfed04228bacea2d824904cae367ee9efd05e6cce7ceaaedd0b0ad964/Unidecode-1.1.1-py2.py3-none-any.whl (238kB)\n",
            "\r\u001b[K     |█▍                              | 10kB 30.9MB/s eta 0:00:01\r\u001b[K     |██▊                             | 20kB 3.0MB/s eta 0:00:01\r\u001b[K     |████▏                           | 30kB 4.4MB/s eta 0:00:01\r\u001b[K     |█████▌                          | 40kB 2.8MB/s eta 0:00:01\r\u001b[K     |██████▉                         | 51kB 3.2MB/s eta 0:00:01\r\u001b[K     |████████▎                       | 61kB 3.9MB/s eta 0:00:01\r\u001b[K     |█████████▋                      | 71kB 4.2MB/s eta 0:00:01\r\u001b[K     |███████████                     | 81kB 3.8MB/s eta 0:00:01\r\u001b[K     |████████████▍                   | 92kB 4.2MB/s eta 0:00:01\r\u001b[K     |█████████████▊                  | 102kB 4.7MB/s eta 0:00:01\r\u001b[K     |███████████████▏                | 112kB 4.7MB/s eta 0:00:01\r\u001b[K     |████████████████▌               | 122kB 4.7MB/s eta 0:00:01\r\u001b[K     |█████████████████▉              | 133kB 4.7MB/s eta 0:00:01\r\u001b[K     |███████████████████▎            | 143kB 4.7MB/s eta 0:00:01\r\u001b[K     |████████████████████▋           | 153kB 4.7MB/s eta 0:00:01\r\u001b[K     |██████████████████████          | 163kB 4.7MB/s eta 0:00:01\r\u001b[K     |███████████████████████▍        | 174kB 4.7MB/s eta 0:00:01\r\u001b[K     |████████████████████████▊       | 184kB 4.7MB/s eta 0:00:01\r\u001b[K     |██████████████████████████▏     | 194kB 4.7MB/s eta 0:00:01\r\u001b[K     |███████████████████████████▌    | 204kB 4.7MB/s eta 0:00:01\r\u001b[K     |████████████████████████████▉   | 215kB 4.7MB/s eta 0:00:01\r\u001b[K     |██████████████████████████████▎ | 225kB 4.7MB/s eta 0:00:01\r\u001b[K     |███████████████████████████████▋| 235kB 4.7MB/s eta 0:00:01\r\u001b[K     |████████████████████████████████| 245kB 4.7MB/s \n",
            "\u001b[?25hInstalling collected packages: unidecode\n",
            "Successfully installed unidecode-1.1.1\n"
          ],
          "name": "stdout"
        }
      ]
    },
    {
      "cell_type": "markdown",
      "metadata": {
        "id": "T0zYv70EFQer",
        "colab_type": "text"
      },
      "source": [
        "### **Text Preprocessing for Natural Language Processing**\n",
        "\n",
        "In this section, we will perform text processing on the \"comment_text\" which is quentessential for any natural language processing task.\n",
        "\n",
        "The pre-processing tasks performed are:\n",
        "* Conversion of text to **Lower Case**\n",
        "* Cleaning of **special characters**\n",
        "* Masking of **long numbers**\n",
        "* Replacement of **wrongly-spelt words**\n",
        "* Removal of **emojis**\n",
        "\n",
        "\n",
        "\n",
        "\n",
        "> *In Natural Language Processing tasks while using pre-trained word embeddings it's **not necessary** to perform **stopword removal** or **stemming** or **lemmatizing**.So here, we will not perform any of them.* \n",
        "\n",
        ">*In computing, **stopwords** are words which are filtered out before or after processing of natural language data (text).Though \"stop words\" usually refers to the most common words in a language, there is no single universal list of stop words used by all natural language processing tools, and indeed not all tools even use such a list. Some tools specifically avoid removing these stop words to support phrase search.*\n",
        "\n",
        "\n",
        "\n",
        "> *In linguistic morphology and information retrieval, **stemming** is the process of reducing inflected (or sometimes derived) words to their word stem, base or root form—generally a written word form. The stem need not be identical to the morphological root of the word; it is usually sufficient that related words map to the same stem, even if this stem is not in itself a valid root.*\n",
        "\n"
      ]
    },
    {
      "cell_type": "code",
      "metadata": {
        "id": "drmG0Iuddpje",
        "colab_type": "code",
        "colab": {}
      },
      "source": [
        "# clean data\n",
        "import re\n",
        "import gc\n",
        "import nltk\n",
        "from nltk import word_tokenize\n",
        "from unidecode import unidecode\n",
        "\n",
        "special_character_removal = re.compile(r'[^A-Za-z\\.\\-\\?\\!\\,\\#\\@\\% ]',re.IGNORECASE)\n",
        "def clean_text(x):\n",
        "    x_ascii = unidecode(x)\n",
        "    x_clean = special_character_removal.sub(' ',x_ascii)\n",
        "    return x_clean\n",
        "\n",
        "replace_numbers=re.compile(r'\\d+',re.IGNORECASE)\n",
        "def clean_numbers(x):\n",
        "      return replace_numbers.sub(' ',x)\n",
        "\n",
        "def clean_tags(text):\n",
        "    text = re.sub(r\"https?:\\/\\/(www\\.)?[-a-zA-Z0-9@:%._\\+~#=]{2,256}\\.[a-z]{2,6}\\b([-a-zA-Z0-9@:%_\\+.~#?&//=]*)\", \"\", text)\n",
        "    text = re.sub(r\"(25[0-5]|2[0-4][0-9]|[01]?[0-9][0-9]?)(\\.(25[0-5]|2[0-4][0-9]|[01]?[0-9][0-9]?)){3}\", \"\", text)\n",
        "    return text\n",
        "\n",
        "mispell_dict = {\"ain't\": \"is not\", \"aren't\": \"are not\",\"can't\": \"cannot\", \"'cause\": \"because\", \"could've\": \"could have\", \"couldn't\": \"could not\", \"didn't\": \"did not\",  \"doesn't\": \"does not\", \"don't\": \"do not\", \"hadn't\": \"had not\", \"hasn't\": \"has not\", \"haven't\": \"have not\", \"he'd\": \"he would\",\"he'll\": \"he will\", \"he's\": \"he is\", \"how'd\": \"how did\", \"how'd'y\": \"how do you\", \"how'll\": \"how will\", \"how's\": \"how is\",  \"I'd\": \"I would\", \"I'd've\": \"I would have\", \"I'll\": \"I will\", \"I'll've\": \"I will have\",\"I'm\": \"I am\", \"I've\": \"I have\", \"i'd\": \"i would\", \"i'd've\": \"i would have\", \"i'll\": \"i will\",  \"i'll've\": \"i will have\",\"i'm\": \"i am\", \"i've\": \"i have\", \"isn't\": \"is not\", \"it'd\": \"it would\", \"it'd've\": \"it would have\", \"it'll\": \"it will\", \"it'll've\": \"it will have\",\"it's\": \"it is\", \"let's\": \"let us\", \"ma'am\": \"madam\", \"mayn't\": \"may not\", \"might've\": \"might have\",\"mightn't\": \"might not\",\"mightn't've\": \"might not have\", \"must've\": \"must have\", \"mustn't\": \"must not\", \"mustn't've\": \"must not have\", \"needn't\": \"need not\", \"needn't've\": \"need not have\",\"o'clock\": \"of the clock\", \"oughtn't\": \"ought not\", \"oughtn't've\": \"ought not have\", \"shan't\": \"shall not\", \"sha'n't\": \"shall not\", \"shan't've\": \"shall not have\", \"she'd\": \"she would\", \"she'd've\": \"she would have\", \"she'll\": \"she will\", \"she'll've\": \"she will have\", \"she's\": \"she is\", \"should've\": \"should have\", \"shouldn't\": \"should not\", \"shouldn't've\": \"should not have\", \"so've\": \"so have\",\"so's\": \"so as\", \"this's\": \"this is\",\"that'd\": \"that would\", \"that'd've\": \"that would have\", \"that's\": \"that is\", \"there'd\": \"there would\", \"there'd've\": \"there would have\", \"there's\": \"there is\", \"here's\": \"here is\",\"they'd\": \"they would\", \"they'd've\": \"they would have\", \"they'll\": \"they will\", \"they'll've\": \"they will have\", \"they're\": \"they are\", \"they've\": \"they have\", \"to've\": \"to have\", \"wasn't\": \"was not\", \"we'd\": \"we would\", \"we'd've\": \"we would have\", \"we'll\": \"we will\", \"we'll've\": \"we will have\", \"we're\": \"we are\", \"we've\": \"we have\", \"weren't\": \"were not\", \"what'll\": \"what will\", \"what'll've\": \"what will have\", \"what're\": \"what are\",  \"what's\": \"what is\", \"what've\": \"what have\", \"when's\": \"when is\", \"when've\": \"when have\", \"where'd\": \"where did\", \"where's\": \"where is\", \"where've\": \"where have\", \"who'll\": \"who will\", \"who'll've\": \"who will have\", \"who's\": \"who is\", \"who've\": \"who have\", \"why's\": \"why is\", \"why've\": \"why have\", \"will've\": \"will have\", \"won't\": \"will not\", \"won't've\": \"will not have\", \"would've\": \"would have\", \"wouldn't\": \"would not\", \"wouldn't've\": \"would not have\", \"y'all\": \"you all\", \"y'all'd\": \"you all would\",\"y'all'd've\": \"you all would have\",\"y'all're\": \"you all are\",\"y'all've\": \"you all have\",\"you'd\": \"you would\", \"you'd've\": \"you would have\", \"you'll\": \"you will\", \"you'll've\": \"you will have\", \"you're\": \"you are\", \"you've\": \"you have\", 'colour': 'color', 'centre': 'center', 'favourite': 'favorite', 'travelling': 'traveling', 'counselling': 'counseling', 'theatre': 'theater', 'cancelled': 'canceled', 'labour': 'labor', 'organisation': 'organization', 'wwii': 'world war 2', 'citicise': 'criticize', 'youtu ': 'youtube ', 'Qoura': 'Quora', 'sallary': 'salary', 'Whta': 'What', 'narcisist': 'narcissist', 'howdo': 'how do', 'whatare': 'what are', 'howcan': 'how can', 'howmuch': 'how much', 'howmany': 'how many', 'whydo': 'why do', 'doI': 'do I', 'theBest': 'the best', 'howdoes': 'how does', 'mastrubation': 'masturbation', 'mastrubate': 'masturbate', \"mastrubating\": 'masturbating', 'pennis': 'penis', 'Etherium': 'Ethereum', 'narcissit': 'narcissist', 'bigdata': 'big data', '2k17': '2017', '2k18': '2018', 'qouta': 'quota', 'exboyfriend': 'ex boyfriend', 'airhostess': 'air hostess', \"whst\": 'what', 'watsapp': 'whatsapp', 'demonitisation': 'demonetization', 'demonitization': 'demonetization', 'demonetisation': 'demonetization'}\n",
        "\n",
        "def _get_mispell(mispell_dict):\n",
        "    mispell_re = re.compile('(%s)' % '|'.join(mispell_dict.keys()))\n",
        "    return mispell_dict, mispell_re\n",
        "\n",
        "mispellings, mispellings_re = _get_mispell(mispell_dict)\n",
        "def replace_typical_misspell(text):\n",
        "    def replace(match):\n",
        "        return mispellings[match.group(0)]\n",
        "    return mispellings_re.sub(replace, text)\n",
        "\n",
        "def remove_emoji(x):\n",
        "    emoji_pattern = re.compile(\"[\"\n",
        "                           u\"\\U0001F600-\\U0001F64F\"  # emoticons\n",
        "                           u\"\\U0001F300-\\U0001F5FF\"  # symbols & pictographs\n",
        "                           u\"\\U0001F680-\\U0001F6FF\"  # transport & map symbols\n",
        "                           u\"\\U0001F1E0-\\U0001F1FF\"  # flags (iOS)\n",
        "                           u\"\\U00002702-\\U000027B0\"\n",
        "                           u\"\\U000024C2-\\U0001F251\"\n",
        "                           \"]+\", flags=re.UNICODE)\n",
        "    return emoji_pattern.sub(r'', x)\n",
        "\n",
        "def clean_punctuations(text):\n",
        "    text = re.sub(r\",\", \" \", text)\n",
        "    text = re.sub(r\"\\.\", \" \", text)\n",
        "    text = re.sub(r\"!\", \" ! \", text)\n",
        "    text = re.sub(r\"\\/\", \" \", text)\n",
        "    text = re.sub(r\"\\?\", \" ? \", text)\n",
        "    text = re.sub(r\"\\!\", \" ! \", text)\n",
        "    text = re.sub(r\"\\\"\", \" \", text)\n",
        "    text = re.sub(r\"\\^\", \" ^ \", text)\n",
        "    text = re.sub(r\"\\+\", \" + \", text)\n",
        "    text = re.sub(r\"\\-\", \" - \", text)\n",
        "    text = re.sub(r\"\\=\", \" = \", text)\n",
        "    text = re.sub(r\"'\", \" \", text)\n",
        "    text = re.sub(r\"\\--\", \" - \", text)\n",
        "    text = re.sub(r\"(\\d+)(k)\", r\"\\g<1>000\", text)\n",
        "    text = re.sub(r\":\", \" : \", text)\n",
        "    text = re.sub(r\" e g \", \" eg \", text)\n",
        "    text = re.sub(r\" b g \", \" bg \", text)\n",
        "    text = re.sub(r\" u s \", \" american \", text)\n",
        "    text = re.sub(r\"\\0s\", \"0\", text)\n",
        "    text = re.sub(r\" 9 11 \", \"911\", text)\n",
        "    text = re.sub(r\"e - mail\", \"email\", text)\n",
        "    text = re.sub(r\"j k\", \"jk\", text)\n",
        "    text = re.sub(r\"\\s{2,}\", \" \", text)\n",
        "    return text\n",
        "\n",
        "def clean_html(text):\n",
        "    # Drop the image\n",
        "    text = re.sub(r\"image:[a-zA-Z0-9]*\\.jpg\", \" \", text)\n",
        "    text = re.sub(r\"image:[a-zA-Z0-9]*\\.png\", \" \", text)\n",
        "    text = re.sub(r\"image:[a-zA-Z0-9]*\\.gif\", \" \", text)\n",
        "    text = re.sub(r\"image:[a-zA-Z0-9]*\\.bmp\", \" \", text)\n",
        "\n",
        "    # Drop css\n",
        "    text = re.sub(r\"#([A-Fa-f0-9]{6}|[A-Fa-f0-9]{3})\", \" \",text)\n",
        "    text = re.sub(r\"\\{\\|[^\\}]*\\|\\}\", \" \", text)\n",
        "        \n",
        "    # Clean templates\n",
        "    text = re.sub(r\"\\[?\\[user:.*\\]\", \" \", text)\n",
        "    text = re.sub(r\"\\[?\\[user:.*\\|\", \" \", text)        \n",
        "    text = re.sub(r\"\\[?\\[wikipedia:.*\\]\", \" \", text)\n",
        "    text = re.sub(r\"\\[?\\[wikipedia:.*\\|\", \" \", text)\n",
        "    text = re.sub(r\"\\[?\\[special:.*\\]\", \" \", text)\n",
        "    text = re.sub(r\"\\[?\\[special:.*\\|\", \" \", text)\n",
        "    text = re.sub(r\"\\[?\\[category:.*\\]\", \" \", text)\n",
        "    text = re.sub(r\"\\[?\\[category:.*\\|\", \" \", text)\n",
        "    return text\n",
        "\n",
        "stopwords_list = set(stopwords.words('english'))\n",
        "\n",
        "def remove_stopwords(text):\n",
        "    return \" \".join([word for word in str(text).split() if word not in stopwords_list])\n",
        "\n",
        "def stem_text(text):    \n",
        "    lemma = nltk.wordnet.WordNetLemmatizer()\n",
        "    class FasterStemmer(object):\n",
        "        def __init__(self):\n",
        "            self.words = {}\n",
        "\n",
        "        def stem(self, x):\n",
        "            if x in self.words:\n",
        "                return self.words[x]\n",
        "            t = lemma.lemmatize(x)\n",
        "            self.words[x] = t\n",
        "            return t\n",
        "    faster_stemmer = FasterStemmer()\n",
        "    text = text.split()\n",
        "    stemmed_words = [faster_stemmer.stem(word) for word in text]\n",
        "    text = \" \".join(stemmed_words)\n",
        "    del faster_stemmer\n",
        "    gc.collect\n",
        "    return text"
      ],
      "execution_count": 0,
      "outputs": []
    },
    {
      "cell_type": "markdown",
      "metadata": {
        "id": "MunxIeKBJS1B",
        "colab_type": "text"
      },
      "source": [
        "Here, we apply the functions for text processing."
      ]
    },
    {
      "cell_type": "code",
      "metadata": {
        "id": "IlAa4hSpeIrX",
        "colab_type": "code",
        "outputId": "152c0aba-5851-4842-aca6-264b5a7fd28d",
        "colab": {
          "base_uri": "https://localhost:8080/",
          "height": 983,
          "referenced_widgets": [
            "1fa1bacc8eee404483012890420890c5",
            "342bb837a98449179ebbcee6f5c7954a",
            "1cc6df6441254d418a5a567ec063f452",
            "caad62be72014944b8275d8665944e10",
            "ff38ed2fafcf4b948682c20c97d5caa2",
            "5e74ff6f041e46e3b5635529ef72e591",
            "06de2036bac74019ac224e216b93f122",
            "77cf09d016f74e78aac6683377eb520a",
            "009507368bc3451c9273c2f3150ac375",
            "10eb84a93d5c4410bf82b66c16e0c693",
            "060cabc5a7194e258b32f1f4b8eb32f2",
            "530eccd7c7c64910a9728b2a7a881f3b",
            "861e46a0c9d24df08593b0197f43b764",
            "fb808f09a693405eac59a1f38a913f5b",
            "b10302e62ebd4de9a9418a58da2afe03",
            "e4ef7ef69d5c4c9589f7dbb1e25e3d47",
            "b033970555a24b42ad170b7bc69e9307",
            "27a25adaa1ff42869e54e8834ce8ba3d",
            "1be5ba40498e444aa53088035ec9ebd8",
            "1bda4d52ee384e40840d03661702373c",
            "90ddafaf41c744dbb9e13bf6f79fa478",
            "b2fd3105b5d841d1839ccdb93e704d33",
            "d79c944538e740c4acf9dd17b0517ad7",
            "6971d29707944b67afb5bf6a478c120c",
            "10ef9cd29c944172ac327adcc04c1857",
            "f54a4a8d50c94ca19cabc77d49a2395f",
            "12eb401d7dfd421695344611ab3e071d",
            "9512752cb5cf4c68bbf4c4af1746287e",
            "f9b38290f2284baaadcacb7e7629221a",
            "5cc1e598e60340808bb8c127685ac114",
            "4d9126e626234b018d4f728b2b66830b",
            "8998610db19747c9b15f5836b0ffb3ad",
            "45d487e0ad4446d8843563a4c7531382",
            "d1d5f8f7aacd4db59b9901e0aebd049a",
            "600b375dae494019916ce0c89c1a551e",
            "7a6d90baff7d4baaa8d18d583227b59e",
            "78d335a47b434c69b5af37806a0d2d6c",
            "57f5c5d0b88c4b17862014379e0b0201",
            "199002ed92ff4aceaa7316902e346bd3",
            "baef7731dc2c47e89417bc7bed0817cc",
            "9f64c34f84ff459cb5c628322e2643d9",
            "3fffb38ad1e34f7dbfb930fa5b549410",
            "7771860783724914848a1a819e97880e",
            "091cf8359be34b95b3925146c07bcffb",
            "558cc22173634d2aa68b3d61b8990070",
            "e6ae88e97252420bbc1d5c6b3bcdc76f",
            "375ae16bd42b4df5b6f2224f02e0d3ea",
            "f8b7c399e2a44c61bfa892edd38c9e30",
            "cb846106995e44a784f89220c89269c8",
            "7c1294990df04aa5ba65df7b55219014",
            "1aec425f65c44e7cbfb8fb3ed1a9c684",
            "d785e2dc2b504519b1f5d7107527838e",
            "685776abdca64f9fbba83e2715c97ca4",
            "a17c90e1fd9c4b40969e700cae779a8f",
            "a665d084f41c4c4992193e54ab4ae5de",
            "4cb3f4961b284b169cceb2a15b79411a",
            "3b1033f73cf8419ba100ada52c169ee6",
            "1252b94a2c784389839879ef07af1aef",
            "995ff51349d2442bb6ed470d25efe05d",
            "20923c227d5341ecad96b98236bb6fa6",
            "a3cdacdfe151431db32a9418801b84b8",
            "53726e63c2794deeb0256aca316f09ea",
            "6243f07e68a14251afb99aa0a8b44192",
            "3cbb3de421664a39977119ed41bcda24",
            "1489736d5a9c41358d08225d6e958fce",
            "dab07e9d44d64ce0ae628ae954c60166",
            "dbb9b87ffa2644bd8082209a4eec37f7",
            "fe79c8af4f22492896cdcba73bbbd451",
            "34e7bc5132aa41cd8ddf68284d3133e5",
            "23a51335dd67404d99a7345a57246ee9",
            "85c7972e9939411fb95ce080d37d0958",
            "d3f630a826f24ccdbb9affb1cf3ac9bc",
            "262429c7f1544b858609e9c1b0ab20f6",
            "94e22d68970f4d8da8260cf4c9b8f1b7",
            "00826dcbe7fe4649ac1053d0b883ab73",
            "1c9267494ab241cd9cacccae5406c495",
            "e0d3f5c68c3444169c0bc1d7192afb60",
            "1aa874141ff84ca2857a07e8b19a366b",
            "20fc1daab1ba44aeb1704e06aeaab9ef",
            "23a2f51a929640eab74f9af32554e271",
            "75758a770a684f4580d32555015e08b4",
            "a866dc60f1d546d68f71d4d88ceb1cf1",
            "b1d213a3901b4beebd376a6fc5cdbd25",
            "020ffd2be7d84a26ae78372e4229946d",
            "b7f5f55dcceb45bd94d8aca5e1cdddd2",
            "a9a7908acd5f4c7e96a86f3af59558fc",
            "117ddff397264cbeb3fabe1d3a6684b6",
            "867f0a45d5d74dcbbebdd916404b0539",
            "0827dfc8a65e4aa499f253fae5a72625",
            "a68561ccac894543b207dc05c19369cf",
            "f851bdda2c3c4ffd9b62eb27ee88d21a",
            "b7350276c2594b2bbdf1b242e2d3e6be",
            "c2c4d3eafe714fadb87097bb408f4c08",
            "9360f694a25c4f93b6f52ceaaccb6b86",
            "701316f71183461c958c5520ca2a2683",
            "77a8fe5d0b434c91acb1c04d0a9a6229",
            "1ba85885dbe643ec8bc7603ad2bbdd36",
            "b627a874915a443eb6b9763a88e87c74",
            "99994e2d20794522ad1152b065f2e64a",
            "c0b8e753bd844e7c99b8d64e31707bb4",
            "714abc70d5ee437e924c632b7b2f5ad8",
            "71061d7f5384483f9ab3dea14080e78b",
            "1d07c8864a434262831ccaeed6f60676",
            "4b50b6bb317741b297423e69cc762119",
            "c6ae4feb75bd43768420212980374d18",
            "dc66035232ae457996eca5fb3616934e",
            "197fd545dbb64a93bd13935283c92d7d",
            "49ed5918af30451caeba22496f9a4a58",
            "93fa6b4915054867afd39dc786156142",
            "60f4d44a3420446fa88abd26db4e7ebc",
            "9c80f1889fd140dd82a45d7253fafe97",
            "852118bc00ee4c43a9f176836596631d",
            "59aef70172a6439f81366c8b667b7f3a",
            "03ed8337b38a49c18c1a3814d8598567",
            "f03e9daf59d74329bc1bb2f5ccdce4ed",
            "996a19632c894e429f3d952ab2d5305d",
            "c5fd499610f2455fab35ddc50eea23cb",
            "84363cfd1d95430ca2944c5323272ba7",
            "ba391fb6987544d9983cb2521008db10",
            "ef3c6b140d424ca3a3a39dc84e66100b",
            "9d1747b63b6848db90e995b62b3c770b",
            "1ae97cf735fc44a489829789eb8b83ef",
            "fe187f1b31af456e99069f73fb41f6dc",
            "7ed15261759e4c70acc6959ce7146977",
            "3f30b87bac64439eaf09a2becc05146e",
            "c55015aea1894d51ba244c75b35868bf",
            "4cd67a0401fa40aab3ab778e5e4c84be",
            "84dd63162b6b4def8bdceceb2aaadb16"
          ]
        }
      },
      "source": [
        "# lower\n",
        "train[\"comment_text\"] = train[\"comment_text\"].progress_apply(lambda x: x.lower())\n",
        "test[\"comment_text\"] = test[\"comment_text\"].progress_apply(lambda x: x.lower())\n",
        "\n",
        "# Clean website tags\n",
        "train[\"comment_text\"] = train[\"comment_text\"].progress_apply(lambda x: clean_tags(x))\n",
        "test[\"comment_text\"] = test[\"comment_text\"].progress_apply(lambda x: clean_tags(x))\n",
        "\n",
        "# Clean spellings\n",
        "train[\"comment_text\"] = train[\"comment_text\"].progress_apply(lambda x: replace_typical_misspell(x))\n",
        "test[\"comment_text\"] = test[\"comment_text\"].progress_apply(lambda x: replace_typical_misspell(x))\n",
        "\n",
        "# Clean html and css\n",
        "train[\"comment_text\"] = train[\"comment_text\"].progress_apply(lambda x: clean_html(x))\n",
        "test[\"comment_text\"] = test[\"comment_text\"].progress_apply(lambda x: clean_html(x))\n",
        "\n",
        "\n",
        "# Remove Emojis\n",
        "train[\"comment_text\"] = train[\"comment_text\"].progress_apply(lambda x: remove_emoji(x))\n",
        "test[\"comment_text\"] = test[\"comment_text\"].progress_apply(lambda x: remove_emoji(x))\n",
        "\n",
        "# Clean numbers\n",
        "train[\"comment_text\"] = train[\"comment_text\"].progress_apply(lambda x: clean_numbers(x))\n",
        "test[\"comment_text\"] = test[\"comment_text\"].progress_apply(lambda x: clean_numbers(x))\n",
        "\n",
        "# Remove special characters\n",
        "train[\"comment_text\"] = train[\"comment_text\"].progress_apply(lambda x: clean_text(str(x)))\n",
        "test[\"comment_text\"] = test[\"comment_text\"].progress_apply(lambda x: clean_text(str(x)))\n",
        "\n",
        "# Clean punctuations\n",
        "train[\"comment_text\"] = train[\"comment_text\"].progress_apply(lambda x: clean_punctuations(x))\n",
        "test[\"comment_text\"] = test[\"comment_text\"].progress_apply(lambda x: clean_punctuations(x))\n",
        "\n",
        "# Remove stopwords\n",
        "#train[\"comment_text_x\"] = train[\"comment_text\"].progress_apply(lambda text: remove_stopwords(text))\n",
        "#test[\"comment_text_x\"] = test[\"comment_text\"].progress_apply(lambda text: remove_stopwords(text))\n",
        "\n",
        "#Stemmming  \n",
        "#train[\"comment_text\"] = train[\"comment_text\"].progress_apply(lambda x: stem_text(x))\n",
        "#test[\"comment_text\"] = test[\"comment_text\"].progress_apply(lambda x: stem_text(x))\n",
        "\n",
        "#fill na\n",
        "train[\"comment_text\"].fillna(\"fillna\")\n",
        "test[\"comment_text\"].fillna(\"fillna\")\n"
      ],
      "execution_count": 40,
      "outputs": [
        {
          "output_type": "display_data",
          "data": {
            "application/vnd.jupyter.widget-view+json": {
              "model_id": "1fa1bacc8eee404483012890420890c5",
              "version_minor": 0,
              "version_major": 2
            },
            "text/plain": [
              "HBox(children=(IntProgress(value=0, max=159571), HTML(value='')))"
            ]
          },
          "metadata": {
            "tags": []
          }
        },
        {
          "output_type": "stream",
          "text": [
            "\n"
          ],
          "name": "stdout"
        },
        {
          "output_type": "display_data",
          "data": {
            "application/vnd.jupyter.widget-view+json": {
              "model_id": "009507368bc3451c9273c2f3150ac375",
              "version_minor": 0,
              "version_major": 2
            },
            "text/plain": [
              "HBox(children=(IntProgress(value=0, max=153164), HTML(value='')))"
            ]
          },
          "metadata": {
            "tags": []
          }
        },
        {
          "output_type": "stream",
          "text": [
            "\n"
          ],
          "name": "stdout"
        },
        {
          "output_type": "display_data",
          "data": {
            "application/vnd.jupyter.widget-view+json": {
              "model_id": "b033970555a24b42ad170b7bc69e9307",
              "version_minor": 0,
              "version_major": 2
            },
            "text/plain": [
              "HBox(children=(IntProgress(value=0, max=159571), HTML(value='')))"
            ]
          },
          "metadata": {
            "tags": []
          }
        },
        {
          "output_type": "stream",
          "text": [
            "\n"
          ],
          "name": "stdout"
        },
        {
          "output_type": "display_data",
          "data": {
            "application/vnd.jupyter.widget-view+json": {
              "model_id": "10ef9cd29c944172ac327adcc04c1857",
              "version_minor": 0,
              "version_major": 2
            },
            "text/plain": [
              "HBox(children=(IntProgress(value=0, max=153164), HTML(value='')))"
            ]
          },
          "metadata": {
            "tags": []
          }
        },
        {
          "output_type": "stream",
          "text": [
            "\n"
          ],
          "name": "stdout"
        },
        {
          "output_type": "display_data",
          "data": {
            "application/vnd.jupyter.widget-view+json": {
              "model_id": "45d487e0ad4446d8843563a4c7531382",
              "version_minor": 0,
              "version_major": 2
            },
            "text/plain": [
              "HBox(children=(IntProgress(value=0, max=159571), HTML(value='')))"
            ]
          },
          "metadata": {
            "tags": []
          }
        },
        {
          "output_type": "stream",
          "text": [
            "\n"
          ],
          "name": "stdout"
        },
        {
          "output_type": "display_data",
          "data": {
            "application/vnd.jupyter.widget-view+json": {
              "model_id": "9f64c34f84ff459cb5c628322e2643d9",
              "version_minor": 0,
              "version_major": 2
            },
            "text/plain": [
              "HBox(children=(IntProgress(value=0, max=153164), HTML(value='')))"
            ]
          },
          "metadata": {
            "tags": []
          }
        },
        {
          "output_type": "stream",
          "text": [
            "\n"
          ],
          "name": "stdout"
        },
        {
          "output_type": "display_data",
          "data": {
            "application/vnd.jupyter.widget-view+json": {
              "model_id": "cb846106995e44a784f89220c89269c8",
              "version_minor": 0,
              "version_major": 2
            },
            "text/plain": [
              "HBox(children=(IntProgress(value=0, max=159571), HTML(value='')))"
            ]
          },
          "metadata": {
            "tags": []
          }
        },
        {
          "output_type": "stream",
          "text": [
            "\n"
          ],
          "name": "stdout"
        },
        {
          "output_type": "display_data",
          "data": {
            "application/vnd.jupyter.widget-view+json": {
              "model_id": "3b1033f73cf8419ba100ada52c169ee6",
              "version_minor": 0,
              "version_major": 2
            },
            "text/plain": [
              "HBox(children=(IntProgress(value=0, max=153164), HTML(value='')))"
            ]
          },
          "metadata": {
            "tags": []
          }
        },
        {
          "output_type": "stream",
          "text": [
            "\n"
          ],
          "name": "stdout"
        },
        {
          "output_type": "display_data",
          "data": {
            "application/vnd.jupyter.widget-view+json": {
              "model_id": "1489736d5a9c41358d08225d6e958fce",
              "version_minor": 0,
              "version_major": 2
            },
            "text/plain": [
              "HBox(children=(IntProgress(value=0, max=159571), HTML(value='')))"
            ]
          },
          "metadata": {
            "tags": []
          }
        },
        {
          "output_type": "stream",
          "text": [
            "\n"
          ],
          "name": "stdout"
        },
        {
          "output_type": "display_data",
          "data": {
            "application/vnd.jupyter.widget-view+json": {
              "model_id": "262429c7f1544b858609e9c1b0ab20f6",
              "version_minor": 0,
              "version_major": 2
            },
            "text/plain": [
              "HBox(children=(IntProgress(value=0, max=153164), HTML(value='')))"
            ]
          },
          "metadata": {
            "tags": []
          }
        },
        {
          "output_type": "stream",
          "text": [
            "\n"
          ],
          "name": "stdout"
        },
        {
          "output_type": "display_data",
          "data": {
            "application/vnd.jupyter.widget-view+json": {
              "model_id": "75758a770a684f4580d32555015e08b4",
              "version_minor": 0,
              "version_major": 2
            },
            "text/plain": [
              "HBox(children=(IntProgress(value=0, max=159571), HTML(value='')))"
            ]
          },
          "metadata": {
            "tags": []
          }
        },
        {
          "output_type": "stream",
          "text": [
            "\n"
          ],
          "name": "stdout"
        },
        {
          "output_type": "display_data",
          "data": {
            "application/vnd.jupyter.widget-view+json": {
              "model_id": "0827dfc8a65e4aa499f253fae5a72625",
              "version_minor": 0,
              "version_major": 2
            },
            "text/plain": [
              "HBox(children=(IntProgress(value=0, max=153164), HTML(value='')))"
            ]
          },
          "metadata": {
            "tags": []
          }
        },
        {
          "output_type": "stream",
          "text": [
            "\n"
          ],
          "name": "stdout"
        },
        {
          "output_type": "display_data",
          "data": {
            "application/vnd.jupyter.widget-view+json": {
              "model_id": "1ba85885dbe643ec8bc7603ad2bbdd36",
              "version_minor": 0,
              "version_major": 2
            },
            "text/plain": [
              "HBox(children=(IntProgress(value=0, max=159571), HTML(value='')))"
            ]
          },
          "metadata": {
            "tags": []
          }
        },
        {
          "output_type": "stream",
          "text": [
            "\n"
          ],
          "name": "stdout"
        },
        {
          "output_type": "display_data",
          "data": {
            "application/vnd.jupyter.widget-view+json": {
              "model_id": "c6ae4feb75bd43768420212980374d18",
              "version_minor": 0,
              "version_major": 2
            },
            "text/plain": [
              "HBox(children=(IntProgress(value=0, max=153164), HTML(value='')))"
            ]
          },
          "metadata": {
            "tags": []
          }
        },
        {
          "output_type": "stream",
          "text": [
            "\n"
          ],
          "name": "stdout"
        },
        {
          "output_type": "display_data",
          "data": {
            "application/vnd.jupyter.widget-view+json": {
              "model_id": "59aef70172a6439f81366c8b667b7f3a",
              "version_minor": 0,
              "version_major": 2
            },
            "text/plain": [
              "HBox(children=(IntProgress(value=0, max=159571), HTML(value='')))"
            ]
          },
          "metadata": {
            "tags": []
          }
        },
        {
          "output_type": "stream",
          "text": [
            "\n"
          ],
          "name": "stdout"
        },
        {
          "output_type": "display_data",
          "data": {
            "application/vnd.jupyter.widget-view+json": {
              "model_id": "9d1747b63b6848db90e995b62b3c770b",
              "version_minor": 0,
              "version_major": 2
            },
            "text/plain": [
              "HBox(children=(IntProgress(value=0, max=153164), HTML(value='')))"
            ]
          },
          "metadata": {
            "tags": []
          }
        },
        {
          "output_type": "stream",
          "text": [
            "\n"
          ],
          "name": "stdout"
        },
        {
          "output_type": "execute_result",
          "data": {
            "text/plain": [
              "0         yo bitch ja rule is more succesful then you wi...\n",
              "1                  from rfc the title is fine as it is imo \n",
              "2                       sources zawe ashton on lapland - - \n",
              "3          if you have a look back at the source the inf...\n",
              "4                i do not anonymously edit articles at all \n",
              "                                ...                        \n",
              "153159     i totally agree this stuff is nothing but too...\n",
              "153160     throw from out field to home plate does it ge...\n",
              "153161     okinotorishima categories i see your changes ...\n",
              "153162     one of the founding nations of the eu - germa...\n",
              "153163     stop already your bullshit is not welcome her...\n",
              "Name: comment_text, Length: 153164, dtype: object"
            ]
          },
          "metadata": {
            "tags": []
          },
          "execution_count": 40
        }
      ]
    },
    {
      "cell_type": "markdown",
      "metadata": {
        "id": "hdDIclOTJaAO",
        "colab_type": "text"
      },
      "source": [
        "From, the above example we can see the text is now cleaned. Now we will test for coverage."
      ]
    },
    {
      "cell_type": "code",
      "metadata": {
        "id": "0T11rS0kEre9",
        "colab_type": "code",
        "outputId": "e2c62836-c51c-4094-99c1-4fbb776e57be",
        "colab": {
          "base_uri": "https://localhost:8080/",
          "height": 113,
          "referenced_widgets": [
            "80eefdd03422450e9d30657ba8f8260f",
            "d936f04d6bb14e7cbc12ef232cffeecb",
            "e65b7f57bd3a42feb7b210d55472669b",
            "45e12237a8634689acee5c694aa6c6f0",
            "386024bf518f424eb6bfdc70fc332ef5",
            "7e97949a014c4bb3a27b892e75e4b621",
            "be9fc58db9ba4d28b6e50d7803d7d045",
            "c4dc03357f9e485f9ba11f6a0948d246",
            "30f1c4e51fae4a38a27a473ea7f5e64e",
            "675ad7ebd77e4cc58e5d492df267064f",
            "093735f57fce441a93800f6de465adad",
            "c812e97852754a41a4c1e0594c444450",
            "2e3eb3a731a44ea29fe353b7f3c081b2",
            "3a0df0187f1c4feea76758242e31a9b2",
            "364317cc2b554e5080e19fa38bd34050",
            "2fc126ae28b64aec9420060b705b2664"
          ]
        }
      },
      "source": [
        "sentences = train[\"comment_text\"].progress_apply(lambda x: x.split())\n",
        "vocab = build_vocab(sentences)"
      ],
      "execution_count": 41,
      "outputs": [
        {
          "output_type": "display_data",
          "data": {
            "application/vnd.jupyter.widget-view+json": {
              "model_id": "80eefdd03422450e9d30657ba8f8260f",
              "version_minor": 0,
              "version_major": 2
            },
            "text/plain": [
              "HBox(children=(IntProgress(value=0, max=159571), HTML(value='')))"
            ]
          },
          "metadata": {
            "tags": []
          }
        },
        {
          "output_type": "stream",
          "text": [
            "\n"
          ],
          "name": "stdout"
        },
        {
          "output_type": "display_data",
          "data": {
            "application/vnd.jupyter.widget-view+json": {
              "model_id": "30f1c4e51fae4a38a27a473ea7f5e64e",
              "version_minor": 0,
              "version_major": 2
            },
            "text/plain": [
              "HBox(children=(IntProgress(value=0, max=159571), HTML(value='')))"
            ]
          },
          "metadata": {
            "tags": []
          }
        },
        {
          "output_type": "stream",
          "text": [
            "\n"
          ],
          "name": "stdout"
        }
      ]
    },
    {
      "cell_type": "code",
      "metadata": {
        "id": "_4nyNIruB6yw",
        "colab_type": "code",
        "outputId": "c1b3ab93-7d7e-4a0c-8961-da86eef10979",
        "colab": {
          "base_uri": "https://localhost:8080/",
          "height": 97,
          "referenced_widgets": [
            "40e7d4595c364d7ead0010a3e3c35efb",
            "a87e8ebe4be84e1bb64a77abf4483c2f",
            "4ea2ae326f8a41d4ac055f2ffd0c8647",
            "73f3e9a8def14fae9b45baa3f9f651fc",
            "d9ca506908df4dc5ba112a337ade6a0b",
            "24182874ab2543e79802f60af6e99fbc",
            "f3bef34dfebf4cc2be6050226b093aa4",
            "2b9c583f099e41009190f8ba49e6f250"
          ]
        }
      },
      "source": [
        "oov = check_coverage(vocab,embeddings_index)"
      ],
      "execution_count": 42,
      "outputs": [
        {
          "output_type": "display_data",
          "data": {
            "application/vnd.jupyter.widget-view+json": {
              "model_id": "40e7d4595c364d7ead0010a3e3c35efb",
              "version_minor": 0,
              "version_major": 2
            },
            "text/plain": [
              "HBox(children=(IntProgress(value=0, max=167393), HTML(value='')))"
            ]
          },
          "metadata": {
            "tags": []
          }
        },
        {
          "output_type": "stream",
          "text": [
            "\n",
            "Found embeddings for 57.29% of vocab\n",
            "Found embeddings for  98.64% of all text\n"
          ],
          "name": "stdout"
        }
      ]
    },
    {
      "cell_type": "markdown",
      "metadata": {
        "id": "z9qvteDjJj0D",
        "colab_type": "text"
      },
      "source": [
        "Nice! We were able to increase our **embeddings ratio** from 30% to **57%**. The coverage for overall text increased to **99%**."
      ]
    },
    {
      "cell_type": "code",
      "metadata": {
        "id": "rno28Lh-B7px",
        "colab_type": "code",
        "outputId": "f5e86644-2dcc-43ac-e13e-14c88f00d2f3",
        "colab": {
          "base_uri": "https://localhost:8080/",
          "height": 342
        }
      },
      "source": [
        "oov[:20]"
      ],
      "execution_count": 43,
      "outputs": [
        {
          "output_type": "execute_result",
          "data": {
            "text/plain": [
              "[('npov', 1862),\n",
              " ('fucksex', 624),\n",
              " ('yourselfgo', 621),\n",
              " ('mothjer', 489),\n",
              " ('fggt', 477),\n",
              " ('gfdl', 457),\n",
              " ('philippineslong', 420),\n",
              " ('hanibal', 370),\n",
              " ('offfuck', 360),\n",
              " ('deneid', 331),\n",
              " ('pagedelete', 312),\n",
              " ('notrhbysouthbanof', 308),\n",
              " ('mainpagebg', 301),\n",
              " ('criminalwar', 279),\n",
              " ('bunksteve', 278),\n",
              " ('marcolfuck', 260),\n",
              " ('boymamas', 258),\n",
              " ('securityfuck', 227),\n",
              " ('youbollocks', 217),\n",
              " ('veggietales', 213)]"
            ]
          },
          "metadata": {
            "tags": []
          },
          "execution_count": 43
        }
      ]
    },
    {
      "cell_type": "markdown",
      "metadata": {
        "id": "qmylTZ22Kv63",
        "colab_type": "text"
      },
      "source": [
        "What we see most of our out of vocabulary words are either swear words or wrongly spelt words. While our comment_text are now cleaner for training."
      ]
    },
    {
      "cell_type": "code",
      "metadata": {
        "id": "yaToMGuFg3N9",
        "colab_type": "code",
        "outputId": "ab360a83-612d-4e49-9fd4-9cc154185beb",
        "colab": {
          "base_uri": "https://localhost:8080/",
          "height": 196
        }
      },
      "source": [
        "train[\"comment_text\"].head(10)"
      ],
      "execution_count": 44,
      "outputs": [
        {
          "output_type": "execute_result",
          "data": {
            "text/plain": [
              "0    explanation why the edits made under my userna...\n",
              "1    d aww ! he matches this background color i am ...\n",
              "2    hey man i am really not trying to edit war it ...\n",
              "3     more i cannot make any real suggestions on im...\n",
              "4    you sir are my hero any chance you remember wh...\n",
              "5     congratulations from me as well use the tools...\n",
              "6         cocksucker before you piss around on my work\n",
              "7    your vandalism to the matt shirvington article...\n",
              "8    sorry if the word nonsense was offensive to yo...\n",
              "9    alignment on this subject and which are contra...\n",
              "Name: comment_text, dtype: object"
            ]
          },
          "metadata": {
            "tags": []
          },
          "execution_count": 44
        }
      ]
    },
    {
      "cell_type": "markdown",
      "metadata": {
        "id": "-i7Ancvvco7a",
        "colab_type": "text"
      },
      "source": [
        "Creating **X_train**, **y_train** and **X_test**."
      ]
    },
    {
      "cell_type": "code",
      "metadata": {
        "id": "iCbQr3DAjt_l",
        "colab_type": "code",
        "colab": {}
      },
      "source": [
        "X_train = train[\"comment_text\"]\n",
        "y_train = train[[\"toxic\", \"severe_toxic\", \"obscene\", \"threat\", \"insult\", \"identity_hate\"]].values\n",
        "\n",
        "X_test = test[\"comment_text\"]"
      ],
      "execution_count": 0,
      "outputs": []
    },
    {
      "cell_type": "markdown",
      "metadata": {
        "id": "nvQ6OAKPdBMy",
        "colab_type": "text"
      },
      "source": [
        "The following evaluation is based on Kaggle's [evaluation](https://https://www.kaggle.com/c/jigsaw-toxic-comment-classification-challenge/overview/evaluation) criteria. The evaluation function is utilised while training different neural networks to select the best fit model.\n",
        "\n",
        "You can read more about ROC Curve in this [paper](https://www.biostat.wisc.edu/~page/rocpr.pdf).\n"
      ]
    },
    {
      "cell_type": "code",
      "metadata": {
        "id": "_ziBEIWfsGGp",
        "colab_type": "code",
        "colab": {}
      },
      "source": [
        "# Evaluation function based on Kaggle competition metric for optimization\n",
        "class RocAucEvaluation(Callback):\n",
        "    def __init__(self, validation_data=(), interval=1):\n",
        "        super(Callback, self).__init__()\n",
        "        self.interval = interval\n",
        "        self.X_val, self.y_val = validation_data\n",
        "\n",
        "    def on_epoch_end(self, epoch, logs={}):\n",
        "        if epoch % self.interval == 0:\n",
        "            y_pred = self.model.predict(self.X_val, verbose=0)\n",
        "            score = roc_auc_score(self.y_val, y_pred)\n",
        "            print(\"\\n ROC-AUC - epoch: {:d} - score: {:.6f}\".format(epoch+1, score))"
      ],
      "execution_count": 0,
      "outputs": []
    },
    {
      "cell_type": "markdown",
      "metadata": {
        "id": "-4onJac3enxu",
        "colab_type": "text"
      },
      "source": [
        "The following function will generate plots to visualize the training and validation parameters. This will be utilised multiple times while experimenting with different architechtures."
      ]
    },
    {
      "cell_type": "code",
      "metadata": {
        "id": "4ns_o00-upeZ",
        "colab_type": "code",
        "colab": {}
      },
      "source": [
        "#Visualization function for Validation and Training Parameters\n",
        "def get_plots(history):\n",
        "    # Get training and test loss histories\n",
        "    training_accuracy = history.history['accuracy']\n",
        "    validation_accuracy = history.history['val_accuracy']\n",
        "\n",
        "    # Create count of the number of epochs\n",
        "    epoch_count_1 = range(1, len(training_accuracy) + 1)\n",
        "\n",
        "    # Visualize loss history\n",
        "    plt.subplot(1, 2, 1)\n",
        "    plt.plot(epoch_count_1, training_accuracy, 'r--')\n",
        "    plt.plot(epoch_count_1, validation_accuracy, 'b-')\n",
        "    plt.legend(['Training Accuracy', 'Validation Accuracy'])\n",
        "    plt.xlabel('Epoch')\n",
        "    plt.ylabel('Accuracy')\n",
        "\n",
        "\n",
        "    # Get training and test loss histories\n",
        "    training_loss = history.history['loss']\n",
        "    validation_loss = history.history['val_loss']\n",
        "\n",
        "    # Create count of the number of epochs\n",
        "    epoch_count_2 = range(1, len(training_loss) + 1)\n",
        "\n",
        "    # Visualize loss history\n",
        "    plt.subplot(1, 2, 2)\n",
        "    plt.plot(epoch_count_2, training_loss, 'r--')\n",
        "    plt.plot(epoch_count_2, validation_loss, 'b-')\n",
        "    plt.legend(['Training Loss', 'Validation Loss'])\n",
        "    plt.xlabel('Epoch')\n",
        "    plt.ylabel('Loss')\n",
        "\n",
        "    plt.tight_layout()\n",
        "\n",
        "    plt.show();"
      ],
      "execution_count": 0,
      "outputs": []
    },
    {
      "cell_type": "markdown",
      "metadata": {
        "id": "s_ZZNGt_e5Cq",
        "colab_type": "text"
      },
      "source": [
        "The following function will generate ROC scores for each model predictions. The function predict_scores() utilises the function test_score() which calculates ROC using SkLearn's [Receiver Operating Characteristic Curve (ROC AUC)](https://scikit-learn.org/stable/modules/generated/sklearn.metrics.roc_auc_score.html)."
      ]
    },
    {
      "cell_type": "code",
      "metadata": {
        "id": "jZ7xdW0-vY9e",
        "colab_type": "code",
        "colab": {}
      },
      "source": [
        "#Function to calculate the ROC score on predictions\n",
        "def predict_scores(y_pred):\n",
        "  test_predictions = pd.read_csv('/content/drive/My Drive/toxicity-classification/data/sample_submission.csv')\n",
        "  test_predictions[[\"toxic\", \"severe_toxic\", \"obscene\", \"threat\", \"insult\", \"identity_hate\"]] = y_pred \n",
        "  return test_score(test_predictions.drop(test_predictions.loc[pd.merge(test_data, test_labels, on='id')['toxic']==-1].index))"
      ],
      "execution_count": 0,
      "outputs": []
    },
    {
      "cell_type": "code",
      "metadata": {
        "id": "Ien9FRvOsKnK",
        "colab_type": "code",
        "outputId": "fc8b8e56-482a-478d-8a8a-31031b23f941",
        "colab": {
          "base_uri": "https://localhost:8080/",
          "height": 50
        }
      },
      "source": [
        "%%time\n",
        "# Tokenize comments and pad to max length so all inputs are the same size\n",
        "token=text.Tokenizer(num_words=max_features,lower=True)\n",
        "token.fit_on_texts(list(X_train)+list(X_test))\n",
        "X_train=token.texts_to_sequences(X_train)\n",
        "X_test=token.texts_to_sequences(X_test)\n",
        "x_train=sequence.pad_sequences(X_train,maxlen=maxlen)\n",
        "x_test=sequence.pad_sequences(X_test,maxlen=maxlen)"
      ],
      "execution_count": 49,
      "outputs": [
        {
          "output_type": "stream",
          "text": [
            "CPU times: user 28.5 s, sys: 230 ms, total: 28.8 s\n",
            "Wall time: 28.8 s\n"
          ],
          "name": "stdout"
        }
      ]
    },
    {
      "cell_type": "markdown",
      "metadata": {
        "id": "GFrMiDH036V8",
        "colab_type": "text"
      },
      "source": [
        "Creating the embedding matrix using the FastText Word Embeddings"
      ]
    },
    {
      "cell_type": "code",
      "metadata": {
        "id": "IEHWx_xZ6h0O",
        "colab_type": "code",
        "outputId": "8f9fd5fa-3147-4e8d-9619-d71c290d0631",
        "colab": {
          "base_uri": "https://localhost:8080/",
          "height": 50
        }
      },
      "source": [
        "%%time\n",
        "# create the embedding matrix from the Facebook crawl dataset\n",
        "word_index = token.word_index\n",
        "num_words = min(max_features, len(word_index) + 1)\n",
        "embedding_matrix = np.zeros((num_words, embed_size)) # set not found words to vector of zeros in embedding\n",
        "for word, i in word_index.items():\n",
        "    if i >= max_features:\n",
        "        continue\n",
        "    embedding_vector = embeddings_index.get(word)\n",
        "    if embedding_vector is not None:\n",
        "        embedding_matrix[i] = embedding_vector"
      ],
      "execution_count": 50,
      "outputs": [
        {
          "output_type": "stream",
          "text": [
            "CPU times: user 236 ms, sys: 85 ms, total: 321 ms\n",
            "Wall time: 321 ms\n"
          ],
          "name": "stdout"
        }
      ]
    },
    {
      "cell_type": "markdown",
      "metadata": {
        "id": "yAAHF11Go6AN",
        "colab_type": "text"
      },
      "source": [
        "### **Bi-Directional LSTM**\n",
        "\n",
        "Here we will develop a neural network architecture to try and achieve better performance that the logistic regression benchmark model utilized above. The goal is to implement a simple **Bi-directional LSTM** with a pretrained word embedding, this work is referenced from [LSTM Recurrent Neural Networks for Short Text and Sentiment Classification](https://link.springer.com/chapter/10.1007/978-3-319-59060-8_50). The framework for this was referenced from multple researches with tweaks made to the embedding, test/train split, and parameters used to achieve higher ROC AUC."
      ]
    },
    {
      "cell_type": "code",
      "metadata": {
        "id": "j3eYsgUU7JG0",
        "colab_type": "code",
        "colab": {}
      },
      "source": [
        "#Simple Bidirectional LSTM\n",
        "from keras.layers import Dense, Input, LSTM, Embedding, Dropout, Activation, Conv1D, GlobalMaxPool1D\n",
        "\n",
        "def get_bilstm_model():\n",
        "\n",
        "    model_input = Input(shape=(maxlen,))\n",
        "\n",
        "    x = Embedding(max_features, embed_size, weights=[embedding_matrix])(model_input)\n",
        "\n",
        "    x = Bidirectional(LSTM(300, return_sequences=True, dropout=0.1, recurrent_dropout=0.1))(x)\n",
        "\n",
        "    x = GlobalMaxPool1D()(x)\n",
        "\n",
        "    x = Dense(50, activation=\"relu\")(x)\n",
        "\n",
        "    x = Dropout(0.1)(x)\n",
        "\n",
        "    x = Dense(6, activation=\"sigmoid\")(x)\n",
        "\n",
        "    model = Model(inputs=model_input, outputs=x)\n",
        "    model.compile(loss='binary_crossentropy', optimizer='adam', metrics=['accuracy'])\n",
        "\n",
        "    return model"
      ],
      "execution_count": 0,
      "outputs": []
    },
    {
      "cell_type": "code",
      "metadata": {
        "id": "5K2hUypHLLkM",
        "colab_type": "code",
        "outputId": "bf4dbffc-1719-415c-ee72-f52ceaf549f0",
        "colab": {
          "base_uri": "https://localhost:8080/",
          "height": 98
        }
      },
      "source": [
        "!pip install scikit-multilearn"
      ],
      "execution_count": 52,
      "outputs": [
        {
          "output_type": "stream",
          "text": [
            "Collecting scikit-multilearn\n",
            "\u001b[?25l  Downloading https://files.pythonhosted.org/packages/bb/1f/e6ff649c72a1cdf2c7a1d31eb21705110ce1c5d3e7e26b2cc300e1637272/scikit_multilearn-0.2.0-py3-none-any.whl (89kB)\n",
            "\r\u001b[K     |███▊                            | 10kB 25.0MB/s eta 0:00:01\r\u001b[K     |███████▍                        | 20kB 3.2MB/s eta 0:00:01\r\u001b[K     |███████████                     | 30kB 4.1MB/s eta 0:00:01\r\u001b[K     |██████████████▊                 | 40kB 3.0MB/s eta 0:00:01\r\u001b[K     |██████████████████▍             | 51kB 3.3MB/s eta 0:00:01\r\u001b[K     |██████████████████████          | 61kB 4.0MB/s eta 0:00:01\r\u001b[K     |█████████████████████████▊      | 71kB 4.3MB/s eta 0:00:01\r\u001b[K     |█████████████████████████████▍  | 81kB 4.7MB/s eta 0:00:01\r\u001b[K     |████████████████████████████████| 92kB 4.0MB/s \n",
            "\u001b[?25hInstalling collected packages: scikit-multilearn\n",
            "Successfully installed scikit-multilearn-0.2.0\n"
          ],
          "name": "stdout"
        }
      ]
    },
    {
      "cell_type": "code",
      "metadata": {
        "id": "_kQv61Rs836k",
        "colab_type": "code",
        "colab": {}
      },
      "source": [
        "from skmultilearn.model_selection import iterative_train_test_split\n",
        "batch_size = 256\n",
        "epochs = 3\n",
        "\n",
        "model = get_bilstm_model()\n",
        "\n",
        "# utilize stratified sampling to improve model training and accuracy\n",
        "X_tra, y_tra, X_val, y_val = iterative_train_test_split(x_train, y_train, test_size=0.05)"
      ],
      "execution_count": 0,
      "outputs": []
    },
    {
      "cell_type": "code",
      "metadata": {
        "id": "1VriKv3smhcD",
        "colab_type": "code",
        "colab": {}
      },
      "source": [
        "checkpoint = ModelCheckpoint(\"lstm_model.hdf5\", monitor='val_accuracy', verbose=1, save_best_only=True, mode='max')\n",
        "early = EarlyStopping(monitor=\"val_accuracy\", mode=\"max\", patience=5)\n",
        "RocAuc = RocAucEvaluation(validation_data=(X_val, y_val), interval = 1)\n",
        "callbacks_list = [RocAuc,checkpoint, early]"
      ],
      "execution_count": 0,
      "outputs": []
    },
    {
      "cell_type": "code",
      "metadata": {
        "id": "fbvKEJicm0PT",
        "colab_type": "code",
        "outputId": "5e9d69e8-2f2e-47b3-e70f-bc9c15b9a9aa",
        "colab": {
          "base_uri": "https://localhost:8080/",
          "height": 375
        }
      },
      "source": [
        "model.summary()"
      ],
      "execution_count": 55,
      "outputs": [
        {
          "output_type": "stream",
          "text": [
            "Model: \"model_1\"\n",
            "_________________________________________________________________\n",
            "Layer (type)                 Output Shape              Param #   \n",
            "=================================================================\n",
            "input_1 (InputLayer)         (None, 200)               0         \n",
            "_________________________________________________________________\n",
            "embedding_1 (Embedding)      (None, 200, 300)          30000000  \n",
            "_________________________________________________________________\n",
            "bidirectional_1 (Bidirection (None, 200, 600)          1442400   \n",
            "_________________________________________________________________\n",
            "global_max_pooling1d_1 (Glob (None, 600)               0         \n",
            "_________________________________________________________________\n",
            "dense_1 (Dense)              (None, 50)                30050     \n",
            "_________________________________________________________________\n",
            "dropout_1 (Dropout)          (None, 50)                0         \n",
            "_________________________________________________________________\n",
            "dense_2 (Dense)              (None, 6)                 306       \n",
            "=================================================================\n",
            "Total params: 31,472,756\n",
            "Trainable params: 31,472,756\n",
            "Non-trainable params: 0\n",
            "_________________________________________________________________\n"
          ],
          "name": "stdout"
        }
      ]
    },
    {
      "cell_type": "code",
      "metadata": {
        "id": "lcEAjDtO876l",
        "colab_type": "code",
        "outputId": "f8cde9de-ebfa-421d-ff9f-40bcb343580e",
        "colab": {
          "base_uri": "https://localhost:8080/",
          "height": 411
        }
      },
      "source": [
        "%%time\n",
        "history = model.fit(X_tra, y_tra, batch_size=batch_size, epochs=epochs, validation_data=(X_val, y_val),\n",
        "                 callbacks=callbacks_list, verbose=1)"
      ],
      "execution_count": 56,
      "outputs": [
        {
          "output_type": "stream",
          "text": [
            "/usr/local/lib/python3.6/dist-packages/tensorflow/python/framework/indexed_slices.py:434: UserWarning: Converting sparse IndexedSlices to a dense Tensor of unknown shape. This may consume a large amount of memory.\n",
            "  \"Converting sparse IndexedSlices to a dense Tensor of unknown shape. \"\n"
          ],
          "name": "stderr"
        },
        {
          "output_type": "stream",
          "text": [
            "Train on 151592 samples, validate on 7979 samples\n",
            "Epoch 1/3\n",
            "151592/151592 [==============================] - 382s 3ms/step - loss: 0.0643 - accuracy: 0.9780 - val_loss: 0.0406 - val_accuracy: 0.9843\n",
            "\n",
            " ROC-AUC - epoch: 1 - score: 0.987047\n",
            "\n",
            "Epoch 00001: val_accuracy improved from -inf to 0.98427, saving model to lstm_model.hdf5\n",
            "Epoch 2/3\n",
            "151592/151592 [==============================] - 377s 2ms/step - loss: 0.0396 - accuracy: 0.9844 - val_loss: 0.0404 - val_accuracy: 0.9841\n",
            "\n",
            " ROC-AUC - epoch: 2 - score: 0.989667\n",
            "\n",
            "Epoch 00002: val_accuracy did not improve from 0.98427\n",
            "Epoch 3/3\n",
            "151592/151592 [==============================] - 377s 2ms/step - loss: 0.0338 - accuracy: 0.9864 - val_loss: 0.0395 - val_accuracy: 0.9846\n",
            "\n",
            " ROC-AUC - epoch: 3 - score: 0.988880\n",
            "\n",
            "Epoch 00003: val_accuracy improved from 0.98427 to 0.98456, saving model to lstm_model.hdf5\n",
            "CPU times: user 43min 50s, sys: 7min 9s, total: 50min 59s\n",
            "Wall time: 19min 41s\n"
          ],
          "name": "stdout"
        }
      ]
    },
    {
      "cell_type": "code",
      "metadata": {
        "id": "BNvUQ-vXt2-l",
        "colab_type": "code",
        "outputId": "0f6f1114-e1d7-411b-f0c0-849e29b63e84",
        "colab": {
          "base_uri": "https://localhost:8080/",
          "height": 297
        }
      },
      "source": [
        "get_plots(history)"
      ],
      "execution_count": 57,
      "outputs": [
        {
          "output_type": "display_data",
          "data": {
            "image/png": "[encoded data removed]",
            "text/plain": [
              "<Figure size 432x288 with 2 Axes>"
            ]
          },
          "metadata": {
            "tags": [],
            "needs_background": "light"
          }
        }
      ]
    },
    {
      "cell_type": "code",
      "metadata": {
        "id": "7BIJsKTf9Gjg",
        "colab_type": "code",
        "outputId": "de5d729e-61dc-4232-cbbe-9639e77d4921",
        "colab": {
          "base_uri": "https://localhost:8080/",
          "height": 33
        }
      },
      "source": [
        "model.load_weights(\"lstm_model.hdf5\")\n",
        "y_pred = model.predict(x_test, batch_size=1024, verbose=1)"
      ],
      "execution_count": 58,
      "outputs": [
        {
          "output_type": "stream",
          "text": [
            "153164/153164 [==============================] - 28s 182us/step\n"
          ],
          "name": "stdout"
        }
      ]
    },
    {
      "cell_type": "code",
      "metadata": {
        "id": "eT75O5k-8_iQ",
        "colab_type": "code",
        "outputId": "acc0e33b-5307-4e0f-8a8a-3ef70266b2aa",
        "colab": {
          "base_uri": "https://localhost:8080/",
          "height": 33
        }
      },
      "source": [
        "predict_scores(y_pred)"
      ],
      "execution_count": 59,
      "outputs": [
        {
          "output_type": "stream",
          "text": [
            "Test set score is 0.9825377878792899\n"
          ],
          "name": "stdout"
        }
      ]
    },
    {
      "cell_type": "markdown",
      "metadata": {
        "id": "hgobqB7i6IIk",
        "colab_type": "text"
      },
      "source": [
        "We see fairly good results here, a great improve from **Benchmark model**. We will explore some more architectures and based on our experiment we chose the final model."
      ]
    },
    {
      "cell_type": "code",
      "metadata": {
        "id": "o1xeQo0GWlZD",
        "colab_type": "code",
        "outputId": "9cb01cd2-abc4-4a9f-dfdb-440e3f07ecea",
        "colab": {
          "base_uri": "https://localhost:8080/",
          "height": 33
        }
      },
      "source": [
        "gc.collect()"
      ],
      "execution_count": 60,
      "outputs": [
        {
          "output_type": "execute_result",
          "data": {
            "text/plain": [
              "5194"
            ]
          },
          "metadata": {
            "tags": []
          },
          "execution_count": 60
        }
      ]
    },
    {
      "cell_type": "markdown",
      "metadata": {
        "id": "QKDnQwR4VWBV",
        "colab_type": "text"
      },
      "source": [
        "### **Pooled GRU**\n",
        "\n",
        "**Gated recurrent units (GRUs)** are a gating mechanism in recurrent neural networks, introduced in 2014 by [Kyunghyun Cho et al.](https://arxiv.org/abs/1406.1078). The GRU is like a long short-term memory (LSTM) with forget gate but has fewer parameters than LSTM, as it lacks an output gate. This implementation is partially based on this paper [Empirical Evaluation of RNN Architectures on Sentence Classification Task](https://arxiv.org/abs/1609.09171).\n",
        "\n"
      ]
    },
    {
      "cell_type": "code",
      "metadata": {
        "id": "KR9AtyOvotXl",
        "colab_type": "code",
        "colab": {}
      },
      "source": [
        "def get_pooled_gru():\n",
        "\n",
        "  model_input = Input(shape=(maxlen, ))\n",
        "\n",
        "  x = Embedding(max_features, embed_size, weights=[embedding_matrix])(model_input)\n",
        "\n",
        "  x = SpatialDropout1D(0.2)(x)\n",
        "\n",
        "  x = Bidirectional(GRU(128, return_sequences=True))(x)\n",
        "\n",
        "  avg_pool = GlobalAveragePooling1D()(x)\n",
        "  max_pool = GlobalMaxPooling1D()(x)\n",
        "  conc = concatenate([avg_pool, max_pool])\n",
        "\n",
        "  outp = Dense(6, activation=\"sigmoid\")(conc)\n",
        "      \n",
        "  model = Model(inputs=model_input, outputs=outp)\n",
        "  model.compile(loss='binary_crossentropy',\n",
        "                    optimizer='adam',\n",
        "                    metrics=['accuracy'])\n",
        "  return model"
      ],
      "execution_count": 0,
      "outputs": []
    },
    {
      "cell_type": "code",
      "metadata": {
        "id": "d0mCfRSPVDFk",
        "colab_type": "code",
        "colab": {}
      },
      "source": [
        "batch_size = 128\n",
        "epochs = 3\n",
        "\n",
        "model = get_pooled_gru()\n",
        "\n",
        "# Use stratified sampling again\n",
        "X_tra, y_tra, X_val, y_val = iterative_train_test_split(x_train, y_train, test_size=0.1)"
      ],
      "execution_count": 0,
      "outputs": []
    },
    {
      "cell_type": "code",
      "metadata": {
        "id": "SHu7FZjMVQK0",
        "colab_type": "code",
        "colab": {}
      },
      "source": [
        "checkpoint = ModelCheckpoint(\"pooled_gru_model.hdf5\", monitor='val_accuracy', verbose=1, save_best_only=True, mode='max')\n",
        "early = EarlyStopping(monitor=\"val_accuracy\", mode=\"max\", patience=5)\n",
        "ra_val = RocAucEvaluation(validation_data=(X_val, y_val), interval = 1)\n",
        "callbacks_list = [ra_val,checkpoint, early]"
      ],
      "execution_count": 0,
      "outputs": []
    },
    {
      "cell_type": "code",
      "metadata": {
        "id": "M4vJ5VbjVkWB",
        "colab_type": "code",
        "outputId": "fb899cc3-5ea2-480a-e8b4-1754f8fc70b2",
        "colab": {
          "base_uri": "https://localhost:8080/",
          "height": 423
        }
      },
      "source": [
        "model.summary()"
      ],
      "execution_count": 66,
      "outputs": [
        {
          "output_type": "stream",
          "text": [
            "Model: \"model_2\"\n",
            "__________________________________________________________________________________________________\n",
            "Layer (type)                    Output Shape         Param #     Connected to                     \n",
            "==================================================================================================\n",
            "input_3 (InputLayer)            (None, 200)          0                                            \n",
            "__________________________________________________________________________________________________\n",
            "embedding_3 (Embedding)         (None, 200, 300)     30000000    input_3[0][0]                    \n",
            "__________________________________________________________________________________________________\n",
            "spatial_dropout1d_1 (SpatialDro (None, 200, 300)     0           embedding_3[0][0]                \n",
            "__________________________________________________________________________________________________\n",
            "bidirectional_2 (Bidirectional) (None, 200, 256)     329472      spatial_dropout1d_1[0][0]        \n",
            "__________________________________________________________________________________________________\n",
            "global_average_pooling1d_1 (Glo (None, 256)          0           bidirectional_2[0][0]            \n",
            "__________________________________________________________________________________________________\n",
            "global_max_pooling1d_2 (GlobalM (None, 256)          0           bidirectional_2[0][0]            \n",
            "__________________________________________________________________________________________________\n",
            "concatenate_1 (Concatenate)     (None, 512)          0           global_average_pooling1d_1[0][0] \n",
            "                                                                 global_max_pooling1d_2[0][0]     \n",
            "__________________________________________________________________________________________________\n",
            "dense_3 (Dense)                 (None, 6)            3078        concatenate_1[0][0]              \n",
            "==================================================================================================\n",
            "Total params: 30,332,550\n",
            "Trainable params: 30,332,550\n",
            "Non-trainable params: 0\n",
            "__________________________________________________________________________________________________\n"
          ],
          "name": "stdout"
        }
      ]
    },
    {
      "cell_type": "code",
      "metadata": {
        "id": "3367YP0QVvPy",
        "colab_type": "code",
        "outputId": "bbcd065c-2be1-4888-f032-1547101c398d",
        "colab": {
          "base_uri": "https://localhost:8080/",
          "height": 411
        }
      },
      "source": [
        "%%time\n",
        "history = model.fit(X_tra, y_tra, batch_size=batch_size, epochs=epochs, validation_data=(X_val, y_val),callbacks = callbacks_list,verbose=1)"
      ],
      "execution_count": 67,
      "outputs": [
        {
          "output_type": "stream",
          "text": [
            "/usr/local/lib/python3.6/dist-packages/tensorflow/python/framework/indexed_slices.py:434: UserWarning: Converting sparse IndexedSlices to a dense Tensor of unknown shape. This may consume a large amount of memory.\n",
            "  \"Converting sparse IndexedSlices to a dense Tensor of unknown shape. \"\n"
          ],
          "name": "stderr"
        },
        {
          "output_type": "stream",
          "text": [
            "Train on 143613 samples, validate on 15958 samples\n",
            "Epoch 1/3\n",
            "143613/143613 [==============================] - 786s 5ms/step - loss: 0.0559 - accuracy: 0.9804 - val_loss: 0.0417 - val_accuracy: 0.9837\n",
            "\n",
            " ROC-AUC - epoch: 1 - score: 0.988604\n",
            "\n",
            "Epoch 00001: val_accuracy improved from -inf to 0.98373, saving model to pooled_gru_model.hdf5\n",
            "Epoch 2/3\n",
            "143613/143613 [==============================] - 787s 5ms/step - loss: 0.0370 - accuracy: 0.9853 - val_loss: 0.0395 - val_accuracy: 0.9843\n",
            "\n",
            " ROC-AUC - epoch: 2 - score: 0.990898\n",
            "\n",
            "Epoch 00002: val_accuracy improved from 0.98373 to 0.98434, saving model to pooled_gru_model.hdf5\n",
            "Epoch 3/3\n",
            "143613/143613 [==============================] - 781s 5ms/step - loss: 0.0309 - accuracy: 0.9876 - val_loss: 0.0410 - val_accuracy: 0.9835\n",
            "\n",
            " ROC-AUC - epoch: 3 - score: 0.990144\n",
            "\n",
            "Epoch 00003: val_accuracy did not improve from 0.98434\n",
            "CPU times: user 1h 29min 52s, sys: 14min 39s, total: 1h 44min 31s\n",
            "Wall time: 40min 54s\n"
          ],
          "name": "stdout"
        }
      ]
    },
    {
      "cell_type": "code",
      "metadata": {
        "id": "2cv0V7uLVv-H",
        "colab_type": "code",
        "outputId": "abccaebd-9c82-4b85-ac8b-4853e85f40bd",
        "colab": {
          "base_uri": "https://localhost:8080/",
          "height": 297
        }
      },
      "source": [
        "get_plots(history)"
      ],
      "execution_count": 68,
      "outputs": [
        {
          "output_type": "display_data",
          "data": {
            "image/png": "[encoded data removed]",
            "text/plain": [
              "<Figure size 432x288 with 2 Axes>"
            ]
          },
          "metadata": {
            "tags": [],
            "needs_background": "light"
          }
        }
      ]
    },
    {
      "cell_type": "code",
      "metadata": {
        "id": "EjTdqrnUV1c_",
        "colab_type": "code",
        "outputId": "8eada82b-d633-4a79-d0c1-442ae58e9d33",
        "colab": {
          "base_uri": "https://localhost:8080/",
          "height": 33
        }
      },
      "source": [
        "model.load_weights(\"pooled_gru_model.hdf5\")\n",
        "y_pred = model.predict(x_test,batch_size=1024,verbose=1)"
      ],
      "execution_count": 69,
      "outputs": [
        {
          "output_type": "stream",
          "text": [
            "153164/153164 [==============================] - 13s 83us/step\n"
          ],
          "name": "stdout"
        }
      ]
    },
    {
      "cell_type": "code",
      "metadata": {
        "id": "NVNawHBBWFYz",
        "colab_type": "code",
        "outputId": "b6a99a4c-ab30-4ea4-95c8-0d0c82c87441",
        "colab": {
          "base_uri": "https://localhost:8080/",
          "height": 33
        }
      },
      "source": [
        "predict_scores(y_pred)"
      ],
      "execution_count": 70,
      "outputs": [
        {
          "output_type": "stream",
          "text": [
            "Test set score is 0.9837078294625575\n"
          ],
          "name": "stdout"
        }
      ]
    },
    {
      "cell_type": "code",
      "metadata": {
        "id": "Y4Yx46fJWJ1y",
        "colab_type": "code",
        "outputId": "6c319df3-36ea-4b7f-95ad-63c4513dc87b",
        "colab": {
          "base_uri": "https://localhost:8080/",
          "height": 33
        }
      },
      "source": [
        "gc.collect()"
      ],
      "execution_count": 71,
      "outputs": [
        {
          "output_type": "execute_result",
          "data": {
            "text/plain": [
              "5292"
            ]
          },
          "metadata": {
            "tags": []
          },
          "execution_count": 71
        }
      ]
    },
    {
      "cell_type": "markdown",
      "metadata": {
        "id": "sRsz0J7jYE_h",
        "colab_type": "text"
      },
      "source": [
        "### **Pooled GRU + CNN**\n",
        "\n",
        "This implementation is based on the paper [Combination of Convolutional and Recurrent Neural Network for\n",
        "Sentiment Analysis of Short Texts](https://www.aclweb.org/anthology/C16-1229.pdf) and [A C-LSTM Neural Network for Text Classification](https://arxiv.org/abs/1511.08630). This architechture uses a combination of **Bi-directional Gated Recurrent Network(GRU)** and **Convolutional Neural Network (ConvNet/CNN)** with pooling."
      ]
    },
    {
      "cell_type": "code",
      "metadata": {
        "id": "uU0OBPgzX97x",
        "colab_type": "code",
        "colab": {}
      },
      "source": [
        "def get_gru_cnn():\n",
        "    model_input = Input(shape=(maxlen, ))\n",
        "    x = Embedding(max_features, embed_size, weights=[embedding_matrix],trainable = False)(model_input)\n",
        "    x1 = SpatialDropout1D(0.2)(x)\n",
        "   \n",
        "    x = Bidirectional(GRU(128, return_sequences = True))(x1)\n",
        "    x = Conv1D(64, kernel_size = 2, padding = \"valid\", kernel_initializer = \"he_uniform\")(x)\n",
        "\n",
        "    y = Bidirectional(LSTM(128, return_sequences = True))(x1)\n",
        "    y = Conv1D(64, kernel_size = 2, padding = \"valid\", kernel_initializer = \"he_uniform\")(y)\n",
        "\n",
        "    avg_pool1 = GlobalAveragePooling1D()(x)\n",
        "    max_pool1 = GlobalMaxPooling1D()(x)\n",
        "\n",
        "    avg_pool2 = GlobalAveragePooling1D()(y)\n",
        "    max_pool2 = GlobalMaxPooling1D()(y)\n",
        "\n",
        "    x = concatenate([avg_pool1, max_pool1, avg_pool2, max_pool2])\n",
        "    \n",
        "    preds = Dense(6, activation=\"sigmoid\")(x)\n",
        "    model = Model(model_input, preds)\n",
        "    model.compile(loss='binary_crossentropy',optimizer=Adam(lr=1e-3,decay = 0),metrics=['accuracy'])\n",
        "    return model"
      ],
      "execution_count": 0,
      "outputs": []
    },
    {
      "cell_type": "code",
      "metadata": {
        "id": "xgfzSTlWYH9w",
        "colab_type": "code",
        "colab": {}
      },
      "source": [
        "batch_size = 128\n",
        "epochs = 3\n",
        "\n",
        "model = get_gru_cnn()\n",
        "\n",
        "# Use stratified sampling again\n",
        "X_tra, y_tra, X_val, y_val = iterative_train_test_split(x_train, y_train, test_size=0.1)"
      ],
      "execution_count": 0,
      "outputs": []
    },
    {
      "cell_type": "code",
      "metadata": {
        "id": "kzt1ig01YPUx",
        "colab_type": "code",
        "colab": {}
      },
      "source": [
        "checkpoint = ModelCheckpoint(\"gru_cnn_model.hdf5\", monitor='val_accuracy', verbose=1, save_best_only=True, mode='max')\n",
        "early = EarlyStopping(monitor=\"val_accuracy\", mode=\"max\", patience=5)\n",
        "ra_val = RocAucEvaluation(validation_data=(X_val, y_val), interval = 1)\n",
        "callbacks_list = [ra_val,checkpoint, early]"
      ],
      "execution_count": 0,
      "outputs": []
    },
    {
      "cell_type": "code",
      "metadata": {
        "id": "4fy-wqQyYUlC",
        "colab_type": "code",
        "outputId": "49342577-26d8-41af-cdf2-cff1276af8a4",
        "colab": {
          "base_uri": "https://localhost:8080/",
          "height": 618
        }
      },
      "source": [
        "model.summary()"
      ],
      "execution_count": 82,
      "outputs": [
        {
          "output_type": "stream",
          "text": [
            "Model: \"model_3\"\n",
            "__________________________________________________________________________________________________\n",
            "Layer (type)                    Output Shape         Param #     Connected to                     \n",
            "==================================================================================================\n",
            "input_6 (InputLayer)            (None, 200)          0                                            \n",
            "__________________________________________________________________________________________________\n",
            "embedding_6 (Embedding)         (None, 200, 300)     30000000    input_6[0][0]                    \n",
            "__________________________________________________________________________________________________\n",
            "spatial_dropout1d_4 (SpatialDro (None, 200, 300)     0           embedding_6[0][0]                \n",
            "__________________________________________________________________________________________________\n",
            "bidirectional_4 (Bidirectional) (None, 200, 256)     329472      spatial_dropout1d_4[0][0]        \n",
            "__________________________________________________________________________________________________\n",
            "bidirectional_5 (Bidirectional) (None, 200, 256)     439296      spatial_dropout1d_4[0][0]        \n",
            "__________________________________________________________________________________________________\n",
            "conv1d_1 (Conv1D)               (None, 199, 64)      32832       bidirectional_4[0][0]            \n",
            "__________________________________________________________________________________________________\n",
            "conv1d_2 (Conv1D)               (None, 199, 64)      32832       bidirectional_5[0][0]            \n",
            "__________________________________________________________________________________________________\n",
            "global_average_pooling1d_2 (Glo (None, 64)           0           conv1d_1[0][0]                   \n",
            "__________________________________________________________________________________________________\n",
            "global_max_pooling1d_3 (GlobalM (None, 64)           0           conv1d_1[0][0]                   \n",
            "__________________________________________________________________________________________________\n",
            "global_average_pooling1d_3 (Glo (None, 64)           0           conv1d_2[0][0]                   \n",
            "__________________________________________________________________________________________________\n",
            "global_max_pooling1d_4 (GlobalM (None, 64)           0           conv1d_2[0][0]                   \n",
            "__________________________________________________________________________________________________\n",
            "concatenate_2 (Concatenate)     (None, 256)          0           global_average_pooling1d_2[0][0] \n",
            "                                                                 global_max_pooling1d_3[0][0]     \n",
            "                                                                 global_average_pooling1d_3[0][0] \n",
            "                                                                 global_max_pooling1d_4[0][0]     \n",
            "__________________________________________________________________________________________________\n",
            "dense_4 (Dense)                 (None, 6)            1542        concatenate_2[0][0]              \n",
            "==================================================================================================\n",
            "Total params: 30,835,974\n",
            "Trainable params: 835,974\n",
            "Non-trainable params: 30,000,000\n",
            "__________________________________________________________________________________________________\n"
          ],
          "name": "stdout"
        }
      ]
    },
    {
      "cell_type": "code",
      "metadata": {
        "id": "RSWiwNlFYgSR",
        "colab_type": "code",
        "outputId": "dbc8baad-b4eb-421c-d586-1934c61f507e",
        "colab": {
          "base_uri": "https://localhost:8080/",
          "height": 358
        }
      },
      "source": [
        "%%time\n",
        "history = model.fit(X_tra, y_tra, batch_size=batch_size, epochs=epochs, validation_data=(X_val, y_val),callbacks = callbacks_list,verbose=1)"
      ],
      "execution_count": 83,
      "outputs": [
        {
          "output_type": "stream",
          "text": [
            "Train on 143613 samples, validate on 15958 samples\n",
            "Epoch 1/3\n",
            "143613/143613 [==============================] - 1312s 9ms/step - loss: 0.0544 - accuracy: 0.9804 - val_loss: 0.0454 - val_accuracy: 0.9827\n",
            "\n",
            " ROC-AUC - epoch: 1 - score: 0.987671\n",
            "\n",
            "Epoch 00001: val_accuracy improved from -inf to 0.98269, saving model to gru_cnn_model.hdf5\n",
            "Epoch 2/3\n",
            "143613/143613 [==============================] - 1315s 9ms/step - loss: 0.0418 - accuracy: 0.9838 - val_loss: 0.0401 - val_accuracy: 0.9844\n",
            "\n",
            " ROC-AUC - epoch: 2 - score: 0.990236\n",
            "\n",
            "Epoch 00002: val_accuracy improved from 0.98269 to 0.98436, saving model to gru_cnn_model.hdf5\n",
            "Epoch 3/3\n",
            "143613/143613 [==============================] - 1310s 9ms/step - loss: 0.0395 - accuracy: 0.9846 - val_loss: 0.0403 - val_accuracy: 0.9841\n",
            "\n",
            " ROC-AUC - epoch: 3 - score: 0.990531\n",
            "\n",
            "Epoch 00003: val_accuracy did not improve from 0.98436\n",
            "CPU times: user 2h 34min 44s, sys: 25min 3s, total: 2h 59min 48s\n",
            "Wall time: 1h 8min 32s\n"
          ],
          "name": "stdout"
        }
      ]
    },
    {
      "cell_type": "code",
      "metadata": {
        "id": "9j0EG056YhEX",
        "colab_type": "code",
        "outputId": "221754d3-40b3-4bef-f03b-c7b1ec27339f",
        "colab": {
          "base_uri": "https://localhost:8080/",
          "height": 297
        }
      },
      "source": [
        "get_plots(history)"
      ],
      "execution_count": 84,
      "outputs": [
        {
          "output_type": "display_data",
          "data": {
            "image/png": "[encoded data removed]",
            "text/plain": [
              "<Figure size 432x288 with 2 Axes>"
            ]
          },
          "metadata": {
            "tags": [],
            "needs_background": "light"
          }
        }
      ]
    },
    {
      "cell_type": "code",
      "metadata": {
        "id": "YrIV4GXRYmlG",
        "colab_type": "code",
        "outputId": "2d4cd004-a1f2-4647-d87e-7ca50332352e",
        "colab": {
          "base_uri": "https://localhost:8080/",
          "height": 33
        }
      },
      "source": [
        "model.load_weights(\"gru_cnn_model.hdf5\")\n",
        "y_pred = model.predict(x_test,batch_size=1024,verbose=1)"
      ],
      "execution_count": 85,
      "outputs": [
        {
          "output_type": "stream",
          "text": [
            "153164/153164 [==============================] - 27s 173us/step\n"
          ],
          "name": "stdout"
        }
      ]
    },
    {
      "cell_type": "code",
      "metadata": {
        "id": "ZzvO-5LwYurN",
        "colab_type": "code",
        "outputId": "92844dc6-be46-410c-d4ba-d4ea43306861",
        "colab": {
          "base_uri": "https://localhost:8080/",
          "height": 33
        }
      },
      "source": [
        "predict_scores(y_pred)"
      ],
      "execution_count": 86,
      "outputs": [
        {
          "output_type": "stream",
          "text": [
            "Test set score is 0.9830642261822655\n"
          ],
          "name": "stdout"
        }
      ]
    },
    {
      "cell_type": "markdown",
      "metadata": {
        "id": "o58_WV7zVqWv",
        "colab_type": "text"
      },
      "source": [
        "### **Pooled CNN Complex Model**\n",
        "\n",
        "This is a deep neural architechture with multiple Convolutional Neural Network (ConvNet/CNN) layers. This implementation is based on [Very Deep Convolutional Networks for Text Classification](https://arxiv.org/abs/1606.01781), [Combining Knowledge with Deep Convolutional Neural Networks\n",
        "for Short Text Classification](http://yellowstone.cs.ucla.edu/~jinwang/jinwang_files/ijcai2017.pdf) and [Attention pooling-based convolutional neural network for sentence modelling](https://www.sciencedirect.com/science/article/pii/S0020025516306673).\n"
      ]
    },
    {
      "cell_type": "code",
      "metadata": {
        "id": "ONdnhu6YpXKV",
        "colab_type": "code",
        "colab": {}
      },
      "source": [
        "#Custom Attention Layer\n",
        "from keras.engine import InputSpec, Layer\n",
        "from keras import backend as K\n",
        "\n",
        "class AttentionWeightedAverage(Layer):\n",
        "    \"\"\"\n",
        "    Computes a weighted average of the different channels across timesteps.\n",
        "    Uses 1 parameter pr. channel to compute the attention value for a single timestep.\n",
        "    \"\"\"\n",
        "\n",
        "    def __init__(self, return_attention=False, **kwargs):\n",
        "        self.init = initializers.get('uniform')\n",
        "        self.supports_masking = True\n",
        "        self.return_attention = return_attention\n",
        "        super(AttentionWeightedAverage, self).__init__(** kwargs)\n",
        "\n",
        "    def build(self, input_shape):\n",
        "        self.input_spec = [InputSpec(ndim=3)]\n",
        "        assert len(input_shape) == 3\n",
        "\n",
        "        self.W = self.add_weight(shape=(input_shape[2], 1),\n",
        "                                 name='{}_W'.format(self.name),\n",
        "                                 initializer=self.init)\n",
        "        self.trainable_weights = [self.W]\n",
        "        super(AttentionWeightedAverage, self).build(input_shape)\n",
        "\n",
        "    def call(self, x, mask=None):\n",
        "        # computes a probability distribution over the timesteps\n",
        "        # uses 'max trick' for numerical stability\n",
        "        # reshape is done to avoid issue with Tensorflow\n",
        "        # and 1-dimensional weights\n",
        "        logits = K.dot(x, self.W)\n",
        "        x_shape = K.shape(x)\n",
        "        logits = K.reshape(logits, (x_shape[0], x_shape[1]))\n",
        "        ai = K.exp(logits - K.max(logits, axis=-1, keepdims=True))\n",
        "\n",
        "        # masked timesteps have zero weight\n",
        "        if mask is not None:\n",
        "            mask = K.cast(mask, K.floatx())\n",
        "            ai = ai * mask\n",
        "        att_weights = ai / (K.sum(ai, axis=1, keepdims=True) + K.epsilon())\n",
        "        weighted_input = x * K.expand_dims(att_weights)\n",
        "        result = K.sum(weighted_input, axis=1)\n",
        "        if self.return_attention:\n",
        "            return [result, att_weights]\n",
        "        return result\n",
        "\n",
        "    def get_output_shape_for(self, input_shape):\n",
        "        return self.compute_output_shape(input_shape)\n",
        "\n",
        "    def compute_output_shape(self, input_shape):\n",
        "        output_len = input_shape[2]\n",
        "        if self.return_attention:\n",
        "            return [(input_shape[0], output_len), (input_shape[0], input_shape[1])]\n",
        "        return (input_shape[0], output_len)\n",
        "\n",
        "    def compute_mask(self, input, input_mask=None):\n",
        "        if isinstance(input_mask, list):\n",
        "            return [None] * len(input_mask)\n",
        "        else:\n",
        "            return None\n"
      ],
      "execution_count": 0,
      "outputs": []
    },
    {
      "cell_type": "code",
      "metadata": {
        "id": "Hfrrd3xFTp0y",
        "colab_type": "code",
        "colab": {}
      },
      "source": [
        " def get_avcnn_model():   \n",
        "    filter_nums = 300\n",
        "    model_input = Input(shape=(maxlen,), dtype='int32')\n",
        "\n",
        "    embedding_layer = Embedding(num_words,\n",
        "                                    embed_size,\n",
        "                                    weights=[embedding_matrix],\n",
        "                                    input_length=maxlen,\n",
        "                                    trainable=False)\n",
        "    embedded_sequences = embedding_layer(model_input)\n",
        "    embedded_sequences = SpatialDropout1D(0.25)(embedded_sequences)\n",
        "\n",
        "    conv_0 = Conv1D(filter_nums, 1, kernel_initializer=\"normal\", padding=\"valid\", activation=\"relu\")(embedded_sequences)\n",
        "    conv_1 = Conv1D(filter_nums, 2, kernel_initializer=\"normal\", padding=\"valid\", activation=\"relu\")(embedded_sequences)\n",
        "    conv_2 = Conv1D(filter_nums, 3, kernel_initializer=\"normal\", padding=\"valid\", activation=\"relu\")(embedded_sequences)\n",
        "    conv_3 = Conv1D(filter_nums, 4, kernel_initializer=\"normal\", padding=\"valid\", activation=\"relu\")(embedded_sequences)\n",
        "\n",
        "    attn_0 = AttentionWeightedAverage()(conv_0)\n",
        "    avg_0 = GlobalAveragePooling1D()(conv_0)\n",
        "    maxpool_0 = GlobalMaxPooling1D()(conv_0)\n",
        "\n",
        "    maxpool_1 = GlobalMaxPooling1D()(conv_1)\n",
        "    attn_1 = AttentionWeightedAverage()(conv_1)\n",
        "    avg_1 = GlobalAveragePooling1D()(conv_1)\n",
        "\n",
        "    maxpool_2 = GlobalMaxPooling1D()(conv_2)\n",
        "    attn_2 = AttentionWeightedAverage()(conv_2)\n",
        "    avg_2 = GlobalAveragePooling1D()(conv_2)\n",
        "\n",
        "    maxpool_3 = GlobalMaxPooling1D()(conv_3)\n",
        "    attn_3 = AttentionWeightedAverage()(conv_3)\n",
        "    avg_3 = GlobalAveragePooling1D()(conv_3)\n",
        "\n",
        "    v0_col = concatenate([maxpool_0, maxpool_1, maxpool_2, maxpool_3], axis=1)\n",
        "    v1_col = concatenate([attn_0, attn_1, attn_2, attn_3], axis=1)\n",
        "    v2_col = concatenate([avg_1, avg_2, avg_0, avg_3], axis=1)\n",
        "    merged_tensor = concatenate([v0_col, v1_col, v2_col], axis=1)\n",
        "    output = Dropout(0.7)(merged_tensor)\n",
        "    output = Dense(units=144)(output)\n",
        "    output = Activation('relu')(output)\n",
        "    output = Dense(units=6, activation='sigmoid')(output)\n",
        "\n",
        "    model = Model(inputs=model_input, outputs=output)\n",
        "    adam_optimizer = optimizers.Adam(lr=1e-3, decay=1e-6)\n",
        "    model.compile(loss='binary_crossentropy', optimizer=adam_optimizer, metrics=['accuracy'])\n",
        "\n",
        "    return model"
      ],
      "execution_count": 0,
      "outputs": []
    },
    {
      "cell_type": "code",
      "metadata": {
        "id": "7-hgrjesy8SN",
        "colab_type": "code",
        "colab": {}
      },
      "source": [
        "batch_size = 128\n",
        "epochs = 10\n",
        "\n",
        "model = get_avcnn_model()\n",
        "\n",
        "# Use stratified sampling again\n",
        "X_tra, y_tra, X_val, y_val = iterative_train_test_split(x_train, y_train, test_size=0.1)"
      ],
      "execution_count": 0,
      "outputs": []
    },
    {
      "cell_type": "code",
      "metadata": {
        "id": "L-EottXNzD1g",
        "colab_type": "code",
        "colab": {}
      },
      "source": [
        "checkpoint = ModelCheckpoint(\"avcnn_model.hdf5\", monitor='val_accuracy', verbose=1, save_best_only=True, mode='max')\n",
        "early = EarlyStopping(monitor=\"val_accuracy\", mode=\"max\", patience=5)\n",
        "ra_val = RocAucEvaluation(validation_data=(X_val, y_val), interval = 1)\n",
        "callbacks_list = [ra_val,checkpoint, early]"
      ],
      "execution_count": 0,
      "outputs": []
    },
    {
      "cell_type": "code",
      "metadata": {
        "id": "lLbwca2T0gpC",
        "colab_type": "code",
        "outputId": "26c64104-ff22-46d3-d8fa-f7146854340d",
        "colab": {
          "base_uri": "https://localhost:8080/",
          "height": 1000
        }
      },
      "source": [
        "model.summary()"
      ],
      "execution_count": 91,
      "outputs": [
        {
          "output_type": "stream",
          "text": [
            "Model: \"model_4\"\n",
            "__________________________________________________________________________________________________\n",
            "Layer (type)                    Output Shape         Param #     Connected to                     \n",
            "==================================================================================================\n",
            "input_7 (InputLayer)            (None, 200)          0                                            \n",
            "__________________________________________________________________________________________________\n",
            "embedding_7 (Embedding)         (None, 200, 300)     30000000    input_7[0][0]                    \n",
            "__________________________________________________________________________________________________\n",
            "spatial_dropout1d_5 (SpatialDro (None, 200, 300)     0           embedding_7[0][0]                \n",
            "__________________________________________________________________________________________________\n",
            "conv1d_3 (Conv1D)               (None, 200, 300)     90300       spatial_dropout1d_5[0][0]        \n",
            "__________________________________________________________________________________________________\n",
            "conv1d_4 (Conv1D)               (None, 199, 300)     180300      spatial_dropout1d_5[0][0]        \n",
            "__________________________________________________________________________________________________\n",
            "conv1d_5 (Conv1D)               (None, 198, 300)     270300      spatial_dropout1d_5[0][0]        \n",
            "__________________________________________________________________________________________________\n",
            "conv1d_6 (Conv1D)               (None, 197, 300)     360300      spatial_dropout1d_5[0][0]        \n",
            "__________________________________________________________________________________________________\n",
            "global_max_pooling1d_5 (GlobalM (None, 300)          0           conv1d_3[0][0]                   \n",
            "__________________________________________________________________________________________________\n",
            "global_max_pooling1d_6 (GlobalM (None, 300)          0           conv1d_4[0][0]                   \n",
            "__________________________________________________________________________________________________\n",
            "global_max_pooling1d_7 (GlobalM (None, 300)          0           conv1d_5[0][0]                   \n",
            "__________________________________________________________________________________________________\n",
            "global_max_pooling1d_8 (GlobalM (None, 300)          0           conv1d_6[0][0]                   \n",
            "__________________________________________________________________________________________________\n",
            "attention_weighted_average_1 (A (None, 300)          300         conv1d_3[0][0]                   \n",
            "__________________________________________________________________________________________________\n",
            "attention_weighted_average_2 (A (None, 300)          300         conv1d_4[0][0]                   \n",
            "__________________________________________________________________________________________________\n",
            "attention_weighted_average_3 (A (None, 300)          300         conv1d_5[0][0]                   \n",
            "__________________________________________________________________________________________________\n",
            "attention_weighted_average_4 (A (None, 300)          300         conv1d_6[0][0]                   \n",
            "__________________________________________________________________________________________________\n",
            "global_average_pooling1d_5 (Glo (None, 300)          0           conv1d_4[0][0]                   \n",
            "__________________________________________________________________________________________________\n",
            "global_average_pooling1d_6 (Glo (None, 300)          0           conv1d_5[0][0]                   \n",
            "__________________________________________________________________________________________________\n",
            "global_average_pooling1d_4 (Glo (None, 300)          0           conv1d_3[0][0]                   \n",
            "__________________________________________________________________________________________________\n",
            "global_average_pooling1d_7 (Glo (None, 300)          0           conv1d_6[0][0]                   \n",
            "__________________________________________________________________________________________________\n",
            "concatenate_3 (Concatenate)     (None, 1200)         0           global_max_pooling1d_5[0][0]     \n",
            "                                                                 global_max_pooling1d_6[0][0]     \n",
            "                                                                 global_max_pooling1d_7[0][0]     \n",
            "                                                                 global_max_pooling1d_8[0][0]     \n",
            "__________________________________________________________________________________________________\n",
            "concatenate_4 (Concatenate)     (None, 1200)         0           attention_weighted_average_1[0][0\n",
            "                                                                 attention_weighted_average_2[0][0\n",
            "                                                                 attention_weighted_average_3[0][0\n",
            "                                                                 attention_weighted_average_4[0][0\n",
            "__________________________________________________________________________________________________\n",
            "concatenate_5 (Concatenate)     (None, 1200)         0           global_average_pooling1d_5[0][0] \n",
            "                                                                 global_average_pooling1d_6[0][0] \n",
            "                                                                 global_average_pooling1d_4[0][0] \n",
            "                                                                 global_average_pooling1d_7[0][0] \n",
            "__________________________________________________________________________________________________\n",
            "concatenate_6 (Concatenate)     (None, 3600)         0           concatenate_3[0][0]              \n",
            "                                                                 concatenate_4[0][0]              \n",
            "                                                                 concatenate_5[0][0]              \n",
            "__________________________________________________________________________________________________\n",
            "dropout_2 (Dropout)             (None, 3600)         0           concatenate_6[0][0]              \n",
            "__________________________________________________________________________________________________\n",
            "dense_5 (Dense)                 (None, 144)          518544      dropout_2[0][0]                  \n",
            "__________________________________________________________________________________________________\n",
            "activation_1 (Activation)       (None, 144)          0           dense_5[0][0]                    \n",
            "__________________________________________________________________________________________________\n",
            "dense_6 (Dense)                 (None, 6)            870         activation_1[0][0]               \n",
            "==================================================================================================\n",
            "Total params: 31,421,814\n",
            "Trainable params: 1,421,814\n",
            "Non-trainable params: 30,000,000\n",
            "__________________________________________________________________________________________________\n"
          ],
          "name": "stdout"
        }
      ]
    },
    {
      "cell_type": "code",
      "metadata": {
        "id": "SpFmPr1EyoVK",
        "colab_type": "code",
        "outputId": "ba2c9b81-ed39-4b32-9ae1-1ec17dac48c5",
        "colab": {
          "base_uri": "https://localhost:8080/",
          "height": 1000
        }
      },
      "source": [
        "%%time\n",
        "history = model.fit(X_tra, y_tra, batch_size=batch_size, epochs=epochs, validation_data=(X_val, y_val),callbacks = callbacks_list,verbose=1)"
      ],
      "execution_count": 92,
      "outputs": [
        {
          "output_type": "stream",
          "text": [
            "Train on 143613 samples, validate on 15958 samples\n",
            "Epoch 1/10\n",
            "143613/143613 [==============================] - 39s 275us/step - loss: 0.0586 - accuracy: 0.9796 - val_loss: 0.0424 - val_accuracy: 0.9835\n",
            "\n",
            " ROC-AUC - epoch: 1 - score: 0.984670\n",
            "\n",
            "Epoch 00001: val_accuracy improved from -inf to 0.98351, saving model to avcnn_model.hdf5\n",
            "Epoch 2/10\n",
            "143613/143613 [==============================] - 39s 270us/step - loss: 0.0458 - accuracy: 0.9823 - val_loss: 0.0469 - val_accuracy: 0.9830\n",
            "\n",
            " ROC-AUC - epoch: 2 - score: 0.986831\n",
            "\n",
            "Epoch 00002: val_accuracy did not improve from 0.98351\n",
            "Epoch 3/10\n",
            "143613/143613 [==============================] - 39s 270us/step - loss: 0.0434 - accuracy: 0.9830 - val_loss: 0.0416 - val_accuracy: 0.9836\n",
            "\n",
            " ROC-AUC - epoch: 3 - score: 0.987222\n",
            "\n",
            "Epoch 00003: val_accuracy improved from 0.98351 to 0.98356, saving model to avcnn_model.hdf5\n",
            "Epoch 4/10\n",
            "143613/143613 [==============================] - 39s 270us/step - loss: 0.0417 - accuracy: 0.9835 - val_loss: 0.0404 - val_accuracy: 0.9839\n",
            "\n",
            " ROC-AUC - epoch: 4 - score: 0.988121\n",
            "\n",
            "Epoch 00004: val_accuracy improved from 0.98356 to 0.98391, saving model to avcnn_model.hdf5\n",
            "Epoch 5/10\n",
            "143613/143613 [==============================] - 39s 269us/step - loss: 0.0406 - accuracy: 0.9838 - val_loss: 0.0399 - val_accuracy: 0.9842\n",
            "\n",
            " ROC-AUC - epoch: 5 - score: 0.987772\n",
            "\n",
            "Epoch 00005: val_accuracy improved from 0.98391 to 0.98419, saving model to avcnn_model.hdf5\n",
            "Epoch 6/10\n",
            "143613/143613 [==============================] - 39s 270us/step - loss: 0.0397 - accuracy: 0.9843 - val_loss: 0.0409 - val_accuracy: 0.9836\n",
            "\n",
            " ROC-AUC - epoch: 6 - score: 0.987763\n",
            "\n",
            "Epoch 00006: val_accuracy did not improve from 0.98419\n",
            "Epoch 7/10\n",
            "143613/143613 [==============================] - 39s 269us/step - loss: 0.0389 - accuracy: 0.9845 - val_loss: 0.0390 - val_accuracy: 0.9843\n",
            "\n",
            " ROC-AUC - epoch: 7 - score: 0.987908\n",
            "\n",
            "Epoch 00007: val_accuracy improved from 0.98419 to 0.98434, saving model to avcnn_model.hdf5\n",
            "Epoch 8/10\n",
            "143613/143613 [==============================] - 39s 270us/step - loss: 0.0380 - accuracy: 0.9846 - val_loss: 0.0400 - val_accuracy: 0.9837\n",
            "\n",
            " ROC-AUC - epoch: 8 - score: 0.988398\n",
            "\n",
            "Epoch 00008: val_accuracy did not improve from 0.98434\n",
            "Epoch 9/10\n",
            "143613/143613 [==============================] - 39s 270us/step - loss: 0.0370 - accuracy: 0.9850 - val_loss: 0.0395 - val_accuracy: 0.9841\n",
            "\n",
            " ROC-AUC - epoch: 9 - score: 0.988251\n",
            "\n",
            "Epoch 00009: val_accuracy did not improve from 0.98434\n",
            "Epoch 10/10\n",
            "143613/143613 [==============================] - 39s 270us/step - loss: 0.0362 - accuracy: 0.9852 - val_loss: 0.0401 - val_accuracy: 0.9839\n",
            "\n",
            " ROC-AUC - epoch: 10 - score: 0.987485\n",
            "\n",
            "Epoch 00010: val_accuracy did not improve from 0.98434\n",
            "CPU times: user 4min 23s, sys: 1min 45s, total: 6min 9s\n",
            "Wall time: 6min 50s\n"
          ],
          "name": "stdout"
        }
      ]
    },
    {
      "cell_type": "code",
      "metadata": {
        "id": "Nl5yEUI6zN1z",
        "colab_type": "code",
        "outputId": "12061027-dd41-4b9b-d110-5f7cded94172",
        "colab": {
          "base_uri": "https://localhost:8080/",
          "height": 297
        }
      },
      "source": [
        "get_plots(history)"
      ],
      "execution_count": 93,
      "outputs": [
        {
          "output_type": "display_data",
          "data": {
            "image/png": "[encoded data removed]",
            "text/plain": [
              "<Figure size 432x288 with 2 Axes>"
            ]
          },
          "metadata": {
            "tags": [],
            "needs_background": "light"
          }
        }
      ]
    },
    {
      "cell_type": "code",
      "metadata": {
        "id": "pIfdoYYv3bgj",
        "colab_type": "code",
        "outputId": "55f8c6bc-9f6f-4e9c-86f6-494e81b0b16a",
        "colab": {
          "base_uri": "https://localhost:8080/",
          "height": 33
        }
      },
      "source": [
        "model.load_weights(\"avcnn_model.hdf5\")\n",
        "y_pred = model.predict(x_test,batch_size=1024,verbose=1)"
      ],
      "execution_count": 94,
      "outputs": [
        {
          "output_type": "stream",
          "text": [
            "153164/153164 [==============================] - 11s 74us/step\n"
          ],
          "name": "stdout"
        }
      ]
    },
    {
      "cell_type": "code",
      "metadata": {
        "id": "HmJ768nH3rXj",
        "colab_type": "code",
        "outputId": "196d3101-7996-458e-ca62-0053ab9ec1b4",
        "colab": {
          "base_uri": "https://localhost:8080/",
          "height": 33
        }
      },
      "source": [
        "predict_scores(y_pred)"
      ],
      "execution_count": 95,
      "outputs": [
        {
          "output_type": "stream",
          "text": [
            "Test set score is 0.9834187159752039\n"
          ],
          "name": "stdout"
        }
      ]
    },
    {
      "cell_type": "code",
      "metadata": {
        "id": "tNm1iBE50mYr",
        "colab_type": "code",
        "outputId": "b19784c6-2fa0-4bc1-a240-466eaecad5ba",
        "colab": {
          "base_uri": "https://localhost:8080/",
          "height": 33
        }
      },
      "source": [
        "gc.collect()"
      ],
      "execution_count": 96,
      "outputs": [
        {
          "output_type": "execute_result",
          "data": {
            "text/plain": [
              "26045"
            ]
          },
          "metadata": {
            "tags": []
          },
          "execution_count": 96
        }
      ]
    },
    {
      "cell_type": "markdown",
      "metadata": {
        "id": "955Zwxv3OSCG",
        "colab_type": "text"
      },
      "source": [
        "### **Pooled RNN Complex Model**\n",
        "\n",
        "This is a deep neural architechture with multiple **Gated Recurrent Network (GRU)** layers.\n"
      ]
    },
    {
      "cell_type": "code",
      "metadata": {
        "id": "wtnxdPa6vAIo",
        "colab_type": "code",
        "colab": {}
      },
      "source": [
        "from keras.layers import Lambda\n",
        "def get_av_rnn():\n",
        "    recurrent_units = 60\n",
        "    model_input = Input(shape=(maxlen,))\n",
        "    embedding_layer = Embedding(num_words,\n",
        "                                    embed_size,\n",
        "                                    weights=[embedding_matrix],\n",
        "                                    input_length=maxlen,\n",
        "                                    trainable=False)\n",
        "    embedded_sequences = embedding_layer(model_input)\n",
        "    embedding_layer = SpatialDropout1D(0.25)(embedded_sequences)\n",
        "\n",
        "    rnn_1 = Bidirectional(GRU(recurrent_units, return_sequences=True))(embedding_layer)\n",
        "    rnn_2 = Bidirectional(GRU(recurrent_units, return_sequences=True))(rnn_1)\n",
        "    x = concatenate([rnn_1, rnn_2], axis=2)\n",
        "\n",
        "    last = Lambda(lambda t: t[:, -1], name='last')(x)\n",
        "    maxpool = GlobalMaxPooling1D()(x)\n",
        "    attn = AttentionWeightedAverage()(x)\n",
        "    average = GlobalAveragePooling1D()(x)\n",
        "\n",
        "    all_views = concatenate([last, maxpool, average, attn], axis=1)\n",
        "    x = Dropout(0.5)(all_views)\n",
        "    x = Dense(144, activation=\"relu\")(x)\n",
        "    output_layer = Dense(units=6, activation=\"sigmoid\")(x)\n",
        "    model = Model(inputs=model_input, outputs=output_layer)\n",
        "    adam_optimizer = optimizers.Adam(lr=1e-3, decay=1e-6, clipvalue=5)\n",
        "    model.compile(loss='binary_crossentropy', optimizer=adam_optimizer, metrics=['accuracy'])\n",
        "    return model"
      ],
      "execution_count": 0,
      "outputs": []
    },
    {
      "cell_type": "code",
      "metadata": {
        "id": "4KD5UfgVmb1c",
        "colab_type": "code",
        "colab": {}
      },
      "source": [
        "batch_size = 256\n",
        "epochs = 5\n",
        "\n",
        "model = get_av_rnn()\n",
        "\n",
        "# Use stratified sampling again\n",
        "X_tra, y_tra, X_val, y_val = iterative_train_test_split(x_train, y_train, test_size=0.1)"
      ],
      "execution_count": 0,
      "outputs": []
    },
    {
      "cell_type": "code",
      "metadata": {
        "id": "pFTi1jz8nf7o",
        "colab_type": "code",
        "colab": {}
      },
      "source": [
        "checkpoint = ModelCheckpoint(\"avrnn_model.hdf5\", monitor='val_accuracy', verbose=1, save_best_only=True, mode='max')\n",
        "early = EarlyStopping(monitor=\"val_accuracy\", mode=\"max\", patience=5)\n",
        "ra_val = RocAucEvaluation(validation_data=(X_val, y_val), interval = 1)\n",
        "callbacks_list = [ra_val,checkpoint, early]"
      ],
      "execution_count": 0,
      "outputs": []
    },
    {
      "cell_type": "code",
      "metadata": {
        "id": "FtAZV6kUnmCA",
        "colab_type": "code",
        "outputId": "afdfe5cc-a9c2-4dc6-c04b-510e670b66af",
        "colab": {
          "base_uri": "https://localhost:8080/",
          "height": 667
        }
      },
      "source": [
        "model.summary()"
      ],
      "execution_count": 105,
      "outputs": [
        {
          "output_type": "stream",
          "text": [
            "Model: \"model_6\"\n",
            "__________________________________________________________________________________________________\n",
            "Layer (type)                    Output Shape         Param #     Connected to                     \n",
            "==================================================================================================\n",
            "input_9 (InputLayer)            (None, 200)          0                                            \n",
            "__________________________________________________________________________________________________\n",
            "embedding_9 (Embedding)         (None, 200, 300)     30000000    input_9[0][0]                    \n",
            "__________________________________________________________________________________________________\n",
            "spatial_dropout1d_7 (SpatialDro (None, 200, 300)     0           embedding_9[0][0]                \n",
            "__________________________________________________________________________________________________\n",
            "bidirectional_8 (Bidirectional) (None, 200, 120)     129960      spatial_dropout1d_7[0][0]        \n",
            "__________________________________________________________________________________________________\n",
            "bidirectional_9 (Bidirectional) (None, 200, 120)     65160       bidirectional_8[0][0]            \n",
            "__________________________________________________________________________________________________\n",
            "concatenate_9 (Concatenate)     (None, 200, 240)     0           bidirectional_8[0][0]            \n",
            "                                                                 bidirectional_9[0][0]            \n",
            "__________________________________________________________________________________________________\n",
            "last (Lambda)                   (None, 240)          0           concatenate_9[0][0]              \n",
            "__________________________________________________________________________________________________\n",
            "global_max_pooling1d_10 (Global (None, 240)          0           concatenate_9[0][0]              \n",
            "__________________________________________________________________________________________________\n",
            "global_average_pooling1d_9 (Glo (None, 240)          0           concatenate_9[0][0]              \n",
            "__________________________________________________________________________________________________\n",
            "attention_weighted_average_6 (A (None, 240)          240         concatenate_9[0][0]              \n",
            "__________________________________________________________________________________________________\n",
            "concatenate_10 (Concatenate)    (None, 960)          0           last[0][0]                       \n",
            "                                                                 global_max_pooling1d_10[0][0]    \n",
            "                                                                 global_average_pooling1d_9[0][0] \n",
            "                                                                 attention_weighted_average_6[0][0\n",
            "__________________________________________________________________________________________________\n",
            "dropout_4 (Dropout)             (None, 960)          0           concatenate_10[0][0]             \n",
            "__________________________________________________________________________________________________\n",
            "dense_9 (Dense)                 (None, 144)          138384      dropout_4[0][0]                  \n",
            "__________________________________________________________________________________________________\n",
            "dense_10 (Dense)                (None, 6)            870         dense_9[0][0]                    \n",
            "==================================================================================================\n",
            "Total params: 30,334,614\n",
            "Trainable params: 334,614\n",
            "Non-trainable params: 30,000,000\n",
            "__________________________________________________________________________________________________\n"
          ],
          "name": "stdout"
        }
      ]
    },
    {
      "cell_type": "code",
      "metadata": {
        "id": "pisOc-PwnpT1",
        "colab_type": "code",
        "outputId": "cc8fe5cd-5c7f-4207-bcde-5e5e2dd36a43",
        "colab": {
          "base_uri": "https://localhost:8080/",
          "height": 553
        }
      },
      "source": [
        "%%time\n",
        "history = model.fit(X_tra, y_tra, batch_size=batch_size, epochs=epochs, validation_data=(X_val, y_val),callbacks = callbacks_list,verbose=1)"
      ],
      "execution_count": 106,
      "outputs": [
        {
          "output_type": "stream",
          "text": [
            "Train on 143613 samples, validate on 15958 samples\n",
            "Epoch 1/5\n",
            "143613/143613 [==============================] - 772s 5ms/step - loss: 0.0623 - accuracy: 0.9783 - val_loss: 0.0435 - val_accuracy: 0.9831\n",
            "\n",
            " ROC-AUC - epoch: 1 - score: 0.982639\n",
            "\n",
            "Epoch 00001: val_accuracy improved from -inf to 0.98311, saving model to avrnn_model.hdf5\n",
            "Epoch 2/5\n",
            "143613/143613 [==============================] - 769s 5ms/step - loss: 0.0452 - accuracy: 0.9827 - val_loss: 0.0413 - val_accuracy: 0.9840\n",
            "\n",
            " ROC-AUC - epoch: 2 - score: 0.987721\n",
            "\n",
            "Epoch 00002: val_accuracy improved from 0.98311 to 0.98403, saving model to avrnn_model.hdf5\n",
            "Epoch 3/5\n",
            "143613/143613 [==============================] - 771s 5ms/step - loss: 0.0424 - accuracy: 0.9835 - val_loss: 0.0398 - val_accuracy: 0.9844\n",
            "\n",
            " ROC-AUC - epoch: 3 - score: 0.989199\n",
            "\n",
            "Epoch 00003: val_accuracy improved from 0.98403 to 0.98442, saving model to avrnn_model.hdf5\n",
            "Epoch 4/5\n",
            "143613/143613 [==============================] - 767s 5ms/step - loss: 0.0404 - accuracy: 0.9841 - val_loss: 0.0394 - val_accuracy: 0.9844\n",
            "\n",
            " ROC-AUC - epoch: 4 - score: 0.990015\n",
            "\n",
            "Epoch 00004: val_accuracy improved from 0.98442 to 0.98443, saving model to avrnn_model.hdf5\n",
            "Epoch 5/5\n",
            "143613/143613 [==============================] - 765s 5ms/step - loss: 0.0395 - accuracy: 0.9845 - val_loss: 0.0397 - val_accuracy: 0.9841\n",
            "\n",
            " ROC-AUC - epoch: 5 - score: 0.990153\n",
            "\n",
            "Epoch 00005: val_accuracy did not improve from 0.98443\n",
            "CPU times: user 2h 27min 38s, sys: 22min 59s, total: 2h 50min 38s\n",
            "Wall time: 1h 9min 35s\n"
          ],
          "name": "stdout"
        }
      ]
    },
    {
      "cell_type": "code",
      "metadata": {
        "id": "pifYwvzWnv_Y",
        "colab_type": "code",
        "outputId": "c83ada0a-57a9-46bf-fd43-4beb5b6289af",
        "colab": {
          "base_uri": "https://localhost:8080/",
          "height": 297
        }
      },
      "source": [
        "get_plots(history)"
      ],
      "execution_count": 107,
      "outputs": [
        {
          "output_type": "display_data",
          "data": {
            "image/png": "[encoded data removed]",
            "text/plain": [
              "<Figure size 432x288 with 2 Axes>"
            ]
          },
          "metadata": {
            "tags": [],
            "needs_background": "light"
          }
        }
      ]
    },
    {
      "cell_type": "code",
      "metadata": {
        "id": "OPN5Bx4voF3b",
        "colab_type": "code",
        "outputId": "a39767ac-60ec-40b2-fb64-d28ea23b061e",
        "colab": {
          "base_uri": "https://localhost:8080/",
          "height": 33
        }
      },
      "source": [
        "model.load_weights(\"avrnn_model.hdf5\")\n",
        "y_pred = model.predict(x_test,batch_size=1024,verbose=1)"
      ],
      "execution_count": 108,
      "outputs": [
        {
          "output_type": "stream",
          "text": [
            "153164/153164 [==============================] - 20s 132us/step\n"
          ],
          "name": "stdout"
        }
      ]
    },
    {
      "cell_type": "code",
      "metadata": {
        "id": "Eq_joeM5oMFv",
        "colab_type": "code",
        "outputId": "0c8f15bd-dd41-4276-cd2c-a291156c540f",
        "colab": {
          "base_uri": "https://localhost:8080/",
          "height": 33
        }
      },
      "source": [
        "predict_scores(y_pred)"
      ],
      "execution_count": 109,
      "outputs": [
        {
          "output_type": "stream",
          "text": [
            "Test set score is 0.983716751044319\n"
          ],
          "name": "stdout"
        }
      ]
    },
    {
      "cell_type": "code",
      "metadata": {
        "id": "zm4WiAUdoRLG",
        "colab_type": "code",
        "outputId": "29cdf1f9-a095-456a-8a94-f6626190e1f8",
        "colab": {
          "base_uri": "https://localhost:8080/",
          "height": 33
        }
      },
      "source": [
        "gc.collect()"
      ],
      "execution_count": 110,
      "outputs": [
        {
          "output_type": "execute_result",
          "data": {
            "text/plain": [
              "23227"
            ]
          },
          "metadata": {
            "tags": []
          },
          "execution_count": 110
        }
      ]
    },
    {
      "cell_type": "markdown",
      "metadata": {
        "id": "mr4tQ8T5KuGt",
        "colab_type": "text"
      },
      "source": [
        "### **Deep CNN with K-Max Pooling**\n",
        "\n",
        "As per [A Convolutional Neural Network for Modelling Sentences](https://arxiv.org/pdf/1404.2188.pdf), k-Max Pooling is a pooling operation that is a generalisation of the max pooling over the time dimension used in the Max-TDNN sentence model and different from the local max pooling operations applied in a convolutional network for object recognition. Here we implement a deep CNN network with K-Max pooling.\n",
        "\n",
        "![image](https://drive.google.com/open?id=11RzC6SopVgp6_d09q-pJjwTfh8iR6x6G)"
      ]
    },
    {
      "cell_type": "code",
      "metadata": {
        "id": "5oRgydKcWDUm",
        "colab_type": "code",
        "colab": {}
      },
      "source": [
        "class KMaxPooling(Layer):\n",
        "    \"\"\"\n",
        "    K-max pooling layer that extracts the k-highest activations from a sequence (2nd dimension).\n",
        "    TensorFlow backend.\n",
        "    \"\"\"\n",
        "\n",
        "    def __init__(self, k=1, **kwargs):\n",
        "        super().__init__(**kwargs)\n",
        "        self.input_spec = InputSpec(ndim=3)\n",
        "        self.k = k\n",
        "\n",
        "    def compute_output_shape(self, input_shape):\n",
        "        return (input_shape[0], (input_shape[2] * self.k))\n",
        "\n",
        "    def call(self, inputs):\n",
        "        # swap last two dimensions since top_k will be applied along the last dimension\n",
        "        shifted_input = tf.transpose(inputs, [0, 2, 1])\n",
        "\n",
        "        # extract top_k, returns two tensors [values, indices]\n",
        "        top_k = tf.nn.top_k(shifted_input, k=self.k, sorted=True, name=None)[0]\n",
        "\n",
        "        # return flattened output\n",
        "        return Flatten()(top_k)"
      ],
      "execution_count": 0,
      "outputs": []
    },
    {
      "cell_type": "code",
      "metadata": {
        "id": "nLDtb8JHARF-",
        "colab_type": "code",
        "colab": {}
      },
      "source": [
        "def get_kmax_text_cnn():\n",
        "    embedding_layer = Embedding(num_words,\n",
        "                                    embed_size,\n",
        "                                    weights=[embedding_matrix],\n",
        "                                    input_length=maxlen,\n",
        "                                    trainable=False)\n",
        "\n",
        "    filter_nums = 180\n",
        "    drop = 0.6\n",
        "\n",
        "    model_input = Input(shape=(maxlen,), dtype='int32')\n",
        "    embedded_sequences = embedding_layer(model_input)\n",
        "    embedded_sequences = SpatialDropout1D(0.2)(embedded_sequences)\n",
        "\n",
        "    conv_0 = Conv1D(filter_nums, 1, kernel_initializer=\"normal\", padding=\"valid\", activation=\"relu\")(embedded_sequences)\n",
        "    conv_1 = Conv1D(filter_nums, 2, kernel_initializer=\"normal\", padding=\"valid\", activation=\"relu\")(embedded_sequences)\n",
        "    conv_2 = Conv1D(filter_nums, 3, kernel_initializer=\"normal\", padding=\"valid\", activation=\"relu\")(embedded_sequences)\n",
        "    conv_3 = Conv1D(filter_nums, 4, kernel_initializer=\"normal\", padding=\"valid\", activation=\"relu\")(embedded_sequences)\n",
        "\n",
        "    maxpool_0 = KMaxPooling(k=3)(conv_0)\n",
        "    maxpool_1 = KMaxPooling(k=3)(conv_1)\n",
        "    maxpool_2 = KMaxPooling(k=3)(conv_2)\n",
        "    maxpool_3 = KMaxPooling(k=3)(conv_3)\n",
        "\n",
        "    merged_tensor = concatenate([maxpool_0, maxpool_1, maxpool_2, maxpool_3], axis=1)\n",
        "    output = Dropout(drop)(merged_tensor)\n",
        "    output = Dense(units=144, activation='relu')(output)\n",
        "    output = Dense(units=6, activation='sigmoid')(output)\n",
        "\n",
        "    model = Model(inputs=model_input, outputs=output)\n",
        "    adam_optimizer = optimizers.Adam(lr=1e-3, decay=1e-7)\n",
        "    model.compile(loss='binary_crossentropy', optimizer=adam_optimizer, metrics=['accuracy'])\n",
        "    return model"
      ],
      "execution_count": 0,
      "outputs": []
    },
    {
      "cell_type": "code",
      "metadata": {
        "id": "JyDfzanm3JJB",
        "colab_type": "code",
        "colab": {}
      },
      "source": [
        "batch_size = 256\n",
        "epochs = 10\n",
        "\n",
        "model = get_kmax_text_cnn()\n",
        "\n",
        "# Use stratified sampling again\n",
        "X_tra, y_tra, X_val, y_val = iterative_train_test_split(x_train, y_train, test_size=0.1)"
      ],
      "execution_count": 0,
      "outputs": []
    },
    {
      "cell_type": "code",
      "metadata": {
        "id": "6tDFw2gK3Syq",
        "colab_type": "code",
        "colab": {}
      },
      "source": [
        "checkpoint = ModelCheckpoint(\"kmaxcnn_model.hdf5\", monitor='val_accuracy', verbose=1, save_best_only=True, mode='max')\n",
        "early = EarlyStopping(monitor=\"val_accuracy\", mode=\"max\", patience=5)\n",
        "ra_val = RocAucEvaluation(validation_data=(X_val, y_val), interval = 1)\n",
        "callbacks_list = [ra_val,checkpoint, early]"
      ],
      "execution_count": 0,
      "outputs": []
    },
    {
      "cell_type": "code",
      "metadata": {
        "id": "PcoGfX0M3akU",
        "colab_type": "code",
        "outputId": "ead4dd9d-d03e-4be2-8b6d-3397a1cb3cac",
        "colab": {
          "base_uri": "https://localhost:8080/",
          "height": 683
        }
      },
      "source": [
        "model.summary()"
      ],
      "execution_count": 115,
      "outputs": [
        {
          "output_type": "stream",
          "text": [
            "Model: \"model_7\"\n",
            "__________________________________________________________________________________________________\n",
            "Layer (type)                    Output Shape         Param #     Connected to                     \n",
            "==================================================================================================\n",
            "input_10 (InputLayer)           (None, 200)          0                                            \n",
            "__________________________________________________________________________________________________\n",
            "embedding_10 (Embedding)        (None, 200, 300)     30000000    input_10[0][0]                   \n",
            "__________________________________________________________________________________________________\n",
            "spatial_dropout1d_8 (SpatialDro (None, 200, 300)     0           embedding_10[0][0]               \n",
            "__________________________________________________________________________________________________\n",
            "conv1d_7 (Conv1D)               (None, 200, 180)     54180       spatial_dropout1d_8[0][0]        \n",
            "__________________________________________________________________________________________________\n",
            "conv1d_8 (Conv1D)               (None, 199, 180)     108180      spatial_dropout1d_8[0][0]        \n",
            "__________________________________________________________________________________________________\n",
            "conv1d_9 (Conv1D)               (None, 198, 180)     162180      spatial_dropout1d_8[0][0]        \n",
            "__________________________________________________________________________________________________\n",
            "conv1d_10 (Conv1D)              (None, 197, 180)     216180      spatial_dropout1d_8[0][0]        \n",
            "__________________________________________________________________________________________________\n",
            "k_max_pooling_1 (KMaxPooling)   (None, 540)          0           conv1d_7[0][0]                   \n",
            "__________________________________________________________________________________________________\n",
            "k_max_pooling_2 (KMaxPooling)   (None, 540)          0           conv1d_8[0][0]                   \n",
            "__________________________________________________________________________________________________\n",
            "k_max_pooling_3 (KMaxPooling)   (None, 540)          0           conv1d_9[0][0]                   \n",
            "__________________________________________________________________________________________________\n",
            "k_max_pooling_4 (KMaxPooling)   (None, 540)          0           conv1d_10[0][0]                  \n",
            "__________________________________________________________________________________________________\n",
            "concatenate_11 (Concatenate)    (None, 2160)         0           k_max_pooling_1[0][0]            \n",
            "                                                                 k_max_pooling_2[0][0]            \n",
            "                                                                 k_max_pooling_3[0][0]            \n",
            "                                                                 k_max_pooling_4[0][0]            \n",
            "__________________________________________________________________________________________________\n",
            "dropout_5 (Dropout)             (None, 2160)         0           concatenate_11[0][0]             \n",
            "__________________________________________________________________________________________________\n",
            "dense_11 (Dense)                (None, 144)          311184      dropout_5[0][0]                  \n",
            "__________________________________________________________________________________________________\n",
            "dense_12 (Dense)                (None, 6)            870         dense_11[0][0]                   \n",
            "==================================================================================================\n",
            "Total params: 30,852,774\n",
            "Trainable params: 852,774\n",
            "Non-trainable params: 30,000,000\n",
            "__________________________________________________________________________________________________\n"
          ],
          "name": "stdout"
        }
      ]
    },
    {
      "cell_type": "code",
      "metadata": {
        "id": "0wiRgYV_3kx0",
        "colab_type": "code",
        "outputId": "028a6e94-20e0-48ff-df98-bae1e79a8358",
        "colab": {
          "base_uri": "https://localhost:8080/",
          "height": 1000
        }
      },
      "source": [
        "%%time\n",
        "history = model.fit(X_tra, y_tra, batch_size=batch_size, epochs=epochs, validation_data=(X_val, y_val),callbacks = callbacks_list,verbose=1)"
      ],
      "execution_count": 116,
      "outputs": [
        {
          "output_type": "stream",
          "text": [
            "Train on 143613 samples, validate on 15958 samples\n",
            "Epoch 1/10\n",
            "143613/143613 [==============================] - 122s 851us/step - loss: 0.0665 - accuracy: 0.9775 - val_loss: 0.0458 - val_accuracy: 0.9822\n",
            "\n",
            " ROC-AUC - epoch: 1 - score: 0.981390\n",
            "\n",
            "Epoch 00001: val_accuracy improved from -inf to 0.98225, saving model to kmaxcnn_model.hdf5\n",
            "Epoch 2/10\n",
            "143613/143613 [==============================] - 121s 845us/step - loss: 0.0474 - accuracy: 0.9819 - val_loss: 0.0425 - val_accuracy: 0.9832\n",
            "\n",
            " ROC-AUC - epoch: 2 - score: 0.986898\n",
            "\n",
            "Epoch 00002: val_accuracy improved from 0.98225 to 0.98325, saving model to kmaxcnn_model.hdf5\n",
            "Epoch 3/10\n",
            "143613/143613 [==============================] - 121s 845us/step - loss: 0.0441 - accuracy: 0.9830 - val_loss: 0.0407 - val_accuracy: 0.9836\n",
            "\n",
            " ROC-AUC - epoch: 3 - score: 0.988519\n",
            "\n",
            "Epoch 00003: val_accuracy improved from 0.98325 to 0.98358, saving model to kmaxcnn_model.hdf5\n",
            "Epoch 4/10\n",
            "143613/143613 [==============================] - 121s 845us/step - loss: 0.0421 - accuracy: 0.9834 - val_loss: 0.0403 - val_accuracy: 0.9838\n",
            "\n",
            " ROC-AUC - epoch: 4 - score: 0.988768\n",
            "\n",
            "Epoch 00004: val_accuracy improved from 0.98358 to 0.98377, saving model to kmaxcnn_model.hdf5\n",
            "Epoch 5/10\n",
            "143613/143613 [==============================] - 121s 845us/step - loss: 0.0404 - accuracy: 0.9841 - val_loss: 0.0397 - val_accuracy: 0.9840\n",
            "\n",
            " ROC-AUC - epoch: 5 - score: 0.989022\n",
            "\n",
            "Epoch 00005: val_accuracy improved from 0.98377 to 0.98396, saving model to kmaxcnn_model.hdf5\n",
            "Epoch 6/10\n",
            "143613/143613 [==============================] - 121s 843us/step - loss: 0.0393 - accuracy: 0.9843 - val_loss: 0.0397 - val_accuracy: 0.9842\n",
            "\n",
            " ROC-AUC - epoch: 6 - score: 0.988897\n",
            "\n",
            "Epoch 00006: val_accuracy improved from 0.98396 to 0.98421, saving model to kmaxcnn_model.hdf5\n",
            "Epoch 7/10\n",
            "143613/143613 [==============================] - 121s 844us/step - loss: 0.0383 - accuracy: 0.9847 - val_loss: 0.0403 - val_accuracy: 0.9839\n",
            "\n",
            " ROC-AUC - epoch: 7 - score: 0.989215\n",
            "\n",
            "Epoch 00007: val_accuracy did not improve from 0.98421\n",
            "Epoch 8/10\n",
            "143613/143613 [==============================] - 121s 844us/step - loss: 0.0373 - accuracy: 0.9850 - val_loss: 0.0392 - val_accuracy: 0.9843\n",
            "\n",
            " ROC-AUC - epoch: 8 - score: 0.989739\n",
            "\n",
            "Epoch 00008: val_accuracy improved from 0.98421 to 0.98426, saving model to kmaxcnn_model.hdf5\n",
            "Epoch 9/10\n",
            "143613/143613 [==============================] - 121s 844us/step - loss: 0.0361 - accuracy: 0.9853 - val_loss: 0.0396 - val_accuracy: 0.9839\n",
            "\n",
            " ROC-AUC - epoch: 9 - score: 0.989360\n",
            "\n",
            "Epoch 00009: val_accuracy did not improve from 0.98426\n",
            "Epoch 10/10\n",
            "143613/143613 [==============================] - 121s 844us/step - loss: 0.0354 - accuracy: 0.9857 - val_loss: 0.0399 - val_accuracy: 0.9840\n",
            "\n",
            " ROC-AUC - epoch: 10 - score: 0.989330\n",
            "\n",
            "Epoch 00010: val_accuracy did not improve from 0.98426\n",
            "CPU times: user 4min 38s, sys: 1min 31s, total: 6min 10s\n",
            "Wall time: 22min 12s\n"
          ],
          "name": "stdout"
        }
      ]
    },
    {
      "cell_type": "code",
      "metadata": {
        "id": "rbqHBRMm3tLg",
        "colab_type": "code",
        "outputId": "4f77149d-8bbb-42e8-c9d4-0031e01559c6",
        "colab": {
          "base_uri": "https://localhost:8080/",
          "height": 297
        }
      },
      "source": [
        "get_plots(history)"
      ],
      "execution_count": 117,
      "outputs": [
        {
          "output_type": "display_data",
          "data": {
            "image/png": "[encoded data removed]",
            "text/plain": [
              "<Figure size 432x288 with 2 Axes>"
            ]
          },
          "metadata": {
            "tags": [],
            "needs_background": "light"
          }
        }
      ]
    },
    {
      "cell_type": "code",
      "metadata": {
        "id": "dmqwtMQ930Bl",
        "colab_type": "code",
        "outputId": "e188a059-1022-4e9c-c279-bfbb52dfb4ab",
        "colab": {
          "base_uri": "https://localhost:8080/",
          "height": 33
        }
      },
      "source": [
        "model.load_weights(\"kmaxcnn_model.hdf5\")\n",
        "y_pred = model.predict(x_test,batch_size=1024,verbose=1)"
      ],
      "execution_count": 118,
      "outputs": [
        {
          "output_type": "stream",
          "text": [
            "153164/153164 [==============================] - 103s 673us/step\n"
          ],
          "name": "stdout"
        }
      ]
    },
    {
      "cell_type": "code",
      "metadata": {
        "id": "fImeS0Iu36KA",
        "colab_type": "code",
        "outputId": "640b4c14-6c2b-4d1e-ed34-d4dc40035ff2",
        "colab": {
          "base_uri": "https://localhost:8080/",
          "height": 33
        }
      },
      "source": [
        "predict_scores(y_pred)"
      ],
      "execution_count": 119,
      "outputs": [
        {
          "output_type": "stream",
          "text": [
            "Test set score is 0.9840017283377253\n"
          ],
          "name": "stdout"
        }
      ]
    },
    {
      "cell_type": "code",
      "metadata": {
        "id": "dbUebta54JF9",
        "colab_type": "code",
        "outputId": "d3138967-8573-4171-a0bc-be03f7ecf77d",
        "colab": {
          "base_uri": "https://localhost:8080/",
          "height": 33
        }
      },
      "source": [
        "gc.collect()"
      ],
      "execution_count": 120,
      "outputs": [
        {
          "output_type": "execute_result",
          "data": {
            "text/plain": [
              "28089"
            ]
          },
          "metadata": {
            "tags": []
          },
          "execution_count": 120
        }
      ]
    },
    {
      "cell_type": "markdown",
      "metadata": {
        "id": "Rvc0d6sIXYU2",
        "colab_type": "text"
      },
      "source": [
        "### **Results with Fast-Text Embeddings**\n",
        "\n",
        "After first round of experiment, we take a look at the performance of the models. We used **iterative_train_test_split** from the scikit-multilearn package to keep the toxicity labels evenly distributed between training and validation sets. We used the the custom function to calclated ROC-AUC Score on the test data set.\n",
        "\n",
        "Here's our results:-\n",
        "\n",
        "\n",
        "| Model               | Test-set ROC AUC score |\n",
        "|---------------------|------------------------|\n",
        "| Logistic Regression | 0.9765                 |\n",
        "| Support Vector Machine          | 0.9728                |\n",
        "| Single Bi-LSTM        | 0.9825                 |\n",
        "| Single GRU          | 0.9837                |\n",
        "| GRU with CNN       | 0.9831                 |\n",
        "| Deep CNN           | 0.9834                 |\n",
        "| Deep RNN          | 0.9837                 |\n",
        "| Deep CNN with KMax Pooling          | 0.9842                 |\n",
        "\n",
        "\n",
        "\n",
        "Time Performance\n",
        "\n",
        "| Model               | Hardware| Epochs |Time |\n",
        "|---------------------|------------------------|------------------------|------------------------|\n",
        "| Logistic Regression | CPU     |              | 12 mins|\n",
        "| Support Vector Machine          | CPU      |            | 14 mins|\n",
        "| Single Bi-LSTM        | GPU        |     3      | 34 mins|\n",
        "| Single GRU           | GPU           |   3   |   1hr 1min  | \n",
        "| GRU with CNN        | GPU       |   3       |     |\n",
        "| Deep CNN           |GPU         |     10    |    |\n",
        "| Deep RNN        | GPU        |     3     |     |\n",
        "| Deep CNN with KMax Pooling          | GPU        |     10     |     |\n",
        "\n",
        "What we can observe is the neural newtork models performed much better than the benchmark model.\n",
        "\n",
        "For the second round of experminents, we will select the Top four Performing models from the First Round.\n",
        "\n",
        "\n",
        "\n",
        "\n",
        "\n",
        "*   GRU with CNN\n",
        "*   Deep CNN\n",
        "*   Deep RNN\n",
        "*   Deep CNN with KMax Pooling\n",
        "\n",
        "\n",
        "\n",
        "\n",
        "\n"
      ]
    },
    {
      "cell_type": "markdown",
      "metadata": {
        "id": "YYGqi-Yd4XDB",
        "colab_type": "text"
      },
      "source": [
        "## **A Little More Experminent**\n",
        "\n",
        "In this section, we will utilise the top four models from previous round and will try to improve our performance.\n",
        "\n",
        "We will perform three methodologies here:-\n",
        "\n",
        "\n",
        "*   **Diversify** Word Embeddings\n",
        "*   **Re-train** using new diversified Word Embeddings\n",
        "* **Ensemble** the top two models.\n",
        "\n"
      ]
    },
    {
      "cell_type": "markdown",
      "metadata": {
        "id": "-4sTSm_rRbNr",
        "colab_type": "text"
      },
      "source": [
        "### **Diversify Pre-trained Word Embeddings**\n",
        "\n",
        "We will use another pre-trained Word Embedding [GloVe: Global Vectors for Word Representation](https://nlp.stanford.edu/projects/glove/) - Glove Twitter - 2B tweets, 27B tokens, 1.2M vocab, uncased, 25d, 50d, 100d, & 200d vectors. You can download it [here](http://nlp.stanford.edu/data/glove.840B.300d.zip) and read about it in the original paper [GloVe: Global Vectors for Word Representation](https://nlp.stanford.edu/pubs/glove.pdf)\n",
        "\n",
        "**GloVe** is an unsupervised learning algorithm for obtaining vector representations for words. Training is performed on aggregated global word-word co-occurrence statistics from a corpus, and the resulting representations showcase interesting linear substructures of the word vector space.\n",
        "\n",
        "Sp, here we will use both a **GloVe** vector and a **FastText** together. "
      ]
    },
    {
      "cell_type": "code",
      "metadata": {
        "id": "rsxajSBD4Oez",
        "colab_type": "code",
        "outputId": "b7ef1477-0dfc-443d-ebbb-3b2ed2e413f9",
        "colab": {
          "base_uri": "https://localhost:8080/",
          "height": 33
        }
      },
      "source": [
        "!ls \"/content/drive/My Drive/toxicity-classification/embedding/\""
      ],
      "execution_count": 121,
      "outputs": [
        {
          "output_type": "stream",
          "text": [
            "crawl-300d-2M.vec  glove.twitter.27B.200d.txt\n"
          ],
          "name": "stdout"
        }
      ]
    },
    {
      "cell_type": "code",
      "metadata": {
        "id": "_gD-nRtU4dki",
        "colab_type": "code",
        "colab": {}
      },
      "source": [
        "def get_emdbeddings_index(EMBEDDING_FILE):\n",
        "    embeddings_index = {}\n",
        "    with open(EMBEDDING_FILE, encoding='utf8') as f:\n",
        "        for line in f:\n",
        "            values = line.rstrip().rsplit(' ')\n",
        "            word = values[0]\n",
        "            coefs = np.asarray(values[1:], dtype='float32')\n",
        "            embeddings_index[word] = coefs\n",
        "            gc.collect()\n",
        "    return embeddings_index"
      ],
      "execution_count": 0,
      "outputs": []
    },
    {
      "cell_type": "code",
      "metadata": {
        "id": "ZuAKE8r_Gq8H",
        "colab_type": "code",
        "outputId": "9e37582e-12c8-486b-d82a-71576b2ca094",
        "colab": {
          "base_uri": "https://localhost:8080/",
          "height": 50
        }
      },
      "source": [
        "%%time\n",
        "# Load the FastText Web Crawl vectors and Glove vectors\n",
        "EMBEDDING_FILE_FASTTEXT='/content/drive/My Drive/toxicity-classification/embedding//crawl-300d-2M.vec'\n",
        "EMBEDDING_FILE_GLOVE='/content/drive/My Drive/toxicity-classification/embedding/glove.twitter.27B.200d.txt'\n",
        "gc.collect()\n",
        "\n",
        "def get_coefs(word, *arr): return word, np.asarray(arr, dtype='float32')\n",
        "\n",
        "embeddings_index_ft = dict(get_coefs(*o.rstrip().rsplit(' ')) for o in open(EMBEDDING_FILE_FASTTEXT,encoding='utf-8'))\n",
        "gc.collect()\n",
        "embeddings_index_tw = dict(get_coefs(*o.strip().split()) for o in open(EMBEDDING_FILE_GLOVE,encoding='utf-8'))\n",
        "gc.collect()\n"
      ],
      "execution_count": 123,
      "outputs": [
        {
          "output_type": "stream",
          "text": [
            "CPU times: user 3min 7s, sys: 3.34 s, total: 3min 10s\n",
            "Wall time: 3min 16s\n"
          ],
          "name": "stdout"
        }
      ]
    },
    {
      "cell_type": "code",
      "metadata": {
        "id": "T9-G0vBwGsNn",
        "colab_type": "code",
        "colab": {
          "base_uri": "https://localhost:8080/",
          "height": 102
        },
        "outputId": "9a7e2d74-f44b-4751-8c3b-719adac8731d"
      },
      "source": [
        "%%time\n",
        "import gensim\n",
        "spell_model = gensim.models.KeyedVectors.load_word2vec_format(EMBEDDING_FILE_FASTTEXT)"
      ],
      "execution_count": 124,
      "outputs": [
        {
          "output_type": "stream",
          "text": [
            "/usr/local/lib/python3.6/dist-packages/smart_open/smart_open_lib.py:253: UserWarning: This function is deprecated, use smart_open.open instead. See the migration notes for details: https://github.com/RaRe-Technologies/smart_open/blob/master/README.rst#migrating-to-the-new-open-function\n",
            "  'See the migration notes for details: %s' % _MIGRATION_NOTES_URL\n"
          ],
          "name": "stderr"
        },
        {
          "output_type": "stream",
          "text": [
            "CPU times: user 8min 1s, sys: 1.11 s, total: 8min 3s\n",
            "Wall time: 8min 3s\n"
          ],
          "name": "stdout"
        }
      ]
    },
    {
      "cell_type": "code",
      "metadata": {
        "id": "ZUeXoA1IGvkS",
        "colab_type": "code",
        "colab": {
          "base_uri": "https://localhost:8080/",
          "height": 50
        },
        "outputId": "91faa844-b205-4d9c-a425-2bd2c7668648"
      },
      "source": [
        "%%time\n",
        "# This code is  based on: Spellchecker using Word2vec by CPMP\n",
        "# https://www.kaggle.com/cpmpml/spell-checker-using-word2vec\n",
        "\n",
        "words = spell_model.index2word\n",
        "\n",
        "w_rank = {}\n",
        "for i,word in enumerate(words):\n",
        "    w_rank[word] = i\n",
        "\n",
        "WORDS = w_rank\n",
        "\n",
        "# Use fast text as vocabulary\n",
        "def words(text): return re.findall(r'\\w+', text.lower())\n",
        "\n",
        "def P(word): \n",
        "    \"Probability of `word`.\"\n",
        "    # use inverse of rank as proxy\n",
        "    # returns 0 if the word isn't in the dictionary\n",
        "    return - WORDS.get(word, 0)\n",
        "\n",
        "def correction(word): \n",
        "    \"Most probable spelling correction for word.\"\n",
        "    return max(candidates(word), key=P)\n",
        "\n",
        "def candidates(word): \n",
        "    \"Generate possible spelling corrections for word.\"\n",
        "    return (known([word]) or known(edits1(word)) or known(edits2(word)) or [word])\n",
        "\n",
        "def known(words): \n",
        "    \"The subset of `words` that appear in the dictionary of WORDS.\"\n",
        "    return set(w for w in words if w in WORDS)\n",
        "\n",
        "def edits1(word):\n",
        "    \"All edits that are one edit away from `word`.\"\n",
        "    letters    = 'abcdefghijklmnopqrstuvwxyz'\n",
        "    splits     = [(word[:i], word[i:])    for i in range(len(word) + 1)]\n",
        "    deletes    = [L + R[1:]               for L, R in splits if R]\n",
        "    transposes = [L + R[1] + R[0] + R[2:] for L, R in splits if len(R)>1]\n",
        "    replaces   = [L + c + R[1:]           for L, R in splits if R for c in letters]\n",
        "    inserts    = [L + c + R               for L, R in splits for c in letters]\n",
        "    return set(deletes + transposes + replaces + inserts)\n",
        "\n",
        "def edits2(word): \n",
        "    \"All edits that are two edits away from `word`.\"\n",
        "    return (e2 for e1 in edits1(word) for e2 in edits1(e1))\n",
        "\n",
        "def singlify(word):\n",
        "    return \"\".join([letter for i,letter in enumerate(word) if i == 0 or letter != word[i-1]])"
      ],
      "execution_count": 125,
      "outputs": [
        {
          "output_type": "stream",
          "text": [
            "CPU times: user 807 ms, sys: 0 ns, total: 807 ms\n",
            "Wall time: 807 ms\n"
          ],
          "name": "stdout"
        }
      ]
    },
    {
      "cell_type": "code",
      "metadata": {
        "id": "DMZ14EgIG0ao",
        "colab_type": "code",
        "colab": {}
      },
      "source": [
        "%%time\n",
        "max_features = 283759\n",
        "maxlen = 900\n",
        "\n",
        "word_index = token.word_index\n",
        "nb_words = min(max_features, len(word_index))\n",
        "embedding_matrix = np.zeros((nb_words,501))\n",
        "\n",
        "something_tw = embeddings_index_tw.get(\"something\")\n",
        "something_ft = embeddings_index_ft.get(\"something\")\n",
        "\n",
        "something = np.zeros((501,))\n",
        "something[:300,] = something_ft\n",
        "something[300:500,] = something_tw\n",
        "something[500,] = 0\n",
        "gc.collect()\n",
        "\n",
        "def all_caps(word):\n",
        "    return len(word) > 1 and word.isupper()\n",
        "\n",
        "def embed_word(embedding_matrix,i,word):\n",
        "    embedding_vector_ft = embeddings_index_ft.get(word)\n",
        "    gc.collect()\n",
        "    if embedding_vector_ft is not None: \n",
        "        if all_caps(word):\n",
        "            last_value = np.array([1])\n",
        "        else:\n",
        "            last_value = np.array([0])\n",
        "        embedding_matrix[i,:300] = embedding_vector_ft\n",
        "        embedding_matrix[i,500] = last_value\n",
        "        embedding_vector_tw = embeddings_index_tw.get(word)\n",
        "        if embedding_vector_tw is not None:\n",
        "            embedding_matrix[i,300:500] = embedding_vector_tw\n",
        "\n",
        "            \n",
        "# Fasttext vector is used by itself if there is no glove vector but not the other way around.\n",
        "for word, i in word_index.items():\n",
        "    gc.collect()\n",
        "    if i >= max_features: continue\n",
        "        \n",
        "    if embeddings_index_ft.get(word) is not None:\n",
        "        embed_word(embedding_matrix,i,word)\n",
        "    else:\n",
        "        \n",
        "        if len(word) > 20:\n",
        "            embedding_matrix[i] = something\n",
        "        else:\n",
        "            word2 = correction(word)\n",
        "            if embeddings_index_ft.get(word2) is not None:\n",
        "                embed_word(embedding_matrix,i,word2)\n",
        "            else:\n",
        "                word2 = correction(singlify(word))\n",
        "                if embeddings_index_ft.get(word2) is not None:\n",
        "                    embed_word(embedding_matrix,i,word2)\n",
        "                else:\n",
        "                    embedding_matrix[i] = something "
      ],
      "execution_count": 0,
      "outputs": []
    },
    {
      "cell_type": "code",
      "metadata": {
        "id": "UlNM55UllzCO",
        "colab_type": "code",
        "colab": {}
      },
      "source": [
        "import pickle\n",
        "with open('combined_embeddings.pickle', ‘wb’) as f:\n",
        "    pickle.dump(embedding_matrix, f)\n"
      ],
      "execution_count": 0,
      "outputs": []
    },
    {
      "cell_type": "code",
      "metadata": {
        "id": "af7vUlHQmJXG",
        "colab_type": "code",
        "colab": {}
      },
      "source": [
        "with open('combined_embeddings.pickle', ‘rb’) as f:\n",
        "    embedding_matrix = pickle.load(f)"
      ],
      "execution_count": 0,
      "outputs": []
    },
    {
      "cell_type": "markdown",
      "metadata": {
        "id": "ZDB5Az41Fr6k",
        "colab_type": "text"
      },
      "source": [
        "### **Re-Training using new Diverse Embeddings**"
      ]
    },
    {
      "cell_type": "code",
      "metadata": {
        "id": "4OHiwxIRDvyb",
        "colab_type": "code",
        "colab": {}
      },
      "source": [
        "# model_input same for each model\n",
        "model_input = Input(shape=(maxlen,), dtype='int32')\n",
        "embed_size = 501\n"
      ],
      "execution_count": 0,
      "outputs": []
    },
    {
      "cell_type": "markdown",
      "metadata": {
        "id": "rAih6-3vTkVU",
        "colab_type": "text"
      },
      "source": [
        "We will use the same models from the first round, the only change in these implementations will be a common **input layer** and a new **embedding layer** with diverse embeddings."
      ]
    },
    {
      "cell_type": "code",
      "metadata": {
        "id": "7zZ3jV3yUB0p",
        "colab_type": "code",
        "colab": {}
      },
      "source": [
        "#model1 Pooled GRU with CNN Model\n",
        "def get_model1(model_input):\n",
        "  \n",
        "  embedding_layer = Embedding(max_features, embed_size, weights=[embedding_matrix], trainable=False)(inp)\n",
        "  x = embedding_layer(model_input)\n",
        "  x1 = SpatialDropout1D(0.2)(x)\n",
        "\n",
        "  x = Bidirectional(GRU(128, return_sequences=True))(x1)\n",
        "  x = Conv1D(64, kernel_size = 2, padding = \"valid\", kernel_initializer = \"he_uniform\")(x)\n",
        "\n",
        "  y = Bidirectional(GRU(128, return_sequences=True))(x1)\n",
        "  y = Conv1D(64, kernel_size = 2, padding = \"valid\", kernel_initializer = \"he_uniform\")(y)\n",
        "\n",
        "  avg_pool1 = GlobalAveragePooling1D()(x)\n",
        "  max_pool1 = GlobalMaxPooling1D()(x)\n",
        "\n",
        "  avg_pool2 = GlobalAveragePooling1D()(y)\n",
        "  max_pool2 = GlobalMaxPooling1D()(y)\n",
        "\n",
        "  x = concatenate([avg_pool1, max_pool1, avg_pool2, max_pool2])\n",
        "\n",
        "  preds = Dense(6, activation=\"sigmoid\")(x)\n",
        "  model = Model(model_input, preds)\n",
        "  model.compile(loss='binary_crossentropy',optimizer=Adam(lr=1e-3),metrics=['accuracy'])\n",
        "\n",
        "  return model"
      ],
      "execution_count": 0,
      "outputs": []
    },
    {
      "cell_type": "code",
      "metadata": {
        "id": "Pk0tNCkpDkFY",
        "colab_type": "code",
        "colab": {}
      },
      "source": [
        "#model2 Pooled CNN Complex Model\n",
        "def get_model2(model_input):   \n",
        "    filter_nums = 300\n",
        "    \n",
        "    embedding_layer = Embedding(max_features, embed_size, weights=[embedding_matrix], trainable=False)(inp)\n",
        "    embedded_sequences = embedding_layer(model_input)\n",
        "    embedded_sequences = SpatialDropout1D(0.25)(embedded_sequences)\n",
        "\n",
        "    conv_0 = Conv1D(filter_nums, 1, kernel_initializer=\"normal\", padding=\"valid\", activation=\"relu\")(embedded_sequences)\n",
        "    conv_1 = Conv1D(filter_nums, 2, kernel_initializer=\"normal\", padding=\"valid\", activation=\"relu\")(embedded_sequences)\n",
        "    conv_2 = Conv1D(filter_nums, 3, kernel_initializer=\"normal\", padding=\"valid\", activation=\"relu\")(embedded_sequences)\n",
        "    conv_3 = Conv1D(filter_nums, 4, kernel_initializer=\"normal\", padding=\"valid\", activation=\"relu\")(embedded_sequences)\n",
        "\n",
        "    attn_0 = AttentionWeightedAverage()(conv_0)\n",
        "    avg_0 = GlobalAveragePooling1D()(conv_0)\n",
        "    maxpool_0 = GlobalMaxPooling1D()(conv_0)\n",
        "\n",
        "    maxpool_1 = GlobalMaxPooling1D()(conv_1)\n",
        "    attn_1 = AttentionWeightedAverage()(conv_1)\n",
        "    avg_1 = GlobalAveragePooling1D()(conv_1)\n",
        "\n",
        "    maxpool_2 = GlobalMaxPooling1D()(conv_2)\n",
        "    attn_2 = AttentionWeightedAverage()(conv_2)\n",
        "    avg_2 = GlobalAveragePooling1D()(conv_2)\n",
        "\n",
        "    maxpool_3 = GlobalMaxPooling1D()(conv_3)\n",
        "    attn_3 = AttentionWeightedAverage()(conv_3)\n",
        "    avg_3 = GlobalAveragePooling1D()(conv_3)\n",
        "\n",
        "    v0_col = concatenate([maxpool_0, maxpool_1, maxpool_2, maxpool_3], axis=1)\n",
        "    v1_col = concatenate([attn_0, attn_1, attn_2, attn_3], axis=1)\n",
        "    v2_col = concatenate([avg_1, avg_2, avg_0, avg_3], axis=1)\n",
        "    merged_tensor = concatenate([v0_col, v1_col, v2_col], axis=1)\n",
        "    output = Dropout(0.7)(merged_tensor)\n",
        "    output = Dense(units=144)(output)\n",
        "    output = Activation('relu')(output)\n",
        "    output = Dense(units=6, activation='sigmoid')(output)\n",
        "\n",
        "    model = Model(inputs=model_input, outputs=output)\n",
        "    adam_optimizer = optimizers.Adam(lr=1e-3, decay=1e-6)\n",
        "    model.compile(loss='binary_crossentropy', optimizer=adam_optimizer, metrics=['accuracy'])\n",
        "\n",
        "    return model"
      ],
      "execution_count": 0,
      "outputs": []
    },
    {
      "cell_type": "code",
      "metadata": {
        "id": "u23pYOc3U223",
        "colab_type": "code",
        "colab": {}
      },
      "source": [
        "#Model3 Pooled RNN Model\n",
        "def get_model3(model_input):\n",
        "    recurrent_units = 60\n",
        "    \n",
        "    embedding_layer = Embedding(max_features, embed_size, weights=[embedding_matrix], trainable=False)(inp)\n",
        "    embedded_sequences = embedding_layer(model_input)\n",
        "    embedding_layer = SpatialDropout1D(0.25)(embedded_sequences)\n",
        "\n",
        "    rnn_1 = Bidirectional(GRU(recurrent_units, return_sequences=True))(embedding_layer)\n",
        "    rnn_2 = Bidirectional(GRU(recurrent_units, return_sequences=True))(rnn_1)\n",
        "    x = concatenate([rnn_1, rnn_2], axis=2)\n",
        "\n",
        "    last = Lambda(lambda t: t[:, -1], name='last')(x)\n",
        "    maxpool = GlobalMaxPooling1D()(x)\n",
        "    attn = AttentionWeightedAverage()(x)\n",
        "    average = GlobalAveragePooling1D()(x)\n",
        "\n",
        "    all_views = concatenate([last, maxpool, average, attn], axis=1)\n",
        "    x = Dropout(0.5)(all_views)\n",
        "    x = Dense(144, activation=\"relu\")(x)\n",
        "    output_layer = Dense(units=6, activation=\"sigmoid\")(x)\n",
        "\n",
        "    model = Model(inputs=model_input, outputs=output_layer)\n",
        "    adam_optimizer = optimizers.Adam(lr=1e-3, decay=1e-6, clipvalue=5)\n",
        "    model.compile(loss='binary_crossentropy', optimizer=adam_optimizer, metrics=['accuracy'])\n",
        "    return model"
      ],
      "execution_count": 0,
      "outputs": []
    },
    {
      "cell_type": "code",
      "metadata": {
        "id": "JKJR6vAMVbUe",
        "colab_type": "code",
        "colab": {}
      },
      "source": [
        "#Model4 KMax Text CNN\n",
        "def get_model4(model_input):\n",
        "    \n",
        "    embedding_layer = Embedding(max_features, embed_size, weights=[embedding_matrix], trainable=False)(inp)\n",
        "\n",
        "    filter_nums = 180\n",
        "    drop = 0.6\n",
        "\n",
        "    \n",
        "    embedded_sequences = embedding_layer(model_input)\n",
        "    embedded_sequences = SpatialDropout1D(0.2)(embedded_sequences)\n",
        "\n",
        "    conv_0 = Conv1D(filter_nums, 1, kernel_initializer=\"normal\", padding=\"valid\", activation=\"relu\")(embedded_sequences)\n",
        "    conv_1 = Conv1D(filter_nums, 2, kernel_initializer=\"normal\", padding=\"valid\", activation=\"relu\")(embedded_sequences)\n",
        "    conv_2 = Conv1D(filter_nums, 3, kernel_initializer=\"normal\", padding=\"valid\", activation=\"relu\")(embedded_sequences)\n",
        "    conv_3 = Conv1D(filter_nums, 4, kernel_initializer=\"normal\", padding=\"valid\", activation=\"relu\")(embedded_sequences)\n",
        "\n",
        "    maxpool_0 = KMaxPooling(k=3)(conv_0)\n",
        "    maxpool_1 = KMaxPooling(k=3)(conv_1)\n",
        "    maxpool_2 = KMaxPooling(k=3)(conv_2)\n",
        "    maxpool_3 = KMaxPooling(k=3)(conv_3)\n",
        "\n",
        "    merged_tensor = concatenate([maxpool_0, maxpool_1, maxpool_2, maxpool_3], axis=1)\n",
        "    output = Dropout(drop)(merged_tensor)\n",
        "    output = Dense(units=144, activation='relu')(output)\n",
        "    output = Dense(units=6, activation='sigmoid')(output)\n",
        "\n",
        "    model = Model(inputs=model_input, outputs=output)\n",
        "    adam_optimizer = optimizers.Adam(lr=1e-3, decay=1e-7)\n",
        "    model.compile(loss='binary_crossentropy', optimizer=adam_optimizer, metrics=['accuracy'])\n",
        "    return model"
      ],
      "execution_count": 0,
      "outputs": []
    },
    {
      "cell_type": "code",
      "metadata": {
        "id": "sib774H3aW8S",
        "colab_type": "code",
        "colab": {}
      },
      "source": [
        "batch_size = 128\n",
        "epochs = 5\n",
        "\n",
        "model1 = get_model1(model_input)\n",
        "\n",
        "# Use stratified sampling again\n",
        "X_tra, y_tra, X_val, y_val = iterative_train_test_split(x_train, y_train, test_size=0.1)\n",
        "\n",
        "checkpoint = ModelCheckpoint(\"model1.hdf5\", monitor='val_accuracy', verbose=1, save_best_only=True, mode='max')\n",
        "early = EarlyStopping(monitor=\"val_accuracy\", mode=\"max\", patience=5)\n",
        "ra_val = RocAucEvaluation(validation_data=(X_val, y_val), interval = 1)\n",
        "callbacks_list = [ra_val,checkpoint, early]\n",
        "\n",
        "model1history = model1.fit(X_tra, y_tra, batch_size=batch_size, epochs=epochs, validation_data=(X_val, y_val),callbacks = callbacks_list,verbose=1)\n",
        "\n",
        "model1.load_weights(\"model1.hdf5\")\n",
        "y_pred = model.predict(x_test,batch_size=1024,verbose=1)\n",
        "\n",
        "predict_scores(y_pred)"
      ],
      "execution_count": 0,
      "outputs": []
    },
    {
      "cell_type": "code",
      "metadata": {
        "id": "B6XpUXmSfDLj",
        "colab_type": "code",
        "colab": {}
      },
      "source": [
        "batch_size = 128\n",
        "epochs = 10\n",
        "\n",
        "model2 = get_model2(model_input)\n",
        "\n",
        "# Use stratified sampling again\n",
        "X_tra, y_tra, X_val, y_val = iterative_train_test_split(x_train, y_train, test_size=0.1)\n",
        "\n",
        "checkpoint = ModelCheckpoint(\"model2.hdf5\", monitor='val_accuracy', verbose=1, save_best_only=True, mode='max')\n",
        "early = EarlyStopping(monitor=\"val_accuracy\", mode=\"max\", patience=5)\n",
        "ra_val = RocAucEvaluation(validation_data=(X_val, y_val), interval = 1)\n",
        "callbacks_list = [ra_val,checkpoint, early]\n",
        "\n",
        "model2history = model2.fit(X_tra, y_tra, batch_size=batch_size, epochs=epochs, validation_data=(X_val, y_val),callbacks = callbacks_list,verbose=1)\n",
        "\n",
        "model2.load_weights(\"model2.hdf5\")\n",
        "y_pred = model.predict(x_test,batch_size=1024,verbose=1)\n",
        "\n",
        "predict_scores(y_pred)"
      ],
      "execution_count": 0,
      "outputs": []
    },
    {
      "cell_type": "code",
      "metadata": {
        "id": "iqaNk7mCagp7",
        "colab_type": "code",
        "colab": {}
      },
      "source": [
        "batch_size = 128\n",
        "epochs = 5\n",
        "\n",
        "model3 = get_model3(model_input)\n",
        "\n",
        "# Use stratified sampling again\n",
        "X_tra, y_tra, X_val, y_val = iterative_train_test_split(x_train, y_train, test_size=0.1)\n",
        "\n",
        "checkpoint = ModelCheckpoint(\"model3.hdf5\", monitor='val_accuracy', verbose=1, save_best_only=True, mode='max')\n",
        "early = EarlyStopping(monitor=\"val_accuracy\", mode=\"max\", patience=5)\n",
        "ra_val = RocAucEvaluation(validation_data=(X_val, y_val), interval = 1)\n",
        "callbacks_list = [ra_val,checkpoint, early]\n",
        "\n",
        "model3history = model3.fit(X_tra, y_tra, batch_size=batch_size, epochs=epochs, validation_data=(X_val, y_val),callbacks = callbacks_list,verbose=1)\n",
        "\n",
        "model3.load_weights(\"model3.hdf5\")\n",
        "y_pred = model.predict(x_test,batch_size=1024,verbose=1)\n",
        "\n",
        "predict_scores(y_pred)"
      ],
      "execution_count": 0,
      "outputs": []
    },
    {
      "cell_type": "code",
      "metadata": {
        "id": "nCJY2G8UFNmI",
        "colab_type": "code",
        "colab": {}
      },
      "source": [
        "batch_size = 128\n",
        "epochs = 10\n",
        "\n",
        "model4 = get_model4(model_input)\n",
        "\n",
        "# Use stratified sampling again\n",
        "X_tra, y_tra, X_val, y_val = iterative_train_test_split(x_train, y_train, test_size=0.1)\n",
        "\n",
        "checkpoint = ModelCheckpoint(\"model4.hdf5\", monitor='val_accuracy', verbose=1, save_best_only=True, mode='max')\n",
        "early = EarlyStopping(monitor=\"val_accuracy\", mode=\"max\", patience=5)\n",
        "ra_val = RocAucEvaluation(validation_data=(X_val, y_val), interval = 1)\n",
        "callbacks_list = [ra_val,checkpoint, early]\n",
        "\n",
        "model4history = model4.fit(X_tra, y_tra, batch_size=batch_size, epochs=epochs, validation_data=(X_val, y_val),callbacks = callbacks_list,verbose=1)\n",
        "\n",
        "model4.load_weights(\"model4.hdf5\")\n",
        "y_pred = model.predict(x_test,batch_size=1024,verbose=1)\n",
        "\n",
        "predict_scores(y_pred)"
      ],
      "execution_count": 0,
      "outputs": []
    },
    {
      "cell_type": "code",
      "metadata": {
        "id": "3dF_d8JDs6Fz",
        "colab_type": "code",
        "colab": {}
      },
      "source": [
        "# Get training and test loss histories\n",
        "training_accuracy = model1history.history['accuracy']\n",
        "validation_accuracy = model1history.history['val_accuracy']\n",
        "# Create count of the number of epochs\n",
        "epoch_count_1 = range(1, len(training_accuracy) + 1)\n",
        "\n",
        "# Visualize loss history\n",
        "plt.subplot(2, 2, 1)\n",
        "plt.plot(epoch_count_1, training_accuracy, 'r--')\n",
        "plt.plot(epoch_count_1, validation_accuracy, 'b-')\n",
        "plt.legend(['Training Accuracy', 'Validation Accuracy'])\n",
        "plt.xlabel('Epoch')\n",
        "plt.ylabel('Accuracy')\n",
        "\n",
        "# Get training and test loss histories\n",
        "training_loss = model1history.history['loss']\n",
        "validation_loss = model1history.history['val_loss']\n",
        "\n",
        "# Create count of the number of epochs\n",
        "epoch_count_2 = range(1, len(training_loss) + 1)\n",
        "\n",
        "# Visualize loss history\n",
        "plt.subplot(2, 2, 2)\n",
        "plt.plot(epoch_count_2, training_loss, 'r--')\n",
        "plt.plot(epoch_count_2, validation_loss, 'b-')\n",
        "plt.legend(['Training Loss', 'Validation Loss'])\n",
        "plt.xlabel('Epoch')\n",
        "plt.ylabel('Loss')\n",
        "\n",
        "# Get training and test loss histories\n",
        "training_accuracy = model2history.history['accuracy']\n",
        "validation_accuracy = model2history.history['val_accuracy']\n",
        "# Create count of the number of epochs\n",
        "epoch_count_1 = range(1, len(training_accuracy) + 1)\n",
        "\n",
        "# Visualize loss history\n",
        "plt.subplot(2, 2, 3)\n",
        "plt.plot(epoch_count_1, training_accuracy, 'r--')\n",
        "plt.plot(epoch_count_1, validation_accuracy, 'b-')\n",
        "plt.legend(['Training Accuracy', 'Validation Accuracy'])\n",
        "plt.xlabel('Epoch')\n",
        "plt.ylabel('Accuracy')\n",
        "\n",
        "# Get training and test loss histories\n",
        "training_loss = model2history.history['loss']\n",
        "validation_loss = model2history.history['val_loss']\n",
        "\n",
        "# Create count of the number of epochs\n",
        "epoch_count_2 = range(1, len(training_loss) + 1)\n",
        "\n",
        "# Visualize loss history\n",
        "plt.subplot(2, 2, 4)\n",
        "plt.plot(epoch_count_2, training_loss, 'r--')\n",
        "plt.plot(epoch_count_2, validation_loss, 'b-')\n",
        "plt.legend(['Training Loss', 'Validation Loss'])\n",
        "plt.xlabel('Epoch')\n",
        "plt.ylabel('Loss')\n",
        "\n",
        "\n",
        "\n",
        "\n",
        "plt.tight_layout()\n",
        "\n",
        "plt.show();"
      ],
      "execution_count": 0,
      "outputs": []
    },
    {
      "cell_type": "markdown",
      "metadata": {
        "id": "EQlKkS4WHFLr",
        "colab_type": "text"
      },
      "source": [
        "### **Ensemble**\n",
        "\n",
        "In statistics and machine learning, ensemble methods use multiple learning algorithms to obtain better predictive performance than could be obtained from any of the constituent learning algorithms alone. This is referenced from [Popular Ensemble Methods: An Empirical Study](https://arxiv.org/abs/1106.0257).\n",
        "\n",
        "If you look at results of a top machine learning competitions on Kaggle, you will most likely find that the top results are achieved by an ensemble of models rather than a single model.\n",
        "\n",
        "There are many different types of ensembles; stacking is one of them. It is one of the more general types and can theoretically represent any other ensemble technique. Stacking involves training a learning algorithm to combine the predictions of several other learning algorithms. In this project, We will use one of the simplest forms of Stacking, which involves taking an average of outputs of models in the ensemble. Here we have already trained our models, so we will use those trained models, load their weights and take the average of their outputs.\n",
        "\n",
        "For ensemble, I will use the top three performing models."
      ]
    },
    {
      "cell_type": "code",
      "metadata": {
        "id": "oRxLOsb2tiOB",
        "colab_type": "code",
        "colab": {}
      },
      "source": [
        "model2.load_weights(\"model2.hdf5\")\n",
        "model3.load_weights(\"model3.hdf5\")\n",
        "model4.load_weights(\"model4.hdf5\")\n",
        "\n",
        "models = [model2, model3, model4]"
      ],
      "execution_count": 0,
      "outputs": []
    },
    {
      "cell_type": "code",
      "metadata": {
        "id": "FVZ9HjJaHnl-",
        "colab_type": "code",
        "colab": {}
      },
      "source": [
        "from keras.layers import Average\n",
        "def ensemble(models, model_input):\n",
        "    \n",
        "    outputs = [model.outputs[0] for model in models]\n",
        "    y = Average()(outputs)\n",
        "    \n",
        "    model = Model(model_input, y, name='ensemble')\n",
        "    \n",
        "    return model"
      ],
      "execution_count": 0,
      "outputs": []
    },
    {
      "cell_type": "code",
      "metadata": {
        "id": "khv8yQXVH2iD",
        "colab_type": "code",
        "colab": {}
      },
      "source": [
        "ensemble_model = ensemble(models, model_input)\n"
      ],
      "execution_count": 0,
      "outputs": []
    },
    {
      "cell_type": "code",
      "metadata": {
        "id": "OeoVBlW6KQiW",
        "colab_type": "code",
        "colab": {}
      },
      "source": [
        "y_pred = ensemble_model.predict(x_test,batch_size=1024,verbose=1)\n",
        "predict_scores(y_pred)"
      ],
      "execution_count": 0,
      "outputs": []
    },
    {
      "cell_type": "code",
      "metadata": {
        "id": "n8TukfjbXcvn",
        "colab_type": "code",
        "colab": {}
      },
      "source": [
        ""
      ],
      "execution_count": 0,
      "outputs": []
    }
  ]
}